{
 "cells": [
  {
   "cell_type": "markdown",
   "id": "fa5c3f94-23ae-4cf7-b8c3-3316eef6b59a",
   "metadata": {},
   "source": [
    "### First"
   ]
  },
  {
   "cell_type": "markdown",
   "id": "fa4a6c6e-41eb-4fb8-bf1f-5fed6c7ee299",
   "metadata": {},
   "source": [
    "I think I trained the BiLSTM with a huge amount of epochs, probably leading to overfitting\n",
    "\n",
    "0.833 score"
   ]
  },
  {
   "cell_type": "markdown",
   "id": "463d5e84-a3dd-42b8-8ce9-809dcbf3df84",
   "metadata": {},
   "source": [
    "### Second"
   ]
  },
  {
   "cell_type": "markdown",
   "id": "558adff4-b28e-41fc-9235-ce922f3b449d",
   "metadata": {},
   "source": [
    "0.852 score after more hyperparameter tuning, I think BiLSTM might just be limited"
   ]
  }
 ],
 "metadata": {
  "kernelspec": {
   "display_name": "Python 3 (ipykernel)",
   "language": "python",
   "name": "python3"
  },
  "language_info": {
   "codemirror_mode": {
    "name": "ipython",
    "version": 3
   },
   "file_extension": ".py",
   "mimetype": "text/x-python",
   "name": "python",
   "nbconvert_exporter": "python",
   "pygments_lexer": "ipython3",
   "version": "3.9.21"
  }
 },
 "nbformat": 4,
 "nbformat_minor": 5
}
