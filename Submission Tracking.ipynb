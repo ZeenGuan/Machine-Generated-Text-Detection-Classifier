{
 "cells": [
  {
   "cell_type": "markdown",
   "id": "fa5c3f94-23ae-4cf7-b8c3-3316eef6b59a",
   "metadata": {},
   "source": [
    "# First"
   ]
  },
  {
   "cell_type": "markdown",
   "id": "fa4a6c6e-41eb-4fb8-bf1f-5fed6c7ee299",
   "metadata": {},
   "source": [
    "I think I trained the BiLSTM with a huge amount of epochs, probably leading to overfitting\n",
    "\n",
    "0.833 score"
   ]
  }
 ],
 "metadata": {
  "kernelspec": {
   "display_name": "Python 3 (ipykernel)",
   "language": "python",
   "name": "python3"
  },
  "language_info": {
   "codemirror_mode": {
    "name": "ipython",
    "version": 3
   },
   "file_extension": ".py",
   "mimetype": "text/x-python",
   "name": "python",
   "nbconvert_exporter": "python",
   "pygments_lexer": "ipython3",
   "version": "3.9.21"
  }
 },
 "nbformat": 4,
 "nbformat_minor": 5
}
