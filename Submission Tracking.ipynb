{
 "cells": [
  {
   "cell_type": "markdown",
   "id": "fa5c3f94-23ae-4cf7-b8c3-3316eef6b59a",
   "metadata": {},
   "source": [
    "### First"
   ]
  },
  {
   "cell_type": "markdown",
   "id": "fa4a6c6e-41eb-4fb8-bf1f-5fed6c7ee299",
   "metadata": {},
   "source": [
    "I think I trained the BiLSTM with a huge amount of epochs, probably leading to overfitting\n",
    "\n",
    "0.833 score"
   ]
  },
  {
   "cell_type": "markdown",
   "id": "463d5e84-a3dd-42b8-8ce9-809dcbf3df84",
   "metadata": {},
   "source": [
    "### Second"
   ]
  },
  {
   "cell_type": "markdown",
   "id": "558adff4-b28e-41fc-9235-ce922f3b449d",
   "metadata": {},
   "source": [
    "0.852 score after more hyperparameter tuning, I think BiLSTM might just be limited"
   ]
  },
  {
   "cell_type": "markdown",
   "id": "5e238424-66f7-411e-919b-f9d3cdffaff9",
   "metadata": {},
   "source": [
    "### Third"
   ]
  },
  {
   "cell_type": "markdown",
   "id": "2f264613-04d7-4a74-8f4b-d317ad55209a",
   "metadata": {},
   "source": [
    "CNN with no hyperparameter tuning = 0.941\n",
    "\n",
    "embedding_dim = 128\n",
    "num_filters = 100\n",
    "filter_sizes = (3,4,5)\n",
    "dropout = 0.5\n",
    "lr = 0.0005\n",
    "batch_size = 32"
   ]
  },
  {
   "cell_type": "markdown",
   "id": "4cd8ad90-04b8-427f-9ce2-62ac555b90cd",
   "metadata": {},
   "source": [
    "### Fourth"
   ]
  },
  {
   "cell_type": "markdown",
   "id": "e74010f2-5450-48ad-a1d3-05ceb6b907f5",
   "metadata": {},
   "source": [
    "CNN with hyperparameter tuning\n",
    "\n",
    "cnn_final_config = {\n",
    "    'embedding_dim': 128,\n",
    "    'num_filters': 50,\n",
    "    'filter_sizes': (2, 3, 4),\n",
    "    'dropout': 0.5,\n",
    "    'lr': 0.001,\n",
    "    'batch_size':32\n",
    "}"
   ]
  }
 ],
 "metadata": {
  "kernelspec": {
   "display_name": "Python 3 (ipykernel)",
   "language": "python",
   "name": "python3"
  },
  "language_info": {
   "codemirror_mode": {
    "name": "ipython",
    "version": 3
   },
   "file_extension": ".py",
   "mimetype": "text/x-python",
   "name": "python",
   "nbconvert_exporter": "python",
   "pygments_lexer": "ipython3",
   "version": "3.9.21"
  }
 },
 "nbformat": 4,
 "nbformat_minor": 5
}
