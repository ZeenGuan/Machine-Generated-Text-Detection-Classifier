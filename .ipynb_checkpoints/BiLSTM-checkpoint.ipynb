{
 "cells": [
  {
   "cell_type": "markdown",
   "id": "7cac1c53-f89d-4e6a-bf26-2ed6e7559e2d",
   "metadata": {},
   "source": [
    "# Helper Functions"
   ]
  },
  {
   "cell_type": "code",
   "execution_count": 46,
   "id": "a9853195-1b24-4da0-b5cf-d037cb60e397",
   "metadata": {},
   "outputs": [],
   "source": [
    "import json\n",
    "import time\n",
    "import random\n",
    "from collections import defaultdict, Counter\n",
    "import itertools\n",
    "\n",
    "import pandas as pd\n",
    "import numpy as np\n",
    "from sklearn.metrics import accuracy_score\n",
    "\n",
    "import torch\n",
    "import torch.nn as nn\n",
    "from torch.nn.utils.rnn import pad_sequence\n",
    "from torch.utils.data import TensorDataset, DataLoader, WeightedRandomSampler\n",
    "import torch.nn.functional as F\n",
    "\n",
    "import matplotlib.pyplot as plt\n",
    "from tqdm import tqdm\n",
    "\n",
    "device = torch.device(\"cuda\" if torch.cuda.is_available() else \"cpu\")"
   ]
  },
  {
   "cell_type": "code",
   "execution_count": 26,
   "id": "50875035-c699-475c-a52e-2ac02e98047a",
   "metadata": {},
   "outputs": [],
   "source": [
    "def load_json_lines(path):\n",
    "    texts, labels = [], []\n",
    "    with open(path, 'r') as f:\n",
    "        for line in f:\n",
    "            ex = json.loads(line)\n",
    "            texts.append(torch.tensor(ex['text'], dtype=torch.long))\n",
    "            labels.append(ex['label'])\n",
    "    return texts, labels\n",
    "\n",
    "def load_test_json(path):\n",
    "    texts = []\n",
    "    with open(path, 'r') as f:\n",
    "        for line in f:\n",
    "            ex = json.loads(line)\n",
    "            texts.append(torch.tensor(ex['text'], dtype=torch.long))\n",
    "    return texts\n"
   ]
  },
  {
   "cell_type": "code",
   "execution_count": 27,
   "id": "1847007f-57b1-4280-849f-24ba122b9245",
   "metadata": {},
   "outputs": [],
   "source": [
    "def create_weighted_sampler(domains, labels):\n",
    "    from collections import Counter\n",
    "    from torch.utils.data import WeightedRandomSampler\n",
    "\n",
    "    bucket_keys = list(zip(domains, labels))\n",
    "    bucket_counts = Counter(bucket_keys)\n",
    "    bucket_weights = {k: 1.0 / count for k, count in bucket_counts.items()}\n",
    "    sample_weights = torch.DoubleTensor([bucket_weights[k] for k in bucket_keys])\n",
    "    sampler = WeightedRandomSampler(sample_weights, len(sample_weights), replacement=True)\n",
    "    return sampler"
   ]
  },
  {
   "cell_type": "code",
   "execution_count": 28,
   "id": "b31ee9ac-196a-4387-bafa-09f14a04e487",
   "metadata": {},
   "outputs": [],
   "source": [
    "def predict_with_confidence(model, dataloader, device=\"cpu\"):\n",
    "    model.eval()\n",
    "    all_probs = []\n",
    "\n",
    "    with torch.no_grad():\n",
    "        for (X_batch,) in dataloader:\n",
    "            X_batch = X_batch.to(device)\n",
    "            logits = model(X_batch)\n",
    "            probs = torch.sigmoid(logits).squeeze()\n",
    "\n",
    "            if probs.ndim == 0:\n",
    "                probs = probs.unsqueeze(0)\n",
    "\n",
    "            all_probs.append(probs.cpu())\n",
    "\n",
    "    all_probs = torch.cat(all_probs).numpy()\n",
    "    all_preds = (all_probs >= 0.5).astype(int).tolist()\n",
    "    return all_preds, all_probs.tolist()"
   ]
  },
  {
   "cell_type": "code",
   "execution_count": 29,
   "id": "60c6648c-1d23-433b-84c1-f72f348135b5",
   "metadata": {},
   "outputs": [],
   "source": [
    "def stratified_train_val_split(texts, labels, domains, val_size_per_group=60, random_state=42):\n",
    "    random.seed(random_state)\n",
    "    from collections import defaultdict\n",
    "    buckets = defaultdict(list)\n",
    "\n",
    "    for x, y, d in zip(texts, labels, domains):\n",
    "        buckets[(d, y)].append((x, y, d))\n",
    "\n",
    "    train, val = [], []\n",
    "    for key in buckets:\n",
    "        group = buckets[key]\n",
    "        random.shuffle(group)\n",
    "        n_val = min(val_size_per_group, len(group))\n",
    "        val.extend(group[:n_val])\n",
    "        train.extend(group[n_val:])\n",
    "\n",
    "    random.shuffle(train)\n",
    "    random.shuffle(val)\n",
    "    tx, ty, td = zip(*train)\n",
    "    vx, vy, vd = zip(*val)\n",
    "    return list(tx), list(ty), list(td), list(vx), list(vy), list(vd)\n"
   ]
  },
  {
   "cell_type": "code",
   "execution_count": 30,
   "id": "98469f1e-6c98-4ac8-aa48-7086aa0684e1",
   "metadata": {},
   "outputs": [],
   "source": [
    "import matplotlib.pyplot as plt\n",
    "from sklearn.metrics import accuracy_score\n",
    "\n",
    "def validate_return_acc(model, dataloader, all_labels, all_domains, device=\"cpu\"):\n",
    "    model.eval()\n",
    "    all_preds, all_targets = [], []\n",
    "\n",
    "    with torch.no_grad():\n",
    "        for X_batch, y_batch in dataloader:\n",
    "            X_batch, y_batch = X_batch.to(device), y_batch.to(device)\n",
    "            logits = model(X_batch)\n",
    "            probs = torch.sigmoid(logits).squeeze()\n",
    "            preds = (probs >= 0.5).float()\n",
    "            all_preds.extend(preds.cpu().numpy())\n",
    "            all_targets.extend(y_batch.cpu().numpy())\n",
    "\n",
    "    acc = accuracy_score(all_targets, all_preds)\n",
    "    print(f\"\\n✅ Validation Accuracy: {acc:.4f}\")\n",
    "    return acc\n",
    "\n",
    "def train_with_validation(model, train_loader, val_loader, val_labels, val_domains, epochs=5, lr=1e-3, device=\"cpu\"):\n",
    "    model = model.to(device)\n",
    "    optimizer = torch.optim.Adam(model.parameters(), lr=lr)\n",
    "\n",
    "    pos_weight = torch.tensor([\n",
    "        sum(1 for y in train_loader.dataset.tensors[1] if y == 0) /\n",
    "        sum(1 for y in train_loader.dataset.tensors[1] if y == 1)\n",
    "    ], device=device)\n",
    "    criterion = nn.BCEWithLogitsLoss(pos_weight=pos_weight)\n",
    "\n",
    "    val_accuracies = []\n",
    "\n",
    "    for epoch in range(1, epochs + 1):\n",
    "        model.train()\n",
    "        total_loss = 0\n",
    "        for X_batch, y_batch in tqdm(train_loader, desc=f\"📦 Epoch {epoch}\", leave=False):\n",
    "            X_batch, y_batch = X_batch.to(device), y_batch.to(device)\n",
    "            optimizer.zero_grad()\n",
    "            logits = model(X_batch)\n",
    "            loss = criterion(logits, y_batch)\n",
    "            loss.backward()\n",
    "            optimizer.step()\n",
    "            total_loss += loss.item()\n",
    "\n",
    "        print(f\"\\n📦 Epoch {epoch} — Train Loss: {total_loss / len(train_loader):.4f}\")\n",
    "        val_acc = validate_return_acc(model, val_loader, val_labels, val_domains, device)\n",
    "        val_accuracies.append(val_acc)\n",
    "\n",
    "    return val_accuracies\n"
   ]
  },
  {
   "cell_type": "markdown",
   "id": "9544037c-7235-42dd-9048-628bb08c2b73",
   "metadata": {},
   "source": [
    "# Data Loading"
   ]
  },
  {
   "cell_type": "code",
   "execution_count": null,
   "id": "1b76a0ab-3a10-496e-a6d2-4982233e79cf",
   "metadata": {},
   "outputs": [],
   "source": [
    "# Load full data\n",
    "d1_texts, d1_labels = load_json_lines(\"data/domain1_train_data.json\")\n",
    "d2_texts, d2_labels = load_json_lines(\"data/domain2_train_data.json\")\n",
    "texts = d1_texts + d2_texts\n",
    "labels = d1_labels + d2_labels\n",
    "domains = [0] * len(d1_labels) + [1] * len(d2_labels)\n",
    "\n",
    "# Stratified validation split\n",
    "train_texts, train_labels, train_domains, val_texts, val_labels, val_domains = stratified_train_val_split(\n",
    "    texts, labels, domains, val_size_per_group=60\n",
    ")\n",
    "\n",
    "# Tensorize training data\n",
    "X_train = pad_sequence(train_texts, batch_first=True, padding_value=0)\n",
    "y_train = torch.tensor(train_labels, dtype=torch.float32)\n",
    "train_dataset = TensorDataset(X_train, y_train)\n",
    "\n",
    "# Sampler for training\n",
    "sampler = create_weighted_sampler(train_domains, train_labels)\n",
    "train_loader = DataLoader(train_dataset, batch_size=64, sampler=sampler)\n",
    "\n",
    "# Tensorize validation\n",
    "X_val = pad_sequence(val_texts, batch_first=True, padding_value=0)\n",
    "y_val = torch.tensor(val_labels, dtype=torch.float32)\n",
    "val_dataset = TensorDataset(X_val, y_val)\n",
    "val_loader = DataLoader(val_dataset, batch_size=64, shuffle=False)"
   ]
  },
  {
   "cell_type": "markdown",
   "id": "33f8fd46-3fab-4154-8a06-5ef06369c07b",
   "metadata": {},
   "source": [
    "# BiLSTM Validation"
   ]
  },
  {
   "cell_type": "code",
   "execution_count": 25,
   "id": "3a89098f-0bd2-472f-89fa-4331df7eab59",
   "metadata": {},
   "outputs": [],
   "source": [
    "class BiLSTMClassifier(nn.Module):\n",
    "    def __init__(self, vocab_size, embedding_dim=128, hidden_dim=256, num_layers=2, dropout=0.3):\n",
    "        super().__init__()\n",
    "        self.embedding = nn.Embedding(vocab_size, embedding_dim, padding_idx=0)\n",
    "        self.lstm = nn.LSTM(embedding_dim, hidden_dim, num_layers, batch_first=True, bidirectional=True)\n",
    "        self.dropout = nn.Dropout(dropout)\n",
    "        self.fc = nn.Linear(hidden_dim * 2, 1)\n",
    "\n",
    "    def forward(self, x):\n",
    "        embeds = self.embedding(x)\n",
    "        _, (h_n, _) = self.lstm(embeds)\n",
    "        forward_final = h_n[-2]\n",
    "        backward_final = h_n[-1]\n",
    "        last_hidden = torch.cat((forward_final, backward_final), dim=1)\n",
    "        logits = self.fc(self.dropout(last_hidden))\n",
    "        return logits.squeeze()"
   ]
  },
  {
   "cell_type": "code",
   "execution_count": 32,
   "id": "0cac4eea-39ac-4786-9eef-3896bde02042",
   "metadata": {},
   "outputs": [],
   "source": [
    "# Define grid of values to test\n",
    "param_grid = {\n",
    "    'hidden_dim': [128, 256],\n",
    "    'num_layers': [1, 2],\n",
    "    'dropout': [0.3, 0.5],\n",
    "    'lr': [1e-3, 5e-4],\n",
    "    'batch_size': [32, 64],\n",
    "}\n",
    "\n",
    "# Expand grid\n",
    "param_combinations = list(itertools.product(*param_grid.values()))\n",
    "param_names = list(param_grid.keys())"
   ]
  },
  {
   "cell_type": "code",
   "execution_count": 33,
   "id": "69843dd8-a7e6-4d02-8104-c1c44388a8b3",
   "metadata": {
    "scrolled": true
   },
   "outputs": [
    {
     "name": "stdout",
     "output_type": "stream",
     "text": [
      "\n",
      "🔍 Testing config: {'hidden_dim': 128, 'num_layers': 1, 'dropout': 0.3, 'lr': 0.001, 'batch_size': 32}\n"
     ]
    },
    {
     "name": "stderr",
     "output_type": "stream",
     "text": [
      "                                                             "
     ]
    },
    {
     "name": "stdout",
     "output_type": "stream",
     "text": [
      "\n",
      "📦 Epoch 1 — Train Loss: 0.1465\n",
      "\n",
      "✅ Validation Accuracy: 0.7958\n"
     ]
    },
    {
     "name": "stderr",
     "output_type": "stream",
     "text": [
      "                                                             "
     ]
    },
    {
     "name": "stdout",
     "output_type": "stream",
     "text": [
      "\n",
      "📦 Epoch 2 — Train Loss: 0.0548\n",
      "\n",
      "✅ Validation Accuracy: 0.8500\n"
     ]
    },
    {
     "name": "stderr",
     "output_type": "stream",
     "text": [
      "                                                             "
     ]
    },
    {
     "name": "stdout",
     "output_type": "stream",
     "text": [
      "\n",
      "📦 Epoch 3 — Train Loss: 0.0187\n",
      "\n",
      "✅ Validation Accuracy: 0.8708\n"
     ]
    },
    {
     "name": "stderr",
     "output_type": "stream",
     "text": [
      "                                                             "
     ]
    },
    {
     "name": "stdout",
     "output_type": "stream",
     "text": [
      "\n",
      "📦 Epoch 4 — Train Loss: 0.0114\n",
      "\n",
      "✅ Validation Accuracy: 0.8708\n"
     ]
    },
    {
     "name": "stderr",
     "output_type": "stream",
     "text": [
      "                                                             "
     ]
    },
    {
     "name": "stdout",
     "output_type": "stream",
     "text": [
      "\n",
      "📦 Epoch 5 — Train Loss: 0.0121\n",
      "\n",
      "✅ Validation Accuracy: 0.8458\n"
     ]
    },
    {
     "name": "stderr",
     "output_type": "stream",
     "text": [
      "                                                             "
     ]
    },
    {
     "name": "stdout",
     "output_type": "stream",
     "text": [
      "\n",
      "📦 Epoch 6 — Train Loss: 0.0043\n",
      "\n",
      "✅ Validation Accuracy: 0.8667\n"
     ]
    },
    {
     "name": "stderr",
     "output_type": "stream",
     "text": [
      "                                                             "
     ]
    },
    {
     "name": "stdout",
     "output_type": "stream",
     "text": [
      "\n",
      "📦 Epoch 7 — Train Loss: 0.0081\n",
      "\n",
      "✅ Validation Accuracy: 0.8292\n"
     ]
    },
    {
     "name": "stderr",
     "output_type": "stream",
     "text": [
      "                                                             "
     ]
    },
    {
     "name": "stdout",
     "output_type": "stream",
     "text": [
      "\n",
      "📦 Epoch 8 — Train Loss: 0.0044\n",
      "\n",
      "✅ Validation Accuracy: 0.8583\n"
     ]
    },
    {
     "name": "stderr",
     "output_type": "stream",
     "text": [
      "                                                             "
     ]
    },
    {
     "name": "stdout",
     "output_type": "stream",
     "text": [
      "\n",
      "📦 Epoch 9 — Train Loss: 0.0028\n",
      "\n",
      "✅ Validation Accuracy: 0.8083\n"
     ]
    },
    {
     "name": "stderr",
     "output_type": "stream",
     "text": [
      "                                                              "
     ]
    },
    {
     "name": "stdout",
     "output_type": "stream",
     "text": [
      "\n",
      "📦 Epoch 10 — Train Loss: 0.0058\n",
      "\n",
      "✅ Validation Accuracy: 0.8042\n",
      "\n",
      "🔍 Testing config: {'hidden_dim': 128, 'num_layers': 1, 'dropout': 0.3, 'lr': 0.001, 'batch_size': 64}\n"
     ]
    },
    {
     "name": "stderr",
     "output_type": "stream",
     "text": [
      "                                                           "
     ]
    },
    {
     "name": "stdout",
     "output_type": "stream",
     "text": [
      "\n",
      "📦 Epoch 1 — Train Loss: 0.1850\n",
      "\n",
      "✅ Validation Accuracy: 0.6458\n"
     ]
    },
    {
     "name": "stderr",
     "output_type": "stream",
     "text": [
      "                                                           "
     ]
    },
    {
     "name": "stdout",
     "output_type": "stream",
     "text": [
      "\n",
      "📦 Epoch 2 — Train Loss: 0.0733\n",
      "\n",
      "✅ Validation Accuracy: 0.8833\n"
     ]
    },
    {
     "name": "stderr",
     "output_type": "stream",
     "text": [
      "                                                           "
     ]
    },
    {
     "name": "stdout",
     "output_type": "stream",
     "text": [
      "\n",
      "📦 Epoch 3 — Train Loss: 0.0327\n",
      "\n",
      "✅ Validation Accuracy: 0.8875\n"
     ]
    },
    {
     "name": "stderr",
     "output_type": "stream",
     "text": [
      "                                                           "
     ]
    },
    {
     "name": "stdout",
     "output_type": "stream",
     "text": [
      "\n",
      "📦 Epoch 4 — Train Loss: 0.0160\n",
      "\n",
      "✅ Validation Accuracy: 0.8750\n"
     ]
    },
    {
     "name": "stderr",
     "output_type": "stream",
     "text": [
      "                                                           "
     ]
    },
    {
     "name": "stdout",
     "output_type": "stream",
     "text": [
      "\n",
      "📦 Epoch 5 — Train Loss: 0.0098\n",
      "\n",
      "✅ Validation Accuracy: 0.8583\n"
     ]
    },
    {
     "name": "stderr",
     "output_type": "stream",
     "text": [
      "                                                           "
     ]
    },
    {
     "name": "stdout",
     "output_type": "stream",
     "text": [
      "\n",
      "📦 Epoch 6 — Train Loss: 0.0119\n",
      "\n",
      "✅ Validation Accuracy: 0.8250\n"
     ]
    },
    {
     "name": "stderr",
     "output_type": "stream",
     "text": [
      "                                                           "
     ]
    },
    {
     "name": "stdout",
     "output_type": "stream",
     "text": [
      "\n",
      "📦 Epoch 7 — Train Loss: 0.0050\n",
      "\n",
      "✅ Validation Accuracy: 0.8625\n"
     ]
    },
    {
     "name": "stderr",
     "output_type": "stream",
     "text": [
      "                                                           "
     ]
    },
    {
     "name": "stdout",
     "output_type": "stream",
     "text": [
      "\n",
      "📦 Epoch 8 — Train Loss: 0.0034\n",
      "\n",
      "✅ Validation Accuracy: 0.8458\n"
     ]
    },
    {
     "name": "stderr",
     "output_type": "stream",
     "text": [
      "                                                           "
     ]
    },
    {
     "name": "stdout",
     "output_type": "stream",
     "text": [
      "\n",
      "📦 Epoch 9 — Train Loss: 0.0022\n",
      "\n",
      "✅ Validation Accuracy: 0.8500\n"
     ]
    },
    {
     "name": "stderr",
     "output_type": "stream",
     "text": [
      "                                                            "
     ]
    },
    {
     "name": "stdout",
     "output_type": "stream",
     "text": [
      "\n",
      "📦 Epoch 10 — Train Loss: 0.0016\n",
      "\n",
      "✅ Validation Accuracy: 0.8333\n",
      "\n",
      "🔍 Testing config: {'hidden_dim': 128, 'num_layers': 1, 'dropout': 0.3, 'lr': 0.0005, 'batch_size': 32}\n"
     ]
    },
    {
     "name": "stderr",
     "output_type": "stream",
     "text": [
      "                                                             "
     ]
    },
    {
     "name": "stdout",
     "output_type": "stream",
     "text": [
      "\n",
      "📦 Epoch 1 — Train Loss: 0.1831\n",
      "\n",
      "✅ Validation Accuracy: 0.5875\n"
     ]
    },
    {
     "name": "stderr",
     "output_type": "stream",
     "text": [
      "                                                             "
     ]
    },
    {
     "name": "stdout",
     "output_type": "stream",
     "text": [
      "\n",
      "📦 Epoch 2 — Train Loss: 0.0836\n",
      "\n",
      "✅ Validation Accuracy: 0.8667\n"
     ]
    },
    {
     "name": "stderr",
     "output_type": "stream",
     "text": [
      "                                                             "
     ]
    },
    {
     "name": "stdout",
     "output_type": "stream",
     "text": [
      "\n",
      "📦 Epoch 3 — Train Loss: 0.0590\n",
      "\n",
      "✅ Validation Accuracy: 0.8000\n"
     ]
    },
    {
     "name": "stderr",
     "output_type": "stream",
     "text": [
      "                                                             "
     ]
    },
    {
     "name": "stdout",
     "output_type": "stream",
     "text": [
      "\n",
      "📦 Epoch 4 — Train Loss: 0.0273\n",
      "\n",
      "✅ Validation Accuracy: 0.8708\n"
     ]
    },
    {
     "name": "stderr",
     "output_type": "stream",
     "text": [
      "                                                             "
     ]
    },
    {
     "name": "stdout",
     "output_type": "stream",
     "text": [
      "\n",
      "📦 Epoch 5 — Train Loss: 0.0120\n",
      "\n",
      "✅ Validation Accuracy: 0.8708\n"
     ]
    },
    {
     "name": "stderr",
     "output_type": "stream",
     "text": [
      "                                                             "
     ]
    },
    {
     "name": "stdout",
     "output_type": "stream",
     "text": [
      "\n",
      "📦 Epoch 6 — Train Loss: 0.0088\n",
      "\n",
      "✅ Validation Accuracy: 0.8458\n"
     ]
    },
    {
     "name": "stderr",
     "output_type": "stream",
     "text": [
      "                                                             "
     ]
    },
    {
     "name": "stdout",
     "output_type": "stream",
     "text": [
      "\n",
      "📦 Epoch 7 — Train Loss: 0.0121\n",
      "\n",
      "✅ Validation Accuracy: 0.8708\n"
     ]
    },
    {
     "name": "stderr",
     "output_type": "stream",
     "text": [
      "                                                             "
     ]
    },
    {
     "name": "stdout",
     "output_type": "stream",
     "text": [
      "\n",
      "📦 Epoch 8 — Train Loss: 0.0051\n",
      "\n",
      "✅ Validation Accuracy: 0.8417\n"
     ]
    },
    {
     "name": "stderr",
     "output_type": "stream",
     "text": [
      "                                                             "
     ]
    },
    {
     "name": "stdout",
     "output_type": "stream",
     "text": [
      "\n",
      "📦 Epoch 9 — Train Loss: 0.0068\n",
      "\n",
      "✅ Validation Accuracy: 0.8583\n"
     ]
    },
    {
     "name": "stderr",
     "output_type": "stream",
     "text": [
      "                                                              "
     ]
    },
    {
     "name": "stdout",
     "output_type": "stream",
     "text": [
      "\n",
      "📦 Epoch 10 — Train Loss: 0.0038\n",
      "\n",
      "✅ Validation Accuracy: 0.8250\n",
      "\n",
      "🔍 Testing config: {'hidden_dim': 128, 'num_layers': 1, 'dropout': 0.3, 'lr': 0.0005, 'batch_size': 64}\n"
     ]
    },
    {
     "name": "stderr",
     "output_type": "stream",
     "text": [
      "                                                           "
     ]
    },
    {
     "name": "stdout",
     "output_type": "stream",
     "text": [
      "\n",
      "📦 Epoch 1 — Train Loss: 0.2231\n",
      "\n",
      "✅ Validation Accuracy: 0.5000\n"
     ]
    },
    {
     "name": "stderr",
     "output_type": "stream",
     "text": [
      "                                                           "
     ]
    },
    {
     "name": "stdout",
     "output_type": "stream",
     "text": [
      "\n",
      "📦 Epoch 2 — Train Loss: 0.1224\n",
      "\n",
      "✅ Validation Accuracy: 0.7542\n"
     ]
    },
    {
     "name": "stderr",
     "output_type": "stream",
     "text": [
      "                                                           "
     ]
    },
    {
     "name": "stdout",
     "output_type": "stream",
     "text": [
      "\n",
      "📦 Epoch 3 — Train Loss: 0.0681\n",
      "\n",
      "✅ Validation Accuracy: 0.8458\n"
     ]
    },
    {
     "name": "stderr",
     "output_type": "stream",
     "text": [
      "                                                           "
     ]
    },
    {
     "name": "stdout",
     "output_type": "stream",
     "text": [
      "\n",
      "📦 Epoch 4 — Train Loss: 0.0377\n",
      "\n",
      "✅ Validation Accuracy: 0.8708\n"
     ]
    },
    {
     "name": "stderr",
     "output_type": "stream",
     "text": [
      "                                                           "
     ]
    },
    {
     "name": "stdout",
     "output_type": "stream",
     "text": [
      "\n",
      "📦 Epoch 5 — Train Loss: 0.0205\n",
      "\n",
      "✅ Validation Accuracy: 0.8875\n"
     ]
    },
    {
     "name": "stderr",
     "output_type": "stream",
     "text": [
      "                                                           "
     ]
    },
    {
     "name": "stdout",
     "output_type": "stream",
     "text": [
      "\n",
      "📦 Epoch 6 — Train Loss: 0.0189\n",
      "\n",
      "✅ Validation Accuracy: 0.8500\n"
     ]
    },
    {
     "name": "stderr",
     "output_type": "stream",
     "text": [
      "                                                           "
     ]
    },
    {
     "name": "stdout",
     "output_type": "stream",
     "text": [
      "\n",
      "📦 Epoch 7 — Train Loss: 0.0097\n",
      "\n",
      "✅ Validation Accuracy: 0.8417\n"
     ]
    },
    {
     "name": "stderr",
     "output_type": "stream",
     "text": [
      "                                                           "
     ]
    },
    {
     "name": "stdout",
     "output_type": "stream",
     "text": [
      "\n",
      "📦 Epoch 8 — Train Loss: 0.0062\n",
      "\n",
      "✅ Validation Accuracy: 0.8292\n"
     ]
    },
    {
     "name": "stderr",
     "output_type": "stream",
     "text": [
      "                                                           "
     ]
    },
    {
     "name": "stdout",
     "output_type": "stream",
     "text": [
      "\n",
      "📦 Epoch 9 — Train Loss: 0.0048\n",
      "\n",
      "✅ Validation Accuracy: 0.8333\n"
     ]
    },
    {
     "name": "stderr",
     "output_type": "stream",
     "text": [
      "                                                            "
     ]
    },
    {
     "name": "stdout",
     "output_type": "stream",
     "text": [
      "\n",
      "📦 Epoch 10 — Train Loss: 0.0041\n",
      "\n",
      "✅ Validation Accuracy: 0.8125\n",
      "\n",
      "🔍 Testing config: {'hidden_dim': 128, 'num_layers': 1, 'dropout': 0.5, 'lr': 0.001, 'batch_size': 32}\n"
     ]
    },
    {
     "name": "stderr",
     "output_type": "stream",
     "text": [
      "                                                             "
     ]
    },
    {
     "name": "stdout",
     "output_type": "stream",
     "text": [
      "\n",
      "📦 Epoch 1 — Train Loss: 0.1527\n",
      "\n",
      "✅ Validation Accuracy: 0.7958\n"
     ]
    },
    {
     "name": "stderr",
     "output_type": "stream",
     "text": [
      "                                                             "
     ]
    },
    {
     "name": "stdout",
     "output_type": "stream",
     "text": [
      "\n",
      "📦 Epoch 2 — Train Loss: 0.0734\n",
      "\n",
      "✅ Validation Accuracy: 0.8542\n"
     ]
    },
    {
     "name": "stderr",
     "output_type": "stream",
     "text": [
      "                                                             "
     ]
    },
    {
     "name": "stdout",
     "output_type": "stream",
     "text": [
      "\n",
      "📦 Epoch 3 — Train Loss: 0.0249\n",
      "\n",
      "✅ Validation Accuracy: 0.8750\n"
     ]
    },
    {
     "name": "stderr",
     "output_type": "stream",
     "text": [
      "                                                             "
     ]
    },
    {
     "name": "stdout",
     "output_type": "stream",
     "text": [
      "\n",
      "📦 Epoch 4 — Train Loss: 0.0134\n",
      "\n",
      "✅ Validation Accuracy: 0.8417\n"
     ]
    },
    {
     "name": "stderr",
     "output_type": "stream",
     "text": [
      "                                                             "
     ]
    },
    {
     "name": "stdout",
     "output_type": "stream",
     "text": [
      "\n",
      "📦 Epoch 5 — Train Loss: 0.0070\n",
      "\n",
      "✅ Validation Accuracy: 0.8542\n"
     ]
    },
    {
     "name": "stderr",
     "output_type": "stream",
     "text": [
      "                                                             "
     ]
    },
    {
     "name": "stdout",
     "output_type": "stream",
     "text": [
      "\n",
      "📦 Epoch 6 — Train Loss: 0.0069\n",
      "\n",
      "✅ Validation Accuracy: 0.8500\n"
     ]
    },
    {
     "name": "stderr",
     "output_type": "stream",
     "text": [
      "                                                             "
     ]
    },
    {
     "name": "stdout",
     "output_type": "stream",
     "text": [
      "\n",
      "📦 Epoch 7 — Train Loss: 0.0034\n",
      "\n",
      "✅ Validation Accuracy: 0.8292\n"
     ]
    },
    {
     "name": "stderr",
     "output_type": "stream",
     "text": [
      "                                                             "
     ]
    },
    {
     "name": "stdout",
     "output_type": "stream",
     "text": [
      "\n",
      "📦 Epoch 8 — Train Loss: 0.0035\n",
      "\n",
      "✅ Validation Accuracy: 0.8292\n"
     ]
    },
    {
     "name": "stderr",
     "output_type": "stream",
     "text": [
      "                                                             "
     ]
    },
    {
     "name": "stdout",
     "output_type": "stream",
     "text": [
      "\n",
      "📦 Epoch 9 — Train Loss: 0.0026\n",
      "\n",
      "✅ Validation Accuracy: 0.8208\n"
     ]
    },
    {
     "name": "stderr",
     "output_type": "stream",
     "text": [
      "                                                              "
     ]
    },
    {
     "name": "stdout",
     "output_type": "stream",
     "text": [
      "\n",
      "📦 Epoch 10 — Train Loss: 0.0035\n",
      "\n",
      "✅ Validation Accuracy: 0.8542\n",
      "\n",
      "🔍 Testing config: {'hidden_dim': 128, 'num_layers': 1, 'dropout': 0.5, 'lr': 0.001, 'batch_size': 64}\n"
     ]
    },
    {
     "name": "stderr",
     "output_type": "stream",
     "text": [
      "                                                           "
     ]
    },
    {
     "name": "stdout",
     "output_type": "stream",
     "text": [
      "\n",
      "📦 Epoch 1 — Train Loss: 0.1879\n",
      "\n",
      "✅ Validation Accuracy: 0.6083\n"
     ]
    },
    {
     "name": "stderr",
     "output_type": "stream",
     "text": [
      "                                                           "
     ]
    },
    {
     "name": "stdout",
     "output_type": "stream",
     "text": [
      "\n",
      "📦 Epoch 2 — Train Loss: 0.0830\n",
      "\n",
      "✅ Validation Accuracy: 0.8458\n"
     ]
    },
    {
     "name": "stderr",
     "output_type": "stream",
     "text": [
      "                                                           "
     ]
    },
    {
     "name": "stdout",
     "output_type": "stream",
     "text": [
      "\n",
      "📦 Epoch 3 — Train Loss: 0.0447\n",
      "\n",
      "✅ Validation Accuracy: 0.8500\n"
     ]
    },
    {
     "name": "stderr",
     "output_type": "stream",
     "text": [
      "                                                           "
     ]
    },
    {
     "name": "stdout",
     "output_type": "stream",
     "text": [
      "\n",
      "📦 Epoch 4 — Train Loss: 0.0169\n",
      "\n",
      "✅ Validation Accuracy: 0.8625\n"
     ]
    },
    {
     "name": "stderr",
     "output_type": "stream",
     "text": [
      "                                                           "
     ]
    },
    {
     "name": "stdout",
     "output_type": "stream",
     "text": [
      "\n",
      "📦 Epoch 5 — Train Loss: 0.0118\n",
      "\n",
      "✅ Validation Accuracy: 0.8833\n"
     ]
    },
    {
     "name": "stderr",
     "output_type": "stream",
     "text": [
      "                                                           "
     ]
    },
    {
     "name": "stdout",
     "output_type": "stream",
     "text": [
      "\n",
      "📦 Epoch 6 — Train Loss: 0.0075\n",
      "\n",
      "✅ Validation Accuracy: 0.8417\n"
     ]
    },
    {
     "name": "stderr",
     "output_type": "stream",
     "text": [
      "                                                           "
     ]
    },
    {
     "name": "stdout",
     "output_type": "stream",
     "text": [
      "\n",
      "📦 Epoch 7 — Train Loss: 0.0099\n",
      "\n",
      "✅ Validation Accuracy: 0.8542\n"
     ]
    },
    {
     "name": "stderr",
     "output_type": "stream",
     "text": [
      "                                                           "
     ]
    },
    {
     "name": "stdout",
     "output_type": "stream",
     "text": [
      "\n",
      "📦 Epoch 8 — Train Loss: 0.0031\n",
      "\n",
      "✅ Validation Accuracy: 0.8292\n"
     ]
    },
    {
     "name": "stderr",
     "output_type": "stream",
     "text": [
      "                                                           "
     ]
    },
    {
     "name": "stdout",
     "output_type": "stream",
     "text": [
      "\n",
      "📦 Epoch 9 — Train Loss: 0.0079\n",
      "\n",
      "✅ Validation Accuracy: 0.8333\n"
     ]
    },
    {
     "name": "stderr",
     "output_type": "stream",
     "text": [
      "                                                            "
     ]
    },
    {
     "name": "stdout",
     "output_type": "stream",
     "text": [
      "\n",
      "📦 Epoch 10 — Train Loss: 0.0026\n",
      "\n",
      "✅ Validation Accuracy: 0.8333\n",
      "\n",
      "🔍 Testing config: {'hidden_dim': 128, 'num_layers': 1, 'dropout': 0.5, 'lr': 0.0005, 'batch_size': 32}\n"
     ]
    },
    {
     "name": "stderr",
     "output_type": "stream",
     "text": [
      "                                                             "
     ]
    },
    {
     "name": "stdout",
     "output_type": "stream",
     "text": [
      "\n",
      "📦 Epoch 1 — Train Loss: 0.1975\n",
      "\n",
      "✅ Validation Accuracy: 0.5667\n"
     ]
    },
    {
     "name": "stderr",
     "output_type": "stream",
     "text": [
      "                                                             "
     ]
    },
    {
     "name": "stdout",
     "output_type": "stream",
     "text": [
      "\n",
      "📦 Epoch 2 — Train Loss: 0.0920\n",
      "\n",
      "✅ Validation Accuracy: 0.8458\n"
     ]
    },
    {
     "name": "stderr",
     "output_type": "stream",
     "text": [
      "                                                             "
     ]
    },
    {
     "name": "stdout",
     "output_type": "stream",
     "text": [
      "\n",
      "📦 Epoch 3 — Train Loss: 0.0407\n",
      "\n",
      "✅ Validation Accuracy: 0.9042\n"
     ]
    },
    {
     "name": "stderr",
     "output_type": "stream",
     "text": [
      "                                                             "
     ]
    },
    {
     "name": "stdout",
     "output_type": "stream",
     "text": [
      "\n",
      "📦 Epoch 4 — Train Loss: 0.0240\n",
      "\n",
      "✅ Validation Accuracy: 0.8708\n"
     ]
    },
    {
     "name": "stderr",
     "output_type": "stream",
     "text": [
      "                                                             "
     ]
    },
    {
     "name": "stdout",
     "output_type": "stream",
     "text": [
      "\n",
      "📦 Epoch 5 — Train Loss: 0.0163\n",
      "\n",
      "✅ Validation Accuracy: 0.9125\n"
     ]
    },
    {
     "name": "stderr",
     "output_type": "stream",
     "text": [
      "                                                             "
     ]
    },
    {
     "name": "stdout",
     "output_type": "stream",
     "text": [
      "\n",
      "📦 Epoch 6 — Train Loss: 0.0088\n",
      "\n",
      "✅ Validation Accuracy: 0.8958\n"
     ]
    },
    {
     "name": "stderr",
     "output_type": "stream",
     "text": [
      "                                                             "
     ]
    },
    {
     "name": "stdout",
     "output_type": "stream",
     "text": [
      "\n",
      "📦 Epoch 7 — Train Loss: 0.0052\n",
      "\n",
      "✅ Validation Accuracy: 0.7875\n"
     ]
    },
    {
     "name": "stderr",
     "output_type": "stream",
     "text": [
      "                                                             "
     ]
    },
    {
     "name": "stdout",
     "output_type": "stream",
     "text": [
      "\n",
      "📦 Epoch 8 — Train Loss: 0.0051\n",
      "\n",
      "✅ Validation Accuracy: 0.8958\n"
     ]
    },
    {
     "name": "stderr",
     "output_type": "stream",
     "text": [
      "                                                             "
     ]
    },
    {
     "name": "stdout",
     "output_type": "stream",
     "text": [
      "\n",
      "📦 Epoch 9 — Train Loss: 0.0035\n",
      "\n",
      "✅ Validation Accuracy: 0.8083\n"
     ]
    },
    {
     "name": "stderr",
     "output_type": "stream",
     "text": [
      "                                                              "
     ]
    },
    {
     "name": "stdout",
     "output_type": "stream",
     "text": [
      "\n",
      "📦 Epoch 10 — Train Loss: 0.0029\n",
      "\n",
      "✅ Validation Accuracy: 0.8417\n",
      "\n",
      "🔍 Testing config: {'hidden_dim': 128, 'num_layers': 1, 'dropout': 0.5, 'lr': 0.0005, 'batch_size': 64}\n"
     ]
    },
    {
     "name": "stderr",
     "output_type": "stream",
     "text": [
      "                                                           "
     ]
    },
    {
     "name": "stdout",
     "output_type": "stream",
     "text": [
      "\n",
      "📦 Epoch 1 — Train Loss: 0.2270\n",
      "\n",
      "✅ Validation Accuracy: 0.5000\n"
     ]
    },
    {
     "name": "stderr",
     "output_type": "stream",
     "text": [
      "                                                           "
     ]
    },
    {
     "name": "stdout",
     "output_type": "stream",
     "text": [
      "\n",
      "📦 Epoch 2 — Train Loss: 0.1350\n",
      "\n",
      "✅ Validation Accuracy: 0.7083\n"
     ]
    },
    {
     "name": "stderr",
     "output_type": "stream",
     "text": [
      "                                                           "
     ]
    },
    {
     "name": "stdout",
     "output_type": "stream",
     "text": [
      "\n",
      "📦 Epoch 3 — Train Loss: 0.0795\n",
      "\n",
      "✅ Validation Accuracy: 0.8250\n"
     ]
    },
    {
     "name": "stderr",
     "output_type": "stream",
     "text": [
      "                                                           "
     ]
    },
    {
     "name": "stdout",
     "output_type": "stream",
     "text": [
      "\n",
      "📦 Epoch 4 — Train Loss: 0.0441\n",
      "\n",
      "✅ Validation Accuracy: 0.8500\n"
     ]
    },
    {
     "name": "stderr",
     "output_type": "stream",
     "text": [
      "                                                           "
     ]
    },
    {
     "name": "stdout",
     "output_type": "stream",
     "text": [
      "\n",
      "📦 Epoch 5 — Train Loss: 0.0265\n",
      "\n",
      "✅ Validation Accuracy: 0.8500\n"
     ]
    },
    {
     "name": "stderr",
     "output_type": "stream",
     "text": [
      "                                                           "
     ]
    },
    {
     "name": "stdout",
     "output_type": "stream",
     "text": [
      "\n",
      "📦 Epoch 6 — Train Loss: 0.0151\n",
      "\n",
      "✅ Validation Accuracy: 0.8292\n"
     ]
    },
    {
     "name": "stderr",
     "output_type": "stream",
     "text": [
      "                                                           "
     ]
    },
    {
     "name": "stdout",
     "output_type": "stream",
     "text": [
      "\n",
      "📦 Epoch 7 — Train Loss: 0.0069\n",
      "\n",
      "✅ Validation Accuracy: 0.8542\n"
     ]
    },
    {
     "name": "stderr",
     "output_type": "stream",
     "text": [
      "                                                           "
     ]
    },
    {
     "name": "stdout",
     "output_type": "stream",
     "text": [
      "\n",
      "📦 Epoch 8 — Train Loss: 0.0125\n",
      "\n",
      "✅ Validation Accuracy: 0.8125\n"
     ]
    },
    {
     "name": "stderr",
     "output_type": "stream",
     "text": [
      "                                                           "
     ]
    },
    {
     "name": "stdout",
     "output_type": "stream",
     "text": [
      "\n",
      "📦 Epoch 9 — Train Loss: 0.0051\n",
      "\n",
      "✅ Validation Accuracy: 0.8333\n"
     ]
    },
    {
     "name": "stderr",
     "output_type": "stream",
     "text": [
      "                                                            "
     ]
    },
    {
     "name": "stdout",
     "output_type": "stream",
     "text": [
      "\n",
      "📦 Epoch 10 — Train Loss: 0.0207\n",
      "\n",
      "✅ Validation Accuracy: 0.8250\n",
      "\n",
      "🔍 Testing config: {'hidden_dim': 128, 'num_layers': 2, 'dropout': 0.3, 'lr': 0.001, 'batch_size': 32}\n"
     ]
    },
    {
     "name": "stderr",
     "output_type": "stream",
     "text": [
      "                                                             "
     ]
    },
    {
     "name": "stdout",
     "output_type": "stream",
     "text": [
      "\n",
      "📦 Epoch 1 — Train Loss: 0.1309\n",
      "\n",
      "✅ Validation Accuracy: 0.8208\n"
     ]
    },
    {
     "name": "stderr",
     "output_type": "stream",
     "text": [
      "                                                             "
     ]
    },
    {
     "name": "stdout",
     "output_type": "stream",
     "text": [
      "\n",
      "📦 Epoch 2 — Train Loss: 0.0381\n",
      "\n",
      "✅ Validation Accuracy: 0.8542\n"
     ]
    },
    {
     "name": "stderr",
     "output_type": "stream",
     "text": [
      "                                                             "
     ]
    },
    {
     "name": "stdout",
     "output_type": "stream",
     "text": [
      "\n",
      "📦 Epoch 3 — Train Loss: 0.0155\n",
      "\n",
      "✅ Validation Accuracy: 0.8167\n"
     ]
    },
    {
     "name": "stderr",
     "output_type": "stream",
     "text": [
      "                                                             "
     ]
    },
    {
     "name": "stdout",
     "output_type": "stream",
     "text": [
      "\n",
      "📦 Epoch 4 — Train Loss: 0.0162\n",
      "\n",
      "✅ Validation Accuracy: 0.8417\n"
     ]
    },
    {
     "name": "stderr",
     "output_type": "stream",
     "text": [
      "                                                             "
     ]
    },
    {
     "name": "stdout",
     "output_type": "stream",
     "text": [
      "\n",
      "📦 Epoch 5 — Train Loss: 0.0039\n",
      "\n",
      "✅ Validation Accuracy: 0.8375\n"
     ]
    },
    {
     "name": "stderr",
     "output_type": "stream",
     "text": [
      "                                                             "
     ]
    },
    {
     "name": "stdout",
     "output_type": "stream",
     "text": [
      "\n",
      "📦 Epoch 6 — Train Loss: 0.0038\n",
      "\n",
      "✅ Validation Accuracy: 0.8292\n"
     ]
    },
    {
     "name": "stderr",
     "output_type": "stream",
     "text": [
      "                                                             "
     ]
    },
    {
     "name": "stdout",
     "output_type": "stream",
     "text": [
      "\n",
      "📦 Epoch 7 — Train Loss: 0.0035\n",
      "\n",
      "✅ Validation Accuracy: 0.8250\n"
     ]
    },
    {
     "name": "stderr",
     "output_type": "stream",
     "text": [
      "                                                             "
     ]
    },
    {
     "name": "stdout",
     "output_type": "stream",
     "text": [
      "\n",
      "📦 Epoch 8 — Train Loss: 0.0092\n",
      "\n",
      "✅ Validation Accuracy: 0.8250\n"
     ]
    },
    {
     "name": "stderr",
     "output_type": "stream",
     "text": [
      "                                                             "
     ]
    },
    {
     "name": "stdout",
     "output_type": "stream",
     "text": [
      "\n",
      "📦 Epoch 9 — Train Loss: 0.0045\n",
      "\n",
      "✅ Validation Accuracy: 0.8208\n"
     ]
    },
    {
     "name": "stderr",
     "output_type": "stream",
     "text": [
      "                                                              "
     ]
    },
    {
     "name": "stdout",
     "output_type": "stream",
     "text": [
      "\n",
      "📦 Epoch 10 — Train Loss: 0.0019\n",
      "\n",
      "✅ Validation Accuracy: 0.8625\n",
      "\n",
      "🔍 Testing config: {'hidden_dim': 128, 'num_layers': 2, 'dropout': 0.3, 'lr': 0.001, 'batch_size': 64}\n"
     ]
    },
    {
     "name": "stderr",
     "output_type": "stream",
     "text": [
      "                                                           "
     ]
    },
    {
     "name": "stdout",
     "output_type": "stream",
     "text": [
      "\n",
      "📦 Epoch 1 — Train Loss: 0.1600\n",
      "\n",
      "✅ Validation Accuracy: 0.7917\n"
     ]
    },
    {
     "name": "stderr",
     "output_type": "stream",
     "text": [
      "                                                           "
     ]
    },
    {
     "name": "stdout",
     "output_type": "stream",
     "text": [
      "\n",
      "📦 Epoch 2 — Train Loss: 0.0597\n",
      "\n",
      "✅ Validation Accuracy: 0.8708\n"
     ]
    },
    {
     "name": "stderr",
     "output_type": "stream",
     "text": [
      "                                                           "
     ]
    },
    {
     "name": "stdout",
     "output_type": "stream",
     "text": [
      "\n",
      "📦 Epoch 3 — Train Loss: 0.0298\n",
      "\n",
      "✅ Validation Accuracy: 0.8083\n"
     ]
    },
    {
     "name": "stderr",
     "output_type": "stream",
     "text": [
      "                                                           "
     ]
    },
    {
     "name": "stdout",
     "output_type": "stream",
     "text": [
      "\n",
      "📦 Epoch 4 — Train Loss: 0.0150\n",
      "\n",
      "✅ Validation Accuracy: 0.8583\n"
     ]
    },
    {
     "name": "stderr",
     "output_type": "stream",
     "text": [
      "                                                           "
     ]
    },
    {
     "name": "stdout",
     "output_type": "stream",
     "text": [
      "\n",
      "📦 Epoch 5 — Train Loss: 0.0125\n",
      "\n",
      "✅ Validation Accuracy: 0.8333\n"
     ]
    },
    {
     "name": "stderr",
     "output_type": "stream",
     "text": [
      "                                                           "
     ]
    },
    {
     "name": "stdout",
     "output_type": "stream",
     "text": [
      "\n",
      "📦 Epoch 6 — Train Loss: 0.0067\n",
      "\n",
      "✅ Validation Accuracy: 0.7625\n"
     ]
    },
    {
     "name": "stderr",
     "output_type": "stream",
     "text": [
      "                                                           "
     ]
    },
    {
     "name": "stdout",
     "output_type": "stream",
     "text": [
      "\n",
      "📦 Epoch 7 — Train Loss: 0.0077\n",
      "\n",
      "✅ Validation Accuracy: 0.8333\n"
     ]
    },
    {
     "name": "stderr",
     "output_type": "stream",
     "text": [
      "                                                           "
     ]
    },
    {
     "name": "stdout",
     "output_type": "stream",
     "text": [
      "\n",
      "📦 Epoch 8 — Train Loss: 0.0058\n",
      "\n",
      "✅ Validation Accuracy: 0.8000\n"
     ]
    },
    {
     "name": "stderr",
     "output_type": "stream",
     "text": [
      "                                                           "
     ]
    },
    {
     "name": "stdout",
     "output_type": "stream",
     "text": [
      "\n",
      "📦 Epoch 9 — Train Loss: 0.0024\n",
      "\n",
      "✅ Validation Accuracy: 0.8000\n"
     ]
    },
    {
     "name": "stderr",
     "output_type": "stream",
     "text": [
      "                                                            "
     ]
    },
    {
     "name": "stdout",
     "output_type": "stream",
     "text": [
      "\n",
      "📦 Epoch 10 — Train Loss: 0.0011\n",
      "\n",
      "✅ Validation Accuracy: 0.7750\n",
      "\n",
      "🔍 Testing config: {'hidden_dim': 128, 'num_layers': 2, 'dropout': 0.3, 'lr': 0.0005, 'batch_size': 32}\n"
     ]
    },
    {
     "name": "stderr",
     "output_type": "stream",
     "text": [
      "                                                             "
     ]
    },
    {
     "name": "stdout",
     "output_type": "stream",
     "text": [
      "\n",
      "📦 Epoch 1 — Train Loss: 0.1483\n",
      "\n",
      "✅ Validation Accuracy: 0.8417\n"
     ]
    },
    {
     "name": "stderr",
     "output_type": "stream",
     "text": [
      "                                                             "
     ]
    },
    {
     "name": "stdout",
     "output_type": "stream",
     "text": [
      "\n",
      "📦 Epoch 2 — Train Loss: 0.0546\n",
      "\n",
      "✅ Validation Accuracy: 0.8458\n"
     ]
    },
    {
     "name": "stderr",
     "output_type": "stream",
     "text": [
      "                                                             "
     ]
    },
    {
     "name": "stdout",
     "output_type": "stream",
     "text": [
      "\n",
      "📦 Epoch 3 — Train Loss: 0.0224\n",
      "\n",
      "✅ Validation Accuracy: 0.8500\n"
     ]
    },
    {
     "name": "stderr",
     "output_type": "stream",
     "text": [
      "                                                             "
     ]
    },
    {
     "name": "stdout",
     "output_type": "stream",
     "text": [
      "\n",
      "📦 Epoch 4 — Train Loss: 0.0186\n",
      "\n",
      "✅ Validation Accuracy: 0.8125\n"
     ]
    },
    {
     "name": "stderr",
     "output_type": "stream",
     "text": [
      "                                                             "
     ]
    },
    {
     "name": "stdout",
     "output_type": "stream",
     "text": [
      "\n",
      "📦 Epoch 5 — Train Loss: 0.0164\n",
      "\n",
      "✅ Validation Accuracy: 0.8417\n"
     ]
    },
    {
     "name": "stderr",
     "output_type": "stream",
     "text": [
      "                                                             "
     ]
    },
    {
     "name": "stdout",
     "output_type": "stream",
     "text": [
      "\n",
      "📦 Epoch 6 — Train Loss: 0.0069\n",
      "\n",
      "✅ Validation Accuracy: 0.8375\n"
     ]
    },
    {
     "name": "stderr",
     "output_type": "stream",
     "text": [
      "                                                             "
     ]
    },
    {
     "name": "stdout",
     "output_type": "stream",
     "text": [
      "\n",
      "📦 Epoch 7 — Train Loss: 0.0094\n",
      "\n",
      "✅ Validation Accuracy: 0.8458\n"
     ]
    },
    {
     "name": "stderr",
     "output_type": "stream",
     "text": [
      "                                                             "
     ]
    },
    {
     "name": "stdout",
     "output_type": "stream",
     "text": [
      "\n",
      "📦 Epoch 8 — Train Loss: 0.0060\n",
      "\n",
      "✅ Validation Accuracy: 0.8542\n"
     ]
    },
    {
     "name": "stderr",
     "output_type": "stream",
     "text": [
      "                                                             "
     ]
    },
    {
     "name": "stdout",
     "output_type": "stream",
     "text": [
      "\n",
      "📦 Epoch 9 — Train Loss: 0.0057\n",
      "\n",
      "✅ Validation Accuracy: 0.8417\n"
     ]
    },
    {
     "name": "stderr",
     "output_type": "stream",
     "text": [
      "                                                              "
     ]
    },
    {
     "name": "stdout",
     "output_type": "stream",
     "text": [
      "\n",
      "📦 Epoch 10 — Train Loss: 0.0018\n",
      "\n",
      "✅ Validation Accuracy: 0.8458\n",
      "\n",
      "🔍 Testing config: {'hidden_dim': 128, 'num_layers': 2, 'dropout': 0.3, 'lr': 0.0005, 'batch_size': 64}\n"
     ]
    },
    {
     "name": "stderr",
     "output_type": "stream",
     "text": [
      "                                                           "
     ]
    },
    {
     "name": "stdout",
     "output_type": "stream",
     "text": [
      "\n",
      "📦 Epoch 1 — Train Loss: 0.1872\n",
      "\n",
      "✅ Validation Accuracy: 0.6625\n"
     ]
    },
    {
     "name": "stderr",
     "output_type": "stream",
     "text": [
      "                                                           "
     ]
    },
    {
     "name": "stdout",
     "output_type": "stream",
     "text": [
      "\n",
      "📦 Epoch 2 — Train Loss: 0.0815\n",
      "\n",
      "✅ Validation Accuracy: 0.8375\n"
     ]
    },
    {
     "name": "stderr",
     "output_type": "stream",
     "text": [
      "                                                           "
     ]
    },
    {
     "name": "stdout",
     "output_type": "stream",
     "text": [
      "\n",
      "📦 Epoch 3 — Train Loss: 0.0449\n",
      "\n",
      "✅ Validation Accuracy: 0.8583\n"
     ]
    },
    {
     "name": "stderr",
     "output_type": "stream",
     "text": [
      "                                                           "
     ]
    },
    {
     "name": "stdout",
     "output_type": "stream",
     "text": [
      "\n",
      "📦 Epoch 4 — Train Loss: 0.0240\n",
      "\n",
      "✅ Validation Accuracy: 0.8292\n"
     ]
    },
    {
     "name": "stderr",
     "output_type": "stream",
     "text": [
      "                                                           "
     ]
    },
    {
     "name": "stdout",
     "output_type": "stream",
     "text": [
      "\n",
      "📦 Epoch 5 — Train Loss: 0.0169\n",
      "\n",
      "✅ Validation Accuracy: 0.8167\n"
     ]
    },
    {
     "name": "stderr",
     "output_type": "stream",
     "text": [
      "                                                           "
     ]
    },
    {
     "name": "stdout",
     "output_type": "stream",
     "text": [
      "\n",
      "📦 Epoch 6 — Train Loss: 0.0115\n",
      "\n",
      "✅ Validation Accuracy: 0.8083\n"
     ]
    },
    {
     "name": "stderr",
     "output_type": "stream",
     "text": [
      "                                                           "
     ]
    },
    {
     "name": "stdout",
     "output_type": "stream",
     "text": [
      "\n",
      "📦 Epoch 7 — Train Loss: 0.0134\n",
      "\n",
      "✅ Validation Accuracy: 0.8042\n"
     ]
    },
    {
     "name": "stderr",
     "output_type": "stream",
     "text": [
      "                                                           "
     ]
    },
    {
     "name": "stdout",
     "output_type": "stream",
     "text": [
      "\n",
      "📦 Epoch 8 — Train Loss: 0.0091\n",
      "\n",
      "✅ Validation Accuracy: 0.8500\n"
     ]
    },
    {
     "name": "stderr",
     "output_type": "stream",
     "text": [
      "                                                           "
     ]
    },
    {
     "name": "stdout",
     "output_type": "stream",
     "text": [
      "\n",
      "📦 Epoch 9 — Train Loss: 0.0058\n",
      "\n",
      "✅ Validation Accuracy: 0.8250\n"
     ]
    },
    {
     "name": "stderr",
     "output_type": "stream",
     "text": [
      "                                                            "
     ]
    },
    {
     "name": "stdout",
     "output_type": "stream",
     "text": [
      "\n",
      "📦 Epoch 10 — Train Loss: 0.0130\n",
      "\n",
      "✅ Validation Accuracy: 0.8125\n",
      "\n",
      "🔍 Testing config: {'hidden_dim': 128, 'num_layers': 2, 'dropout': 0.5, 'lr': 0.001, 'batch_size': 32}\n"
     ]
    },
    {
     "name": "stderr",
     "output_type": "stream",
     "text": [
      "                                                             "
     ]
    },
    {
     "name": "stdout",
     "output_type": "stream",
     "text": [
      "\n",
      "📦 Epoch 1 — Train Loss: 0.1201\n",
      "\n",
      "✅ Validation Accuracy: 0.8417\n"
     ]
    },
    {
     "name": "stderr",
     "output_type": "stream",
     "text": [
      "                                                             "
     ]
    },
    {
     "name": "stdout",
     "output_type": "stream",
     "text": [
      "\n",
      "📦 Epoch 2 — Train Loss: 0.0494\n",
      "\n",
      "✅ Validation Accuracy: 0.8625\n"
     ]
    },
    {
     "name": "stderr",
     "output_type": "stream",
     "text": [
      "                                                             "
     ]
    },
    {
     "name": "stdout",
     "output_type": "stream",
     "text": [
      "\n",
      "📦 Epoch 3 — Train Loss: 0.0199\n",
      "\n",
      "✅ Validation Accuracy: 0.8250\n"
     ]
    },
    {
     "name": "stderr",
     "output_type": "stream",
     "text": [
      "                                                             "
     ]
    },
    {
     "name": "stdout",
     "output_type": "stream",
     "text": [
      "\n",
      "📦 Epoch 4 — Train Loss: 0.0104\n",
      "\n",
      "✅ Validation Accuracy: 0.7833\n"
     ]
    },
    {
     "name": "stderr",
     "output_type": "stream",
     "text": [
      "                                                             "
     ]
    },
    {
     "name": "stdout",
     "output_type": "stream",
     "text": [
      "\n",
      "📦 Epoch 5 — Train Loss: 0.0076\n",
      "\n",
      "✅ Validation Accuracy: 0.8167\n"
     ]
    },
    {
     "name": "stderr",
     "output_type": "stream",
     "text": [
      "                                                             "
     ]
    },
    {
     "name": "stdout",
     "output_type": "stream",
     "text": [
      "\n",
      "📦 Epoch 6 — Train Loss: 0.0061\n",
      "\n",
      "✅ Validation Accuracy: 0.7750\n"
     ]
    },
    {
     "name": "stderr",
     "output_type": "stream",
     "text": [
      "                                                             "
     ]
    },
    {
     "name": "stdout",
     "output_type": "stream",
     "text": [
      "\n",
      "📦 Epoch 7 — Train Loss: 0.0140\n",
      "\n",
      "✅ Validation Accuracy: 0.7833\n"
     ]
    },
    {
     "name": "stderr",
     "output_type": "stream",
     "text": [
      "                                                             "
     ]
    },
    {
     "name": "stdout",
     "output_type": "stream",
     "text": [
      "\n",
      "📦 Epoch 8 — Train Loss: 0.0157\n",
      "\n",
      "✅ Validation Accuracy: 0.8167\n"
     ]
    },
    {
     "name": "stderr",
     "output_type": "stream",
     "text": [
      "                                                             "
     ]
    },
    {
     "name": "stdout",
     "output_type": "stream",
     "text": [
      "\n",
      "📦 Epoch 9 — Train Loss: 0.0049\n",
      "\n",
      "✅ Validation Accuracy: 0.7667\n"
     ]
    },
    {
     "name": "stderr",
     "output_type": "stream",
     "text": [
      "                                                              "
     ]
    },
    {
     "name": "stdout",
     "output_type": "stream",
     "text": [
      "\n",
      "📦 Epoch 10 — Train Loss: 0.0022\n",
      "\n",
      "✅ Validation Accuracy: 0.7833\n",
      "\n",
      "🔍 Testing config: {'hidden_dim': 128, 'num_layers': 2, 'dropout': 0.5, 'lr': 0.001, 'batch_size': 64}\n"
     ]
    },
    {
     "name": "stderr",
     "output_type": "stream",
     "text": [
      "                                                           "
     ]
    },
    {
     "name": "stdout",
     "output_type": "stream",
     "text": [
      "\n",
      "📦 Epoch 1 — Train Loss: 0.1623\n",
      "\n",
      "✅ Validation Accuracy: 0.7292\n"
     ]
    },
    {
     "name": "stderr",
     "output_type": "stream",
     "text": [
      "                                                           "
     ]
    },
    {
     "name": "stdout",
     "output_type": "stream",
     "text": [
      "\n",
      "📦 Epoch 2 — Train Loss: 0.0549\n",
      "\n",
      "✅ Validation Accuracy: 0.8583\n"
     ]
    },
    {
     "name": "stderr",
     "output_type": "stream",
     "text": [
      "                                                           "
     ]
    },
    {
     "name": "stdout",
     "output_type": "stream",
     "text": [
      "\n",
      "📦 Epoch 3 — Train Loss: 0.0219\n",
      "\n",
      "✅ Validation Accuracy: 0.8708\n"
     ]
    },
    {
     "name": "stderr",
     "output_type": "stream",
     "text": [
      "                                                           "
     ]
    },
    {
     "name": "stdout",
     "output_type": "stream",
     "text": [
      "\n",
      "📦 Epoch 4 — Train Loss: 0.0230\n",
      "\n",
      "✅ Validation Accuracy: 0.8625\n"
     ]
    },
    {
     "name": "stderr",
     "output_type": "stream",
     "text": [
      "                                                           "
     ]
    },
    {
     "name": "stdout",
     "output_type": "stream",
     "text": [
      "\n",
      "📦 Epoch 5 — Train Loss: 0.0086\n",
      "\n",
      "✅ Validation Accuracy: 0.8542\n"
     ]
    },
    {
     "name": "stderr",
     "output_type": "stream",
     "text": [
      "                                                           "
     ]
    },
    {
     "name": "stdout",
     "output_type": "stream",
     "text": [
      "\n",
      "📦 Epoch 6 — Train Loss: 0.0095\n",
      "\n",
      "✅ Validation Accuracy: 0.8333\n"
     ]
    },
    {
     "name": "stderr",
     "output_type": "stream",
     "text": [
      "                                                           "
     ]
    },
    {
     "name": "stdout",
     "output_type": "stream",
     "text": [
      "\n",
      "📦 Epoch 7 — Train Loss: 0.0034\n",
      "\n",
      "✅ Validation Accuracy: 0.8208\n"
     ]
    },
    {
     "name": "stderr",
     "output_type": "stream",
     "text": [
      "                                                           "
     ]
    },
    {
     "name": "stdout",
     "output_type": "stream",
     "text": [
      "\n",
      "📦 Epoch 8 — Train Loss: 0.0184\n",
      "\n",
      "✅ Validation Accuracy: 0.8375\n"
     ]
    },
    {
     "name": "stderr",
     "output_type": "stream",
     "text": [
      "                                                           "
     ]
    },
    {
     "name": "stdout",
     "output_type": "stream",
     "text": [
      "\n",
      "📦 Epoch 9 — Train Loss: 0.0068\n",
      "\n",
      "✅ Validation Accuracy: 0.7917\n"
     ]
    },
    {
     "name": "stderr",
     "output_type": "stream",
     "text": [
      "                                                            "
     ]
    },
    {
     "name": "stdout",
     "output_type": "stream",
     "text": [
      "\n",
      "📦 Epoch 10 — Train Loss: 0.0019\n",
      "\n",
      "✅ Validation Accuracy: 0.8000\n",
      "\n",
      "🔍 Testing config: {'hidden_dim': 128, 'num_layers': 2, 'dropout': 0.5, 'lr': 0.0005, 'batch_size': 32}\n"
     ]
    },
    {
     "name": "stderr",
     "output_type": "stream",
     "text": [
      "                                                             "
     ]
    },
    {
     "name": "stdout",
     "output_type": "stream",
     "text": [
      "\n",
      "📦 Epoch 1 — Train Loss: 0.1581\n",
      "\n",
      "✅ Validation Accuracy: 0.7750\n"
     ]
    },
    {
     "name": "stderr",
     "output_type": "stream",
     "text": [
      "                                                             "
     ]
    },
    {
     "name": "stdout",
     "output_type": "stream",
     "text": [
      "\n",
      "📦 Epoch 2 — Train Loss: 0.0505\n",
      "\n",
      "✅ Validation Accuracy: 0.8208\n"
     ]
    },
    {
     "name": "stderr",
     "output_type": "stream",
     "text": [
      "                                                             "
     ]
    },
    {
     "name": "stdout",
     "output_type": "stream",
     "text": [
      "\n",
      "📦 Epoch 3 — Train Loss: 0.0235\n",
      "\n",
      "✅ Validation Accuracy: 0.8542\n"
     ]
    },
    {
     "name": "stderr",
     "output_type": "stream",
     "text": [
      "                                                             "
     ]
    },
    {
     "name": "stdout",
     "output_type": "stream",
     "text": [
      "\n",
      "📦 Epoch 4 — Train Loss: 0.0089\n",
      "\n",
      "✅ Validation Accuracy: 0.8167\n"
     ]
    },
    {
     "name": "stderr",
     "output_type": "stream",
     "text": [
      "                                                             "
     ]
    },
    {
     "name": "stdout",
     "output_type": "stream",
     "text": [
      "\n",
      "📦 Epoch 5 — Train Loss: 0.0140\n",
      "\n",
      "✅ Validation Accuracy: 0.8417\n"
     ]
    },
    {
     "name": "stderr",
     "output_type": "stream",
     "text": [
      "                                                             "
     ]
    },
    {
     "name": "stdout",
     "output_type": "stream",
     "text": [
      "\n",
      "📦 Epoch 6 — Train Loss: 0.0090\n",
      "\n",
      "✅ Validation Accuracy: 0.8708\n"
     ]
    },
    {
     "name": "stderr",
     "output_type": "stream",
     "text": [
      "                                                             "
     ]
    },
    {
     "name": "stdout",
     "output_type": "stream",
     "text": [
      "\n",
      "📦 Epoch 7 — Train Loss: 0.0130\n",
      "\n",
      "✅ Validation Accuracy: 0.8125\n"
     ]
    },
    {
     "name": "stderr",
     "output_type": "stream",
     "text": [
      "                                                             "
     ]
    },
    {
     "name": "stdout",
     "output_type": "stream",
     "text": [
      "\n",
      "📦 Epoch 8 — Train Loss: 0.0058\n",
      "\n",
      "✅ Validation Accuracy: 0.7958\n"
     ]
    },
    {
     "name": "stderr",
     "output_type": "stream",
     "text": [
      "                                                             "
     ]
    },
    {
     "name": "stdout",
     "output_type": "stream",
     "text": [
      "\n",
      "📦 Epoch 9 — Train Loss: 0.0055\n",
      "\n",
      "✅ Validation Accuracy: 0.8333\n"
     ]
    },
    {
     "name": "stderr",
     "output_type": "stream",
     "text": [
      "                                                              "
     ]
    },
    {
     "name": "stdout",
     "output_type": "stream",
     "text": [
      "\n",
      "📦 Epoch 10 — Train Loss: 0.0042\n",
      "\n",
      "✅ Validation Accuracy: 0.8125\n",
      "\n",
      "🔍 Testing config: {'hidden_dim': 128, 'num_layers': 2, 'dropout': 0.5, 'lr': 0.0005, 'batch_size': 64}\n"
     ]
    },
    {
     "name": "stderr",
     "output_type": "stream",
     "text": [
      "                                                           "
     ]
    },
    {
     "name": "stdout",
     "output_type": "stream",
     "text": [
      "\n",
      "📦 Epoch 1 — Train Loss: 0.1957\n",
      "\n",
      "✅ Validation Accuracy: 0.6083\n"
     ]
    },
    {
     "name": "stderr",
     "output_type": "stream",
     "text": [
      "                                                           "
     ]
    },
    {
     "name": "stdout",
     "output_type": "stream",
     "text": [
      "\n",
      "📦 Epoch 2 — Train Loss: 0.0879\n",
      "\n",
      "✅ Validation Accuracy: 0.8458\n"
     ]
    },
    {
     "name": "stderr",
     "output_type": "stream",
     "text": [
      "                                                           "
     ]
    },
    {
     "name": "stdout",
     "output_type": "stream",
     "text": [
      "\n",
      "📦 Epoch 3 — Train Loss: 0.0364\n",
      "\n",
      "✅ Validation Accuracy: 0.8667\n"
     ]
    },
    {
     "name": "stderr",
     "output_type": "stream",
     "text": [
      "                                                           "
     ]
    },
    {
     "name": "stdout",
     "output_type": "stream",
     "text": [
      "\n",
      "📦 Epoch 4 — Train Loss: 0.0207\n",
      "\n",
      "✅ Validation Accuracy: 0.8833\n"
     ]
    },
    {
     "name": "stderr",
     "output_type": "stream",
     "text": [
      "                                                           "
     ]
    },
    {
     "name": "stdout",
     "output_type": "stream",
     "text": [
      "\n",
      "📦 Epoch 5 — Train Loss: 0.0096\n",
      "\n",
      "✅ Validation Accuracy: 0.8833\n"
     ]
    },
    {
     "name": "stderr",
     "output_type": "stream",
     "text": [
      "                                                           "
     ]
    },
    {
     "name": "stdout",
     "output_type": "stream",
     "text": [
      "\n",
      "📦 Epoch 6 — Train Loss: 0.0120\n",
      "\n",
      "✅ Validation Accuracy: 0.8708\n"
     ]
    },
    {
     "name": "stderr",
     "output_type": "stream",
     "text": [
      "                                                           "
     ]
    },
    {
     "name": "stdout",
     "output_type": "stream",
     "text": [
      "\n",
      "📦 Epoch 7 — Train Loss: 0.0057\n",
      "\n",
      "✅ Validation Accuracy: 0.8542\n"
     ]
    },
    {
     "name": "stderr",
     "output_type": "stream",
     "text": [
      "                                                           "
     ]
    },
    {
     "name": "stdout",
     "output_type": "stream",
     "text": [
      "\n",
      "📦 Epoch 8 — Train Loss: 0.0052\n",
      "\n",
      "✅ Validation Accuracy: 0.8458\n"
     ]
    },
    {
     "name": "stderr",
     "output_type": "stream",
     "text": [
      "                                                           "
     ]
    },
    {
     "name": "stdout",
     "output_type": "stream",
     "text": [
      "\n",
      "📦 Epoch 9 — Train Loss: 0.0027\n",
      "\n",
      "✅ Validation Accuracy: 0.8208\n"
     ]
    },
    {
     "name": "stderr",
     "output_type": "stream",
     "text": [
      "                                                            "
     ]
    },
    {
     "name": "stdout",
     "output_type": "stream",
     "text": [
      "\n",
      "📦 Epoch 10 — Train Loss: 0.0025\n",
      "\n",
      "✅ Validation Accuracy: 0.8167\n",
      "\n",
      "🔍 Testing config: {'hidden_dim': 256, 'num_layers': 1, 'dropout': 0.3, 'lr': 0.001, 'batch_size': 32}\n"
     ]
    },
    {
     "name": "stderr",
     "output_type": "stream",
     "text": [
      "                                                             "
     ]
    },
    {
     "name": "stdout",
     "output_type": "stream",
     "text": [
      "\n",
      "📦 Epoch 1 — Train Loss: 0.1420\n",
      "\n",
      "✅ Validation Accuracy: 0.7917\n"
     ]
    },
    {
     "name": "stderr",
     "output_type": "stream",
     "text": [
      "                                                             "
     ]
    },
    {
     "name": "stdout",
     "output_type": "stream",
     "text": [
      "\n",
      "📦 Epoch 2 — Train Loss: 0.0462\n",
      "\n",
      "✅ Validation Accuracy: 0.8417\n"
     ]
    },
    {
     "name": "stderr",
     "output_type": "stream",
     "text": [
      "                                                             "
     ]
    },
    {
     "name": "stdout",
     "output_type": "stream",
     "text": [
      "\n",
      "📦 Epoch 3 — Train Loss: 0.0194\n",
      "\n",
      "✅ Validation Accuracy: 0.8667\n"
     ]
    },
    {
     "name": "stderr",
     "output_type": "stream",
     "text": [
      "                                                             "
     ]
    },
    {
     "name": "stdout",
     "output_type": "stream",
     "text": [
      "\n",
      "📦 Epoch 4 — Train Loss: 0.0107\n",
      "\n",
      "✅ Validation Accuracy: 0.8042\n"
     ]
    },
    {
     "name": "stderr",
     "output_type": "stream",
     "text": [
      "                                                             "
     ]
    },
    {
     "name": "stdout",
     "output_type": "stream",
     "text": [
      "\n",
      "📦 Epoch 5 — Train Loss: 0.0095\n",
      "\n",
      "✅ Validation Accuracy: 0.8250\n"
     ]
    },
    {
     "name": "stderr",
     "output_type": "stream",
     "text": [
      "                                                             "
     ]
    },
    {
     "name": "stdout",
     "output_type": "stream",
     "text": [
      "\n",
      "📦 Epoch 6 — Train Loss: 0.0054\n",
      "\n",
      "✅ Validation Accuracy: 0.8208\n"
     ]
    },
    {
     "name": "stderr",
     "output_type": "stream",
     "text": [
      "                                                             "
     ]
    },
    {
     "name": "stdout",
     "output_type": "stream",
     "text": [
      "\n",
      "📦 Epoch 7 — Train Loss: 0.0040\n",
      "\n",
      "✅ Validation Accuracy: 0.8417\n"
     ]
    },
    {
     "name": "stderr",
     "output_type": "stream",
     "text": [
      "                                                             "
     ]
    },
    {
     "name": "stdout",
     "output_type": "stream",
     "text": [
      "\n",
      "📦 Epoch 8 — Train Loss: 0.0013\n",
      "\n",
      "✅ Validation Accuracy: 0.8375\n"
     ]
    },
    {
     "name": "stderr",
     "output_type": "stream",
     "text": [
      "                                                             "
     ]
    },
    {
     "name": "stdout",
     "output_type": "stream",
     "text": [
      "\n",
      "📦 Epoch 9 — Train Loss: 0.0008\n",
      "\n",
      "✅ Validation Accuracy: 0.8125\n"
     ]
    },
    {
     "name": "stderr",
     "output_type": "stream",
     "text": [
      "                                                              "
     ]
    },
    {
     "name": "stdout",
     "output_type": "stream",
     "text": [
      "\n",
      "📦 Epoch 10 — Train Loss: 0.0004\n",
      "\n",
      "✅ Validation Accuracy: 0.8375\n",
      "\n",
      "🔍 Testing config: {'hidden_dim': 256, 'num_layers': 1, 'dropout': 0.3, 'lr': 0.001, 'batch_size': 64}\n"
     ]
    },
    {
     "name": "stderr",
     "output_type": "stream",
     "text": [
      "                                                           "
     ]
    },
    {
     "name": "stdout",
     "output_type": "stream",
     "text": [
      "\n",
      "📦 Epoch 1 — Train Loss: 0.1765\n",
      "\n",
      "✅ Validation Accuracy: 0.7208\n"
     ]
    },
    {
     "name": "stderr",
     "output_type": "stream",
     "text": [
      "                                                           "
     ]
    },
    {
     "name": "stdout",
     "output_type": "stream",
     "text": [
      "\n",
      "📦 Epoch 2 — Train Loss: 0.0731\n",
      "\n",
      "✅ Validation Accuracy: 0.8333\n"
     ]
    },
    {
     "name": "stderr",
     "output_type": "stream",
     "text": [
      "                                                           "
     ]
    },
    {
     "name": "stdout",
     "output_type": "stream",
     "text": [
      "\n",
      "📦 Epoch 3 — Train Loss: 0.0314\n",
      "\n",
      "✅ Validation Accuracy: 0.8417\n"
     ]
    },
    {
     "name": "stderr",
     "output_type": "stream",
     "text": [
      "                                                           "
     ]
    },
    {
     "name": "stdout",
     "output_type": "stream",
     "text": [
      "\n",
      "📦 Epoch 4 — Train Loss: 0.0126\n",
      "\n",
      "✅ Validation Accuracy: 0.8458\n"
     ]
    },
    {
     "name": "stderr",
     "output_type": "stream",
     "text": [
      "                                                           "
     ]
    },
    {
     "name": "stdout",
     "output_type": "stream",
     "text": [
      "\n",
      "📦 Epoch 5 — Train Loss: 0.0088\n",
      "\n",
      "✅ Validation Accuracy: 0.8417\n"
     ]
    },
    {
     "name": "stderr",
     "output_type": "stream",
     "text": [
      "                                                           "
     ]
    },
    {
     "name": "stdout",
     "output_type": "stream",
     "text": [
      "\n",
      "📦 Epoch 6 — Train Loss: 0.0058\n",
      "\n",
      "✅ Validation Accuracy: 0.8292\n"
     ]
    },
    {
     "name": "stderr",
     "output_type": "stream",
     "text": [
      "                                                           "
     ]
    },
    {
     "name": "stdout",
     "output_type": "stream",
     "text": [
      "\n",
      "📦 Epoch 7 — Train Loss: 0.0034\n",
      "\n",
      "✅ Validation Accuracy: 0.8250\n"
     ]
    },
    {
     "name": "stderr",
     "output_type": "stream",
     "text": [
      "                                                           "
     ]
    },
    {
     "name": "stdout",
     "output_type": "stream",
     "text": [
      "\n",
      "📦 Epoch 8 — Train Loss: 0.0032\n",
      "\n",
      "✅ Validation Accuracy: 0.8375\n"
     ]
    },
    {
     "name": "stderr",
     "output_type": "stream",
     "text": [
      "                                                           "
     ]
    },
    {
     "name": "stdout",
     "output_type": "stream",
     "text": [
      "\n",
      "📦 Epoch 9 — Train Loss: 0.0019\n",
      "\n",
      "✅ Validation Accuracy: 0.7958\n"
     ]
    },
    {
     "name": "stderr",
     "output_type": "stream",
     "text": [
      "                                                            "
     ]
    },
    {
     "name": "stdout",
     "output_type": "stream",
     "text": [
      "\n",
      "📦 Epoch 10 — Train Loss: 0.0051\n",
      "\n",
      "✅ Validation Accuracy: 0.8458\n",
      "\n",
      "🔍 Testing config: {'hidden_dim': 256, 'num_layers': 1, 'dropout': 0.3, 'lr': 0.0005, 'batch_size': 32}\n"
     ]
    },
    {
     "name": "stderr",
     "output_type": "stream",
     "text": [
      "                                                             "
     ]
    },
    {
     "name": "stdout",
     "output_type": "stream",
     "text": [
      "\n",
      "📦 Epoch 1 — Train Loss: 0.1591\n",
      "\n",
      "✅ Validation Accuracy: 0.7750\n"
     ]
    },
    {
     "name": "stderr",
     "output_type": "stream",
     "text": [
      "                                                             "
     ]
    },
    {
     "name": "stdout",
     "output_type": "stream",
     "text": [
      "\n",
      "📦 Epoch 2 — Train Loss: 0.0685\n",
      "\n",
      "✅ Validation Accuracy: 0.8458\n"
     ]
    },
    {
     "name": "stderr",
     "output_type": "stream",
     "text": [
      "                                                             "
     ]
    },
    {
     "name": "stdout",
     "output_type": "stream",
     "text": [
      "\n",
      "📦 Epoch 3 — Train Loss: 0.0366\n",
      "\n",
      "✅ Validation Accuracy: 0.8458\n"
     ]
    },
    {
     "name": "stderr",
     "output_type": "stream",
     "text": [
      "                                                             "
     ]
    },
    {
     "name": "stdout",
     "output_type": "stream",
     "text": [
      "\n",
      "📦 Epoch 4 — Train Loss: 0.0155\n",
      "\n",
      "✅ Validation Accuracy: 0.8792\n"
     ]
    },
    {
     "name": "stderr",
     "output_type": "stream",
     "text": [
      "                                                             "
     ]
    },
    {
     "name": "stdout",
     "output_type": "stream",
     "text": [
      "\n",
      "📦 Epoch 5 — Train Loss: 0.0146\n",
      "\n",
      "✅ Validation Accuracy: 0.8667\n"
     ]
    },
    {
     "name": "stderr",
     "output_type": "stream",
     "text": [
      "                                                             "
     ]
    },
    {
     "name": "stdout",
     "output_type": "stream",
     "text": [
      "\n",
      "📦 Epoch 6 — Train Loss: 0.0075\n",
      "\n",
      "✅ Validation Accuracy: 0.8000\n"
     ]
    },
    {
     "name": "stderr",
     "output_type": "stream",
     "text": [
      "                                                             "
     ]
    },
    {
     "name": "stdout",
     "output_type": "stream",
     "text": [
      "\n",
      "📦 Epoch 7 — Train Loss: 0.0113\n",
      "\n",
      "✅ Validation Accuracy: 0.8583\n"
     ]
    },
    {
     "name": "stderr",
     "output_type": "stream",
     "text": [
      "                                                             "
     ]
    },
    {
     "name": "stdout",
     "output_type": "stream",
     "text": [
      "\n",
      "📦 Epoch 8 — Train Loss: 0.0031\n",
      "\n",
      "✅ Validation Accuracy: 0.8375\n"
     ]
    },
    {
     "name": "stderr",
     "output_type": "stream",
     "text": [
      "                                                             "
     ]
    },
    {
     "name": "stdout",
     "output_type": "stream",
     "text": [
      "\n",
      "📦 Epoch 9 — Train Loss: 0.0017\n",
      "\n",
      "✅ Validation Accuracy: 0.8292\n"
     ]
    },
    {
     "name": "stderr",
     "output_type": "stream",
     "text": [
      "                                                              "
     ]
    },
    {
     "name": "stdout",
     "output_type": "stream",
     "text": [
      "\n",
      "📦 Epoch 10 — Train Loss: 0.0034\n",
      "\n",
      "✅ Validation Accuracy: 0.8542\n",
      "\n",
      "🔍 Testing config: {'hidden_dim': 256, 'num_layers': 1, 'dropout': 0.3, 'lr': 0.0005, 'batch_size': 64}\n"
     ]
    },
    {
     "name": "stderr",
     "output_type": "stream",
     "text": [
      "                                                           "
     ]
    },
    {
     "name": "stdout",
     "output_type": "stream",
     "text": [
      "\n",
      "📦 Epoch 1 — Train Loss: 0.2017\n",
      "\n",
      "✅ Validation Accuracy: 0.5542\n"
     ]
    },
    {
     "name": "stderr",
     "output_type": "stream",
     "text": [
      "                                                           "
     ]
    },
    {
     "name": "stdout",
     "output_type": "stream",
     "text": [
      "\n",
      "📦 Epoch 2 — Train Loss: 0.0966\n",
      "\n",
      "✅ Validation Accuracy: 0.8125\n"
     ]
    },
    {
     "name": "stderr",
     "output_type": "stream",
     "text": [
      "                                                           "
     ]
    },
    {
     "name": "stdout",
     "output_type": "stream",
     "text": [
      "\n",
      "📦 Epoch 3 — Train Loss: 0.0522\n",
      "\n",
      "✅ Validation Accuracy: 0.8458\n"
     ]
    },
    {
     "name": "stderr",
     "output_type": "stream",
     "text": [
      "                                                           "
     ]
    },
    {
     "name": "stdout",
     "output_type": "stream",
     "text": [
      "\n",
      "📦 Epoch 4 — Train Loss: 0.0313\n",
      "\n",
      "✅ Validation Accuracy: 0.8750\n"
     ]
    },
    {
     "name": "stderr",
     "output_type": "stream",
     "text": [
      "                                                           "
     ]
    },
    {
     "name": "stdout",
     "output_type": "stream",
     "text": [
      "\n",
      "📦 Epoch 5 — Train Loss: 0.0179\n",
      "\n",
      "✅ Validation Accuracy: 0.8625\n"
     ]
    },
    {
     "name": "stderr",
     "output_type": "stream",
     "text": [
      "                                                           "
     ]
    },
    {
     "name": "stdout",
     "output_type": "stream",
     "text": [
      "\n",
      "📦 Epoch 6 — Train Loss: 0.0092\n",
      "\n",
      "✅ Validation Accuracy: 0.8208\n"
     ]
    },
    {
     "name": "stderr",
     "output_type": "stream",
     "text": [
      "                                                           "
     ]
    },
    {
     "name": "stdout",
     "output_type": "stream",
     "text": [
      "\n",
      "📦 Epoch 7 — Train Loss: 0.0143\n",
      "\n",
      "✅ Validation Accuracy: 0.8542\n"
     ]
    },
    {
     "name": "stderr",
     "output_type": "stream",
     "text": [
      "                                                           "
     ]
    },
    {
     "name": "stdout",
     "output_type": "stream",
     "text": [
      "\n",
      "📦 Epoch 8 — Train Loss: 0.0058\n",
      "\n",
      "✅ Validation Accuracy: 0.8667\n"
     ]
    },
    {
     "name": "stderr",
     "output_type": "stream",
     "text": [
      "                                                           "
     ]
    },
    {
     "name": "stdout",
     "output_type": "stream",
     "text": [
      "\n",
      "📦 Epoch 9 — Train Loss: 0.0036\n",
      "\n",
      "✅ Validation Accuracy: 0.8542\n"
     ]
    },
    {
     "name": "stderr",
     "output_type": "stream",
     "text": [
      "                                                            "
     ]
    },
    {
     "name": "stdout",
     "output_type": "stream",
     "text": [
      "\n",
      "📦 Epoch 10 — Train Loss: 0.0022\n",
      "\n",
      "✅ Validation Accuracy: 0.8458\n",
      "\n",
      "🔍 Testing config: {'hidden_dim': 256, 'num_layers': 1, 'dropout': 0.5, 'lr': 0.001, 'batch_size': 32}\n"
     ]
    },
    {
     "name": "stderr",
     "output_type": "stream",
     "text": [
      "                                                             "
     ]
    },
    {
     "name": "stdout",
     "output_type": "stream",
     "text": [
      "\n",
      "📦 Epoch 1 — Train Loss: 0.1396\n",
      "\n",
      "✅ Validation Accuracy: 0.8375\n"
     ]
    },
    {
     "name": "stderr",
     "output_type": "stream",
     "text": [
      "                                                             "
     ]
    },
    {
     "name": "stdout",
     "output_type": "stream",
     "text": [
      "\n",
      "📦 Epoch 2 — Train Loss: 0.0496\n",
      "\n",
      "✅ Validation Accuracy: 0.8792\n"
     ]
    },
    {
     "name": "stderr",
     "output_type": "stream",
     "text": [
      "                                                             "
     ]
    },
    {
     "name": "stdout",
     "output_type": "stream",
     "text": [
      "\n",
      "📦 Epoch 3 — Train Loss: 0.0181\n",
      "\n",
      "✅ Validation Accuracy: 0.8583\n"
     ]
    },
    {
     "name": "stderr",
     "output_type": "stream",
     "text": [
      "                                                             "
     ]
    },
    {
     "name": "stdout",
     "output_type": "stream",
     "text": [
      "\n",
      "📦 Epoch 4 — Train Loss: 0.0139\n",
      "\n",
      "✅ Validation Accuracy: 0.8500\n"
     ]
    },
    {
     "name": "stderr",
     "output_type": "stream",
     "text": [
      "                                                             "
     ]
    },
    {
     "name": "stdout",
     "output_type": "stream",
     "text": [
      "\n",
      "📦 Epoch 5 — Train Loss: 0.0104\n",
      "\n",
      "✅ Validation Accuracy: 0.8667\n"
     ]
    },
    {
     "name": "stderr",
     "output_type": "stream",
     "text": [
      "                                                             "
     ]
    },
    {
     "name": "stdout",
     "output_type": "stream",
     "text": [
      "\n",
      "📦 Epoch 6 — Train Loss: 0.0081\n",
      "\n",
      "✅ Validation Accuracy: 0.8458\n"
     ]
    },
    {
     "name": "stderr",
     "output_type": "stream",
     "text": [
      "                                                             "
     ]
    },
    {
     "name": "stdout",
     "output_type": "stream",
     "text": [
      "\n",
      "📦 Epoch 7 — Train Loss: 0.0036\n",
      "\n",
      "✅ Validation Accuracy: 0.8458\n"
     ]
    },
    {
     "name": "stderr",
     "output_type": "stream",
     "text": [
      "                                                             "
     ]
    },
    {
     "name": "stdout",
     "output_type": "stream",
     "text": [
      "\n",
      "📦 Epoch 8 — Train Loss: 0.0087\n",
      "\n",
      "✅ Validation Accuracy: 0.8083\n"
     ]
    },
    {
     "name": "stderr",
     "output_type": "stream",
     "text": [
      "                                                             "
     ]
    },
    {
     "name": "stdout",
     "output_type": "stream",
     "text": [
      "\n",
      "📦 Epoch 9 — Train Loss: 0.0030\n",
      "\n",
      "✅ Validation Accuracy: 0.8042\n"
     ]
    },
    {
     "name": "stderr",
     "output_type": "stream",
     "text": [
      "                                                              "
     ]
    },
    {
     "name": "stdout",
     "output_type": "stream",
     "text": [
      "\n",
      "📦 Epoch 10 — Train Loss: 0.0012\n",
      "\n",
      "✅ Validation Accuracy: 0.8458\n",
      "\n",
      "🔍 Testing config: {'hidden_dim': 256, 'num_layers': 1, 'dropout': 0.5, 'lr': 0.001, 'batch_size': 64}\n"
     ]
    },
    {
     "name": "stderr",
     "output_type": "stream",
     "text": [
      "                                                           "
     ]
    },
    {
     "name": "stdout",
     "output_type": "stream",
     "text": [
      "\n",
      "📦 Epoch 1 — Train Loss: 0.1678\n",
      "\n",
      "✅ Validation Accuracy: 0.7833\n"
     ]
    },
    {
     "name": "stderr",
     "output_type": "stream",
     "text": [
      "                                                           "
     ]
    },
    {
     "name": "stdout",
     "output_type": "stream",
     "text": [
      "\n",
      "📦 Epoch 2 — Train Loss: 0.0603\n",
      "\n",
      "✅ Validation Accuracy: 0.8208\n"
     ]
    },
    {
     "name": "stderr",
     "output_type": "stream",
     "text": [
      "                                                           "
     ]
    },
    {
     "name": "stdout",
     "output_type": "stream",
     "text": [
      "\n",
      "📦 Epoch 3 — Train Loss: 0.0279\n",
      "\n",
      "✅ Validation Accuracy: 0.8375\n"
     ]
    },
    {
     "name": "stderr",
     "output_type": "stream",
     "text": [
      "                                                           "
     ]
    },
    {
     "name": "stdout",
     "output_type": "stream",
     "text": [
      "\n",
      "📦 Epoch 4 — Train Loss: 0.0109\n",
      "\n",
      "✅ Validation Accuracy: 0.7750\n"
     ]
    },
    {
     "name": "stderr",
     "output_type": "stream",
     "text": [
      "                                                           "
     ]
    },
    {
     "name": "stdout",
     "output_type": "stream",
     "text": [
      "\n",
      "📦 Epoch 5 — Train Loss: 0.0075\n",
      "\n",
      "✅ Validation Accuracy: 0.7917\n"
     ]
    },
    {
     "name": "stderr",
     "output_type": "stream",
     "text": [
      "                                                           "
     ]
    },
    {
     "name": "stdout",
     "output_type": "stream",
     "text": [
      "\n",
      "📦 Epoch 6 — Train Loss: 0.0048\n",
      "\n",
      "✅ Validation Accuracy: 0.7958\n"
     ]
    },
    {
     "name": "stderr",
     "output_type": "stream",
     "text": [
      "                                                           "
     ]
    },
    {
     "name": "stdout",
     "output_type": "stream",
     "text": [
      "\n",
      "📦 Epoch 7 — Train Loss: 0.0121\n",
      "\n",
      "✅ Validation Accuracy: 0.8417\n"
     ]
    },
    {
     "name": "stderr",
     "output_type": "stream",
     "text": [
      "                                                           "
     ]
    },
    {
     "name": "stdout",
     "output_type": "stream",
     "text": [
      "\n",
      "📦 Epoch 8 — Train Loss: 0.0145\n",
      "\n",
      "✅ Validation Accuracy: 0.8000\n"
     ]
    },
    {
     "name": "stderr",
     "output_type": "stream",
     "text": [
      "                                                           "
     ]
    },
    {
     "name": "stdout",
     "output_type": "stream",
     "text": [
      "\n",
      "📦 Epoch 9 — Train Loss: 0.0033\n",
      "\n",
      "✅ Validation Accuracy: 0.8417\n"
     ]
    },
    {
     "name": "stderr",
     "output_type": "stream",
     "text": [
      "                                                            "
     ]
    },
    {
     "name": "stdout",
     "output_type": "stream",
     "text": [
      "\n",
      "📦 Epoch 10 — Train Loss: 0.0020\n",
      "\n",
      "✅ Validation Accuracy: 0.8000\n",
      "\n",
      "🔍 Testing config: {'hidden_dim': 256, 'num_layers': 1, 'dropout': 0.5, 'lr': 0.0005, 'batch_size': 32}\n"
     ]
    },
    {
     "name": "stderr",
     "output_type": "stream",
     "text": [
      "                                                             "
     ]
    },
    {
     "name": "stdout",
     "output_type": "stream",
     "text": [
      "\n",
      "📦 Epoch 1 — Train Loss: 0.1673\n",
      "\n",
      "✅ Validation Accuracy: 0.6833\n"
     ]
    },
    {
     "name": "stderr",
     "output_type": "stream",
     "text": [
      "                                                             "
     ]
    },
    {
     "name": "stdout",
     "output_type": "stream",
     "text": [
      "\n",
      "📦 Epoch 2 — Train Loss: 0.0801\n",
      "\n",
      "✅ Validation Accuracy: 0.8208\n"
     ]
    },
    {
     "name": "stderr",
     "output_type": "stream",
     "text": [
      "                                                             "
     ]
    },
    {
     "name": "stdout",
     "output_type": "stream",
     "text": [
      "\n",
      "📦 Epoch 3 — Train Loss: 0.0400\n",
      "\n",
      "✅ Validation Accuracy: 0.8208\n"
     ]
    },
    {
     "name": "stderr",
     "output_type": "stream",
     "text": [
      "                                                             "
     ]
    },
    {
     "name": "stdout",
     "output_type": "stream",
     "text": [
      "\n",
      "📦 Epoch 4 — Train Loss: 0.0187\n",
      "\n",
      "✅ Validation Accuracy: 0.8542\n"
     ]
    },
    {
     "name": "stderr",
     "output_type": "stream",
     "text": [
      "                                                             "
     ]
    },
    {
     "name": "stdout",
     "output_type": "stream",
     "text": [
      "\n",
      "📦 Epoch 5 — Train Loss: 0.0184\n",
      "\n",
      "✅ Validation Accuracy: 0.8708\n"
     ]
    },
    {
     "name": "stderr",
     "output_type": "stream",
     "text": [
      "                                                             "
     ]
    },
    {
     "name": "stdout",
     "output_type": "stream",
     "text": [
      "\n",
      "📦 Epoch 6 — Train Loss: 0.0135\n",
      "\n",
      "✅ Validation Accuracy: 0.8458\n"
     ]
    },
    {
     "name": "stderr",
     "output_type": "stream",
     "text": [
      "                                                             "
     ]
    },
    {
     "name": "stdout",
     "output_type": "stream",
     "text": [
      "\n",
      "📦 Epoch 7 — Train Loss: 0.0062\n",
      "\n",
      "✅ Validation Accuracy: 0.8292\n"
     ]
    },
    {
     "name": "stderr",
     "output_type": "stream",
     "text": [
      "                                                             "
     ]
    },
    {
     "name": "stdout",
     "output_type": "stream",
     "text": [
      "\n",
      "📦 Epoch 8 — Train Loss: 0.0040\n",
      "\n",
      "✅ Validation Accuracy: 0.8375\n"
     ]
    },
    {
     "name": "stderr",
     "output_type": "stream",
     "text": [
      "                                                             "
     ]
    },
    {
     "name": "stdout",
     "output_type": "stream",
     "text": [
      "\n",
      "📦 Epoch 9 — Train Loss: 0.0043\n",
      "\n",
      "✅ Validation Accuracy: 0.8417\n"
     ]
    },
    {
     "name": "stderr",
     "output_type": "stream",
     "text": [
      "                                                              "
     ]
    },
    {
     "name": "stdout",
     "output_type": "stream",
     "text": [
      "\n",
      "📦 Epoch 10 — Train Loss: 0.0049\n",
      "\n",
      "✅ Validation Accuracy: 0.8542\n",
      "\n",
      "🔍 Testing config: {'hidden_dim': 256, 'num_layers': 1, 'dropout': 0.5, 'lr': 0.0005, 'batch_size': 64}\n"
     ]
    },
    {
     "name": "stderr",
     "output_type": "stream",
     "text": [
      "                                                           "
     ]
    },
    {
     "name": "stdout",
     "output_type": "stream",
     "text": [
      "\n",
      "📦 Epoch 1 — Train Loss: 0.1911\n",
      "\n",
      "✅ Validation Accuracy: 0.5542\n"
     ]
    },
    {
     "name": "stderr",
     "output_type": "stream",
     "text": [
      "                                                           "
     ]
    },
    {
     "name": "stdout",
     "output_type": "stream",
     "text": [
      "\n",
      "📦 Epoch 2 — Train Loss: 0.1100\n",
      "\n",
      "✅ Validation Accuracy: 0.7042\n"
     ]
    },
    {
     "name": "stderr",
     "output_type": "stream",
     "text": [
      "                                                           "
     ]
    },
    {
     "name": "stdout",
     "output_type": "stream",
     "text": [
      "\n",
      "📦 Epoch 3 — Train Loss: 0.0620\n",
      "\n",
      "✅ Validation Accuracy: 0.8458\n"
     ]
    },
    {
     "name": "stderr",
     "output_type": "stream",
     "text": [
      "                                                           "
     ]
    },
    {
     "name": "stdout",
     "output_type": "stream",
     "text": [
      "\n",
      "📦 Epoch 4 — Train Loss: 0.0382\n",
      "\n",
      "✅ Validation Accuracy: 0.8542\n"
     ]
    },
    {
     "name": "stderr",
     "output_type": "stream",
     "text": [
      "                                                           "
     ]
    },
    {
     "name": "stdout",
     "output_type": "stream",
     "text": [
      "\n",
      "📦 Epoch 5 — Train Loss: 0.0304\n",
      "\n",
      "✅ Validation Accuracy: 0.8125\n"
     ]
    },
    {
     "name": "stderr",
     "output_type": "stream",
     "text": [
      "                                                           "
     ]
    },
    {
     "name": "stdout",
     "output_type": "stream",
     "text": [
      "\n",
      "📦 Epoch 6 — Train Loss: 0.0381\n",
      "\n",
      "✅ Validation Accuracy: 0.8458\n"
     ]
    },
    {
     "name": "stderr",
     "output_type": "stream",
     "text": [
      "                                                           "
     ]
    },
    {
     "name": "stdout",
     "output_type": "stream",
     "text": [
      "\n",
      "📦 Epoch 7 — Train Loss: 0.0097\n",
      "\n",
      "✅ Validation Accuracy: 0.8417\n"
     ]
    },
    {
     "name": "stderr",
     "output_type": "stream",
     "text": [
      "                                                           "
     ]
    },
    {
     "name": "stdout",
     "output_type": "stream",
     "text": [
      "\n",
      "📦 Epoch 8 — Train Loss: 0.0211\n",
      "\n",
      "✅ Validation Accuracy: 0.7917\n"
     ]
    },
    {
     "name": "stderr",
     "output_type": "stream",
     "text": [
      "                                                           "
     ]
    },
    {
     "name": "stdout",
     "output_type": "stream",
     "text": [
      "\n",
      "📦 Epoch 9 — Train Loss: 0.0147\n",
      "\n",
      "✅ Validation Accuracy: 0.8417\n"
     ]
    },
    {
     "name": "stderr",
     "output_type": "stream",
     "text": [
      "                                                            "
     ]
    },
    {
     "name": "stdout",
     "output_type": "stream",
     "text": [
      "\n",
      "📦 Epoch 10 — Train Loss: 0.0250\n",
      "\n",
      "✅ Validation Accuracy: 0.8458\n",
      "\n",
      "🔍 Testing config: {'hidden_dim': 256, 'num_layers': 2, 'dropout': 0.3, 'lr': 0.001, 'batch_size': 32}\n"
     ]
    },
    {
     "name": "stderr",
     "output_type": "stream",
     "text": [
      "                                                             "
     ]
    },
    {
     "name": "stdout",
     "output_type": "stream",
     "text": [
      "\n",
      "📦 Epoch 1 — Train Loss: 0.1202\n",
      "\n",
      "✅ Validation Accuracy: 0.8125\n"
     ]
    },
    {
     "name": "stderr",
     "output_type": "stream",
     "text": [
      "                                                             "
     ]
    },
    {
     "name": "stdout",
     "output_type": "stream",
     "text": [
      "\n",
      "📦 Epoch 2 — Train Loss: 0.0479\n",
      "\n",
      "✅ Validation Accuracy: 0.8417\n"
     ]
    },
    {
     "name": "stderr",
     "output_type": "stream",
     "text": [
      "                                                             "
     ]
    },
    {
     "name": "stdout",
     "output_type": "stream",
     "text": [
      "\n",
      "📦 Epoch 3 — Train Loss: 0.0205\n",
      "\n",
      "✅ Validation Accuracy: 0.8167\n"
     ]
    },
    {
     "name": "stderr",
     "output_type": "stream",
     "text": [
      "                                                             "
     ]
    },
    {
     "name": "stdout",
     "output_type": "stream",
     "text": [
      "\n",
      "📦 Epoch 4 — Train Loss: 0.0117\n",
      "\n",
      "✅ Validation Accuracy: 0.8667\n"
     ]
    },
    {
     "name": "stderr",
     "output_type": "stream",
     "text": [
      "                                                             "
     ]
    },
    {
     "name": "stdout",
     "output_type": "stream",
     "text": [
      "\n",
      "📦 Epoch 5 — Train Loss: 0.0048\n",
      "\n",
      "✅ Validation Accuracy: 0.8458\n"
     ]
    },
    {
     "name": "stderr",
     "output_type": "stream",
     "text": [
      "                                                             "
     ]
    },
    {
     "name": "stdout",
     "output_type": "stream",
     "text": [
      "\n",
      "📦 Epoch 6 — Train Loss: 0.0072\n",
      "\n",
      "✅ Validation Accuracy: 0.8125\n"
     ]
    },
    {
     "name": "stderr",
     "output_type": "stream",
     "text": [
      "                                                             "
     ]
    },
    {
     "name": "stdout",
     "output_type": "stream",
     "text": [
      "\n",
      "📦 Epoch 7 — Train Loss: 0.0122\n",
      "\n",
      "✅ Validation Accuracy: 0.8250\n"
     ]
    },
    {
     "name": "stderr",
     "output_type": "stream",
     "text": [
      "                                                             "
     ]
    },
    {
     "name": "stdout",
     "output_type": "stream",
     "text": [
      "\n",
      "📦 Epoch 8 — Train Loss: 0.0034\n",
      "\n",
      "✅ Validation Accuracy: 0.8333\n"
     ]
    },
    {
     "name": "stderr",
     "output_type": "stream",
     "text": [
      "                                                             "
     ]
    },
    {
     "name": "stdout",
     "output_type": "stream",
     "text": [
      "\n",
      "📦 Epoch 9 — Train Loss: 0.0036\n",
      "\n",
      "✅ Validation Accuracy: 0.8333\n"
     ]
    },
    {
     "name": "stderr",
     "output_type": "stream",
     "text": [
      "                                                              "
     ]
    },
    {
     "name": "stdout",
     "output_type": "stream",
     "text": [
      "\n",
      "📦 Epoch 10 — Train Loss: 0.0010\n",
      "\n",
      "✅ Validation Accuracy: 0.8333\n",
      "\n",
      "🔍 Testing config: {'hidden_dim': 256, 'num_layers': 2, 'dropout': 0.3, 'lr': 0.001, 'batch_size': 64}\n"
     ]
    },
    {
     "name": "stderr",
     "output_type": "stream",
     "text": [
      "                                                           "
     ]
    },
    {
     "name": "stdout",
     "output_type": "stream",
     "text": [
      "\n",
      "📦 Epoch 1 — Train Loss: 0.1414\n",
      "\n",
      "✅ Validation Accuracy: 0.7583\n"
     ]
    },
    {
     "name": "stderr",
     "output_type": "stream",
     "text": [
      "                                                           "
     ]
    },
    {
     "name": "stdout",
     "output_type": "stream",
     "text": [
      "\n",
      "📦 Epoch 2 — Train Loss: 0.0594\n",
      "\n",
      "✅ Validation Accuracy: 0.8458\n"
     ]
    },
    {
     "name": "stderr",
     "output_type": "stream",
     "text": [
      "                                                           "
     ]
    },
    {
     "name": "stdout",
     "output_type": "stream",
     "text": [
      "\n",
      "📦 Epoch 3 — Train Loss: 0.0245\n",
      "\n",
      "✅ Validation Accuracy: 0.8833\n"
     ]
    },
    {
     "name": "stderr",
     "output_type": "stream",
     "text": [
      "                                                           "
     ]
    },
    {
     "name": "stdout",
     "output_type": "stream",
     "text": [
      "\n",
      "📦 Epoch 4 — Train Loss: 0.0212\n",
      "\n",
      "✅ Validation Accuracy: 0.8542\n"
     ]
    },
    {
     "name": "stderr",
     "output_type": "stream",
     "text": [
      "                                                           "
     ]
    },
    {
     "name": "stdout",
     "output_type": "stream",
     "text": [
      "\n",
      "📦 Epoch 5 — Train Loss: 0.0130\n",
      "\n",
      "✅ Validation Accuracy: 0.8625\n"
     ]
    },
    {
     "name": "stderr",
     "output_type": "stream",
     "text": [
      "                                                           "
     ]
    },
    {
     "name": "stdout",
     "output_type": "stream",
     "text": [
      "\n",
      "📦 Epoch 6 — Train Loss: 0.0099\n",
      "\n",
      "✅ Validation Accuracy: 0.8375\n"
     ]
    },
    {
     "name": "stderr",
     "output_type": "stream",
     "text": [
      "                                                           "
     ]
    },
    {
     "name": "stdout",
     "output_type": "stream",
     "text": [
      "\n",
      "📦 Epoch 7 — Train Loss: 0.0079\n",
      "\n",
      "✅ Validation Accuracy: 0.8250\n"
     ]
    },
    {
     "name": "stderr",
     "output_type": "stream",
     "text": [
      "                                                           "
     ]
    },
    {
     "name": "stdout",
     "output_type": "stream",
     "text": [
      "\n",
      "📦 Epoch 8 — Train Loss: 0.0070\n",
      "\n",
      "✅ Validation Accuracy: 0.8333\n"
     ]
    },
    {
     "name": "stderr",
     "output_type": "stream",
     "text": [
      "                                                           "
     ]
    },
    {
     "name": "stdout",
     "output_type": "stream",
     "text": [
      "\n",
      "📦 Epoch 9 — Train Loss: 0.0086\n",
      "\n",
      "✅ Validation Accuracy: 0.8458\n"
     ]
    },
    {
     "name": "stderr",
     "output_type": "stream",
     "text": [
      "                                                            "
     ]
    },
    {
     "name": "stdout",
     "output_type": "stream",
     "text": [
      "\n",
      "📦 Epoch 10 — Train Loss: 0.0070\n",
      "\n",
      "✅ Validation Accuracy: 0.8000\n",
      "\n",
      "🔍 Testing config: {'hidden_dim': 256, 'num_layers': 2, 'dropout': 0.3, 'lr': 0.0005, 'batch_size': 32}\n"
     ]
    },
    {
     "name": "stderr",
     "output_type": "stream",
     "text": [
      "                                                             "
     ]
    },
    {
     "name": "stdout",
     "output_type": "stream",
     "text": [
      "\n",
      "📦 Epoch 1 — Train Loss: 0.1361\n",
      "\n",
      "✅ Validation Accuracy: 0.8083\n"
     ]
    },
    {
     "name": "stderr",
     "output_type": "stream",
     "text": [
      "                                                             "
     ]
    },
    {
     "name": "stdout",
     "output_type": "stream",
     "text": [
      "\n",
      "📦 Epoch 2 — Train Loss: 0.0541\n",
      "\n",
      "✅ Validation Accuracy: 0.8792\n"
     ]
    },
    {
     "name": "stderr",
     "output_type": "stream",
     "text": [
      "                                                             "
     ]
    },
    {
     "name": "stdout",
     "output_type": "stream",
     "text": [
      "\n",
      "📦 Epoch 3 — Train Loss: 0.0294\n",
      "\n",
      "✅ Validation Accuracy: 0.8625\n"
     ]
    },
    {
     "name": "stderr",
     "output_type": "stream",
     "text": [
      "                                                             "
     ]
    },
    {
     "name": "stdout",
     "output_type": "stream",
     "text": [
      "\n",
      "📦 Epoch 4 — Train Loss: 0.0207\n",
      "\n",
      "✅ Validation Accuracy: 0.8583\n"
     ]
    },
    {
     "name": "stderr",
     "output_type": "stream",
     "text": [
      "                                                             "
     ]
    },
    {
     "name": "stdout",
     "output_type": "stream",
     "text": [
      "\n",
      "📦 Epoch 5 — Train Loss: 0.0148\n",
      "\n",
      "✅ Validation Accuracy: 0.8833\n"
     ]
    },
    {
     "name": "stderr",
     "output_type": "stream",
     "text": [
      "                                                             "
     ]
    },
    {
     "name": "stdout",
     "output_type": "stream",
     "text": [
      "\n",
      "📦 Epoch 6 — Train Loss: 0.0082\n",
      "\n",
      "✅ Validation Accuracy: 0.8667\n"
     ]
    },
    {
     "name": "stderr",
     "output_type": "stream",
     "text": [
      "                                                             "
     ]
    },
    {
     "name": "stdout",
     "output_type": "stream",
     "text": [
      "\n",
      "📦 Epoch 7 — Train Loss: 0.0186\n",
      "\n",
      "✅ Validation Accuracy: 0.8208\n"
     ]
    },
    {
     "name": "stderr",
     "output_type": "stream",
     "text": [
      "                                                             "
     ]
    },
    {
     "name": "stdout",
     "output_type": "stream",
     "text": [
      "\n",
      "📦 Epoch 8 — Train Loss: 0.0101\n",
      "\n",
      "✅ Validation Accuracy: 0.8708\n"
     ]
    },
    {
     "name": "stderr",
     "output_type": "stream",
     "text": [
      "                                                             "
     ]
    },
    {
     "name": "stdout",
     "output_type": "stream",
     "text": [
      "\n",
      "📦 Epoch 9 — Train Loss: 0.0038\n",
      "\n",
      "✅ Validation Accuracy: 0.8292\n"
     ]
    },
    {
     "name": "stderr",
     "output_type": "stream",
     "text": [
      "                                                              "
     ]
    },
    {
     "name": "stdout",
     "output_type": "stream",
     "text": [
      "\n",
      "📦 Epoch 10 — Train Loss: 0.0015\n",
      "\n",
      "✅ Validation Accuracy: 0.8167\n",
      "\n",
      "🔍 Testing config: {'hidden_dim': 256, 'num_layers': 2, 'dropout': 0.3, 'lr': 0.0005, 'batch_size': 64}\n"
     ]
    },
    {
     "name": "stderr",
     "output_type": "stream",
     "text": [
      "                                                           "
     ]
    },
    {
     "name": "stdout",
     "output_type": "stream",
     "text": [
      "\n",
      "📦 Epoch 1 — Train Loss: 0.1736\n",
      "\n",
      "✅ Validation Accuracy: 0.7417\n"
     ]
    },
    {
     "name": "stderr",
     "output_type": "stream",
     "text": [
      "                                                           "
     ]
    },
    {
     "name": "stdout",
     "output_type": "stream",
     "text": [
      "\n",
      "📦 Epoch 2 — Train Loss: 0.0696\n",
      "\n",
      "✅ Validation Accuracy: 0.8625\n"
     ]
    },
    {
     "name": "stderr",
     "output_type": "stream",
     "text": [
      "                                                           "
     ]
    },
    {
     "name": "stdout",
     "output_type": "stream",
     "text": [
      "\n",
      "📦 Epoch 3 — Train Loss: 0.0309\n",
      "\n",
      "✅ Validation Accuracy: 0.8708\n"
     ]
    },
    {
     "name": "stderr",
     "output_type": "stream",
     "text": [
      "                                                           "
     ]
    },
    {
     "name": "stdout",
     "output_type": "stream",
     "text": [
      "\n",
      "📦 Epoch 4 — Train Loss: 0.0179\n",
      "\n",
      "✅ Validation Accuracy: 0.8250\n"
     ]
    },
    {
     "name": "stderr",
     "output_type": "stream",
     "text": [
      "                                                           "
     ]
    },
    {
     "name": "stdout",
     "output_type": "stream",
     "text": [
      "\n",
      "📦 Epoch 5 — Train Loss: 0.0253\n",
      "\n",
      "✅ Validation Accuracy: 0.8250\n"
     ]
    },
    {
     "name": "stderr",
     "output_type": "stream",
     "text": [
      "                                                           "
     ]
    },
    {
     "name": "stdout",
     "output_type": "stream",
     "text": [
      "\n",
      "📦 Epoch 6 — Train Loss: 0.0133\n",
      "\n",
      "✅ Validation Accuracy: 0.8458\n"
     ]
    },
    {
     "name": "stderr",
     "output_type": "stream",
     "text": [
      "                                                           "
     ]
    },
    {
     "name": "stdout",
     "output_type": "stream",
     "text": [
      "\n",
      "📦 Epoch 7 — Train Loss: 0.0111\n",
      "\n",
      "✅ Validation Accuracy: 0.8000\n"
     ]
    },
    {
     "name": "stderr",
     "output_type": "stream",
     "text": [
      "                                                           "
     ]
    },
    {
     "name": "stdout",
     "output_type": "stream",
     "text": [
      "\n",
      "📦 Epoch 8 — Train Loss: 0.0128\n",
      "\n",
      "✅ Validation Accuracy: 0.8458\n"
     ]
    },
    {
     "name": "stderr",
     "output_type": "stream",
     "text": [
      "                                                           "
     ]
    },
    {
     "name": "stdout",
     "output_type": "stream",
     "text": [
      "\n",
      "📦 Epoch 9 — Train Loss: 0.0034\n",
      "\n",
      "✅ Validation Accuracy: 0.8208\n"
     ]
    },
    {
     "name": "stderr",
     "output_type": "stream",
     "text": [
      "                                                            "
     ]
    },
    {
     "name": "stdout",
     "output_type": "stream",
     "text": [
      "\n",
      "📦 Epoch 10 — Train Loss: 0.0025\n",
      "\n",
      "✅ Validation Accuracy: 0.8292\n",
      "\n",
      "🔍 Testing config: {'hidden_dim': 256, 'num_layers': 2, 'dropout': 0.5, 'lr': 0.001, 'batch_size': 32}\n"
     ]
    },
    {
     "name": "stderr",
     "output_type": "stream",
     "text": [
      "                                                             "
     ]
    },
    {
     "name": "stdout",
     "output_type": "stream",
     "text": [
      "\n",
      "📦 Epoch 1 — Train Loss: 0.1268\n",
      "\n",
      "✅ Validation Accuracy: 0.8125\n"
     ]
    },
    {
     "name": "stderr",
     "output_type": "stream",
     "text": [
      "                                                             "
     ]
    },
    {
     "name": "stdout",
     "output_type": "stream",
     "text": [
      "\n",
      "📦 Epoch 2 — Train Loss: 0.0449\n",
      "\n",
      "✅ Validation Accuracy: 0.8125\n"
     ]
    },
    {
     "name": "stderr",
     "output_type": "stream",
     "text": [
      "                                                             "
     ]
    },
    {
     "name": "stdout",
     "output_type": "stream",
     "text": [
      "\n",
      "📦 Epoch 3 — Train Loss: 0.0273\n",
      "\n",
      "✅ Validation Accuracy: 0.8250\n"
     ]
    },
    {
     "name": "stderr",
     "output_type": "stream",
     "text": [
      "                                                             "
     ]
    },
    {
     "name": "stdout",
     "output_type": "stream",
     "text": [
      "\n",
      "📦 Epoch 4 — Train Loss: 0.0202\n",
      "\n",
      "✅ Validation Accuracy: 0.8333\n"
     ]
    },
    {
     "name": "stderr",
     "output_type": "stream",
     "text": [
      "                                                             "
     ]
    },
    {
     "name": "stdout",
     "output_type": "stream",
     "text": [
      "\n",
      "📦 Epoch 5 — Train Loss: 0.0071\n",
      "\n",
      "✅ Validation Accuracy: 0.8375\n"
     ]
    },
    {
     "name": "stderr",
     "output_type": "stream",
     "text": [
      "                                                             "
     ]
    },
    {
     "name": "stdout",
     "output_type": "stream",
     "text": [
      "\n",
      "📦 Epoch 6 — Train Loss: 0.0089\n",
      "\n",
      "✅ Validation Accuracy: 0.8208\n"
     ]
    },
    {
     "name": "stderr",
     "output_type": "stream",
     "text": [
      "                                                             "
     ]
    },
    {
     "name": "stdout",
     "output_type": "stream",
     "text": [
      "\n",
      "📦 Epoch 7 — Train Loss: 0.0038\n",
      "\n",
      "✅ Validation Accuracy: 0.8333\n"
     ]
    },
    {
     "name": "stderr",
     "output_type": "stream",
     "text": [
      "                                                             "
     ]
    },
    {
     "name": "stdout",
     "output_type": "stream",
     "text": [
      "\n",
      "📦 Epoch 8 — Train Loss: 0.0027\n",
      "\n",
      "✅ Validation Accuracy: 0.8208\n"
     ]
    },
    {
     "name": "stderr",
     "output_type": "stream",
     "text": [
      "                                                             "
     ]
    },
    {
     "name": "stdout",
     "output_type": "stream",
     "text": [
      "\n",
      "📦 Epoch 9 — Train Loss: 0.0053\n",
      "\n",
      "✅ Validation Accuracy: 0.8250\n"
     ]
    },
    {
     "name": "stderr",
     "output_type": "stream",
     "text": [
      "                                                              "
     ]
    },
    {
     "name": "stdout",
     "output_type": "stream",
     "text": [
      "\n",
      "📦 Epoch 10 — Train Loss: 0.0030\n",
      "\n",
      "✅ Validation Accuracy: 0.8083\n",
      "\n",
      "🔍 Testing config: {'hidden_dim': 256, 'num_layers': 2, 'dropout': 0.5, 'lr': 0.001, 'batch_size': 64}\n"
     ]
    },
    {
     "name": "stderr",
     "output_type": "stream",
     "text": [
      "                                                           "
     ]
    },
    {
     "name": "stdout",
     "output_type": "stream",
     "text": [
      "\n",
      "📦 Epoch 1 — Train Loss: 0.1636\n",
      "\n",
      "✅ Validation Accuracy: 0.6917\n"
     ]
    },
    {
     "name": "stderr",
     "output_type": "stream",
     "text": [
      "                                                           "
     ]
    },
    {
     "name": "stdout",
     "output_type": "stream",
     "text": [
      "\n",
      "📦 Epoch 2 — Train Loss: 0.0720\n",
      "\n",
      "✅ Validation Accuracy: 0.8125\n"
     ]
    },
    {
     "name": "stderr",
     "output_type": "stream",
     "text": [
      "                                                           "
     ]
    },
    {
     "name": "stdout",
     "output_type": "stream",
     "text": [
      "\n",
      "📦 Epoch 3 — Train Loss: 0.0325\n",
      "\n",
      "✅ Validation Accuracy: 0.8375\n"
     ]
    },
    {
     "name": "stderr",
     "output_type": "stream",
     "text": [
      "                                                           "
     ]
    },
    {
     "name": "stdout",
     "output_type": "stream",
     "text": [
      "\n",
      "📦 Epoch 4 — Train Loss: 0.0162\n",
      "\n",
      "✅ Validation Accuracy: 0.7958\n"
     ]
    },
    {
     "name": "stderr",
     "output_type": "stream",
     "text": [
      "                                                           "
     ]
    },
    {
     "name": "stdout",
     "output_type": "stream",
     "text": [
      "\n",
      "📦 Epoch 5 — Train Loss: 0.0136\n",
      "\n",
      "✅ Validation Accuracy: 0.8292\n"
     ]
    },
    {
     "name": "stderr",
     "output_type": "stream",
     "text": [
      "                                                           "
     ]
    },
    {
     "name": "stdout",
     "output_type": "stream",
     "text": [
      "\n",
      "📦 Epoch 6 — Train Loss: 0.0096\n",
      "\n",
      "✅ Validation Accuracy: 0.8125\n"
     ]
    },
    {
     "name": "stderr",
     "output_type": "stream",
     "text": [
      "                                                           "
     ]
    },
    {
     "name": "stdout",
     "output_type": "stream",
     "text": [
      "\n",
      "📦 Epoch 7 — Train Loss: 0.0092\n",
      "\n",
      "✅ Validation Accuracy: 0.8167\n"
     ]
    },
    {
     "name": "stderr",
     "output_type": "stream",
     "text": [
      "                                                           "
     ]
    },
    {
     "name": "stdout",
     "output_type": "stream",
     "text": [
      "\n",
      "📦 Epoch 8 — Train Loss: 0.0052\n",
      "\n",
      "✅ Validation Accuracy: 0.8042\n"
     ]
    },
    {
     "name": "stderr",
     "output_type": "stream",
     "text": [
      "                                                           "
     ]
    },
    {
     "name": "stdout",
     "output_type": "stream",
     "text": [
      "\n",
      "📦 Epoch 9 — Train Loss: 0.0063\n",
      "\n",
      "✅ Validation Accuracy: 0.8250\n"
     ]
    },
    {
     "name": "stderr",
     "output_type": "stream",
     "text": [
      "                                                            "
     ]
    },
    {
     "name": "stdout",
     "output_type": "stream",
     "text": [
      "\n",
      "📦 Epoch 10 — Train Loss: 0.0040\n",
      "\n",
      "✅ Validation Accuracy: 0.8125\n",
      "\n",
      "🔍 Testing config: {'hidden_dim': 256, 'num_layers': 2, 'dropout': 0.5, 'lr': 0.0005, 'batch_size': 32}\n"
     ]
    },
    {
     "name": "stderr",
     "output_type": "stream",
     "text": [
      "                                                             "
     ]
    },
    {
     "name": "stdout",
     "output_type": "stream",
     "text": [
      "\n",
      "📦 Epoch 1 — Train Loss: 0.1316\n",
      "\n",
      "✅ Validation Accuracy: 0.8250\n"
     ]
    },
    {
     "name": "stderr",
     "output_type": "stream",
     "text": [
      "                                                             "
     ]
    },
    {
     "name": "stdout",
     "output_type": "stream",
     "text": [
      "\n",
      "📦 Epoch 2 — Train Loss: 0.0467\n",
      "\n",
      "✅ Validation Accuracy: 0.8500\n"
     ]
    },
    {
     "name": "stderr",
     "output_type": "stream",
     "text": [
      "                                                             "
     ]
    },
    {
     "name": "stdout",
     "output_type": "stream",
     "text": [
      "\n",
      "📦 Epoch 3 — Train Loss: 0.0240\n",
      "\n",
      "✅ Validation Accuracy: 0.8667\n"
     ]
    },
    {
     "name": "stderr",
     "output_type": "stream",
     "text": [
      "                                                             "
     ]
    },
    {
     "name": "stdout",
     "output_type": "stream",
     "text": [
      "\n",
      "📦 Epoch 4 — Train Loss: 0.0211\n",
      "\n",
      "✅ Validation Accuracy: 0.8500\n"
     ]
    },
    {
     "name": "stderr",
     "output_type": "stream",
     "text": [
      "                                                             "
     ]
    },
    {
     "name": "stdout",
     "output_type": "stream",
     "text": [
      "\n",
      "📦 Epoch 5 — Train Loss: 0.0255\n",
      "\n",
      "✅ Validation Accuracy: 0.8583\n"
     ]
    },
    {
     "name": "stderr",
     "output_type": "stream",
     "text": [
      "                                                             "
     ]
    },
    {
     "name": "stdout",
     "output_type": "stream",
     "text": [
      "\n",
      "📦 Epoch 6 — Train Loss: 0.0081\n",
      "\n",
      "✅ Validation Accuracy: 0.8125\n"
     ]
    },
    {
     "name": "stderr",
     "output_type": "stream",
     "text": [
      "                                                             "
     ]
    },
    {
     "name": "stdout",
     "output_type": "stream",
     "text": [
      "\n",
      "📦 Epoch 7 — Train Loss: 0.0108\n",
      "\n",
      "✅ Validation Accuracy: 0.8375\n"
     ]
    },
    {
     "name": "stderr",
     "output_type": "stream",
     "text": [
      "                                                             "
     ]
    },
    {
     "name": "stdout",
     "output_type": "stream",
     "text": [
      "\n",
      "📦 Epoch 8 — Train Loss: 0.0108\n",
      "\n",
      "✅ Validation Accuracy: 0.8583\n"
     ]
    },
    {
     "name": "stderr",
     "output_type": "stream",
     "text": [
      "                                                             "
     ]
    },
    {
     "name": "stdout",
     "output_type": "stream",
     "text": [
      "\n",
      "📦 Epoch 9 — Train Loss: 0.0078\n",
      "\n",
      "✅ Validation Accuracy: 0.8542\n"
     ]
    },
    {
     "name": "stderr",
     "output_type": "stream",
     "text": [
      "                                                              "
     ]
    },
    {
     "name": "stdout",
     "output_type": "stream",
     "text": [
      "\n",
      "📦 Epoch 10 — Train Loss: 0.0035\n",
      "\n",
      "✅ Validation Accuracy: 0.8417\n",
      "\n",
      "🔍 Testing config: {'hidden_dim': 256, 'num_layers': 2, 'dropout': 0.5, 'lr': 0.0005, 'batch_size': 64}\n"
     ]
    },
    {
     "name": "stderr",
     "output_type": "stream",
     "text": [
      "                                                           "
     ]
    },
    {
     "name": "stdout",
     "output_type": "stream",
     "text": [
      "\n",
      "📦 Epoch 1 — Train Loss: 0.1610\n",
      "\n",
      "✅ Validation Accuracy: 0.8208\n"
     ]
    },
    {
     "name": "stderr",
     "output_type": "stream",
     "text": [
      "                                                           "
     ]
    },
    {
     "name": "stdout",
     "output_type": "stream",
     "text": [
      "\n",
      "📦 Epoch 2 — Train Loss: 0.0665\n",
      "\n",
      "✅ Validation Accuracy: 0.8583\n"
     ]
    },
    {
     "name": "stderr",
     "output_type": "stream",
     "text": [
      "                                                           "
     ]
    },
    {
     "name": "stdout",
     "output_type": "stream",
     "text": [
      "\n",
      "📦 Epoch 3 — Train Loss: 0.0294\n",
      "\n",
      "✅ Validation Accuracy: 0.8583\n"
     ]
    },
    {
     "name": "stderr",
     "output_type": "stream",
     "text": [
      "                                                           "
     ]
    },
    {
     "name": "stdout",
     "output_type": "stream",
     "text": [
      "\n",
      "📦 Epoch 4 — Train Loss: 0.0209\n",
      "\n",
      "✅ Validation Accuracy: 0.8750\n"
     ]
    },
    {
     "name": "stderr",
     "output_type": "stream",
     "text": [
      "                                                           "
     ]
    },
    {
     "name": "stdout",
     "output_type": "stream",
     "text": [
      "\n",
      "📦 Epoch 5 — Train Loss: 0.0114\n",
      "\n",
      "✅ Validation Accuracy: 0.8500\n"
     ]
    },
    {
     "name": "stderr",
     "output_type": "stream",
     "text": [
      "                                                           "
     ]
    },
    {
     "name": "stdout",
     "output_type": "stream",
     "text": [
      "\n",
      "📦 Epoch 6 — Train Loss: 0.0136\n",
      "\n",
      "✅ Validation Accuracy: 0.8417\n"
     ]
    },
    {
     "name": "stderr",
     "output_type": "stream",
     "text": [
      "                                                           "
     ]
    },
    {
     "name": "stdout",
     "output_type": "stream",
     "text": [
      "\n",
      "📦 Epoch 7 — Train Loss: 0.0099\n",
      "\n",
      "✅ Validation Accuracy: 0.8333\n"
     ]
    },
    {
     "name": "stderr",
     "output_type": "stream",
     "text": [
      "                                                           "
     ]
    },
    {
     "name": "stdout",
     "output_type": "stream",
     "text": [
      "\n",
      "📦 Epoch 8 — Train Loss: 0.0079\n",
      "\n",
      "✅ Validation Accuracy: 0.8292\n"
     ]
    },
    {
     "name": "stderr",
     "output_type": "stream",
     "text": [
      "                                                           "
     ]
    },
    {
     "name": "stdout",
     "output_type": "stream",
     "text": [
      "\n",
      "📦 Epoch 9 — Train Loss: 0.0042\n",
      "\n",
      "✅ Validation Accuracy: 0.8583\n"
     ]
    },
    {
     "name": "stderr",
     "output_type": "stream",
     "text": [
      "                                                            "
     ]
    },
    {
     "name": "stdout",
     "output_type": "stream",
     "text": [
      "\n",
      "📦 Epoch 10 — Train Loss: 0.0061\n",
      "\n",
      "✅ Validation Accuracy: 0.8625\n"
     ]
    }
   ],
   "source": [
    "results = []\n",
    "\n",
    "for params in param_combinations:\n",
    "    config = dict(zip(param_names, params))\n",
    "    print(f\"\\n🔍 Testing config: {config}\")\n",
    "\n",
    "    model = BiLSTMClassifier(\n",
    "        vocab_size=17120,\n",
    "        embedding_dim=128,\n",
    "        hidden_dim=config['hidden_dim'],\n",
    "        num_layers=config['num_layers'],\n",
    "        dropout=config['dropout']\n",
    "    )\n",
    "\n",
    "    train_loader = DataLoader(train_dataset, batch_size=config['batch_size'], sampler=sampler)\n",
    "\n",
    "    val_accuracies = train_with_validation(\n",
    "        model, train_loader, val_loader,\n",
    "        val_labels, val_domains,\n",
    "        epochs=10, lr=config['lr'], device=device\n",
    "    )\n",
    "\n",
    "    results.append({\n",
    "        **config,\n",
    "        \"val_accuracy_final\": val_accuracies[-1],\n",
    "        \"val_accuracies\": val_accuracies\n",
    "    })"
   ]
  },
  {
   "cell_type": "code",
   "execution_count": 40,
   "id": "146513c2-df5f-43e5-b872-f6b4841db930",
   "metadata": {},
   "outputs": [
    {
     "name": "stdout",
     "output_type": "stream",
     "text": [
      " hidden_dim  num_layers  dropout     lr  batch_size  val_accuracy_peak  epoch_peak  val_accuracy_final\n",
      "        128           1      0.5 0.0005          32           0.912500           5            0.841667\n",
      "        128           1      0.3 0.0005          64           0.887500           5            0.812500\n",
      "        128           1      0.3 0.0010          64           0.887500           3            0.833333\n",
      "        128           2      0.5 0.0005          64           0.883333           4            0.816667\n",
      "        128           1      0.5 0.0010          64           0.883333           5            0.833333\n",
      "        256           2      0.3 0.0005          32           0.883333           5            0.816667\n",
      "        256           2      0.3 0.0010          64           0.883333           3            0.800000\n",
      "        256           1      0.5 0.0010          32           0.879167           2            0.845833\n",
      "        256           1      0.3 0.0005          32           0.879167           4            0.854167\n",
      "        256           2      0.5 0.0005          64           0.875000           4            0.862500\n",
      "        128           1      0.5 0.0010          32           0.875000           3            0.854167\n",
      "        256           1      0.3 0.0005          64           0.875000           4            0.845833\n",
      "        256           2      0.3 0.0005          64           0.870833           3            0.829167\n",
      "        256           1      0.5 0.0005          32           0.870833           5            0.854167\n",
      "        128           1      0.3 0.0010          32           0.870833           3            0.804167\n",
      "        128           2      0.5 0.0005          32           0.870833           6            0.812500\n",
      "        128           2      0.3 0.0010          64           0.870833           2            0.775000\n",
      "        128           1      0.3 0.0005          32           0.870833           4            0.825000\n",
      "        128           2      0.5 0.0010          64           0.870833           3            0.800000\n",
      "        256           2      0.5 0.0005          32           0.866667           3            0.841667\n",
      "        256           2      0.3 0.0010          32           0.866667           4            0.833333\n",
      "        256           1      0.3 0.0010          32           0.866667           3            0.837500\n",
      "        128           2      0.3 0.0010          32           0.862500          10            0.862500\n",
      "        128           2      0.5 0.0010          32           0.862500           2            0.783333\n",
      "        128           2      0.3 0.0005          64           0.858333           3            0.812500\n",
      "        128           2      0.3 0.0005          32           0.854167           8            0.845833\n",
      "        128           1      0.5 0.0005          64           0.854167           7            0.825000\n",
      "        256           1      0.5 0.0005          64           0.854167           4            0.845833\n",
      "        256           1      0.3 0.0010          64           0.845833           4            0.845833\n",
      "        256           1      0.5 0.0010          64           0.841667           7            0.800000\n",
      "        256           2      0.5 0.0010          32           0.837500           5            0.808333\n",
      "        256           2      0.5 0.0010          64           0.837500           3            0.812500\n"
     ]
    }
   ],
   "source": [
    "tuning_results_df = pd.DataFrame(results)\n",
    "\n",
    "tuning_results_df[\"val_accuracy_peak\"] = tuning_results_df[\"val_accuracies\"].apply(max)\n",
    "tuning_results_df[\"epoch_peak\"] = tuning_results_df[\"val_accuracies\"].apply(lambda x: x.index(max(x)) + 1)\n",
    "\n",
    "tuning_results_df = tuning_results_df.sort_values(by=\"val_accuracy_peak\", ascending=False)\n",
    "\n",
    "print(tuning_results_df[[\n",
    "    \"hidden_dim\", \"num_layers\", \"dropout\", \"lr\", \"batch_size\",\n",
    "    \"val_accuracy_peak\", \"epoch_peak\", \"val_accuracy_final\"\n",
    "]].to_string(index=False))"
   ]
  },
  {
   "cell_type": "code",
   "execution_count": 37,
   "id": "17000f8d-59ca-470b-b85a-5306614fec97",
   "metadata": {},
   "outputs": [
    {
     "data": {
      "image/png": "[encoded data removed]",
      "text/plain": [
       "<Figure size 1000x600 with 1 Axes>"
      ]
     },
     "metadata": {},
     "output_type": "display_data"
    }
   ],
   "source": [
    "top5_df = results_df.sort_values(by=\"val_accuracy_peak\", ascending=False).head(5)\n",
    "\n",
    "plt.figure(figsize=(10, 6))\n",
    "\n",
    "for i, row in top5_df.iterrows():\n",
    "    accuracies = row[\"val_accuracies\"]\n",
    "    label = (\n",
    "        f\"hd={row['hidden_dim']}, nl={row['num_layers']}, do={row['dropout']}, \"\n",
    "        f\"lr={row['lr']}, bs={row['batch_size']} (peak={row['val_accuracy_peak']:.3f})\"\n",
    "    )\n",
    "    plt.plot(range(1, len(accuracies) + 1), accuracies, label=label)\n",
    "\n",
    "plt.xlabel(\"Epoch\")\n",
    "plt.ylabel(\"Validation Accuracy\")\n",
    "plt.title(\"Validation Accuracy Across Epochs (Top 5 Peak Models)\")\n",
    "plt.legend(fontsize=\"small\", loc=\"lower right\")\n",
    "plt.grid(True)\n",
    "plt.tight_layout()\n",
    "plt.savefig(\"val_accuracy_top5.png\")\n",
    "plt.show()"
   ]
  },
  {
   "cell_type": "markdown",
   "id": "7e0873cf-0083-4661-8203-56b421bc1c4f",
   "metadata": {},
   "source": [
    "# BiLSTM Final Prediction"
   ]
  },
  {
   "cell_type": "code",
   "execution_count": 38,
   "id": "c25bb959-54d1-4241-b9b3-27043c8bedb2",
   "metadata": {},
   "outputs": [
    {
     "name": "stderr",
     "output_type": "stream",
     "text": [
      "                                                          "
     ]
    },
    {
     "name": "stdout",
     "output_type": "stream",
     "text": [
      "Epoch 1 — Train Loss: 0.1988\n"
     ]
    },
    {
     "name": "stderr",
     "output_type": "stream",
     "text": [
      "                                                          "
     ]
    },
    {
     "name": "stdout",
     "output_type": "stream",
     "text": [
      "Epoch 2 — Train Loss: 0.0970\n"
     ]
    },
    {
     "name": "stderr",
     "output_type": "stream",
     "text": [
      "                                                          "
     ]
    },
    {
     "name": "stdout",
     "output_type": "stream",
     "text": [
      "Epoch 3 — Train Loss: 0.0552\n"
     ]
    },
    {
     "name": "stderr",
     "output_type": "stream",
     "text": [
      "                                                          "
     ]
    },
    {
     "name": "stdout",
     "output_type": "stream",
     "text": [
      "Epoch 4 — Train Loss: 0.0277\n"
     ]
    },
    {
     "name": "stderr",
     "output_type": "stream",
     "text": [
      "                                                          "
     ]
    },
    {
     "name": "stdout",
     "output_type": "stream",
     "text": [
      "Epoch 5 — Train Loss: 0.0160\n"
     ]
    },
    {
     "name": "stderr",
     "output_type": "stream",
     "text": [
      "🔍 Predicting: 100%|██████████| 125/125 [02:29<00:00,  1.19s/it]"
     ]
    },
    {
     "name": "stdout",
     "output_type": "stream",
     "text": [
      "Prediction completed in 149.28 seconds.\n",
      "Saved: submission.csv and full_test_predictions.csv\n"
     ]
    },
    {
     "name": "stderr",
     "output_type": "stream",
     "text": [
      "\n"
     ]
    }
   ],
   "source": [
    "# ------------------ Config ------------------\n",
    "config = {\n",
    "    \"hidden_dim\": 128,\n",
    "    \"num_layers\": 1,\n",
    "    \"dropout\": 0.5,\n",
    "    \"lr\": 0.0005,\n",
    "    \"batch_size\": 32,\n",
    "    \"epochs\": 5\n",
    "}\n",
    "\n",
    "device = torch.device(\"cuda\" if torch.cuda.is_available() else \"cpu\")\n",
    "\n",
    "# ------------------ Data Loading ------------------\n",
    "d1_texts, d1_labels = load_json_lines(\"data/domain1_train_data.json\")\n",
    "d2_texts, d2_labels = load_json_lines(\"data/domain2_train_data.json\")\n",
    "texts = d1_texts + d2_texts\n",
    "labels = d1_labels + d2_labels\n",
    "domains = [0] * len(d1_labels) + [1] * len(d2_labels)\n",
    "\n",
    "X_all = pad_sequence(texts, batch_first=True, padding_value=0)\n",
    "y_all = torch.tensor(labels, dtype=torch.float32)\n",
    "train_dataset = TensorDataset(X_all, y_all)\n",
    "\n",
    "sampler = create_weighted_sampler(domains, labels)\n",
    "train_loader = DataLoader(train_dataset, batch_size=config[\"batch_size\"], sampler=sampler)\n",
    "\n",
    "# ------------------ Model ------------------\n",
    "model = BiLSTMClassifier(\n",
    "    vocab_size=17120,\n",
    "    hidden_dim=config[\"hidden_dim\"],\n",
    "    num_layers=config[\"num_layers\"],\n",
    "    dropout=config[\"dropout\"]\n",
    ")\n",
    "\n",
    "# ------------------ Training ------------------\n",
    "def train(model, train_loader, epochs, lr, device=\"cpu\"):\n",
    "    model = model.to(device)\n",
    "    optimizer = torch.optim.Adam(model.parameters(), lr=lr)\n",
    "\n",
    "    pos_weight = torch.tensor([\n",
    "        sum(1 for y in train_loader.dataset.tensors[1] if y == 0) /\n",
    "        sum(1 for y in train_loader.dataset.tensors[1] if y == 1)\n",
    "    ], device=device)\n",
    "    criterion = torch.nn.BCEWithLogitsLoss(pos_weight=pos_weight)\n",
    "\n",
    "    for epoch in range(1, epochs + 1):\n",
    "        model.train()\n",
    "        total_loss = 0\n",
    "        for X_batch, y_batch in tqdm(train_loader, desc=f\"Epoch {epoch}\", leave=False):\n",
    "            X_batch, y_batch = X_batch.to(device), y_batch.to(device)\n",
    "            optimizer.zero_grad()\n",
    "            logits = model(X_batch)\n",
    "            loss = criterion(logits, y_batch)\n",
    "            loss.backward()\n",
    "            optimizer.step()\n",
    "            total_loss += loss.item()\n",
    "\n",
    "        print(f\"Epoch {epoch} — Train Loss: {total_loss / len(train_loader):.4f}\")\n",
    "\n",
    "train(model, train_loader, epochs=config[\"epochs\"], lr=config[\"lr\"], device=device)\n",
    "\n",
    "# ------------------ Prediction ------------------\n",
    "test_texts = load_test_json(\"data/test_data.json\")\n",
    "X_test = pad_sequence(test_texts, batch_first=True, padding_value=0)\n",
    "test_dataset = TensorDataset(X_test)\n",
    "test_loader = DataLoader(test_dataset, batch_size=config[\"batch_size\"])\n",
    "\n",
    "start = time.time()\n",
    "test_preds, test_probs = predict_with_confidence(model, test_loader, device=device)\n",
    "print(f\"Prediction completed in {time.time() - start:.2f} seconds.\")\n",
    "\n",
    "# ------------------ Output ------------------\n",
    "results_df = pd.DataFrame({\n",
    "    \"id\": list(range(len(test_preds))),\n",
    "    \"label\": test_preds,\n",
    "    \"confidence\": test_probs\n",
    "})\n",
    "results_df.to_csv(\"full_test_predictions.csv\", index=False)\n",
    "results_df[[\"id\", \"label\"]].to_csv(\"submission.csv\", index=False)\n",
    "print(\"Saved: submission.csv and full_test_predictions.csv\")\n"
   ]
  },
  {
   "cell_type": "markdown",
   "id": "123cc956-1592-4eaf-85fa-5472a5357614",
   "metadata": {},
   "source": [
    "# Convolutional Neural Network"
   ]
  },
  {
   "cell_type": "code",
   "execution_count": 42,
   "id": "ad103ee5-e39b-4d0d-abd3-eaa59402f04f",
   "metadata": {},
   "outputs": [],
   "source": [
    "class CNNTextClassifier(nn.Module):\n",
    "    def __init__(self, vocab_size, embedding_dim=128, num_filters=100, filter_sizes=(3, 4, 5), dropout=0.5):\n",
    "        super().__init__()\n",
    "        self.embedding = nn.Embedding(vocab_size, embedding_dim, padding_idx=0)\n",
    "        self.convs = nn.ModuleList([\n",
    "            nn.Conv1d(in_channels=embedding_dim,\n",
    "                      out_channels=num_filters,\n",
    "                      kernel_size=fs)\n",
    "            for fs in filter_sizes\n",
    "        ])\n",
    "        self.dropout = nn.Dropout(dropout)\n",
    "        self.fc = nn.Linear(num_filters * len(filter_sizes), 1)\n",
    "\n",
    "    def forward(self, x):\n",
    "        x = self.embedding(x)           # (batch_size, seq_len, emb_dim)\n",
    "        x = x.permute(0, 2, 1)          # (batch_size, emb_dim, seq_len)\n",
    "        convs = [F.relu(conv(x)) for conv in self.convs]  # list of (batch_size, num_filters, *)\n",
    "        pooled = [F.max_pool1d(c, kernel_size=c.size(2)).squeeze(2) for c in convs]\n",
    "        cat = torch.cat(pooled, dim=1)  # (batch_size, num_filters * len(filter_sizes))\n",
    "        dropped = self.dropout(cat)\n",
    "        logits = self.fc(dropped)\n",
    "        return logits.squeeze()"
   ]
  },
  {
   "cell_type": "code",
   "execution_count": 43,
   "id": "acb9629e-2236-476d-891e-05b0251a0e0f",
   "metadata": {},
   "outputs": [],
   "source": [
    "sampler = create_weighted_sampler(domains, labels)\n",
    "train_loader = DataLoader(train_dataset, batch_size=config[\"batch_size\"], sampler=sampler)"
   ]
  },
  {
   "cell_type": "code",
   "execution_count": 47,
   "id": "a745e8b5-cec8-4e20-a950-994ad34ad2e5",
   "metadata": {},
   "outputs": [
    {
     "name": "stderr",
     "output_type": "stream",
     "text": [
      "                                                             "
     ]
    },
    {
     "name": "stdout",
     "output_type": "stream",
     "text": [
      "\n",
      "📦 Epoch 1 — Train Loss: 0.1627\n",
      "\n",
      "✅ Validation Accuracy: 0.6750\n"
     ]
    },
    {
     "name": "stderr",
     "output_type": "stream",
     "text": [
      "                                                             "
     ]
    },
    {
     "name": "stdout",
     "output_type": "stream",
     "text": [
      "\n",
      "📦 Epoch 2 — Train Loss: 0.0824\n",
      "\n",
      "✅ Validation Accuracy: 0.9375\n"
     ]
    },
    {
     "name": "stderr",
     "output_type": "stream",
     "text": [
      "                                                             "
     ]
    },
    {
     "name": "stdout",
     "output_type": "stream",
     "text": [
      "\n",
      "📦 Epoch 3 — Train Loss: 0.0497\n",
      "\n",
      "✅ Validation Accuracy: 0.9750\n"
     ]
    },
    {
     "name": "stderr",
     "output_type": "stream",
     "text": [
      "                                                             "
     ]
    },
    {
     "name": "stdout",
     "output_type": "stream",
     "text": [
      "\n",
      "📦 Epoch 4 — Train Loss: 0.0344\n",
      "\n",
      "✅ Validation Accuracy: 0.9750\n"
     ]
    },
    {
     "name": "stderr",
     "output_type": "stream",
     "text": [
      "                                                             "
     ]
    },
    {
     "name": "stdout",
     "output_type": "stream",
     "text": [
      "\n",
      "📦 Epoch 5 — Train Loss: 0.0264\n",
      "\n",
      "✅ Validation Accuracy: 0.9833\n"
     ]
    },
    {
     "data": {
      "text/plain": [
       "[0.675, 0.9375, 0.975, 0.975, 0.9833333333333333]"
      ]
     },
     "execution_count": 47,
     "metadata": {},
     "output_type": "execute_result"
    }
   ],
   "source": [
    "model = CNNTextClassifier(vocab_size=17120)\n",
    "train_with_validation(model, train_loader, val_loader, val_labels, val_domains, epochs=5, lr=0.0005, device=device)"
   ]
  },
  {
   "cell_type": "markdown",
   "id": "cee0e9eb-0455-4065-9b21-ecae1bd65f07",
   "metadata": {},
   "source": [
    "# CNN Final Prediction"
   ]
  },
  {
   "cell_type": "code",
   "execution_count": 49,
   "id": "45e9d098-4526-4c76-8c9b-b7b6a8f72f07",
   "metadata": {},
   "outputs": [],
   "source": [
    "model = CNNTextClassifier(vocab_size=17120)"
   ]
  },
  {
   "cell_type": "code",
   "execution_count": 50,
   "id": "d3adbfdb-41e8-4609-b8ea-c4c5dd2d3c81",
   "metadata": {},
   "outputs": [
    {
     "name": "stderr",
     "output_type": "stream",
     "text": [
      "                                                          "
     ]
    },
    {
     "name": "stdout",
     "output_type": "stream",
     "text": [
      "Epoch 1 — Train Loss: 0.1958\n"
     ]
    },
    {
     "name": "stderr",
     "output_type": "stream",
     "text": [
      "                                                          "
     ]
    },
    {
     "name": "stdout",
     "output_type": "stream",
     "text": [
      "Epoch 2 — Train Loss: 0.0987\n"
     ]
    },
    {
     "name": "stderr",
     "output_type": "stream",
     "text": [
      "                                                          "
     ]
    },
    {
     "name": "stdout",
     "output_type": "stream",
     "text": [
      "Epoch 3 — Train Loss: 0.0592\n"
     ]
    },
    {
     "name": "stderr",
     "output_type": "stream",
     "text": [
      "                                                          "
     ]
    },
    {
     "name": "stdout",
     "output_type": "stream",
     "text": [
      "Epoch 4 — Train Loss: 0.0421\n"
     ]
    },
    {
     "name": "stderr",
     "output_type": "stream",
     "text": [
      "                                                          "
     ]
    },
    {
     "name": "stdout",
     "output_type": "stream",
     "text": [
      "Epoch 5 — Train Loss: 0.0294\n"
     ]
    },
    {
     "name": "stderr",
     "output_type": "stream",
     "text": [
      "🔍 Predicting:  21%|██        | 26/125 [01:53<07:13,  4.38s/it]\n"
     ]
    },
    {
     "ename": "KeyboardInterrupt",
     "evalue": "",
     "output_type": "error",
     "traceback": [
      "\u001b[0;31m---------------------------------------------------------------------------\u001b[0m",
      "\u001b[0;31mKeyboardInterrupt\u001b[0m                         Traceback (most recent call last)",
      "Cell \u001b[0;32mIn[50], line 10\u001b[0m\n\u001b[1;32m      7\u001b[0m test_loader \u001b[38;5;241m=\u001b[39m DataLoader(test_dataset, batch_size\u001b[38;5;241m=\u001b[39mconfig[\u001b[38;5;124m\"\u001b[39m\u001b[38;5;124mbatch_size\u001b[39m\u001b[38;5;124m\"\u001b[39m])\n\u001b[1;32m      9\u001b[0m start \u001b[38;5;241m=\u001b[39m time\u001b[38;5;241m.\u001b[39mtime()\n\u001b[0;32m---> 10\u001b[0m test_preds, test_probs \u001b[38;5;241m=\u001b[39m \u001b[43mpredict_with_confidence\u001b[49m\u001b[43m(\u001b[49m\u001b[43mmodel\u001b[49m\u001b[43m,\u001b[49m\u001b[43m \u001b[49m\u001b[43mtest_loader\u001b[49m\u001b[43m,\u001b[49m\u001b[43m \u001b[49m\u001b[43mdevice\u001b[49m\u001b[38;5;241;43m=\u001b[39;49m\u001b[43mdevice\u001b[49m\u001b[43m)\u001b[49m\n\u001b[1;32m     11\u001b[0m \u001b[38;5;28mprint\u001b[39m(\u001b[38;5;124mf\u001b[39m\u001b[38;5;124m\"\u001b[39m\u001b[38;5;124mPrediction completed in \u001b[39m\u001b[38;5;132;01m{\u001b[39;00mtime\u001b[38;5;241m.\u001b[39mtime()\u001b[38;5;250m \u001b[39m\u001b[38;5;241m-\u001b[39m\u001b[38;5;250m \u001b[39mstart\u001b[38;5;132;01m:\u001b[39;00m\u001b[38;5;124m.2f\u001b[39m\u001b[38;5;132;01m}\u001b[39;00m\u001b[38;5;124m seconds.\u001b[39m\u001b[38;5;124m\"\u001b[39m)\n\u001b[1;32m     13\u001b[0m \u001b[38;5;66;03m# ------------------ Output ------------------\u001b[39;00m\n",
      "Cell \u001b[0;32mIn[28], line 8\u001b[0m, in \u001b[0;36mpredict_with_confidence\u001b[0;34m(model, dataloader, device)\u001b[0m\n\u001b[1;32m      6\u001b[0m \u001b[38;5;28;01mfor\u001b[39;00m (X_batch,) \u001b[38;5;129;01min\u001b[39;00m tqdm(dataloader, desc\u001b[38;5;241m=\u001b[39m\u001b[38;5;124m\"\u001b[39m\u001b[38;5;124m🔍 Predicting\u001b[39m\u001b[38;5;124m\"\u001b[39m):\n\u001b[1;32m      7\u001b[0m     X_batch \u001b[38;5;241m=\u001b[39m X_batch\u001b[38;5;241m.\u001b[39mto(device)\n\u001b[0;32m----> 8\u001b[0m     logits \u001b[38;5;241m=\u001b[39m \u001b[43mmodel\u001b[49m\u001b[43m(\u001b[49m\u001b[43mX_batch\u001b[49m\u001b[43m)\u001b[49m\n\u001b[1;32m      9\u001b[0m     batch_probs \u001b[38;5;241m=\u001b[39m torch\u001b[38;5;241m.\u001b[39msigmoid(logits)\u001b[38;5;241m.\u001b[39msqueeze()\n\u001b[1;32m     10\u001b[0m     \u001b[38;5;28;01mif\u001b[39;00m batch_probs\u001b[38;5;241m.\u001b[39mndim \u001b[38;5;241m==\u001b[39m \u001b[38;5;241m0\u001b[39m:\n",
      "File \u001b[0;32m/opt/anaconda3/envs/sml/lib/python3.9/site-packages/torch/nn/modules/module.py:1739\u001b[0m, in \u001b[0;36mModule._wrapped_call_impl\u001b[0;34m(self, *args, **kwargs)\u001b[0m\n\u001b[1;32m   1737\u001b[0m     \u001b[38;5;28;01mreturn\u001b[39;00m \u001b[38;5;28mself\u001b[39m\u001b[38;5;241m.\u001b[39m_compiled_call_impl(\u001b[38;5;241m*\u001b[39margs, \u001b[38;5;241m*\u001b[39m\u001b[38;5;241m*\u001b[39mkwargs)  \u001b[38;5;66;03m# type: ignore[misc]\u001b[39;00m\n\u001b[1;32m   1738\u001b[0m \u001b[38;5;28;01melse\u001b[39;00m:\n\u001b[0;32m-> 1739\u001b[0m     \u001b[38;5;28;01mreturn\u001b[39;00m \u001b[38;5;28;43mself\u001b[39;49m\u001b[38;5;241;43m.\u001b[39;49m\u001b[43m_call_impl\u001b[49m\u001b[43m(\u001b[49m\u001b[38;5;241;43m*\u001b[39;49m\u001b[43margs\u001b[49m\u001b[43m,\u001b[49m\u001b[43m \u001b[49m\u001b[38;5;241;43m*\u001b[39;49m\u001b[38;5;241;43m*\u001b[39;49m\u001b[43mkwargs\u001b[49m\u001b[43m)\u001b[49m\n",
      "File \u001b[0;32m/opt/anaconda3/envs/sml/lib/python3.9/site-packages/torch/nn/modules/module.py:1750\u001b[0m, in \u001b[0;36mModule._call_impl\u001b[0;34m(self, *args, **kwargs)\u001b[0m\n\u001b[1;32m   1745\u001b[0m \u001b[38;5;66;03m# If we don't have any hooks, we want to skip the rest of the logic in\u001b[39;00m\n\u001b[1;32m   1746\u001b[0m \u001b[38;5;66;03m# this function, and just call forward.\u001b[39;00m\n\u001b[1;32m   1747\u001b[0m \u001b[38;5;28;01mif\u001b[39;00m \u001b[38;5;129;01mnot\u001b[39;00m (\u001b[38;5;28mself\u001b[39m\u001b[38;5;241m.\u001b[39m_backward_hooks \u001b[38;5;129;01mor\u001b[39;00m \u001b[38;5;28mself\u001b[39m\u001b[38;5;241m.\u001b[39m_backward_pre_hooks \u001b[38;5;129;01mor\u001b[39;00m \u001b[38;5;28mself\u001b[39m\u001b[38;5;241m.\u001b[39m_forward_hooks \u001b[38;5;129;01mor\u001b[39;00m \u001b[38;5;28mself\u001b[39m\u001b[38;5;241m.\u001b[39m_forward_pre_hooks\n\u001b[1;32m   1748\u001b[0m         \u001b[38;5;129;01mor\u001b[39;00m _global_backward_pre_hooks \u001b[38;5;129;01mor\u001b[39;00m _global_backward_hooks\n\u001b[1;32m   1749\u001b[0m         \u001b[38;5;129;01mor\u001b[39;00m _global_forward_hooks \u001b[38;5;129;01mor\u001b[39;00m _global_forward_pre_hooks):\n\u001b[0;32m-> 1750\u001b[0m     \u001b[38;5;28;01mreturn\u001b[39;00m \u001b[43mforward_call\u001b[49m\u001b[43m(\u001b[49m\u001b[38;5;241;43m*\u001b[39;49m\u001b[43margs\u001b[49m\u001b[43m,\u001b[49m\u001b[43m \u001b[49m\u001b[38;5;241;43m*\u001b[39;49m\u001b[38;5;241;43m*\u001b[39;49m\u001b[43mkwargs\u001b[49m\u001b[43m)\u001b[49m\n\u001b[1;32m   1752\u001b[0m result \u001b[38;5;241m=\u001b[39m \u001b[38;5;28;01mNone\u001b[39;00m\n\u001b[1;32m   1753\u001b[0m called_always_called_hooks \u001b[38;5;241m=\u001b[39m \u001b[38;5;28mset\u001b[39m()\n",
      "Cell \u001b[0;32mIn[42], line 17\u001b[0m, in \u001b[0;36mCNNTextClassifier.forward\u001b[0;34m(self, x)\u001b[0m\n\u001b[1;32m     15\u001b[0m x \u001b[38;5;241m=\u001b[39m \u001b[38;5;28mself\u001b[39m\u001b[38;5;241m.\u001b[39membedding(x)           \u001b[38;5;66;03m# (batch_size, seq_len, emb_dim)\u001b[39;00m\n\u001b[1;32m     16\u001b[0m x \u001b[38;5;241m=\u001b[39m x\u001b[38;5;241m.\u001b[39mpermute(\u001b[38;5;241m0\u001b[39m, \u001b[38;5;241m2\u001b[39m, \u001b[38;5;241m1\u001b[39m)          \u001b[38;5;66;03m# (batch_size, emb_dim, seq_len)\u001b[39;00m\n\u001b[0;32m---> 17\u001b[0m convs \u001b[38;5;241m=\u001b[39m [F\u001b[38;5;241m.\u001b[39mrelu(conv(x)) \u001b[38;5;28;01mfor\u001b[39;00m conv \u001b[38;5;129;01min\u001b[39;00m \u001b[38;5;28mself\u001b[39m\u001b[38;5;241m.\u001b[39mconvs]  \u001b[38;5;66;03m# list of (batch_size, num_filters, *)\u001b[39;00m\n\u001b[1;32m     18\u001b[0m pooled \u001b[38;5;241m=\u001b[39m [F\u001b[38;5;241m.\u001b[39mmax_pool1d(c, kernel_size\u001b[38;5;241m=\u001b[39mc\u001b[38;5;241m.\u001b[39msize(\u001b[38;5;241m2\u001b[39m))\u001b[38;5;241m.\u001b[39msqueeze(\u001b[38;5;241m2\u001b[39m) \u001b[38;5;28;01mfor\u001b[39;00m c \u001b[38;5;129;01min\u001b[39;00m convs]\n\u001b[1;32m     19\u001b[0m cat \u001b[38;5;241m=\u001b[39m torch\u001b[38;5;241m.\u001b[39mcat(pooled, dim\u001b[38;5;241m=\u001b[39m\u001b[38;5;241m1\u001b[39m)  \u001b[38;5;66;03m# (batch_size, num_filters * len(filter_sizes))\u001b[39;00m\n",
      "Cell \u001b[0;32mIn[42], line 17\u001b[0m, in \u001b[0;36m<listcomp>\u001b[0;34m(.0)\u001b[0m\n\u001b[1;32m     15\u001b[0m x \u001b[38;5;241m=\u001b[39m \u001b[38;5;28mself\u001b[39m\u001b[38;5;241m.\u001b[39membedding(x)           \u001b[38;5;66;03m# (batch_size, seq_len, emb_dim)\u001b[39;00m\n\u001b[1;32m     16\u001b[0m x \u001b[38;5;241m=\u001b[39m x\u001b[38;5;241m.\u001b[39mpermute(\u001b[38;5;241m0\u001b[39m, \u001b[38;5;241m2\u001b[39m, \u001b[38;5;241m1\u001b[39m)          \u001b[38;5;66;03m# (batch_size, emb_dim, seq_len)\u001b[39;00m\n\u001b[0;32m---> 17\u001b[0m convs \u001b[38;5;241m=\u001b[39m [F\u001b[38;5;241m.\u001b[39mrelu(\u001b[43mconv\u001b[49m\u001b[43m(\u001b[49m\u001b[43mx\u001b[49m\u001b[43m)\u001b[49m) \u001b[38;5;28;01mfor\u001b[39;00m conv \u001b[38;5;129;01min\u001b[39;00m \u001b[38;5;28mself\u001b[39m\u001b[38;5;241m.\u001b[39mconvs]  \u001b[38;5;66;03m# list of (batch_size, num_filters, *)\u001b[39;00m\n\u001b[1;32m     18\u001b[0m pooled \u001b[38;5;241m=\u001b[39m [F\u001b[38;5;241m.\u001b[39mmax_pool1d(c, kernel_size\u001b[38;5;241m=\u001b[39mc\u001b[38;5;241m.\u001b[39msize(\u001b[38;5;241m2\u001b[39m))\u001b[38;5;241m.\u001b[39msqueeze(\u001b[38;5;241m2\u001b[39m) \u001b[38;5;28;01mfor\u001b[39;00m c \u001b[38;5;129;01min\u001b[39;00m convs]\n\u001b[1;32m     19\u001b[0m cat \u001b[38;5;241m=\u001b[39m torch\u001b[38;5;241m.\u001b[39mcat(pooled, dim\u001b[38;5;241m=\u001b[39m\u001b[38;5;241m1\u001b[39m)  \u001b[38;5;66;03m# (batch_size, num_filters * len(filter_sizes))\u001b[39;00m\n",
      "File \u001b[0;32m/opt/anaconda3/envs/sml/lib/python3.9/site-packages/torch/nn/modules/module.py:1739\u001b[0m, in \u001b[0;36mModule._wrapped_call_impl\u001b[0;34m(self, *args, **kwargs)\u001b[0m\n\u001b[1;32m   1737\u001b[0m     \u001b[38;5;28;01mreturn\u001b[39;00m \u001b[38;5;28mself\u001b[39m\u001b[38;5;241m.\u001b[39m_compiled_call_impl(\u001b[38;5;241m*\u001b[39margs, \u001b[38;5;241m*\u001b[39m\u001b[38;5;241m*\u001b[39mkwargs)  \u001b[38;5;66;03m# type: ignore[misc]\u001b[39;00m\n\u001b[1;32m   1738\u001b[0m \u001b[38;5;28;01melse\u001b[39;00m:\n\u001b[0;32m-> 1739\u001b[0m     \u001b[38;5;28;01mreturn\u001b[39;00m \u001b[38;5;28;43mself\u001b[39;49m\u001b[38;5;241;43m.\u001b[39;49m\u001b[43m_call_impl\u001b[49m\u001b[43m(\u001b[49m\u001b[38;5;241;43m*\u001b[39;49m\u001b[43margs\u001b[49m\u001b[43m,\u001b[49m\u001b[43m \u001b[49m\u001b[38;5;241;43m*\u001b[39;49m\u001b[38;5;241;43m*\u001b[39;49m\u001b[43mkwargs\u001b[49m\u001b[43m)\u001b[49m\n",
      "File \u001b[0;32m/opt/anaconda3/envs/sml/lib/python3.9/site-packages/torch/nn/modules/module.py:1750\u001b[0m, in \u001b[0;36mModule._call_impl\u001b[0;34m(self, *args, **kwargs)\u001b[0m\n\u001b[1;32m   1745\u001b[0m \u001b[38;5;66;03m# If we don't have any hooks, we want to skip the rest of the logic in\u001b[39;00m\n\u001b[1;32m   1746\u001b[0m \u001b[38;5;66;03m# this function, and just call forward.\u001b[39;00m\n\u001b[1;32m   1747\u001b[0m \u001b[38;5;28;01mif\u001b[39;00m \u001b[38;5;129;01mnot\u001b[39;00m (\u001b[38;5;28mself\u001b[39m\u001b[38;5;241m.\u001b[39m_backward_hooks \u001b[38;5;129;01mor\u001b[39;00m \u001b[38;5;28mself\u001b[39m\u001b[38;5;241m.\u001b[39m_backward_pre_hooks \u001b[38;5;129;01mor\u001b[39;00m \u001b[38;5;28mself\u001b[39m\u001b[38;5;241m.\u001b[39m_forward_hooks \u001b[38;5;129;01mor\u001b[39;00m \u001b[38;5;28mself\u001b[39m\u001b[38;5;241m.\u001b[39m_forward_pre_hooks\n\u001b[1;32m   1748\u001b[0m         \u001b[38;5;129;01mor\u001b[39;00m _global_backward_pre_hooks \u001b[38;5;129;01mor\u001b[39;00m _global_backward_hooks\n\u001b[1;32m   1749\u001b[0m         \u001b[38;5;129;01mor\u001b[39;00m _global_forward_hooks \u001b[38;5;129;01mor\u001b[39;00m _global_forward_pre_hooks):\n\u001b[0;32m-> 1750\u001b[0m     \u001b[38;5;28;01mreturn\u001b[39;00m \u001b[43mforward_call\u001b[49m\u001b[43m(\u001b[49m\u001b[38;5;241;43m*\u001b[39;49m\u001b[43margs\u001b[49m\u001b[43m,\u001b[49m\u001b[43m \u001b[49m\u001b[38;5;241;43m*\u001b[39;49m\u001b[38;5;241;43m*\u001b[39;49m\u001b[43mkwargs\u001b[49m\u001b[43m)\u001b[49m\n\u001b[1;32m   1752\u001b[0m result \u001b[38;5;241m=\u001b[39m \u001b[38;5;28;01mNone\u001b[39;00m\n\u001b[1;32m   1753\u001b[0m called_always_called_hooks \u001b[38;5;241m=\u001b[39m \u001b[38;5;28mset\u001b[39m()\n",
      "File \u001b[0;32m/opt/anaconda3/envs/sml/lib/python3.9/site-packages/torch/nn/modules/conv.py:375\u001b[0m, in \u001b[0;36mConv1d.forward\u001b[0;34m(self, input)\u001b[0m\n\u001b[1;32m    374\u001b[0m \u001b[38;5;28;01mdef\u001b[39;00m \u001b[38;5;21mforward\u001b[39m(\u001b[38;5;28mself\u001b[39m, \u001b[38;5;28minput\u001b[39m: Tensor) \u001b[38;5;241m-\u001b[39m\u001b[38;5;241m>\u001b[39m Tensor:\n\u001b[0;32m--> 375\u001b[0m     \u001b[38;5;28;01mreturn\u001b[39;00m \u001b[38;5;28;43mself\u001b[39;49m\u001b[38;5;241;43m.\u001b[39;49m\u001b[43m_conv_forward\u001b[49m\u001b[43m(\u001b[49m\u001b[38;5;28;43minput\u001b[39;49m\u001b[43m,\u001b[49m\u001b[43m \u001b[49m\u001b[38;5;28;43mself\u001b[39;49m\u001b[38;5;241;43m.\u001b[39;49m\u001b[43mweight\u001b[49m\u001b[43m,\u001b[49m\u001b[43m \u001b[49m\u001b[38;5;28;43mself\u001b[39;49m\u001b[38;5;241;43m.\u001b[39;49m\u001b[43mbias\u001b[49m\u001b[43m)\u001b[49m\n",
      "File \u001b[0;32m/opt/anaconda3/envs/sml/lib/python3.9/site-packages/torch/nn/modules/conv.py:370\u001b[0m, in \u001b[0;36mConv1d._conv_forward\u001b[0;34m(self, input, weight, bias)\u001b[0m\n\u001b[1;32m    358\u001b[0m \u001b[38;5;28;01mif\u001b[39;00m \u001b[38;5;28mself\u001b[39m\u001b[38;5;241m.\u001b[39mpadding_mode \u001b[38;5;241m!=\u001b[39m \u001b[38;5;124m\"\u001b[39m\u001b[38;5;124mzeros\u001b[39m\u001b[38;5;124m\"\u001b[39m:\n\u001b[1;32m    359\u001b[0m     \u001b[38;5;28;01mreturn\u001b[39;00m F\u001b[38;5;241m.\u001b[39mconv1d(\n\u001b[1;32m    360\u001b[0m         F\u001b[38;5;241m.\u001b[39mpad(\n\u001b[1;32m    361\u001b[0m             \u001b[38;5;28minput\u001b[39m, \u001b[38;5;28mself\u001b[39m\u001b[38;5;241m.\u001b[39m_reversed_padding_repeated_twice, mode\u001b[38;5;241m=\u001b[39m\u001b[38;5;28mself\u001b[39m\u001b[38;5;241m.\u001b[39mpadding_mode\n\u001b[0;32m   (...)\u001b[0m\n\u001b[1;32m    368\u001b[0m         \u001b[38;5;28mself\u001b[39m\u001b[38;5;241m.\u001b[39mgroups,\n\u001b[1;32m    369\u001b[0m     )\n\u001b[0;32m--> 370\u001b[0m \u001b[38;5;28;01mreturn\u001b[39;00m \u001b[43mF\u001b[49m\u001b[38;5;241;43m.\u001b[39;49m\u001b[43mconv1d\u001b[49m\u001b[43m(\u001b[49m\n\u001b[1;32m    371\u001b[0m \u001b[43m    \u001b[49m\u001b[38;5;28;43minput\u001b[39;49m\u001b[43m,\u001b[49m\u001b[43m \u001b[49m\u001b[43mweight\u001b[49m\u001b[43m,\u001b[49m\u001b[43m \u001b[49m\u001b[43mbias\u001b[49m\u001b[43m,\u001b[49m\u001b[43m \u001b[49m\u001b[38;5;28;43mself\u001b[39;49m\u001b[38;5;241;43m.\u001b[39;49m\u001b[43mstride\u001b[49m\u001b[43m,\u001b[49m\u001b[43m \u001b[49m\u001b[38;5;28;43mself\u001b[39;49m\u001b[38;5;241;43m.\u001b[39;49m\u001b[43mpadding\u001b[49m\u001b[43m,\u001b[49m\u001b[43m \u001b[49m\u001b[38;5;28;43mself\u001b[39;49m\u001b[38;5;241;43m.\u001b[39;49m\u001b[43mdilation\u001b[49m\u001b[43m,\u001b[49m\u001b[43m \u001b[49m\u001b[38;5;28;43mself\u001b[39;49m\u001b[38;5;241;43m.\u001b[39;49m\u001b[43mgroups\u001b[49m\n\u001b[1;32m    372\u001b[0m \u001b[43m\u001b[49m\u001b[43m)\u001b[49m\n",
      "\u001b[0;31mKeyboardInterrupt\u001b[0m: "
     ]
    }
   ],
   "source": [
    "train(model, train_loader, epochs=config[\"epochs\"], lr=config[\"lr\"], device=device)\n",
    "\n",
    "# ------------------ Prediction ------------------\n",
    "test_texts = load_test_json(\"data/test_data.json\")\n",
    "X_test = pad_sequence(test_texts, batch_first=True, padding_value=0)\n",
    "test_dataset = TensorDataset(X_test)\n",
    "test_loader = DataLoader(test_dataset, batch_size=config[\"batch_size\"])\n",
    "\n",
    "start = time.time()\n",
    "test_preds, test_probs = predict_with_confidence(model, test_loader, device=device)\n",
    "print(f\"Prediction completed in {time.time() - start:.2f} seconds.\")\n",
    "\n",
    "# ------------------ Output ------------------\n",
    "results_df = pd.DataFrame({\n",
    "    \"id\": list(range(len(test_preds))),\n",
    "    \"label\": test_preds,\n",
    "    \"confidence\": test_probs\n",
    "})\n",
    "results_df.to_csv(\"full_test_predictions.csv\", index=False)\n",
    "results_df[[\"id\", \"label\"]].to_csv(\"submission.csv\", index=False)\n",
    "print(\"Saved: submission.csv and full_test_predictions.csv\")"
   ]
  }
 ],
 "metadata": {
  "kernelspec": {
   "display_name": "Python 3 (ipykernel)",
   "language": "python",
   "name": "python3"
  },
  "language_info": {
   "codemirror_mode": {
    "name": "ipython",
    "version": 3
   },
   "file_extension": ".py",
   "mimetype": "text/x-python",
   "name": "python",
   "nbconvert_exporter": "python",
   "pygments_lexer": "ipython3",
   "version": "3.9.21"
  }
 },
 "nbformat": 4,
 "nbformat_minor": 5
}
