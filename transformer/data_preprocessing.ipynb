{
 "cells": [
  {
   "cell_type": "markdown",
   "id": "c76f6f0b-57ac-4f07-8569-9d3b49d32947",
   "metadata": {},
   "source": [
    "## Load data and view distribution"
   ]
  },
  {
   "cell_type": "code",
   "execution_count": 48,
   "id": "b92470ba-be4d-49e0-8850-28bcfe118a1b",
   "metadata": {},
   "outputs": [],
   "source": [
    "# Functions loading data from json file to dataframe\n",
    "import json\n",
    "\n",
    "def load_json_data(domain1_train_file, domain2_train_file, test_data_file):\n",
    "    def load_json_lines(file):\n",
    "        with open(file, \"r\") as f:\n",
    "            return [json.loads(line) for line in f if line.strip()]  # avoid empty line\n",
    "\n",
    "    domain1_train_data = load_json_lines(domain1_train_file)\n",
    "    domain2_train_data = load_json_lines(domain2_train_file)\n",
    "    test_data = load_json_lines(test_data_file)\n",
    "\n",
    "    return domain1_train_data, domain2_train_data, test_data\n",
    "\n",
    "\n",
    "\n",
    "import pandas as pd\n",
    "\n",
    "# Convert to dataframe from list\n",
    "def convert_to_dataframe(domain1_train_data, domain2_train_data, test_data):\n",
    "\n",
    "    df_train_domain1 = pd.DataFrame(domain1_train_data)\n",
    "\n",
    "    df_train_domain2 = pd.DataFrame(domain2_train_data)\n",
    "\n",
    "    df_test = pd.DataFrame(test_data)\n",
    "\n",
    "    return df_train_domain1, df_train_domain2, df_test\n",
    "\n",
    "\n",
    "# Load data from json file to dataframe\n",
    "domain1_train_file = \"domain1_train_data.json\"\n",
    "domain2_train_file = \"domain2_train_data.json\"\n",
    "test_data_file = \"test_data.json\"\n",
    "\n",
    "domain1_train_data, domain2_train_data, test_data = load_json_data(domain1_train_file, domain2_train_file, test_data_file)\n",
    "df_train_domain1, df_train_domain2, df_test = convert_to_dataframe(domain1_train_data, domain2_train_data, test_data)"
   ]
  },
  {
   "cell_type": "code",
   "execution_count": 49,
   "id": "cd7e4668-aae6-435d-a78f-2cdc2b9cfa34",
   "metadata": {},
   "outputs": [
    {
     "name": "stdout",
     "output_type": "stream",
     "text": [
      "Label distribution - train dataset domain1\n",
      " label\n",
      "0    500\n",
      "1    500\n",
      "Name: count, dtype: int64\n",
      "Label distribution - train dataset domain2\n",
      " label\n",
      "1    4750\n",
      "0     250\n",
      "Name: count, dtype: int64\n"
     ]
    }
   ],
   "source": [
    "# Domain1 data distribution\n",
    "label_counts_domain1 = df_train_domain1['label'].value_counts()\n",
    "print(\"Label distribution - train dataset domain1\\n\", label_counts_domain1)\n",
    "\n",
    "# Domain2 data distribution\n",
    "label_counts_domain2 = df_train_domain2['label'].value_counts()\n",
    "print(\"Label distribution - train dataset domain2\\n\", label_counts_domain2)"
   ]
  },
  {
   "cell_type": "code",
   "execution_count": 50,
   "id": "7f992631-4980-4c3c-8a4b-f4dbdc428653",
   "metadata": {},
   "outputs": [
    {
     "name": "stdout",
     "output_type": "stream",
     "text": [
      "Domain 1 - Max Length: 123; Min Length: 75\n",
      "Domain 2 - Max Length: 91; Min Length: 55\n",
      "Test Set - Max Length: 6154; Min Length: 0\n",
      "Domain 1:\n",
      " count    1000.000000\n",
      "mean       81.551000\n",
      "std         2.585747\n",
      "min        75.000000\n",
      "25%        80.000000\n",
      "50%        81.000000\n",
      "75%        82.000000\n",
      "max       123.000000\n",
      "Name: text, dtype: float64\n",
      "Domain 2:\n",
      " count    5000.000000\n",
      "mean       80.086000\n",
      "std         2.617551\n",
      "min        55.000000\n",
      "25%        80.000000\n",
      "50%        80.000000\n",
      "75%        81.000000\n",
      "max        91.000000\n",
      "Name: text, dtype: float64\n",
      "Test:\n",
      " count    4000.000000\n",
      "mean      235.754500\n",
      "std       206.631388\n",
      "min         0.000000\n",
      "25%       138.000000\n",
      "50%       196.000000\n",
      "75%       267.000000\n",
      "max      6154.000000\n",
      "Name: text, dtype: float64\n"
     ]
    },
    {
     "data": {
      "image/png": "[encoded data removed]",
      "text/plain": [
       "<Figure size 640x480 with 1 Axes>"
      ]
     },
     "metadata": {},
     "output_type": "display_data"
    }
   ],
   "source": [
    "# Check length of text -> for max_len param in Transformer\n",
    "\n",
    "# get length\n",
    "len_domain1 = df_train_domain1['text'].apply(len)\n",
    "len_domain2 = df_train_domain2['text'].apply(len)\n",
    "len_test = df_test['text'].apply(len)\n",
    "\n",
    "# get maximum\n",
    "print(f\"Domain 1 - Max Length: {len_domain1.max()}; Min Length: {len_domain1.min()}\")\n",
    "print(f\"Domain 2 - Max Length: {len_domain2.max()}; Min Length: {len_domain2.min()}\")\n",
    "print(f\"Test Set - Max Length: {len_test.max()}; Min Length: {len_test.min()}\")\n",
    "\n",
    "\n",
    "# get median\n",
    "print(\"Domain 1:\\n\", len_domain1.describe())\n",
    "print(\"Domain 2:\\n\", len_domain2.describe())\n",
    "print(\"Test:\\n\", len_test.describe())\n",
    "\n",
    "\n",
    "# show distribution\n",
    "from matplotlib import pyplot as plt\n",
    "\n",
    "lens = df_test['text'].apply(len)\n",
    "plt.hist(lens, bins=50)\n",
    "plt.title(\"Test Set Length Distribution\")\n",
    "plt.xlabel(\"Sequence Length\")\n",
    "plt.ylabel(\"Count\")\n",
    "plt.show()"
   ]
  },
  {
   "cell_type": "code",
   "execution_count": 51,
   "id": "38bf0e85-9eb1-4875-8406-2681ecaa8b8b",
   "metadata": {},
   "outputs": [
    {
     "name": "stdout",
     "output_type": "stream",
     "text": [
      "0.93825\n"
     ]
    }
   ],
   "source": [
    "lengths = df_test['text'].apply(len)\n",
    "print((lengths <= 512).mean())  # percentage"
   ]
  },
  {
   "cell_type": "markdown",
   "id": "fcc890ed-2314-44f9-99f4-162b94393b47",
   "metadata": {},
   "source": [
    "## Apply Truncating & Padding to column 'text'"
   ]
  },
  {
   "cell_type": "code",
   "execution_count": 58,
   "id": "e677f4ec-0d46-49d2-95c0-15ad7eabc2be",
   "metadata": {},
   "outputs": [
    {
     "name": "stdout",
     "output_type": "stream",
     "text": [
      "Domain 1 - Max Length: 512; Min Length: 512\n",
      "Domain 2 - Max Length: 512; Min Length: 512\n",
      "Test Set - Max Length: 512; Min Length: 512\n"
     ]
    }
   ],
   "source": [
    "# adjust the length of text to same size\n",
    "def pad_or_truncate(sequence, max_len, pad_token=0):\n",
    "    if len(sequence) < max_len:\n",
    "        return sequence + (max_len - len(sequence)) * [pad_token]\n",
    "    else:\n",
    "        return sequence[:max_len]\n",
    "\n",
    "MAX_LEN = 512\n",
    "df_train_domain1['text'] = df_train_domain1['text'].apply(lambda x: pad_or_truncate(x, MAX_LEN))\n",
    "df_train_domain2['text'] = df_train_domain2['text'].apply(lambda x: pad_or_truncate(x, MAX_LEN))\n",
    "df_test['text'] = df_test['text'].apply(lambda x: truncate_or_pad(x, MAX_LEN))\n",
    "\n",
    "# check length\n",
    "len_domain1 = df_train_domain1['text'].apply(len)\n",
    "len_domain2 = df_train_domain2['text'].apply(len)\n",
    "len_test = df_test['text'].apply(len)\n",
    "print(f\"Domain 1 - Max Length: {len_domain1.max()}; Min Length: {len_domain1.min()}\")\n",
    "print(f\"Domain 2 - Max Length: {len_domain2.max()}; Min Length: {len_domain2.min()}\")\n",
    "print(f\"Test Set - Max Length: {len_test.max()}; Min Length: {len_test.min()}\")"
   ]
  },
  {
   "cell_type": "code",
   "execution_count": 59,
   "id": "eac8fe2b-f77b-47df-a176-e2a06f0f87a8",
   "metadata": {},
   "outputs": [
    {
     "data": {
      "text/html": [
       "<div>\n",
       "<style scoped>\n",
       "    .dataframe tbody tr th:only-of-type {\n",
       "        vertical-align: middle;\n",
       "    }\n",
       "\n",
       "    .dataframe tbody tr th {\n",
       "        vertical-align: top;\n",
       "    }\n",
       "\n",
       "    .dataframe thead th {\n",
       "        text-align: right;\n",
       "    }\n",
       "</style>\n",
       "<table border=\"1\" class=\"dataframe\">\n",
       "  <thead>\n",
       "    <tr style=\"text-align: right;\">\n",
       "      <th></th>\n",
       "      <th>text</th>\n",
       "      <th>label</th>\n",
       "      <th>id</th>\n",
       "    </tr>\n",
       "  </thead>\n",
       "  <tbody>\n",
       "    <tr>\n",
       "      <th>0</th>\n",
       "      <td>[6, 22, 34, 76, 501, 977, 1, 2514, 13623, 76, ...</td>\n",
       "      <td>0</td>\n",
       "      <td>0</td>\n",
       "    </tr>\n",
       "    <tr>\n",
       "      <th>1</th>\n",
       "      <td>[222, 31, 4108, 104, 132, 361, 39, 2305, 12, 9...</td>\n",
       "      <td>0</td>\n",
       "      <td>1</td>\n",
       "    </tr>\n",
       "    <tr>\n",
       "      <th>2</th>\n",
       "      <td>[736, 7194, 113, 12, 366, 2870, 123, 101, 12, ...</td>\n",
       "      <td>0</td>\n",
       "      <td>2</td>\n",
       "    </tr>\n",
       "    <tr>\n",
       "      <th>3</th>\n",
       "      <td>[48, 1, 2025, 69, 361, 533, 327, 237, 4150, 13...</td>\n",
       "      <td>0</td>\n",
       "      <td>3</td>\n",
       "    </tr>\n",
       "    <tr>\n",
       "      <th>4</th>\n",
       "      <td>[2973, 66, 1, 1493, 260, 2740, 50, 1027, 50, 1...</td>\n",
       "      <td>0</td>\n",
       "      <td>4</td>\n",
       "    </tr>\n",
       "  </tbody>\n",
       "</table>\n",
       "</div>"
      ],
      "text/plain": [
       "                                                text  label  id\n",
       "0  [6, 22, 34, 76, 501, 977, 1, 2514, 13623, 76, ...      0   0\n",
       "1  [222, 31, 4108, 104, 132, 361, 39, 2305, 12, 9...      0   1\n",
       "2  [736, 7194, 113, 12, 366, 2870, 123, 101, 12, ...      0   2\n",
       "3  [48, 1, 2025, 69, 361, 533, 327, 237, 4150, 13...      0   3\n",
       "4  [2973, 66, 1, 1493, 260, 2740, 50, 1027, 50, 1...      0   4"
      ]
     },
     "execution_count": 59,
     "metadata": {},
     "output_type": "execute_result"
    }
   ],
   "source": [
    "df_train_domain1.head()"
   ]
  },
  {
   "cell_type": "code",
   "execution_count": 60,
   "id": "adce4566-4dbb-4b2c-8561-d0dab00e0bd7",
   "metadata": {},
   "outputs": [
    {
     "data": {
      "text/html": [
       "<div>\n",
       "<style scoped>\n",
       "    .dataframe tbody tr th:only-of-type {\n",
       "        vertical-align: middle;\n",
       "    }\n",
       "\n",
       "    .dataframe tbody tr th {\n",
       "        vertical-align: top;\n",
       "    }\n",
       "\n",
       "    .dataframe thead th {\n",
       "        text-align: right;\n",
       "    }\n",
       "</style>\n",
       "<table border=\"1\" class=\"dataframe\">\n",
       "  <thead>\n",
       "    <tr style=\"text-align: right;\">\n",
       "      <th></th>\n",
       "      <th>text</th>\n",
       "      <th>id</th>\n",
       "    </tr>\n",
       "  </thead>\n",
       "  <tbody>\n",
       "    <tr>\n",
       "      <th>0</th>\n",
       "      <td>[9159, 3048, 238, 276, 162, 286, 305, 22, 36, ...</td>\n",
       "      <td>0</td>\n",
       "    </tr>\n",
       "    <tr>\n",
       "      <th>1</th>\n",
       "      <td>[64, 5039, 1275, 6, 0, 871, 139, 270, 327, 237...</td>\n",
       "      <td>1</td>\n",
       "    </tr>\n",
       "    <tr>\n",
       "      <th>2</th>\n",
       "      <td>[327, 618, 76, 650, 121, 274, 1025, 0, 12207, ...</td>\n",
       "      <td>2</td>\n",
       "    </tr>\n",
       "    <tr>\n",
       "      <th>3</th>\n",
       "      <td>[6, 12, 609, 11905, 4, 879, 677, 78, 13352, 60...</td>\n",
       "      <td>3</td>\n",
       "    </tr>\n",
       "    <tr>\n",
       "      <th>4</th>\n",
       "      <td>[1, 5504, 55, 22, 101, 3783, 139, 2664, 4, 1, ...</td>\n",
       "      <td>4</td>\n",
       "    </tr>\n",
       "  </tbody>\n",
       "</table>\n",
       "</div>"
      ],
      "text/plain": [
       "                                                text  id\n",
       "0  [9159, 3048, 238, 276, 162, 286, 305, 22, 36, ...   0\n",
       "1  [64, 5039, 1275, 6, 0, 871, 139, 270, 327, 237...   1\n",
       "2  [327, 618, 76, 650, 121, 274, 1025, 0, 12207, ...   2\n",
       "3  [6, 12, 609, 11905, 4, 879, 677, 78, 13352, 60...   3\n",
       "4  [1, 5504, 55, 22, 101, 3783, 139, 2664, 4, 1, ...   4"
      ]
     },
     "execution_count": 60,
     "metadata": {},
     "output_type": "execute_result"
    }
   ],
   "source": [
    "df_test.head()"
   ]
  },
  {
   "cell_type": "code",
   "execution_count": null,
   "id": "3c97f28a-9f0b-4b25-9de1-e6f21981142e",
   "metadata": {},
   "outputs": [],
   "source": []
  }
 ],
 "metadata": {
  "kernelspec": {
   "display_name": "Python 3 (ipykernel)",
   "language": "python",
   "name": "python3"
  },
  "language_info": {
   "codemirror_mode": {
    "name": "ipython",
    "version": 3
   },
   "file_extension": ".py",
   "mimetype": "text/x-python",
   "name": "python",
   "nbconvert_exporter": "python",
   "pygments_lexer": "ipython3",
   "version": "3.12.7"
  }
 },
 "nbformat": 4,
 "nbformat_minor": 5
}
