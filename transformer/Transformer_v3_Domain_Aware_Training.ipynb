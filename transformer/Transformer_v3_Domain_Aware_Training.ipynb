{
  "cells": [
    {
      "cell_type": "code",
      "execution_count": null,
      "id": "4476bda2-a155-4290-92bc-99d6ebb98553",
      "metadata": {
        "id": "4476bda2-a155-4290-92bc-99d6ebb98553"
      },
      "outputs": [],
      "source": []
    },
    {
      "cell_type": "code",
      "execution_count": null,
      "id": "7a2f9bf3-eb8f-4940-9f28-ae756738c7ef",
      "metadata": {
        "id": "7a2f9bf3-eb8f-4940-9f28-ae756738c7ef"
      },
      "outputs": [],
      "source": []
    },
    {
      "cell_type": "markdown",
      "id": "29615bbc-2877-4943-80e8-fe8015654817",
      "metadata": {
        "id": "29615bbc-2877-4943-80e8-fe8015654817"
      },
      "source": [
        "# Test Domain-aware Model Implementation"
      ]
    },
    {
      "cell_type": "markdown",
      "id": "1ca639e6-fc48-4485-9dcd-cc9acb83dead",
      "metadata": {
        "id": "1ca639e6-fc48-4485-9dcd-cc9acb83dead"
      },
      "source": [
        "## 1.Load Data"
      ]
    },
    {
      "cell_type": "code",
      "execution_count": 29,
      "id": "f22783f0-554f-4cb2-94ab-3fdaef016b6d",
      "metadata": {
        "id": "f22783f0-554f-4cb2-94ab-3fdaef016b6d"
      },
      "outputs": [],
      "source": [
        "# Functions loading data from json file to dataframe\n",
        "import json\n",
        "import torch\n",
        "\n",
        "device = torch.device(\"cuda\" if torch.cuda.is_available() else \"cpu\")\n",
        "\n",
        "def load_json_data(domain1_train_file, domain2_train_file, test_data_file):\n",
        "    def load_json_lines(file):\n",
        "        with open(file, \"r\") as f:\n",
        "            return [json.loads(line) for line in f if line.strip()]  # avoid empty line\n",
        "\n",
        "    domain1_train_data = load_json_lines(domain1_train_file)\n",
        "    domain2_train_data = load_json_lines(domain2_train_file)\n",
        "    test_data = load_json_lines(test_data_file)\n",
        "\n",
        "    return domain1_train_data, domain2_train_data, test_data\n",
        "\n",
        "\n",
        "\n",
        "import pandas as pd\n",
        "\n",
        "# Convert to dataframe from list\n",
        "def convert_to_dataframe(domain1_train_data, domain2_train_data, test_data):\n",
        "\n",
        "    df_train_domain1 = pd.DataFrame(domain1_train_data)\n",
        "\n",
        "    df_train_domain2 = pd.DataFrame(domain2_train_data)\n",
        "\n",
        "    df_test = pd.DataFrame(test_data)\n",
        "\n",
        "    return df_train_domain1, df_train_domain2, df_test\n",
        "\n",
        "\n",
        "# # Load data from json file to dataframe\n",
        "domain1_train_file = \"domain1_train_data.json\"\n",
        "domain2_train_file = \"domain2_train_data.json\"\n",
        "test_data_file = \"test_data.json\"\n",
        "\n",
        "# from google.colab import files\n",
        "# files.upload()\n",
        "\n",
        "domain1_train_data, domain2_train_data, test_data = load_json_data(domain1_train_file, domain2_train_file, test_data_file)\n",
        "df_train_domain1, df_train_domain2, df_test = convert_to_dataframe(domain1_train_data, domain2_train_data, test_data)"
      ]
    },
    {
      "cell_type": "markdown",
      "id": "da6ccf49-745f-4500-9999-cf7ba7496e92",
      "metadata": {
        "id": "da6ccf49-745f-4500-9999-cf7ba7496e92"
      },
      "source": [
        "## 2.Process Data"
      ]
    },
    {
      "cell_type": "code",
      "execution_count": 24,
      "id": "865c8c5d-9bea-4f6d-862d-2945ac33ab5d",
      "metadata": {
        "colab": {
          "base_uri": "https://localhost:8080/",
          "height": 206
        },
        "id": "865c8c5d-9bea-4f6d-862d-2945ac33ab5d",
        "outputId": "ffa0d8b3-b25e-4930-ab45-d568c7b59a96"
      },
      "outputs": [
        {
          "output_type": "execute_result",
          "data": {
            "text/plain": [
              "                                                text  label  id  domain\n",
              "0  [6, 22, 34, 76, 501, 977, 1, 2514, 13623, 76, ...      0   0       0\n",
              "1  [222, 31, 4108, 104, 132, 361, 39, 2305, 12, 9...      0   1       0\n",
              "2  [736, 7194, 113, 12, 366, 2870, 123, 101, 12, ...      0   2       0\n",
              "3  [48, 1, 2025, 69, 361, 533, 327, 237, 4150, 13...      0   3       0\n",
              "4  [2973, 66, 1, 1493, 260, 2740, 50, 1027, 50, 1...      0   4       0"
            ],
            "text/html": [
              "\n",
              "  <div id=\"df-34f19ff3-c9d6-470c-bfd0-d3a5be5926c5\" class=\"colab-df-container\">\n",
              "    <div>\n",
              "<style scoped>\n",
              "    .dataframe tbody tr th:only-of-type {\n",
              "        vertical-align: middle;\n",
              "    }\n",
              "\n",
              "    .dataframe tbody tr th {\n",
              "        vertical-align: top;\n",
              "    }\n",
              "\n",
              "    .dataframe thead th {\n",
              "        text-align: right;\n",
              "    }\n",
              "</style>\n",
              "<table border=\"1\" class=\"dataframe\">\n",
              "  <thead>\n",
              "    <tr style=\"text-align: right;\">\n",
              "      <th></th>\n",
              "      <th>text</th>\n",
              "      <th>label</th>\n",
              "      <th>id</th>\n",
              "      <th>domain</th>\n",
              "    </tr>\n",
              "  </thead>\n",
              "  <tbody>\n",
              "    <tr>\n",
              "      <th>0</th>\n",
              "      <td>[6, 22, 34, 76, 501, 977, 1, 2514, 13623, 76, ...</td>\n",
              "      <td>0</td>\n",
              "      <td>0</td>\n",
              "      <td>0</td>\n",
              "    </tr>\n",
              "    <tr>\n",
              "      <th>1</th>\n",
              "      <td>[222, 31, 4108, 104, 132, 361, 39, 2305, 12, 9...</td>\n",
              "      <td>0</td>\n",
              "      <td>1</td>\n",
              "      <td>0</td>\n",
              "    </tr>\n",
              "    <tr>\n",
              "      <th>2</th>\n",
              "      <td>[736, 7194, 113, 12, 366, 2870, 123, 101, 12, ...</td>\n",
              "      <td>0</td>\n",
              "      <td>2</td>\n",
              "      <td>0</td>\n",
              "    </tr>\n",
              "    <tr>\n",
              "      <th>3</th>\n",
              "      <td>[48, 1, 2025, 69, 361, 533, 327, 237, 4150, 13...</td>\n",
              "      <td>0</td>\n",
              "      <td>3</td>\n",
              "      <td>0</td>\n",
              "    </tr>\n",
              "    <tr>\n",
              "      <th>4</th>\n",
              "      <td>[2973, 66, 1, 1493, 260, 2740, 50, 1027, 50, 1...</td>\n",
              "      <td>0</td>\n",
              "      <td>4</td>\n",
              "      <td>0</td>\n",
              "    </tr>\n",
              "  </tbody>\n",
              "</table>\n",
              "</div>\n",
              "    <div class=\"colab-df-buttons\">\n",
              "\n",
              "  <div class=\"colab-df-container\">\n",
              "    <button class=\"colab-df-convert\" onclick=\"convertToInteractive('df-34f19ff3-c9d6-470c-bfd0-d3a5be5926c5')\"\n",
              "            title=\"Convert this dataframe to an interactive table.\"\n",
              "            style=\"display:none;\">\n",
              "\n",
              "  <svg xmlns=\"http://www.w3.org/2000/svg\" height=\"24px\" viewBox=\"0 -960 960 960\">\n",
              "    <path d=\"M120-120v-720h720v720H120Zm60-500h600v-160H180v160Zm220 220h160v-160H400v160Zm0 220h160v-160H400v160ZM180-400h160v-160H180v160Zm440 0h160v-160H620v160ZM180-180h160v-160H180v160Zm440 0h160v-160H620v160Z\"/>\n",
              "  </svg>\n",
              "    </button>\n",
              "\n",
              "  <style>\n",
              "    .colab-df-container {\n",
              "      display:flex;\n",
              "      gap: 12px;\n",
              "    }\n",
              "\n",
              "    .colab-df-convert {\n",
              "      background-color: #E8F0FE;\n",
              "      border: none;\n",
              "      border-radius: 50%;\n",
              "      cursor: pointer;\n",
              "      display: none;\n",
              "      fill: #1967D2;\n",
              "      height: 32px;\n",
              "      padding: 0 0 0 0;\n",
              "      width: 32px;\n",
              "    }\n",
              "\n",
              "    .colab-df-convert:hover {\n",
              "      background-color: #E2EBFA;\n",
              "      box-shadow: 0px 1px 2px rgba(60, 64, 67, 0.3), 0px 1px 3px 1px rgba(60, 64, 67, 0.15);\n",
              "      fill: #174EA6;\n",
              "    }\n",
              "\n",
              "    .colab-df-buttons div {\n",
              "      margin-bottom: 4px;\n",
              "    }\n",
              "\n",
              "    [theme=dark] .colab-df-convert {\n",
              "      background-color: #3B4455;\n",
              "      fill: #D2E3FC;\n",
              "    }\n",
              "\n",
              "    [theme=dark] .colab-df-convert:hover {\n",
              "      background-color: #434B5C;\n",
              "      box-shadow: 0px 1px 3px 1px rgba(0, 0, 0, 0.15);\n",
              "      filter: drop-shadow(0px 1px 2px rgba(0, 0, 0, 0.3));\n",
              "      fill: #FFFFFF;\n",
              "    }\n",
              "  </style>\n",
              "\n",
              "    <script>\n",
              "      const buttonEl =\n",
              "        document.querySelector('#df-34f19ff3-c9d6-470c-bfd0-d3a5be5926c5 button.colab-df-convert');\n",
              "      buttonEl.style.display =\n",
              "        google.colab.kernel.accessAllowed ? 'block' : 'none';\n",
              "\n",
              "      async function convertToInteractive(key) {\n",
              "        const element = document.querySelector('#df-34f19ff3-c9d6-470c-bfd0-d3a5be5926c5');\n",
              "        const dataTable =\n",
              "          await google.colab.kernel.invokeFunction('convertToInteractive',\n",
              "                                                    [key], {});\n",
              "        if (!dataTable) return;\n",
              "\n",
              "        const docLinkHtml = 'Like what you see? Visit the ' +\n",
              "          '<a target=\"_blank\" href=https://colab.research.google.com/notebooks/data_table.ipynb>data table notebook</a>'\n",
              "          + ' to learn more about interactive tables.';\n",
              "        element.innerHTML = '';\n",
              "        dataTable['output_type'] = 'display_data';\n",
              "        await google.colab.output.renderOutput(dataTable, element);\n",
              "        const docLink = document.createElement('div');\n",
              "        docLink.innerHTML = docLinkHtml;\n",
              "        element.appendChild(docLink);\n",
              "      }\n",
              "    </script>\n",
              "  </div>\n",
              "\n",
              "\n",
              "    <div id=\"df-1c556748-3210-42bc-a6d0-4f8b4b395b8c\">\n",
              "      <button class=\"colab-df-quickchart\" onclick=\"quickchart('df-1c556748-3210-42bc-a6d0-4f8b4b395b8c')\"\n",
              "                title=\"Suggest charts\"\n",
              "                style=\"display:none;\">\n",
              "\n",
              "<svg xmlns=\"http://www.w3.org/2000/svg\" height=\"24px\"viewBox=\"0 0 24 24\"\n",
              "     width=\"24px\">\n",
              "    <g>\n",
              "        <path d=\"M19 3H5c-1.1 0-2 .9-2 2v14c0 1.1.9 2 2 2h14c1.1 0 2-.9 2-2V5c0-1.1-.9-2-2-2zM9 17H7v-7h2v7zm4 0h-2V7h2v10zm4 0h-2v-4h2v4z\"/>\n",
              "    </g>\n",
              "</svg>\n",
              "      </button>\n",
              "\n",
              "<style>\n",
              "  .colab-df-quickchart {\n",
              "      --bg-color: #E8F0FE;\n",
              "      --fill-color: #1967D2;\n",
              "      --hover-bg-color: #E2EBFA;\n",
              "      --hover-fill-color: #174EA6;\n",
              "      --disabled-fill-color: #AAA;\n",
              "      --disabled-bg-color: #DDD;\n",
              "  }\n",
              "\n",
              "  [theme=dark] .colab-df-quickchart {\n",
              "      --bg-color: #3B4455;\n",
              "      --fill-color: #D2E3FC;\n",
              "      --hover-bg-color: #434B5C;\n",
              "      --hover-fill-color: #FFFFFF;\n",
              "      --disabled-bg-color: #3B4455;\n",
              "      --disabled-fill-color: #666;\n",
              "  }\n",
              "\n",
              "  .colab-df-quickchart {\n",
              "    background-color: var(--bg-color);\n",
              "    border: none;\n",
              "    border-radius: 50%;\n",
              "    cursor: pointer;\n",
              "    display: none;\n",
              "    fill: var(--fill-color);\n",
              "    height: 32px;\n",
              "    padding: 0;\n",
              "    width: 32px;\n",
              "  }\n",
              "\n",
              "  .colab-df-quickchart:hover {\n",
              "    background-color: var(--hover-bg-color);\n",
              "    box-shadow: 0 1px 2px rgba(60, 64, 67, 0.3), 0 1px 3px 1px rgba(60, 64, 67, 0.15);\n",
              "    fill: var(--button-hover-fill-color);\n",
              "  }\n",
              "\n",
              "  .colab-df-quickchart-complete:disabled,\n",
              "  .colab-df-quickchart-complete:disabled:hover {\n",
              "    background-color: var(--disabled-bg-color);\n",
              "    fill: var(--disabled-fill-color);\n",
              "    box-shadow: none;\n",
              "  }\n",
              "\n",
              "  .colab-df-spinner {\n",
              "    border: 2px solid var(--fill-color);\n",
              "    border-color: transparent;\n",
              "    border-bottom-color: var(--fill-color);\n",
              "    animation:\n",
              "      spin 1s steps(1) infinite;\n",
              "  }\n",
              "\n",
              "  @keyframes spin {\n",
              "    0% {\n",
              "      border-color: transparent;\n",
              "      border-bottom-color: var(--fill-color);\n",
              "      border-left-color: var(--fill-color);\n",
              "    }\n",
              "    20% {\n",
              "      border-color: transparent;\n",
              "      border-left-color: var(--fill-color);\n",
              "      border-top-color: var(--fill-color);\n",
              "    }\n",
              "    30% {\n",
              "      border-color: transparent;\n",
              "      border-left-color: var(--fill-color);\n",
              "      border-top-color: var(--fill-color);\n",
              "      border-right-color: var(--fill-color);\n",
              "    }\n",
              "    40% {\n",
              "      border-color: transparent;\n",
              "      border-right-color: var(--fill-color);\n",
              "      border-top-color: var(--fill-color);\n",
              "    }\n",
              "    60% {\n",
              "      border-color: transparent;\n",
              "      border-right-color: var(--fill-color);\n",
              "    }\n",
              "    80% {\n",
              "      border-color: transparent;\n",
              "      border-right-color: var(--fill-color);\n",
              "      border-bottom-color: var(--fill-color);\n",
              "    }\n",
              "    90% {\n",
              "      border-color: transparent;\n",
              "      border-bottom-color: var(--fill-color);\n",
              "    }\n",
              "  }\n",
              "</style>\n",
              "\n",
              "      <script>\n",
              "        async function quickchart(key) {\n",
              "          const quickchartButtonEl =\n",
              "            document.querySelector('#' + key + ' button');\n",
              "          quickchartButtonEl.disabled = true;  // To prevent multiple clicks.\n",
              "          quickchartButtonEl.classList.add('colab-df-spinner');\n",
              "          try {\n",
              "            const charts = await google.colab.kernel.invokeFunction(\n",
              "                'suggestCharts', [key], {});\n",
              "          } catch (error) {\n",
              "            console.error('Error during call to suggestCharts:', error);\n",
              "          }\n",
              "          quickchartButtonEl.classList.remove('colab-df-spinner');\n",
              "          quickchartButtonEl.classList.add('colab-df-quickchart-complete');\n",
              "        }\n",
              "        (() => {\n",
              "          let quickchartButtonEl =\n",
              "            document.querySelector('#df-1c556748-3210-42bc-a6d0-4f8b4b395b8c button');\n",
              "          quickchartButtonEl.style.display =\n",
              "            google.colab.kernel.accessAllowed ? 'block' : 'none';\n",
              "        })();\n",
              "      </script>\n",
              "    </div>\n",
              "\n",
              "    </div>\n",
              "  </div>\n"
            ],
            "application/vnd.google.colaboratory.intrinsic+json": {
              "type": "dataframe",
              "variable_name": "df_train_domain1",
              "summary": "{\n  \"name\": \"df_train_domain1\",\n  \"rows\": 1000,\n  \"fields\": [\n    {\n      \"column\": \"text\",\n      \"properties\": {\n        \"dtype\": \"object\",\n        \"semantic_type\": \"\",\n        \"description\": \"\"\n      }\n    },\n    {\n      \"column\": \"label\",\n      \"properties\": {\n        \"dtype\": \"number\",\n        \"std\": 0,\n        \"min\": 0,\n        \"max\": 1,\n        \"num_unique_values\": 2,\n        \"samples\": [\n          1,\n          0\n        ],\n        \"semantic_type\": \"\",\n        \"description\": \"\"\n      }\n    },\n    {\n      \"column\": \"id\",\n      \"properties\": {\n        \"dtype\": \"number\",\n        \"std\": 288,\n        \"min\": 0,\n        \"max\": 999,\n        \"num_unique_values\": 1000,\n        \"samples\": [\n          521,\n          737\n        ],\n        \"semantic_type\": \"\",\n        \"description\": \"\"\n      }\n    },\n    {\n      \"column\": \"domain\",\n      \"properties\": {\n        \"dtype\": \"number\",\n        \"std\": 0,\n        \"min\": 0,\n        \"max\": 0,\n        \"num_unique_values\": 1,\n        \"samples\": [\n          0\n        ],\n        \"semantic_type\": \"\",\n        \"description\": \"\"\n      }\n    }\n  ]\n}"
            }
          },
          "metadata": {},
          "execution_count": 24
        }
      ],
      "source": [
        "# Add domain column to two datasets\n",
        "df_train_domain1['domain'] = 0  # 0 -> domain 1\n",
        "df_train_domain2['domain'] = 1  # 1 -> domain 2\n",
        "\n",
        "df_train_domain1.head()"
      ]
    },
    {
      "cell_type": "code",
      "execution_count": 25,
      "id": "cbdb4b8d-be28-4884-b2cb-6ce23c5f3541",
      "metadata": {
        "id": "cbdb4b8d-be28-4884-b2cb-6ce23c5f3541"
      },
      "outputs": [],
      "source": [
        "from sklearn.model_selection import train_test_split\n",
        "\n",
        "# merge 2 domains\n",
        "df_full_train = pd.concat([df_train_domain1, df_train_domain2], ignore_index=True)\n",
        "\n",
        "# train dev split\n",
        "df_train, df_dev = train_test_split(df_full_train, test_size=0.2, stratify=df_full_train['label'], random_state=42)\n",
        "df_test['domain'] = -1  # test doesn't count into domain loss\n"
      ]
    },
    {
      "cell_type": "markdown",
      "id": "d9b80b06-ea49-4c09-8dd3-62dec129db3c",
      "metadata": {
        "id": "d9b80b06-ea49-4c09-8dd3-62dec129db3c"
      },
      "source": [
        "## 3.Model Define"
      ]
    },
    {
      "cell_type": "code",
      "execution_count": 13,
      "id": "894295af-43ff-44f5-89e6-52a23349a461",
      "metadata": {
        "id": "894295af-43ff-44f5-89e6-52a23349a461"
      },
      "outputs": [],
      "source": [
        "# Dataset Class\n",
        "import torch\n",
        "from torch.utils.data import Dataset\n",
        "from tqdm import tqdm\n",
        "from torch.utils.data import DataLoader\n",
        "from torch.nn import BCEWithLogitsLoss\n",
        "from torch.optim import Adam\n",
        "\n",
        "# include_domain=True means to include domain label\n",
        "class DomainAwareDataset(Dataset):\n",
        "    def __init__(self, df, max_len=512, pad_token=0, include_label=True, include_domain=True):\n",
        "        self.include_label = include_label\n",
        "        self.include_domain = include_domain\n",
        "        self.max_len = max_len\n",
        "        self.pad_token = pad_token\n",
        "        self.texts = [self._pad_or_truncate(seq) for seq in df['text']]\n",
        "        if include_label:\n",
        "            self.labels = df['label'].tolist()\n",
        "        if include_domain:\n",
        "            self.domains = df['domain'].tolist()\n",
        "\n",
        "    def _pad_or_truncate(self, seq):\n",
        "        return seq + [self.pad_token] * (self.max_len - len(seq)) if len(seq) < self.max_len else seq[:self.max_len]\n",
        "\n",
        "    def __len__(self):\n",
        "        return len(self.texts)\n",
        "\n",
        "    def __getitem__(self, idx):\n",
        "        item = {'input': torch.tensor(self.texts[idx], dtype=torch.long)}\n",
        "        if self.include_label:\n",
        "            item['label'] = torch.tensor(self.labels[idx], dtype=torch.float)\n",
        "        if self.include_domain:\n",
        "            item['domain'] = torch.tensor(self.domains[idx], dtype=torch.float)\n",
        "        return item\n",
        "\n",
        "\n",
        "# Transformer Model with Multi-task Heads\n",
        "import torch.nn as nn\n",
        "\n",
        "class DomainAwareTransformer(nn.Module):\n",
        "    def __init__(self, vocab_size=17120, emb_dim=128, n_heads=4, n_layers=2, max_len=512, dropout=0.1):\n",
        "        super().__init__()\n",
        "        self.embedding = nn.Embedding(vocab_size, emb_dim, padding_idx=0)\n",
        "        self.pos_encoding = self._positional_encoding(max_len, emb_dim)\n",
        "\n",
        "        encoder_layer = nn.TransformerEncoderLayer(d_model=emb_dim, nhead=n_heads, batch_first=True)\n",
        "        self.transformer = nn.TransformerEncoder(encoder_layer, num_layers=n_layers)\n",
        "\n",
        "        self.shared_proj = nn.Linear(emb_dim, emb_dim)\n",
        "        self.main_head = nn.Linear(emb_dim, 1)\n",
        "        self.domain_head = nn.Linear(emb_dim, 1)\n",
        "\n",
        "    def _positional_encoding(self, max_len, d_model):\n",
        "        pos = torch.arange(0, max_len).unsqueeze(1)\n",
        "        i = torch.arange(0, d_model, 2)\n",
        "        angle_rates = 1 / torch.pow(10000, (i.float() / d_model))\n",
        "        pe = torch.zeros(max_len, d_model)\n",
        "        pe[:, 0::2] = torch.sin(pos * angle_rates)\n",
        "        pe[:, 1::2] = torch.cos(pos * angle_rates)\n",
        "        return pe.unsqueeze(0)\n",
        "\n",
        "    def forward(self, x):\n",
        "        mask = (x == 0)\n",
        "        emb = self.embedding(x) + self.pos_encoding[:, :x.size(1)].to(x.device)\n",
        "        out = self.transformer(emb, src_key_padding_mask=mask)\n",
        "        pooled = out.mean(dim=1)\n",
        "        rep = self.shared_proj(pooled)\n",
        "        main_out = self.main_head(rep).squeeze(-1)\n",
        "        domain_out = torch.sigmoid(self.domain_head(rep)).squeeze(-1)\n",
        "        return main_out, domain_out\n",
        "\n",
        "\n",
        "# Transformer Model with Multi-task Heads\n",
        "from sklearn.metrics import accuracy_score, f1_score\n",
        "\n",
        "def evaluate(model, dataset, batch_size=32):\n",
        "    model.eval()\n",
        "    dataloader = DataLoader(dataset, batch_size=batch_size)\n",
        "    preds, labels = [], []\n",
        "    with torch.no_grad():\n",
        "        for batch in dataloader:\n",
        "            inputs = batch['input'].to(device)\n",
        "            targets = batch['label'].to(device)\n",
        "            main_out, _ = model(inputs)\n",
        "            probs = torch.sigmoid(main_out)\n",
        "            preds.extend((probs > 0.5).long().cpu().numpy())\n",
        "            labels.extend(targets.cpu().numpy())\n",
        "    return accuracy_score(labels, preds), f1_score(labels, preds)\n",
        "\n",
        "import matplotlib.pyplot as plt\n",
        "import pandas as pd\n",
        "import os\n",
        "\n",
        "def train_and_log(model, dataset, dev_dataset=None, epochs=10, lr=1e-4,\n",
        "                  batch_size=32, domain_loss_weight=0.3, pos_weight_val=1.0,\n",
        "                  run_id=1, save_dir=\"logs\", verbose=True, patience=3):\n",
        "\n",
        "    if not os.path.exists(save_dir):\n",
        "        os.makedirs(save_dir)\n",
        "\n",
        "    model = model.to(device)\n",
        "    dataloader = DataLoader(dataset, batch_size=batch_size, shuffle=True)\n",
        "    loss_main_fn = BCEWithLogitsLoss(pos_weight=torch.tensor([pos_weight_val]).to(device))\n",
        "    loss_domain_fn = BCEWithLogitsLoss()\n",
        "    optimizer = Adam(model.parameters(), lr=lr)\n",
        "\n",
        "    log = {\"epoch\": [], \"main_loss\": [], \"dev_acc\": [], \"dev_f1\": []}\n",
        "\n",
        "    best_f1 = 0\n",
        "    no_improve_count = 0\n",
        "    best_model_state = None\n",
        "\n",
        "    for epoch in range(epochs):\n",
        "        model.train()\n",
        "        total_main_loss = 0\n",
        "        for batch in tqdm(dataloader, desc=f\"Epoch {epoch+1}\", leave=False):\n",
        "            inputs = batch['input'].to(device)\n",
        "            labels = batch['label'].to(device)\n",
        "            domains = batch.get('domain', None)\n",
        "            if domains is not None:\n",
        "                domains = domains.to(device)\n",
        "\n",
        "            optimizer.zero_grad()\n",
        "            main_out, domain_out = model(inputs)\n",
        "            loss_main = loss_main_fn(main_out, labels)\n",
        "            if domain_loss_weight > 0 and domains is not None:\n",
        "                loss_domain = loss_domain_fn(domain_out, domains)\n",
        "                loss = loss_main + domain_loss_weight * loss_domain\n",
        "            else:\n",
        "                loss = loss_main\n",
        "\n",
        "            loss.backward()\n",
        "            optimizer.step()\n",
        "            total_main_loss += loss_main.item()\n",
        "\n",
        "        # Dev evaluation\n",
        "        dev_acc, dev_f1 = 0, 0\n",
        "        if dev_dataset:\n",
        "            dev_acc, dev_f1 = evaluate(model, dev_dataset)\n",
        "\n",
        "        log[\"epoch\"].append(epoch + 1)\n",
        "        log[\"main_loss\"].append(total_main_loss)\n",
        "        log[\"dev_acc\"].append(dev_acc)\n",
        "        log[\"dev_f1\"].append(dev_f1)\n",
        "\n",
        "        if verbose:\n",
        "            print(f\"[Run {run_id}] Epoch {epoch+1}: Loss={total_main_loss:.4f}, Dev Acc={dev_acc:.4f}, F1={dev_f1:.4f}\")\n",
        "\n",
        "        # Early stopping check\n",
        "        if dev_f1 > best_f1:\n",
        "            best_f1 = dev_f1\n",
        "            no_improve_count = 0\n",
        "            best_model_state = model.state_dict()\n",
        "        else:\n",
        "            no_improve_count += 1\n",
        "            if no_improve_count >= patience:\n",
        "                if verbose:\n",
        "                    print(f\"Early stopping triggered at epoch {epoch+1}\")\n",
        "                break\n",
        "\n",
        "    # Restore best model\n",
        "    if best_model_state:\n",
        "        model.load_state_dict(best_model_state)\n",
        "\n",
        "    # Save log\n",
        "    log_df = pd.DataFrame(log)\n",
        "    log_path = os.path.join(save_dir, f\"log_run{run_id}_lambda{domain_loss_weight}.csv\")\n",
        "    log_df.to_csv(log_path, index=False)\n",
        "\n",
        "    # Plot loss\n",
        "    plt.figure()\n",
        "    plt.plot(log[\"epoch\"], log[\"main_loss\"], label=\"Main Loss\")\n",
        "    plt.xlabel(\"Epoch\")\n",
        "    plt.ylabel(\"Loss\")\n",
        "    plt.title(f\"Training Loss (λ={domain_loss_weight}, Run {run_id})\")\n",
        "    plt.legend()\n",
        "    plt.savefig(os.path.join(save_dir, f\"loss_plot_run{run_id}_lambda{domain_loss_weight}.png\"))\n",
        "    plt.close()\n",
        "\n",
        "    return model, log_df\n",
        "\n",
        "\n",
        "\n",
        "def predict(model, dataset, batch_size=32, threshold=0.5):\n",
        "    model.eval()\n",
        "    dataloader = DataLoader(dataset, batch_size=batch_size)\n",
        "    predictions = []\n",
        "    with torch.no_grad():\n",
        "        for batch in dataloader:\n",
        "            inputs = batch['input'].to(device)\n",
        "            main_out, _ = model(inputs)\n",
        "            probs = torch.sigmoid(main_out)\n",
        "            preds = (probs > threshold).long().cpu().numpy()\n",
        "            predictions.extend(preds)\n",
        "    return predictions"
      ]
    },
    {
      "cell_type": "code",
      "execution_count": 15,
      "id": "e0a3c3fe-582f-46ca-a9c9-5ae44f26f957",
      "metadata": {
        "id": "e0a3c3fe-582f-46ca-a9c9-5ae44f26f957"
      },
      "outputs": [],
      "source": [
        "from statistics import mean, stdev\n",
        "\n",
        "def run_experiments(domain_weights=[0.0, 0.05, 0.1, 0.15, 0.2, 0.25, 0.3, 0.35, 0.4, 0.45, 0.5, 0.55, 0.60, 0.65, 0.70, 0.75, 0.80], num_runs=3):\n",
        "    summary = []\n",
        "\n",
        "    for lambda_val in domain_weights:\n",
        "        all_acc, all_f1 = [], []\n",
        "        for run in range(1, num_runs + 1):\n",
        "            print(f\"\\n>>> Lambda={lambda_val}, Run={run}\")\n",
        "            model = DomainAwareTransformer()\n",
        "            trained_model, log_df = train_and_log(\n",
        "                model, train_dataset, dev_dataset=dev_dataset,\n",
        "                domain_loss_weight=lambda_val, run_id=run\n",
        "            )\n",
        "            all_acc.append(log_df[\"dev_acc\"].iloc[-1])\n",
        "            all_f1.append(log_df[\"dev_f1\"].iloc[-1])\n",
        "\n",
        "        summary.append({\n",
        "            \"lambda\": lambda_val,\n",
        "            \"mean_acc\": mean(all_acc),\n",
        "            \"std_acc\": stdev(all_acc),\n",
        "            \"mean_f1\": mean(all_f1),\n",
        "            \"std_f1\": stdev(all_f1),\n",
        "        })\n",
        "\n",
        "    # save\n",
        "    summary_df = pd.DataFrame(summary)\n",
        "    summary_df.to_csv(\"logs/experiment_summary.csv\", index=False)\n",
        "    print(\"\\n>>> Summary saved to logs/experiment_summary.csv\")\n",
        "    return summary_df"
      ]
    },
    {
      "cell_type": "code",
      "execution_count": 17,
      "id": "fc799e4a-41ad-40a2-8573-e2d9cf1bd172",
      "metadata": {
        "colab": {
          "base_uri": "https://localhost:8080/"
        },
        "id": "fc799e4a-41ad-40a2-8573-e2d9cf1bd172",
        "outputId": "81e4c3ec-b114-403f-d6e4-98cdbc8bc32d"
      },
      "outputs": [
        {
          "output_type": "stream",
          "name": "stdout",
          "text": [
            "\n",
            ">>> Lambda=0.0, Run=1\n"
          ]
        },
        {
          "output_type": "stream",
          "name": "stderr",
          "text": []
        },
        {
          "output_type": "stream",
          "name": "stdout",
          "text": [
            "[Run 1] Epoch 1: Loss=56.6466, Dev Acc=0.8767, F1=0.9340\n"
          ]
        },
        {
          "output_type": "stream",
          "name": "stderr",
          "text": []
        },
        {
          "output_type": "stream",
          "name": "stdout",
          "text": [
            "[Run 1] Epoch 2: Loss=37.8036, Dev Acc=0.9350, F1=0.9632\n"
          ]
        },
        {
          "output_type": "stream",
          "name": "stderr",
          "text": []
        },
        {
          "output_type": "stream",
          "name": "stdout",
          "text": [
            "[Run 1] Epoch 3: Loss=26.7568, Dev Acc=0.9300, F1=0.9597\n"
          ]
        },
        {
          "output_type": "stream",
          "name": "stderr",
          "text": []
        },
        {
          "output_type": "stream",
          "name": "stdout",
          "text": [
            "[Run 1] Epoch 4: Loss=22.1100, Dev Acc=0.9417, F1=0.9669\n"
          ]
        },
        {
          "output_type": "stream",
          "name": "stderr",
          "text": []
        },
        {
          "output_type": "stream",
          "name": "stdout",
          "text": [
            "[Run 1] Epoch 5: Loss=18.2869, Dev Acc=0.9442, F1=0.9682\n"
          ]
        },
        {
          "output_type": "stream",
          "name": "stderr",
          "text": []
        },
        {
          "output_type": "stream",
          "name": "stdout",
          "text": [
            "[Run 1] Epoch 6: Loss=14.1397, Dev Acc=0.9350, F1=0.9638\n"
          ]
        },
        {
          "output_type": "stream",
          "name": "stderr",
          "text": []
        },
        {
          "output_type": "stream",
          "name": "stdout",
          "text": [
            "[Run 1] Epoch 7: Loss=11.7665, Dev Acc=0.9467, F1=0.9697\n"
          ]
        },
        {
          "output_type": "stream",
          "name": "stderr",
          "text": []
        },
        {
          "output_type": "stream",
          "name": "stdout",
          "text": [
            "[Run 1] Epoch 8: Loss=9.4097, Dev Acc=0.9450, F1=0.9687\n"
          ]
        },
        {
          "output_type": "stream",
          "name": "stderr",
          "text": []
        },
        {
          "output_type": "stream",
          "name": "stdout",
          "text": [
            "[Run 1] Epoch 9: Loss=6.5659, Dev Acc=0.9425, F1=0.9671\n"
          ]
        },
        {
          "output_type": "stream",
          "name": "stderr",
          "text": []
        },
        {
          "output_type": "stream",
          "name": "stdout",
          "text": [
            "[Run 1] Epoch 10: Loss=5.4617, Dev Acc=0.9525, F1=0.9730\n",
            "\n",
            ">>> Lambda=0.0, Run=2\n"
          ]
        },
        {
          "output_type": "stream",
          "name": "stderr",
          "text": []
        },
        {
          "output_type": "stream",
          "name": "stdout",
          "text": [
            "[Run 2] Epoch 1: Loss=56.7887, Dev Acc=0.8750, F1=0.9333\n"
          ]
        },
        {
          "output_type": "stream",
          "name": "stderr",
          "text": []
        },
        {
          "output_type": "stream",
          "name": "stdout",
          "text": [
            "[Run 2] Epoch 2: Loss=38.7408, Dev Acc=0.9342, F1=0.9635\n"
          ]
        },
        {
          "output_type": "stream",
          "name": "stderr",
          "text": []
        },
        {
          "output_type": "stream",
          "name": "stdout",
          "text": [
            "[Run 2] Epoch 3: Loss=24.5595, Dev Acc=0.9217, F1=0.9572\n"
          ]
        },
        {
          "output_type": "stream",
          "name": "stderr",
          "text": []
        },
        {
          "output_type": "stream",
          "name": "stdout",
          "text": [
            "[Run 2] Epoch 4: Loss=19.2057, Dev Acc=0.9383, F1=0.9653\n"
          ]
        },
        {
          "output_type": "stream",
          "name": "stderr",
          "text": []
        },
        {
          "output_type": "stream",
          "name": "stdout",
          "text": [
            "[Run 2] Epoch 5: Loss=14.7168, Dev Acc=0.9417, F1=0.9673\n"
          ]
        },
        {
          "output_type": "stream",
          "name": "stderr",
          "text": []
        },
        {
          "output_type": "stream",
          "name": "stdout",
          "text": [
            "[Run 2] Epoch 6: Loss=12.8170, Dev Acc=0.9275, F1=0.9602\n"
          ]
        },
        {
          "output_type": "stream",
          "name": "stderr",
          "text": []
        },
        {
          "output_type": "stream",
          "name": "stdout",
          "text": [
            "[Run 2] Epoch 7: Loss=10.5322, Dev Acc=0.9392, F1=0.9663\n"
          ]
        },
        {
          "output_type": "stream",
          "name": "stderr",
          "text": []
        },
        {
          "output_type": "stream",
          "name": "stdout",
          "text": [
            "[Run 2] Epoch 8: Loss=7.2188, Dev Acc=0.9408, F1=0.9670\n",
            "Early stopping triggered at epoch 8\n",
            "\n",
            ">>> Lambda=0.0, Run=3\n"
          ]
        },
        {
          "output_type": "stream",
          "name": "stderr",
          "text": []
        },
        {
          "output_type": "stream",
          "name": "stdout",
          "text": [
            "[Run 3] Epoch 1: Loss=56.2619, Dev Acc=0.8750, F1=0.9333\n"
          ]
        },
        {
          "output_type": "stream",
          "name": "stderr",
          "text": []
        },
        {
          "output_type": "stream",
          "name": "stdout",
          "text": [
            "[Run 3] Epoch 2: Loss=35.3248, Dev Acc=0.9200, F1=0.9557\n"
          ]
        },
        {
          "output_type": "stream",
          "name": "stderr",
          "text": []
        },
        {
          "output_type": "stream",
          "name": "stdout",
          "text": [
            "[Run 3] Epoch 3: Loss=23.8605, Dev Acc=0.9192, F1=0.9555\n"
          ]
        },
        {
          "output_type": "stream",
          "name": "stderr",
          "text": []
        },
        {
          "output_type": "stream",
          "name": "stdout",
          "text": [
            "[Run 3] Epoch 4: Loss=19.2595, Dev Acc=0.9333, F1=0.9624\n"
          ]
        },
        {
          "output_type": "stream",
          "name": "stderr",
          "text": []
        },
        {
          "output_type": "stream",
          "name": "stdout",
          "text": [
            "[Run 3] Epoch 5: Loss=16.0648, Dev Acc=0.9133, F1=0.9527\n"
          ]
        },
        {
          "output_type": "stream",
          "name": "stderr",
          "text": []
        },
        {
          "output_type": "stream",
          "name": "stdout",
          "text": [
            "[Run 3] Epoch 6: Loss=11.7935, Dev Acc=0.9342, F1=0.9634\n"
          ]
        },
        {
          "output_type": "stream",
          "name": "stderr",
          "text": []
        },
        {
          "output_type": "stream",
          "name": "stdout",
          "text": [
            "[Run 3] Epoch 7: Loss=8.9895, Dev Acc=0.9333, F1=0.9632\n"
          ]
        },
        {
          "output_type": "stream",
          "name": "stderr",
          "text": []
        },
        {
          "output_type": "stream",
          "name": "stdout",
          "text": [
            "[Run 3] Epoch 8: Loss=7.6464, Dev Acc=0.9292, F1=0.9610\n"
          ]
        },
        {
          "output_type": "stream",
          "name": "stderr",
          "text": []
        },
        {
          "output_type": "stream",
          "name": "stdout",
          "text": [
            "[Run 3] Epoch 9: Loss=6.1453, Dev Acc=0.9367, F1=0.9647\n"
          ]
        },
        {
          "output_type": "stream",
          "name": "stderr",
          "text": []
        },
        {
          "output_type": "stream",
          "name": "stdout",
          "text": [
            "[Run 3] Epoch 10: Loss=3.8715, Dev Acc=0.9383, F1=0.9657\n",
            "\n",
            ">>> Lambda=0.05, Run=1\n"
          ]
        },
        {
          "output_type": "stream",
          "name": "stderr",
          "text": []
        },
        {
          "output_type": "stream",
          "name": "stdout",
          "text": [
            "[Run 1] Epoch 1: Loss=55.4867, Dev Acc=0.8750, F1=0.9333\n"
          ]
        },
        {
          "output_type": "stream",
          "name": "stderr",
          "text": []
        },
        {
          "output_type": "stream",
          "name": "stdout",
          "text": [
            "[Run 1] Epoch 2: Loss=36.2485, Dev Acc=0.8900, F1=0.9408\n"
          ]
        },
        {
          "output_type": "stream",
          "name": "stderr",
          "text": []
        },
        {
          "output_type": "stream",
          "name": "stdout",
          "text": [
            "[Run 1] Epoch 3: Loss=26.6437, Dev Acc=0.9250, F1=0.9586\n"
          ]
        },
        {
          "output_type": "stream",
          "name": "stderr",
          "text": []
        },
        {
          "output_type": "stream",
          "name": "stdout",
          "text": [
            "[Run 1] Epoch 4: Loss=20.3828, Dev Acc=0.9067, F1=0.9494\n"
          ]
        },
        {
          "output_type": "stream",
          "name": "stderr",
          "text": []
        },
        {
          "output_type": "stream",
          "name": "stdout",
          "text": [
            "[Run 1] Epoch 5: Loss=16.4830, Dev Acc=0.9125, F1=0.9523\n"
          ]
        },
        {
          "output_type": "stream",
          "name": "stderr",
          "text": []
        },
        {
          "output_type": "stream",
          "name": "stdout",
          "text": [
            "[Run 1] Epoch 6: Loss=12.9512, Dev Acc=0.9292, F1=0.9611\n"
          ]
        },
        {
          "output_type": "stream",
          "name": "stderr",
          "text": []
        },
        {
          "output_type": "stream",
          "name": "stdout",
          "text": [
            "[Run 1] Epoch 7: Loss=10.7901, Dev Acc=0.9283, F1=0.9606\n"
          ]
        },
        {
          "output_type": "stream",
          "name": "stderr",
          "text": []
        },
        {
          "output_type": "stream",
          "name": "stdout",
          "text": [
            "[Run 1] Epoch 8: Loss=7.7954, Dev Acc=0.9208, F1=0.9567\n"
          ]
        },
        {
          "output_type": "stream",
          "name": "stderr",
          "text": []
        },
        {
          "output_type": "stream",
          "name": "stdout",
          "text": [
            "[Run 1] Epoch 9: Loss=6.7562, Dev Acc=0.9142, F1=0.9532\n",
            "Early stopping triggered at epoch 9\n",
            "\n",
            ">>> Lambda=0.05, Run=2\n"
          ]
        },
        {
          "output_type": "stream",
          "name": "stderr",
          "text": []
        },
        {
          "output_type": "stream",
          "name": "stdout",
          "text": [
            "[Run 2] Epoch 1: Loss=56.1792, Dev Acc=0.8750, F1=0.9333\n"
          ]
        },
        {
          "output_type": "stream",
          "name": "stderr",
          "text": []
        },
        {
          "output_type": "stream",
          "name": "stdout",
          "text": [
            "[Run 2] Epoch 2: Loss=39.7021, Dev Acc=0.9125, F1=0.9521\n"
          ]
        },
        {
          "output_type": "stream",
          "name": "stderr",
          "text": []
        },
        {
          "output_type": "stream",
          "name": "stdout",
          "text": [
            "[Run 2] Epoch 3: Loss=25.3045, Dev Acc=0.9258, F1=0.9587\n"
          ]
        },
        {
          "output_type": "stream",
          "name": "stderr",
          "text": []
        },
        {
          "output_type": "stream",
          "name": "stdout",
          "text": [
            "[Run 2] Epoch 4: Loss=20.6602, Dev Acc=0.9067, F1=0.9494\n"
          ]
        },
        {
          "output_type": "stream",
          "name": "stderr",
          "text": []
        },
        {
          "output_type": "stream",
          "name": "stdout",
          "text": [
            "[Run 2] Epoch 5: Loss=16.3258, Dev Acc=0.9300, F1=0.9613\n"
          ]
        },
        {
          "output_type": "stream",
          "name": "stderr",
          "text": []
        },
        {
          "output_type": "stream",
          "name": "stdout",
          "text": [
            "[Run 2] Epoch 6: Loss=13.9557, Dev Acc=0.9233, F1=0.9579\n"
          ]
        },
        {
          "output_type": "stream",
          "name": "stderr",
          "text": []
        },
        {
          "output_type": "stream",
          "name": "stdout",
          "text": [
            "[Run 2] Epoch 7: Loss=10.4927, Dev Acc=0.9392, F1=0.9662\n"
          ]
        },
        {
          "output_type": "stream",
          "name": "stderr",
          "text": []
        },
        {
          "output_type": "stream",
          "name": "stdout",
          "text": [
            "[Run 2] Epoch 8: Loss=8.1607, Dev Acc=0.9267, F1=0.9597\n"
          ]
        },
        {
          "output_type": "stream",
          "name": "stderr",
          "text": []
        },
        {
          "output_type": "stream",
          "name": "stdout",
          "text": [
            "[Run 2] Epoch 9: Loss=6.0747, Dev Acc=0.9342, F1=0.9637\n"
          ]
        },
        {
          "output_type": "stream",
          "name": "stderr",
          "text": []
        },
        {
          "output_type": "stream",
          "name": "stdout",
          "text": [
            "[Run 2] Epoch 10: Loss=4.3318, Dev Acc=0.9350, F1=0.9642\n",
            "Early stopping triggered at epoch 10\n",
            "\n",
            ">>> Lambda=0.05, Run=3\n"
          ]
        },
        {
          "output_type": "stream",
          "name": "stderr",
          "text": []
        },
        {
          "output_type": "stream",
          "name": "stdout",
          "text": [
            "[Run 3] Epoch 1: Loss=56.4124, Dev Acc=0.8792, F1=0.9349\n"
          ]
        },
        {
          "output_type": "stream",
          "name": "stderr",
          "text": []
        },
        {
          "output_type": "stream",
          "name": "stdout",
          "text": [
            "[Run 3] Epoch 2: Loss=38.7842, Dev Acc=0.9308, F1=0.9613\n"
          ]
        },
        {
          "output_type": "stream",
          "name": "stderr",
          "text": []
        },
        {
          "output_type": "stream",
          "name": "stdout",
          "text": [
            "[Run 3] Epoch 3: Loss=27.3453, Dev Acc=0.9192, F1=0.9556\n"
          ]
        },
        {
          "output_type": "stream",
          "name": "stderr",
          "text": []
        },
        {
          "output_type": "stream",
          "name": "stdout",
          "text": [
            "[Run 3] Epoch 4: Loss=21.3001, Dev Acc=0.9225, F1=0.9575\n"
          ]
        },
        {
          "output_type": "stream",
          "name": "stderr",
          "text": []
        },
        {
          "output_type": "stream",
          "name": "stdout",
          "text": [
            "[Run 3] Epoch 5: Loss=17.7824, Dev Acc=0.9092, F1=0.9507\n",
            "Early stopping triggered at epoch 5\n",
            "\n",
            ">>> Lambda=0.1, Run=1\n"
          ]
        },
        {
          "output_type": "stream",
          "name": "stderr",
          "text": []
        },
        {
          "output_type": "stream",
          "name": "stdout",
          "text": [
            "[Run 1] Epoch 1: Loss=56.9999, Dev Acc=0.8567, F1=0.9224\n"
          ]
        },
        {
          "output_type": "stream",
          "name": "stderr",
          "text": []
        },
        {
          "output_type": "stream",
          "name": "stdout",
          "text": [
            "[Run 1] Epoch 2: Loss=37.6534, Dev Acc=0.9158, F1=0.9536\n"
          ]
        },
        {
          "output_type": "stream",
          "name": "stderr",
          "text": []
        },
        {
          "output_type": "stream",
          "name": "stdout",
          "text": [
            "[Run 1] Epoch 3: Loss=25.8496, Dev Acc=0.9067, F1=0.9494\n"
          ]
        },
        {
          "output_type": "stream",
          "name": "stderr",
          "text": []
        },
        {
          "output_type": "stream",
          "name": "stdout",
          "text": [
            "[Run 1] Epoch 4: Loss=19.9150, Dev Acc=0.9300, F1=0.9612\n"
          ]
        },
        {
          "output_type": "stream",
          "name": "stderr",
          "text": []
        },
        {
          "output_type": "stream",
          "name": "stdout",
          "text": [
            "[Run 1] Epoch 5: Loss=16.7200, Dev Acc=0.9325, F1=0.9624\n"
          ]
        },
        {
          "output_type": "stream",
          "name": "stderr",
          "text": []
        },
        {
          "output_type": "stream",
          "name": "stdout",
          "text": [
            "[Run 1] Epoch 6: Loss=12.8064, Dev Acc=0.9392, F1=0.9660\n"
          ]
        },
        {
          "output_type": "stream",
          "name": "stderr",
          "text": []
        },
        {
          "output_type": "stream",
          "name": "stdout",
          "text": [
            "[Run 1] Epoch 7: Loss=9.5846, Dev Acc=0.9258, F1=0.9592\n"
          ]
        },
        {
          "output_type": "stream",
          "name": "stderr",
          "text": []
        },
        {
          "output_type": "stream",
          "name": "stdout",
          "text": [
            "[Run 1] Epoch 8: Loss=6.5240, Dev Acc=0.9408, F1=0.9670\n"
          ]
        },
        {
          "output_type": "stream",
          "name": "stderr",
          "text": []
        },
        {
          "output_type": "stream",
          "name": "stdout",
          "text": [
            "[Run 1] Epoch 9: Loss=4.0219, Dev Acc=0.9300, F1=0.9614\n"
          ]
        },
        {
          "output_type": "stream",
          "name": "stderr",
          "text": []
        },
        {
          "output_type": "stream",
          "name": "stdout",
          "text": [
            "[Run 1] Epoch 10: Loss=3.7484, Dev Acc=0.9383, F1=0.9657\n",
            "\n",
            ">>> Lambda=0.1, Run=2\n"
          ]
        },
        {
          "output_type": "stream",
          "name": "stderr",
          "text": []
        },
        {
          "output_type": "stream",
          "name": "stdout",
          "text": [
            "[Run 2] Epoch 1: Loss=56.8527, Dev Acc=0.8750, F1=0.9333\n"
          ]
        },
        {
          "output_type": "stream",
          "name": "stderr",
          "text": []
        },
        {
          "output_type": "stream",
          "name": "stdout",
          "text": [
            "[Run 2] Epoch 2: Loss=45.0934, Dev Acc=0.9200, F1=0.9547\n"
          ]
        },
        {
          "output_type": "stream",
          "name": "stderr",
          "text": []
        },
        {
          "output_type": "stream",
          "name": "stdout",
          "text": [
            "[Run 2] Epoch 3: Loss=30.7010, Dev Acc=0.9225, F1=0.9572\n"
          ]
        },
        {
          "output_type": "stream",
          "name": "stderr",
          "text": []
        },
        {
          "output_type": "stream",
          "name": "stdout",
          "text": [
            "[Run 2] Epoch 4: Loss=22.6712, Dev Acc=0.9142, F1=0.9528\n"
          ]
        },
        {
          "output_type": "stream",
          "name": "stderr",
          "text": []
        },
        {
          "output_type": "stream",
          "name": "stdout",
          "text": [
            "[Run 2] Epoch 5: Loss=18.1029, Dev Acc=0.9267, F1=0.9593\n"
          ]
        },
        {
          "output_type": "stream",
          "name": "stderr",
          "text": []
        },
        {
          "output_type": "stream",
          "name": "stdout",
          "text": [
            "[Run 2] Epoch 6: Loss=14.0688, Dev Acc=0.9258, F1=0.9590\n"
          ]
        },
        {
          "output_type": "stream",
          "name": "stderr",
          "text": []
        },
        {
          "output_type": "stream",
          "name": "stdout",
          "text": [
            "[Run 2] Epoch 7: Loss=10.9172, Dev Acc=0.9150, F1=0.9536\n"
          ]
        },
        {
          "output_type": "stream",
          "name": "stderr",
          "text": []
        },
        {
          "output_type": "stream",
          "name": "stdout",
          "text": [
            "[Run 2] Epoch 8: Loss=8.9801, Dev Acc=0.9233, F1=0.9578\n",
            "Early stopping triggered at epoch 8\n",
            "\n",
            ">>> Lambda=0.1, Run=3\n"
          ]
        },
        {
          "output_type": "stream",
          "name": "stderr",
          "text": []
        },
        {
          "output_type": "stream",
          "name": "stdout",
          "text": [
            "[Run 3] Epoch 1: Loss=55.5435, Dev Acc=0.8750, F1=0.9333\n"
          ]
        },
        {
          "output_type": "stream",
          "name": "stderr",
          "text": []
        },
        {
          "output_type": "stream",
          "name": "stdout",
          "text": [
            "[Run 3] Epoch 2: Loss=35.5877, Dev Acc=0.9258, F1=0.9588\n"
          ]
        },
        {
          "output_type": "stream",
          "name": "stderr",
          "text": []
        },
        {
          "output_type": "stream",
          "name": "stdout",
          "text": [
            "[Run 3] Epoch 3: Loss=25.3036, Dev Acc=0.9325, F1=0.9613\n"
          ]
        },
        {
          "output_type": "stream",
          "name": "stderr",
          "text": []
        },
        {
          "output_type": "stream",
          "name": "stdout",
          "text": [
            "[Run 3] Epoch 4: Loss=20.7419, Dev Acc=0.9092, F1=0.9463\n"
          ]
        },
        {
          "output_type": "stream",
          "name": "stderr",
          "text": []
        },
        {
          "output_type": "stream",
          "name": "stdout",
          "text": [
            "[Run 3] Epoch 5: Loss=17.7055, Dev Acc=0.8500, F1=0.9072\n"
          ]
        },
        {
          "output_type": "stream",
          "name": "stderr",
          "text": []
        },
        {
          "output_type": "stream",
          "name": "stdout",
          "text": [
            "[Run 3] Epoch 6: Loss=13.6791, Dev Acc=0.9300, F1=0.9595\n",
            "Early stopping triggered at epoch 6\n",
            "\n",
            ">>> Lambda=0.15, Run=1\n"
          ]
        },
        {
          "output_type": "stream",
          "name": "stderr",
          "text": []
        },
        {
          "output_type": "stream",
          "name": "stdout",
          "text": [
            "[Run 1] Epoch 1: Loss=55.9741, Dev Acc=0.8608, F1=0.9238\n"
          ]
        },
        {
          "output_type": "stream",
          "name": "stderr",
          "text": []
        },
        {
          "output_type": "stream",
          "name": "stdout",
          "text": [
            "[Run 1] Epoch 2: Loss=35.2395, Dev Acc=0.9233, F1=0.9574\n"
          ]
        },
        {
          "output_type": "stream",
          "name": "stderr",
          "text": []
        },
        {
          "output_type": "stream",
          "name": "stdout",
          "text": [
            "[Run 1] Epoch 3: Loss=24.4051, Dev Acc=0.9308, F1=0.9614\n"
          ]
        },
        {
          "output_type": "stream",
          "name": "stderr",
          "text": []
        },
        {
          "output_type": "stream",
          "name": "stdout",
          "text": [
            "[Run 1] Epoch 4: Loss=19.5679, Dev Acc=0.9350, F1=0.9631\n"
          ]
        },
        {
          "output_type": "stream",
          "name": "stderr",
          "text": []
        },
        {
          "output_type": "stream",
          "name": "stdout",
          "text": [
            "[Run 1] Epoch 5: Loss=15.3527, Dev Acc=0.9325, F1=0.9621\n"
          ]
        },
        {
          "output_type": "stream",
          "name": "stderr",
          "text": []
        },
        {
          "output_type": "stream",
          "name": "stdout",
          "text": [
            "[Run 1] Epoch 6: Loss=13.0897, Dev Acc=0.9433, F1=0.9678\n"
          ]
        },
        {
          "output_type": "stream",
          "name": "stderr",
          "text": []
        },
        {
          "output_type": "stream",
          "name": "stdout",
          "text": [
            "[Run 1] Epoch 7: Loss=8.9999, Dev Acc=0.9425, F1=0.9677\n"
          ]
        },
        {
          "output_type": "stream",
          "name": "stderr",
          "text": []
        },
        {
          "output_type": "stream",
          "name": "stdout",
          "text": [
            "[Run 1] Epoch 8: Loss=7.0189, Dev Acc=0.9442, F1=0.9685\n"
          ]
        },
        {
          "output_type": "stream",
          "name": "stderr",
          "text": []
        },
        {
          "output_type": "stream",
          "name": "stdout",
          "text": [
            "[Run 1] Epoch 9: Loss=5.3723, Dev Acc=0.9367, F1=0.9648\n"
          ]
        },
        {
          "output_type": "stream",
          "name": "stderr",
          "text": []
        },
        {
          "output_type": "stream",
          "name": "stdout",
          "text": [
            "[Run 1] Epoch 10: Loss=4.2486, Dev Acc=0.9425, F1=0.9670\n",
            "\n",
            ">>> Lambda=0.15, Run=2\n"
          ]
        },
        {
          "output_type": "stream",
          "name": "stderr",
          "text": []
        },
        {
          "output_type": "stream",
          "name": "stdout",
          "text": [
            "[Run 2] Epoch 1: Loss=56.1474, Dev Acc=0.8750, F1=0.9333\n"
          ]
        },
        {
          "output_type": "stream",
          "name": "stderr",
          "text": []
        },
        {
          "output_type": "stream",
          "name": "stdout",
          "text": [
            "[Run 2] Epoch 2: Loss=35.9991, Dev Acc=0.9283, F1=0.9592\n"
          ]
        },
        {
          "output_type": "stream",
          "name": "stderr",
          "text": []
        },
        {
          "output_type": "stream",
          "name": "stdout",
          "text": [
            "[Run 2] Epoch 3: Loss=25.4333, Dev Acc=0.9333, F1=0.9629\n"
          ]
        },
        {
          "output_type": "stream",
          "name": "stderr",
          "text": []
        },
        {
          "output_type": "stream",
          "name": "stdout",
          "text": [
            "[Run 2] Epoch 4: Loss=20.5223, Dev Acc=0.9250, F1=0.9588\n"
          ]
        },
        {
          "output_type": "stream",
          "name": "stderr",
          "text": []
        },
        {
          "output_type": "stream",
          "name": "stdout",
          "text": [
            "[Run 2] Epoch 5: Loss=15.8623, Dev Acc=0.9408, F1=0.9671\n"
          ]
        },
        {
          "output_type": "stream",
          "name": "stderr",
          "text": []
        },
        {
          "output_type": "stream",
          "name": "stdout",
          "text": [
            "[Run 2] Epoch 6: Loss=11.9378, Dev Acc=0.9425, F1=0.9679\n"
          ]
        },
        {
          "output_type": "stream",
          "name": "stderr",
          "text": []
        },
        {
          "output_type": "stream",
          "name": "stdout",
          "text": [
            "[Run 2] Epoch 7: Loss=10.6444, Dev Acc=0.9425, F1=0.9672\n"
          ]
        },
        {
          "output_type": "stream",
          "name": "stderr",
          "text": []
        },
        {
          "output_type": "stream",
          "name": "stdout",
          "text": [
            "[Run 2] Epoch 8: Loss=7.2810, Dev Acc=0.9483, F1=0.9712\n"
          ]
        },
        {
          "output_type": "stream",
          "name": "stderr",
          "text": []
        },
        {
          "output_type": "stream",
          "name": "stdout",
          "text": [
            "[Run 2] Epoch 9: Loss=5.1520, Dev Acc=0.9467, F1=0.9702\n"
          ]
        },
        {
          "output_type": "stream",
          "name": "stderr",
          "text": []
        },
        {
          "output_type": "stream",
          "name": "stdout",
          "text": [
            "[Run 2] Epoch 10: Loss=3.8808, Dev Acc=0.9425, F1=0.9680\n",
            "\n",
            ">>> Lambda=0.15, Run=3\n"
          ]
        },
        {
          "output_type": "stream",
          "name": "stderr",
          "text": []
        },
        {
          "output_type": "stream",
          "name": "stdout",
          "text": [
            "[Run 3] Epoch 1: Loss=56.9071, Dev Acc=0.8583, F1=0.9222\n"
          ]
        },
        {
          "output_type": "stream",
          "name": "stderr",
          "text": []
        },
        {
          "output_type": "stream",
          "name": "stdout",
          "text": [
            "[Run 3] Epoch 2: Loss=43.5644, Dev Acc=0.9025, F1=0.9469\n"
          ]
        },
        {
          "output_type": "stream",
          "name": "stderr",
          "text": []
        },
        {
          "output_type": "stream",
          "name": "stdout",
          "text": [
            "[Run 3] Epoch 3: Loss=25.1377, Dev Acc=0.9283, F1=0.9602\n"
          ]
        },
        {
          "output_type": "stream",
          "name": "stderr",
          "text": []
        },
        {
          "output_type": "stream",
          "name": "stdout",
          "text": [
            "[Run 3] Epoch 4: Loss=17.8858, Dev Acc=0.9158, F1=0.9539\n"
          ]
        },
        {
          "output_type": "stream",
          "name": "stderr",
          "text": []
        },
        {
          "output_type": "stream",
          "name": "stdout",
          "text": [
            "[Run 3] Epoch 5: Loss=14.1026, Dev Acc=0.9200, F1=0.9562\n"
          ]
        },
        {
          "output_type": "stream",
          "name": "stderr",
          "text": []
        },
        {
          "output_type": "stream",
          "name": "stdout",
          "text": [
            "[Run 3] Epoch 6: Loss=10.5920, Dev Acc=0.9367, F1=0.9649\n"
          ]
        },
        {
          "output_type": "stream",
          "name": "stderr",
          "text": []
        },
        {
          "output_type": "stream",
          "name": "stdout",
          "text": [
            "[Run 3] Epoch 7: Loss=8.3889, Dev Acc=0.9150, F1=0.9536\n"
          ]
        },
        {
          "output_type": "stream",
          "name": "stderr",
          "text": []
        },
        {
          "output_type": "stream",
          "name": "stdout",
          "text": [
            "[Run 3] Epoch 8: Loss=6.0996, Dev Acc=0.9433, F1=0.9684\n"
          ]
        },
        {
          "output_type": "stream",
          "name": "stderr",
          "text": []
        },
        {
          "output_type": "stream",
          "name": "stdout",
          "text": [
            "[Run 3] Epoch 9: Loss=5.5939, Dev Acc=0.9325, F1=0.9628\n"
          ]
        },
        {
          "output_type": "stream",
          "name": "stderr",
          "text": []
        },
        {
          "output_type": "stream",
          "name": "stdout",
          "text": [
            "[Run 3] Epoch 10: Loss=3.9477, Dev Acc=0.9400, F1=0.9666\n",
            "\n",
            ">>> Lambda=0.2, Run=1\n"
          ]
        },
        {
          "output_type": "stream",
          "name": "stderr",
          "text": []
        },
        {
          "output_type": "stream",
          "name": "stdout",
          "text": [
            "[Run 1] Epoch 1: Loss=55.7219, Dev Acc=0.8750, F1=0.9333\n"
          ]
        },
        {
          "output_type": "stream",
          "name": "stderr",
          "text": []
        },
        {
          "output_type": "stream",
          "name": "stdout",
          "text": [
            "[Run 1] Epoch 2: Loss=37.9241, Dev Acc=0.8950, F1=0.9434\n"
          ]
        },
        {
          "output_type": "stream",
          "name": "stderr",
          "text": []
        },
        {
          "output_type": "stream",
          "name": "stdout",
          "text": [
            "[Run 1] Epoch 3: Loss=25.5604, Dev Acc=0.8992, F1=0.9455\n"
          ]
        },
        {
          "output_type": "stream",
          "name": "stderr",
          "text": []
        },
        {
          "output_type": "stream",
          "name": "stdout",
          "text": [
            "[Run 1] Epoch 4: Loss=19.0842, Dev Acc=0.9208, F1=0.9564\n"
          ]
        },
        {
          "output_type": "stream",
          "name": "stderr",
          "text": []
        },
        {
          "output_type": "stream",
          "name": "stdout",
          "text": [
            "[Run 1] Epoch 5: Loss=16.0827, Dev Acc=0.9200, F1=0.9558\n"
          ]
        },
        {
          "output_type": "stream",
          "name": "stderr",
          "text": []
        },
        {
          "output_type": "stream",
          "name": "stdout",
          "text": [
            "[Run 1] Epoch 6: Loss=13.3481, Dev Acc=0.9242, F1=0.9583\n"
          ]
        },
        {
          "output_type": "stream",
          "name": "stderr",
          "text": []
        },
        {
          "output_type": "stream",
          "name": "stdout",
          "text": [
            "[Run 1] Epoch 7: Loss=9.8964, Dev Acc=0.9208, F1=0.9565\n"
          ]
        },
        {
          "output_type": "stream",
          "name": "stderr",
          "text": []
        },
        {
          "output_type": "stream",
          "name": "stdout",
          "text": [
            "[Run 1] Epoch 8: Loss=6.9135, Dev Acc=0.9417, F1=0.9675\n"
          ]
        },
        {
          "output_type": "stream",
          "name": "stderr",
          "text": []
        },
        {
          "output_type": "stream",
          "name": "stdout",
          "text": [
            "[Run 1] Epoch 9: Loss=5.6988, Dev Acc=0.9500, F1=0.9719\n"
          ]
        },
        {
          "output_type": "stream",
          "name": "stderr",
          "text": []
        },
        {
          "output_type": "stream",
          "name": "stdout",
          "text": [
            "[Run 1] Epoch 10: Loss=4.3090, Dev Acc=0.9525, F1=0.9732\n",
            "\n",
            ">>> Lambda=0.2, Run=2\n"
          ]
        },
        {
          "output_type": "stream",
          "name": "stderr",
          "text": []
        },
        {
          "output_type": "stream",
          "name": "stdout",
          "text": [
            "[Run 2] Epoch 1: Loss=56.3251, Dev Acc=0.8750, F1=0.9333\n"
          ]
        },
        {
          "output_type": "stream",
          "name": "stderr",
          "text": []
        },
        {
          "output_type": "stream",
          "name": "stdout",
          "text": [
            "[Run 2] Epoch 2: Loss=39.8288, Dev Acc=0.9017, F1=0.9467\n"
          ]
        },
        {
          "output_type": "stream",
          "name": "stderr",
          "text": []
        },
        {
          "output_type": "stream",
          "name": "stdout",
          "text": [
            "[Run 2] Epoch 3: Loss=25.8218, Dev Acc=0.9267, F1=0.9592\n"
          ]
        },
        {
          "output_type": "stream",
          "name": "stderr",
          "text": []
        },
        {
          "output_type": "stream",
          "name": "stdout",
          "text": [
            "[Run 2] Epoch 4: Loss=19.8422, Dev Acc=0.9300, F1=0.9611\n"
          ]
        },
        {
          "output_type": "stream",
          "name": "stderr",
          "text": []
        },
        {
          "output_type": "stream",
          "name": "stdout",
          "text": [
            "[Run 2] Epoch 5: Loss=15.4212, Dev Acc=0.9033, F1=0.9477\n"
          ]
        },
        {
          "output_type": "stream",
          "name": "stderr",
          "text": []
        },
        {
          "output_type": "stream",
          "name": "stdout",
          "text": [
            "[Run 2] Epoch 6: Loss=13.4633, Dev Acc=0.9200, F1=0.9561\n"
          ]
        },
        {
          "output_type": "stream",
          "name": "stderr",
          "text": []
        },
        {
          "output_type": "stream",
          "name": "stdout",
          "text": [
            "[Run 2] Epoch 7: Loss=9.4103, Dev Acc=0.9292, F1=0.9610\n",
            "Early stopping triggered at epoch 7\n",
            "\n",
            ">>> Lambda=0.2, Run=3\n"
          ]
        },
        {
          "output_type": "stream",
          "name": "stderr",
          "text": []
        },
        {
          "output_type": "stream",
          "name": "stdout",
          "text": [
            "[Run 3] Epoch 1: Loss=57.3528, Dev Acc=0.8750, F1=0.9333\n"
          ]
        },
        {
          "output_type": "stream",
          "name": "stderr",
          "text": []
        },
        {
          "output_type": "stream",
          "name": "stdout",
          "text": [
            "[Run 3] Epoch 2: Loss=45.1468, Dev Acc=0.9008, F1=0.9418\n"
          ]
        },
        {
          "output_type": "stream",
          "name": "stderr",
          "text": []
        },
        {
          "output_type": "stream",
          "name": "stdout",
          "text": [
            "[Run 3] Epoch 3: Loss=28.2739, Dev Acc=0.9225, F1=0.9554\n"
          ]
        },
        {
          "output_type": "stream",
          "name": "stderr",
          "text": []
        },
        {
          "output_type": "stream",
          "name": "stdout",
          "text": [
            "[Run 3] Epoch 4: Loss=22.7758, Dev Acc=0.9267, F1=0.9579\n"
          ]
        },
        {
          "output_type": "stream",
          "name": "stderr",
          "text": []
        },
        {
          "output_type": "stream",
          "name": "stdout",
          "text": [
            "[Run 3] Epoch 5: Loss=18.9711, Dev Acc=0.9408, F1=0.9665\n"
          ]
        },
        {
          "output_type": "stream",
          "name": "stderr",
          "text": []
        },
        {
          "output_type": "stream",
          "name": "stdout",
          "text": [
            "[Run 3] Epoch 6: Loss=12.9420, Dev Acc=0.9292, F1=0.9589\n"
          ]
        },
        {
          "output_type": "stream",
          "name": "stderr",
          "text": []
        },
        {
          "output_type": "stream",
          "name": "stdout",
          "text": [
            "[Run 3] Epoch 7: Loss=10.1573, Dev Acc=0.9292, F1=0.9586\n"
          ]
        },
        {
          "output_type": "stream",
          "name": "stderr",
          "text": []
        },
        {
          "output_type": "stream",
          "name": "stdout",
          "text": [
            "[Run 3] Epoch 8: Loss=7.0529, Dev Acc=0.9442, F1=0.9684\n"
          ]
        },
        {
          "output_type": "stream",
          "name": "stderr",
          "text": []
        },
        {
          "output_type": "stream",
          "name": "stdout",
          "text": [
            "[Run 3] Epoch 9: Loss=4.0865, Dev Acc=0.9483, F1=0.9709\n"
          ]
        },
        {
          "output_type": "stream",
          "name": "stderr",
          "text": []
        },
        {
          "output_type": "stream",
          "name": "stdout",
          "text": [
            "[Run 3] Epoch 10: Loss=3.8135, Dev Acc=0.9383, F1=0.9644\n",
            "\n",
            ">>> Lambda=0.25, Run=1\n"
          ]
        },
        {
          "output_type": "stream",
          "name": "stderr",
          "text": []
        },
        {
          "output_type": "stream",
          "name": "stdout",
          "text": [
            "[Run 1] Epoch 1: Loss=56.9329, Dev Acc=0.8750, F1=0.9333\n"
          ]
        },
        {
          "output_type": "stream",
          "name": "stderr",
          "text": []
        },
        {
          "output_type": "stream",
          "name": "stdout",
          "text": [
            "[Run 1] Epoch 2: Loss=40.4821, Dev Acc=0.9308, F1=0.9612\n"
          ]
        },
        {
          "output_type": "stream",
          "name": "stderr",
          "text": []
        },
        {
          "output_type": "stream",
          "name": "stdout",
          "text": [
            "[Run 1] Epoch 3: Loss=26.4216, Dev Acc=0.9383, F1=0.9656\n"
          ]
        },
        {
          "output_type": "stream",
          "name": "stderr",
          "text": []
        },
        {
          "output_type": "stream",
          "name": "stdout",
          "text": [
            "[Run 1] Epoch 4: Loss=22.1413, Dev Acc=0.9375, F1=0.9647\n"
          ]
        },
        {
          "output_type": "stream",
          "name": "stderr",
          "text": []
        },
        {
          "output_type": "stream",
          "name": "stdout",
          "text": [
            "[Run 1] Epoch 5: Loss=17.7852, Dev Acc=0.9458, F1=0.9693\n"
          ]
        },
        {
          "output_type": "stream",
          "name": "stderr",
          "text": []
        },
        {
          "output_type": "stream",
          "name": "stdout",
          "text": [
            "[Run 1] Epoch 6: Loss=13.5892, Dev Acc=0.9508, F1=0.9722\n"
          ]
        },
        {
          "output_type": "stream",
          "name": "stderr",
          "text": []
        },
        {
          "output_type": "stream",
          "name": "stdout",
          "text": [
            "[Run 1] Epoch 7: Loss=9.9916, Dev Acc=0.9383, F1=0.9657\n"
          ]
        },
        {
          "output_type": "stream",
          "name": "stderr",
          "text": []
        },
        {
          "output_type": "stream",
          "name": "stdout",
          "text": [
            "[Run 1] Epoch 8: Loss=7.0621, Dev Acc=0.9500, F1=0.9719\n"
          ]
        },
        {
          "output_type": "stream",
          "name": "stderr",
          "text": []
        },
        {
          "output_type": "stream",
          "name": "stdout",
          "text": [
            "[Run 1] Epoch 9: Loss=4.9827, Dev Acc=0.9517, F1=0.9729\n"
          ]
        },
        {
          "output_type": "stream",
          "name": "stderr",
          "text": []
        },
        {
          "output_type": "stream",
          "name": "stdout",
          "text": [
            "[Run 1] Epoch 10: Loss=3.6959, Dev Acc=0.9467, F1=0.9696\n",
            "\n",
            ">>> Lambda=0.25, Run=2\n"
          ]
        },
        {
          "output_type": "stream",
          "name": "stderr",
          "text": []
        },
        {
          "output_type": "stream",
          "name": "stdout",
          "text": [
            "[Run 2] Epoch 1: Loss=57.3709, Dev Acc=0.8750, F1=0.9333\n"
          ]
        },
        {
          "output_type": "stream",
          "name": "stderr",
          "text": []
        },
        {
          "output_type": "stream",
          "name": "stdout",
          "text": [
            "[Run 2] Epoch 2: Loss=44.0646, Dev Acc=0.9158, F1=0.9532\n"
          ]
        },
        {
          "output_type": "stream",
          "name": "stderr",
          "text": []
        },
        {
          "output_type": "stream",
          "name": "stdout",
          "text": [
            "[Run 2] Epoch 3: Loss=25.6298, Dev Acc=0.9317, F1=0.9618\n"
          ]
        },
        {
          "output_type": "stream",
          "name": "stderr",
          "text": []
        },
        {
          "output_type": "stream",
          "name": "stdout",
          "text": [
            "[Run 2] Epoch 4: Loss=20.5054, Dev Acc=0.9292, F1=0.9607\n"
          ]
        },
        {
          "output_type": "stream",
          "name": "stderr",
          "text": []
        },
        {
          "output_type": "stream",
          "name": "stdout",
          "text": [
            "[Run 2] Epoch 5: Loss=18.0502, Dev Acc=0.9383, F1=0.9657\n"
          ]
        },
        {
          "output_type": "stream",
          "name": "stderr",
          "text": []
        },
        {
          "output_type": "stream",
          "name": "stdout",
          "text": [
            "[Run 2] Epoch 6: Loss=12.9604, Dev Acc=0.9383, F1=0.9656\n"
          ]
        },
        {
          "output_type": "stream",
          "name": "stderr",
          "text": []
        },
        {
          "output_type": "stream",
          "name": "stdout",
          "text": [
            "[Run 2] Epoch 7: Loss=10.3765, Dev Acc=0.9392, F1=0.9657\n"
          ]
        },
        {
          "output_type": "stream",
          "name": "stderr",
          "text": []
        },
        {
          "output_type": "stream",
          "name": "stdout",
          "text": [
            "[Run 2] Epoch 8: Loss=8.4300, Dev Acc=0.9483, F1=0.9709\n"
          ]
        },
        {
          "output_type": "stream",
          "name": "stderr",
          "text": []
        },
        {
          "output_type": "stream",
          "name": "stdout",
          "text": [
            "[Run 2] Epoch 9: Loss=6.7724, Dev Acc=0.9475, F1=0.9706\n"
          ]
        },
        {
          "output_type": "stream",
          "name": "stderr",
          "text": []
        },
        {
          "output_type": "stream",
          "name": "stdout",
          "text": [
            "[Run 2] Epoch 10: Loss=4.7822, Dev Acc=0.9433, F1=0.9684\n",
            "\n",
            ">>> Lambda=0.25, Run=3\n"
          ]
        },
        {
          "output_type": "stream",
          "name": "stderr",
          "text": []
        },
        {
          "output_type": "stream",
          "name": "stdout",
          "text": [
            "[Run 3] Epoch 1: Loss=56.5931, Dev Acc=0.8742, F1=0.9329\n"
          ]
        },
        {
          "output_type": "stream",
          "name": "stderr",
          "text": []
        },
        {
          "output_type": "stream",
          "name": "stdout",
          "text": [
            "[Run 3] Epoch 2: Loss=39.4241, Dev Acc=0.9317, F1=0.9613\n"
          ]
        },
        {
          "output_type": "stream",
          "name": "stderr",
          "text": []
        },
        {
          "output_type": "stream",
          "name": "stdout",
          "text": [
            "[Run 3] Epoch 3: Loss=25.7171, Dev Acc=0.9358, F1=0.9641\n"
          ]
        },
        {
          "output_type": "stream",
          "name": "stderr",
          "text": []
        },
        {
          "output_type": "stream",
          "name": "stdout",
          "text": [
            "[Run 3] Epoch 4: Loss=19.4953, Dev Acc=0.9450, F1=0.9688\n"
          ]
        },
        {
          "output_type": "stream",
          "name": "stderr",
          "text": []
        },
        {
          "output_type": "stream",
          "name": "stdout",
          "text": [
            "[Run 3] Epoch 5: Loss=14.9825, Dev Acc=0.9358, F1=0.9642\n"
          ]
        },
        {
          "output_type": "stream",
          "name": "stderr",
          "text": []
        },
        {
          "output_type": "stream",
          "name": "stdout",
          "text": [
            "[Run 3] Epoch 6: Loss=11.8375, Dev Acc=0.9283, F1=0.9603\n"
          ]
        },
        {
          "output_type": "stream",
          "name": "stderr",
          "text": []
        },
        {
          "output_type": "stream",
          "name": "stdout",
          "text": [
            "[Run 3] Epoch 7: Loss=8.1921, Dev Acc=0.9458, F1=0.9696\n"
          ]
        },
        {
          "output_type": "stream",
          "name": "stderr",
          "text": []
        },
        {
          "output_type": "stream",
          "name": "stdout",
          "text": [
            "[Run 3] Epoch 8: Loss=4.8302, Dev Acc=0.9225, F1=0.9547\n"
          ]
        },
        {
          "output_type": "stream",
          "name": "stderr",
          "text": []
        },
        {
          "output_type": "stream",
          "name": "stdout",
          "text": [
            "[Run 3] Epoch 9: Loss=5.5815, Dev Acc=0.9517, F1=0.9727\n"
          ]
        },
        {
          "output_type": "stream",
          "name": "stderr",
          "text": []
        },
        {
          "output_type": "stream",
          "name": "stdout",
          "text": [
            "[Run 3] Epoch 10: Loss=2.6808, Dev Acc=0.9400, F1=0.9664\n",
            "\n",
            ">>> Lambda=0.3, Run=1\n"
          ]
        },
        {
          "output_type": "stream",
          "name": "stderr",
          "text": []
        },
        {
          "output_type": "stream",
          "name": "stdout",
          "text": [
            "[Run 1] Epoch 1: Loss=57.0537, Dev Acc=0.8750, F1=0.9333\n"
          ]
        },
        {
          "output_type": "stream",
          "name": "stderr",
          "text": []
        },
        {
          "output_type": "stream",
          "name": "stdout",
          "text": [
            "[Run 1] Epoch 2: Loss=47.6113, Dev Acc=0.9042, F1=0.9480\n"
          ]
        },
        {
          "output_type": "stream",
          "name": "stderr",
          "text": []
        },
        {
          "output_type": "stream",
          "name": "stdout",
          "text": [
            "[Run 1] Epoch 3: Loss=30.3545, Dev Acc=0.9192, F1=0.9557\n"
          ]
        },
        {
          "output_type": "stream",
          "name": "stderr",
          "text": []
        },
        {
          "output_type": "stream",
          "name": "stdout",
          "text": [
            "[Run 1] Epoch 4: Loss=23.4659, Dev Acc=0.9133, F1=0.9527\n"
          ]
        },
        {
          "output_type": "stream",
          "name": "stderr",
          "text": []
        },
        {
          "output_type": "stream",
          "name": "stdout",
          "text": [
            "[Run 1] Epoch 5: Loss=18.5886, Dev Acc=0.9208, F1=0.9566\n"
          ]
        },
        {
          "output_type": "stream",
          "name": "stderr",
          "text": []
        },
        {
          "output_type": "stream",
          "name": "stdout",
          "text": [
            "[Run 1] Epoch 6: Loss=14.7142, Dev Acc=0.9317, F1=0.9622\n"
          ]
        },
        {
          "output_type": "stream",
          "name": "stderr",
          "text": []
        },
        {
          "output_type": "stream",
          "name": "stdout",
          "text": [
            "[Run 1] Epoch 7: Loss=12.0653, Dev Acc=0.9375, F1=0.9653\n"
          ]
        },
        {
          "output_type": "stream",
          "name": "stderr",
          "text": []
        },
        {
          "output_type": "stream",
          "name": "stdout",
          "text": [
            "[Run 1] Epoch 8: Loss=9.6263, Dev Acc=0.9325, F1=0.9628\n"
          ]
        },
        {
          "output_type": "stream",
          "name": "stderr",
          "text": []
        },
        {
          "output_type": "stream",
          "name": "stdout",
          "text": [
            "[Run 1] Epoch 9: Loss=7.1202, Dev Acc=0.9250, F1=0.9588\n"
          ]
        },
        {
          "output_type": "stream",
          "name": "stderr",
          "text": []
        },
        {
          "output_type": "stream",
          "name": "stdout",
          "text": [
            "[Run 1] Epoch 10: Loss=5.4515, Dev Acc=0.9475, F1=0.9703\n",
            "\n",
            ">>> Lambda=0.3, Run=2\n"
          ]
        },
        {
          "output_type": "stream",
          "name": "stderr",
          "text": []
        },
        {
          "output_type": "stream",
          "name": "stdout",
          "text": [
            "[Run 2] Epoch 1: Loss=55.6418, Dev Acc=0.8750, F1=0.9333\n"
          ]
        },
        {
          "output_type": "stream",
          "name": "stderr",
          "text": []
        },
        {
          "output_type": "stream",
          "name": "stdout",
          "text": [
            "[Run 2] Epoch 2: Loss=36.9200, Dev Acc=0.9208, F1=0.9557\n"
          ]
        },
        {
          "output_type": "stream",
          "name": "stderr",
          "text": []
        },
        {
          "output_type": "stream",
          "name": "stdout",
          "text": [
            "[Run 2] Epoch 3: Loss=26.6682, Dev Acc=0.9067, F1=0.9490\n"
          ]
        },
        {
          "output_type": "stream",
          "name": "stderr",
          "text": []
        },
        {
          "output_type": "stream",
          "name": "stdout",
          "text": [
            "[Run 2] Epoch 4: Loss=21.6333, Dev Acc=0.9283, F1=0.9599\n"
          ]
        },
        {
          "output_type": "stream",
          "name": "stderr",
          "text": []
        },
        {
          "output_type": "stream",
          "name": "stdout",
          "text": [
            "[Run 2] Epoch 5: Loss=17.6830, Dev Acc=0.9358, F1=0.9642\n"
          ]
        },
        {
          "output_type": "stream",
          "name": "stderr",
          "text": []
        },
        {
          "output_type": "stream",
          "name": "stdout",
          "text": [
            "[Run 2] Epoch 6: Loss=15.3359, Dev Acc=0.9267, F1=0.9596\n"
          ]
        },
        {
          "output_type": "stream",
          "name": "stderr",
          "text": []
        },
        {
          "output_type": "stream",
          "name": "stdout",
          "text": [
            "[Run 2] Epoch 7: Loss=10.7939, Dev Acc=0.9425, F1=0.9679\n"
          ]
        },
        {
          "output_type": "stream",
          "name": "stderr",
          "text": []
        },
        {
          "output_type": "stream",
          "name": "stdout",
          "text": [
            "[Run 2] Epoch 8: Loss=9.2569, Dev Acc=0.9425, F1=0.9678\n"
          ]
        },
        {
          "output_type": "stream",
          "name": "stderr",
          "text": []
        },
        {
          "output_type": "stream",
          "name": "stdout",
          "text": [
            "[Run 2] Epoch 9: Loss=7.4836, Dev Acc=0.9383, F1=0.9656\n"
          ]
        },
        {
          "output_type": "stream",
          "name": "stderr",
          "text": []
        },
        {
          "output_type": "stream",
          "name": "stdout",
          "text": [
            "[Run 2] Epoch 10: Loss=5.1304, Dev Acc=0.9400, F1=0.9665\n",
            "Early stopping triggered at epoch 10\n",
            "\n",
            ">>> Lambda=0.3, Run=3\n"
          ]
        },
        {
          "output_type": "stream",
          "name": "stderr",
          "text": []
        },
        {
          "output_type": "stream",
          "name": "stdout",
          "text": [
            "[Run 3] Epoch 1: Loss=57.2205, Dev Acc=0.8750, F1=0.9333\n"
          ]
        },
        {
          "output_type": "stream",
          "name": "stderr",
          "text": []
        },
        {
          "output_type": "stream",
          "name": "stdout",
          "text": [
            "[Run 3] Epoch 2: Loss=42.0774, Dev Acc=0.9250, F1=0.9581\n"
          ]
        },
        {
          "output_type": "stream",
          "name": "stderr",
          "text": []
        },
        {
          "output_type": "stream",
          "name": "stdout",
          "text": [
            "[Run 3] Epoch 3: Loss=25.7669, Dev Acc=0.9367, F1=0.9646\n"
          ]
        },
        {
          "output_type": "stream",
          "name": "stderr",
          "text": []
        },
        {
          "output_type": "stream",
          "name": "stdout",
          "text": [
            "[Run 3] Epoch 4: Loss=21.3099, Dev Acc=0.9417, F1=0.9665\n"
          ]
        },
        {
          "output_type": "stream",
          "name": "stderr",
          "text": []
        },
        {
          "output_type": "stream",
          "name": "stdout",
          "text": [
            "[Run 3] Epoch 5: Loss=16.8448, Dev Acc=0.9342, F1=0.9636\n"
          ]
        },
        {
          "output_type": "stream",
          "name": "stderr",
          "text": []
        },
        {
          "output_type": "stream",
          "name": "stdout",
          "text": [
            "[Run 3] Epoch 6: Loss=13.7784, Dev Acc=0.9475, F1=0.9704\n"
          ]
        },
        {
          "output_type": "stream",
          "name": "stderr",
          "text": []
        },
        {
          "output_type": "stream",
          "name": "stdout",
          "text": [
            "[Run 3] Epoch 7: Loss=9.4075, Dev Acc=0.9433, F1=0.9685\n"
          ]
        },
        {
          "output_type": "stream",
          "name": "stderr",
          "text": []
        },
        {
          "output_type": "stream",
          "name": "stdout",
          "text": [
            "[Run 3] Epoch 8: Loss=7.3571, Dev Acc=0.9450, F1=0.9694\n"
          ]
        },
        {
          "output_type": "stream",
          "name": "stderr",
          "text": []
        },
        {
          "output_type": "stream",
          "name": "stdout",
          "text": [
            "[Run 3] Epoch 9: Loss=6.6486, Dev Acc=0.9417, F1=0.9674\n",
            "Early stopping triggered at epoch 9\n",
            "\n",
            ">>> Lambda=0.35, Run=1\n"
          ]
        },
        {
          "output_type": "stream",
          "name": "stderr",
          "text": []
        },
        {
          "output_type": "stream",
          "name": "stdout",
          "text": [
            "[Run 1] Epoch 1: Loss=56.8971, Dev Acc=0.8750, F1=0.9333\n"
          ]
        },
        {
          "output_type": "stream",
          "name": "stderr",
          "text": []
        },
        {
          "output_type": "stream",
          "name": "stdout",
          "text": [
            "[Run 1] Epoch 2: Loss=40.0558, Dev Acc=0.9342, F1=0.9632\n"
          ]
        },
        {
          "output_type": "stream",
          "name": "stderr",
          "text": []
        },
        {
          "output_type": "stream",
          "name": "stdout",
          "text": [
            "[Run 1] Epoch 3: Loss=25.8319, Dev Acc=0.9367, F1=0.9647\n"
          ]
        },
        {
          "output_type": "stream",
          "name": "stderr",
          "text": []
        },
        {
          "output_type": "stream",
          "name": "stdout",
          "text": [
            "[Run 1] Epoch 4: Loss=19.1516, Dev Acc=0.9308, F1=0.9616\n"
          ]
        },
        {
          "output_type": "stream",
          "name": "stderr",
          "text": []
        },
        {
          "output_type": "stream",
          "name": "stdout",
          "text": [
            "[Run 1] Epoch 5: Loss=17.7539, Dev Acc=0.9358, F1=0.9642\n"
          ]
        },
        {
          "output_type": "stream",
          "name": "stderr",
          "text": []
        },
        {
          "output_type": "stream",
          "name": "stdout",
          "text": [
            "[Run 1] Epoch 6: Loss=11.7714, Dev Acc=0.9392, F1=0.9661\n"
          ]
        },
        {
          "output_type": "stream",
          "name": "stderr",
          "text": []
        },
        {
          "output_type": "stream",
          "name": "stdout",
          "text": [
            "[Run 1] Epoch 7: Loss=8.9664, Dev Acc=0.9442, F1=0.9687\n"
          ]
        },
        {
          "output_type": "stream",
          "name": "stderr",
          "text": []
        },
        {
          "output_type": "stream",
          "name": "stdout",
          "text": [
            "[Run 1] Epoch 8: Loss=6.7644, Dev Acc=0.9267, F1=0.9596\n"
          ]
        },
        {
          "output_type": "stream",
          "name": "stderr",
          "text": []
        },
        {
          "output_type": "stream",
          "name": "stdout",
          "text": [
            "[Run 1] Epoch 9: Loss=5.1752, Dev Acc=0.9467, F1=0.9700\n"
          ]
        },
        {
          "output_type": "stream",
          "name": "stderr",
          "text": []
        },
        {
          "output_type": "stream",
          "name": "stdout",
          "text": [
            "[Run 1] Epoch 10: Loss=3.3585, Dev Acc=0.9250, F1=0.9588\n",
            "\n",
            ">>> Lambda=0.35, Run=2\n"
          ]
        },
        {
          "output_type": "stream",
          "name": "stderr",
          "text": []
        },
        {
          "output_type": "stream",
          "name": "stdout",
          "text": [
            "[Run 2] Epoch 1: Loss=56.0672, Dev Acc=0.8750, F1=0.9333\n"
          ]
        },
        {
          "output_type": "stream",
          "name": "stderr",
          "text": []
        },
        {
          "output_type": "stream",
          "name": "stdout",
          "text": [
            "[Run 2] Epoch 2: Loss=39.7652, Dev Acc=0.9258, F1=0.9579\n"
          ]
        },
        {
          "output_type": "stream",
          "name": "stderr",
          "text": []
        },
        {
          "output_type": "stream",
          "name": "stdout",
          "text": [
            "[Run 2] Epoch 3: Loss=25.7716, Dev Acc=0.9108, F1=0.9479\n"
          ]
        },
        {
          "output_type": "stream",
          "name": "stderr",
          "text": []
        },
        {
          "output_type": "stream",
          "name": "stdout",
          "text": [
            "[Run 2] Epoch 4: Loss=20.9343, Dev Acc=0.9375, F1=0.9642\n"
          ]
        },
        {
          "output_type": "stream",
          "name": "stderr",
          "text": []
        },
        {
          "output_type": "stream",
          "name": "stdout",
          "text": [
            "[Run 2] Epoch 5: Loss=17.5448, Dev Acc=0.9258, F1=0.9569\n"
          ]
        },
        {
          "output_type": "stream",
          "name": "stderr",
          "text": []
        },
        {
          "output_type": "stream",
          "name": "stdout",
          "text": [
            "[Run 2] Epoch 6: Loss=13.5484, Dev Acc=0.9392, F1=0.9659\n"
          ]
        },
        {
          "output_type": "stream",
          "name": "stderr",
          "text": []
        },
        {
          "output_type": "stream",
          "name": "stdout",
          "text": [
            "[Run 2] Epoch 7: Loss=11.5349, Dev Acc=0.9450, F1=0.9688\n"
          ]
        },
        {
          "output_type": "stream",
          "name": "stderr",
          "text": []
        },
        {
          "output_type": "stream",
          "name": "stdout",
          "text": [
            "[Run 2] Epoch 8: Loss=8.4556, Dev Acc=0.9425, F1=0.9674\n"
          ]
        },
        {
          "output_type": "stream",
          "name": "stderr",
          "text": []
        },
        {
          "output_type": "stream",
          "name": "stdout",
          "text": [
            "[Run 2] Epoch 9: Loss=6.2402, Dev Acc=0.9492, F1=0.9712\n"
          ]
        },
        {
          "output_type": "stream",
          "name": "stderr",
          "text": []
        },
        {
          "output_type": "stream",
          "name": "stdout",
          "text": [
            "[Run 2] Epoch 10: Loss=4.6924, Dev Acc=0.9475, F1=0.9702\n",
            "\n",
            ">>> Lambda=0.35, Run=3\n"
          ]
        },
        {
          "output_type": "stream",
          "name": "stderr",
          "text": []
        },
        {
          "output_type": "stream",
          "name": "stdout",
          "text": [
            "[Run 3] Epoch 1: Loss=56.5389, Dev Acc=0.8817, F1=0.9362\n"
          ]
        },
        {
          "output_type": "stream",
          "name": "stderr",
          "text": []
        },
        {
          "output_type": "stream",
          "name": "stdout",
          "text": [
            "[Run 3] Epoch 2: Loss=35.8767, Dev Acc=0.9350, F1=0.9634\n"
          ]
        },
        {
          "output_type": "stream",
          "name": "stderr",
          "text": []
        },
        {
          "output_type": "stream",
          "name": "stdout",
          "text": [
            "[Run 3] Epoch 3: Loss=25.3296, Dev Acc=0.9342, F1=0.9630\n"
          ]
        },
        {
          "output_type": "stream",
          "name": "stderr",
          "text": []
        },
        {
          "output_type": "stream",
          "name": "stdout",
          "text": [
            "[Run 3] Epoch 4: Loss=19.7827, Dev Acc=0.9292, F1=0.9590\n"
          ]
        },
        {
          "output_type": "stream",
          "name": "stderr",
          "text": []
        },
        {
          "output_type": "stream",
          "name": "stdout",
          "text": [
            "[Run 3] Epoch 5: Loss=16.3128, Dev Acc=0.9467, F1=0.9699\n"
          ]
        },
        {
          "output_type": "stream",
          "name": "stderr",
          "text": []
        },
        {
          "output_type": "stream",
          "name": "stdout",
          "text": [
            "[Run 3] Epoch 6: Loss=12.6825, Dev Acc=0.9442, F1=0.9681\n"
          ]
        },
        {
          "output_type": "stream",
          "name": "stderr",
          "text": []
        },
        {
          "output_type": "stream",
          "name": "stdout",
          "text": [
            "[Run 3] Epoch 7: Loss=9.2611, Dev Acc=0.9517, F1=0.9726\n"
          ]
        },
        {
          "output_type": "stream",
          "name": "stderr",
          "text": []
        },
        {
          "output_type": "stream",
          "name": "stdout",
          "text": [
            "[Run 3] Epoch 8: Loss=6.7643, Dev Acc=0.9483, F1=0.9711\n"
          ]
        },
        {
          "output_type": "stream",
          "name": "stderr",
          "text": []
        },
        {
          "output_type": "stream",
          "name": "stdout",
          "text": [
            "[Run 3] Epoch 9: Loss=5.1770, Dev Acc=0.9458, F1=0.9697\n"
          ]
        },
        {
          "output_type": "stream",
          "name": "stderr",
          "text": []
        },
        {
          "output_type": "stream",
          "name": "stdout",
          "text": [
            "[Run 3] Epoch 10: Loss=5.9322, Dev Acc=0.9517, F1=0.9725\n",
            "Early stopping triggered at epoch 10\n",
            "\n",
            ">>> Lambda=0.4, Run=1\n"
          ]
        },
        {
          "output_type": "stream",
          "name": "stderr",
          "text": []
        },
        {
          "output_type": "stream",
          "name": "stdout",
          "text": [
            "[Run 1] Epoch 1: Loss=56.4604, Dev Acc=0.8750, F1=0.9333\n"
          ]
        },
        {
          "output_type": "stream",
          "name": "stderr",
          "text": []
        },
        {
          "output_type": "stream",
          "name": "stdout",
          "text": [
            "[Run 1] Epoch 2: Loss=40.2092, Dev Acc=0.8975, F1=0.9442\n"
          ]
        },
        {
          "output_type": "stream",
          "name": "stderr",
          "text": []
        },
        {
          "output_type": "stream",
          "name": "stdout",
          "text": [
            "[Run 1] Epoch 3: Loss=26.3066, Dev Acc=0.9175, F1=0.9547\n"
          ]
        },
        {
          "output_type": "stream",
          "name": "stderr",
          "text": []
        },
        {
          "output_type": "stream",
          "name": "stdout",
          "text": [
            "[Run 1] Epoch 4: Loss=22.2088, Dev Acc=0.9008, F1=0.9464\n"
          ]
        },
        {
          "output_type": "stream",
          "name": "stderr",
          "text": []
        },
        {
          "output_type": "stream",
          "name": "stdout",
          "text": [
            "[Run 1] Epoch 5: Loss=16.7412, Dev Acc=0.9192, F1=0.9558\n"
          ]
        },
        {
          "output_type": "stream",
          "name": "stderr",
          "text": []
        },
        {
          "output_type": "stream",
          "name": "stdout",
          "text": [
            "[Run 1] Epoch 6: Loss=14.5201, Dev Acc=0.9283, F1=0.9605\n"
          ]
        },
        {
          "output_type": "stream",
          "name": "stderr",
          "text": []
        },
        {
          "output_type": "stream",
          "name": "stdout",
          "text": [
            "[Run 1] Epoch 7: Loss=10.4605, Dev Acc=0.9142, F1=0.9532\n"
          ]
        },
        {
          "output_type": "stream",
          "name": "stderr",
          "text": []
        },
        {
          "output_type": "stream",
          "name": "stdout",
          "text": [
            "[Run 1] Epoch 8: Loss=8.3324, Dev Acc=0.9308, F1=0.9619\n"
          ]
        },
        {
          "output_type": "stream",
          "name": "stderr",
          "text": []
        },
        {
          "output_type": "stream",
          "name": "stdout",
          "text": [
            "[Run 1] Epoch 9: Loss=6.4934, Dev Acc=0.9225, F1=0.9576\n"
          ]
        },
        {
          "output_type": "stream",
          "name": "stderr",
          "text": []
        },
        {
          "output_type": "stream",
          "name": "stdout",
          "text": [
            "[Run 1] Epoch 10: Loss=4.5814, Dev Acc=0.9333, F1=0.9632\n",
            "\n",
            ">>> Lambda=0.4, Run=2\n"
          ]
        },
        {
          "output_type": "stream",
          "name": "stderr",
          "text": []
        },
        {
          "output_type": "stream",
          "name": "stdout",
          "text": [
            "[Run 2] Epoch 1: Loss=56.8065, Dev Acc=0.8617, F1=0.9245\n"
          ]
        },
        {
          "output_type": "stream",
          "name": "stderr",
          "text": []
        },
        {
          "output_type": "stream",
          "name": "stdout",
          "text": [
            "[Run 2] Epoch 2: Loss=40.0450, Dev Acc=0.9308, F1=0.9613\n"
          ]
        },
        {
          "output_type": "stream",
          "name": "stderr",
          "text": []
        },
        {
          "output_type": "stream",
          "name": "stdout",
          "text": [
            "[Run 2] Epoch 3: Loss=26.7688, Dev Acc=0.9367, F1=0.9645\n"
          ]
        },
        {
          "output_type": "stream",
          "name": "stderr",
          "text": []
        },
        {
          "output_type": "stream",
          "name": "stdout",
          "text": [
            "[Run 2] Epoch 4: Loss=22.5710, Dev Acc=0.9233, F1=0.9578\n"
          ]
        },
        {
          "output_type": "stream",
          "name": "stderr",
          "text": []
        },
        {
          "output_type": "stream",
          "name": "stdout",
          "text": [
            "[Run 2] Epoch 5: Loss=17.3781, Dev Acc=0.9400, F1=0.9664\n"
          ]
        },
        {
          "output_type": "stream",
          "name": "stderr",
          "text": []
        },
        {
          "output_type": "stream",
          "name": "stdout",
          "text": [
            "[Run 2] Epoch 6: Loss=13.7542, Dev Acc=0.9367, F1=0.9646\n"
          ]
        },
        {
          "output_type": "stream",
          "name": "stderr",
          "text": []
        },
        {
          "output_type": "stream",
          "name": "stdout",
          "text": [
            "[Run 2] Epoch 7: Loss=10.8495, Dev Acc=0.9433, F1=0.9680\n"
          ]
        },
        {
          "output_type": "stream",
          "name": "stderr",
          "text": []
        },
        {
          "output_type": "stream",
          "name": "stdout",
          "text": [
            "[Run 2] Epoch 8: Loss=7.9242, Dev Acc=0.9383, F1=0.9654\n"
          ]
        },
        {
          "output_type": "stream",
          "name": "stderr",
          "text": []
        },
        {
          "output_type": "stream",
          "name": "stdout",
          "text": [
            "[Run 2] Epoch 9: Loss=6.1930, Dev Acc=0.9308, F1=0.9617\n"
          ]
        },
        {
          "output_type": "stream",
          "name": "stderr",
          "text": []
        },
        {
          "output_type": "stream",
          "name": "stdout",
          "text": [
            "[Run 2] Epoch 10: Loss=5.1712, Dev Acc=0.9325, F1=0.9625\n",
            "Early stopping triggered at epoch 10\n",
            "\n",
            ">>> Lambda=0.4, Run=3\n"
          ]
        },
        {
          "output_type": "stream",
          "name": "stderr",
          "text": []
        },
        {
          "output_type": "stream",
          "name": "stdout",
          "text": [
            "[Run 3] Epoch 1: Loss=56.8436, Dev Acc=0.8750, F1=0.9333\n"
          ]
        },
        {
          "output_type": "stream",
          "name": "stderr",
          "text": []
        },
        {
          "output_type": "stream",
          "name": "stdout",
          "text": [
            "[Run 3] Epoch 2: Loss=37.3420, Dev Acc=0.8608, F1=0.9154\n"
          ]
        },
        {
          "output_type": "stream",
          "name": "stderr",
          "text": []
        },
        {
          "output_type": "stream",
          "name": "stdout",
          "text": [
            "[Run 3] Epoch 3: Loss=26.4750, Dev Acc=0.9292, F1=0.9601\n"
          ]
        },
        {
          "output_type": "stream",
          "name": "stderr",
          "text": []
        },
        {
          "output_type": "stream",
          "name": "stdout",
          "text": [
            "[Run 3] Epoch 4: Loss=21.2775, Dev Acc=0.9283, F1=0.9592\n"
          ]
        },
        {
          "output_type": "stream",
          "name": "stderr",
          "text": []
        },
        {
          "output_type": "stream",
          "name": "stdout",
          "text": [
            "[Run 3] Epoch 5: Loss=17.6442, Dev Acc=0.9425, F1=0.9677\n"
          ]
        },
        {
          "output_type": "stream",
          "name": "stderr",
          "text": []
        },
        {
          "output_type": "stream",
          "name": "stdout",
          "text": [
            "[Run 3] Epoch 6: Loss=14.4396, Dev Acc=0.9425, F1=0.9681\n"
          ]
        },
        {
          "output_type": "stream",
          "name": "stderr",
          "text": []
        },
        {
          "output_type": "stream",
          "name": "stdout",
          "text": [
            "[Run 3] Epoch 7: Loss=11.6470, Dev Acc=0.9525, F1=0.9732\n"
          ]
        },
        {
          "output_type": "stream",
          "name": "stderr",
          "text": []
        },
        {
          "output_type": "stream",
          "name": "stdout",
          "text": [
            "[Run 3] Epoch 8: Loss=9.5428, Dev Acc=0.9333, F1=0.9631\n"
          ]
        },
        {
          "output_type": "stream",
          "name": "stderr",
          "text": []
        },
        {
          "output_type": "stream",
          "name": "stdout",
          "text": [
            "[Run 3] Epoch 9: Loss=6.9752, Dev Acc=0.9458, F1=0.9697\n"
          ]
        },
        {
          "output_type": "stream",
          "name": "stderr",
          "text": []
        },
        {
          "output_type": "stream",
          "name": "stdout",
          "text": [
            "[Run 3] Epoch 10: Loss=4.7997, Dev Acc=0.9467, F1=0.9701\n",
            "Early stopping triggered at epoch 10\n",
            "\n",
            ">>> Lambda=0.45, Run=1\n"
          ]
        },
        {
          "output_type": "stream",
          "name": "stderr",
          "text": []
        },
        {
          "output_type": "stream",
          "name": "stdout",
          "text": [
            "[Run 1] Epoch 1: Loss=56.3438, Dev Acc=0.8750, F1=0.9333\n"
          ]
        },
        {
          "output_type": "stream",
          "name": "stderr",
          "text": []
        },
        {
          "output_type": "stream",
          "name": "stdout",
          "text": [
            "[Run 1] Epoch 2: Loss=38.2962, Dev Acc=0.9050, F1=0.9484\n"
          ]
        },
        {
          "output_type": "stream",
          "name": "stderr",
          "text": []
        },
        {
          "output_type": "stream",
          "name": "stdout",
          "text": [
            "[Run 1] Epoch 3: Loss=25.9635, Dev Acc=0.9192, F1=0.9556\n"
          ]
        },
        {
          "output_type": "stream",
          "name": "stderr",
          "text": []
        },
        {
          "output_type": "stream",
          "name": "stdout",
          "text": [
            "[Run 1] Epoch 4: Loss=22.6246, Dev Acc=0.9200, F1=0.9560\n"
          ]
        },
        {
          "output_type": "stream",
          "name": "stderr",
          "text": []
        },
        {
          "output_type": "stream",
          "name": "stdout",
          "text": [
            "[Run 1] Epoch 5: Loss=17.3593, Dev Acc=0.9125, F1=0.9524\n"
          ]
        },
        {
          "output_type": "stream",
          "name": "stderr",
          "text": []
        },
        {
          "output_type": "stream",
          "name": "stdout",
          "text": [
            "[Run 1] Epoch 6: Loss=12.8762, Dev Acc=0.9200, F1=0.9563\n"
          ]
        },
        {
          "output_type": "stream",
          "name": "stderr",
          "text": []
        },
        {
          "output_type": "stream",
          "name": "stdout",
          "text": [
            "[Run 1] Epoch 7: Loss=11.0916, Dev Acc=0.9175, F1=0.9549\n"
          ]
        },
        {
          "output_type": "stream",
          "name": "stderr",
          "text": []
        },
        {
          "output_type": "stream",
          "name": "stdout",
          "text": [
            "[Run 1] Epoch 8: Loss=8.0912, Dev Acc=0.9300, F1=0.9614\n"
          ]
        },
        {
          "output_type": "stream",
          "name": "stderr",
          "text": []
        },
        {
          "output_type": "stream",
          "name": "stdout",
          "text": [
            "[Run 1] Epoch 9: Loss=5.7425, Dev Acc=0.9175, F1=0.9550\n"
          ]
        },
        {
          "output_type": "stream",
          "name": "stderr",
          "text": []
        },
        {
          "output_type": "stream",
          "name": "stdout",
          "text": [
            "[Run 1] Epoch 10: Loss=5.5491, Dev Acc=0.9067, F1=0.9494\n",
            "\n",
            ">>> Lambda=0.45, Run=2\n"
          ]
        },
        {
          "output_type": "stream",
          "name": "stderr",
          "text": []
        },
        {
          "output_type": "stream",
          "name": "stdout",
          "text": [
            "[Run 2] Epoch 1: Loss=57.9008, Dev Acc=0.8575, F1=0.9229\n"
          ]
        },
        {
          "output_type": "stream",
          "name": "stderr",
          "text": []
        },
        {
          "output_type": "stream",
          "name": "stdout",
          "text": [
            "[Run 2] Epoch 2: Loss=42.2425, Dev Acc=0.8975, F1=0.9395\n"
          ]
        },
        {
          "output_type": "stream",
          "name": "stderr",
          "text": []
        },
        {
          "output_type": "stream",
          "name": "stdout",
          "text": [
            "[Run 2] Epoch 3: Loss=25.0657, Dev Acc=0.9417, F1=0.9668\n"
          ]
        },
        {
          "output_type": "stream",
          "name": "stderr",
          "text": []
        },
        {
          "output_type": "stream",
          "name": "stdout",
          "text": [
            "[Run 2] Epoch 4: Loss=20.5811, Dev Acc=0.9408, F1=0.9665\n"
          ]
        },
        {
          "output_type": "stream",
          "name": "stderr",
          "text": []
        },
        {
          "output_type": "stream",
          "name": "stdout",
          "text": [
            "[Run 2] Epoch 5: Loss=17.4077, Dev Acc=0.9467, F1=0.9697\n"
          ]
        },
        {
          "output_type": "stream",
          "name": "stderr",
          "text": []
        },
        {
          "output_type": "stream",
          "name": "stdout",
          "text": [
            "[Run 2] Epoch 6: Loss=12.1359, Dev Acc=0.9458, F1=0.9691\n"
          ]
        },
        {
          "output_type": "stream",
          "name": "stderr",
          "text": []
        },
        {
          "output_type": "stream",
          "name": "stdout",
          "text": [
            "[Run 2] Epoch 7: Loss=8.4255, Dev Acc=0.9467, F1=0.9698\n"
          ]
        },
        {
          "output_type": "stream",
          "name": "stderr",
          "text": []
        },
        {
          "output_type": "stream",
          "name": "stdout",
          "text": [
            "[Run 2] Epoch 8: Loss=5.8427, Dev Acc=0.9483, F1=0.9708\n"
          ]
        },
        {
          "output_type": "stream",
          "name": "stderr",
          "text": []
        },
        {
          "output_type": "stream",
          "name": "stdout",
          "text": [
            "[Run 2] Epoch 9: Loss=4.6997, Dev Acc=0.9467, F1=0.9698\n"
          ]
        },
        {
          "output_type": "stream",
          "name": "stderr",
          "text": []
        },
        {
          "output_type": "stream",
          "name": "stdout",
          "text": [
            "[Run 2] Epoch 10: Loss=3.2234, Dev Acc=0.9458, F1=0.9694\n",
            "\n",
            ">>> Lambda=0.45, Run=3\n"
          ]
        },
        {
          "output_type": "stream",
          "name": "stderr",
          "text": []
        },
        {
          "output_type": "stream",
          "name": "stdout",
          "text": [
            "[Run 3] Epoch 1: Loss=56.7687, Dev Acc=0.8750, F1=0.9333\n"
          ]
        },
        {
          "output_type": "stream",
          "name": "stderr",
          "text": []
        },
        {
          "output_type": "stream",
          "name": "stdout",
          "text": [
            "[Run 3] Epoch 2: Loss=41.1142, Dev Acc=0.9025, F1=0.9467\n"
          ]
        },
        {
          "output_type": "stream",
          "name": "stderr",
          "text": []
        },
        {
          "output_type": "stream",
          "name": "stdout",
          "text": [
            "[Run 3] Epoch 3: Loss=26.3819, Dev Acc=0.9258, F1=0.9592\n"
          ]
        },
        {
          "output_type": "stream",
          "name": "stderr",
          "text": []
        },
        {
          "output_type": "stream",
          "name": "stdout",
          "text": [
            "[Run 3] Epoch 4: Loss=21.4871, Dev Acc=0.9292, F1=0.9607\n"
          ]
        },
        {
          "output_type": "stream",
          "name": "stderr",
          "text": []
        },
        {
          "output_type": "stream",
          "name": "stdout",
          "text": [
            "[Run 3] Epoch 5: Loss=18.1245, Dev Acc=0.9325, F1=0.9626\n"
          ]
        },
        {
          "output_type": "stream",
          "name": "stderr",
          "text": []
        },
        {
          "output_type": "stream",
          "name": "stdout",
          "text": [
            "[Run 3] Epoch 6: Loss=13.5594, Dev Acc=0.9350, F1=0.9639\n"
          ]
        },
        {
          "output_type": "stream",
          "name": "stderr",
          "text": []
        },
        {
          "output_type": "stream",
          "name": "stdout",
          "text": [
            "[Run 3] Epoch 7: Loss=12.3139, Dev Acc=0.9333, F1=0.9631\n"
          ]
        },
        {
          "output_type": "stream",
          "name": "stderr",
          "text": []
        },
        {
          "output_type": "stream",
          "name": "stdout",
          "text": [
            "[Run 3] Epoch 8: Loss=8.3848, Dev Acc=0.9417, F1=0.9675\n"
          ]
        },
        {
          "output_type": "stream",
          "name": "stderr",
          "text": []
        },
        {
          "output_type": "stream",
          "name": "stdout",
          "text": [
            "[Run 3] Epoch 9: Loss=6.9846, Dev Acc=0.9383, F1=0.9656\n"
          ]
        },
        {
          "output_type": "stream",
          "name": "stderr",
          "text": []
        },
        {
          "output_type": "stream",
          "name": "stdout",
          "text": [
            "[Run 3] Epoch 10: Loss=5.0097, Dev Acc=0.9392, F1=0.9663\n",
            "\n",
            ">>> Lambda=0.5, Run=1\n"
          ]
        },
        {
          "output_type": "stream",
          "name": "stderr",
          "text": []
        },
        {
          "output_type": "stream",
          "name": "stdout",
          "text": [
            "[Run 1] Epoch 1: Loss=56.2165, Dev Acc=0.8750, F1=0.9333\n"
          ]
        },
        {
          "output_type": "stream",
          "name": "stderr",
          "text": []
        },
        {
          "output_type": "stream",
          "name": "stdout",
          "text": [
            "[Run 1] Epoch 2: Loss=36.1647, Dev Acc=0.9025, F1=0.9466\n"
          ]
        },
        {
          "output_type": "stream",
          "name": "stderr",
          "text": []
        },
        {
          "output_type": "stream",
          "name": "stdout",
          "text": [
            "[Run 1] Epoch 3: Loss=24.0122, Dev Acc=0.9333, F1=0.9629\n"
          ]
        },
        {
          "output_type": "stream",
          "name": "stderr",
          "text": []
        },
        {
          "output_type": "stream",
          "name": "stdout",
          "text": [
            "[Run 1] Epoch 4: Loss=20.1846, Dev Acc=0.9400, F1=0.9665\n"
          ]
        },
        {
          "output_type": "stream",
          "name": "stderr",
          "text": []
        },
        {
          "output_type": "stream",
          "name": "stdout",
          "text": [
            "[Run 1] Epoch 5: Loss=16.1600, Dev Acc=0.9425, F1=0.9677\n"
          ]
        },
        {
          "output_type": "stream",
          "name": "stderr",
          "text": []
        },
        {
          "output_type": "stream",
          "name": "stdout",
          "text": [
            "[Run 1] Epoch 6: Loss=12.5000, Dev Acc=0.9308, F1=0.9619\n"
          ]
        },
        {
          "output_type": "stream",
          "name": "stderr",
          "text": []
        },
        {
          "output_type": "stream",
          "name": "stdout",
          "text": [
            "[Run 1] Epoch 7: Loss=8.7912, Dev Acc=0.9442, F1=0.9686\n"
          ]
        },
        {
          "output_type": "stream",
          "name": "stderr",
          "text": []
        },
        {
          "output_type": "stream",
          "name": "stdout",
          "text": [
            "[Run 1] Epoch 8: Loss=7.6463, Dev Acc=0.9375, F1=0.9653\n"
          ]
        },
        {
          "output_type": "stream",
          "name": "stderr",
          "text": []
        },
        {
          "output_type": "stream",
          "name": "stdout",
          "text": [
            "[Run 1] Epoch 9: Loss=6.0745, Dev Acc=0.9483, F1=0.9708\n"
          ]
        },
        {
          "output_type": "stream",
          "name": "stderr",
          "text": []
        },
        {
          "output_type": "stream",
          "name": "stdout",
          "text": [
            "[Run 1] Epoch 10: Loss=3.4484, Dev Acc=0.9492, F1=0.9711\n",
            "\n",
            ">>> Lambda=0.5, Run=2\n"
          ]
        },
        {
          "output_type": "stream",
          "name": "stderr",
          "text": []
        },
        {
          "output_type": "stream",
          "name": "stdout",
          "text": [
            "[Run 2] Epoch 1: Loss=56.4476, Dev Acc=0.8750, F1=0.9333\n"
          ]
        },
        {
          "output_type": "stream",
          "name": "stderr",
          "text": []
        },
        {
          "output_type": "stream",
          "name": "stdout",
          "text": [
            "[Run 2] Epoch 2: Loss=42.5744, Dev Acc=0.8875, F1=0.9394\n"
          ]
        },
        {
          "output_type": "stream",
          "name": "stderr",
          "text": []
        },
        {
          "output_type": "stream",
          "name": "stdout",
          "text": [
            "[Run 2] Epoch 3: Loss=25.3362, Dev Acc=0.9300, F1=0.9611\n"
          ]
        },
        {
          "output_type": "stream",
          "name": "stderr",
          "text": []
        },
        {
          "output_type": "stream",
          "name": "stdout",
          "text": [
            "[Run 2] Epoch 4: Loss=18.5834, Dev Acc=0.9425, F1=0.9677\n"
          ]
        },
        {
          "output_type": "stream",
          "name": "stderr",
          "text": []
        },
        {
          "output_type": "stream",
          "name": "stdout",
          "text": [
            "[Run 2] Epoch 5: Loss=15.5827, Dev Acc=0.9392, F1=0.9659\n"
          ]
        },
        {
          "output_type": "stream",
          "name": "stderr",
          "text": []
        },
        {
          "output_type": "stream",
          "name": "stdout",
          "text": [
            "[Run 2] Epoch 6: Loss=11.7175, Dev Acc=0.9392, F1=0.9661\n"
          ]
        },
        {
          "output_type": "stream",
          "name": "stderr",
          "text": []
        },
        {
          "output_type": "stream",
          "name": "stdout",
          "text": [
            "[Run 2] Epoch 7: Loss=9.7146, Dev Acc=0.9450, F1=0.9690\n"
          ]
        },
        {
          "output_type": "stream",
          "name": "stderr",
          "text": []
        },
        {
          "output_type": "stream",
          "name": "stdout",
          "text": [
            "[Run 2] Epoch 8: Loss=8.0816, Dev Acc=0.9425, F1=0.9680\n"
          ]
        },
        {
          "output_type": "stream",
          "name": "stderr",
          "text": []
        },
        {
          "output_type": "stream",
          "name": "stdout",
          "text": [
            "[Run 2] Epoch 9: Loss=5.7324, Dev Acc=0.9400, F1=0.9668\n"
          ]
        },
        {
          "output_type": "stream",
          "name": "stderr",
          "text": []
        },
        {
          "output_type": "stream",
          "name": "stdout",
          "text": [
            "[Run 2] Epoch 10: Loss=4.2159, Dev Acc=0.9458, F1=0.9698\n",
            "\n",
            ">>> Lambda=0.5, Run=3\n"
          ]
        },
        {
          "output_type": "stream",
          "name": "stderr",
          "text": []
        },
        {
          "output_type": "stream",
          "name": "stdout",
          "text": [
            "[Run 3] Epoch 1: Loss=56.0459, Dev Acc=0.8750, F1=0.9333\n"
          ]
        },
        {
          "output_type": "stream",
          "name": "stderr",
          "text": []
        },
        {
          "output_type": "stream",
          "name": "stdout",
          "text": [
            "[Run 3] Epoch 2: Loss=41.6158, Dev Acc=0.9125, F1=0.9509\n"
          ]
        },
        {
          "output_type": "stream",
          "name": "stderr",
          "text": []
        },
        {
          "output_type": "stream",
          "name": "stdout",
          "text": [
            "[Run 3] Epoch 3: Loss=26.3994, Dev Acc=0.9133, F1=0.9522\n"
          ]
        },
        {
          "output_type": "stream",
          "name": "stderr",
          "text": []
        },
        {
          "output_type": "stream",
          "name": "stdout",
          "text": [
            "[Run 3] Epoch 4: Loss=20.1655, Dev Acc=0.9283, F1=0.9602\n"
          ]
        },
        {
          "output_type": "stream",
          "name": "stderr",
          "text": []
        },
        {
          "output_type": "stream",
          "name": "stdout",
          "text": [
            "[Run 3] Epoch 5: Loss=14.7721, Dev Acc=0.9308, F1=0.9614\n"
          ]
        },
        {
          "output_type": "stream",
          "name": "stderr",
          "text": []
        },
        {
          "output_type": "stream",
          "name": "stdout",
          "text": [
            "[Run 3] Epoch 6: Loss=10.6829, Dev Acc=0.9283, F1=0.9603\n"
          ]
        },
        {
          "output_type": "stream",
          "name": "stderr",
          "text": []
        },
        {
          "output_type": "stream",
          "name": "stdout",
          "text": [
            "[Run 3] Epoch 7: Loss=8.1109, Dev Acc=0.9300, F1=0.9611\n"
          ]
        },
        {
          "output_type": "stream",
          "name": "stderr",
          "text": []
        },
        {
          "output_type": "stream",
          "name": "stdout",
          "text": [
            "[Run 3] Epoch 8: Loss=5.7773, Dev Acc=0.9475, F1=0.9704\n"
          ]
        },
        {
          "output_type": "stream",
          "name": "stderr",
          "text": []
        },
        {
          "output_type": "stream",
          "name": "stdout",
          "text": [
            "[Run 3] Epoch 9: Loss=3.9078, Dev Acc=0.9408, F1=0.9669\n"
          ]
        },
        {
          "output_type": "stream",
          "name": "stderr",
          "text": []
        },
        {
          "output_type": "stream",
          "name": "stdout",
          "text": [
            "[Run 3] Epoch 10: Loss=2.7439, Dev Acc=0.9383, F1=0.9656\n",
            "\n",
            ">>> Lambda=0.55, Run=1\n"
          ]
        },
        {
          "output_type": "stream",
          "name": "stderr",
          "text": []
        },
        {
          "output_type": "stream",
          "name": "stdout",
          "text": [
            "[Run 1] Epoch 1: Loss=56.2892, Dev Acc=0.8558, F1=0.9220\n"
          ]
        },
        {
          "output_type": "stream",
          "name": "stderr",
          "text": []
        },
        {
          "output_type": "stream",
          "name": "stdout",
          "text": [
            "[Run 1] Epoch 2: Loss=37.7003, Dev Acc=0.9125, F1=0.9521\n"
          ]
        },
        {
          "output_type": "stream",
          "name": "stderr",
          "text": []
        },
        {
          "output_type": "stream",
          "name": "stdout",
          "text": [
            "[Run 1] Epoch 3: Loss=23.4588, Dev Acc=0.9358, F1=0.9635\n"
          ]
        },
        {
          "output_type": "stream",
          "name": "stderr",
          "text": []
        },
        {
          "output_type": "stream",
          "name": "stdout",
          "text": [
            "[Run 1] Epoch 4: Loss=19.2007, Dev Acc=0.9292, F1=0.9608\n"
          ]
        },
        {
          "output_type": "stream",
          "name": "stderr",
          "text": []
        },
        {
          "output_type": "stream",
          "name": "stdout",
          "text": [
            "[Run 1] Epoch 5: Loss=13.8328, Dev Acc=0.9375, F1=0.9651\n"
          ]
        },
        {
          "output_type": "stream",
          "name": "stderr",
          "text": []
        },
        {
          "output_type": "stream",
          "name": "stdout",
          "text": [
            "[Run 1] Epoch 6: Loss=11.4686, Dev Acc=0.9375, F1=0.9653\n"
          ]
        },
        {
          "output_type": "stream",
          "name": "stderr",
          "text": []
        },
        {
          "output_type": "stream",
          "name": "stdout",
          "text": [
            "[Run 1] Epoch 7: Loss=9.2461, Dev Acc=0.9367, F1=0.9649\n"
          ]
        },
        {
          "output_type": "stream",
          "name": "stderr",
          "text": []
        },
        {
          "output_type": "stream",
          "name": "stdout",
          "text": [
            "[Run 1] Epoch 8: Loss=7.1283, Dev Acc=0.9475, F1=0.9699\n"
          ]
        },
        {
          "output_type": "stream",
          "name": "stderr",
          "text": []
        },
        {
          "output_type": "stream",
          "name": "stdout",
          "text": [
            "[Run 1] Epoch 9: Loss=6.3395, Dev Acc=0.9425, F1=0.9680\n"
          ]
        },
        {
          "output_type": "stream",
          "name": "stderr",
          "text": []
        },
        {
          "output_type": "stream",
          "name": "stdout",
          "text": [
            "[Run 1] Epoch 10: Loss=3.6198, Dev Acc=0.9483, F1=0.9709\n",
            "\n",
            ">>> Lambda=0.55, Run=2\n"
          ]
        },
        {
          "output_type": "stream",
          "name": "stderr",
          "text": []
        },
        {
          "output_type": "stream",
          "name": "stdout",
          "text": [
            "[Run 2] Epoch 1: Loss=56.1100, Dev Acc=0.8592, F1=0.9230\n"
          ]
        },
        {
          "output_type": "stream",
          "name": "stderr",
          "text": []
        },
        {
          "output_type": "stream",
          "name": "stdout",
          "text": [
            "[Run 2] Epoch 2: Loss=33.5017, Dev Acc=0.9342, F1=0.9627\n"
          ]
        },
        {
          "output_type": "stream",
          "name": "stderr",
          "text": []
        },
        {
          "output_type": "stream",
          "name": "stdout",
          "text": [
            "[Run 2] Epoch 3: Loss=23.5692, Dev Acc=0.9358, F1=0.9643\n"
          ]
        },
        {
          "output_type": "stream",
          "name": "stderr",
          "text": []
        },
        {
          "output_type": "stream",
          "name": "stdout",
          "text": [
            "[Run 2] Epoch 4: Loss=18.4084, Dev Acc=0.9417, F1=0.9672\n"
          ]
        },
        {
          "output_type": "stream",
          "name": "stderr",
          "text": []
        },
        {
          "output_type": "stream",
          "name": "stdout",
          "text": [
            "[Run 2] Epoch 5: Loss=14.0868, Dev Acc=0.9483, F1=0.9707\n"
          ]
        },
        {
          "output_type": "stream",
          "name": "stderr",
          "text": []
        },
        {
          "output_type": "stream",
          "name": "stdout",
          "text": [
            "[Run 2] Epoch 6: Loss=10.7315, Dev Acc=0.9417, F1=0.9664\n"
          ]
        },
        {
          "output_type": "stream",
          "name": "stderr",
          "text": []
        },
        {
          "output_type": "stream",
          "name": "stdout",
          "text": [
            "[Run 2] Epoch 7: Loss=8.2688, Dev Acc=0.9508, F1=0.9719\n"
          ]
        },
        {
          "output_type": "stream",
          "name": "stderr",
          "text": []
        },
        {
          "output_type": "stream",
          "name": "stdout",
          "text": [
            "[Run 2] Epoch 8: Loss=6.2085, Dev Acc=0.9450, F1=0.9682\n"
          ]
        },
        {
          "output_type": "stream",
          "name": "stderr",
          "text": []
        },
        {
          "output_type": "stream",
          "name": "stdout",
          "text": [
            "[Run 2] Epoch 9: Loss=5.2457, Dev Acc=0.9525, F1=0.9728\n"
          ]
        },
        {
          "output_type": "stream",
          "name": "stderr",
          "text": []
        },
        {
          "output_type": "stream",
          "name": "stdout",
          "text": [
            "[Run 2] Epoch 10: Loss=3.0932, Dev Acc=0.9367, F1=0.9632\n",
            "\n",
            ">>> Lambda=0.55, Run=3\n"
          ]
        },
        {
          "output_type": "stream",
          "name": "stderr",
          "text": []
        },
        {
          "output_type": "stream",
          "name": "stdout",
          "text": [
            "[Run 3] Epoch 1: Loss=56.5288, Dev Acc=0.8750, F1=0.9333\n"
          ]
        },
        {
          "output_type": "stream",
          "name": "stderr",
          "text": []
        },
        {
          "output_type": "stream",
          "name": "stdout",
          "text": [
            "[Run 3] Epoch 2: Loss=38.3942, Dev Acc=0.8983, F1=0.9447\n"
          ]
        },
        {
          "output_type": "stream",
          "name": "stderr",
          "text": []
        },
        {
          "output_type": "stream",
          "name": "stdout",
          "text": [
            "[Run 3] Epoch 3: Loss=26.3053, Dev Acc=0.9067, F1=0.9491\n"
          ]
        },
        {
          "output_type": "stream",
          "name": "stderr",
          "text": []
        },
        {
          "output_type": "stream",
          "name": "stdout",
          "text": [
            "[Run 3] Epoch 4: Loss=19.3646, Dev Acc=0.9133, F1=0.9526\n"
          ]
        },
        {
          "output_type": "stream",
          "name": "stderr",
          "text": []
        },
        {
          "output_type": "stream",
          "name": "stdout",
          "text": [
            "[Run 3] Epoch 5: Loss=15.4430, Dev Acc=0.9092, F1=0.9507\n"
          ]
        },
        {
          "output_type": "stream",
          "name": "stderr",
          "text": []
        },
        {
          "output_type": "stream",
          "name": "stdout",
          "text": [
            "[Run 3] Epoch 6: Loss=11.8564, Dev Acc=0.9425, F1=0.9678\n"
          ]
        },
        {
          "output_type": "stream",
          "name": "stderr",
          "text": []
        },
        {
          "output_type": "stream",
          "name": "stdout",
          "text": [
            "[Run 3] Epoch 7: Loss=9.1208, Dev Acc=0.9275, F1=0.9602\n"
          ]
        },
        {
          "output_type": "stream",
          "name": "stderr",
          "text": []
        },
        {
          "output_type": "stream",
          "name": "stdout",
          "text": [
            "[Run 3] Epoch 8: Loss=6.6703, Dev Acc=0.9383, F1=0.9657\n"
          ]
        },
        {
          "output_type": "stream",
          "name": "stderr",
          "text": []
        },
        {
          "output_type": "stream",
          "name": "stdout",
          "text": [
            "[Run 3] Epoch 9: Loss=4.1221, Dev Acc=0.9492, F1=0.9715\n"
          ]
        },
        {
          "output_type": "stream",
          "name": "stderr",
          "text": []
        },
        {
          "output_type": "stream",
          "name": "stdout",
          "text": [
            "[Run 3] Epoch 10: Loss=2.9413, Dev Acc=0.9333, F1=0.9632\n",
            "\n",
            ">>> Lambda=0.6, Run=1\n"
          ]
        },
        {
          "output_type": "stream",
          "name": "stderr",
          "text": []
        },
        {
          "output_type": "stream",
          "name": "stdout",
          "text": [
            "[Run 1] Epoch 1: Loss=55.6679, Dev Acc=0.8750, F1=0.9333\n"
          ]
        },
        {
          "output_type": "stream",
          "name": "stderr",
          "text": []
        },
        {
          "output_type": "stream",
          "name": "stdout",
          "text": [
            "[Run 1] Epoch 2: Loss=34.5266, Dev Acc=0.9125, F1=0.9522\n"
          ]
        },
        {
          "output_type": "stream",
          "name": "stderr",
          "text": []
        },
        {
          "output_type": "stream",
          "name": "stdout",
          "text": [
            "[Run 1] Epoch 3: Loss=23.7618, Dev Acc=0.9283, F1=0.9603\n"
          ]
        },
        {
          "output_type": "stream",
          "name": "stderr",
          "text": []
        },
        {
          "output_type": "stream",
          "name": "stdout",
          "text": [
            "[Run 1] Epoch 4: Loss=19.4022, Dev Acc=0.9425, F1=0.9673\n"
          ]
        },
        {
          "output_type": "stream",
          "name": "stderr",
          "text": []
        },
        {
          "output_type": "stream",
          "name": "stdout",
          "text": [
            "[Run 1] Epoch 5: Loss=16.2394, Dev Acc=0.9292, F1=0.9608\n"
          ]
        },
        {
          "output_type": "stream",
          "name": "stderr",
          "text": []
        },
        {
          "output_type": "stream",
          "name": "stdout",
          "text": [
            "[Run 1] Epoch 6: Loss=12.9912, Dev Acc=0.9383, F1=0.9656\n"
          ]
        },
        {
          "output_type": "stream",
          "name": "stderr",
          "text": []
        },
        {
          "output_type": "stream",
          "name": "stdout",
          "text": [
            "[Run 1] Epoch 7: Loss=9.2321, Dev Acc=0.9417, F1=0.9674\n"
          ]
        },
        {
          "output_type": "stream",
          "name": "stderr",
          "text": []
        },
        {
          "output_type": "stream",
          "name": "stdout",
          "text": [
            "[Run 1] Epoch 8: Loss=8.1366, Dev Acc=0.9450, F1=0.9694\n"
          ]
        },
        {
          "output_type": "stream",
          "name": "stderr",
          "text": []
        },
        {
          "output_type": "stream",
          "name": "stdout",
          "text": [
            "[Run 1] Epoch 9: Loss=6.4480, Dev Acc=0.9408, F1=0.9671\n"
          ]
        },
        {
          "output_type": "stream",
          "name": "stderr",
          "text": []
        },
        {
          "output_type": "stream",
          "name": "stdout",
          "text": [
            "[Run 1] Epoch 10: Loss=4.3102, Dev Acc=0.9575, F1=0.9758\n",
            "\n",
            ">>> Lambda=0.6, Run=2\n"
          ]
        },
        {
          "output_type": "stream",
          "name": "stderr",
          "text": []
        },
        {
          "output_type": "stream",
          "name": "stdout",
          "text": [
            "[Run 2] Epoch 1: Loss=56.3562, Dev Acc=0.8750, F1=0.9333\n"
          ]
        },
        {
          "output_type": "stream",
          "name": "stderr",
          "text": []
        },
        {
          "output_type": "stream",
          "name": "stdout",
          "text": [
            "[Run 2] Epoch 2: Loss=43.2692, Dev Acc=0.9142, F1=0.9522\n"
          ]
        },
        {
          "output_type": "stream",
          "name": "stderr",
          "text": []
        },
        {
          "output_type": "stream",
          "name": "stdout",
          "text": [
            "[Run 2] Epoch 3: Loss=29.7206, Dev Acc=0.9283, F1=0.9601\n"
          ]
        },
        {
          "output_type": "stream",
          "name": "stderr",
          "text": []
        },
        {
          "output_type": "stream",
          "name": "stdout",
          "text": [
            "[Run 2] Epoch 4: Loss=20.9030, Dev Acc=0.9375, F1=0.9652\n"
          ]
        },
        {
          "output_type": "stream",
          "name": "stderr",
          "text": []
        },
        {
          "output_type": "stream",
          "name": "stdout",
          "text": [
            "[Run 2] Epoch 5: Loss=17.1353, Dev Acc=0.9417, F1=0.9674\n"
          ]
        },
        {
          "output_type": "stream",
          "name": "stderr",
          "text": []
        },
        {
          "output_type": "stream",
          "name": "stdout",
          "text": [
            "[Run 2] Epoch 6: Loss=12.5549, Dev Acc=0.9450, F1=0.9689\n"
          ]
        },
        {
          "output_type": "stream",
          "name": "stderr",
          "text": []
        },
        {
          "output_type": "stream",
          "name": "stdout",
          "text": [
            "[Run 2] Epoch 7: Loss=8.5065, Dev Acc=0.9433, F1=0.9683\n"
          ]
        },
        {
          "output_type": "stream",
          "name": "stderr",
          "text": []
        },
        {
          "output_type": "stream",
          "name": "stdout",
          "text": [
            "[Run 2] Epoch 8: Loss=6.7559, Dev Acc=0.9483, F1=0.9710\n"
          ]
        },
        {
          "output_type": "stream",
          "name": "stderr",
          "text": []
        },
        {
          "output_type": "stream",
          "name": "stdout",
          "text": [
            "[Run 2] Epoch 9: Loss=4.2570, Dev Acc=0.9525, F1=0.9731\n"
          ]
        },
        {
          "output_type": "stream",
          "name": "stderr",
          "text": []
        },
        {
          "output_type": "stream",
          "name": "stdout",
          "text": [
            "[Run 2] Epoch 10: Loss=2.1783, Dev Acc=0.9533, F1=0.9735\n",
            "\n",
            ">>> Lambda=0.6, Run=3\n"
          ]
        },
        {
          "output_type": "stream",
          "name": "stderr",
          "text": []
        },
        {
          "output_type": "stream",
          "name": "stdout",
          "text": [
            "[Run 3] Epoch 1: Loss=57.1351, Dev Acc=0.8750, F1=0.9333\n"
          ]
        },
        {
          "output_type": "stream",
          "name": "stderr",
          "text": []
        },
        {
          "output_type": "stream",
          "name": "stdout",
          "text": [
            "[Run 3] Epoch 2: Loss=39.1744, Dev Acc=0.9350, F1=0.9634\n"
          ]
        },
        {
          "output_type": "stream",
          "name": "stderr",
          "text": []
        },
        {
          "output_type": "stream",
          "name": "stdout",
          "text": [
            "[Run 3] Epoch 3: Loss=24.7349, Dev Acc=0.9358, F1=0.9640\n"
          ]
        },
        {
          "output_type": "stream",
          "name": "stderr",
          "text": []
        },
        {
          "output_type": "stream",
          "name": "stdout",
          "text": [
            "[Run 3] Epoch 4: Loss=20.2989, Dev Acc=0.9400, F1=0.9664\n"
          ]
        },
        {
          "output_type": "stream",
          "name": "stderr",
          "text": []
        },
        {
          "output_type": "stream",
          "name": "stdout",
          "text": [
            "[Run 3] Epoch 5: Loss=16.1604, Dev Acc=0.9350, F1=0.9639\n"
          ]
        },
        {
          "output_type": "stream",
          "name": "stderr",
          "text": []
        },
        {
          "output_type": "stream",
          "name": "stdout",
          "text": [
            "[Run 3] Epoch 6: Loss=12.4543, Dev Acc=0.9425, F1=0.9678\n"
          ]
        },
        {
          "output_type": "stream",
          "name": "stderr",
          "text": []
        },
        {
          "output_type": "stream",
          "name": "stdout",
          "text": [
            "[Run 3] Epoch 7: Loss=9.9817, Dev Acc=0.9400, F1=0.9666\n"
          ]
        },
        {
          "output_type": "stream",
          "name": "stderr",
          "text": []
        },
        {
          "output_type": "stream",
          "name": "stdout",
          "text": [
            "[Run 3] Epoch 8: Loss=9.1494, Dev Acc=0.9450, F1=0.9694\n"
          ]
        },
        {
          "output_type": "stream",
          "name": "stderr",
          "text": []
        },
        {
          "output_type": "stream",
          "name": "stdout",
          "text": [
            "[Run 3] Epoch 9: Loss=5.7959, Dev Acc=0.9425, F1=0.9681\n"
          ]
        },
        {
          "output_type": "stream",
          "name": "stderr",
          "text": []
        },
        {
          "output_type": "stream",
          "name": "stdout",
          "text": [
            "[Run 3] Epoch 10: Loss=4.6120, Dev Acc=0.9408, F1=0.9670\n",
            "\n",
            ">>> Lambda=0.65, Run=1\n"
          ]
        },
        {
          "output_type": "stream",
          "name": "stderr",
          "text": []
        },
        {
          "output_type": "stream",
          "name": "stdout",
          "text": [
            "[Run 1] Epoch 1: Loss=56.4134, Dev Acc=0.8750, F1=0.9333\n"
          ]
        },
        {
          "output_type": "stream",
          "name": "stderr",
          "text": []
        },
        {
          "output_type": "stream",
          "name": "stdout",
          "text": [
            "[Run 1] Epoch 2: Loss=36.5091, Dev Acc=0.9275, F1=0.9597\n"
          ]
        },
        {
          "output_type": "stream",
          "name": "stderr",
          "text": []
        },
        {
          "output_type": "stream",
          "name": "stdout",
          "text": [
            "[Run 1] Epoch 3: Loss=24.0840, Dev Acc=0.9400, F1=0.9663\n"
          ]
        },
        {
          "output_type": "stream",
          "name": "stderr",
          "text": []
        },
        {
          "output_type": "stream",
          "name": "stdout",
          "text": [
            "[Run 1] Epoch 4: Loss=17.6018, Dev Acc=0.9342, F1=0.9635\n"
          ]
        },
        {
          "output_type": "stream",
          "name": "stderr",
          "text": []
        },
        {
          "output_type": "stream",
          "name": "stdout",
          "text": [
            "[Run 1] Epoch 5: Loss=15.4688, Dev Acc=0.9433, F1=0.9677\n"
          ]
        },
        {
          "output_type": "stream",
          "name": "stderr",
          "text": []
        },
        {
          "output_type": "stream",
          "name": "stdout",
          "text": [
            "[Run 1] Epoch 6: Loss=10.8403, Dev Acc=0.9475, F1=0.9706\n"
          ]
        },
        {
          "output_type": "stream",
          "name": "stderr",
          "text": []
        },
        {
          "output_type": "stream",
          "name": "stdout",
          "text": [
            "[Run 1] Epoch 7: Loss=8.0488, Dev Acc=0.9308, F1=0.9619\n"
          ]
        },
        {
          "output_type": "stream",
          "name": "stderr",
          "text": []
        },
        {
          "output_type": "stream",
          "name": "stdout",
          "text": [
            "[Run 1] Epoch 8: Loss=7.2535, Dev Acc=0.9467, F1=0.9700\n"
          ]
        },
        {
          "output_type": "stream",
          "name": "stderr",
          "text": []
        },
        {
          "output_type": "stream",
          "name": "stdout",
          "text": [
            "[Run 1] Epoch 9: Loss=4.7739, Dev Acc=0.9525, F1=0.9732\n"
          ]
        },
        {
          "output_type": "stream",
          "name": "stderr",
          "text": []
        },
        {
          "output_type": "stream",
          "name": "stdout",
          "text": [
            "[Run 1] Epoch 10: Loss=3.1982, Dev Acc=0.9458, F1=0.9692\n",
            "\n",
            ">>> Lambda=0.65, Run=2\n"
          ]
        },
        {
          "output_type": "stream",
          "name": "stderr",
          "text": []
        },
        {
          "output_type": "stream",
          "name": "stdout",
          "text": [
            "[Run 2] Epoch 1: Loss=56.0439, Dev Acc=0.8750, F1=0.9333\n"
          ]
        },
        {
          "output_type": "stream",
          "name": "stderr",
          "text": []
        },
        {
          "output_type": "stream",
          "name": "stdout",
          "text": [
            "[Run 2] Epoch 2: Loss=37.8907, Dev Acc=0.9117, F1=0.9516\n"
          ]
        },
        {
          "output_type": "stream",
          "name": "stderr",
          "text": []
        },
        {
          "output_type": "stream",
          "name": "stdout",
          "text": [
            "[Run 2] Epoch 3: Loss=22.4688, Dev Acc=0.9158, F1=0.9541\n"
          ]
        },
        {
          "output_type": "stream",
          "name": "stderr",
          "text": []
        },
        {
          "output_type": "stream",
          "name": "stdout",
          "text": [
            "[Run 2] Epoch 4: Loss=17.7569, Dev Acc=0.9375, F1=0.9653\n"
          ]
        },
        {
          "output_type": "stream",
          "name": "stderr",
          "text": []
        },
        {
          "output_type": "stream",
          "name": "stdout",
          "text": [
            "[Run 2] Epoch 5: Loss=16.0915, Dev Acc=0.9283, F1=0.9607\n"
          ]
        },
        {
          "output_type": "stream",
          "name": "stderr",
          "text": []
        },
        {
          "output_type": "stream",
          "name": "stdout",
          "text": [
            "[Run 2] Epoch 6: Loss=10.7487, Dev Acc=0.9200, F1=0.9563\n"
          ]
        },
        {
          "output_type": "stream",
          "name": "stderr",
          "text": []
        },
        {
          "output_type": "stream",
          "name": "stdout",
          "text": [
            "[Run 2] Epoch 7: Loss=8.5147, Dev Acc=0.9342, F1=0.9637\n",
            "Early stopping triggered at epoch 7\n",
            "\n",
            ">>> Lambda=0.65, Run=3\n"
          ]
        },
        {
          "output_type": "stream",
          "name": "stderr",
          "text": []
        },
        {
          "output_type": "stream",
          "name": "stdout",
          "text": [
            "[Run 3] Epoch 1: Loss=55.2450, Dev Acc=0.8750, F1=0.9333\n"
          ]
        },
        {
          "output_type": "stream",
          "name": "stderr",
          "text": []
        },
        {
          "output_type": "stream",
          "name": "stdout",
          "text": [
            "[Run 3] Epoch 2: Loss=36.9725, Dev Acc=0.9192, F1=0.9548\n"
          ]
        },
        {
          "output_type": "stream",
          "name": "stderr",
          "text": []
        },
        {
          "output_type": "stream",
          "name": "stdout",
          "text": [
            "[Run 3] Epoch 3: Loss=23.3190, Dev Acc=0.9358, F1=0.9637\n"
          ]
        },
        {
          "output_type": "stream",
          "name": "stderr",
          "text": []
        },
        {
          "output_type": "stream",
          "name": "stdout",
          "text": [
            "[Run 3] Epoch 4: Loss=19.0216, Dev Acc=0.9400, F1=0.9658\n"
          ]
        },
        {
          "output_type": "stream",
          "name": "stderr",
          "text": []
        },
        {
          "output_type": "stream",
          "name": "stdout",
          "text": [
            "[Run 3] Epoch 5: Loss=14.8523, Dev Acc=0.9400, F1=0.9660\n"
          ]
        },
        {
          "output_type": "stream",
          "name": "stderr",
          "text": []
        },
        {
          "output_type": "stream",
          "name": "stdout",
          "text": [
            "[Run 3] Epoch 6: Loss=12.6444, Dev Acc=0.9283, F1=0.9604\n"
          ]
        },
        {
          "output_type": "stream",
          "name": "stderr",
          "text": []
        },
        {
          "output_type": "stream",
          "name": "stdout",
          "text": [
            "[Run 3] Epoch 7: Loss=10.1302, Dev Acc=0.9408, F1=0.9671\n"
          ]
        },
        {
          "output_type": "stream",
          "name": "stderr",
          "text": []
        },
        {
          "output_type": "stream",
          "name": "stdout",
          "text": [
            "[Run 3] Epoch 8: Loss=8.5410, Dev Acc=0.9275, F1=0.9601\n"
          ]
        },
        {
          "output_type": "stream",
          "name": "stderr",
          "text": []
        },
        {
          "output_type": "stream",
          "name": "stdout",
          "text": [
            "[Run 3] Epoch 9: Loss=5.6802, Dev Acc=0.9458, F1=0.9698\n"
          ]
        },
        {
          "output_type": "stream",
          "name": "stderr",
          "text": []
        },
        {
          "output_type": "stream",
          "name": "stdout",
          "text": [
            "[Run 3] Epoch 10: Loss=4.0038, Dev Acc=0.9575, F1=0.9759\n",
            "\n",
            ">>> Lambda=0.7, Run=1\n"
          ]
        },
        {
          "output_type": "stream",
          "name": "stderr",
          "text": []
        },
        {
          "output_type": "stream",
          "name": "stdout",
          "text": [
            "[Run 1] Epoch 1: Loss=56.7549, Dev Acc=0.8750, F1=0.9333\n"
          ]
        },
        {
          "output_type": "stream",
          "name": "stderr",
          "text": []
        },
        {
          "output_type": "stream",
          "name": "stdout",
          "text": [
            "[Run 1] Epoch 2: Loss=40.2179, Dev Acc=0.9242, F1=0.9571\n"
          ]
        },
        {
          "output_type": "stream",
          "name": "stderr",
          "text": []
        },
        {
          "output_type": "stream",
          "name": "stdout",
          "text": [
            "[Run 1] Epoch 3: Loss=28.2149, Dev Acc=0.9358, F1=0.9639\n"
          ]
        },
        {
          "output_type": "stream",
          "name": "stderr",
          "text": []
        },
        {
          "output_type": "stream",
          "name": "stdout",
          "text": [
            "[Run 1] Epoch 4: Loss=23.8761, Dev Acc=0.9358, F1=0.9638\n"
          ]
        },
        {
          "output_type": "stream",
          "name": "stderr",
          "text": []
        },
        {
          "output_type": "stream",
          "name": "stdout",
          "text": [
            "[Run 1] Epoch 5: Loss=18.2935, Dev Acc=0.9375, F1=0.9643\n"
          ]
        },
        {
          "output_type": "stream",
          "name": "stderr",
          "text": []
        },
        {
          "output_type": "stream",
          "name": "stdout",
          "text": [
            "[Run 1] Epoch 6: Loss=13.1552, Dev Acc=0.9450, F1=0.9688\n"
          ]
        },
        {
          "output_type": "stream",
          "name": "stderr",
          "text": []
        },
        {
          "output_type": "stream",
          "name": "stdout",
          "text": [
            "[Run 1] Epoch 7: Loss=8.9276, Dev Acc=0.9475, F1=0.9703\n"
          ]
        },
        {
          "output_type": "stream",
          "name": "stderr",
          "text": []
        },
        {
          "output_type": "stream",
          "name": "stdout",
          "text": [
            "[Run 1] Epoch 8: Loss=5.7875, Dev Acc=0.9417, F1=0.9672\n"
          ]
        },
        {
          "output_type": "stream",
          "name": "stderr",
          "text": []
        },
        {
          "output_type": "stream",
          "name": "stdout",
          "text": [
            "[Run 1] Epoch 9: Loss=4.9438, Dev Acc=0.9450, F1=0.9688\n"
          ]
        },
        {
          "output_type": "stream",
          "name": "stderr",
          "text": []
        },
        {
          "output_type": "stream",
          "name": "stdout",
          "text": [
            "[Run 1] Epoch 10: Loss=3.9623, Dev Acc=0.9467, F1=0.9702\n",
            "Early stopping triggered at epoch 10\n",
            "\n",
            ">>> Lambda=0.7, Run=2\n"
          ]
        },
        {
          "output_type": "stream",
          "name": "stderr",
          "text": []
        },
        {
          "output_type": "stream",
          "name": "stdout",
          "text": [
            "[Run 2] Epoch 1: Loss=55.3792, Dev Acc=0.8625, F1=0.9246\n"
          ]
        },
        {
          "output_type": "stream",
          "name": "stderr",
          "text": []
        },
        {
          "output_type": "stream",
          "name": "stdout",
          "text": [
            "[Run 2] Epoch 2: Loss=32.4885, Dev Acc=0.9242, F1=0.9567\n"
          ]
        },
        {
          "output_type": "stream",
          "name": "stderr",
          "text": []
        },
        {
          "output_type": "stream",
          "name": "stdout",
          "text": [
            "[Run 2] Epoch 3: Loss=23.4643, Dev Acc=0.9283, F1=0.9590\n"
          ]
        },
        {
          "output_type": "stream",
          "name": "stderr",
          "text": []
        },
        {
          "output_type": "stream",
          "name": "stdout",
          "text": [
            "[Run 2] Epoch 4: Loss=18.6075, Dev Acc=0.9300, F1=0.9610\n"
          ]
        },
        {
          "output_type": "stream",
          "name": "stderr",
          "text": []
        },
        {
          "output_type": "stream",
          "name": "stdout",
          "text": [
            "[Run 2] Epoch 5: Loss=14.6209, Dev Acc=0.9367, F1=0.9640\n"
          ]
        },
        {
          "output_type": "stream",
          "name": "stderr",
          "text": []
        },
        {
          "output_type": "stream",
          "name": "stdout",
          "text": [
            "[Run 2] Epoch 6: Loss=12.5724, Dev Acc=0.9417, F1=0.9674\n"
          ]
        },
        {
          "output_type": "stream",
          "name": "stderr",
          "text": []
        },
        {
          "output_type": "stream",
          "name": "stdout",
          "text": [
            "[Run 2] Epoch 7: Loss=8.6928, Dev Acc=0.9375, F1=0.9639\n"
          ]
        },
        {
          "output_type": "stream",
          "name": "stderr",
          "text": []
        },
        {
          "output_type": "stream",
          "name": "stdout",
          "text": [
            "[Run 2] Epoch 8: Loss=7.4829, Dev Acc=0.9425, F1=0.9672\n"
          ]
        },
        {
          "output_type": "stream",
          "name": "stderr",
          "text": []
        },
        {
          "output_type": "stream",
          "name": "stdout",
          "text": [
            "[Run 2] Epoch 9: Loss=4.7116, Dev Acc=0.9475, F1=0.9700\n"
          ]
        },
        {
          "output_type": "stream",
          "name": "stderr",
          "text": []
        },
        {
          "output_type": "stream",
          "name": "stdout",
          "text": [
            "[Run 2] Epoch 10: Loss=3.6851, Dev Acc=0.9492, F1=0.9712\n",
            "\n",
            ">>> Lambda=0.7, Run=3\n"
          ]
        },
        {
          "output_type": "stream",
          "name": "stderr",
          "text": []
        },
        {
          "output_type": "stream",
          "name": "stdout",
          "text": [
            "[Run 3] Epoch 1: Loss=54.4927, Dev Acc=0.8925, F1=0.9417\n"
          ]
        },
        {
          "output_type": "stream",
          "name": "stderr",
          "text": []
        },
        {
          "output_type": "stream",
          "name": "stdout",
          "text": [
            "[Run 3] Epoch 2: Loss=37.2403, Dev Acc=0.9067, F1=0.9490\n"
          ]
        },
        {
          "output_type": "stream",
          "name": "stderr",
          "text": []
        },
        {
          "output_type": "stream",
          "name": "stdout",
          "text": [
            "[Run 3] Epoch 3: Loss=25.1319, Dev Acc=0.9400, F1=0.9662\n"
          ]
        },
        {
          "output_type": "stream",
          "name": "stderr",
          "text": []
        },
        {
          "output_type": "stream",
          "name": "stdout",
          "text": [
            "[Run 3] Epoch 4: Loss=19.8027, Dev Acc=0.9242, F1=0.9581\n"
          ]
        },
        {
          "output_type": "stream",
          "name": "stderr",
          "text": []
        },
        {
          "output_type": "stream",
          "name": "stdout",
          "text": [
            "[Run 3] Epoch 5: Loss=16.5043, Dev Acc=0.9442, F1=0.9684\n"
          ]
        },
        {
          "output_type": "stream",
          "name": "stderr",
          "text": []
        },
        {
          "output_type": "stream",
          "name": "stdout",
          "text": [
            "[Run 3] Epoch 6: Loss=15.1552, Dev Acc=0.9442, F1=0.9687\n"
          ]
        },
        {
          "output_type": "stream",
          "name": "stderr",
          "text": []
        },
        {
          "output_type": "stream",
          "name": "stdout",
          "text": [
            "[Run 3] Epoch 7: Loss=11.9941, Dev Acc=0.9417, F1=0.9674\n"
          ]
        },
        {
          "output_type": "stream",
          "name": "stderr",
          "text": []
        },
        {
          "output_type": "stream",
          "name": "stdout",
          "text": [
            "[Run 3] Epoch 8: Loss=7.7494, Dev Acc=0.9442, F1=0.9684\n"
          ]
        },
        {
          "output_type": "stream",
          "name": "stderr",
          "text": []
        },
        {
          "output_type": "stream",
          "name": "stdout",
          "text": [
            "[Run 3] Epoch 9: Loss=5.4899, Dev Acc=0.9450, F1=0.9692\n"
          ]
        },
        {
          "output_type": "stream",
          "name": "stderr",
          "text": []
        },
        {
          "output_type": "stream",
          "name": "stdout",
          "text": [
            "[Run 3] Epoch 10: Loss=4.5254, Dev Acc=0.9417, F1=0.9675\n",
            "\n",
            ">>> Lambda=0.75, Run=1\n"
          ]
        },
        {
          "output_type": "stream",
          "name": "stderr",
          "text": []
        },
        {
          "output_type": "stream",
          "name": "stdout",
          "text": [
            "[Run 1] Epoch 1: Loss=55.4659, Dev Acc=0.8800, F1=0.9352\n"
          ]
        },
        {
          "output_type": "stream",
          "name": "stderr",
          "text": []
        },
        {
          "output_type": "stream",
          "name": "stdout",
          "text": [
            "[Run 1] Epoch 2: Loss=36.9406, Dev Acc=0.8600, F1=0.9148\n"
          ]
        },
        {
          "output_type": "stream",
          "name": "stderr",
          "text": []
        },
        {
          "output_type": "stream",
          "name": "stdout",
          "text": [
            "[Run 1] Epoch 3: Loss=26.0596, Dev Acc=0.9342, F1=0.9628\n"
          ]
        },
        {
          "output_type": "stream",
          "name": "stderr",
          "text": []
        },
        {
          "output_type": "stream",
          "name": "stdout",
          "text": [
            "[Run 1] Epoch 4: Loss=20.2756, Dev Acc=0.9325, F1=0.9619\n"
          ]
        },
        {
          "output_type": "stream",
          "name": "stderr",
          "text": []
        },
        {
          "output_type": "stream",
          "name": "stdout",
          "text": [
            "[Run 1] Epoch 5: Loss=17.0429, Dev Acc=0.9358, F1=0.9639\n"
          ]
        },
        {
          "output_type": "stream",
          "name": "stderr",
          "text": []
        },
        {
          "output_type": "stream",
          "name": "stdout",
          "text": [
            "[Run 1] Epoch 6: Loss=14.1256, Dev Acc=0.9467, F1=0.9695\n"
          ]
        },
        {
          "output_type": "stream",
          "name": "stderr",
          "text": []
        },
        {
          "output_type": "stream",
          "name": "stdout",
          "text": [
            "[Run 1] Epoch 7: Loss=10.4679, Dev Acc=0.9450, F1=0.9686\n"
          ]
        },
        {
          "output_type": "stream",
          "name": "stderr",
          "text": []
        },
        {
          "output_type": "stream",
          "name": "stdout",
          "text": [
            "[Run 1] Epoch 8: Loss=8.0285, Dev Acc=0.9508, F1=0.9722\n"
          ]
        },
        {
          "output_type": "stream",
          "name": "stderr",
          "text": []
        },
        {
          "output_type": "stream",
          "name": "stdout",
          "text": [
            "[Run 1] Epoch 9: Loss=7.0342, Dev Acc=0.9242, F1=0.9554\n"
          ]
        },
        {
          "output_type": "stream",
          "name": "stderr",
          "text": []
        },
        {
          "output_type": "stream",
          "name": "stdout",
          "text": [
            "[Run 1] Epoch 10: Loss=5.0513, Dev Acc=0.9342, F1=0.9617\n",
            "\n",
            ">>> Lambda=0.75, Run=2\n"
          ]
        },
        {
          "output_type": "stream",
          "name": "stderr",
          "text": []
        },
        {
          "output_type": "stream",
          "name": "stdout",
          "text": [
            "[Run 2] Epoch 1: Loss=55.3114, Dev Acc=0.8675, F1=0.9270\n"
          ]
        },
        {
          "output_type": "stream",
          "name": "stderr",
          "text": []
        },
        {
          "output_type": "stream",
          "name": "stdout",
          "text": [
            "[Run 2] Epoch 2: Loss=32.1835, Dev Acc=0.9158, F1=0.9536\n"
          ]
        },
        {
          "output_type": "stream",
          "name": "stderr",
          "text": []
        },
        {
          "output_type": "stream",
          "name": "stdout",
          "text": [
            "[Run 2] Epoch 3: Loss=25.1115, Dev Acc=0.9233, F1=0.9574\n"
          ]
        },
        {
          "output_type": "stream",
          "name": "stderr",
          "text": []
        },
        {
          "output_type": "stream",
          "name": "stdout",
          "text": [
            "[Run 2] Epoch 4: Loss=20.6913, Dev Acc=0.9158, F1=0.9536\n"
          ]
        },
        {
          "output_type": "stream",
          "name": "stderr",
          "text": []
        },
        {
          "output_type": "stream",
          "name": "stdout",
          "text": [
            "[Run 2] Epoch 5: Loss=18.8341, Dev Acc=0.9317, F1=0.9619\n"
          ]
        },
        {
          "output_type": "stream",
          "name": "stderr",
          "text": []
        },
        {
          "output_type": "stream",
          "name": "stdout",
          "text": [
            "[Run 2] Epoch 6: Loss=15.7817, Dev Acc=0.9467, F1=0.9698\n"
          ]
        },
        {
          "output_type": "stream",
          "name": "stderr",
          "text": []
        },
        {
          "output_type": "stream",
          "name": "stdout",
          "text": [
            "[Run 2] Epoch 7: Loss=11.8862, Dev Acc=0.9333, F1=0.9631\n"
          ]
        },
        {
          "output_type": "stream",
          "name": "stderr",
          "text": []
        },
        {
          "output_type": "stream",
          "name": "stdout",
          "text": [
            "[Run 2] Epoch 8: Loss=9.1675, Dev Acc=0.9367, F1=0.9649\n"
          ]
        },
        {
          "output_type": "stream",
          "name": "stderr",
          "text": []
        },
        {
          "output_type": "stream",
          "name": "stdout",
          "text": [
            "[Run 2] Epoch 9: Loss=5.9503, Dev Acc=0.9533, F1=0.9737\n"
          ]
        },
        {
          "output_type": "stream",
          "name": "stderr",
          "text": []
        },
        {
          "output_type": "stream",
          "name": "stdout",
          "text": [
            "[Run 2] Epoch 10: Loss=5.2080, Dev Acc=0.9442, F1=0.9687\n",
            "\n",
            ">>> Lambda=0.75, Run=3\n"
          ]
        },
        {
          "output_type": "stream",
          "name": "stderr",
          "text": []
        },
        {
          "output_type": "stream",
          "name": "stdout",
          "text": [
            "[Run 3] Epoch 1: Loss=57.5499, Dev Acc=0.8750, F1=0.9333\n"
          ]
        },
        {
          "output_type": "stream",
          "name": "stderr",
          "text": []
        },
        {
          "output_type": "stream",
          "name": "stdout",
          "text": [
            "[Run 3] Epoch 2: Loss=45.7827, Dev Acc=0.8958, F1=0.9435\n"
          ]
        },
        {
          "output_type": "stream",
          "name": "stderr",
          "text": []
        },
        {
          "output_type": "stream",
          "name": "stdout",
          "text": [
            "[Run 3] Epoch 3: Loss=34.6040, Dev Acc=0.9133, F1=0.9522\n"
          ]
        },
        {
          "output_type": "stream",
          "name": "stderr",
          "text": []
        },
        {
          "output_type": "stream",
          "name": "stdout",
          "text": [
            "[Run 3] Epoch 4: Loss=23.9183, Dev Acc=0.9142, F1=0.9530\n"
          ]
        },
        {
          "output_type": "stream",
          "name": "stderr",
          "text": []
        },
        {
          "output_type": "stream",
          "name": "stdout",
          "text": [
            "[Run 3] Epoch 5: Loss=18.6688, Dev Acc=0.9300, F1=0.9611\n"
          ]
        },
        {
          "output_type": "stream",
          "name": "stderr",
          "text": []
        },
        {
          "output_type": "stream",
          "name": "stdout",
          "text": [
            "[Run 3] Epoch 6: Loss=14.2660, Dev Acc=0.9233, F1=0.9578\n"
          ]
        },
        {
          "output_type": "stream",
          "name": "stderr",
          "text": []
        },
        {
          "output_type": "stream",
          "name": "stdout",
          "text": [
            "[Run 3] Epoch 7: Loss=11.7153, Dev Acc=0.9292, F1=0.9609\n"
          ]
        },
        {
          "output_type": "stream",
          "name": "stderr",
          "text": []
        },
        {
          "output_type": "stream",
          "name": "stdout",
          "text": [
            "[Run 3] Epoch 8: Loss=9.2280, Dev Acc=0.9183, F1=0.9553\n",
            "Early stopping triggered at epoch 8\n",
            "\n",
            ">>> Lambda=0.8, Run=1\n"
          ]
        },
        {
          "output_type": "stream",
          "name": "stderr",
          "text": []
        },
        {
          "output_type": "stream",
          "name": "stdout",
          "text": [
            "[Run 1] Epoch 1: Loss=57.1631, Dev Acc=0.8750, F1=0.9333\n"
          ]
        },
        {
          "output_type": "stream",
          "name": "stderr",
          "text": []
        },
        {
          "output_type": "stream",
          "name": "stdout",
          "text": [
            "[Run 1] Epoch 2: Loss=43.3274, Dev Acc=0.9108, F1=0.9512\n"
          ]
        },
        {
          "output_type": "stream",
          "name": "stderr",
          "text": []
        },
        {
          "output_type": "stream",
          "name": "stdout",
          "text": [
            "[Run 1] Epoch 3: Loss=26.5761, Dev Acc=0.9117, F1=0.9518\n"
          ]
        },
        {
          "output_type": "stream",
          "name": "stderr",
          "text": []
        },
        {
          "output_type": "stream",
          "name": "stdout",
          "text": [
            "[Run 1] Epoch 4: Loss=20.0574, Dev Acc=0.9067, F1=0.9493\n"
          ]
        },
        {
          "output_type": "stream",
          "name": "stderr",
          "text": []
        },
        {
          "output_type": "stream",
          "name": "stdout",
          "text": [
            "[Run 1] Epoch 5: Loss=15.4491, Dev Acc=0.9225, F1=0.9575\n"
          ]
        },
        {
          "output_type": "stream",
          "name": "stderr",
          "text": []
        },
        {
          "output_type": "stream",
          "name": "stdout",
          "text": [
            "[Run 1] Epoch 6: Loss=11.3482, Dev Acc=0.9200, F1=0.9562\n"
          ]
        },
        {
          "output_type": "stream",
          "name": "stderr",
          "text": []
        },
        {
          "output_type": "stream",
          "name": "stdout",
          "text": [
            "[Run 1] Epoch 7: Loss=9.6186, Dev Acc=0.9217, F1=0.9571\n"
          ]
        },
        {
          "output_type": "stream",
          "name": "stderr",
          "text": []
        },
        {
          "output_type": "stream",
          "name": "stdout",
          "text": [
            "[Run 1] Epoch 8: Loss=6.4376, Dev Acc=0.9450, F1=0.9694\n"
          ]
        },
        {
          "output_type": "stream",
          "name": "stderr",
          "text": []
        },
        {
          "output_type": "stream",
          "name": "stdout",
          "text": [
            "[Run 1] Epoch 9: Loss=3.7385, Dev Acc=0.9408, F1=0.9672\n"
          ]
        },
        {
          "output_type": "stream",
          "name": "stderr",
          "text": []
        },
        {
          "output_type": "stream",
          "name": "stdout",
          "text": [
            "[Run 1] Epoch 10: Loss=3.3220, Dev Acc=0.9375, F1=0.9654\n",
            "\n",
            ">>> Lambda=0.8, Run=2\n"
          ]
        },
        {
          "output_type": "stream",
          "name": "stderr",
          "text": []
        },
        {
          "output_type": "stream",
          "name": "stdout",
          "text": [
            "[Run 2] Epoch 1: Loss=56.7727, Dev Acc=0.8750, F1=0.9333\n"
          ]
        },
        {
          "output_type": "stream",
          "name": "stderr",
          "text": []
        },
        {
          "output_type": "stream",
          "name": "stdout",
          "text": [
            "[Run 2] Epoch 2: Loss=38.6336, Dev Acc=0.9133, F1=0.9495\n"
          ]
        },
        {
          "output_type": "stream",
          "name": "stderr",
          "text": []
        },
        {
          "output_type": "stream",
          "name": "stdout",
          "text": [
            "[Run 2] Epoch 3: Loss=24.3370, Dev Acc=0.9208, F1=0.9566\n"
          ]
        },
        {
          "output_type": "stream",
          "name": "stderr",
          "text": []
        },
        {
          "output_type": "stream",
          "name": "stdout",
          "text": [
            "[Run 2] Epoch 4: Loss=19.4686, Dev Acc=0.9350, F1=0.9637\n"
          ]
        },
        {
          "output_type": "stream",
          "name": "stderr",
          "text": []
        },
        {
          "output_type": "stream",
          "name": "stdout",
          "text": [
            "[Run 2] Epoch 5: Loss=14.3811, Dev Acc=0.9292, F1=0.9608\n"
          ]
        },
        {
          "output_type": "stream",
          "name": "stderr",
          "text": []
        },
        {
          "output_type": "stream",
          "name": "stdout",
          "text": [
            "[Run 2] Epoch 6: Loss=12.4333, Dev Acc=0.9333, F1=0.9629\n"
          ]
        },
        {
          "output_type": "stream",
          "name": "stderr",
          "text": []
        },
        {
          "output_type": "stream",
          "name": "stdout",
          "text": [
            "[Run 2] Epoch 7: Loss=9.4732, Dev Acc=0.9392, F1=0.9660\n"
          ]
        },
        {
          "output_type": "stream",
          "name": "stderr",
          "text": []
        },
        {
          "output_type": "stream",
          "name": "stdout",
          "text": [
            "[Run 2] Epoch 8: Loss=6.6716, Dev Acc=0.9442, F1=0.9686\n"
          ]
        },
        {
          "output_type": "stream",
          "name": "stderr",
          "text": []
        },
        {
          "output_type": "stream",
          "name": "stdout",
          "text": [
            "[Run 2] Epoch 9: Loss=5.3718, Dev Acc=0.9475, F1=0.9701\n"
          ]
        },
        {
          "output_type": "stream",
          "name": "stderr",
          "text": []
        },
        {
          "output_type": "stream",
          "name": "stdout",
          "text": [
            "[Run 2] Epoch 10: Loss=4.3095, Dev Acc=0.9425, F1=0.9678\n",
            "\n",
            ">>> Lambda=0.8, Run=3\n"
          ]
        },
        {
          "output_type": "stream",
          "name": "stderr",
          "text": []
        },
        {
          "output_type": "stream",
          "name": "stdout",
          "text": [
            "[Run 3] Epoch 1: Loss=57.3208, Dev Acc=0.8750, F1=0.9333\n"
          ]
        },
        {
          "output_type": "stream",
          "name": "stderr",
          "text": []
        },
        {
          "output_type": "stream",
          "name": "stdout",
          "text": [
            "[Run 3] Epoch 2: Loss=42.5880, Dev Acc=0.9092, F1=0.9499\n"
          ]
        },
        {
          "output_type": "stream",
          "name": "stderr",
          "text": []
        },
        {
          "output_type": "stream",
          "name": "stdout",
          "text": [
            "[Run 3] Epoch 3: Loss=25.3072, Dev Acc=0.9075, F1=0.9495\n"
          ]
        },
        {
          "output_type": "stream",
          "name": "stderr",
          "text": []
        },
        {
          "output_type": "stream",
          "name": "stdout",
          "text": [
            "[Run 3] Epoch 4: Loss=19.1131, Dev Acc=0.9267, F1=0.9595\n"
          ]
        },
        {
          "output_type": "stream",
          "name": "stderr",
          "text": []
        },
        {
          "output_type": "stream",
          "name": "stdout",
          "text": [
            "[Run 3] Epoch 5: Loss=15.6396, Dev Acc=0.9183, F1=0.9551\n"
          ]
        },
        {
          "output_type": "stream",
          "name": "stderr",
          "text": []
        },
        {
          "output_type": "stream",
          "name": "stdout",
          "text": [
            "[Run 3] Epoch 6: Loss=12.7880, Dev Acc=0.9367, F1=0.9648\n"
          ]
        },
        {
          "output_type": "stream",
          "name": "stderr",
          "text": []
        },
        {
          "output_type": "stream",
          "name": "stdout",
          "text": [
            "[Run 3] Epoch 7: Loss=10.6893, Dev Acc=0.9425, F1=0.9680\n"
          ]
        },
        {
          "output_type": "stream",
          "name": "stderr",
          "text": []
        },
        {
          "output_type": "stream",
          "name": "stdout",
          "text": [
            "[Run 3] Epoch 8: Loss=8.8918, Dev Acc=0.9450, F1=0.9695\n"
          ]
        },
        {
          "output_type": "stream",
          "name": "stderr",
          "text": []
        },
        {
          "output_type": "stream",
          "name": "stdout",
          "text": [
            "[Run 3] Epoch 9: Loss=7.0148, Dev Acc=0.9408, F1=0.9672\n"
          ]
        },
        {
          "output_type": "stream",
          "name": "stderr",
          "text": []
        },
        {
          "output_type": "stream",
          "name": "stdout",
          "text": [
            "[Run 3] Epoch 10: Loss=5.3531, Dev Acc=0.9400, F1=0.9668\n",
            "\n",
            ">>> Summary saved to logs/experiment_summary.csv\n"
          ]
        }
      ],
      "source": [
        "train_dataset = DomainAwareDataset(df_train)\n",
        "dev_dataset = DomainAwareDataset(df_dev)\n",
        "test_dataset = DomainAwareDataset(df_test, include_label=False, include_domain=False)\n",
        "\n",
        "summary = run_experiments(domain_weights=[0.0, 0.05, 0.1, 0.15, 0.2, 0.25, 0.3, 0.35, 0.4, 0.45, 0.5, 0.55, 0.60, 0.65, 0.70, 0.75, 0.80], num_runs=3)"
      ]
    },
    {
      "cell_type": "code",
      "execution_count": 18,
      "id": "183b94c8-6e94-4979-830b-57552c51a6cf",
      "metadata": {
        "colab": {
          "base_uri": "https://localhost:8080/",
          "height": 541
        },
        "id": "183b94c8-6e94-4979-830b-57552c51a6cf",
        "outputId": "e61da186-440b-44bc-fc33-7ed323aabdd3"
      },
      "outputs": [
        {
          "output_type": "stream",
          "name": "stdout",
          "text": [
            "Best lambda based on dev F1: 0.6\n",
            "  → Mean F1: 0.9721, Mean Acc: 0.9506\n"
          ]
        },
        {
          "output_type": "display_data",
          "data": {
            "text/plain": [
              "<Figure size 800x500 with 1 Axes>"
            ],
            "image/png": "[encoded data removed]"
          },
          "metadata": {}
        },
        {
          "output_type": "stream",
          "name": "stdout",
          "text": [
            "→ Re-train model with best lambda = 0.6 and run final prediction on test set\n"
          ]
        }
      ],
      "source": [
        "df_result = pd.read_csv(\"logs/experiment_summary.csv\")\n",
        "\n",
        "best_row = df_result.sort_values(\"mean_f1\", ascending=False).iloc[0]\n",
        "\n",
        "# get the printing information\n",
        "best_lambda = best_row[\"lambda\"]\n",
        "best_f1 = best_row[\"mean_f1\"]\n",
        "best_acc = best_row[\"mean_acc\"]\n",
        "\n",
        "print(f\"Best lambda based on dev F1: {best_lambda}\")\n",
        "print(f\"  → Mean F1: {best_f1:.4f}, Mean Acc: {best_acc:.4f}\")\n",
        "\n",
        "import matplotlib.pyplot as plt\n",
        "\n",
        "plt.figure(figsize=(8, 5))\n",
        "plt.plot(df_result[\"lambda\"], df_result[\"mean_f1\"], marker='o', label=\"F1-score\")\n",
        "plt.plot(df_result[\"lambda\"], df_result[\"mean_acc\"], marker='s', label=\"Accuracy\", alpha=0.6)\n",
        "plt.xlabel(\"Lambda (domain loss weight)\")\n",
        "plt.ylabel(\"Score\")\n",
        "plt.title(\"Dev F1 and Accuracy vs. Lambda\")\n",
        "plt.grid(True)\n",
        "plt.legend()\n",
        "plt.show()\n",
        "\n",
        "print(f\"→ Re-train model with best lambda = {best_lambda} and run final prediction on test set\")"
      ]
    },
    {
      "cell_type": "code",
      "execution_count": null,
      "id": "46296880-0164-4218-a204-a9936a7040b7",
      "metadata": {
        "id": "46296880-0164-4218-a204-a9936a7040b7"
      },
      "outputs": [],
      "source": []
    },
    {
      "cell_type": "code",
      "execution_count": 30,
      "id": "b7c46ba9-4518-4e05-a1bc-b881845f77d7",
      "metadata": {
        "colab": {
          "base_uri": "https://localhost:8080/"
        },
        "id": "b7c46ba9-4518-4e05-a1bc-b881845f77d7",
        "outputId": "896f87dd-40d6-4d06-9dfa-2ac30b8da1ae"
      },
      "outputs": [
        {
          "output_type": "stream",
          "name": "stderr",
          "text": []
        },
        {
          "output_type": "stream",
          "name": "stdout",
          "text": [
            "[Run 999] Epoch 1: Loss=56.1929, Dev Acc=0.8750, F1=0.9333\n"
          ]
        },
        {
          "output_type": "stream",
          "name": "stderr",
          "text": []
        },
        {
          "output_type": "stream",
          "name": "stdout",
          "text": [
            "[Run 999] Epoch 2: Loss=35.8876, Dev Acc=0.9225, F1=0.9572\n"
          ]
        },
        {
          "output_type": "stream",
          "name": "stderr",
          "text": []
        },
        {
          "output_type": "stream",
          "name": "stdout",
          "text": [
            "[Run 999] Epoch 3: Loss=23.5926, Dev Acc=0.9400, F1=0.9656\n"
          ]
        },
        {
          "output_type": "stream",
          "name": "stderr",
          "text": []
        },
        {
          "output_type": "stream",
          "name": "stdout",
          "text": [
            "[Run 999] Epoch 4: Loss=19.3231, Dev Acc=0.9192, F1=0.9556\n"
          ]
        },
        {
          "output_type": "stream",
          "name": "stderr",
          "text": []
        },
        {
          "output_type": "stream",
          "name": "stdout",
          "text": [
            "[Run 999] Epoch 5: Loss=16.2747, Dev Acc=0.9400, F1=0.9664\n"
          ]
        },
        {
          "output_type": "stream",
          "name": "stderr",
          "text": []
        },
        {
          "output_type": "stream",
          "name": "stdout",
          "text": [
            "[Run 999] Epoch 6: Loss=10.9930, Dev Acc=0.9250, F1=0.9588\n"
          ]
        },
        {
          "output_type": "stream",
          "name": "stderr",
          "text": []
        },
        {
          "output_type": "stream",
          "name": "stdout",
          "text": [
            "[Run 999] Epoch 7: Loss=9.4893, Dev Acc=0.9483, F1=0.9707\n"
          ]
        },
        {
          "output_type": "stream",
          "name": "stderr",
          "text": []
        },
        {
          "output_type": "stream",
          "name": "stdout",
          "text": [
            "[Run 999] Epoch 8: Loss=7.1130, Dev Acc=0.9500, F1=0.9719\n"
          ]
        },
        {
          "output_type": "stream",
          "name": "stderr",
          "text": []
        },
        {
          "output_type": "stream",
          "name": "stdout",
          "text": [
            "[Run 999] Epoch 9: Loss=5.3923, Dev Acc=0.9467, F1=0.9701\n"
          ]
        },
        {
          "output_type": "stream",
          "name": "stderr",
          "text": []
        },
        {
          "output_type": "stream",
          "name": "stdout",
          "text": [
            "[Run 999] Epoch 10: Loss=3.6173, Dev Acc=0.9525, F1=0.9729\n"
          ]
        }
      ],
      "source": [
        "\n",
        "# retrain final model using best_lambda\n",
        "model = DomainAwareTransformer()\n",
        "final_model, _ = train_and_log(\n",
        "    model,\n",
        "    train_dataset,\n",
        "    dev_dataset=dev_dataset,\n",
        "    domain_loss_weight=best_lambda,\n",
        "    run_id=999,\n",
        "    patience=3,\n",
        "    verbose=True\n",
        ")\n",
        "\n",
        "# predict final model\n",
        "test_preds = predict(final_model, test_dataset)"
      ]
    },
    {
      "cell_type": "code",
      "source": [
        "# Save result to csv\n",
        "df_test[\"prediction\"] = test_preds"
      ],
      "metadata": {
        "id": "rwDhnfkGFaq9"
      },
      "id": "rwDhnfkGFaq9",
      "execution_count": 31,
      "outputs": []
    },
    {
      "cell_type": "code",
      "source": [
        "df_test.head()"
      ],
      "metadata": {
        "colab": {
          "base_uri": "https://localhost:8080/",
          "height": 206
        },
        "id": "LWJ7JjY1Iw3N",
        "outputId": "b3480935-b8ae-4467-94eb-2f800f4cba5e"
      },
      "id": "LWJ7JjY1Iw3N",
      "execution_count": 32,
      "outputs": [
        {
          "output_type": "execute_result",
          "data": {
            "text/plain": [
              "                                                text  id  prediction\n",
              "0  [9159, 3048, 238, 276, 162, 286, 305, 22, 36, ...   0           0\n",
              "1  [64, 5039, 1275, 6, 0, 871, 139, 270, 327, 237...   1           0\n",
              "2  [327, 618, 76, 650, 121, 274, 1025, 0, 12207, ...   2           0\n",
              "3  [6, 12, 609, 11905, 4, 879, 677, 78, 13352, 60...   3           1\n",
              "4  [1, 5504, 55, 22, 101, 3783, 139, 2664, 4, 1, ...   4           1"
            ],
            "text/html": [
              "\n",
              "  <div id=\"df-da7434ca-2ddd-4b0a-bc00-7b6d6689780e\" class=\"colab-df-container\">\n",
              "    <div>\n",
              "<style scoped>\n",
              "    .dataframe tbody tr th:only-of-type {\n",
              "        vertical-align: middle;\n",
              "    }\n",
              "\n",
              "    .dataframe tbody tr th {\n",
              "        vertical-align: top;\n",
              "    }\n",
              "\n",
              "    .dataframe thead th {\n",
              "        text-align: right;\n",
              "    }\n",
              "</style>\n",
              "<table border=\"1\" class=\"dataframe\">\n",
              "  <thead>\n",
              "    <tr style=\"text-align: right;\">\n",
              "      <th></th>\n",
              "      <th>text</th>\n",
              "      <th>id</th>\n",
              "      <th>prediction</th>\n",
              "    </tr>\n",
              "  </thead>\n",
              "  <tbody>\n",
              "    <tr>\n",
              "      <th>0</th>\n",
              "      <td>[9159, 3048, 238, 276, 162, 286, 305, 22, 36, ...</td>\n",
              "      <td>0</td>\n",
              "      <td>0</td>\n",
              "    </tr>\n",
              "    <tr>\n",
              "      <th>1</th>\n",
              "      <td>[64, 5039, 1275, 6, 0, 871, 139, 270, 327, 237...</td>\n",
              "      <td>1</td>\n",
              "      <td>0</td>\n",
              "    </tr>\n",
              "    <tr>\n",
              "      <th>2</th>\n",
              "      <td>[327, 618, 76, 650, 121, 274, 1025, 0, 12207, ...</td>\n",
              "      <td>2</td>\n",
              "      <td>0</td>\n",
              "    </tr>\n",
              "    <tr>\n",
              "      <th>3</th>\n",
              "      <td>[6, 12, 609, 11905, 4, 879, 677, 78, 13352, 60...</td>\n",
              "      <td>3</td>\n",
              "      <td>1</td>\n",
              "    </tr>\n",
              "    <tr>\n",
              "      <th>4</th>\n",
              "      <td>[1, 5504, 55, 22, 101, 3783, 139, 2664, 4, 1, ...</td>\n",
              "      <td>4</td>\n",
              "      <td>1</td>\n",
              "    </tr>\n",
              "  </tbody>\n",
              "</table>\n",
              "</div>\n",
              "    <div class=\"colab-df-buttons\">\n",
              "\n",
              "  <div class=\"colab-df-container\">\n",
              "    <button class=\"colab-df-convert\" onclick=\"convertToInteractive('df-da7434ca-2ddd-4b0a-bc00-7b6d6689780e')\"\n",
              "            title=\"Convert this dataframe to an interactive table.\"\n",
              "            style=\"display:none;\">\n",
              "\n",
              "  <svg xmlns=\"http://www.w3.org/2000/svg\" height=\"24px\" viewBox=\"0 -960 960 960\">\n",
              "    <path d=\"M120-120v-720h720v720H120Zm60-500h600v-160H180v160Zm220 220h160v-160H400v160Zm0 220h160v-160H400v160ZM180-400h160v-160H180v160Zm440 0h160v-160H620v160ZM180-180h160v-160H180v160Zm440 0h160v-160H620v160Z\"/>\n",
              "  </svg>\n",
              "    </button>\n",
              "\n",
              "  <style>\n",
              "    .colab-df-container {\n",
              "      display:flex;\n",
              "      gap: 12px;\n",
              "    }\n",
              "\n",
              "    .colab-df-convert {\n",
              "      background-color: #E8F0FE;\n",
              "      border: none;\n",
              "      border-radius: 50%;\n",
              "      cursor: pointer;\n",
              "      display: none;\n",
              "      fill: #1967D2;\n",
              "      height: 32px;\n",
              "      padding: 0 0 0 0;\n",
              "      width: 32px;\n",
              "    }\n",
              "\n",
              "    .colab-df-convert:hover {\n",
              "      background-color: #E2EBFA;\n",
              "      box-shadow: 0px 1px 2px rgba(60, 64, 67, 0.3), 0px 1px 3px 1px rgba(60, 64, 67, 0.15);\n",
              "      fill: #174EA6;\n",
              "    }\n",
              "\n",
              "    .colab-df-buttons div {\n",
              "      margin-bottom: 4px;\n",
              "    }\n",
              "\n",
              "    [theme=dark] .colab-df-convert {\n",
              "      background-color: #3B4455;\n",
              "      fill: #D2E3FC;\n",
              "    }\n",
              "\n",
              "    [theme=dark] .colab-df-convert:hover {\n",
              "      background-color: #434B5C;\n",
              "      box-shadow: 0px 1px 3px 1px rgba(0, 0, 0, 0.15);\n",
              "      filter: drop-shadow(0px 1px 2px rgba(0, 0, 0, 0.3));\n",
              "      fill: #FFFFFF;\n",
              "    }\n",
              "  </style>\n",
              "\n",
              "    <script>\n",
              "      const buttonEl =\n",
              "        document.querySelector('#df-da7434ca-2ddd-4b0a-bc00-7b6d6689780e button.colab-df-convert');\n",
              "      buttonEl.style.display =\n",
              "        google.colab.kernel.accessAllowed ? 'block' : 'none';\n",
              "\n",
              "      async function convertToInteractive(key) {\n",
              "        const element = document.querySelector('#df-da7434ca-2ddd-4b0a-bc00-7b6d6689780e');\n",
              "        const dataTable =\n",
              "          await google.colab.kernel.invokeFunction('convertToInteractive',\n",
              "                                                    [key], {});\n",
              "        if (!dataTable) return;\n",
              "\n",
              "        const docLinkHtml = 'Like what you see? Visit the ' +\n",
              "          '<a target=\"_blank\" href=https://colab.research.google.com/notebooks/data_table.ipynb>data table notebook</a>'\n",
              "          + ' to learn more about interactive tables.';\n",
              "        element.innerHTML = '';\n",
              "        dataTable['output_type'] = 'display_data';\n",
              "        await google.colab.output.renderOutput(dataTable, element);\n",
              "        const docLink = document.createElement('div');\n",
              "        docLink.innerHTML = docLinkHtml;\n",
              "        element.appendChild(docLink);\n",
              "      }\n",
              "    </script>\n",
              "  </div>\n",
              "\n",
              "\n",
              "    <div id=\"df-60ac8655-432d-4c48-aeaf-b02b2190b89d\">\n",
              "      <button class=\"colab-df-quickchart\" onclick=\"quickchart('df-60ac8655-432d-4c48-aeaf-b02b2190b89d')\"\n",
              "                title=\"Suggest charts\"\n",
              "                style=\"display:none;\">\n",
              "\n",
              "<svg xmlns=\"http://www.w3.org/2000/svg\" height=\"24px\"viewBox=\"0 0 24 24\"\n",
              "     width=\"24px\">\n",
              "    <g>\n",
              "        <path d=\"M19 3H5c-1.1 0-2 .9-2 2v14c0 1.1.9 2 2 2h14c1.1 0 2-.9 2-2V5c0-1.1-.9-2-2-2zM9 17H7v-7h2v7zm4 0h-2V7h2v10zm4 0h-2v-4h2v4z\"/>\n",
              "    </g>\n",
              "</svg>\n",
              "      </button>\n",
              "\n",
              "<style>\n",
              "  .colab-df-quickchart {\n",
              "      --bg-color: #E8F0FE;\n",
              "      --fill-color: #1967D2;\n",
              "      --hover-bg-color: #E2EBFA;\n",
              "      --hover-fill-color: #174EA6;\n",
              "      --disabled-fill-color: #AAA;\n",
              "      --disabled-bg-color: #DDD;\n",
              "  }\n",
              "\n",
              "  [theme=dark] .colab-df-quickchart {\n",
              "      --bg-color: #3B4455;\n",
              "      --fill-color: #D2E3FC;\n",
              "      --hover-bg-color: #434B5C;\n",
              "      --hover-fill-color: #FFFFFF;\n",
              "      --disabled-bg-color: #3B4455;\n",
              "      --disabled-fill-color: #666;\n",
              "  }\n",
              "\n",
              "  .colab-df-quickchart {\n",
              "    background-color: var(--bg-color);\n",
              "    border: none;\n",
              "    border-radius: 50%;\n",
              "    cursor: pointer;\n",
              "    display: none;\n",
              "    fill: var(--fill-color);\n",
              "    height: 32px;\n",
              "    padding: 0;\n",
              "    width: 32px;\n",
              "  }\n",
              "\n",
              "  .colab-df-quickchart:hover {\n",
              "    background-color: var(--hover-bg-color);\n",
              "    box-shadow: 0 1px 2px rgba(60, 64, 67, 0.3), 0 1px 3px 1px rgba(60, 64, 67, 0.15);\n",
              "    fill: var(--button-hover-fill-color);\n",
              "  }\n",
              "\n",
              "  .colab-df-quickchart-complete:disabled,\n",
              "  .colab-df-quickchart-complete:disabled:hover {\n",
              "    background-color: var(--disabled-bg-color);\n",
              "    fill: var(--disabled-fill-color);\n",
              "    box-shadow: none;\n",
              "  }\n",
              "\n",
              "  .colab-df-spinner {\n",
              "    border: 2px solid var(--fill-color);\n",
              "    border-color: transparent;\n",
              "    border-bottom-color: var(--fill-color);\n",
              "    animation:\n",
              "      spin 1s steps(1) infinite;\n",
              "  }\n",
              "\n",
              "  @keyframes spin {\n",
              "    0% {\n",
              "      border-color: transparent;\n",
              "      border-bottom-color: var(--fill-color);\n",
              "      border-left-color: var(--fill-color);\n",
              "    }\n",
              "    20% {\n",
              "      border-color: transparent;\n",
              "      border-left-color: var(--fill-color);\n",
              "      border-top-color: var(--fill-color);\n",
              "    }\n",
              "    30% {\n",
              "      border-color: transparent;\n",
              "      border-left-color: var(--fill-color);\n",
              "      border-top-color: var(--fill-color);\n",
              "      border-right-color: var(--fill-color);\n",
              "    }\n",
              "    40% {\n",
              "      border-color: transparent;\n",
              "      border-right-color: var(--fill-color);\n",
              "      border-top-color: var(--fill-color);\n",
              "    }\n",
              "    60% {\n",
              "      border-color: transparent;\n",
              "      border-right-color: var(--fill-color);\n",
              "    }\n",
              "    80% {\n",
              "      border-color: transparent;\n",
              "      border-right-color: var(--fill-color);\n",
              "      border-bottom-color: var(--fill-color);\n",
              "    }\n",
              "    90% {\n",
              "      border-color: transparent;\n",
              "      border-bottom-color: var(--fill-color);\n",
              "    }\n",
              "  }\n",
              "</style>\n",
              "\n",
              "      <script>\n",
              "        async function quickchart(key) {\n",
              "          const quickchartButtonEl =\n",
              "            document.querySelector('#' + key + ' button');\n",
              "          quickchartButtonEl.disabled = true;  // To prevent multiple clicks.\n",
              "          quickchartButtonEl.classList.add('colab-df-spinner');\n",
              "          try {\n",
              "            const charts = await google.colab.kernel.invokeFunction(\n",
              "                'suggestCharts', [key], {});\n",
              "          } catch (error) {\n",
              "            console.error('Error during call to suggestCharts:', error);\n",
              "          }\n",
              "          quickchartButtonEl.classList.remove('colab-df-spinner');\n",
              "          quickchartButtonEl.classList.add('colab-df-quickchart-complete');\n",
              "        }\n",
              "        (() => {\n",
              "          let quickchartButtonEl =\n",
              "            document.querySelector('#df-60ac8655-432d-4c48-aeaf-b02b2190b89d button');\n",
              "          quickchartButtonEl.style.display =\n",
              "            google.colab.kernel.accessAllowed ? 'block' : 'none';\n",
              "        })();\n",
              "      </script>\n",
              "    </div>\n",
              "\n",
              "    </div>\n",
              "  </div>\n"
            ],
            "application/vnd.google.colaboratory.intrinsic+json": {
              "type": "dataframe",
              "variable_name": "df_test",
              "summary": "{\n  \"name\": \"df_test\",\n  \"rows\": 4000,\n  \"fields\": [\n    {\n      \"column\": \"text\",\n      \"properties\": {\n        \"dtype\": \"object\",\n        \"semantic_type\": \"\",\n        \"description\": \"\"\n      }\n    },\n    {\n      \"column\": \"id\",\n      \"properties\": {\n        \"dtype\": \"number\",\n        \"std\": 1154,\n        \"min\": 0,\n        \"max\": 3999,\n        \"num_unique_values\": 4000,\n        \"samples\": [\n          555,\n          3491,\n          527\n        ],\n        \"semantic_type\": \"\",\n        \"description\": \"\"\n      }\n    },\n    {\n      \"column\": \"prediction\",\n      \"properties\": {\n        \"dtype\": \"number\",\n        \"std\": 0,\n        \"min\": 0,\n        \"max\": 1,\n        \"num_unique_values\": 2,\n        \"samples\": [\n          1,\n          0\n        ],\n        \"semantic_type\": \"\",\n        \"description\": \"\"\n      }\n    }\n  ]\n}"
            }
          },
          "metadata": {},
          "execution_count": 32
        }
      ]
    },
    {
      "cell_type": "code",
      "source": [
        "# id, label -> output\n",
        "df_test_final = df_test[[\"id\", \"prediction\"]]\n",
        "df_test_final.rename(columns={\"prediction\": \"label\"}, inplace=True)\n",
        "\n",
        "df_test_final.to_csv(\"Test_Transformer_Domain_Aware.csv\", index=False)\n",
        "print(\"Test prediction saved to test_predictions_final.csv\")"
      ],
      "metadata": {
        "colab": {
          "base_uri": "https://localhost:8080/"
        },
        "id": "GzOzpUvsIqM-",
        "outputId": "7717ee68-7912-47ea-a686-da6d65818a49"
      },
      "id": "GzOzpUvsIqM-",
      "execution_count": 35,
      "outputs": [
        {
          "output_type": "stream",
          "name": "stdout",
          "text": [
            "Test prediction saved to test_predictions_final.csv\n"
          ]
        },
        {
          "output_type": "stream",
          "name": "stderr",
          "text": [
            "<ipython-input-35-8f7443fc119d>:3: SettingWithCopyWarning: \n",
            "A value is trying to be set on a copy of a slice from a DataFrame\n",
            "\n",
            "See the caveats in the documentation: https://pandas.pydata.org/pandas-docs/stable/user_guide/indexing.html#returning-a-view-versus-a-copy\n",
            "  df_test_final.rename(columns={\"prediction\": \"label\"}, inplace=True)\n"
          ]
        }
      ]
    },
    {
      "cell_type": "code",
      "execution_count": 36,
      "id": "76ec4f41-9f6f-4a25-97e8-72aeeead565d",
      "metadata": {
        "colab": {
          "base_uri": "https://localhost:8080/",
          "height": 17
        },
        "id": "76ec4f41-9f6f-4a25-97e8-72aeeead565d",
        "outputId": "8c029fa7-1dbc-4be7-f08e-543634bd7d11"
      },
      "outputs": [
        {
          "output_type": "display_data",
          "data": {
            "text/plain": [
              "<IPython.core.display.Javascript object>"
            ],
            "application/javascript": [
              "\n",
              "    async function download(id, filename, size) {\n",
              "      if (!google.colab.kernel.accessAllowed) {\n",
              "        return;\n",
              "      }\n",
              "      const div = document.createElement('div');\n",
              "      const label = document.createElement('label');\n",
              "      label.textContent = `Downloading \"${filename}\": `;\n",
              "      div.appendChild(label);\n",
              "      const progress = document.createElement('progress');\n",
              "      progress.max = size;\n",
              "      div.appendChild(progress);\n",
              "      document.body.appendChild(div);\n",
              "\n",
              "      const buffers = [];\n",
              "      let downloaded = 0;\n",
              "\n",
              "      const channel = await google.colab.kernel.comms.open(id);\n",
              "      // Send a message to notify the kernel that we're ready.\n",
              "      channel.send({})\n",
              "\n",
              "      for await (const message of channel.messages) {\n",
              "        // Send a message to notify the kernel that we're ready.\n",
              "        channel.send({})\n",
              "        if (message.buffers) {\n",
              "          for (const buffer of message.buffers) {\n",
              "            buffers.push(buffer);\n",
              "            downloaded += buffer.byteLength;\n",
              "            progress.value = downloaded;\n",
              "          }\n",
              "        }\n",
              "      }\n",
              "      const blob = new Blob(buffers, {type: 'application/binary'});\n",
              "      const a = document.createElement('a');\n",
              "      a.href = window.URL.createObjectURL(blob);\n",
              "      a.download = filename;\n",
              "      div.appendChild(a);\n",
              "      a.click();\n",
              "      div.remove();\n",
              "    }\n",
              "  "
            ]
          },
          "metadata": {}
        },
        {
          "output_type": "display_data",
          "data": {
            "text/plain": [
              "<IPython.core.display.Javascript object>"
            ],
            "application/javascript": [
              "download(\"download_cf5617e6-c370-4561-971e-e27761a7f6bb\", \"Test_Transformer_Domain_Aware.csv\", 26899)"
            ]
          },
          "metadata": {}
        }
      ],
      "source": [
        "from google.colab import files\n",
        "files.download(\"Test_Transformer_Domain_Aware.csv\")"
      ]
    },
    {
      "cell_type": "code",
      "execution_count": null,
      "id": "025a0483-9c12-47db-bb39-a749691b6714",
      "metadata": {
        "id": "025a0483-9c12-47db-bb39-a749691b6714"
      },
      "outputs": [],
      "source": []
    },
    {
      "cell_type": "code",
      "execution_count": null,
      "id": "f337bb2a-19f2-4c67-b759-cbe67557fcb6",
      "metadata": {
        "id": "f337bb2a-19f2-4c67-b759-cbe67557fcb6"
      },
      "outputs": [],
      "source": []
    },
    {
      "cell_type": "code",
      "execution_count": null,
      "id": "27989083-6000-4b35-8cb6-e02194915bbe",
      "metadata": {
        "id": "27989083-6000-4b35-8cb6-e02194915bbe"
      },
      "outputs": [],
      "source": []
    },
    {
      "cell_type": "code",
      "execution_count": null,
      "id": "adc8c426-7f29-4177-8bf3-1a3cd93b1817",
      "metadata": {
        "id": "adc8c426-7f29-4177-8bf3-1a3cd93b1817"
      },
      "outputs": [],
      "source": []
    },
    {
      "cell_type": "code",
      "execution_count": null,
      "id": "482e69af-e53e-4ebb-aceb-38e5136a0a73",
      "metadata": {
        "id": "482e69af-e53e-4ebb-aceb-38e5136a0a73"
      },
      "outputs": [],
      "source": [
        "# Output prediction\n",
        "df_test['label'] = predictions\n",
        "\n",
        "df_submission = df_test[['id', 'label']]\n",
        "\n",
        "df_submission.to_csv(\"submission_trans_v2.csv\", index=False)\n",
        "\n",
        "print(df_submission.shape)          # (4000, 2)\n",
        "print(df_submission.head())\n",
        "print(df_submission['label'].value_counts())  # check distribution"
      ]
    },
    {
      "cell_type": "code",
      "execution_count": null,
      "id": "e7726170-11ee-4a7d-b125-b61956ace3b2",
      "metadata": {
        "id": "e7726170-11ee-4a7d-b125-b61956ace3b2"
      },
      "outputs": [],
      "source": []
    }
  ],
  "metadata": {
    "kernelspec": {
      "display_name": "Python 3",
      "name": "python3"
    },
    "language_info": {
      "codemirror_mode": {
        "name": "ipython",
        "version": 3
      },
      "file_extension": ".py",
      "mimetype": "text/x-python",
      "name": "python",
      "nbconvert_exporter": "python",
      "pygments_lexer": "ipython3",
      "version": "3.12.7"
    },
    "colab": {
      "provenance": [],
      "gpuType": "T4"
    },
    "accelerator": "GPU"
  },
  "nbformat": 4,
  "nbformat_minor": 5
}