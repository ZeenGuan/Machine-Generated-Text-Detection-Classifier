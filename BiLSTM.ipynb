{
 "cells": [
  {
   "cell_type": "markdown",
   "id": "7cac1c53-f89d-4e6a-bf26-2ed6e7559e2d",
   "metadata": {},
   "source": [
    "# Helper Functions"
   ]
  },
  {
   "cell_type": "code",
   "execution_count": 3,
   "id": "a9853195-1b24-4da0-b5cf-d037cb60e397",
   "metadata": {},
   "outputs": [],
   "source": [
    "import json\n",
    "import random\n",
    "from collections import defaultdict, Counter\n",
    "import itertools\n",
    "\n",
    "import pandas as pd\n",
    "import numpy as np\n",
    "from sklearn.metrics import accuracy_score\n",
    "from sklearn.linear_model import LogisticRegression\n",
    "\n",
    "import torch\n",
    "import torch.nn as nn\n",
    "from torch.nn.utils.rnn import pad_sequence\n",
    "from torch.utils.data import TensorDataset, DataLoader, WeightedRandomSampler\n",
    "import torch.nn.functional as F\n",
    "\n",
    "import matplotlib.pyplot as plt\n",
    "from tqdm import tqdm\n",
    "\n",
    "device = torch.device(\"cuda\" if torch.cuda.is_available() else \"cpu\")"
   ]
  },
  {
   "cell_type": "code",
   "execution_count": 4,
   "id": "50875035-c699-475c-a52e-2ac02e98047a",
   "metadata": {},
   "outputs": [],
   "source": [
    "def load_json_lines(path):\n",
    "    texts, labels = [], []\n",
    "    with open(path, 'r') as f:\n",
    "        for line in f:\n",
    "            ex = json.loads(line)\n",
    "            texts.append(torch.tensor(ex['text'], dtype=torch.long))\n",
    "            labels.append(ex['label'])\n",
    "    return texts, labels\n",
    "\n",
    "def load_test_json(path):\n",
    "    texts = []\n",
    "    with open(path, 'r') as f:\n",
    "        for line in f:\n",
    "            ex = json.loads(line)\n",
    "            texts.append(torch.tensor(ex['text'], dtype=torch.long))\n",
    "    return texts\n"
   ]
  },
  {
   "cell_type": "code",
   "execution_count": 5,
   "id": "1847007f-57b1-4280-849f-24ba122b9245",
   "metadata": {},
   "outputs": [],
   "source": [
    "def create_weighted_sampler(domains, labels):\n",
    "    from collections import Counter\n",
    "    from torch.utils.data import WeightedRandomSampler\n",
    "\n",
    "    bucket_keys = list(zip(domains, labels))\n",
    "    bucket_counts = Counter(bucket_keys)\n",
    "    bucket_weights = {k: 1.0 / count for k, count in bucket_counts.items()}\n",
    "    sample_weights = torch.DoubleTensor([bucket_weights[k] for k in bucket_keys])\n",
    "    sampler = WeightedRandomSampler(sample_weights, len(sample_weights), replacement=True)\n",
    "    return sampler"
   ]
  },
  {
   "cell_type": "code",
   "execution_count": 6,
   "id": "60c6648c-1d23-433b-84c1-f72f348135b5",
   "metadata": {},
   "outputs": [],
   "source": [
    "def stratified_train_val_split(texts, labels, domains, val_size_per_group=60, random_state=42):\n",
    "    random.seed(random_state)\n",
    "    from collections import defaultdict\n",
    "    buckets = defaultdict(list)\n",
    "\n",
    "    for x, y, d in zip(texts, labels, domains):\n",
    "        buckets[(d, y)].append((x, y, d))\n",
    "\n",
    "    train, val = [], []\n",
    "    for key in buckets:\n",
    "        group = buckets[key]\n",
    "        random.shuffle(group)\n",
    "        n_val = min(val_size_per_group, len(group))\n",
    "        val.extend(group[:n_val])\n",
    "        train.extend(group[n_val:])\n",
    "\n",
    "    random.shuffle(train)\n",
    "    random.shuffle(val)\n",
    "    tx, ty, td = zip(*train)\n",
    "    vx, vy, vd = zip(*val)\n",
    "    return list(tx), list(ty), list(td), list(vx), list(vy), list(vd)\n"
   ]
  },
  {
   "cell_type": "code",
   "execution_count": 7,
   "id": "4c675eb7-ec70-4990-bb09-4fbdfab473c4",
   "metadata": {},
   "outputs": [],
   "source": [
    "def train(model, train_loader, epochs, lr, device=\"cpu\"):\n",
    "    model = model.to(device)\n",
    "    optimizer = torch.optim.Adam(model.parameters(), lr=lr)\n",
    "\n",
    "    pos_weight = torch.tensor([\n",
    "        sum(1 for y in train_loader.dataset.tensors[1] if y == 0) /\n",
    "        sum(1 for y in train_loader.dataset.tensors[1] if y == 1)\n",
    "    ], device=device)\n",
    "    criterion = torch.nn.BCEWithLogitsLoss(pos_weight=pos_weight)\n",
    "\n",
    "    for epoch in range(1, epochs + 1):\n",
    "        model.train()\n",
    "        total_loss = 0\n",
    "        for X_batch, y_batch in tqdm(train_loader, desc=f\"Epoch {epoch}\", leave=False):\n",
    "            X_batch, y_batch = X_batch.to(device), y_batch.to(device)\n",
    "            optimizer.zero_grad()\n",
    "            logits = model(X_batch)\n",
    "            loss = criterion(logits, y_batch)\n",
    "            loss.backward()\n",
    "            optimizer.step()\n",
    "            total_loss += loss.item()\n",
    "\n",
    "        print(f\"Epoch {epoch} — Train Loss: {total_loss / len(train_loader):.4f}\")"
   ]
  },
  {
   "cell_type": "code",
   "execution_count": 21,
   "id": "98469f1e-6c98-4ac8-aa48-7086aa0684e1",
   "metadata": {},
   "outputs": [],
   "source": [
    "def validate_return_acc(model, dataloader, all_labels, all_domains, device=\"cpu\"):\n",
    "    model.eval()\n",
    "    all_preds, all_targets = [], []\n",
    "\n",
    "    with torch.no_grad():\n",
    "        for X_batch, y_batch in dataloader:\n",
    "            X_batch, y_batch = X_batch.to(device), y_batch.to(device)\n",
    "            logits = model(X_batch)\n",
    "            probs = torch.sigmoid(logits).squeeze()\n",
    "            preds = (probs >= 0.5).float()\n",
    "            all_preds.extend(preds.cpu().numpy())\n",
    "            all_targets.extend(y_batch.cpu().numpy())\n",
    "\n",
    "    acc = accuracy_score(all_targets, all_preds)\n",
    "    print(f\"\\nValidation Accuracy: {acc:.4f}\")\n",
    "    return acc\n",
    "\n",
    "def train_with_validation(model, train_loader, val_loader, val_labels, val_domains, epochs=5, lr=1e-3, device=\"cpu\"):\n",
    "    model = model.to(device)\n",
    "    optimizer = torch.optim.Adam(model.parameters(), lr=lr)\n",
    "\n",
    "    pos_weight = torch.tensor([\n",
    "        sum(1 for y in train_loader.dataset.tensors[1] if y == 0) /\n",
    "        sum(1 for y in train_loader.dataset.tensors[1] if y == 1)\n",
    "    ], device=device)\n",
    "    criterion = nn.BCEWithLogitsLoss(pos_weight=pos_weight)\n",
    "\n",
    "    val_accuracies = []\n",
    "\n",
    "    for epoch in range(1, epochs + 1):\n",
    "        model.train()\n",
    "        total_loss = 0\n",
    "        for X_batch, y_batch in tqdm(train_loader, desc=f\"Epoch {epoch}\", leave=False):\n",
    "            X_batch, y_batch = X_batch.to(device), y_batch.to(device)\n",
    "            optimizer.zero_grad()\n",
    "            logits = model(X_batch)\n",
    "            loss = criterion(logits, y_batch)\n",
    "            loss.backward()\n",
    "            optimizer.step()\n",
    "            total_loss += loss.item()\n",
    "\n",
    "        print(f\"\\nEpoch {epoch} — Train Loss: {total_loss / len(train_loader):.4f}\")\n",
    "        val_acc = validate_return_acc(model, val_loader, val_labels, val_domains, device)\n",
    "        val_accuracies.append(val_acc)\n",
    "\n",
    "    return val_accuracies"
   ]
  },
  {
   "cell_type": "code",
   "execution_count": 16,
   "id": "b31ee9ac-196a-4387-bafa-09f14a04e487",
   "metadata": {},
   "outputs": [],
   "source": [
    "def predict_with_confidence(model, dataloader, device=\"cpu\"):\n",
    "    model.eval()\n",
    "    preds, probs = [], []\n",
    "\n",
    "    with torch.no_grad():\n",
    "        for batch in tqdm(dataloader, desc=\"Predicting\", leave=False):\n",
    "            if len(batch) == 2:\n",
    "                X_batch, _ = batch  # Ignore labels\n",
    "            else:\n",
    "                X_batch = batch[0]\n",
    "            X_batch = X_batch.to(device)\n",
    "            logits = model(X_batch)\n",
    "            batch_probs = torch.sigmoid(logits).squeeze()\n",
    "\n",
    "            if batch_probs.ndim == 0:\n",
    "                batch_probs = batch_probs.unsqueeze(0)\n",
    "\n",
    "            batch_preds = (batch_probs >= 0.5).int().tolist()\n",
    "            preds.extend(batch_preds)\n",
    "            probs.extend(batch_probs.cpu().tolist())\n",
    "\n",
    "    return preds, probs"
   ]
  },
  {
   "cell_type": "markdown",
   "id": "9544037c-7235-42dd-9048-628bb08c2b73",
   "metadata": {},
   "source": [
    "# Loading and Tensorizing Data"
   ]
  },
  {
   "cell_type": "code",
   "execution_count": 11,
   "id": "1b76a0ab-3a10-496e-a6d2-4982233e79cf",
   "metadata": {},
   "outputs": [],
   "source": [
    "# Load full data\n",
    "d1_texts, d1_labels = load_json_lines(\"data/domain1_train_data.json\")\n",
    "d2_texts, d2_labels = load_json_lines(\"data/domain2_train_data.json\")\n",
    "texts = d1_texts + d2_texts\n",
    "labels = d1_labels + d2_labels\n",
    "domains = [0] * len(d1_labels) + [1] * len(d2_labels)\n",
    "\n",
    "# Load test data\n",
    "test_texts = load_test_json(\"data/test_data.json\")\n",
    "X_test = pad_sequence(test_texts, batch_first=True, padding_value=0)\n",
    "test_dataset = TensorDataset(X_test)\n",
    "test_loader = DataLoader(test_dataset, batch_size=32)\n",
    "\n",
    "# Tensorize full dataset, for final training\n",
    "X_all = pad_sequence(texts, batch_first=True, padding_value=0)\n",
    "y_all = torch.tensor(labels, dtype=torch.float32)\n",
    "train_dataset_final = TensorDataset(X_all, y_all)\n",
    "\n",
    "# Stratified validation split, get 60 validation samples of each set to mimic balance of test set\n",
    "train_texts, train_labels, train_domains, val_texts, val_labels, val_domains = stratified_train_val_split(\n",
    "    texts, labels, domains, val_size_per_group=60\n",
    ")\n",
    "\n",
    "# Tensorize training data, for validation-based training\n",
    "X_train = pad_sequence(train_texts, batch_first=True, padding_value=0)\n",
    "y_train = torch.tensor(train_labels, dtype=torch.float32)\n",
    "train_dataset = TensorDataset(X_train, y_train)\n",
    "\n",
    "# Sampler for training\n",
    "train_sampler = create_weighted_sampler(train_domains, train_labels)\n",
    "final_sampler = create_weighted_sampler(domains, labels)\n",
    "\n",
    "# Tensorize validation\n",
    "X_val = pad_sequence(val_texts, batch_first=True, padding_value=0)\n",
    "y_val = torch.tensor(val_labels, dtype=torch.float32)\n",
    "val_dataset = TensorDataset(X_val, y_val)\n",
    "val_loader = DataLoader(val_dataset, batch_size=64, shuffle=False)"
   ]
  },
  {
   "cell_type": "markdown",
   "id": "33f8fd46-3fab-4154-8a06-5ef06369c07b",
   "metadata": {},
   "source": [
    "# BiLSTM"
   ]
  },
  {
   "cell_type": "code",
   "execution_count": 25,
   "id": "3a89098f-0bd2-472f-89fa-4331df7eab59",
   "metadata": {},
   "outputs": [],
   "source": [
    "class BiLSTMClassifier(nn.Module):\n",
    "    def __init__(self, vocab_size, embedding_dim=128, hidden_dim=256, num_layers=2, dropout=0.3):\n",
    "        super().__init__()\n",
    "        self.embedding = nn.Embedding(vocab_size, embedding_dim, padding_idx=0)\n",
    "        self.lstm = nn.LSTM(embedding_dim, hidden_dim, num_layers, batch_first=True, bidirectional=True)\n",
    "        self.dropout = nn.Dropout(dropout)\n",
    "        self.fc = nn.Linear(hidden_dim * 2, 1)\n",
    "\n",
    "    def forward(self, x):\n",
    "        embeds = self.embedding(x)\n",
    "        _, (h_n, _) = self.lstm(embeds)\n",
    "        forward_final = h_n[-2]\n",
    "        backward_final = h_n[-1]\n",
    "        last_hidden = torch.cat((forward_final, backward_final), dim=1)\n",
    "        logits = self.fc(self.dropout(last_hidden))\n",
    "        return logits.squeeze()"
   ]
  },
  {
   "cell_type": "markdown",
   "id": "a9ac82d3-4abd-48ba-802c-4763f4e1e43c",
   "metadata": {},
   "source": [
    "## Hyperparameter Tuning"
   ]
  },
  {
   "cell_type": "code",
   "execution_count": 33,
   "id": "69843dd8-a7e6-4d02-8104-c1c44388a8b3",
   "metadata": {
    "scrolled": true
   },
   "outputs": [
    {
     "name": "stdout",
     "output_type": "stream",
     "text": [
      "\n",
      "🔍 Testing config: {'hidden_dim': 128, 'num_layers': 1, 'dropout': 0.3, 'lr': 0.001, 'batch_size': 32}\n"
     ]
    },
    {
     "name": "stderr",
     "output_type": "stream",
     "text": [
      "                                                             "
     ]
    },
    {
     "name": "stdout",
     "output_type": "stream",
     "text": [
      "\n",
      "📦 Epoch 1 — Train Loss: 0.1465\n",
      "\n",
      "✅ Validation Accuracy: 0.7958\n"
     ]
    },
    {
     "name": "stderr",
     "output_type": "stream",
     "text": [
      "                                                             "
     ]
    },
    {
     "name": "stdout",
     "output_type": "stream",
     "text": [
      "\n",
      "📦 Epoch 2 — Train Loss: 0.0548\n",
      "\n",
      "✅ Validation Accuracy: 0.8500\n"
     ]
    },
    {
     "name": "stderr",
     "output_type": "stream",
     "text": [
      "                                                             "
     ]
    },
    {
     "name": "stdout",
     "output_type": "stream",
     "text": [
      "\n",
      "📦 Epoch 3 — Train Loss: 0.0187\n",
      "\n",
      "✅ Validation Accuracy: 0.8708\n"
     ]
    },
    {
     "name": "stderr",
     "output_type": "stream",
     "text": [
      "                                                             "
     ]
    },
    {
     "name": "stdout",
     "output_type": "stream",
     "text": [
      "\n",
      "📦 Epoch 4 — Train Loss: 0.0114\n",
      "\n",
      "✅ Validation Accuracy: 0.8708\n"
     ]
    },
    {
     "name": "stderr",
     "output_type": "stream",
     "text": [
      "                                                             "
     ]
    },
    {
     "name": "stdout",
     "output_type": "stream",
     "text": [
      "\n",
      "📦 Epoch 5 — Train Loss: 0.0121\n",
      "\n",
      "✅ Validation Accuracy: 0.8458\n"
     ]
    },
    {
     "name": "stderr",
     "output_type": "stream",
     "text": [
      "                                                             "
     ]
    },
    {
     "name": "stdout",
     "output_type": "stream",
     "text": [
      "\n",
      "📦 Epoch 6 — Train Loss: 0.0043\n",
      "\n",
      "✅ Validation Accuracy: 0.8667\n"
     ]
    },
    {
     "name": "stderr",
     "output_type": "stream",
     "text": [
      "                                                             "
     ]
    },
    {
     "name": "stdout",
     "output_type": "stream",
     "text": [
      "\n",
      "📦 Epoch 7 — Train Loss: 0.0081\n",
      "\n",
      "✅ Validation Accuracy: 0.8292\n"
     ]
    },
    {
     "name": "stderr",
     "output_type": "stream",
     "text": [
      "                                                             "
     ]
    },
    {
     "name": "stdout",
     "output_type": "stream",
     "text": [
      "\n",
      "📦 Epoch 8 — Train Loss: 0.0044\n",
      "\n",
      "✅ Validation Accuracy: 0.8583\n"
     ]
    },
    {
     "name": "stderr",
     "output_type": "stream",
     "text": [
      "                                                             "
     ]
    },
    {
     "name": "stdout",
     "output_type": "stream",
     "text": [
      "\n",
      "📦 Epoch 9 — Train Loss: 0.0028\n",
      "\n",
      "✅ Validation Accuracy: 0.8083\n"
     ]
    },
    {
     "name": "stderr",
     "output_type": "stream",
     "text": [
      "                                                              "
     ]
    },
    {
     "name": "stdout",
     "output_type": "stream",
     "text": [
      "\n",
      "📦 Epoch 10 — Train Loss: 0.0058\n",
      "\n",
      "✅ Validation Accuracy: 0.8042\n",
      "\n",
      "🔍 Testing config: {'hidden_dim': 128, 'num_layers': 1, 'dropout': 0.3, 'lr': 0.001, 'batch_size': 64}\n"
     ]
    },
    {
     "name": "stderr",
     "output_type": "stream",
     "text": [
      "                                                           "
     ]
    },
    {
     "name": "stdout",
     "output_type": "stream",
     "text": [
      "\n",
      "📦 Epoch 1 — Train Loss: 0.1850\n",
      "\n",
      "✅ Validation Accuracy: 0.6458\n"
     ]
    },
    {
     "name": "stderr",
     "output_type": "stream",
     "text": [
      "                                                           "
     ]
    },
    {
     "name": "stdout",
     "output_type": "stream",
     "text": [
      "\n",
      "📦 Epoch 2 — Train Loss: 0.0733\n",
      "\n",
      "✅ Validation Accuracy: 0.8833\n"
     ]
    },
    {
     "name": "stderr",
     "output_type": "stream",
     "text": [
      "                                                           "
     ]
    },
    {
     "name": "stdout",
     "output_type": "stream",
     "text": [
      "\n",
      "📦 Epoch 3 — Train Loss: 0.0327\n",
      "\n",
      "✅ Validation Accuracy: 0.8875\n"
     ]
    },
    {
     "name": "stderr",
     "output_type": "stream",
     "text": [
      "                                                           "
     ]
    },
    {
     "name": "stdout",
     "output_type": "stream",
     "text": [
      "\n",
      "📦 Epoch 4 — Train Loss: 0.0160\n",
      "\n",
      "✅ Validation Accuracy: 0.8750\n"
     ]
    },
    {
     "name": "stderr",
     "output_type": "stream",
     "text": [
      "                                                           "
     ]
    },
    {
     "name": "stdout",
     "output_type": "stream",
     "text": [
      "\n",
      "📦 Epoch 5 — Train Loss: 0.0098\n",
      "\n",
      "✅ Validation Accuracy: 0.8583\n"
     ]
    },
    {
     "name": "stderr",
     "output_type": "stream",
     "text": [
      "                                                           "
     ]
    },
    {
     "name": "stdout",
     "output_type": "stream",
     "text": [
      "\n",
      "📦 Epoch 6 — Train Loss: 0.0119\n",
      "\n",
      "✅ Validation Accuracy: 0.8250\n"
     ]
    },
    {
     "name": "stderr",
     "output_type": "stream",
     "text": [
      "                                                           "
     ]
    },
    {
     "name": "stdout",
     "output_type": "stream",
     "text": [
      "\n",
      "📦 Epoch 7 — Train Loss: 0.0050\n",
      "\n",
      "✅ Validation Accuracy: 0.8625\n"
     ]
    },
    {
     "name": "stderr",
     "output_type": "stream",
     "text": [
      "                                                           "
     ]
    },
    {
     "name": "stdout",
     "output_type": "stream",
     "text": [
      "\n",
      "📦 Epoch 8 — Train Loss: 0.0034\n",
      "\n",
      "✅ Validation Accuracy: 0.8458\n"
     ]
    },
    {
     "name": "stderr",
     "output_type": "stream",
     "text": [
      "                                                           "
     ]
    },
    {
     "name": "stdout",
     "output_type": "stream",
     "text": [
      "\n",
      "📦 Epoch 9 — Train Loss: 0.0022\n",
      "\n",
      "✅ Validation Accuracy: 0.8500\n"
     ]
    },
    {
     "name": "stderr",
     "output_type": "stream",
     "text": [
      "                                                            "
     ]
    },
    {
     "name": "stdout",
     "output_type": "stream",
     "text": [
      "\n",
      "📦 Epoch 10 — Train Loss: 0.0016\n",
      "\n",
      "✅ Validation Accuracy: 0.8333\n",
      "\n",
      "🔍 Testing config: {'hidden_dim': 128, 'num_layers': 1, 'dropout': 0.3, 'lr': 0.0005, 'batch_size': 32}\n"
     ]
    },
    {
     "name": "stderr",
     "output_type": "stream",
     "text": [
      "                                                             "
     ]
    },
    {
     "name": "stdout",
     "output_type": "stream",
     "text": [
      "\n",
      "📦 Epoch 1 — Train Loss: 0.1831\n",
      "\n",
      "✅ Validation Accuracy: 0.5875\n"
     ]
    },
    {
     "name": "stderr",
     "output_type": "stream",
     "text": [
      "                                                             "
     ]
    },
    {
     "name": "stdout",
     "output_type": "stream",
     "text": [
      "\n",
      "📦 Epoch 2 — Train Loss: 0.0836\n",
      "\n",
      "✅ Validation Accuracy: 0.8667\n"
     ]
    },
    {
     "name": "stderr",
     "output_type": "stream",
     "text": [
      "                                                             "
     ]
    },
    {
     "name": "stdout",
     "output_type": "stream",
     "text": [
      "\n",
      "📦 Epoch 3 — Train Loss: 0.0590\n",
      "\n",
      "✅ Validation Accuracy: 0.8000\n"
     ]
    },
    {
     "name": "stderr",
     "output_type": "stream",
     "text": [
      "                                                             "
     ]
    },
    {
     "name": "stdout",
     "output_type": "stream",
     "text": [
      "\n",
      "📦 Epoch 4 — Train Loss: 0.0273\n",
      "\n",
      "✅ Validation Accuracy: 0.8708\n"
     ]
    },
    {
     "name": "stderr",
     "output_type": "stream",
     "text": [
      "                                                             "
     ]
    },
    {
     "name": "stdout",
     "output_type": "stream",
     "text": [
      "\n",
      "📦 Epoch 5 — Train Loss: 0.0120\n",
      "\n",
      "✅ Validation Accuracy: 0.8708\n"
     ]
    },
    {
     "name": "stderr",
     "output_type": "stream",
     "text": [
      "                                                             "
     ]
    },
    {
     "name": "stdout",
     "output_type": "stream",
     "text": [
      "\n",
      "📦 Epoch 6 — Train Loss: 0.0088\n",
      "\n",
      "✅ Validation Accuracy: 0.8458\n"
     ]
    },
    {
     "name": "stderr",
     "output_type": "stream",
     "text": [
      "                                                             "
     ]
    },
    {
     "name": "stdout",
     "output_type": "stream",
     "text": [
      "\n",
      "📦 Epoch 7 — Train Loss: 0.0121\n",
      "\n",
      "✅ Validation Accuracy: 0.8708\n"
     ]
    },
    {
     "name": "stderr",
     "output_type": "stream",
     "text": [
      "                                                             "
     ]
    },
    {
     "name": "stdout",
     "output_type": "stream",
     "text": [
      "\n",
      "📦 Epoch 8 — Train Loss: 0.0051\n",
      "\n",
      "✅ Validation Accuracy: 0.8417\n"
     ]
    },
    {
     "name": "stderr",
     "output_type": "stream",
     "text": [
      "                                                             "
     ]
    },
    {
     "name": "stdout",
     "output_type": "stream",
     "text": [
      "\n",
      "📦 Epoch 9 — Train Loss: 0.0068\n",
      "\n",
      "✅ Validation Accuracy: 0.8583\n"
     ]
    },
    {
     "name": "stderr",
     "output_type": "stream",
     "text": [
      "                                                              "
     ]
    },
    {
     "name": "stdout",
     "output_type": "stream",
     "text": [
      "\n",
      "📦 Epoch 10 — Train Loss: 0.0038\n",
      "\n",
      "✅ Validation Accuracy: 0.8250\n",
      "\n",
      "🔍 Testing config: {'hidden_dim': 128, 'num_layers': 1, 'dropout': 0.3, 'lr': 0.0005, 'batch_size': 64}\n"
     ]
    },
    {
     "name": "stderr",
     "output_type": "stream",
     "text": [
      "                                                           "
     ]
    },
    {
     "name": "stdout",
     "output_type": "stream",
     "text": [
      "\n",
      "📦 Epoch 1 — Train Loss: 0.2231\n",
      "\n",
      "✅ Validation Accuracy: 0.5000\n"
     ]
    },
    {
     "name": "stderr",
     "output_type": "stream",
     "text": [
      "                                                           "
     ]
    },
    {
     "name": "stdout",
     "output_type": "stream",
     "text": [
      "\n",
      "📦 Epoch 2 — Train Loss: 0.1224\n",
      "\n",
      "✅ Validation Accuracy: 0.7542\n"
     ]
    },
    {
     "name": "stderr",
     "output_type": "stream",
     "text": [
      "                                                           "
     ]
    },
    {
     "name": "stdout",
     "output_type": "stream",
     "text": [
      "\n",
      "📦 Epoch 3 — Train Loss: 0.0681\n",
      "\n",
      "✅ Validation Accuracy: 0.8458\n"
     ]
    },
    {
     "name": "stderr",
     "output_type": "stream",
     "text": [
      "                                                           "
     ]
    },
    {
     "name": "stdout",
     "output_type": "stream",
     "text": [
      "\n",
      "📦 Epoch 4 — Train Loss: 0.0377\n",
      "\n",
      "✅ Validation Accuracy: 0.8708\n"
     ]
    },
    {
     "name": "stderr",
     "output_type": "stream",
     "text": [
      "                                                           "
     ]
    },
    {
     "name": "stdout",
     "output_type": "stream",
     "text": [
      "\n",
      "📦 Epoch 5 — Train Loss: 0.0205\n",
      "\n",
      "✅ Validation Accuracy: 0.8875\n"
     ]
    },
    {
     "name": "stderr",
     "output_type": "stream",
     "text": [
      "                                                           "
     ]
    },
    {
     "name": "stdout",
     "output_type": "stream",
     "text": [
      "\n",
      "📦 Epoch 6 — Train Loss: 0.0189\n",
      "\n",
      "✅ Validation Accuracy: 0.8500\n"
     ]
    },
    {
     "name": "stderr",
     "output_type": "stream",
     "text": [
      "                                                           "
     ]
    },
    {
     "name": "stdout",
     "output_type": "stream",
     "text": [
      "\n",
      "📦 Epoch 7 — Train Loss: 0.0097\n",
      "\n",
      "✅ Validation Accuracy: 0.8417\n"
     ]
    },
    {
     "name": "stderr",
     "output_type": "stream",
     "text": [
      "                                                           "
     ]
    },
    {
     "name": "stdout",
     "output_type": "stream",
     "text": [
      "\n",
      "📦 Epoch 8 — Train Loss: 0.0062\n",
      "\n",
      "✅ Validation Accuracy: 0.8292\n"
     ]
    },
    {
     "name": "stderr",
     "output_type": "stream",
     "text": [
      "                                                           "
     ]
    },
    {
     "name": "stdout",
     "output_type": "stream",
     "text": [
      "\n",
      "📦 Epoch 9 — Train Loss: 0.0048\n",
      "\n",
      "✅ Validation Accuracy: 0.8333\n"
     ]
    },
    {
     "name": "stderr",
     "output_type": "stream",
     "text": [
      "                                                            "
     ]
    },
    {
     "name": "stdout",
     "output_type": "stream",
     "text": [
      "\n",
      "📦 Epoch 10 — Train Loss: 0.0041\n",
      "\n",
      "✅ Validation Accuracy: 0.8125\n",
      "\n",
      "🔍 Testing config: {'hidden_dim': 128, 'num_layers': 1, 'dropout': 0.5, 'lr': 0.001, 'batch_size': 32}\n"
     ]
    },
    {
     "name": "stderr",
     "output_type": "stream",
     "text": [
      "                                                             "
     ]
    },
    {
     "name": "stdout",
     "output_type": "stream",
     "text": [
      "\n",
      "📦 Epoch 1 — Train Loss: 0.1527\n",
      "\n",
      "✅ Validation Accuracy: 0.7958\n"
     ]
    },
    {
     "name": "stderr",
     "output_type": "stream",
     "text": [
      "                                                             "
     ]
    },
    {
     "name": "stdout",
     "output_type": "stream",
     "text": [
      "\n",
      "📦 Epoch 2 — Train Loss: 0.0734\n",
      "\n",
      "✅ Validation Accuracy: 0.8542\n"
     ]
    },
    {
     "name": "stderr",
     "output_type": "stream",
     "text": [
      "                                                             "
     ]
    },
    {
     "name": "stdout",
     "output_type": "stream",
     "text": [
      "\n",
      "📦 Epoch 3 — Train Loss: 0.0249\n",
      "\n",
      "✅ Validation Accuracy: 0.8750\n"
     ]
    },
    {
     "name": "stderr",
     "output_type": "stream",
     "text": [
      "                                                             "
     ]
    },
    {
     "name": "stdout",
     "output_type": "stream",
     "text": [
      "\n",
      "📦 Epoch 4 — Train Loss: 0.0134\n",
      "\n",
      "✅ Validation Accuracy: 0.8417\n"
     ]
    },
    {
     "name": "stderr",
     "output_type": "stream",
     "text": [
      "                                                             "
     ]
    },
    {
     "name": "stdout",
     "output_type": "stream",
     "text": [
      "\n",
      "📦 Epoch 5 — Train Loss: 0.0070\n",
      "\n",
      "✅ Validation Accuracy: 0.8542\n"
     ]
    },
    {
     "name": "stderr",
     "output_type": "stream",
     "text": [
      "                                                             "
     ]
    },
    {
     "name": "stdout",
     "output_type": "stream",
     "text": [
      "\n",
      "📦 Epoch 6 — Train Loss: 0.0069\n",
      "\n",
      "✅ Validation Accuracy: 0.8500\n"
     ]
    },
    {
     "name": "stderr",
     "output_type": "stream",
     "text": [
      "                                                             "
     ]
    },
    {
     "name": "stdout",
     "output_type": "stream",
     "text": [
      "\n",
      "📦 Epoch 7 — Train Loss: 0.0034\n",
      "\n",
      "✅ Validation Accuracy: 0.8292\n"
     ]
    },
    {
     "name": "stderr",
     "output_type": "stream",
     "text": [
      "                                                             "
     ]
    },
    {
     "name": "stdout",
     "output_type": "stream",
     "text": [
      "\n",
      "📦 Epoch 8 — Train Loss: 0.0035\n",
      "\n",
      "✅ Validation Accuracy: 0.8292\n"
     ]
    },
    {
     "name": "stderr",
     "output_type": "stream",
     "text": [
      "                                                             "
     ]
    },
    {
     "name": "stdout",
     "output_type": "stream",
     "text": [
      "\n",
      "📦 Epoch 9 — Train Loss: 0.0026\n",
      "\n",
      "✅ Validation Accuracy: 0.8208\n"
     ]
    },
    {
     "name": "stderr",
     "output_type": "stream",
     "text": [
      "                                                              "
     ]
    },
    {
     "name": "stdout",
     "output_type": "stream",
     "text": [
      "\n",
      "📦 Epoch 10 — Train Loss: 0.0035\n",
      "\n",
      "✅ Validation Accuracy: 0.8542\n",
      "\n",
      "🔍 Testing config: {'hidden_dim': 128, 'num_layers': 1, 'dropout': 0.5, 'lr': 0.001, 'batch_size': 64}\n"
     ]
    },
    {
     "name": "stderr",
     "output_type": "stream",
     "text": [
      "                                                           "
     ]
    },
    {
     "name": "stdout",
     "output_type": "stream",
     "text": [
      "\n",
      "📦 Epoch 1 — Train Loss: 0.1879\n",
      "\n",
      "✅ Validation Accuracy: 0.6083\n"
     ]
    },
    {
     "name": "stderr",
     "output_type": "stream",
     "text": [
      "                                                           "
     ]
    },
    {
     "name": "stdout",
     "output_type": "stream",
     "text": [
      "\n",
      "📦 Epoch 2 — Train Loss: 0.0830\n",
      "\n",
      "✅ Validation Accuracy: 0.8458\n"
     ]
    },
    {
     "name": "stderr",
     "output_type": "stream",
     "text": [
      "                                                           "
     ]
    },
    {
     "name": "stdout",
     "output_type": "stream",
     "text": [
      "\n",
      "📦 Epoch 3 — Train Loss: 0.0447\n",
      "\n",
      "✅ Validation Accuracy: 0.8500\n"
     ]
    },
    {
     "name": "stderr",
     "output_type": "stream",
     "text": [
      "                                                           "
     ]
    },
    {
     "name": "stdout",
     "output_type": "stream",
     "text": [
      "\n",
      "📦 Epoch 4 — Train Loss: 0.0169\n",
      "\n",
      "✅ Validation Accuracy: 0.8625\n"
     ]
    },
    {
     "name": "stderr",
     "output_type": "stream",
     "text": [
      "                                                           "
     ]
    },
    {
     "name": "stdout",
     "output_type": "stream",
     "text": [
      "\n",
      "📦 Epoch 5 — Train Loss: 0.0118\n",
      "\n",
      "✅ Validation Accuracy: 0.8833\n"
     ]
    },
    {
     "name": "stderr",
     "output_type": "stream",
     "text": [
      "                                                           "
     ]
    },
    {
     "name": "stdout",
     "output_type": "stream",
     "text": [
      "\n",
      "📦 Epoch 6 — Train Loss: 0.0075\n",
      "\n",
      "✅ Validation Accuracy: 0.8417\n"
     ]
    },
    {
     "name": "stderr",
     "output_type": "stream",
     "text": [
      "                                                           "
     ]
    },
    {
     "name": "stdout",
     "output_type": "stream",
     "text": [
      "\n",
      "📦 Epoch 7 — Train Loss: 0.0099\n",
      "\n",
      "✅ Validation Accuracy: 0.8542\n"
     ]
    },
    {
     "name": "stderr",
     "output_type": "stream",
     "text": [
      "                                                           "
     ]
    },
    {
     "name": "stdout",
     "output_type": "stream",
     "text": [
      "\n",
      "📦 Epoch 8 — Train Loss: 0.0031\n",
      "\n",
      "✅ Validation Accuracy: 0.8292\n"
     ]
    },
    {
     "name": "stderr",
     "output_type": "stream",
     "text": [
      "                                                           "
     ]
    },
    {
     "name": "stdout",
     "output_type": "stream",
     "text": [
      "\n",
      "📦 Epoch 9 — Train Loss: 0.0079\n",
      "\n",
      "✅ Validation Accuracy: 0.8333\n"
     ]
    },
    {
     "name": "stderr",
     "output_type": "stream",
     "text": [
      "                                                            "
     ]
    },
    {
     "name": "stdout",
     "output_type": "stream",
     "text": [
      "\n",
      "📦 Epoch 10 — Train Loss: 0.0026\n",
      "\n",
      "✅ Validation Accuracy: 0.8333\n",
      "\n",
      "🔍 Testing config: {'hidden_dim': 128, 'num_layers': 1, 'dropout': 0.5, 'lr': 0.0005, 'batch_size': 32}\n"
     ]
    },
    {
     "name": "stderr",
     "output_type": "stream",
     "text": [
      "                                                             "
     ]
    },
    {
     "name": "stdout",
     "output_type": "stream",
     "text": [
      "\n",
      "📦 Epoch 1 — Train Loss: 0.1975\n",
      "\n",
      "✅ Validation Accuracy: 0.5667\n"
     ]
    },
    {
     "name": "stderr",
     "output_type": "stream",
     "text": [
      "                                                             "
     ]
    },
    {
     "name": "stdout",
     "output_type": "stream",
     "text": [
      "\n",
      "📦 Epoch 2 — Train Loss: 0.0920\n",
      "\n",
      "✅ Validation Accuracy: 0.8458\n"
     ]
    },
    {
     "name": "stderr",
     "output_type": "stream",
     "text": [
      "                                                             "
     ]
    },
    {
     "name": "stdout",
     "output_type": "stream",
     "text": [
      "\n",
      "📦 Epoch 3 — Train Loss: 0.0407\n",
      "\n",
      "✅ Validation Accuracy: 0.9042\n"
     ]
    },
    {
     "name": "stderr",
     "output_type": "stream",
     "text": [
      "                                                             "
     ]
    },
    {
     "name": "stdout",
     "output_type": "stream",
     "text": [
      "\n",
      "📦 Epoch 4 — Train Loss: 0.0240\n",
      "\n",
      "✅ Validation Accuracy: 0.8708\n"
     ]
    },
    {
     "name": "stderr",
     "output_type": "stream",
     "text": [
      "                                                             "
     ]
    },
    {
     "name": "stdout",
     "output_type": "stream",
     "text": [
      "\n",
      "📦 Epoch 5 — Train Loss: 0.0163\n",
      "\n",
      "✅ Validation Accuracy: 0.9125\n"
     ]
    },
    {
     "name": "stderr",
     "output_type": "stream",
     "text": [
      "                                                             "
     ]
    },
    {
     "name": "stdout",
     "output_type": "stream",
     "text": [
      "\n",
      "📦 Epoch 6 — Train Loss: 0.0088\n",
      "\n",
      "✅ Validation Accuracy: 0.8958\n"
     ]
    },
    {
     "name": "stderr",
     "output_type": "stream",
     "text": [
      "                                                             "
     ]
    },
    {
     "name": "stdout",
     "output_type": "stream",
     "text": [
      "\n",
      "📦 Epoch 7 — Train Loss: 0.0052\n",
      "\n",
      "✅ Validation Accuracy: 0.7875\n"
     ]
    },
    {
     "name": "stderr",
     "output_type": "stream",
     "text": [
      "                                                             "
     ]
    },
    {
     "name": "stdout",
     "output_type": "stream",
     "text": [
      "\n",
      "📦 Epoch 8 — Train Loss: 0.0051\n",
      "\n",
      "✅ Validation Accuracy: 0.8958\n"
     ]
    },
    {
     "name": "stderr",
     "output_type": "stream",
     "text": [
      "                                                             "
     ]
    },
    {
     "name": "stdout",
     "output_type": "stream",
     "text": [
      "\n",
      "📦 Epoch 9 — Train Loss: 0.0035\n",
      "\n",
      "✅ Validation Accuracy: 0.8083\n"
     ]
    },
    {
     "name": "stderr",
     "output_type": "stream",
     "text": [
      "                                                              "
     ]
    },
    {
     "name": "stdout",
     "output_type": "stream",
     "text": [
      "\n",
      "📦 Epoch 10 — Train Loss: 0.0029\n",
      "\n",
      "✅ Validation Accuracy: 0.8417\n",
      "\n",
      "🔍 Testing config: {'hidden_dim': 128, 'num_layers': 1, 'dropout': 0.5, 'lr': 0.0005, 'batch_size': 64}\n"
     ]
    },
    {
     "name": "stderr",
     "output_type": "stream",
     "text": [
      "                                                           "
     ]
    },
    {
     "name": "stdout",
     "output_type": "stream",
     "text": [
      "\n",
      "📦 Epoch 1 — Train Loss: 0.2270\n",
      "\n",
      "✅ Validation Accuracy: 0.5000\n"
     ]
    },
    {
     "name": "stderr",
     "output_type": "stream",
     "text": [
      "                                                           "
     ]
    },
    {
     "name": "stdout",
     "output_type": "stream",
     "text": [
      "\n",
      "📦 Epoch 2 — Train Loss: 0.1350\n",
      "\n",
      "✅ Validation Accuracy: 0.7083\n"
     ]
    },
    {
     "name": "stderr",
     "output_type": "stream",
     "text": [
      "                                                           "
     ]
    },
    {
     "name": "stdout",
     "output_type": "stream",
     "text": [
      "\n",
      "📦 Epoch 3 — Train Loss: 0.0795\n",
      "\n",
      "✅ Validation Accuracy: 0.8250\n"
     ]
    },
    {
     "name": "stderr",
     "output_type": "stream",
     "text": [
      "                                                           "
     ]
    },
    {
     "name": "stdout",
     "output_type": "stream",
     "text": [
      "\n",
      "📦 Epoch 4 — Train Loss: 0.0441\n",
      "\n",
      "✅ Validation Accuracy: 0.8500\n"
     ]
    },
    {
     "name": "stderr",
     "output_type": "stream",
     "text": [
      "                                                           "
     ]
    },
    {
     "name": "stdout",
     "output_type": "stream",
     "text": [
      "\n",
      "📦 Epoch 5 — Train Loss: 0.0265\n",
      "\n",
      "✅ Validation Accuracy: 0.8500\n"
     ]
    },
    {
     "name": "stderr",
     "output_type": "stream",
     "text": [
      "                                                           "
     ]
    },
    {
     "name": "stdout",
     "output_type": "stream",
     "text": [
      "\n",
      "📦 Epoch 6 — Train Loss: 0.0151\n",
      "\n",
      "✅ Validation Accuracy: 0.8292\n"
     ]
    },
    {
     "name": "stderr",
     "output_type": "stream",
     "text": [
      "                                                           "
     ]
    },
    {
     "name": "stdout",
     "output_type": "stream",
     "text": [
      "\n",
      "📦 Epoch 7 — Train Loss: 0.0069\n",
      "\n",
      "✅ Validation Accuracy: 0.8542\n"
     ]
    },
    {
     "name": "stderr",
     "output_type": "stream",
     "text": [
      "                                                           "
     ]
    },
    {
     "name": "stdout",
     "output_type": "stream",
     "text": [
      "\n",
      "📦 Epoch 8 — Train Loss: 0.0125\n",
      "\n",
      "✅ Validation Accuracy: 0.8125\n"
     ]
    },
    {
     "name": "stderr",
     "output_type": "stream",
     "text": [
      "                                                           "
     ]
    },
    {
     "name": "stdout",
     "output_type": "stream",
     "text": [
      "\n",
      "📦 Epoch 9 — Train Loss: 0.0051\n",
      "\n",
      "✅ Validation Accuracy: 0.8333\n"
     ]
    },
    {
     "name": "stderr",
     "output_type": "stream",
     "text": [
      "                                                            "
     ]
    },
    {
     "name": "stdout",
     "output_type": "stream",
     "text": [
      "\n",
      "📦 Epoch 10 — Train Loss: 0.0207\n",
      "\n",
      "✅ Validation Accuracy: 0.8250\n",
      "\n",
      "🔍 Testing config: {'hidden_dim': 128, 'num_layers': 2, 'dropout': 0.3, 'lr': 0.001, 'batch_size': 32}\n"
     ]
    },
    {
     "name": "stderr",
     "output_type": "stream",
     "text": [
      "                                                             "
     ]
    },
    {
     "name": "stdout",
     "output_type": "stream",
     "text": [
      "\n",
      "📦 Epoch 1 — Train Loss: 0.1309\n",
      "\n",
      "✅ Validation Accuracy: 0.8208\n"
     ]
    },
    {
     "name": "stderr",
     "output_type": "stream",
     "text": [
      "                                                             "
     ]
    },
    {
     "name": "stdout",
     "output_type": "stream",
     "text": [
      "\n",
      "📦 Epoch 2 — Train Loss: 0.0381\n",
      "\n",
      "✅ Validation Accuracy: 0.8542\n"
     ]
    },
    {
     "name": "stderr",
     "output_type": "stream",
     "text": [
      "                                                             "
     ]
    },
    {
     "name": "stdout",
     "output_type": "stream",
     "text": [
      "\n",
      "📦 Epoch 3 — Train Loss: 0.0155\n",
      "\n",
      "✅ Validation Accuracy: 0.8167\n"
     ]
    },
    {
     "name": "stderr",
     "output_type": "stream",
     "text": [
      "                                                             "
     ]
    },
    {
     "name": "stdout",
     "output_type": "stream",
     "text": [
      "\n",
      "📦 Epoch 4 — Train Loss: 0.0162\n",
      "\n",
      "✅ Validation Accuracy: 0.8417\n"
     ]
    },
    {
     "name": "stderr",
     "output_type": "stream",
     "text": [
      "                                                             "
     ]
    },
    {
     "name": "stdout",
     "output_type": "stream",
     "text": [
      "\n",
      "📦 Epoch 5 — Train Loss: 0.0039\n",
      "\n",
      "✅ Validation Accuracy: 0.8375\n"
     ]
    },
    {
     "name": "stderr",
     "output_type": "stream",
     "text": [
      "                                                             "
     ]
    },
    {
     "name": "stdout",
     "output_type": "stream",
     "text": [
      "\n",
      "📦 Epoch 6 — Train Loss: 0.0038\n",
      "\n",
      "✅ Validation Accuracy: 0.8292\n"
     ]
    },
    {
     "name": "stderr",
     "output_type": "stream",
     "text": [
      "                                                             "
     ]
    },
    {
     "name": "stdout",
     "output_type": "stream",
     "text": [
      "\n",
      "📦 Epoch 7 — Train Loss: 0.0035\n",
      "\n",
      "✅ Validation Accuracy: 0.8250\n"
     ]
    },
    {
     "name": "stderr",
     "output_type": "stream",
     "text": [
      "                                                             "
     ]
    },
    {
     "name": "stdout",
     "output_type": "stream",
     "text": [
      "\n",
      "📦 Epoch 8 — Train Loss: 0.0092\n",
      "\n",
      "✅ Validation Accuracy: 0.8250\n"
     ]
    },
    {
     "name": "stderr",
     "output_type": "stream",
     "text": [
      "                                                             "
     ]
    },
    {
     "name": "stdout",
     "output_type": "stream",
     "text": [
      "\n",
      "📦 Epoch 9 — Train Loss: 0.0045\n",
      "\n",
      "✅ Validation Accuracy: 0.8208\n"
     ]
    },
    {
     "name": "stderr",
     "output_type": "stream",
     "text": [
      "                                                              "
     ]
    },
    {
     "name": "stdout",
     "output_type": "stream",
     "text": [
      "\n",
      "📦 Epoch 10 — Train Loss: 0.0019\n",
      "\n",
      "✅ Validation Accuracy: 0.8625\n",
      "\n",
      "🔍 Testing config: {'hidden_dim': 128, 'num_layers': 2, 'dropout': 0.3, 'lr': 0.001, 'batch_size': 64}\n"
     ]
    },
    {
     "name": "stderr",
     "output_type": "stream",
     "text": [
      "                                                           "
     ]
    },
    {
     "name": "stdout",
     "output_type": "stream",
     "text": [
      "\n",
      "📦 Epoch 1 — Train Loss: 0.1600\n",
      "\n",
      "✅ Validation Accuracy: 0.7917\n"
     ]
    },
    {
     "name": "stderr",
     "output_type": "stream",
     "text": [
      "                                                           "
     ]
    },
    {
     "name": "stdout",
     "output_type": "stream",
     "text": [
      "\n",
      "📦 Epoch 2 — Train Loss: 0.0597\n",
      "\n",
      "✅ Validation Accuracy: 0.8708\n"
     ]
    },
    {
     "name": "stderr",
     "output_type": "stream",
     "text": [
      "                                                           "
     ]
    },
    {
     "name": "stdout",
     "output_type": "stream",
     "text": [
      "\n",
      "📦 Epoch 3 — Train Loss: 0.0298\n",
      "\n",
      "✅ Validation Accuracy: 0.8083\n"
     ]
    },
    {
     "name": "stderr",
     "output_type": "stream",
     "text": [
      "                                                           "
     ]
    },
    {
     "name": "stdout",
     "output_type": "stream",
     "text": [
      "\n",
      "📦 Epoch 4 — Train Loss: 0.0150\n",
      "\n",
      "✅ Validation Accuracy: 0.8583\n"
     ]
    },
    {
     "name": "stderr",
     "output_type": "stream",
     "text": [
      "                                                           "
     ]
    },
    {
     "name": "stdout",
     "output_type": "stream",
     "text": [
      "\n",
      "📦 Epoch 5 — Train Loss: 0.0125\n",
      "\n",
      "✅ Validation Accuracy: 0.8333\n"
     ]
    },
    {
     "name": "stderr",
     "output_type": "stream",
     "text": [
      "                                                           "
     ]
    },
    {
     "name": "stdout",
     "output_type": "stream",
     "text": [
      "\n",
      "📦 Epoch 6 — Train Loss: 0.0067\n",
      "\n",
      "✅ Validation Accuracy: 0.7625\n"
     ]
    },
    {
     "name": "stderr",
     "output_type": "stream",
     "text": [
      "                                                           "
     ]
    },
    {
     "name": "stdout",
     "output_type": "stream",
     "text": [
      "\n",
      "📦 Epoch 7 — Train Loss: 0.0077\n",
      "\n",
      "✅ Validation Accuracy: 0.8333\n"
     ]
    },
    {
     "name": "stderr",
     "output_type": "stream",
     "text": [
      "                                                           "
     ]
    },
    {
     "name": "stdout",
     "output_type": "stream",
     "text": [
      "\n",
      "📦 Epoch 8 — Train Loss: 0.0058\n",
      "\n",
      "✅ Validation Accuracy: 0.8000\n"
     ]
    },
    {
     "name": "stderr",
     "output_type": "stream",
     "text": [
      "                                                           "
     ]
    },
    {
     "name": "stdout",
     "output_type": "stream",
     "text": [
      "\n",
      "📦 Epoch 9 — Train Loss: 0.0024\n",
      "\n",
      "✅ Validation Accuracy: 0.8000\n"
     ]
    },
    {
     "name": "stderr",
     "output_type": "stream",
     "text": [
      "                                                            "
     ]
    },
    {
     "name": "stdout",
     "output_type": "stream",
     "text": [
      "\n",
      "📦 Epoch 10 — Train Loss: 0.0011\n",
      "\n",
      "✅ Validation Accuracy: 0.7750\n",
      "\n",
      "🔍 Testing config: {'hidden_dim': 128, 'num_layers': 2, 'dropout': 0.3, 'lr': 0.0005, 'batch_size': 32}\n"
     ]
    },
    {
     "name": "stderr",
     "output_type": "stream",
     "text": [
      "                                                             "
     ]
    },
    {
     "name": "stdout",
     "output_type": "stream",
     "text": [
      "\n",
      "📦 Epoch 1 — Train Loss: 0.1483\n",
      "\n",
      "✅ Validation Accuracy: 0.8417\n"
     ]
    },
    {
     "name": "stderr",
     "output_type": "stream",
     "text": [
      "                                                             "
     ]
    },
    {
     "name": "stdout",
     "output_type": "stream",
     "text": [
      "\n",
      "📦 Epoch 2 — Train Loss: 0.0546\n",
      "\n",
      "✅ Validation Accuracy: 0.8458\n"
     ]
    },
    {
     "name": "stderr",
     "output_type": "stream",
     "text": [
      "                                                             "
     ]
    },
    {
     "name": "stdout",
     "output_type": "stream",
     "text": [
      "\n",
      "📦 Epoch 3 — Train Loss: 0.0224\n",
      "\n",
      "✅ Validation Accuracy: 0.8500\n"
     ]
    },
    {
     "name": "stderr",
     "output_type": "stream",
     "text": [
      "                                                             "
     ]
    },
    {
     "name": "stdout",
     "output_type": "stream",
     "text": [
      "\n",
      "📦 Epoch 4 — Train Loss: 0.0186\n",
      "\n",
      "✅ Validation Accuracy: 0.8125\n"
     ]
    },
    {
     "name": "stderr",
     "output_type": "stream",
     "text": [
      "                                                             "
     ]
    },
    {
     "name": "stdout",
     "output_type": "stream",
     "text": [
      "\n",
      "📦 Epoch 5 — Train Loss: 0.0164\n",
      "\n",
      "✅ Validation Accuracy: 0.8417\n"
     ]
    },
    {
     "name": "stderr",
     "output_type": "stream",
     "text": [
      "                                                             "
     ]
    },
    {
     "name": "stdout",
     "output_type": "stream",
     "text": [
      "\n",
      "📦 Epoch 6 — Train Loss: 0.0069\n",
      "\n",
      "✅ Validation Accuracy: 0.8375\n"
     ]
    },
    {
     "name": "stderr",
     "output_type": "stream",
     "text": [
      "                                                             "
     ]
    },
    {
     "name": "stdout",
     "output_type": "stream",
     "text": [
      "\n",
      "📦 Epoch 7 — Train Loss: 0.0094\n",
      "\n",
      "✅ Validation Accuracy: 0.8458\n"
     ]
    },
    {
     "name": "stderr",
     "output_type": "stream",
     "text": [
      "                                                             "
     ]
    },
    {
     "name": "stdout",
     "output_type": "stream",
     "text": [
      "\n",
      "📦 Epoch 8 — Train Loss: 0.0060\n",
      "\n",
      "✅ Validation Accuracy: 0.8542\n"
     ]
    },
    {
     "name": "stderr",
     "output_type": "stream",
     "text": [
      "                                                             "
     ]
    },
    {
     "name": "stdout",
     "output_type": "stream",
     "text": [
      "\n",
      "📦 Epoch 9 — Train Loss: 0.0057\n",
      "\n",
      "✅ Validation Accuracy: 0.8417\n"
     ]
    },
    {
     "name": "stderr",
     "output_type": "stream",
     "text": [
      "                                                              "
     ]
    },
    {
     "name": "stdout",
     "output_type": "stream",
     "text": [
      "\n",
      "📦 Epoch 10 — Train Loss: 0.0018\n",
      "\n",
      "✅ Validation Accuracy: 0.8458\n",
      "\n",
      "🔍 Testing config: {'hidden_dim': 128, 'num_layers': 2, 'dropout': 0.3, 'lr': 0.0005, 'batch_size': 64}\n"
     ]
    },
    {
     "name": "stderr",
     "output_type": "stream",
     "text": [
      "                                                           "
     ]
    },
    {
     "name": "stdout",
     "output_type": "stream",
     "text": [
      "\n",
      "📦 Epoch 1 — Train Loss: 0.1872\n",
      "\n",
      "✅ Validation Accuracy: 0.6625\n"
     ]
    },
    {
     "name": "stderr",
     "output_type": "stream",
     "text": [
      "                                                           "
     ]
    },
    {
     "name": "stdout",
     "output_type": "stream",
     "text": [
      "\n",
      "📦 Epoch 2 — Train Loss: 0.0815\n",
      "\n",
      "✅ Validation Accuracy: 0.8375\n"
     ]
    },
    {
     "name": "stderr",
     "output_type": "stream",
     "text": [
      "                                                           "
     ]
    },
    {
     "name": "stdout",
     "output_type": "stream",
     "text": [
      "\n",
      "📦 Epoch 3 — Train Loss: 0.0449\n",
      "\n",
      "✅ Validation Accuracy: 0.8583\n"
     ]
    },
    {
     "name": "stderr",
     "output_type": "stream",
     "text": [
      "                                                           "
     ]
    },
    {
     "name": "stdout",
     "output_type": "stream",
     "text": [
      "\n",
      "📦 Epoch 4 — Train Loss: 0.0240\n",
      "\n",
      "✅ Validation Accuracy: 0.8292\n"
     ]
    },
    {
     "name": "stderr",
     "output_type": "stream",
     "text": [
      "                                                           "
     ]
    },
    {
     "name": "stdout",
     "output_type": "stream",
     "text": [
      "\n",
      "📦 Epoch 5 — Train Loss: 0.0169\n",
      "\n",
      "✅ Validation Accuracy: 0.8167\n"
     ]
    },
    {
     "name": "stderr",
     "output_type": "stream",
     "text": [
      "                                                           "
     ]
    },
    {
     "name": "stdout",
     "output_type": "stream",
     "text": [
      "\n",
      "📦 Epoch 6 — Train Loss: 0.0115\n",
      "\n",
      "✅ Validation Accuracy: 0.8083\n"
     ]
    },
    {
     "name": "stderr",
     "output_type": "stream",
     "text": [
      "                                                           "
     ]
    },
    {
     "name": "stdout",
     "output_type": "stream",
     "text": [
      "\n",
      "📦 Epoch 7 — Train Loss: 0.0134\n",
      "\n",
      "✅ Validation Accuracy: 0.8042\n"
     ]
    },
    {
     "name": "stderr",
     "output_type": "stream",
     "text": [
      "                                                           "
     ]
    },
    {
     "name": "stdout",
     "output_type": "stream",
     "text": [
      "\n",
      "📦 Epoch 8 — Train Loss: 0.0091\n",
      "\n",
      "✅ Validation Accuracy: 0.8500\n"
     ]
    },
    {
     "name": "stderr",
     "output_type": "stream",
     "text": [
      "                                                           "
     ]
    },
    {
     "name": "stdout",
     "output_type": "stream",
     "text": [
      "\n",
      "📦 Epoch 9 — Train Loss: 0.0058\n",
      "\n",
      "✅ Validation Accuracy: 0.8250\n"
     ]
    },
    {
     "name": "stderr",
     "output_type": "stream",
     "text": [
      "                                                            "
     ]
    },
    {
     "name": "stdout",
     "output_type": "stream",
     "text": [
      "\n",
      "📦 Epoch 10 — Train Loss: 0.0130\n",
      "\n",
      "✅ Validation Accuracy: 0.8125\n",
      "\n",
      "🔍 Testing config: {'hidden_dim': 128, 'num_layers': 2, 'dropout': 0.5, 'lr': 0.001, 'batch_size': 32}\n"
     ]
    },
    {
     "name": "stderr",
     "output_type": "stream",
     "text": [
      "                                                             "
     ]
    },
    {
     "name": "stdout",
     "output_type": "stream",
     "text": [
      "\n",
      "📦 Epoch 1 — Train Loss: 0.1201\n",
      "\n",
      "✅ Validation Accuracy: 0.8417\n"
     ]
    },
    {
     "name": "stderr",
     "output_type": "stream",
     "text": [
      "                                                             "
     ]
    },
    {
     "name": "stdout",
     "output_type": "stream",
     "text": [
      "\n",
      "📦 Epoch 2 — Train Loss: 0.0494\n",
      "\n",
      "✅ Validation Accuracy: 0.8625\n"
     ]
    },
    {
     "name": "stderr",
     "output_type": "stream",
     "text": [
      "                                                             "
     ]
    },
    {
     "name": "stdout",
     "output_type": "stream",
     "text": [
      "\n",
      "📦 Epoch 3 — Train Loss: 0.0199\n",
      "\n",
      "✅ Validation Accuracy: 0.8250\n"
     ]
    },
    {
     "name": "stderr",
     "output_type": "stream",
     "text": [
      "                                                             "
     ]
    },
    {
     "name": "stdout",
     "output_type": "stream",
     "text": [
      "\n",
      "📦 Epoch 4 — Train Loss: 0.0104\n",
      "\n",
      "✅ Validation Accuracy: 0.7833\n"
     ]
    },
    {
     "name": "stderr",
     "output_type": "stream",
     "text": [
      "                                                             "
     ]
    },
    {
     "name": "stdout",
     "output_type": "stream",
     "text": [
      "\n",
      "📦 Epoch 5 — Train Loss: 0.0076\n",
      "\n",
      "✅ Validation Accuracy: 0.8167\n"
     ]
    },
    {
     "name": "stderr",
     "output_type": "stream",
     "text": [
      "                                                             "
     ]
    },
    {
     "name": "stdout",
     "output_type": "stream",
     "text": [
      "\n",
      "📦 Epoch 6 — Train Loss: 0.0061\n",
      "\n",
      "✅ Validation Accuracy: 0.7750\n"
     ]
    },
    {
     "name": "stderr",
     "output_type": "stream",
     "text": [
      "                                                             "
     ]
    },
    {
     "name": "stdout",
     "output_type": "stream",
     "text": [
      "\n",
      "📦 Epoch 7 — Train Loss: 0.0140\n",
      "\n",
      "✅ Validation Accuracy: 0.7833\n"
     ]
    },
    {
     "name": "stderr",
     "output_type": "stream",
     "text": [
      "                                                             "
     ]
    },
    {
     "name": "stdout",
     "output_type": "stream",
     "text": [
      "\n",
      "📦 Epoch 8 — Train Loss: 0.0157\n",
      "\n",
      "✅ Validation Accuracy: 0.8167\n"
     ]
    },
    {
     "name": "stderr",
     "output_type": "stream",
     "text": [
      "                                                             "
     ]
    },
    {
     "name": "stdout",
     "output_type": "stream",
     "text": [
      "\n",
      "📦 Epoch 9 — Train Loss: 0.0049\n",
      "\n",
      "✅ Validation Accuracy: 0.7667\n"
     ]
    },
    {
     "name": "stderr",
     "output_type": "stream",
     "text": [
      "                                                              "
     ]
    },
    {
     "name": "stdout",
     "output_type": "stream",
     "text": [
      "\n",
      "📦 Epoch 10 — Train Loss: 0.0022\n",
      "\n",
      "✅ Validation Accuracy: 0.7833\n",
      "\n",
      "🔍 Testing config: {'hidden_dim': 128, 'num_layers': 2, 'dropout': 0.5, 'lr': 0.001, 'batch_size': 64}\n"
     ]
    },
    {
     "name": "stderr",
     "output_type": "stream",
     "text": [
      "                                                           "
     ]
    },
    {
     "name": "stdout",
     "output_type": "stream",
     "text": [
      "\n",
      "📦 Epoch 1 — Train Loss: 0.1623\n",
      "\n",
      "✅ Validation Accuracy: 0.7292\n"
     ]
    },
    {
     "name": "stderr",
     "output_type": "stream",
     "text": [
      "                                                           "
     ]
    },
    {
     "name": "stdout",
     "output_type": "stream",
     "text": [
      "\n",
      "📦 Epoch 2 — Train Loss: 0.0549\n",
      "\n",
      "✅ Validation Accuracy: 0.8583\n"
     ]
    },
    {
     "name": "stderr",
     "output_type": "stream",
     "text": [
      "                                                           "
     ]
    },
    {
     "name": "stdout",
     "output_type": "stream",
     "text": [
      "\n",
      "📦 Epoch 3 — Train Loss: 0.0219\n",
      "\n",
      "✅ Validation Accuracy: 0.8708\n"
     ]
    },
    {
     "name": "stderr",
     "output_type": "stream",
     "text": [
      "                                                           "
     ]
    },
    {
     "name": "stdout",
     "output_type": "stream",
     "text": [
      "\n",
      "📦 Epoch 4 — Train Loss: 0.0230\n",
      "\n",
      "✅ Validation Accuracy: 0.8625\n"
     ]
    },
    {
     "name": "stderr",
     "output_type": "stream",
     "text": [
      "                                                           "
     ]
    },
    {
     "name": "stdout",
     "output_type": "stream",
     "text": [
      "\n",
      "📦 Epoch 5 — Train Loss: 0.0086\n",
      "\n",
      "✅ Validation Accuracy: 0.8542\n"
     ]
    },
    {
     "name": "stderr",
     "output_type": "stream",
     "text": [
      "                                                           "
     ]
    },
    {
     "name": "stdout",
     "output_type": "stream",
     "text": [
      "\n",
      "📦 Epoch 6 — Train Loss: 0.0095\n",
      "\n",
      "✅ Validation Accuracy: 0.8333\n"
     ]
    },
    {
     "name": "stderr",
     "output_type": "stream",
     "text": [
      "                                                           "
     ]
    },
    {
     "name": "stdout",
     "output_type": "stream",
     "text": [
      "\n",
      "📦 Epoch 7 — Train Loss: 0.0034\n",
      "\n",
      "✅ Validation Accuracy: 0.8208\n"
     ]
    },
    {
     "name": "stderr",
     "output_type": "stream",
     "text": [
      "                                                           "
     ]
    },
    {
     "name": "stdout",
     "output_type": "stream",
     "text": [
      "\n",
      "📦 Epoch 8 — Train Loss: 0.0184\n",
      "\n",
      "✅ Validation Accuracy: 0.8375\n"
     ]
    },
    {
     "name": "stderr",
     "output_type": "stream",
     "text": [
      "                                                           "
     ]
    },
    {
     "name": "stdout",
     "output_type": "stream",
     "text": [
      "\n",
      "📦 Epoch 9 — Train Loss: 0.0068\n",
      "\n",
      "✅ Validation Accuracy: 0.7917\n"
     ]
    },
    {
     "name": "stderr",
     "output_type": "stream",
     "text": [
      "                                                            "
     ]
    },
    {
     "name": "stdout",
     "output_type": "stream",
     "text": [
      "\n",
      "📦 Epoch 10 — Train Loss: 0.0019\n",
      "\n",
      "✅ Validation Accuracy: 0.8000\n",
      "\n",
      "🔍 Testing config: {'hidden_dim': 128, 'num_layers': 2, 'dropout': 0.5, 'lr': 0.0005, 'batch_size': 32}\n"
     ]
    },
    {
     "name": "stderr",
     "output_type": "stream",
     "text": [
      "                                                             "
     ]
    },
    {
     "name": "stdout",
     "output_type": "stream",
     "text": [
      "\n",
      "📦 Epoch 1 — Train Loss: 0.1581\n",
      "\n",
      "✅ Validation Accuracy: 0.7750\n"
     ]
    },
    {
     "name": "stderr",
     "output_type": "stream",
     "text": [
      "                                                             "
     ]
    },
    {
     "name": "stdout",
     "output_type": "stream",
     "text": [
      "\n",
      "📦 Epoch 2 — Train Loss: 0.0505\n",
      "\n",
      "✅ Validation Accuracy: 0.8208\n"
     ]
    },
    {
     "name": "stderr",
     "output_type": "stream",
     "text": [
      "                                                             "
     ]
    },
    {
     "name": "stdout",
     "output_type": "stream",
     "text": [
      "\n",
      "📦 Epoch 3 — Train Loss: 0.0235\n",
      "\n",
      "✅ Validation Accuracy: 0.8542\n"
     ]
    },
    {
     "name": "stderr",
     "output_type": "stream",
     "text": [
      "                                                             "
     ]
    },
    {
     "name": "stdout",
     "output_type": "stream",
     "text": [
      "\n",
      "📦 Epoch 4 — Train Loss: 0.0089\n",
      "\n",
      "✅ Validation Accuracy: 0.8167\n"
     ]
    },
    {
     "name": "stderr",
     "output_type": "stream",
     "text": [
      "                                                             "
     ]
    },
    {
     "name": "stdout",
     "output_type": "stream",
     "text": [
      "\n",
      "📦 Epoch 5 — Train Loss: 0.0140\n",
      "\n",
      "✅ Validation Accuracy: 0.8417\n"
     ]
    },
    {
     "name": "stderr",
     "output_type": "stream",
     "text": [
      "                                                             "
     ]
    },
    {
     "name": "stdout",
     "output_type": "stream",
     "text": [
      "\n",
      "📦 Epoch 6 — Train Loss: 0.0090\n",
      "\n",
      "✅ Validation Accuracy: 0.8708\n"
     ]
    },
    {
     "name": "stderr",
     "output_type": "stream",
     "text": [
      "                                                             "
     ]
    },
    {
     "name": "stdout",
     "output_type": "stream",
     "text": [
      "\n",
      "📦 Epoch 7 — Train Loss: 0.0130\n",
      "\n",
      "✅ Validation Accuracy: 0.8125\n"
     ]
    },
    {
     "name": "stderr",
     "output_type": "stream",
     "text": [
      "                                                             "
     ]
    },
    {
     "name": "stdout",
     "output_type": "stream",
     "text": [
      "\n",
      "📦 Epoch 8 — Train Loss: 0.0058\n",
      "\n",
      "✅ Validation Accuracy: 0.7958\n"
     ]
    },
    {
     "name": "stderr",
     "output_type": "stream",
     "text": [
      "                                                             "
     ]
    },
    {
     "name": "stdout",
     "output_type": "stream",
     "text": [
      "\n",
      "📦 Epoch 9 — Train Loss: 0.0055\n",
      "\n",
      "✅ Validation Accuracy: 0.8333\n"
     ]
    },
    {
     "name": "stderr",
     "output_type": "stream",
     "text": [
      "                                                              "
     ]
    },
    {
     "name": "stdout",
     "output_type": "stream",
     "text": [
      "\n",
      "📦 Epoch 10 — Train Loss: 0.0042\n",
      "\n",
      "✅ Validation Accuracy: 0.8125\n",
      "\n",
      "🔍 Testing config: {'hidden_dim': 128, 'num_layers': 2, 'dropout': 0.5, 'lr': 0.0005, 'batch_size': 64}\n"
     ]
    },
    {
     "name": "stderr",
     "output_type": "stream",
     "text": [
      "                                                           "
     ]
    },
    {
     "name": "stdout",
     "output_type": "stream",
     "text": [
      "\n",
      "📦 Epoch 1 — Train Loss: 0.1957\n",
      "\n",
      "✅ Validation Accuracy: 0.6083\n"
     ]
    },
    {
     "name": "stderr",
     "output_type": "stream",
     "text": [
      "                                                           "
     ]
    },
    {
     "name": "stdout",
     "output_type": "stream",
     "text": [
      "\n",
      "📦 Epoch 2 — Train Loss: 0.0879\n",
      "\n",
      "✅ Validation Accuracy: 0.8458\n"
     ]
    },
    {
     "name": "stderr",
     "output_type": "stream",
     "text": [
      "                                                           "
     ]
    },
    {
     "name": "stdout",
     "output_type": "stream",
     "text": [
      "\n",
      "📦 Epoch 3 — Train Loss: 0.0364\n",
      "\n",
      "✅ Validation Accuracy: 0.8667\n"
     ]
    },
    {
     "name": "stderr",
     "output_type": "stream",
     "text": [
      "                                                           "
     ]
    },
    {
     "name": "stdout",
     "output_type": "stream",
     "text": [
      "\n",
      "📦 Epoch 4 — Train Loss: 0.0207\n",
      "\n",
      "✅ Validation Accuracy: 0.8833\n"
     ]
    },
    {
     "name": "stderr",
     "output_type": "stream",
     "text": [
      "                                                           "
     ]
    },
    {
     "name": "stdout",
     "output_type": "stream",
     "text": [
      "\n",
      "📦 Epoch 5 — Train Loss: 0.0096\n",
      "\n",
      "✅ Validation Accuracy: 0.8833\n"
     ]
    },
    {
     "name": "stderr",
     "output_type": "stream",
     "text": [
      "                                                           "
     ]
    },
    {
     "name": "stdout",
     "output_type": "stream",
     "text": [
      "\n",
      "📦 Epoch 6 — Train Loss: 0.0120\n",
      "\n",
      "✅ Validation Accuracy: 0.8708\n"
     ]
    },
    {
     "name": "stderr",
     "output_type": "stream",
     "text": [
      "                                                           "
     ]
    },
    {
     "name": "stdout",
     "output_type": "stream",
     "text": [
      "\n",
      "📦 Epoch 7 — Train Loss: 0.0057\n",
      "\n",
      "✅ Validation Accuracy: 0.8542\n"
     ]
    },
    {
     "name": "stderr",
     "output_type": "stream",
     "text": [
      "                                                           "
     ]
    },
    {
     "name": "stdout",
     "output_type": "stream",
     "text": [
      "\n",
      "📦 Epoch 8 — Train Loss: 0.0052\n",
      "\n",
      "✅ Validation Accuracy: 0.8458\n"
     ]
    },
    {
     "name": "stderr",
     "output_type": "stream",
     "text": [
      "                                                           "
     ]
    },
    {
     "name": "stdout",
     "output_type": "stream",
     "text": [
      "\n",
      "📦 Epoch 9 — Train Loss: 0.0027\n",
      "\n",
      "✅ Validation Accuracy: 0.8208\n"
     ]
    },
    {
     "name": "stderr",
     "output_type": "stream",
     "text": [
      "                                                            "
     ]
    },
    {
     "name": "stdout",
     "output_type": "stream",
     "text": [
      "\n",
      "📦 Epoch 10 — Train Loss: 0.0025\n",
      "\n",
      "✅ Validation Accuracy: 0.8167\n",
      "\n",
      "🔍 Testing config: {'hidden_dim': 256, 'num_layers': 1, 'dropout': 0.3, 'lr': 0.001, 'batch_size': 32}\n"
     ]
    },
    {
     "name": "stderr",
     "output_type": "stream",
     "text": [
      "                                                             "
     ]
    },
    {
     "name": "stdout",
     "output_type": "stream",
     "text": [
      "\n",
      "📦 Epoch 1 — Train Loss: 0.1420\n",
      "\n",
      "✅ Validation Accuracy: 0.7917\n"
     ]
    },
    {
     "name": "stderr",
     "output_type": "stream",
     "text": [
      "                                                             "
     ]
    },
    {
     "name": "stdout",
     "output_type": "stream",
     "text": [
      "\n",
      "📦 Epoch 2 — Train Loss: 0.0462\n",
      "\n",
      "✅ Validation Accuracy: 0.8417\n"
     ]
    },
    {
     "name": "stderr",
     "output_type": "stream",
     "text": [
      "                                                             "
     ]
    },
    {
     "name": "stdout",
     "output_type": "stream",
     "text": [
      "\n",
      "📦 Epoch 3 — Train Loss: 0.0194\n",
      "\n",
      "✅ Validation Accuracy: 0.8667\n"
     ]
    },
    {
     "name": "stderr",
     "output_type": "stream",
     "text": [
      "                                                             "
     ]
    },
    {
     "name": "stdout",
     "output_type": "stream",
     "text": [
      "\n",
      "📦 Epoch 4 — Train Loss: 0.0107\n",
      "\n",
      "✅ Validation Accuracy: 0.8042\n"
     ]
    },
    {
     "name": "stderr",
     "output_type": "stream",
     "text": [
      "                                                             "
     ]
    },
    {
     "name": "stdout",
     "output_type": "stream",
     "text": [
      "\n",
      "📦 Epoch 5 — Train Loss: 0.0095\n",
      "\n",
      "✅ Validation Accuracy: 0.8250\n"
     ]
    },
    {
     "name": "stderr",
     "output_type": "stream",
     "text": [
      "                                                             "
     ]
    },
    {
     "name": "stdout",
     "output_type": "stream",
     "text": [
      "\n",
      "📦 Epoch 6 — Train Loss: 0.0054\n",
      "\n",
      "✅ Validation Accuracy: 0.8208\n"
     ]
    },
    {
     "name": "stderr",
     "output_type": "stream",
     "text": [
      "                                                             "
     ]
    },
    {
     "name": "stdout",
     "output_type": "stream",
     "text": [
      "\n",
      "📦 Epoch 7 — Train Loss: 0.0040\n",
      "\n",
      "✅ Validation Accuracy: 0.8417\n"
     ]
    },
    {
     "name": "stderr",
     "output_type": "stream",
     "text": [
      "                                                             "
     ]
    },
    {
     "name": "stdout",
     "output_type": "stream",
     "text": [
      "\n",
      "📦 Epoch 8 — Train Loss: 0.0013\n",
      "\n",
      "✅ Validation Accuracy: 0.8375\n"
     ]
    },
    {
     "name": "stderr",
     "output_type": "stream",
     "text": [
      "                                                             "
     ]
    },
    {
     "name": "stdout",
     "output_type": "stream",
     "text": [
      "\n",
      "📦 Epoch 9 — Train Loss: 0.0008\n",
      "\n",
      "✅ Validation Accuracy: 0.8125\n"
     ]
    },
    {
     "name": "stderr",
     "output_type": "stream",
     "text": [
      "                                                              "
     ]
    },
    {
     "name": "stdout",
     "output_type": "stream",
     "text": [
      "\n",
      "📦 Epoch 10 — Train Loss: 0.0004\n",
      "\n",
      "✅ Validation Accuracy: 0.8375\n",
      "\n",
      "🔍 Testing config: {'hidden_dim': 256, 'num_layers': 1, 'dropout': 0.3, 'lr': 0.001, 'batch_size': 64}\n"
     ]
    },
    {
     "name": "stderr",
     "output_type": "stream",
     "text": [
      "                                                           "
     ]
    },
    {
     "name": "stdout",
     "output_type": "stream",
     "text": [
      "\n",
      "📦 Epoch 1 — Train Loss: 0.1765\n",
      "\n",
      "✅ Validation Accuracy: 0.7208\n"
     ]
    },
    {
     "name": "stderr",
     "output_type": "stream",
     "text": [
      "                                                           "
     ]
    },
    {
     "name": "stdout",
     "output_type": "stream",
     "text": [
      "\n",
      "📦 Epoch 2 — Train Loss: 0.0731\n",
      "\n",
      "✅ Validation Accuracy: 0.8333\n"
     ]
    },
    {
     "name": "stderr",
     "output_type": "stream",
     "text": [
      "                                                           "
     ]
    },
    {
     "name": "stdout",
     "output_type": "stream",
     "text": [
      "\n",
      "📦 Epoch 3 — Train Loss: 0.0314\n",
      "\n",
      "✅ Validation Accuracy: 0.8417\n"
     ]
    },
    {
     "name": "stderr",
     "output_type": "stream",
     "text": [
      "                                                           "
     ]
    },
    {
     "name": "stdout",
     "output_type": "stream",
     "text": [
      "\n",
      "📦 Epoch 4 — Train Loss: 0.0126\n",
      "\n",
      "✅ Validation Accuracy: 0.8458\n"
     ]
    },
    {
     "name": "stderr",
     "output_type": "stream",
     "text": [
      "                                                           "
     ]
    },
    {
     "name": "stdout",
     "output_type": "stream",
     "text": [
      "\n",
      "📦 Epoch 5 — Train Loss: 0.0088\n",
      "\n",
      "✅ Validation Accuracy: 0.8417\n"
     ]
    },
    {
     "name": "stderr",
     "output_type": "stream",
     "text": [
      "                                                           "
     ]
    },
    {
     "name": "stdout",
     "output_type": "stream",
     "text": [
      "\n",
      "📦 Epoch 6 — Train Loss: 0.0058\n",
      "\n",
      "✅ Validation Accuracy: 0.8292\n"
     ]
    },
    {
     "name": "stderr",
     "output_type": "stream",
     "text": [
      "                                                           "
     ]
    },
    {
     "name": "stdout",
     "output_type": "stream",
     "text": [
      "\n",
      "📦 Epoch 7 — Train Loss: 0.0034\n",
      "\n",
      "✅ Validation Accuracy: 0.8250\n"
     ]
    },
    {
     "name": "stderr",
     "output_type": "stream",
     "text": [
      "                                                           "
     ]
    },
    {
     "name": "stdout",
     "output_type": "stream",
     "text": [
      "\n",
      "📦 Epoch 8 — Train Loss: 0.0032\n",
      "\n",
      "✅ Validation Accuracy: 0.8375\n"
     ]
    },
    {
     "name": "stderr",
     "output_type": "stream",
     "text": [
      "                                                           "
     ]
    },
    {
     "name": "stdout",
     "output_type": "stream",
     "text": [
      "\n",
      "📦 Epoch 9 — Train Loss: 0.0019\n",
      "\n",
      "✅ Validation Accuracy: 0.7958\n"
     ]
    },
    {
     "name": "stderr",
     "output_type": "stream",
     "text": [
      "                                                            "
     ]
    },
    {
     "name": "stdout",
     "output_type": "stream",
     "text": [
      "\n",
      "📦 Epoch 10 — Train Loss: 0.0051\n",
      "\n",
      "✅ Validation Accuracy: 0.8458\n",
      "\n",
      "🔍 Testing config: {'hidden_dim': 256, 'num_layers': 1, 'dropout': 0.3, 'lr': 0.0005, 'batch_size': 32}\n"
     ]
    },
    {
     "name": "stderr",
     "output_type": "stream",
     "text": [
      "                                                             "
     ]
    },
    {
     "name": "stdout",
     "output_type": "stream",
     "text": [
      "\n",
      "📦 Epoch 1 — Train Loss: 0.1591\n",
      "\n",
      "✅ Validation Accuracy: 0.7750\n"
     ]
    },
    {
     "name": "stderr",
     "output_type": "stream",
     "text": [
      "                                                             "
     ]
    },
    {
     "name": "stdout",
     "output_type": "stream",
     "text": [
      "\n",
      "📦 Epoch 2 — Train Loss: 0.0685\n",
      "\n",
      "✅ Validation Accuracy: 0.8458\n"
     ]
    },
    {
     "name": "stderr",
     "output_type": "stream",
     "text": [
      "                                                             "
     ]
    },
    {
     "name": "stdout",
     "output_type": "stream",
     "text": [
      "\n",
      "📦 Epoch 3 — Train Loss: 0.0366\n",
      "\n",
      "✅ Validation Accuracy: 0.8458\n"
     ]
    },
    {
     "name": "stderr",
     "output_type": "stream",
     "text": [
      "                                                             "
     ]
    },
    {
     "name": "stdout",
     "output_type": "stream",
     "text": [
      "\n",
      "📦 Epoch 4 — Train Loss: 0.0155\n",
      "\n",
      "✅ Validation Accuracy: 0.8792\n"
     ]
    },
    {
     "name": "stderr",
     "output_type": "stream",
     "text": [
      "                                                             "
     ]
    },
    {
     "name": "stdout",
     "output_type": "stream",
     "text": [
      "\n",
      "📦 Epoch 5 — Train Loss: 0.0146\n",
      "\n",
      "✅ Validation Accuracy: 0.8667\n"
     ]
    },
    {
     "name": "stderr",
     "output_type": "stream",
     "text": [
      "                                                             "
     ]
    },
    {
     "name": "stdout",
     "output_type": "stream",
     "text": [
      "\n",
      "📦 Epoch 6 — Train Loss: 0.0075\n",
      "\n",
      "✅ Validation Accuracy: 0.8000\n"
     ]
    },
    {
     "name": "stderr",
     "output_type": "stream",
     "text": [
      "                                                             "
     ]
    },
    {
     "name": "stdout",
     "output_type": "stream",
     "text": [
      "\n",
      "📦 Epoch 7 — Train Loss: 0.0113\n",
      "\n",
      "✅ Validation Accuracy: 0.8583\n"
     ]
    },
    {
     "name": "stderr",
     "output_type": "stream",
     "text": [
      "                                                             "
     ]
    },
    {
     "name": "stdout",
     "output_type": "stream",
     "text": [
      "\n",
      "📦 Epoch 8 — Train Loss: 0.0031\n",
      "\n",
      "✅ Validation Accuracy: 0.8375\n"
     ]
    },
    {
     "name": "stderr",
     "output_type": "stream",
     "text": [
      "                                                             "
     ]
    },
    {
     "name": "stdout",
     "output_type": "stream",
     "text": [
      "\n",
      "📦 Epoch 9 — Train Loss: 0.0017\n",
      "\n",
      "✅ Validation Accuracy: 0.8292\n"
     ]
    },
    {
     "name": "stderr",
     "output_type": "stream",
     "text": [
      "                                                              "
     ]
    },
    {
     "name": "stdout",
     "output_type": "stream",
     "text": [
      "\n",
      "📦 Epoch 10 — Train Loss: 0.0034\n",
      "\n",
      "✅ Validation Accuracy: 0.8542\n",
      "\n",
      "🔍 Testing config: {'hidden_dim': 256, 'num_layers': 1, 'dropout': 0.3, 'lr': 0.0005, 'batch_size': 64}\n"
     ]
    },
    {
     "name": "stderr",
     "output_type": "stream",
     "text": [
      "                                                           "
     ]
    },
    {
     "name": "stdout",
     "output_type": "stream",
     "text": [
      "\n",
      "📦 Epoch 1 — Train Loss: 0.2017\n",
      "\n",
      "✅ Validation Accuracy: 0.5542\n"
     ]
    },
    {
     "name": "stderr",
     "output_type": "stream",
     "text": [
      "                                                           "
     ]
    },
    {
     "name": "stdout",
     "output_type": "stream",
     "text": [
      "\n",
      "📦 Epoch 2 — Train Loss: 0.0966\n",
      "\n",
      "✅ Validation Accuracy: 0.8125\n"
     ]
    },
    {
     "name": "stderr",
     "output_type": "stream",
     "text": [
      "                                                           "
     ]
    },
    {
     "name": "stdout",
     "output_type": "stream",
     "text": [
      "\n",
      "📦 Epoch 3 — Train Loss: 0.0522\n",
      "\n",
      "✅ Validation Accuracy: 0.8458\n"
     ]
    },
    {
     "name": "stderr",
     "output_type": "stream",
     "text": [
      "                                                           "
     ]
    },
    {
     "name": "stdout",
     "output_type": "stream",
     "text": [
      "\n",
      "📦 Epoch 4 — Train Loss: 0.0313\n",
      "\n",
      "✅ Validation Accuracy: 0.8750\n"
     ]
    },
    {
     "name": "stderr",
     "output_type": "stream",
     "text": [
      "                                                           "
     ]
    },
    {
     "name": "stdout",
     "output_type": "stream",
     "text": [
      "\n",
      "📦 Epoch 5 — Train Loss: 0.0179\n",
      "\n",
      "✅ Validation Accuracy: 0.8625\n"
     ]
    },
    {
     "name": "stderr",
     "output_type": "stream",
     "text": [
      "                                                           "
     ]
    },
    {
     "name": "stdout",
     "output_type": "stream",
     "text": [
      "\n",
      "📦 Epoch 6 — Train Loss: 0.0092\n",
      "\n",
      "✅ Validation Accuracy: 0.8208\n"
     ]
    },
    {
     "name": "stderr",
     "output_type": "stream",
     "text": [
      "                                                           "
     ]
    },
    {
     "name": "stdout",
     "output_type": "stream",
     "text": [
      "\n",
      "📦 Epoch 7 — Train Loss: 0.0143\n",
      "\n",
      "✅ Validation Accuracy: 0.8542\n"
     ]
    },
    {
     "name": "stderr",
     "output_type": "stream",
     "text": [
      "                                                           "
     ]
    },
    {
     "name": "stdout",
     "output_type": "stream",
     "text": [
      "\n",
      "📦 Epoch 8 — Train Loss: 0.0058\n",
      "\n",
      "✅ Validation Accuracy: 0.8667\n"
     ]
    },
    {
     "name": "stderr",
     "output_type": "stream",
     "text": [
      "                                                           "
     ]
    },
    {
     "name": "stdout",
     "output_type": "stream",
     "text": [
      "\n",
      "📦 Epoch 9 — Train Loss: 0.0036\n",
      "\n",
      "✅ Validation Accuracy: 0.8542\n"
     ]
    },
    {
     "name": "stderr",
     "output_type": "stream",
     "text": [
      "                                                            "
     ]
    },
    {
     "name": "stdout",
     "output_type": "stream",
     "text": [
      "\n",
      "📦 Epoch 10 — Train Loss: 0.0022\n",
      "\n",
      "✅ Validation Accuracy: 0.8458\n",
      "\n",
      "🔍 Testing config: {'hidden_dim': 256, 'num_layers': 1, 'dropout': 0.5, 'lr': 0.001, 'batch_size': 32}\n"
     ]
    },
    {
     "name": "stderr",
     "output_type": "stream",
     "text": [
      "                                                             "
     ]
    },
    {
     "name": "stdout",
     "output_type": "stream",
     "text": [
      "\n",
      "📦 Epoch 1 — Train Loss: 0.1396\n",
      "\n",
      "✅ Validation Accuracy: 0.8375\n"
     ]
    },
    {
     "name": "stderr",
     "output_type": "stream",
     "text": [
      "                                                             "
     ]
    },
    {
     "name": "stdout",
     "output_type": "stream",
     "text": [
      "\n",
      "📦 Epoch 2 — Train Loss: 0.0496\n",
      "\n",
      "✅ Validation Accuracy: 0.8792\n"
     ]
    },
    {
     "name": "stderr",
     "output_type": "stream",
     "text": [
      "                                                             "
     ]
    },
    {
     "name": "stdout",
     "output_type": "stream",
     "text": [
      "\n",
      "📦 Epoch 3 — Train Loss: 0.0181\n",
      "\n",
      "✅ Validation Accuracy: 0.8583\n"
     ]
    },
    {
     "name": "stderr",
     "output_type": "stream",
     "text": [
      "                                                             "
     ]
    },
    {
     "name": "stdout",
     "output_type": "stream",
     "text": [
      "\n",
      "📦 Epoch 4 — Train Loss: 0.0139\n",
      "\n",
      "✅ Validation Accuracy: 0.8500\n"
     ]
    },
    {
     "name": "stderr",
     "output_type": "stream",
     "text": [
      "                                                             "
     ]
    },
    {
     "name": "stdout",
     "output_type": "stream",
     "text": [
      "\n",
      "📦 Epoch 5 — Train Loss: 0.0104\n",
      "\n",
      "✅ Validation Accuracy: 0.8667\n"
     ]
    },
    {
     "name": "stderr",
     "output_type": "stream",
     "text": [
      "                                                             "
     ]
    },
    {
     "name": "stdout",
     "output_type": "stream",
     "text": [
      "\n",
      "📦 Epoch 6 — Train Loss: 0.0081\n",
      "\n",
      "✅ Validation Accuracy: 0.8458\n"
     ]
    },
    {
     "name": "stderr",
     "output_type": "stream",
     "text": [
      "                                                             "
     ]
    },
    {
     "name": "stdout",
     "output_type": "stream",
     "text": [
      "\n",
      "📦 Epoch 7 — Train Loss: 0.0036\n",
      "\n",
      "✅ Validation Accuracy: 0.8458\n"
     ]
    },
    {
     "name": "stderr",
     "output_type": "stream",
     "text": [
      "                                                             "
     ]
    },
    {
     "name": "stdout",
     "output_type": "stream",
     "text": [
      "\n",
      "📦 Epoch 8 — Train Loss: 0.0087\n",
      "\n",
      "✅ Validation Accuracy: 0.8083\n"
     ]
    },
    {
     "name": "stderr",
     "output_type": "stream",
     "text": [
      "                                                             "
     ]
    },
    {
     "name": "stdout",
     "output_type": "stream",
     "text": [
      "\n",
      "📦 Epoch 9 — Train Loss: 0.0030\n",
      "\n",
      "✅ Validation Accuracy: 0.8042\n"
     ]
    },
    {
     "name": "stderr",
     "output_type": "stream",
     "text": [
      "                                                              "
     ]
    },
    {
     "name": "stdout",
     "output_type": "stream",
     "text": [
      "\n",
      "📦 Epoch 10 — Train Loss: 0.0012\n",
      "\n",
      "✅ Validation Accuracy: 0.8458\n",
      "\n",
      "🔍 Testing config: {'hidden_dim': 256, 'num_layers': 1, 'dropout': 0.5, 'lr': 0.001, 'batch_size': 64}\n"
     ]
    },
    {
     "name": "stderr",
     "output_type": "stream",
     "text": [
      "                                                           "
     ]
    },
    {
     "name": "stdout",
     "output_type": "stream",
     "text": [
      "\n",
      "📦 Epoch 1 — Train Loss: 0.1678\n",
      "\n",
      "✅ Validation Accuracy: 0.7833\n"
     ]
    },
    {
     "name": "stderr",
     "output_type": "stream",
     "text": [
      "                                                           "
     ]
    },
    {
     "name": "stdout",
     "output_type": "stream",
     "text": [
      "\n",
      "📦 Epoch 2 — Train Loss: 0.0603\n",
      "\n",
      "✅ Validation Accuracy: 0.8208\n"
     ]
    },
    {
     "name": "stderr",
     "output_type": "stream",
     "text": [
      "                                                           "
     ]
    },
    {
     "name": "stdout",
     "output_type": "stream",
     "text": [
      "\n",
      "📦 Epoch 3 — Train Loss: 0.0279\n",
      "\n",
      "✅ Validation Accuracy: 0.8375\n"
     ]
    },
    {
     "name": "stderr",
     "output_type": "stream",
     "text": [
      "                                                           "
     ]
    },
    {
     "name": "stdout",
     "output_type": "stream",
     "text": [
      "\n",
      "📦 Epoch 4 — Train Loss: 0.0109\n",
      "\n",
      "✅ Validation Accuracy: 0.7750\n"
     ]
    },
    {
     "name": "stderr",
     "output_type": "stream",
     "text": [
      "                                                           "
     ]
    },
    {
     "name": "stdout",
     "output_type": "stream",
     "text": [
      "\n",
      "📦 Epoch 5 — Train Loss: 0.0075\n",
      "\n",
      "✅ Validation Accuracy: 0.7917\n"
     ]
    },
    {
     "name": "stderr",
     "output_type": "stream",
     "text": [
      "                                                           "
     ]
    },
    {
     "name": "stdout",
     "output_type": "stream",
     "text": [
      "\n",
      "📦 Epoch 6 — Train Loss: 0.0048\n",
      "\n",
      "✅ Validation Accuracy: 0.7958\n"
     ]
    },
    {
     "name": "stderr",
     "output_type": "stream",
     "text": [
      "                                                           "
     ]
    },
    {
     "name": "stdout",
     "output_type": "stream",
     "text": [
      "\n",
      "📦 Epoch 7 — Train Loss: 0.0121\n",
      "\n",
      "✅ Validation Accuracy: 0.8417\n"
     ]
    },
    {
     "name": "stderr",
     "output_type": "stream",
     "text": [
      "                                                           "
     ]
    },
    {
     "name": "stdout",
     "output_type": "stream",
     "text": [
      "\n",
      "📦 Epoch 8 — Train Loss: 0.0145\n",
      "\n",
      "✅ Validation Accuracy: 0.8000\n"
     ]
    },
    {
     "name": "stderr",
     "output_type": "stream",
     "text": [
      "                                                           "
     ]
    },
    {
     "name": "stdout",
     "output_type": "stream",
     "text": [
      "\n",
      "📦 Epoch 9 — Train Loss: 0.0033\n",
      "\n",
      "✅ Validation Accuracy: 0.8417\n"
     ]
    },
    {
     "name": "stderr",
     "output_type": "stream",
     "text": [
      "                                                            "
     ]
    },
    {
     "name": "stdout",
     "output_type": "stream",
     "text": [
      "\n",
      "📦 Epoch 10 — Train Loss: 0.0020\n",
      "\n",
      "✅ Validation Accuracy: 0.8000\n",
      "\n",
      "🔍 Testing config: {'hidden_dim': 256, 'num_layers': 1, 'dropout': 0.5, 'lr': 0.0005, 'batch_size': 32}\n"
     ]
    },
    {
     "name": "stderr",
     "output_type": "stream",
     "text": [
      "                                                             "
     ]
    },
    {
     "name": "stdout",
     "output_type": "stream",
     "text": [
      "\n",
      "📦 Epoch 1 — Train Loss: 0.1673\n",
      "\n",
      "✅ Validation Accuracy: 0.6833\n"
     ]
    },
    {
     "name": "stderr",
     "output_type": "stream",
     "text": [
      "                                                             "
     ]
    },
    {
     "name": "stdout",
     "output_type": "stream",
     "text": [
      "\n",
      "📦 Epoch 2 — Train Loss: 0.0801\n",
      "\n",
      "✅ Validation Accuracy: 0.8208\n"
     ]
    },
    {
     "name": "stderr",
     "output_type": "stream",
     "text": [
      "                                                             "
     ]
    },
    {
     "name": "stdout",
     "output_type": "stream",
     "text": [
      "\n",
      "📦 Epoch 3 — Train Loss: 0.0400\n",
      "\n",
      "✅ Validation Accuracy: 0.8208\n"
     ]
    },
    {
     "name": "stderr",
     "output_type": "stream",
     "text": [
      "                                                             "
     ]
    },
    {
     "name": "stdout",
     "output_type": "stream",
     "text": [
      "\n",
      "📦 Epoch 4 — Train Loss: 0.0187\n",
      "\n",
      "✅ Validation Accuracy: 0.8542\n"
     ]
    },
    {
     "name": "stderr",
     "output_type": "stream",
     "text": [
      "                                                             "
     ]
    },
    {
     "name": "stdout",
     "output_type": "stream",
     "text": [
      "\n",
      "📦 Epoch 5 — Train Loss: 0.0184\n",
      "\n",
      "✅ Validation Accuracy: 0.8708\n"
     ]
    },
    {
     "name": "stderr",
     "output_type": "stream",
     "text": [
      "                                                             "
     ]
    },
    {
     "name": "stdout",
     "output_type": "stream",
     "text": [
      "\n",
      "📦 Epoch 6 — Train Loss: 0.0135\n",
      "\n",
      "✅ Validation Accuracy: 0.8458\n"
     ]
    },
    {
     "name": "stderr",
     "output_type": "stream",
     "text": [
      "                                                             "
     ]
    },
    {
     "name": "stdout",
     "output_type": "stream",
     "text": [
      "\n",
      "📦 Epoch 7 — Train Loss: 0.0062\n",
      "\n",
      "✅ Validation Accuracy: 0.8292\n"
     ]
    },
    {
     "name": "stderr",
     "output_type": "stream",
     "text": [
      "                                                             "
     ]
    },
    {
     "name": "stdout",
     "output_type": "stream",
     "text": [
      "\n",
      "📦 Epoch 8 — Train Loss: 0.0040\n",
      "\n",
      "✅ Validation Accuracy: 0.8375\n"
     ]
    },
    {
     "name": "stderr",
     "output_type": "stream",
     "text": [
      "                                                             "
     ]
    },
    {
     "name": "stdout",
     "output_type": "stream",
     "text": [
      "\n",
      "📦 Epoch 9 — Train Loss: 0.0043\n",
      "\n",
      "✅ Validation Accuracy: 0.8417\n"
     ]
    },
    {
     "name": "stderr",
     "output_type": "stream",
     "text": [
      "                                                              "
     ]
    },
    {
     "name": "stdout",
     "output_type": "stream",
     "text": [
      "\n",
      "📦 Epoch 10 — Train Loss: 0.0049\n",
      "\n",
      "✅ Validation Accuracy: 0.8542\n",
      "\n",
      "🔍 Testing config: {'hidden_dim': 256, 'num_layers': 1, 'dropout': 0.5, 'lr': 0.0005, 'batch_size': 64}\n"
     ]
    },
    {
     "name": "stderr",
     "output_type": "stream",
     "text": [
      "                                                           "
     ]
    },
    {
     "name": "stdout",
     "output_type": "stream",
     "text": [
      "\n",
      "📦 Epoch 1 — Train Loss: 0.1911\n",
      "\n",
      "✅ Validation Accuracy: 0.5542\n"
     ]
    },
    {
     "name": "stderr",
     "output_type": "stream",
     "text": [
      "                                                           "
     ]
    },
    {
     "name": "stdout",
     "output_type": "stream",
     "text": [
      "\n",
      "📦 Epoch 2 — Train Loss: 0.1100\n",
      "\n",
      "✅ Validation Accuracy: 0.7042\n"
     ]
    },
    {
     "name": "stderr",
     "output_type": "stream",
     "text": [
      "                                                           "
     ]
    },
    {
     "name": "stdout",
     "output_type": "stream",
     "text": [
      "\n",
      "📦 Epoch 3 — Train Loss: 0.0620\n",
      "\n",
      "✅ Validation Accuracy: 0.8458\n"
     ]
    },
    {
     "name": "stderr",
     "output_type": "stream",
     "text": [
      "                                                           "
     ]
    },
    {
     "name": "stdout",
     "output_type": "stream",
     "text": [
      "\n",
      "📦 Epoch 4 — Train Loss: 0.0382\n",
      "\n",
      "✅ Validation Accuracy: 0.8542\n"
     ]
    },
    {
     "name": "stderr",
     "output_type": "stream",
     "text": [
      "                                                           "
     ]
    },
    {
     "name": "stdout",
     "output_type": "stream",
     "text": [
      "\n",
      "📦 Epoch 5 — Train Loss: 0.0304\n",
      "\n",
      "✅ Validation Accuracy: 0.8125\n"
     ]
    },
    {
     "name": "stderr",
     "output_type": "stream",
     "text": [
      "                                                           "
     ]
    },
    {
     "name": "stdout",
     "output_type": "stream",
     "text": [
      "\n",
      "📦 Epoch 6 — Train Loss: 0.0381\n",
      "\n",
      "✅ Validation Accuracy: 0.8458\n"
     ]
    },
    {
     "name": "stderr",
     "output_type": "stream",
     "text": [
      "                                                           "
     ]
    },
    {
     "name": "stdout",
     "output_type": "stream",
     "text": [
      "\n",
      "📦 Epoch 7 — Train Loss: 0.0097\n",
      "\n",
      "✅ Validation Accuracy: 0.8417\n"
     ]
    },
    {
     "name": "stderr",
     "output_type": "stream",
     "text": [
      "                                                           "
     ]
    },
    {
     "name": "stdout",
     "output_type": "stream",
     "text": [
      "\n",
      "📦 Epoch 8 — Train Loss: 0.0211\n",
      "\n",
      "✅ Validation Accuracy: 0.7917\n"
     ]
    },
    {
     "name": "stderr",
     "output_type": "stream",
     "text": [
      "                                                           "
     ]
    },
    {
     "name": "stdout",
     "output_type": "stream",
     "text": [
      "\n",
      "📦 Epoch 9 — Train Loss: 0.0147\n",
      "\n",
      "✅ Validation Accuracy: 0.8417\n"
     ]
    },
    {
     "name": "stderr",
     "output_type": "stream",
     "text": [
      "                                                            "
     ]
    },
    {
     "name": "stdout",
     "output_type": "stream",
     "text": [
      "\n",
      "📦 Epoch 10 — Train Loss: 0.0250\n",
      "\n",
      "✅ Validation Accuracy: 0.8458\n",
      "\n",
      "🔍 Testing config: {'hidden_dim': 256, 'num_layers': 2, 'dropout': 0.3, 'lr': 0.001, 'batch_size': 32}\n"
     ]
    },
    {
     "name": "stderr",
     "output_type": "stream",
     "text": [
      "                                                             "
     ]
    },
    {
     "name": "stdout",
     "output_type": "stream",
     "text": [
      "\n",
      "📦 Epoch 1 — Train Loss: 0.1202\n",
      "\n",
      "✅ Validation Accuracy: 0.8125\n"
     ]
    },
    {
     "name": "stderr",
     "output_type": "stream",
     "text": [
      "                                                             "
     ]
    },
    {
     "name": "stdout",
     "output_type": "stream",
     "text": [
      "\n",
      "📦 Epoch 2 — Train Loss: 0.0479\n",
      "\n",
      "✅ Validation Accuracy: 0.8417\n"
     ]
    },
    {
     "name": "stderr",
     "output_type": "stream",
     "text": [
      "                                                             "
     ]
    },
    {
     "name": "stdout",
     "output_type": "stream",
     "text": [
      "\n",
      "📦 Epoch 3 — Train Loss: 0.0205\n",
      "\n",
      "✅ Validation Accuracy: 0.8167\n"
     ]
    },
    {
     "name": "stderr",
     "output_type": "stream",
     "text": [
      "                                                             "
     ]
    },
    {
     "name": "stdout",
     "output_type": "stream",
     "text": [
      "\n",
      "📦 Epoch 4 — Train Loss: 0.0117\n",
      "\n",
      "✅ Validation Accuracy: 0.8667\n"
     ]
    },
    {
     "name": "stderr",
     "output_type": "stream",
     "text": [
      "                                                             "
     ]
    },
    {
     "name": "stdout",
     "output_type": "stream",
     "text": [
      "\n",
      "📦 Epoch 5 — Train Loss: 0.0048\n",
      "\n",
      "✅ Validation Accuracy: 0.8458\n"
     ]
    },
    {
     "name": "stderr",
     "output_type": "stream",
     "text": [
      "                                                             "
     ]
    },
    {
     "name": "stdout",
     "output_type": "stream",
     "text": [
      "\n",
      "📦 Epoch 6 — Train Loss: 0.0072\n",
      "\n",
      "✅ Validation Accuracy: 0.8125\n"
     ]
    },
    {
     "name": "stderr",
     "output_type": "stream",
     "text": [
      "                                                             "
     ]
    },
    {
     "name": "stdout",
     "output_type": "stream",
     "text": [
      "\n",
      "📦 Epoch 7 — Train Loss: 0.0122\n",
      "\n",
      "✅ Validation Accuracy: 0.8250\n"
     ]
    },
    {
     "name": "stderr",
     "output_type": "stream",
     "text": [
      "                                                             "
     ]
    },
    {
     "name": "stdout",
     "output_type": "stream",
     "text": [
      "\n",
      "📦 Epoch 8 — Train Loss: 0.0034\n",
      "\n",
      "✅ Validation Accuracy: 0.8333\n"
     ]
    },
    {
     "name": "stderr",
     "output_type": "stream",
     "text": [
      "                                                             "
     ]
    },
    {
     "name": "stdout",
     "output_type": "stream",
     "text": [
      "\n",
      "📦 Epoch 9 — Train Loss: 0.0036\n",
      "\n",
      "✅ Validation Accuracy: 0.8333\n"
     ]
    },
    {
     "name": "stderr",
     "output_type": "stream",
     "text": [
      "                                                              "
     ]
    },
    {
     "name": "stdout",
     "output_type": "stream",
     "text": [
      "\n",
      "📦 Epoch 10 — Train Loss: 0.0010\n",
      "\n",
      "✅ Validation Accuracy: 0.8333\n",
      "\n",
      "🔍 Testing config: {'hidden_dim': 256, 'num_layers': 2, 'dropout': 0.3, 'lr': 0.001, 'batch_size': 64}\n"
     ]
    },
    {
     "name": "stderr",
     "output_type": "stream",
     "text": [
      "                                                           "
     ]
    },
    {
     "name": "stdout",
     "output_type": "stream",
     "text": [
      "\n",
      "📦 Epoch 1 — Train Loss: 0.1414\n",
      "\n",
      "✅ Validation Accuracy: 0.7583\n"
     ]
    },
    {
     "name": "stderr",
     "output_type": "stream",
     "text": [
      "                                                           "
     ]
    },
    {
     "name": "stdout",
     "output_type": "stream",
     "text": [
      "\n",
      "📦 Epoch 2 — Train Loss: 0.0594\n",
      "\n",
      "✅ Validation Accuracy: 0.8458\n"
     ]
    },
    {
     "name": "stderr",
     "output_type": "stream",
     "text": [
      "                                                           "
     ]
    },
    {
     "name": "stdout",
     "output_type": "stream",
     "text": [
      "\n",
      "📦 Epoch 3 — Train Loss: 0.0245\n",
      "\n",
      "✅ Validation Accuracy: 0.8833\n"
     ]
    },
    {
     "name": "stderr",
     "output_type": "stream",
     "text": [
      "                                                           "
     ]
    },
    {
     "name": "stdout",
     "output_type": "stream",
     "text": [
      "\n",
      "📦 Epoch 4 — Train Loss: 0.0212\n",
      "\n",
      "✅ Validation Accuracy: 0.8542\n"
     ]
    },
    {
     "name": "stderr",
     "output_type": "stream",
     "text": [
      "                                                           "
     ]
    },
    {
     "name": "stdout",
     "output_type": "stream",
     "text": [
      "\n",
      "📦 Epoch 5 — Train Loss: 0.0130\n",
      "\n",
      "✅ Validation Accuracy: 0.8625\n"
     ]
    },
    {
     "name": "stderr",
     "output_type": "stream",
     "text": [
      "                                                           "
     ]
    },
    {
     "name": "stdout",
     "output_type": "stream",
     "text": [
      "\n",
      "📦 Epoch 6 — Train Loss: 0.0099\n",
      "\n",
      "✅ Validation Accuracy: 0.8375\n"
     ]
    },
    {
     "name": "stderr",
     "output_type": "stream",
     "text": [
      "                                                           "
     ]
    },
    {
     "name": "stdout",
     "output_type": "stream",
     "text": [
      "\n",
      "📦 Epoch 7 — Train Loss: 0.0079\n",
      "\n",
      "✅ Validation Accuracy: 0.8250\n"
     ]
    },
    {
     "name": "stderr",
     "output_type": "stream",
     "text": [
      "                                                           "
     ]
    },
    {
     "name": "stdout",
     "output_type": "stream",
     "text": [
      "\n",
      "📦 Epoch 8 — Train Loss: 0.0070\n",
      "\n",
      "✅ Validation Accuracy: 0.8333\n"
     ]
    },
    {
     "name": "stderr",
     "output_type": "stream",
     "text": [
      "                                                           "
     ]
    },
    {
     "name": "stdout",
     "output_type": "stream",
     "text": [
      "\n",
      "📦 Epoch 9 — Train Loss: 0.0086\n",
      "\n",
      "✅ Validation Accuracy: 0.8458\n"
     ]
    },
    {
     "name": "stderr",
     "output_type": "stream",
     "text": [
      "                                                            "
     ]
    },
    {
     "name": "stdout",
     "output_type": "stream",
     "text": [
      "\n",
      "📦 Epoch 10 — Train Loss: 0.0070\n",
      "\n",
      "✅ Validation Accuracy: 0.8000\n",
      "\n",
      "🔍 Testing config: {'hidden_dim': 256, 'num_layers': 2, 'dropout': 0.3, 'lr': 0.0005, 'batch_size': 32}\n"
     ]
    },
    {
     "name": "stderr",
     "output_type": "stream",
     "text": [
      "                                                             "
     ]
    },
    {
     "name": "stdout",
     "output_type": "stream",
     "text": [
      "\n",
      "📦 Epoch 1 — Train Loss: 0.1361\n",
      "\n",
      "✅ Validation Accuracy: 0.8083\n"
     ]
    },
    {
     "name": "stderr",
     "output_type": "stream",
     "text": [
      "                                                             "
     ]
    },
    {
     "name": "stdout",
     "output_type": "stream",
     "text": [
      "\n",
      "📦 Epoch 2 — Train Loss: 0.0541\n",
      "\n",
      "✅ Validation Accuracy: 0.8792\n"
     ]
    },
    {
     "name": "stderr",
     "output_type": "stream",
     "text": [
      "                                                             "
     ]
    },
    {
     "name": "stdout",
     "output_type": "stream",
     "text": [
      "\n",
      "📦 Epoch 3 — Train Loss: 0.0294\n",
      "\n",
      "✅ Validation Accuracy: 0.8625\n"
     ]
    },
    {
     "name": "stderr",
     "output_type": "stream",
     "text": [
      "                                                             "
     ]
    },
    {
     "name": "stdout",
     "output_type": "stream",
     "text": [
      "\n",
      "📦 Epoch 4 — Train Loss: 0.0207\n",
      "\n",
      "✅ Validation Accuracy: 0.8583\n"
     ]
    },
    {
     "name": "stderr",
     "output_type": "stream",
     "text": [
      "                                                             "
     ]
    },
    {
     "name": "stdout",
     "output_type": "stream",
     "text": [
      "\n",
      "📦 Epoch 5 — Train Loss: 0.0148\n",
      "\n",
      "✅ Validation Accuracy: 0.8833\n"
     ]
    },
    {
     "name": "stderr",
     "output_type": "stream",
     "text": [
      "                                                             "
     ]
    },
    {
     "name": "stdout",
     "output_type": "stream",
     "text": [
      "\n",
      "📦 Epoch 6 — Train Loss: 0.0082\n",
      "\n",
      "✅ Validation Accuracy: 0.8667\n"
     ]
    },
    {
     "name": "stderr",
     "output_type": "stream",
     "text": [
      "                                                             "
     ]
    },
    {
     "name": "stdout",
     "output_type": "stream",
     "text": [
      "\n",
      "📦 Epoch 7 — Train Loss: 0.0186\n",
      "\n",
      "✅ Validation Accuracy: 0.8208\n"
     ]
    },
    {
     "name": "stderr",
     "output_type": "stream",
     "text": [
      "                                                             "
     ]
    },
    {
     "name": "stdout",
     "output_type": "stream",
     "text": [
      "\n",
      "📦 Epoch 8 — Train Loss: 0.0101\n",
      "\n",
      "✅ Validation Accuracy: 0.8708\n"
     ]
    },
    {
     "name": "stderr",
     "output_type": "stream",
     "text": [
      "                                                             "
     ]
    },
    {
     "name": "stdout",
     "output_type": "stream",
     "text": [
      "\n",
      "📦 Epoch 9 — Train Loss: 0.0038\n",
      "\n",
      "✅ Validation Accuracy: 0.8292\n"
     ]
    },
    {
     "name": "stderr",
     "output_type": "stream",
     "text": [
      "                                                              "
     ]
    },
    {
     "name": "stdout",
     "output_type": "stream",
     "text": [
      "\n",
      "📦 Epoch 10 — Train Loss: 0.0015\n",
      "\n",
      "✅ Validation Accuracy: 0.8167\n",
      "\n",
      "🔍 Testing config: {'hidden_dim': 256, 'num_layers': 2, 'dropout': 0.3, 'lr': 0.0005, 'batch_size': 64}\n"
     ]
    },
    {
     "name": "stderr",
     "output_type": "stream",
     "text": [
      "                                                           "
     ]
    },
    {
     "name": "stdout",
     "output_type": "stream",
     "text": [
      "\n",
      "📦 Epoch 1 — Train Loss: 0.1736\n",
      "\n",
      "✅ Validation Accuracy: 0.7417\n"
     ]
    },
    {
     "name": "stderr",
     "output_type": "stream",
     "text": [
      "                                                           "
     ]
    },
    {
     "name": "stdout",
     "output_type": "stream",
     "text": [
      "\n",
      "📦 Epoch 2 — Train Loss: 0.0696\n",
      "\n",
      "✅ Validation Accuracy: 0.8625\n"
     ]
    },
    {
     "name": "stderr",
     "output_type": "stream",
     "text": [
      "                                                           "
     ]
    },
    {
     "name": "stdout",
     "output_type": "stream",
     "text": [
      "\n",
      "📦 Epoch 3 — Train Loss: 0.0309\n",
      "\n",
      "✅ Validation Accuracy: 0.8708\n"
     ]
    },
    {
     "name": "stderr",
     "output_type": "stream",
     "text": [
      "                                                           "
     ]
    },
    {
     "name": "stdout",
     "output_type": "stream",
     "text": [
      "\n",
      "📦 Epoch 4 — Train Loss: 0.0179\n",
      "\n",
      "✅ Validation Accuracy: 0.8250\n"
     ]
    },
    {
     "name": "stderr",
     "output_type": "stream",
     "text": [
      "                                                           "
     ]
    },
    {
     "name": "stdout",
     "output_type": "stream",
     "text": [
      "\n",
      "📦 Epoch 5 — Train Loss: 0.0253\n",
      "\n",
      "✅ Validation Accuracy: 0.8250\n"
     ]
    },
    {
     "name": "stderr",
     "output_type": "stream",
     "text": [
      "                                                           "
     ]
    },
    {
     "name": "stdout",
     "output_type": "stream",
     "text": [
      "\n",
      "📦 Epoch 6 — Train Loss: 0.0133\n",
      "\n",
      "✅ Validation Accuracy: 0.8458\n"
     ]
    },
    {
     "name": "stderr",
     "output_type": "stream",
     "text": [
      "                                                           "
     ]
    },
    {
     "name": "stdout",
     "output_type": "stream",
     "text": [
      "\n",
      "📦 Epoch 7 — Train Loss: 0.0111\n",
      "\n",
      "✅ Validation Accuracy: 0.8000\n"
     ]
    },
    {
     "name": "stderr",
     "output_type": "stream",
     "text": [
      "                                                           "
     ]
    },
    {
     "name": "stdout",
     "output_type": "stream",
     "text": [
      "\n",
      "📦 Epoch 8 — Train Loss: 0.0128\n",
      "\n",
      "✅ Validation Accuracy: 0.8458\n"
     ]
    },
    {
     "name": "stderr",
     "output_type": "stream",
     "text": [
      "                                                           "
     ]
    },
    {
     "name": "stdout",
     "output_type": "stream",
     "text": [
      "\n",
      "📦 Epoch 9 — Train Loss: 0.0034\n",
      "\n",
      "✅ Validation Accuracy: 0.8208\n"
     ]
    },
    {
     "name": "stderr",
     "output_type": "stream",
     "text": [
      "                                                            "
     ]
    },
    {
     "name": "stdout",
     "output_type": "stream",
     "text": [
      "\n",
      "📦 Epoch 10 — Train Loss: 0.0025\n",
      "\n",
      "✅ Validation Accuracy: 0.8292\n",
      "\n",
      "🔍 Testing config: {'hidden_dim': 256, 'num_layers': 2, 'dropout': 0.5, 'lr': 0.001, 'batch_size': 32}\n"
     ]
    },
    {
     "name": "stderr",
     "output_type": "stream",
     "text": [
      "                                                             "
     ]
    },
    {
     "name": "stdout",
     "output_type": "stream",
     "text": [
      "\n",
      "📦 Epoch 1 — Train Loss: 0.1268\n",
      "\n",
      "✅ Validation Accuracy: 0.8125\n"
     ]
    },
    {
     "name": "stderr",
     "output_type": "stream",
     "text": [
      "                                                             "
     ]
    },
    {
     "name": "stdout",
     "output_type": "stream",
     "text": [
      "\n",
      "📦 Epoch 2 — Train Loss: 0.0449\n",
      "\n",
      "✅ Validation Accuracy: 0.8125\n"
     ]
    },
    {
     "name": "stderr",
     "output_type": "stream",
     "text": [
      "                                                             "
     ]
    },
    {
     "name": "stdout",
     "output_type": "stream",
     "text": [
      "\n",
      "📦 Epoch 3 — Train Loss: 0.0273\n",
      "\n",
      "✅ Validation Accuracy: 0.8250\n"
     ]
    },
    {
     "name": "stderr",
     "output_type": "stream",
     "text": [
      "                                                             "
     ]
    },
    {
     "name": "stdout",
     "output_type": "stream",
     "text": [
      "\n",
      "📦 Epoch 4 — Train Loss: 0.0202\n",
      "\n",
      "✅ Validation Accuracy: 0.8333\n"
     ]
    },
    {
     "name": "stderr",
     "output_type": "stream",
     "text": [
      "                                                             "
     ]
    },
    {
     "name": "stdout",
     "output_type": "stream",
     "text": [
      "\n",
      "📦 Epoch 5 — Train Loss: 0.0071\n",
      "\n",
      "✅ Validation Accuracy: 0.8375\n"
     ]
    },
    {
     "name": "stderr",
     "output_type": "stream",
     "text": [
      "                                                             "
     ]
    },
    {
     "name": "stdout",
     "output_type": "stream",
     "text": [
      "\n",
      "📦 Epoch 6 — Train Loss: 0.0089\n",
      "\n",
      "✅ Validation Accuracy: 0.8208\n"
     ]
    },
    {
     "name": "stderr",
     "output_type": "stream",
     "text": [
      "                                                             "
     ]
    },
    {
     "name": "stdout",
     "output_type": "stream",
     "text": [
      "\n",
      "📦 Epoch 7 — Train Loss: 0.0038\n",
      "\n",
      "✅ Validation Accuracy: 0.8333\n"
     ]
    },
    {
     "name": "stderr",
     "output_type": "stream",
     "text": [
      "                                                             "
     ]
    },
    {
     "name": "stdout",
     "output_type": "stream",
     "text": [
      "\n",
      "📦 Epoch 8 — Train Loss: 0.0027\n",
      "\n",
      "✅ Validation Accuracy: 0.8208\n"
     ]
    },
    {
     "name": "stderr",
     "output_type": "stream",
     "text": [
      "                                                             "
     ]
    },
    {
     "name": "stdout",
     "output_type": "stream",
     "text": [
      "\n",
      "📦 Epoch 9 — Train Loss: 0.0053\n",
      "\n",
      "✅ Validation Accuracy: 0.8250\n"
     ]
    },
    {
     "name": "stderr",
     "output_type": "stream",
     "text": [
      "                                                              "
     ]
    },
    {
     "name": "stdout",
     "output_type": "stream",
     "text": [
      "\n",
      "📦 Epoch 10 — Train Loss: 0.0030\n",
      "\n",
      "✅ Validation Accuracy: 0.8083\n",
      "\n",
      "🔍 Testing config: {'hidden_dim': 256, 'num_layers': 2, 'dropout': 0.5, 'lr': 0.001, 'batch_size': 64}\n"
     ]
    },
    {
     "name": "stderr",
     "output_type": "stream",
     "text": [
      "                                                           "
     ]
    },
    {
     "name": "stdout",
     "output_type": "stream",
     "text": [
      "\n",
      "📦 Epoch 1 — Train Loss: 0.1636\n",
      "\n",
      "✅ Validation Accuracy: 0.6917\n"
     ]
    },
    {
     "name": "stderr",
     "output_type": "stream",
     "text": [
      "                                                           "
     ]
    },
    {
     "name": "stdout",
     "output_type": "stream",
     "text": [
      "\n",
      "📦 Epoch 2 — Train Loss: 0.0720\n",
      "\n",
      "✅ Validation Accuracy: 0.8125\n"
     ]
    },
    {
     "name": "stderr",
     "output_type": "stream",
     "text": [
      "                                                           "
     ]
    },
    {
     "name": "stdout",
     "output_type": "stream",
     "text": [
      "\n",
      "📦 Epoch 3 — Train Loss: 0.0325\n",
      "\n",
      "✅ Validation Accuracy: 0.8375\n"
     ]
    },
    {
     "name": "stderr",
     "output_type": "stream",
     "text": [
      "                                                           "
     ]
    },
    {
     "name": "stdout",
     "output_type": "stream",
     "text": [
      "\n",
      "📦 Epoch 4 — Train Loss: 0.0162\n",
      "\n",
      "✅ Validation Accuracy: 0.7958\n"
     ]
    },
    {
     "name": "stderr",
     "output_type": "stream",
     "text": [
      "                                                           "
     ]
    },
    {
     "name": "stdout",
     "output_type": "stream",
     "text": [
      "\n",
      "📦 Epoch 5 — Train Loss: 0.0136\n",
      "\n",
      "✅ Validation Accuracy: 0.8292\n"
     ]
    },
    {
     "name": "stderr",
     "output_type": "stream",
     "text": [
      "                                                           "
     ]
    },
    {
     "name": "stdout",
     "output_type": "stream",
     "text": [
      "\n",
      "📦 Epoch 6 — Train Loss: 0.0096\n",
      "\n",
      "✅ Validation Accuracy: 0.8125\n"
     ]
    },
    {
     "name": "stderr",
     "output_type": "stream",
     "text": [
      "                                                           "
     ]
    },
    {
     "name": "stdout",
     "output_type": "stream",
     "text": [
      "\n",
      "📦 Epoch 7 — Train Loss: 0.0092\n",
      "\n",
      "✅ Validation Accuracy: 0.8167\n"
     ]
    },
    {
     "name": "stderr",
     "output_type": "stream",
     "text": [
      "                                                           "
     ]
    },
    {
     "name": "stdout",
     "output_type": "stream",
     "text": [
      "\n",
      "📦 Epoch 8 — Train Loss: 0.0052\n",
      "\n",
      "✅ Validation Accuracy: 0.8042\n"
     ]
    },
    {
     "name": "stderr",
     "output_type": "stream",
     "text": [
      "                                                           "
     ]
    },
    {
     "name": "stdout",
     "output_type": "stream",
     "text": [
      "\n",
      "📦 Epoch 9 — Train Loss: 0.0063\n",
      "\n",
      "✅ Validation Accuracy: 0.8250\n"
     ]
    },
    {
     "name": "stderr",
     "output_type": "stream",
     "text": [
      "                                                            "
     ]
    },
    {
     "name": "stdout",
     "output_type": "stream",
     "text": [
      "\n",
      "📦 Epoch 10 — Train Loss: 0.0040\n",
      "\n",
      "✅ Validation Accuracy: 0.8125\n",
      "\n",
      "🔍 Testing config: {'hidden_dim': 256, 'num_layers': 2, 'dropout': 0.5, 'lr': 0.0005, 'batch_size': 32}\n"
     ]
    },
    {
     "name": "stderr",
     "output_type": "stream",
     "text": [
      "                                                             "
     ]
    },
    {
     "name": "stdout",
     "output_type": "stream",
     "text": [
      "\n",
      "📦 Epoch 1 — Train Loss: 0.1316\n",
      "\n",
      "✅ Validation Accuracy: 0.8250\n"
     ]
    },
    {
     "name": "stderr",
     "output_type": "stream",
     "text": [
      "                                                             "
     ]
    },
    {
     "name": "stdout",
     "output_type": "stream",
     "text": [
      "\n",
      "📦 Epoch 2 — Train Loss: 0.0467\n",
      "\n",
      "✅ Validation Accuracy: 0.8500\n"
     ]
    },
    {
     "name": "stderr",
     "output_type": "stream",
     "text": [
      "                                                             "
     ]
    },
    {
     "name": "stdout",
     "output_type": "stream",
     "text": [
      "\n",
      "📦 Epoch 3 — Train Loss: 0.0240\n",
      "\n",
      "✅ Validation Accuracy: 0.8667\n"
     ]
    },
    {
     "name": "stderr",
     "output_type": "stream",
     "text": [
      "                                                             "
     ]
    },
    {
     "name": "stdout",
     "output_type": "stream",
     "text": [
      "\n",
      "📦 Epoch 4 — Train Loss: 0.0211\n",
      "\n",
      "✅ Validation Accuracy: 0.8500\n"
     ]
    },
    {
     "name": "stderr",
     "output_type": "stream",
     "text": [
      "                                                             "
     ]
    },
    {
     "name": "stdout",
     "output_type": "stream",
     "text": [
      "\n",
      "📦 Epoch 5 — Train Loss: 0.0255\n",
      "\n",
      "✅ Validation Accuracy: 0.8583\n"
     ]
    },
    {
     "name": "stderr",
     "output_type": "stream",
     "text": [
      "                                                             "
     ]
    },
    {
     "name": "stdout",
     "output_type": "stream",
     "text": [
      "\n",
      "📦 Epoch 6 — Train Loss: 0.0081\n",
      "\n",
      "✅ Validation Accuracy: 0.8125\n"
     ]
    },
    {
     "name": "stderr",
     "output_type": "stream",
     "text": [
      "                                                             "
     ]
    },
    {
     "name": "stdout",
     "output_type": "stream",
     "text": [
      "\n",
      "📦 Epoch 7 — Train Loss: 0.0108\n",
      "\n",
      "✅ Validation Accuracy: 0.8375\n"
     ]
    },
    {
     "name": "stderr",
     "output_type": "stream",
     "text": [
      "                                                             "
     ]
    },
    {
     "name": "stdout",
     "output_type": "stream",
     "text": [
      "\n",
      "📦 Epoch 8 — Train Loss: 0.0108\n",
      "\n",
      "✅ Validation Accuracy: 0.8583\n"
     ]
    },
    {
     "name": "stderr",
     "output_type": "stream",
     "text": [
      "                                                             "
     ]
    },
    {
     "name": "stdout",
     "output_type": "stream",
     "text": [
      "\n",
      "📦 Epoch 9 — Train Loss: 0.0078\n",
      "\n",
      "✅ Validation Accuracy: 0.8542\n"
     ]
    },
    {
     "name": "stderr",
     "output_type": "stream",
     "text": [
      "                                                              "
     ]
    },
    {
     "name": "stdout",
     "output_type": "stream",
     "text": [
      "\n",
      "📦 Epoch 10 — Train Loss: 0.0035\n",
      "\n",
      "✅ Validation Accuracy: 0.8417\n",
      "\n",
      "🔍 Testing config: {'hidden_dim': 256, 'num_layers': 2, 'dropout': 0.5, 'lr': 0.0005, 'batch_size': 64}\n"
     ]
    },
    {
     "name": "stderr",
     "output_type": "stream",
     "text": [
      "                                                           "
     ]
    },
    {
     "name": "stdout",
     "output_type": "stream",
     "text": [
      "\n",
      "📦 Epoch 1 — Train Loss: 0.1610\n",
      "\n",
      "✅ Validation Accuracy: 0.8208\n"
     ]
    },
    {
     "name": "stderr",
     "output_type": "stream",
     "text": [
      "                                                           "
     ]
    },
    {
     "name": "stdout",
     "output_type": "stream",
     "text": [
      "\n",
      "📦 Epoch 2 — Train Loss: 0.0665\n",
      "\n",
      "✅ Validation Accuracy: 0.8583\n"
     ]
    },
    {
     "name": "stderr",
     "output_type": "stream",
     "text": [
      "                                                           "
     ]
    },
    {
     "name": "stdout",
     "output_type": "stream",
     "text": [
      "\n",
      "📦 Epoch 3 — Train Loss: 0.0294\n",
      "\n",
      "✅ Validation Accuracy: 0.8583\n"
     ]
    },
    {
     "name": "stderr",
     "output_type": "stream",
     "text": [
      "                                                           "
     ]
    },
    {
     "name": "stdout",
     "output_type": "stream",
     "text": [
      "\n",
      "📦 Epoch 4 — Train Loss: 0.0209\n",
      "\n",
      "✅ Validation Accuracy: 0.8750\n"
     ]
    },
    {
     "name": "stderr",
     "output_type": "stream",
     "text": [
      "                                                           "
     ]
    },
    {
     "name": "stdout",
     "output_type": "stream",
     "text": [
      "\n",
      "📦 Epoch 5 — Train Loss: 0.0114\n",
      "\n",
      "✅ Validation Accuracy: 0.8500\n"
     ]
    },
    {
     "name": "stderr",
     "output_type": "stream",
     "text": [
      "                                                           "
     ]
    },
    {
     "name": "stdout",
     "output_type": "stream",
     "text": [
      "\n",
      "📦 Epoch 6 — Train Loss: 0.0136\n",
      "\n",
      "✅ Validation Accuracy: 0.8417\n"
     ]
    },
    {
     "name": "stderr",
     "output_type": "stream",
     "text": [
      "                                                           "
     ]
    },
    {
     "name": "stdout",
     "output_type": "stream",
     "text": [
      "\n",
      "📦 Epoch 7 — Train Loss: 0.0099\n",
      "\n",
      "✅ Validation Accuracy: 0.8333\n"
     ]
    },
    {
     "name": "stderr",
     "output_type": "stream",
     "text": [
      "                                                           "
     ]
    },
    {
     "name": "stdout",
     "output_type": "stream",
     "text": [
      "\n",
      "📦 Epoch 8 — Train Loss: 0.0079\n",
      "\n",
      "✅ Validation Accuracy: 0.8292\n"
     ]
    },
    {
     "name": "stderr",
     "output_type": "stream",
     "text": [
      "                                                           "
     ]
    },
    {
     "name": "stdout",
     "output_type": "stream",
     "text": [
      "\n",
      "📦 Epoch 9 — Train Loss: 0.0042\n",
      "\n",
      "✅ Validation Accuracy: 0.8583\n"
     ]
    },
    {
     "name": "stderr",
     "output_type": "stream",
     "text": [
      "                                                            "
     ]
    },
    {
     "name": "stdout",
     "output_type": "stream",
     "text": [
      "\n",
      "📦 Epoch 10 — Train Loss: 0.0061\n",
      "\n",
      "✅ Validation Accuracy: 0.8625\n"
     ]
    }
   ],
   "source": [
    "# Define grid of values to test\n",
    "bilstm_param_grid = {\n",
    "    'hidden_dim': [128, 256],\n",
    "    'num_layers': [1, 2],\n",
    "    'dropout': [0.3, 0.5],\n",
    "    'lr': [1e-3, 5e-4],\n",
    "    'batch_size': [32, 64],\n",
    "}\n",
    "\n",
    "bilstm_param_combinations = list(itertools.product(*param_grid.values()))\n",
    "bilstm_param_names = list(param_grid.keys())\n",
    "bilstm_tuning_results = []\n",
    "\n",
    "for params in param_combinations:\n",
    "    bilstm_config = dict(zip(bilstm_param_names, bilstm_params))\n",
    "    print(f\"\\nTesting config: {config}\")\n",
    "\n",
    "    bilstm_model = BiLSTMClassifier(\n",
    "        vocab_size=17120,\n",
    "        embedding_dim=128,\n",
    "        hidden_dim=bilstm_config['hidden_dim'],\n",
    "        num_layers=bilstm_config['num_layers'],\n",
    "        dropout=bilstm_config['dropout']\n",
    "    )\n",
    "\n",
    "    train_loader = DataLoader(train_dataset, batch_size=bilstm_config['batch_size'], sampler=train_sampler)\n",
    "\n",
    "    val_accuracies = train_with_validation(\n",
    "        bilstm_model, train_loader, val_loader,\n",
    "        val_labels, val_domains,\n",
    "        epochs=10, lr=bilstm_config['lr'], device=device\n",
    "    )\n",
    "\n",
    "    bilstm_tuning_results.append({\n",
    "        **config,\n",
    "        \"val_accuracy_final\": val_accuracies[-1],\n",
    "        \"val_accuracies\": val_accuracies\n",
    "    })"
   ]
  },
  {
   "cell_type": "code",
   "execution_count": 40,
   "id": "146513c2-df5f-43e5-b872-f6b4841db930",
   "metadata": {},
   "outputs": [
    {
     "name": "stdout",
     "output_type": "stream",
     "text": [
      " hidden_dim  num_layers  dropout     lr  batch_size  val_accuracy_peak  epoch_peak  val_accuracy_final\n",
      "        128           1      0.5 0.0005          32           0.912500           5            0.841667\n",
      "        128           1      0.3 0.0005          64           0.887500           5            0.812500\n",
      "        128           1      0.3 0.0010          64           0.887500           3            0.833333\n",
      "        128           2      0.5 0.0005          64           0.883333           4            0.816667\n",
      "        128           1      0.5 0.0010          64           0.883333           5            0.833333\n",
      "        256           2      0.3 0.0005          32           0.883333           5            0.816667\n",
      "        256           2      0.3 0.0010          64           0.883333           3            0.800000\n",
      "        256           1      0.5 0.0010          32           0.879167           2            0.845833\n",
      "        256           1      0.3 0.0005          32           0.879167           4            0.854167\n",
      "        256           2      0.5 0.0005          64           0.875000           4            0.862500\n",
      "        128           1      0.5 0.0010          32           0.875000           3            0.854167\n",
      "        256           1      0.3 0.0005          64           0.875000           4            0.845833\n",
      "        256           2      0.3 0.0005          64           0.870833           3            0.829167\n",
      "        256           1      0.5 0.0005          32           0.870833           5            0.854167\n",
      "        128           1      0.3 0.0010          32           0.870833           3            0.804167\n",
      "        128           2      0.5 0.0005          32           0.870833           6            0.812500\n",
      "        128           2      0.3 0.0010          64           0.870833           2            0.775000\n",
      "        128           1      0.3 0.0005          32           0.870833           4            0.825000\n",
      "        128           2      0.5 0.0010          64           0.870833           3            0.800000\n",
      "        256           2      0.5 0.0005          32           0.866667           3            0.841667\n",
      "        256           2      0.3 0.0010          32           0.866667           4            0.833333\n",
      "        256           1      0.3 0.0010          32           0.866667           3            0.837500\n",
      "        128           2      0.3 0.0010          32           0.862500          10            0.862500\n",
      "        128           2      0.5 0.0010          32           0.862500           2            0.783333\n",
      "        128           2      0.3 0.0005          64           0.858333           3            0.812500\n",
      "        128           2      0.3 0.0005          32           0.854167           8            0.845833\n",
      "        128           1      0.5 0.0005          64           0.854167           7            0.825000\n",
      "        256           1      0.5 0.0005          64           0.854167           4            0.845833\n",
      "        256           1      0.3 0.0010          64           0.845833           4            0.845833\n",
      "        256           1      0.5 0.0010          64           0.841667           7            0.800000\n",
      "        256           2      0.5 0.0010          32           0.837500           5            0.808333\n",
      "        256           2      0.5 0.0010          64           0.837500           3            0.812500\n"
     ]
    }
   ],
   "source": [
    "bilstm_tuning_results_df = pd.DataFrame(bilstm_tuning_results)\n",
    "\n",
    "bilstm_tuning_results_df[\"val_accuracy_peak\"] = bilstm_tuning_results_df[\"val_accuracies\"].apply(max)\n",
    "bilstm_tuning_results_df[\"epoch_peak\"] = bilstm_tuning_results_df[\"val_accuracies\"].apply(lambda x: x.index(max(x)) + 1)\n",
    "\n",
    "bilstm_tuning_results_df = bilstm_tuning_results_df.sort_values(by=\"val_accuracy_peak\", ascending=False)\n",
    "\n",
    "print(bilstm_tuning_results_df[[\n",
    "    \"hidden_dim\", \"num_layers\", \"dropout\", \"lr\", \"batch_size\",\n",
    "    \"val_accuracy_peak\", \"epoch_peak\", \"val_accuracy_final\"\n",
    "]].to_string(index=False))"
   ]
  },
  {
   "cell_type": "code",
   "execution_count": 37,
   "id": "17000f8d-59ca-470b-b85a-5306614fec97",
   "metadata": {},
   "outputs": [
    {
     "data": {
      "image/png": "[encoded data removed]",
      "text/plain": [
       "<Figure size 1000x600 with 1 Axes>"
      ]
     },
     "metadata": {},
     "output_type": "display_data"
    }
   ],
   "source": [
    "bilstm_top5_df = bilstm_tuning_results_df.sort_values(by=\"val_accuracy_peak\", ascending=False).head(5)\n",
    "\n",
    "plt.figure(figsize=(10, 6))\n",
    "\n",
    "for i, row in bilstm_top5_df.iterrows():\n",
    "    accuracies = row[\"val_accuracies\"]\n",
    "    label = (\n",
    "        f\"hd={row['hidden_dim']}, nl={row['num_layers']}, do={row['dropout']}, \"\n",
    "        f\"lr={row['lr']}, bs={row['batch_size']} (peak={row['val_accuracy_peak']:.3f})\"\n",
    "    )\n",
    "    plt.plot(range(1, len(accuracies) + 1), accuracies, label=label)\n",
    "\n",
    "plt.xlabel(\"Epoch\")\n",
    "plt.ylabel(\"Validation Accuracy\")\n",
    "plt.title(\"Validation Accuracy Across Epochs (Top 5 Peak BiLSTM Models)\")\n",
    "plt.legend(fontsize=\"small\", loc=\"lower right\")\n",
    "plt.grid(True)\n",
    "plt.tight_layout()\n",
    "plt.savefig(\"bilstm_val_accuracy_top5.png\")\n",
    "plt.show()"
   ]
  },
  {
   "cell_type": "markdown",
   "id": "7e0873cf-0083-4661-8203-56b421bc1c4f",
   "metadata": {},
   "source": [
    "## Final Prediction"
   ]
  },
  {
   "cell_type": "code",
   "execution_count": 38,
   "id": "c25bb959-54d1-4241-b9b3-27043c8bedb2",
   "metadata": {
    "scrolled": true
   },
   "outputs": [
    {
     "name": "stderr",
     "output_type": "stream",
     "text": [
      "                                                          "
     ]
    },
    {
     "name": "stdout",
     "output_type": "stream",
     "text": [
      "Epoch 1 — Train Loss: 0.1988\n"
     ]
    },
    {
     "name": "stderr",
     "output_type": "stream",
     "text": [
      "                                                          "
     ]
    },
    {
     "name": "stdout",
     "output_type": "stream",
     "text": [
      "Epoch 2 — Train Loss: 0.0970\n"
     ]
    },
    {
     "name": "stderr",
     "output_type": "stream",
     "text": [
      "                                                          "
     ]
    },
    {
     "name": "stdout",
     "output_type": "stream",
     "text": [
      "Epoch 3 — Train Loss: 0.0552\n"
     ]
    },
    {
     "name": "stderr",
     "output_type": "stream",
     "text": [
      "                                                          "
     ]
    },
    {
     "name": "stdout",
     "output_type": "stream",
     "text": [
      "Epoch 4 — Train Loss: 0.0277\n"
     ]
    },
    {
     "name": "stderr",
     "output_type": "stream",
     "text": [
      "                                                          "
     ]
    },
    {
     "name": "stdout",
     "output_type": "stream",
     "text": [
      "Epoch 5 — Train Loss: 0.0160\n"
     ]
    },
    {
     "name": "stderr",
     "output_type": "stream",
     "text": [
      "🔍 Predicting: 100%|██████████| 125/125 [02:29<00:00,  1.19s/it]"
     ]
    },
    {
     "name": "stdout",
     "output_type": "stream",
     "text": [
      "Prediction completed in 149.28 seconds.\n",
      "Saved: submission.csv and full_test_predictions.csv\n"
     ]
    },
    {
     "name": "stderr",
     "output_type": "stream",
     "text": [
      "\n"
     ]
    }
   ],
   "source": [
    "# Final model config after tuning\n",
    "bilstm_final_config = {\n",
    "    \"hidden_dim\": 128,\n",
    "    \"num_layers\": 1,\n",
    "    \"dropout\": 0.5,\n",
    "    \"lr\": 0.0005,\n",
    "    \"batch_size\": 32,\n",
    "    \"epochs\": 5\n",
    "}\n",
    "\n",
    "# Final model\n",
    "bilstm_final_model = BiLSTMClassifier(\n",
    "    vocab_size=17120,\n",
    "    hidden_dim=bilstm_final_config[\"hidden_dim\"],\n",
    "    num_layers=bilstm_final_config[\"num_layers\"],\n",
    "    dropout=bilstm_final_config[\"dropout\"]\n",
    ")\n",
    "\n",
    "# Train on full training dataset\n",
    "train_loader_final = DataLoader(train_dataset_final, batch_size=bilstm_final_config[\"batch_size\"], sampler=final_sampler)\n",
    "train(bilstm_final_model, train_loader_final, epochs=bilstm_final_config[\"epochs\"], lr=bilstm_final_config[\"lr\"], device=device)\n",
    "\n",
    "# Predict test set\n",
    "bilstm_test_loader = DataLoader(test_dataset, batch_size=bilstm_final_config[\"batch_size\"])\n",
    "test_preds, test_probs = predict_with_confidence(bilstm_final_model, bilstm_test_loader, device=device)\n",
    "\n",
    "# Save predictions\n",
    "results_df = pd.DataFrame({\n",
    "    \"id\": list(range(len(test_preds))),\n",
    "    \"label\": test_preds,\n",
    "    \"confidence\": test_probs\n",
    "})\n",
    "results_df.to_csv(\"bilstm_full_test_predictions.csv\", index=False)\n",
    "results_df[[\"id\", \"label\"]].to_csv(\"bilstm_submission.csv\", index=False)\n",
    "print(\"Saved submission\")"
   ]
  },
  {
   "cell_type": "markdown",
   "id": "123cc956-1592-4eaf-85fa-5472a5357614",
   "metadata": {},
   "source": [
    "# Convolutional Neural Network"
   ]
  },
  {
   "cell_type": "code",
   "execution_count": 12,
   "id": "ad103ee5-e39b-4d0d-abd3-eaa59402f04f",
   "metadata": {},
   "outputs": [],
   "source": [
    "class CNNTextClassifier(nn.Module):\n",
    "    def __init__(self, vocab_size, embedding_dim=128, num_filters=100, filter_sizes=(3, 4, 5), dropout=0.5):\n",
    "        super().__init__()\n",
    "        self.embedding = nn.Embedding(vocab_size, embedding_dim, padding_idx=0)\n",
    "        self.convs = nn.ModuleList([\n",
    "            nn.Conv1d(in_channels=embedding_dim,\n",
    "                      out_channels=num_filters,\n",
    "                      kernel_size=fs)\n",
    "            for fs in filter_sizes\n",
    "        ])\n",
    "        self.dropout = nn.Dropout(dropout)\n",
    "        self.fc = nn.Linear(num_filters * len(filter_sizes), 1)\n",
    "\n",
    "    def forward(self, x):\n",
    "        x = self.embedding(x)           # (batch_size, seq_len, emb_dim)\n",
    "        x = x.permute(0, 2, 1)          # (batch_size, emb_dim, seq_len)\n",
    "        convs = [F.relu(conv(x)) for conv in self.convs]  # list of (batch_size, num_filters, *)\n",
    "        pooled = [F.max_pool1d(c, kernel_size=c.size(2)).squeeze(2) for c in convs]\n",
    "        cat = torch.cat(pooled, dim=1)  # (batch_size, num_filters * len(filter_sizes))\n",
    "        dropped = self.dropout(cat)\n",
    "        logits = self.fc(dropped)\n",
    "        return logits.squeeze()"
   ]
  },
  {
   "cell_type": "markdown",
   "id": "4ed8ef17-13b1-41dc-85d9-6f29feac2bc7",
   "metadata": {},
   "source": [
    "## Hyperparameter Tuning"
   ]
  },
  {
   "cell_type": "code",
   "execution_count": 74,
   "id": "12f3099b-159b-4e3d-b307-9bb90d8881bd",
   "metadata": {
    "scrolled": true
   },
   "outputs": [
    {
     "name": "stdout",
     "output_type": "stream",
     "text": [
      "\n",
      "Testing CNN config: {'embedding_dim': 128, 'num_filters': 50, 'filter_sizes': (3, 4, 5), 'dropout': 0.3, 'lr': 0.001, 'batch_size': 32}\n"
     ]
    },
    {
     "name": "stderr",
     "output_type": "stream",
     "text": [
      "                                                          "
     ]
    },
    {
     "name": "stdout",
     "output_type": "stream",
     "text": [
      "\n",
      "Epoch 1 — Train Loss: 0.1129\n",
      "\n",
      "Validation Accuracy: 0.8583\n"
     ]
    },
    {
     "name": "stderr",
     "output_type": "stream",
     "text": [
      "                                                          "
     ]
    },
    {
     "name": "stdout",
     "output_type": "stream",
     "text": [
      "\n",
      "Epoch 2 — Train Loss: 0.0353\n",
      "\n",
      "Validation Accuracy: 0.9042\n"
     ]
    },
    {
     "name": "stderr",
     "output_type": "stream",
     "text": [
      "                                                          "
     ]
    },
    {
     "name": "stdout",
     "output_type": "stream",
     "text": [
      "\n",
      "Epoch 3 — Train Loss: 0.0182\n",
      "\n",
      "Validation Accuracy: 0.9000\n"
     ]
    },
    {
     "name": "stderr",
     "output_type": "stream",
     "text": [
      "                                                          "
     ]
    },
    {
     "name": "stdout",
     "output_type": "stream",
     "text": [
      "\n",
      "Epoch 4 — Train Loss: 0.0133\n",
      "\n",
      "Validation Accuracy: 0.9042\n"
     ]
    },
    {
     "name": "stderr",
     "output_type": "stream",
     "text": [
      "                                                          "
     ]
    },
    {
     "name": "stdout",
     "output_type": "stream",
     "text": [
      "\n",
      "Epoch 5 — Train Loss: 0.0081\n",
      "\n",
      "Validation Accuracy: 0.9000\n",
      "\n",
      "Testing CNN config: {'embedding_dim': 128, 'num_filters': 50, 'filter_sizes': (3, 4, 5), 'dropout': 0.3, 'lr': 0.001, 'batch_size': 64}\n"
     ]
    },
    {
     "name": "stderr",
     "output_type": "stream",
     "text": [
      "                                                        "
     ]
    },
    {
     "name": "stdout",
     "output_type": "stream",
     "text": [
      "\n",
      "Epoch 1 — Train Loss: 0.1605\n",
      "\n",
      "Validation Accuracy: 0.6167\n"
     ]
    },
    {
     "name": "stderr",
     "output_type": "stream",
     "text": [
      "                                                        "
     ]
    },
    {
     "name": "stdout",
     "output_type": "stream",
     "text": [
      "\n",
      "Epoch 2 — Train Loss: 0.0724\n",
      "\n",
      "Validation Accuracy: 0.8958\n"
     ]
    },
    {
     "name": "stderr",
     "output_type": "stream",
     "text": [
      "                                                        "
     ]
    },
    {
     "name": "stdout",
     "output_type": "stream",
     "text": [
      "\n",
      "Epoch 3 — Train Loss: 0.0364\n",
      "\n",
      "Validation Accuracy: 0.9125\n"
     ]
    },
    {
     "name": "stderr",
     "output_type": "stream",
     "text": [
      "                                                        "
     ]
    },
    {
     "name": "stdout",
     "output_type": "stream",
     "text": [
      "\n",
      "Epoch 4 — Train Loss: 0.0217\n",
      "\n",
      "Validation Accuracy: 0.8958\n"
     ]
    },
    {
     "name": "stderr",
     "output_type": "stream",
     "text": [
      "                                                        "
     ]
    },
    {
     "name": "stdout",
     "output_type": "stream",
     "text": [
      "\n",
      "Epoch 5 — Train Loss: 0.0153\n",
      "\n",
      "Validation Accuracy: 0.9167\n",
      "\n",
      "Testing CNN config: {'embedding_dim': 128, 'num_filters': 50, 'filter_sizes': (3, 4, 5), 'dropout': 0.3, 'lr': 0.0005, 'batch_size': 32}\n"
     ]
    },
    {
     "name": "stderr",
     "output_type": "stream",
     "text": [
      "                                                          "
     ]
    },
    {
     "name": "stdout",
     "output_type": "stream",
     "text": [
      "\n",
      "Epoch 1 — Train Loss: 0.1588\n",
      "\n",
      "Validation Accuracy: 0.6542\n"
     ]
    },
    {
     "name": "stderr",
     "output_type": "stream",
     "text": [
      "                                                          "
     ]
    },
    {
     "name": "stdout",
     "output_type": "stream",
     "text": [
      "\n",
      "Epoch 2 — Train Loss: 0.0770\n",
      "\n",
      "Validation Accuracy: 0.8708\n"
     ]
    },
    {
     "name": "stderr",
     "output_type": "stream",
     "text": [
      "                                                          "
     ]
    },
    {
     "name": "stdout",
     "output_type": "stream",
     "text": [
      "\n",
      "Epoch 3 — Train Loss: 0.0425\n",
      "\n",
      "Validation Accuracy: 0.9208\n"
     ]
    },
    {
     "name": "stderr",
     "output_type": "stream",
     "text": [
      "                                                          "
     ]
    },
    {
     "name": "stdout",
     "output_type": "stream",
     "text": [
      "\n",
      "Epoch 4 — Train Loss: 0.0290\n",
      "\n",
      "Validation Accuracy: 0.9000\n"
     ]
    },
    {
     "name": "stderr",
     "output_type": "stream",
     "text": [
      "                                                          "
     ]
    },
    {
     "name": "stdout",
     "output_type": "stream",
     "text": [
      "\n",
      "Epoch 5 — Train Loss: 0.0200\n",
      "\n",
      "Validation Accuracy: 0.9083\n",
      "\n",
      "Testing CNN config: {'embedding_dim': 128, 'num_filters': 50, 'filter_sizes': (3, 4, 5), 'dropout': 0.3, 'lr': 0.0005, 'batch_size': 64}\n"
     ]
    },
    {
     "name": "stderr",
     "output_type": "stream",
     "text": [
      "                                                        "
     ]
    },
    {
     "name": "stdout",
     "output_type": "stream",
     "text": [
      "\n",
      "Epoch 1 — Train Loss: 0.1662\n",
      "\n",
      "Validation Accuracy: 0.5250\n"
     ]
    },
    {
     "name": "stderr",
     "output_type": "stream",
     "text": [
      "                                                        "
     ]
    },
    {
     "name": "stdout",
     "output_type": "stream",
     "text": [
      "\n",
      "Epoch 2 — Train Loss: 0.0977\n",
      "\n",
      "Validation Accuracy: 0.7458\n"
     ]
    },
    {
     "name": "stderr",
     "output_type": "stream",
     "text": [
      "                                                        "
     ]
    },
    {
     "name": "stdout",
     "output_type": "stream",
     "text": [
      "\n",
      "Epoch 3 — Train Loss: 0.0587\n",
      "\n",
      "Validation Accuracy: 0.8875\n"
     ]
    },
    {
     "name": "stderr",
     "output_type": "stream",
     "text": [
      "                                                        "
     ]
    },
    {
     "name": "stdout",
     "output_type": "stream",
     "text": [
      "\n",
      "Epoch 4 — Train Loss: 0.0386\n",
      "\n",
      "Validation Accuracy: 0.9083\n"
     ]
    },
    {
     "name": "stderr",
     "output_type": "stream",
     "text": [
      "                                                        "
     ]
    },
    {
     "name": "stdout",
     "output_type": "stream",
     "text": [
      "\n",
      "Epoch 5 — Train Loss: 0.0268\n",
      "\n",
      "Validation Accuracy: 0.9083\n",
      "\n",
      "Testing CNN config: {'embedding_dim': 128, 'num_filters': 50, 'filter_sizes': (3, 4, 5), 'dropout': 0.5, 'lr': 0.001, 'batch_size': 32}\n"
     ]
    },
    {
     "name": "stderr",
     "output_type": "stream",
     "text": [
      "                                                          "
     ]
    },
    {
     "name": "stdout",
     "output_type": "stream",
     "text": [
      "\n",
      "Epoch 1 — Train Loss: 0.1691\n",
      "\n",
      "Validation Accuracy: 0.6583\n"
     ]
    },
    {
     "name": "stderr",
     "output_type": "stream",
     "text": [
      "                                                          "
     ]
    },
    {
     "name": "stdout",
     "output_type": "stream",
     "text": [
      "\n",
      "Epoch 2 — Train Loss: 0.0778\n",
      "\n",
      "Validation Accuracy: 0.8958\n"
     ]
    },
    {
     "name": "stderr",
     "output_type": "stream",
     "text": [
      "                                                          "
     ]
    },
    {
     "name": "stdout",
     "output_type": "stream",
     "text": [
      "\n",
      "Epoch 3 — Train Loss: 0.0508\n",
      "\n",
      "Validation Accuracy: 0.9042\n"
     ]
    },
    {
     "name": "stderr",
     "output_type": "stream",
     "text": [
      "                                                          "
     ]
    },
    {
     "name": "stdout",
     "output_type": "stream",
     "text": [
      "\n",
      "Epoch 4 — Train Loss: 0.0329\n",
      "\n",
      "Validation Accuracy: 0.9292\n"
     ]
    },
    {
     "name": "stderr",
     "output_type": "stream",
     "text": [
      "                                                          "
     ]
    },
    {
     "name": "stdout",
     "output_type": "stream",
     "text": [
      "\n",
      "Epoch 5 — Train Loss: 0.0255\n",
      "\n",
      "Validation Accuracy: 0.9208\n",
      "\n",
      "Testing CNN config: {'embedding_dim': 128, 'num_filters': 50, 'filter_sizes': (3, 4, 5), 'dropout': 0.5, 'lr': 0.001, 'batch_size': 64}\n"
     ]
    },
    {
     "name": "stderr",
     "output_type": "stream",
     "text": [
      "                                                        "
     ]
    },
    {
     "name": "stdout",
     "output_type": "stream",
     "text": [
      "\n",
      "Epoch 1 — Train Loss: 0.1809\n",
      "\n",
      "Validation Accuracy: 0.5500\n"
     ]
    },
    {
     "name": "stderr",
     "output_type": "stream",
     "text": [
      "                                                        "
     ]
    },
    {
     "name": "stdout",
     "output_type": "stream",
     "text": [
      "\n",
      "Epoch 2 — Train Loss: 0.0946\n",
      "\n",
      "Validation Accuracy: 0.8583\n"
     ]
    },
    {
     "name": "stderr",
     "output_type": "stream",
     "text": [
      "                                                        "
     ]
    },
    {
     "name": "stdout",
     "output_type": "stream",
     "text": [
      "\n",
      "Epoch 3 — Train Loss: 0.0594\n",
      "\n",
      "Validation Accuracy: 0.8875\n"
     ]
    },
    {
     "name": "stderr",
     "output_type": "stream",
     "text": [
      "                                                        "
     ]
    },
    {
     "name": "stdout",
     "output_type": "stream",
     "text": [
      "\n",
      "Epoch 4 — Train Loss: 0.0421\n",
      "\n",
      "Validation Accuracy: 0.9042\n"
     ]
    },
    {
     "name": "stderr",
     "output_type": "stream",
     "text": [
      "                                                        "
     ]
    },
    {
     "name": "stdout",
     "output_type": "stream",
     "text": [
      "\n",
      "Epoch 5 — Train Loss: 0.0308\n",
      "\n",
      "Validation Accuracy: 0.9042\n",
      "\n",
      "Testing CNN config: {'embedding_dim': 128, 'num_filters': 50, 'filter_sizes': (3, 4, 5), 'dropout': 0.5, 'lr': 0.0005, 'batch_size': 32}\n"
     ]
    },
    {
     "name": "stderr",
     "output_type": "stream",
     "text": [
      "                                                          "
     ]
    },
    {
     "name": "stdout",
     "output_type": "stream",
     "text": [
      "\n",
      "Epoch 1 — Train Loss: 0.1942\n",
      "\n",
      "Validation Accuracy: 0.5000\n"
     ]
    },
    {
     "name": "stderr",
     "output_type": "stream",
     "text": [
      "                                                          "
     ]
    },
    {
     "name": "stdout",
     "output_type": "stream",
     "text": [
      "\n",
      "Epoch 2 — Train Loss: 0.1176\n",
      "\n",
      "Validation Accuracy: 0.7625\n"
     ]
    },
    {
     "name": "stderr",
     "output_type": "stream",
     "text": [
      "                                                          "
     ]
    },
    {
     "name": "stdout",
     "output_type": "stream",
     "text": [
      "\n",
      "Epoch 3 — Train Loss: 0.0782\n",
      "\n",
      "Validation Accuracy: 0.8875\n"
     ]
    },
    {
     "name": "stderr",
     "output_type": "stream",
     "text": [
      "                                                          "
     ]
    },
    {
     "name": "stdout",
     "output_type": "stream",
     "text": [
      "\n",
      "Epoch 4 — Train Loss: 0.0557\n",
      "\n",
      "Validation Accuracy: 0.8958\n"
     ]
    },
    {
     "name": "stderr",
     "output_type": "stream",
     "text": [
      "                                                          "
     ]
    },
    {
     "name": "stdout",
     "output_type": "stream",
     "text": [
      "\n",
      "Epoch 5 — Train Loss: 0.0421\n",
      "\n",
      "Validation Accuracy: 0.9000\n",
      "\n",
      "Testing CNN config: {'embedding_dim': 128, 'num_filters': 50, 'filter_sizes': (3, 4, 5), 'dropout': 0.5, 'lr': 0.0005, 'batch_size': 64}\n"
     ]
    },
    {
     "name": "stderr",
     "output_type": "stream",
     "text": [
      "                                                        "
     ]
    },
    {
     "name": "stdout",
     "output_type": "stream",
     "text": [
      "\n",
      "Epoch 1 — Train Loss: 0.1836\n",
      "\n",
      "Validation Accuracy: 0.5000\n"
     ]
    },
    {
     "name": "stderr",
     "output_type": "stream",
     "text": [
      "                                                        "
     ]
    },
    {
     "name": "stdout",
     "output_type": "stream",
     "text": [
      "\n",
      "Epoch 2 — Train Loss: 0.1251\n",
      "\n",
      "Validation Accuracy: 0.6792\n"
     ]
    },
    {
     "name": "stderr",
     "output_type": "stream",
     "text": [
      "                                                        "
     ]
    },
    {
     "name": "stdout",
     "output_type": "stream",
     "text": [
      "\n",
      "Epoch 3 — Train Loss: 0.0851\n",
      "\n",
      "Validation Accuracy: 0.7792\n"
     ]
    },
    {
     "name": "stderr",
     "output_type": "stream",
     "text": [
      "                                                        "
     ]
    },
    {
     "name": "stdout",
     "output_type": "stream",
     "text": [
      "\n",
      "Epoch 4 — Train Loss: 0.0633\n",
      "\n",
      "Validation Accuracy: 0.8458\n"
     ]
    },
    {
     "name": "stderr",
     "output_type": "stream",
     "text": [
      "                                                        "
     ]
    },
    {
     "name": "stdout",
     "output_type": "stream",
     "text": [
      "\n",
      "Epoch 5 — Train Loss: 0.0503\n",
      "\n",
      "Validation Accuracy: 0.9083\n",
      "\n",
      "Testing CNN config: {'embedding_dim': 128, 'num_filters': 50, 'filter_sizes': (2, 3, 4), 'dropout': 0.3, 'lr': 0.001, 'batch_size': 32}\n"
     ]
    },
    {
     "name": "stderr",
     "output_type": "stream",
     "text": [
      "                                                          "
     ]
    },
    {
     "name": "stdout",
     "output_type": "stream",
     "text": [
      "\n",
      "Epoch 1 — Train Loss: 0.1242\n",
      "\n",
      "Validation Accuracy: 0.8083\n"
     ]
    },
    {
     "name": "stderr",
     "output_type": "stream",
     "text": [
      "                                                          "
     ]
    },
    {
     "name": "stdout",
     "output_type": "stream",
     "text": [
      "\n",
      "Epoch 2 — Train Loss: 0.0481\n",
      "\n",
      "Validation Accuracy: 0.9000\n"
     ]
    },
    {
     "name": "stderr",
     "output_type": "stream",
     "text": [
      "                                                          "
     ]
    },
    {
     "name": "stdout",
     "output_type": "stream",
     "text": [
      "\n",
      "Epoch 3 — Train Loss: 0.0244\n",
      "\n",
      "Validation Accuracy: 0.9083\n"
     ]
    },
    {
     "name": "stderr",
     "output_type": "stream",
     "text": [
      "                                                          "
     ]
    },
    {
     "name": "stdout",
     "output_type": "stream",
     "text": [
      "\n",
      "Epoch 4 — Train Loss: 0.0178\n",
      "\n",
      "Validation Accuracy: 0.9167\n"
     ]
    },
    {
     "name": "stderr",
     "output_type": "stream",
     "text": [
      "                                                          "
     ]
    },
    {
     "name": "stdout",
     "output_type": "stream",
     "text": [
      "\n",
      "Epoch 5 — Train Loss: 0.0110\n",
      "\n",
      "Validation Accuracy: 0.9208\n",
      "\n",
      "Testing CNN config: {'embedding_dim': 128, 'num_filters': 50, 'filter_sizes': (2, 3, 4), 'dropout': 0.3, 'lr': 0.001, 'batch_size': 64}\n"
     ]
    },
    {
     "name": "stderr",
     "output_type": "stream",
     "text": [
      "                                                        "
     ]
    },
    {
     "name": "stdout",
     "output_type": "stream",
     "text": [
      "\n",
      "Epoch 1 — Train Loss: 0.1525\n",
      "\n",
      "Validation Accuracy: 0.7208\n"
     ]
    },
    {
     "name": "stderr",
     "output_type": "stream",
     "text": [
      "                                                        "
     ]
    },
    {
     "name": "stdout",
     "output_type": "stream",
     "text": [
      "\n",
      "Epoch 2 — Train Loss: 0.0744\n",
      "\n",
      "Validation Accuracy: 0.8583\n"
     ]
    },
    {
     "name": "stderr",
     "output_type": "stream",
     "text": [
      "                                                        "
     ]
    },
    {
     "name": "stdout",
     "output_type": "stream",
     "text": [
      "\n",
      "Epoch 3 — Train Loss: 0.0435\n",
      "\n",
      "Validation Accuracy: 0.9167\n"
     ]
    },
    {
     "name": "stderr",
     "output_type": "stream",
     "text": [
      "                                                        "
     ]
    },
    {
     "name": "stdout",
     "output_type": "stream",
     "text": [
      "\n",
      "Epoch 4 — Train Loss: 0.0271\n",
      "\n",
      "Validation Accuracy: 0.9042\n"
     ]
    },
    {
     "name": "stderr",
     "output_type": "stream",
     "text": [
      "                                                        "
     ]
    },
    {
     "name": "stdout",
     "output_type": "stream",
     "text": [
      "\n",
      "Epoch 5 — Train Loss: 0.0195\n",
      "\n",
      "Validation Accuracy: 0.9000\n",
      "\n",
      "Testing CNN config: {'embedding_dim': 128, 'num_filters': 50, 'filter_sizes': (2, 3, 4), 'dropout': 0.3, 'lr': 0.0005, 'batch_size': 32}\n"
     ]
    },
    {
     "name": "stderr",
     "output_type": "stream",
     "text": [
      "                                                          "
     ]
    },
    {
     "name": "stdout",
     "output_type": "stream",
     "text": [
      "\n",
      "Epoch 1 — Train Loss: 0.1824\n",
      "\n",
      "Validation Accuracy: 0.5000\n"
     ]
    },
    {
     "name": "stderr",
     "output_type": "stream",
     "text": [
      "                                                          "
     ]
    },
    {
     "name": "stdout",
     "output_type": "stream",
     "text": [
      "\n",
      "Epoch 2 — Train Loss: 0.1027\n",
      "\n",
      "Validation Accuracy: 0.8083\n"
     ]
    },
    {
     "name": "stderr",
     "output_type": "stream",
     "text": [
      "                                                          "
     ]
    },
    {
     "name": "stdout",
     "output_type": "stream",
     "text": [
      "\n",
      "Epoch 3 — Train Loss: 0.0631\n",
      "\n",
      "Validation Accuracy: 0.9250\n"
     ]
    },
    {
     "name": "stderr",
     "output_type": "stream",
     "text": [
      "                                                          "
     ]
    },
    {
     "name": "stdout",
     "output_type": "stream",
     "text": [
      "\n",
      "Epoch 4 — Train Loss: 0.0414\n",
      "\n",
      "Validation Accuracy: 0.9375\n"
     ]
    },
    {
     "name": "stderr",
     "output_type": "stream",
     "text": [
      "                                                          "
     ]
    },
    {
     "name": "stdout",
     "output_type": "stream",
     "text": [
      "\n",
      "Epoch 5 — Train Loss: 0.0304\n",
      "\n",
      "Validation Accuracy: 0.9167\n",
      "\n",
      "Testing CNN config: {'embedding_dim': 128, 'num_filters': 50, 'filter_sizes': (2, 3, 4), 'dropout': 0.3, 'lr': 0.0005, 'batch_size': 64}\n"
     ]
    },
    {
     "name": "stderr",
     "output_type": "stream",
     "text": [
      "                                                        "
     ]
    },
    {
     "name": "stdout",
     "output_type": "stream",
     "text": [
      "\n",
      "Epoch 1 — Train Loss: 0.1799\n",
      "\n",
      "Validation Accuracy: 0.5000\n"
     ]
    },
    {
     "name": "stderr",
     "output_type": "stream",
     "text": [
      "                                                        "
     ]
    },
    {
     "name": "stdout",
     "output_type": "stream",
     "text": [
      "\n",
      "Epoch 2 — Train Loss: 0.1151\n",
      "\n",
      "Validation Accuracy: 0.7625\n"
     ]
    },
    {
     "name": "stderr",
     "output_type": "stream",
     "text": [
      "                                                        "
     ]
    },
    {
     "name": "stdout",
     "output_type": "stream",
     "text": [
      "\n",
      "Epoch 3 — Train Loss: 0.0780\n",
      "\n",
      "Validation Accuracy: 0.8292\n"
     ]
    },
    {
     "name": "stderr",
     "output_type": "stream",
     "text": [
      "                                                        "
     ]
    },
    {
     "name": "stdout",
     "output_type": "stream",
     "text": [
      "\n",
      "Epoch 4 — Train Loss: 0.0545\n",
      "\n",
      "Validation Accuracy: 0.9000\n"
     ]
    },
    {
     "name": "stderr",
     "output_type": "stream",
     "text": [
      "                                                        "
     ]
    },
    {
     "name": "stdout",
     "output_type": "stream",
     "text": [
      "\n",
      "Epoch 5 — Train Loss: 0.0407\n",
      "\n",
      "Validation Accuracy: 0.9083\n",
      "\n",
      "Testing CNN config: {'embedding_dim': 128, 'num_filters': 50, 'filter_sizes': (2, 3, 4), 'dropout': 0.5, 'lr': 0.001, 'batch_size': 32}\n"
     ]
    },
    {
     "name": "stderr",
     "output_type": "stream",
     "text": [
      "                                                          "
     ]
    },
    {
     "name": "stdout",
     "output_type": "stream",
     "text": [
      "\n",
      "Epoch 1 — Train Loss: 0.1481\n",
      "\n",
      "Validation Accuracy: 0.7083\n"
     ]
    },
    {
     "name": "stderr",
     "output_type": "stream",
     "text": [
      "                                                          "
     ]
    },
    {
     "name": "stdout",
     "output_type": "stream",
     "text": [
      "\n",
      "Epoch 2 — Train Loss: 0.0765\n",
      "\n",
      "Validation Accuracy: 0.8917\n"
     ]
    },
    {
     "name": "stderr",
     "output_type": "stream",
     "text": [
      "                                                          "
     ]
    },
    {
     "name": "stdout",
     "output_type": "stream",
     "text": [
      "\n",
      "Epoch 3 — Train Loss: 0.0511\n",
      "\n",
      "Validation Accuracy: 0.9333\n"
     ]
    },
    {
     "name": "stderr",
     "output_type": "stream",
     "text": [
      "                                                          "
     ]
    },
    {
     "name": "stdout",
     "output_type": "stream",
     "text": [
      "\n",
      "Epoch 4 — Train Loss: 0.0375\n",
      "\n",
      "Validation Accuracy: 0.9458\n"
     ]
    },
    {
     "name": "stderr",
     "output_type": "stream",
     "text": [
      "                                                          "
     ]
    },
    {
     "name": "stdout",
     "output_type": "stream",
     "text": [
      "\n",
      "Epoch 5 — Train Loss: 0.0298\n",
      "\n",
      "Validation Accuracy: 0.9333\n",
      "\n",
      "Testing CNN config: {'embedding_dim': 128, 'num_filters': 50, 'filter_sizes': (2, 3, 4), 'dropout': 0.5, 'lr': 0.001, 'batch_size': 64}\n"
     ]
    },
    {
     "name": "stderr",
     "output_type": "stream",
     "text": [
      "                                                        "
     ]
    },
    {
     "name": "stdout",
     "output_type": "stream",
     "text": [
      "\n",
      "Epoch 1 — Train Loss: 0.1879\n",
      "\n",
      "Validation Accuracy: 0.5042\n"
     ]
    },
    {
     "name": "stderr",
     "output_type": "stream",
     "text": [
      "                                                        "
     ]
    },
    {
     "name": "stdout",
     "output_type": "stream",
     "text": [
      "\n",
      "Epoch 2 — Train Loss: 0.1072\n",
      "\n",
      "Validation Accuracy: 0.7833\n"
     ]
    },
    {
     "name": "stderr",
     "output_type": "stream",
     "text": [
      "                                                        "
     ]
    },
    {
     "name": "stdout",
     "output_type": "stream",
     "text": [
      "\n",
      "Epoch 3 — Train Loss: 0.0758\n",
      "\n",
      "Validation Accuracy: 0.8875\n"
     ]
    },
    {
     "name": "stderr",
     "output_type": "stream",
     "text": [
      "                                                        "
     ]
    },
    {
     "name": "stdout",
     "output_type": "stream",
     "text": [
      "\n",
      "Epoch 4 — Train Loss: 0.0531\n",
      "\n",
      "Validation Accuracy: 0.9042\n"
     ]
    },
    {
     "name": "stderr",
     "output_type": "stream",
     "text": [
      "                                                        "
     ]
    },
    {
     "name": "stdout",
     "output_type": "stream",
     "text": [
      "\n",
      "Epoch 5 — Train Loss: 0.0420\n",
      "\n",
      "Validation Accuracy: 0.9208\n",
      "\n",
      "Testing CNN config: {'embedding_dim': 128, 'num_filters': 50, 'filter_sizes': (2, 3, 4), 'dropout': 0.5, 'lr': 0.0005, 'batch_size': 32}\n"
     ]
    },
    {
     "name": "stderr",
     "output_type": "stream",
     "text": [
      "                                                          "
     ]
    },
    {
     "name": "stdout",
     "output_type": "stream",
     "text": [
      "\n",
      "Epoch 1 — Train Loss: 0.1871\n",
      "\n",
      "Validation Accuracy: 0.5000\n"
     ]
    },
    {
     "name": "stderr",
     "output_type": "stream",
     "text": [
      "                                                          "
     ]
    },
    {
     "name": "stdout",
     "output_type": "stream",
     "text": [
      "\n",
      "Epoch 2 — Train Loss: 0.1178\n",
      "\n",
      "Validation Accuracy: 0.6708\n"
     ]
    },
    {
     "name": "stderr",
     "output_type": "stream",
     "text": [
      "                                                          "
     ]
    },
    {
     "name": "stdout",
     "output_type": "stream",
     "text": [
      "\n",
      "Epoch 3 — Train Loss: 0.0806\n",
      "\n",
      "Validation Accuracy: 0.8000\n"
     ]
    },
    {
     "name": "stderr",
     "output_type": "stream",
     "text": [
      "                                                          "
     ]
    },
    {
     "name": "stdout",
     "output_type": "stream",
     "text": [
      "\n",
      "Epoch 4 — Train Loss: 0.0631\n",
      "\n",
      "Validation Accuracy: 0.8875\n"
     ]
    },
    {
     "name": "stderr",
     "output_type": "stream",
     "text": [
      "                                                          "
     ]
    },
    {
     "name": "stdout",
     "output_type": "stream",
     "text": [
      "\n",
      "Epoch 5 — Train Loss: 0.0510\n",
      "\n",
      "Validation Accuracy: 0.9250\n",
      "\n",
      "Testing CNN config: {'embedding_dim': 128, 'num_filters': 50, 'filter_sizes': (2, 3, 4), 'dropout': 0.5, 'lr': 0.0005, 'batch_size': 64}\n"
     ]
    },
    {
     "name": "stderr",
     "output_type": "stream",
     "text": [
      "                                                        "
     ]
    },
    {
     "name": "stdout",
     "output_type": "stream",
     "text": [
      "\n",
      "Epoch 1 — Train Loss: 0.2170\n",
      "\n",
      "Validation Accuracy: 0.5000\n"
     ]
    },
    {
     "name": "stderr",
     "output_type": "stream",
     "text": [
      "                                                        "
     ]
    },
    {
     "name": "stdout",
     "output_type": "stream",
     "text": [
      "\n",
      "Epoch 2 — Train Loss: 0.1487\n",
      "\n",
      "Validation Accuracy: 0.5458\n"
     ]
    },
    {
     "name": "stderr",
     "output_type": "stream",
     "text": [
      "                                                        "
     ]
    },
    {
     "name": "stdout",
     "output_type": "stream",
     "text": [
      "\n",
      "Epoch 3 — Train Loss: 0.1144\n",
      "\n",
      "Validation Accuracy: 0.6250\n"
     ]
    },
    {
     "name": "stderr",
     "output_type": "stream",
     "text": [
      "                                                        "
     ]
    },
    {
     "name": "stdout",
     "output_type": "stream",
     "text": [
      "\n",
      "Epoch 4 — Train Loss: 0.0931\n",
      "\n",
      "Validation Accuracy: 0.8333\n"
     ]
    },
    {
     "name": "stderr",
     "output_type": "stream",
     "text": [
      "                                                        "
     ]
    },
    {
     "name": "stdout",
     "output_type": "stream",
     "text": [
      "\n",
      "Epoch 5 — Train Loss: 0.0766\n",
      "\n",
      "Validation Accuracy: 0.8708\n",
      "\n",
      "Testing CNN config: {'embedding_dim': 128, 'num_filters': 50, 'filter_sizes': (4, 5, 6), 'dropout': 0.3, 'lr': 0.001, 'batch_size': 32}\n"
     ]
    },
    {
     "name": "stderr",
     "output_type": "stream",
     "text": [
      "                                                          "
     ]
    },
    {
     "name": "stdout",
     "output_type": "stream",
     "text": [
      "\n",
      "Epoch 1 — Train Loss: 0.1425\n",
      "\n",
      "Validation Accuracy: 0.7792\n"
     ]
    },
    {
     "name": "stderr",
     "output_type": "stream",
     "text": [
      "                                                          "
     ]
    },
    {
     "name": "stdout",
     "output_type": "stream",
     "text": [
      "\n",
      "Epoch 2 — Train Loss: 0.0465\n",
      "\n",
      "Validation Accuracy: 0.9167\n"
     ]
    },
    {
     "name": "stderr",
     "output_type": "stream",
     "text": [
      "                                                          "
     ]
    },
    {
     "name": "stdout",
     "output_type": "stream",
     "text": [
      "\n",
      "Epoch 3 — Train Loss: 0.0220\n",
      "\n",
      "Validation Accuracy: 0.9083\n"
     ]
    },
    {
     "name": "stderr",
     "output_type": "stream",
     "text": [
      "                                                          "
     ]
    },
    {
     "name": "stdout",
     "output_type": "stream",
     "text": [
      "\n",
      "Epoch 4 — Train Loss: 0.0127\n",
      "\n",
      "Validation Accuracy: 0.8583\n"
     ]
    },
    {
     "name": "stderr",
     "output_type": "stream",
     "text": [
      "                                                          "
     ]
    },
    {
     "name": "stdout",
     "output_type": "stream",
     "text": [
      "\n",
      "Epoch 5 — Train Loss: 0.0091\n",
      "\n",
      "Validation Accuracy: 0.8667\n",
      "\n",
      "Testing CNN config: {'embedding_dim': 128, 'num_filters': 50, 'filter_sizes': (4, 5, 6), 'dropout': 0.3, 'lr': 0.001, 'batch_size': 64}\n"
     ]
    },
    {
     "name": "stderr",
     "output_type": "stream",
     "text": [
      "                                                        "
     ]
    },
    {
     "name": "stdout",
     "output_type": "stream",
     "text": [
      "\n",
      "Epoch 1 — Train Loss: 0.1378\n",
      "\n",
      "Validation Accuracy: 0.7583\n"
     ]
    },
    {
     "name": "stderr",
     "output_type": "stream",
     "text": [
      "                                                        "
     ]
    },
    {
     "name": "stdout",
     "output_type": "stream",
     "text": [
      "\n",
      "Epoch 2 — Train Loss: 0.0523\n",
      "\n",
      "Validation Accuracy: 0.9000\n"
     ]
    },
    {
     "name": "stderr",
     "output_type": "stream",
     "text": [
      "                                                        "
     ]
    },
    {
     "name": "stdout",
     "output_type": "stream",
     "text": [
      "\n",
      "Epoch 3 — Train Loss: 0.0259\n",
      "\n",
      "Validation Accuracy: 0.9000\n"
     ]
    },
    {
     "name": "stderr",
     "output_type": "stream",
     "text": [
      "                                                        "
     ]
    },
    {
     "name": "stdout",
     "output_type": "stream",
     "text": [
      "\n",
      "Epoch 4 — Train Loss: 0.0157\n",
      "\n",
      "Validation Accuracy: 0.9042\n"
     ]
    },
    {
     "name": "stderr",
     "output_type": "stream",
     "text": [
      "                                                        "
     ]
    },
    {
     "name": "stdout",
     "output_type": "stream",
     "text": [
      "\n",
      "Epoch 5 — Train Loss: 0.0094\n",
      "\n",
      "Validation Accuracy: 0.8917\n",
      "\n",
      "Testing CNN config: {'embedding_dim': 128, 'num_filters': 50, 'filter_sizes': (4, 5, 6), 'dropout': 0.3, 'lr': 0.0005, 'batch_size': 32}\n"
     ]
    },
    {
     "name": "stderr",
     "output_type": "stream",
     "text": [
      "                                                          "
     ]
    },
    {
     "name": "stdout",
     "output_type": "stream",
     "text": [
      "\n",
      "Epoch 1 — Train Loss: 0.1703\n",
      "\n",
      "Validation Accuracy: 0.5208\n"
     ]
    },
    {
     "name": "stderr",
     "output_type": "stream",
     "text": [
      "                                                          "
     ]
    },
    {
     "name": "stdout",
     "output_type": "stream",
     "text": [
      "\n",
      "Epoch 2 — Train Loss: 0.0815\n",
      "\n",
      "Validation Accuracy: 0.8625\n"
     ]
    },
    {
     "name": "stderr",
     "output_type": "stream",
     "text": [
      "                                                          "
     ]
    },
    {
     "name": "stdout",
     "output_type": "stream",
     "text": [
      "\n",
      "Epoch 3 — Train Loss: 0.0416\n",
      "\n",
      "Validation Accuracy: 0.9000\n"
     ]
    },
    {
     "name": "stderr",
     "output_type": "stream",
     "text": [
      "                                                          "
     ]
    },
    {
     "name": "stdout",
     "output_type": "stream",
     "text": [
      "\n",
      "Epoch 4 — Train Loss: 0.0264\n",
      "\n",
      "Validation Accuracy: 0.8958\n"
     ]
    },
    {
     "name": "stderr",
     "output_type": "stream",
     "text": [
      "                                                          "
     ]
    },
    {
     "name": "stdout",
     "output_type": "stream",
     "text": [
      "\n",
      "Epoch 5 — Train Loss: 0.0166\n",
      "\n",
      "Validation Accuracy: 0.8833\n",
      "\n",
      "Testing CNN config: {'embedding_dim': 128, 'num_filters': 50, 'filter_sizes': (4, 5, 6), 'dropout': 0.3, 'lr': 0.0005, 'batch_size': 64}\n"
     ]
    },
    {
     "name": "stderr",
     "output_type": "stream",
     "text": [
      "                                                        "
     ]
    },
    {
     "name": "stdout",
     "output_type": "stream",
     "text": [
      "\n",
      "Epoch 1 — Train Loss: 0.1804\n",
      "\n",
      "Validation Accuracy: 0.5000\n"
     ]
    },
    {
     "name": "stderr",
     "output_type": "stream",
     "text": [
      "                                                        "
     ]
    },
    {
     "name": "stdout",
     "output_type": "stream",
     "text": [
      "\n",
      "Epoch 2 — Train Loss: 0.1071\n",
      "\n",
      "Validation Accuracy: 0.7625\n"
     ]
    },
    {
     "name": "stderr",
     "output_type": "stream",
     "text": [
      "                                                        "
     ]
    },
    {
     "name": "stdout",
     "output_type": "stream",
     "text": [
      "\n",
      "Epoch 3 — Train Loss: 0.0659\n",
      "\n",
      "Validation Accuracy: 0.8917\n"
     ]
    },
    {
     "name": "stderr",
     "output_type": "stream",
     "text": [
      "                                                        "
     ]
    },
    {
     "name": "stdout",
     "output_type": "stream",
     "text": [
      "\n",
      "Epoch 4 — Train Loss: 0.0422\n",
      "\n",
      "Validation Accuracy: 0.8958\n"
     ]
    },
    {
     "name": "stderr",
     "output_type": "stream",
     "text": [
      "                                                        "
     ]
    },
    {
     "name": "stdout",
     "output_type": "stream",
     "text": [
      "\n",
      "Epoch 5 — Train Loss: 0.0285\n",
      "\n",
      "Validation Accuracy: 0.9125\n",
      "\n",
      "Testing CNN config: {'embedding_dim': 128, 'num_filters': 50, 'filter_sizes': (4, 5, 6), 'dropout': 0.5, 'lr': 0.001, 'batch_size': 32}\n"
     ]
    },
    {
     "name": "stderr",
     "output_type": "stream",
     "text": [
      "                                                          "
     ]
    },
    {
     "name": "stdout",
     "output_type": "stream",
     "text": [
      "\n",
      "Epoch 1 — Train Loss: 0.1350\n",
      "\n",
      "Validation Accuracy: 0.8583\n"
     ]
    },
    {
     "name": "stderr",
     "output_type": "stream",
     "text": [
      "                                                          "
     ]
    },
    {
     "name": "stdout",
     "output_type": "stream",
     "text": [
      "\n",
      "Epoch 2 — Train Loss: 0.0609\n",
      "\n",
      "Validation Accuracy: 0.8958\n"
     ]
    },
    {
     "name": "stderr",
     "output_type": "stream",
     "text": [
      "                                                          "
     ]
    },
    {
     "name": "stdout",
     "output_type": "stream",
     "text": [
      "\n",
      "Epoch 3 — Train Loss: 0.0385\n",
      "\n",
      "Validation Accuracy: 0.9083\n"
     ]
    },
    {
     "name": "stderr",
     "output_type": "stream",
     "text": [
      "                                                          "
     ]
    },
    {
     "name": "stdout",
     "output_type": "stream",
     "text": [
      "\n",
      "Epoch 4 — Train Loss: 0.0287\n",
      "\n",
      "Validation Accuracy: 0.8958\n"
     ]
    },
    {
     "name": "stderr",
     "output_type": "stream",
     "text": [
      "                                                          "
     ]
    },
    {
     "name": "stdout",
     "output_type": "stream",
     "text": [
      "\n",
      "Epoch 5 — Train Loss: 0.0165\n",
      "\n",
      "Validation Accuracy: 0.8958\n",
      "\n",
      "Testing CNN config: {'embedding_dim': 128, 'num_filters': 50, 'filter_sizes': (4, 5, 6), 'dropout': 0.5, 'lr': 0.001, 'batch_size': 64}\n"
     ]
    },
    {
     "name": "stderr",
     "output_type": "stream",
     "text": [
      "                                                        "
     ]
    },
    {
     "name": "stdout",
     "output_type": "stream",
     "text": [
      "\n",
      "Epoch 1 — Train Loss: 0.1699\n",
      "\n",
      "Validation Accuracy: 0.5458\n"
     ]
    },
    {
     "name": "stderr",
     "output_type": "stream",
     "text": [
      "                                                        "
     ]
    },
    {
     "name": "stdout",
     "output_type": "stream",
     "text": [
      "\n",
      "Epoch 2 — Train Loss: 0.0907\n",
      "\n",
      "Validation Accuracy: 0.8042\n"
     ]
    },
    {
     "name": "stderr",
     "output_type": "stream",
     "text": [
      "                                                        "
     ]
    },
    {
     "name": "stdout",
     "output_type": "stream",
     "text": [
      "\n",
      "Epoch 3 — Train Loss: 0.0522\n",
      "\n",
      "Validation Accuracy: 0.8958\n"
     ]
    },
    {
     "name": "stderr",
     "output_type": "stream",
     "text": [
      "                                                        "
     ]
    },
    {
     "name": "stdout",
     "output_type": "stream",
     "text": [
      "\n",
      "Epoch 4 — Train Loss: 0.0371\n",
      "\n",
      "Validation Accuracy: 0.8875\n"
     ]
    },
    {
     "name": "stderr",
     "output_type": "stream",
     "text": [
      "                                                        "
     ]
    },
    {
     "name": "stdout",
     "output_type": "stream",
     "text": [
      "\n",
      "Epoch 5 — Train Loss: 0.0256\n",
      "\n",
      "Validation Accuracy: 0.9042\n",
      "\n",
      "Testing CNN config: {'embedding_dim': 128, 'num_filters': 50, 'filter_sizes': (4, 5, 6), 'dropout': 0.5, 'lr': 0.0005, 'batch_size': 32}\n"
     ]
    },
    {
     "name": "stderr",
     "output_type": "stream",
     "text": [
      "                                                          "
     ]
    },
    {
     "name": "stdout",
     "output_type": "stream",
     "text": [
      "\n",
      "Epoch 1 — Train Loss: 0.1927\n",
      "\n",
      "Validation Accuracy: 0.5000\n"
     ]
    },
    {
     "name": "stderr",
     "output_type": "stream",
     "text": [
      "                                                          "
     ]
    },
    {
     "name": "stdout",
     "output_type": "stream",
     "text": [
      "\n",
      "Epoch 2 — Train Loss: 0.1153\n",
      "\n",
      "Validation Accuracy: 0.7125\n"
     ]
    },
    {
     "name": "stderr",
     "output_type": "stream",
     "text": [
      "                                                          "
     ]
    },
    {
     "name": "stdout",
     "output_type": "stream",
     "text": [
      "\n",
      "Epoch 3 — Train Loss: 0.0759\n",
      "\n",
      "Validation Accuracy: 0.8708\n"
     ]
    },
    {
     "name": "stderr",
     "output_type": "stream",
     "text": [
      "                                                          "
     ]
    },
    {
     "name": "stdout",
     "output_type": "stream",
     "text": [
      "\n",
      "Epoch 4 — Train Loss: 0.0532\n",
      "\n",
      "Validation Accuracy: 0.8792\n"
     ]
    },
    {
     "name": "stderr",
     "output_type": "stream",
     "text": [
      "                                                          "
     ]
    },
    {
     "name": "stdout",
     "output_type": "stream",
     "text": [
      "\n",
      "Epoch 5 — Train Loss: 0.0373\n",
      "\n",
      "Validation Accuracy: 0.9167\n",
      "\n",
      "Testing CNN config: {'embedding_dim': 128, 'num_filters': 50, 'filter_sizes': (4, 5, 6), 'dropout': 0.5, 'lr': 0.0005, 'batch_size': 64}\n"
     ]
    },
    {
     "name": "stderr",
     "output_type": "stream",
     "text": [
      "                                                        "
     ]
    },
    {
     "name": "stdout",
     "output_type": "stream",
     "text": [
      "\n",
      "Epoch 1 — Train Loss: 0.2077\n",
      "\n",
      "Validation Accuracy: 0.5000\n"
     ]
    },
    {
     "name": "stderr",
     "output_type": "stream",
     "text": [
      "                                                        "
     ]
    },
    {
     "name": "stdout",
     "output_type": "stream",
     "text": [
      "\n",
      "Epoch 2 — Train Loss: 0.1332\n",
      "\n",
      "Validation Accuracy: 0.5625\n"
     ]
    },
    {
     "name": "stderr",
     "output_type": "stream",
     "text": [
      "                                                        "
     ]
    },
    {
     "name": "stdout",
     "output_type": "stream",
     "text": [
      "\n",
      "Epoch 3 — Train Loss: 0.0970\n",
      "\n",
      "Validation Accuracy: 0.7417\n"
     ]
    },
    {
     "name": "stderr",
     "output_type": "stream",
     "text": [
      "                                                        "
     ]
    },
    {
     "name": "stdout",
     "output_type": "stream",
     "text": [
      "\n",
      "Epoch 4 — Train Loss: 0.0695\n",
      "\n",
      "Validation Accuracy: 0.8250\n"
     ]
    },
    {
     "name": "stderr",
     "output_type": "stream",
     "text": [
      "                                                        "
     ]
    },
    {
     "name": "stdout",
     "output_type": "stream",
     "text": [
      "\n",
      "Epoch 5 — Train Loss: 0.0550\n",
      "\n",
      "Validation Accuracy: 0.8750\n",
      "\n",
      "Testing CNN config: {'embedding_dim': 128, 'num_filters': 100, 'filter_sizes': (3, 4, 5), 'dropout': 0.3, 'lr': 0.001, 'batch_size': 32}\n"
     ]
    },
    {
     "name": "stderr",
     "output_type": "stream",
     "text": [
      "                                                          "
     ]
    },
    {
     "name": "stdout",
     "output_type": "stream",
     "text": [
      "\n",
      "Epoch 1 — Train Loss: 0.1013\n",
      "\n",
      "Validation Accuracy: 0.9083\n"
     ]
    },
    {
     "name": "stderr",
     "output_type": "stream",
     "text": [
      "                                                          "
     ]
    },
    {
     "name": "stdout",
     "output_type": "stream",
     "text": [
      "\n",
      "Epoch 2 — Train Loss: 0.0261\n",
      "\n",
      "Validation Accuracy: 0.8958\n"
     ]
    },
    {
     "name": "stderr",
     "output_type": "stream",
     "text": [
      "                                                          "
     ]
    },
    {
     "name": "stdout",
     "output_type": "stream",
     "text": [
      "\n",
      "Epoch 3 — Train Loss: 0.0132\n",
      "\n",
      "Validation Accuracy: 0.9375\n"
     ]
    },
    {
     "name": "stderr",
     "output_type": "stream",
     "text": [
      "                                                          "
     ]
    },
    {
     "name": "stdout",
     "output_type": "stream",
     "text": [
      "\n",
      "Epoch 4 — Train Loss: 0.0064\n",
      "\n",
      "Validation Accuracy: 0.8792\n"
     ]
    },
    {
     "name": "stderr",
     "output_type": "stream",
     "text": [
      "                                                          "
     ]
    },
    {
     "name": "stdout",
     "output_type": "stream",
     "text": [
      "\n",
      "Epoch 5 — Train Loss: 0.0047\n",
      "\n",
      "Validation Accuracy: 0.8750\n",
      "\n",
      "Testing CNN config: {'embedding_dim': 128, 'num_filters': 100, 'filter_sizes': (3, 4, 5), 'dropout': 0.3, 'lr': 0.001, 'batch_size': 64}\n"
     ]
    },
    {
     "name": "stderr",
     "output_type": "stream",
     "text": [
      "                                                        "
     ]
    },
    {
     "name": "stdout",
     "output_type": "stream",
     "text": [
      "\n",
      "Epoch 1 — Train Loss: 0.1400\n",
      "\n",
      "Validation Accuracy: 0.7542\n"
     ]
    },
    {
     "name": "stderr",
     "output_type": "stream",
     "text": [
      "                                                        "
     ]
    },
    {
     "name": "stdout",
     "output_type": "stream",
     "text": [
      "\n",
      "Epoch 2 — Train Loss: 0.0467\n",
      "\n",
      "Validation Accuracy: 0.9083\n"
     ]
    },
    {
     "name": "stderr",
     "output_type": "stream",
     "text": [
      "                                                        "
     ]
    },
    {
     "name": "stdout",
     "output_type": "stream",
     "text": [
      "\n",
      "Epoch 3 — Train Loss: 0.0221\n",
      "\n",
      "Validation Accuracy: 0.9250\n"
     ]
    },
    {
     "name": "stderr",
     "output_type": "stream",
     "text": [
      "                                                        "
     ]
    },
    {
     "name": "stdout",
     "output_type": "stream",
     "text": [
      "\n",
      "Epoch 4 — Train Loss: 0.0121\n",
      "\n",
      "Validation Accuracy: 0.9000\n"
     ]
    },
    {
     "name": "stderr",
     "output_type": "stream",
     "text": [
      "                                                        "
     ]
    },
    {
     "name": "stdout",
     "output_type": "stream",
     "text": [
      "\n",
      "Epoch 5 — Train Loss: 0.0080\n",
      "\n",
      "Validation Accuracy: 0.8875\n",
      "\n",
      "Testing CNN config: {'embedding_dim': 128, 'num_filters': 100, 'filter_sizes': (3, 4, 5), 'dropout': 0.3, 'lr': 0.0005, 'batch_size': 32}\n"
     ]
    },
    {
     "name": "stderr",
     "output_type": "stream",
     "text": [
      "                                                          "
     ]
    },
    {
     "name": "stdout",
     "output_type": "stream",
     "text": [
      "\n",
      "Epoch 1 — Train Loss: 0.1518\n",
      "\n",
      "Validation Accuracy: 0.7083\n"
     ]
    },
    {
     "name": "stderr",
     "output_type": "stream",
     "text": [
      "                                                          "
     ]
    },
    {
     "name": "stdout",
     "output_type": "stream",
     "text": [
      "\n",
      "Epoch 2 — Train Loss: 0.0595\n",
      "\n",
      "Validation Accuracy: 0.9083\n"
     ]
    },
    {
     "name": "stderr",
     "output_type": "stream",
     "text": [
      "                                                          "
     ]
    },
    {
     "name": "stdout",
     "output_type": "stream",
     "text": [
      "\n",
      "Epoch 3 — Train Loss: 0.0293\n",
      "\n",
      "Validation Accuracy: 0.9208\n"
     ]
    },
    {
     "name": "stderr",
     "output_type": "stream",
     "text": [
      "                                                          "
     ]
    },
    {
     "name": "stdout",
     "output_type": "stream",
     "text": [
      "\n",
      "Epoch 4 — Train Loss: 0.0167\n",
      "\n",
      "Validation Accuracy: 0.9000\n"
     ]
    },
    {
     "name": "stderr",
     "output_type": "stream",
     "text": [
      "                                                          "
     ]
    },
    {
     "name": "stdout",
     "output_type": "stream",
     "text": [
      "\n",
      "Epoch 5 — Train Loss: 0.0109\n",
      "\n",
      "Validation Accuracy: 0.8917\n",
      "\n",
      "Testing CNN config: {'embedding_dim': 128, 'num_filters': 100, 'filter_sizes': (3, 4, 5), 'dropout': 0.3, 'lr': 0.0005, 'batch_size': 64}\n"
     ]
    },
    {
     "name": "stderr",
     "output_type": "stream",
     "text": [
      "                                                        "
     ]
    },
    {
     "name": "stdout",
     "output_type": "stream",
     "text": [
      "\n",
      "Epoch 1 — Train Loss: 0.1537\n",
      "\n",
      "Validation Accuracy: 0.6250\n"
     ]
    },
    {
     "name": "stderr",
     "output_type": "stream",
     "text": [
      "                                                        "
     ]
    },
    {
     "name": "stdout",
     "output_type": "stream",
     "text": [
      "\n",
      "Epoch 2 — Train Loss: 0.0748\n",
      "\n",
      "Validation Accuracy: 0.8750\n"
     ]
    },
    {
     "name": "stderr",
     "output_type": "stream",
     "text": [
      "                                                        "
     ]
    },
    {
     "name": "stdout",
     "output_type": "stream",
     "text": [
      "\n",
      "Epoch 3 — Train Loss: 0.0403\n",
      "\n",
      "Validation Accuracy: 0.9167\n"
     ]
    },
    {
     "name": "stderr",
     "output_type": "stream",
     "text": [
      "                                                        "
     ]
    },
    {
     "name": "stdout",
     "output_type": "stream",
     "text": [
      "\n",
      "Epoch 4 — Train Loss: 0.0244\n",
      "\n",
      "Validation Accuracy: 0.9167\n"
     ]
    },
    {
     "name": "stderr",
     "output_type": "stream",
     "text": [
      "                                                        "
     ]
    },
    {
     "name": "stdout",
     "output_type": "stream",
     "text": [
      "\n",
      "Epoch 5 — Train Loss: 0.0163\n",
      "\n",
      "Validation Accuracy: 0.8917\n",
      "\n",
      "Testing CNN config: {'embedding_dim': 128, 'num_filters': 100, 'filter_sizes': (3, 4, 5), 'dropout': 0.5, 'lr': 0.001, 'batch_size': 32}\n"
     ]
    },
    {
     "name": "stderr",
     "output_type": "stream",
     "text": [
      "                                                          "
     ]
    },
    {
     "name": "stdout",
     "output_type": "stream",
     "text": [
      "\n",
      "Epoch 1 — Train Loss: 0.1228\n",
      "\n",
      "Validation Accuracy: 0.8500\n"
     ]
    },
    {
     "name": "stderr",
     "output_type": "stream",
     "text": [
      "                                                          "
     ]
    },
    {
     "name": "stdout",
     "output_type": "stream",
     "text": [
      "\n",
      "Epoch 2 — Train Loss: 0.0465\n",
      "\n",
      "Validation Accuracy: 0.9083\n"
     ]
    },
    {
     "name": "stderr",
     "output_type": "stream",
     "text": [
      "                                                          "
     ]
    },
    {
     "name": "stdout",
     "output_type": "stream",
     "text": [
      "\n",
      "Epoch 3 — Train Loss: 0.0315\n",
      "\n",
      "Validation Accuracy: 0.8958\n"
     ]
    },
    {
     "name": "stderr",
     "output_type": "stream",
     "text": [
      "                                                          "
     ]
    },
    {
     "name": "stdout",
     "output_type": "stream",
     "text": [
      "\n",
      "Epoch 4 — Train Loss: 0.0184\n",
      "\n",
      "Validation Accuracy: 0.9250\n"
     ]
    },
    {
     "name": "stderr",
     "output_type": "stream",
     "text": [
      "                                                          "
     ]
    },
    {
     "name": "stdout",
     "output_type": "stream",
     "text": [
      "\n",
      "Epoch 5 — Train Loss: 0.0147\n",
      "\n",
      "Validation Accuracy: 0.9125\n",
      "\n",
      "Testing CNN config: {'embedding_dim': 128, 'num_filters': 100, 'filter_sizes': (3, 4, 5), 'dropout': 0.5, 'lr': 0.001, 'batch_size': 64}\n"
     ]
    },
    {
     "name": "stderr",
     "output_type": "stream",
     "text": [
      "                                                        "
     ]
    },
    {
     "name": "stdout",
     "output_type": "stream",
     "text": [
      "\n",
      "Epoch 1 — Train Loss: 0.1518\n",
      "\n",
      "Validation Accuracy: 0.7375\n"
     ]
    },
    {
     "name": "stderr",
     "output_type": "stream",
     "text": [
      "                                                        "
     ]
    },
    {
     "name": "stdout",
     "output_type": "stream",
     "text": [
      "\n",
      "Epoch 2 — Train Loss: 0.0649\n",
      "\n",
      "Validation Accuracy: 0.8875\n"
     ]
    },
    {
     "name": "stderr",
     "output_type": "stream",
     "text": [
      "                                                        "
     ]
    },
    {
     "name": "stdout",
     "output_type": "stream",
     "text": [
      "\n",
      "Epoch 3 — Train Loss: 0.0378\n",
      "\n",
      "Validation Accuracy: 0.8958\n"
     ]
    },
    {
     "name": "stderr",
     "output_type": "stream",
     "text": [
      "                                                        "
     ]
    },
    {
     "name": "stdout",
     "output_type": "stream",
     "text": [
      "\n",
      "Epoch 4 — Train Loss: 0.0262\n",
      "\n",
      "Validation Accuracy: 0.9208\n"
     ]
    },
    {
     "name": "stderr",
     "output_type": "stream",
     "text": [
      "                                                        "
     ]
    },
    {
     "name": "stdout",
     "output_type": "stream",
     "text": [
      "\n",
      "Epoch 5 — Train Loss: 0.0179\n",
      "\n",
      "Validation Accuracy: 0.9167\n",
      "\n",
      "Testing CNN config: {'embedding_dim': 128, 'num_filters': 100, 'filter_sizes': (3, 4, 5), 'dropout': 0.5, 'lr': 0.0005, 'batch_size': 32}\n"
     ]
    },
    {
     "name": "stderr",
     "output_type": "stream",
     "text": [
      "                                                          "
     ]
    },
    {
     "name": "stdout",
     "output_type": "stream",
     "text": [
      "\n",
      "Epoch 1 — Train Loss: 0.1690\n",
      "\n",
      "Validation Accuracy: 0.6125\n"
     ]
    },
    {
     "name": "stderr",
     "output_type": "stream",
     "text": [
      "                                                          "
     ]
    },
    {
     "name": "stdout",
     "output_type": "stream",
     "text": [
      "\n",
      "Epoch 2 — Train Loss: 0.0865\n",
      "\n",
      "Validation Accuracy: 0.8208\n"
     ]
    },
    {
     "name": "stderr",
     "output_type": "stream",
     "text": [
      "                                                          "
     ]
    },
    {
     "name": "stdout",
     "output_type": "stream",
     "text": [
      "\n",
      "Epoch 3 — Train Loss: 0.0493\n",
      "\n",
      "Validation Accuracy: 0.9083\n"
     ]
    },
    {
     "name": "stderr",
     "output_type": "stream",
     "text": [
      "                                                          "
     ]
    },
    {
     "name": "stdout",
     "output_type": "stream",
     "text": [
      "\n",
      "Epoch 4 — Train Loss: 0.0329\n",
      "\n",
      "Validation Accuracy: 0.9083\n"
     ]
    },
    {
     "name": "stderr",
     "output_type": "stream",
     "text": [
      "                                                          "
     ]
    },
    {
     "name": "stdout",
     "output_type": "stream",
     "text": [
      "\n",
      "Epoch 5 — Train Loss: 0.0240\n",
      "\n",
      "Validation Accuracy: 0.8875\n",
      "\n",
      "Testing CNN config: {'embedding_dim': 128, 'num_filters': 100, 'filter_sizes': (3, 4, 5), 'dropout': 0.5, 'lr': 0.0005, 'batch_size': 64}\n"
     ]
    },
    {
     "name": "stderr",
     "output_type": "stream",
     "text": [
      "                                                        "
     ]
    },
    {
     "name": "stdout",
     "output_type": "stream",
     "text": [
      "\n",
      "Epoch 1 — Train Loss: 0.1812\n",
      "\n",
      "Validation Accuracy: 0.5042\n"
     ]
    },
    {
     "name": "stderr",
     "output_type": "stream",
     "text": [
      "                                                        "
     ]
    },
    {
     "name": "stdout",
     "output_type": "stream",
     "text": [
      "\n",
      "Epoch 2 — Train Loss: 0.1059\n",
      "\n",
      "Validation Accuracy: 0.7625\n"
     ]
    },
    {
     "name": "stderr",
     "output_type": "stream",
     "text": [
      "                                                        "
     ]
    },
    {
     "name": "stdout",
     "output_type": "stream",
     "text": [
      "\n",
      "Epoch 3 — Train Loss: 0.0677\n",
      "\n",
      "Validation Accuracy: 0.8875\n"
     ]
    },
    {
     "name": "stderr",
     "output_type": "stream",
     "text": [
      "                                                        "
     ]
    },
    {
     "name": "stdout",
     "output_type": "stream",
     "text": [
      "\n",
      "Epoch 4 — Train Loss: 0.0482\n",
      "\n",
      "Validation Accuracy: 0.8958\n"
     ]
    },
    {
     "name": "stderr",
     "output_type": "stream",
     "text": [
      "                                                        "
     ]
    },
    {
     "name": "stdout",
     "output_type": "stream",
     "text": [
      "\n",
      "Epoch 5 — Train Loss: 0.0354\n",
      "\n",
      "Validation Accuracy: 0.9083\n",
      "\n",
      "Testing CNN config: {'embedding_dim': 128, 'num_filters': 100, 'filter_sizes': (2, 3, 4), 'dropout': 0.3, 'lr': 0.001, 'batch_size': 32}\n"
     ]
    },
    {
     "name": "stderr",
     "output_type": "stream",
     "text": [
      "                                                          "
     ]
    },
    {
     "name": "stdout",
     "output_type": "stream",
     "text": [
      "\n",
      "Epoch 1 — Train Loss: 0.1342\n",
      "\n",
      "Validation Accuracy: 0.8667\n"
     ]
    },
    {
     "name": "stderr",
     "output_type": "stream",
     "text": [
      "                                                          "
     ]
    },
    {
     "name": "stdout",
     "output_type": "stream",
     "text": [
      "\n",
      "Epoch 2 — Train Loss: 0.0428\n",
      "\n",
      "Validation Accuracy: 0.9125\n"
     ]
    },
    {
     "name": "stderr",
     "output_type": "stream",
     "text": [
      "                                                          "
     ]
    },
    {
     "name": "stdout",
     "output_type": "stream",
     "text": [
      "\n",
      "Epoch 3 — Train Loss: 0.0200\n",
      "\n",
      "Validation Accuracy: 0.8792\n"
     ]
    },
    {
     "name": "stderr",
     "output_type": "stream",
     "text": [
      "                                                          "
     ]
    },
    {
     "name": "stdout",
     "output_type": "stream",
     "text": [
      "\n",
      "Epoch 4 — Train Loss: 0.0138\n",
      "\n",
      "Validation Accuracy: 0.9083\n"
     ]
    },
    {
     "name": "stderr",
     "output_type": "stream",
     "text": [
      "                                                          "
     ]
    },
    {
     "name": "stdout",
     "output_type": "stream",
     "text": [
      "\n",
      "Epoch 5 — Train Loss: 0.0076\n",
      "\n",
      "Validation Accuracy: 0.8875\n",
      "\n",
      "Testing CNN config: {'embedding_dim': 128, 'num_filters': 100, 'filter_sizes': (2, 3, 4), 'dropout': 0.3, 'lr': 0.001, 'batch_size': 64}\n"
     ]
    },
    {
     "name": "stderr",
     "output_type": "stream",
     "text": [
      "                                                        "
     ]
    },
    {
     "name": "stdout",
     "output_type": "stream",
     "text": [
      "\n",
      "Epoch 1 — Train Loss: 0.1224\n",
      "\n",
      "Validation Accuracy: 0.9042\n"
     ]
    },
    {
     "name": "stderr",
     "output_type": "stream",
     "text": [
      "                                                        "
     ]
    },
    {
     "name": "stdout",
     "output_type": "stream",
     "text": [
      "\n",
      "Epoch 2 — Train Loss: 0.0465\n",
      "\n",
      "Validation Accuracy: 0.9125\n"
     ]
    },
    {
     "name": "stderr",
     "output_type": "stream",
     "text": [
      "                                                        "
     ]
    },
    {
     "name": "stdout",
     "output_type": "stream",
     "text": [
      "\n",
      "Epoch 3 — Train Loss: 0.0222\n",
      "\n",
      "Validation Accuracy: 0.8917\n"
     ]
    },
    {
     "name": "stderr",
     "output_type": "stream",
     "text": [
      "                                                        "
     ]
    },
    {
     "name": "stdout",
     "output_type": "stream",
     "text": [
      "\n",
      "Epoch 4 — Train Loss: 0.0140\n",
      "\n",
      "Validation Accuracy: 0.8875\n"
     ]
    },
    {
     "name": "stderr",
     "output_type": "stream",
     "text": [
      "                                                        "
     ]
    },
    {
     "name": "stdout",
     "output_type": "stream",
     "text": [
      "\n",
      "Epoch 5 — Train Loss: 0.0096\n",
      "\n",
      "Validation Accuracy: 0.9083\n",
      "\n",
      "Testing CNN config: {'embedding_dim': 128, 'num_filters': 100, 'filter_sizes': (2, 3, 4), 'dropout': 0.3, 'lr': 0.0005, 'batch_size': 32}\n"
     ]
    },
    {
     "name": "stderr",
     "output_type": "stream",
     "text": [
      "                                                          "
     ]
    },
    {
     "name": "stdout",
     "output_type": "stream",
     "text": [
      "\n",
      "Epoch 1 — Train Loss: 0.1372\n",
      "\n",
      "Validation Accuracy: 0.6958\n"
     ]
    },
    {
     "name": "stderr",
     "output_type": "stream",
     "text": [
      "                                                          "
     ]
    },
    {
     "name": "stdout",
     "output_type": "stream",
     "text": [
      "\n",
      "Epoch 2 — Train Loss: 0.0576\n",
      "\n",
      "Validation Accuracy: 0.9083\n"
     ]
    },
    {
     "name": "stderr",
     "output_type": "stream",
     "text": [
      "                                                          "
     ]
    },
    {
     "name": "stdout",
     "output_type": "stream",
     "text": [
      "\n",
      "Epoch 3 — Train Loss: 0.0302\n",
      "\n",
      "Validation Accuracy: 0.9250\n"
     ]
    },
    {
     "name": "stderr",
     "output_type": "stream",
     "text": [
      "                                                          "
     ]
    },
    {
     "name": "stdout",
     "output_type": "stream",
     "text": [
      "\n",
      "Epoch 4 — Train Loss: 0.0191\n",
      "\n",
      "Validation Accuracy: 0.9167\n"
     ]
    },
    {
     "name": "stderr",
     "output_type": "stream",
     "text": [
      "                                                          "
     ]
    },
    {
     "name": "stdout",
     "output_type": "stream",
     "text": [
      "\n",
      "Epoch 5 — Train Loss: 0.0123\n",
      "\n",
      "Validation Accuracy: 0.8875\n",
      "\n",
      "Testing CNN config: {'embedding_dim': 128, 'num_filters': 100, 'filter_sizes': (2, 3, 4), 'dropout': 0.3, 'lr': 0.0005, 'batch_size': 64}\n"
     ]
    },
    {
     "name": "stderr",
     "output_type": "stream",
     "text": [
      "                                                        "
     ]
    },
    {
     "name": "stdout",
     "output_type": "stream",
     "text": [
      "\n",
      "Epoch 1 — Train Loss: 0.1538\n",
      "\n",
      "Validation Accuracy: 0.5458\n"
     ]
    },
    {
     "name": "stderr",
     "output_type": "stream",
     "text": [
      "                                                        "
     ]
    },
    {
     "name": "stdout",
     "output_type": "stream",
     "text": [
      "\n",
      "Epoch 2 — Train Loss: 0.0800\n",
      "\n",
      "Validation Accuracy: 0.8208\n"
     ]
    },
    {
     "name": "stderr",
     "output_type": "stream",
     "text": [
      "                                                        "
     ]
    },
    {
     "name": "stdout",
     "output_type": "stream",
     "text": [
      "\n",
      "Epoch 3 — Train Loss: 0.0485\n",
      "\n",
      "Validation Accuracy: 0.9208\n"
     ]
    },
    {
     "name": "stderr",
     "output_type": "stream",
     "text": [
      "                                                        "
     ]
    },
    {
     "name": "stdout",
     "output_type": "stream",
     "text": [
      "\n",
      "Epoch 4 — Train Loss: 0.0303\n",
      "\n",
      "Validation Accuracy: 0.9250\n"
     ]
    },
    {
     "name": "stderr",
     "output_type": "stream",
     "text": [
      "                                                        "
     ]
    },
    {
     "name": "stdout",
     "output_type": "stream",
     "text": [
      "\n",
      "Epoch 5 — Train Loss: 0.0218\n",
      "\n",
      "Validation Accuracy: 0.9208\n",
      "\n",
      "Testing CNN config: {'embedding_dim': 128, 'num_filters': 100, 'filter_sizes': (2, 3, 4), 'dropout': 0.5, 'lr': 0.001, 'batch_size': 32}\n"
     ]
    },
    {
     "name": "stderr",
     "output_type": "stream",
     "text": [
      "                                                          "
     ]
    },
    {
     "name": "stdout",
     "output_type": "stream",
     "text": [
      "\n",
      "Epoch 1 — Train Loss: 0.1494\n",
      "\n",
      "Validation Accuracy: 0.6958\n"
     ]
    },
    {
     "name": "stderr",
     "output_type": "stream",
     "text": [
      "                                                          "
     ]
    },
    {
     "name": "stdout",
     "output_type": "stream",
     "text": [
      "\n",
      "Epoch 2 — Train Loss: 0.0616\n",
      "\n",
      "Validation Accuracy: 0.9125\n"
     ]
    },
    {
     "name": "stderr",
     "output_type": "stream",
     "text": [
      "                                                          "
     ]
    },
    {
     "name": "stdout",
     "output_type": "stream",
     "text": [
      "\n",
      "Epoch 3 — Train Loss: 0.0388\n",
      "\n",
      "Validation Accuracy: 0.9083\n"
     ]
    },
    {
     "name": "stderr",
     "output_type": "stream",
     "text": [
      "                                                          "
     ]
    },
    {
     "name": "stdout",
     "output_type": "stream",
     "text": [
      "\n",
      "Epoch 4 — Train Loss: 0.0248\n",
      "\n",
      "Validation Accuracy: 0.9083\n"
     ]
    },
    {
     "name": "stderr",
     "output_type": "stream",
     "text": [
      "                                                          "
     ]
    },
    {
     "name": "stdout",
     "output_type": "stream",
     "text": [
      "\n",
      "Epoch 5 — Train Loss: 0.0188\n",
      "\n",
      "Validation Accuracy: 0.9042\n",
      "\n",
      "Testing CNN config: {'embedding_dim': 128, 'num_filters': 100, 'filter_sizes': (2, 3, 4), 'dropout': 0.5, 'lr': 0.001, 'batch_size': 64}\n"
     ]
    },
    {
     "name": "stderr",
     "output_type": "stream",
     "text": [
      "                                                        "
     ]
    },
    {
     "name": "stdout",
     "output_type": "stream",
     "text": [
      "\n",
      "Epoch 1 — Train Loss: 0.1448\n",
      "\n",
      "Validation Accuracy: 0.7958\n"
     ]
    },
    {
     "name": "stderr",
     "output_type": "stream",
     "text": [
      "                                                        "
     ]
    },
    {
     "name": "stdout",
     "output_type": "stream",
     "text": [
      "\n",
      "Epoch 2 — Train Loss: 0.0677\n",
      "\n",
      "Validation Accuracy: 0.8792\n"
     ]
    },
    {
     "name": "stderr",
     "output_type": "stream",
     "text": [
      "                                                        "
     ]
    },
    {
     "name": "stdout",
     "output_type": "stream",
     "text": [
      "\n",
      "Epoch 3 — Train Loss: 0.0424\n",
      "\n",
      "Validation Accuracy: 0.9208\n"
     ]
    },
    {
     "name": "stderr",
     "output_type": "stream",
     "text": [
      "                                                        "
     ]
    },
    {
     "name": "stdout",
     "output_type": "stream",
     "text": [
      "\n",
      "Epoch 4 — Train Loss: 0.0294\n",
      "\n",
      "Validation Accuracy: 0.9167\n"
     ]
    },
    {
     "name": "stderr",
     "output_type": "stream",
     "text": [
      "                                                        "
     ]
    },
    {
     "name": "stdout",
     "output_type": "stream",
     "text": [
      "\n",
      "Epoch 5 — Train Loss: 0.0214\n",
      "\n",
      "Validation Accuracy: 0.9167\n",
      "\n",
      "Testing CNN config: {'embedding_dim': 128, 'num_filters': 100, 'filter_sizes': (2, 3, 4), 'dropout': 0.5, 'lr': 0.0005, 'batch_size': 32}\n"
     ]
    },
    {
     "name": "stderr",
     "output_type": "stream",
     "text": [
      "                                                          "
     ]
    },
    {
     "name": "stdout",
     "output_type": "stream",
     "text": [
      "\n",
      "Epoch 1 — Train Loss: 0.1736\n",
      "\n",
      "Validation Accuracy: 0.5292\n"
     ]
    },
    {
     "name": "stderr",
     "output_type": "stream",
     "text": [
      "                                                          "
     ]
    },
    {
     "name": "stdout",
     "output_type": "stream",
     "text": [
      "\n",
      "Epoch 2 — Train Loss: 0.0929\n",
      "\n",
      "Validation Accuracy: 0.8833\n"
     ]
    },
    {
     "name": "stderr",
     "output_type": "stream",
     "text": [
      "                                                          "
     ]
    },
    {
     "name": "stdout",
     "output_type": "stream",
     "text": [
      "\n",
      "Epoch 3 — Train Loss: 0.0583\n",
      "\n",
      "Validation Accuracy: 0.9125\n"
     ]
    },
    {
     "name": "stderr",
     "output_type": "stream",
     "text": [
      "                                                          "
     ]
    },
    {
     "name": "stdout",
     "output_type": "stream",
     "text": [
      "\n",
      "Epoch 4 — Train Loss: 0.0380\n",
      "\n",
      "Validation Accuracy: 0.9125\n"
     ]
    },
    {
     "name": "stderr",
     "output_type": "stream",
     "text": [
      "                                                          "
     ]
    },
    {
     "name": "stdout",
     "output_type": "stream",
     "text": [
      "\n",
      "Epoch 5 — Train Loss: 0.0293\n",
      "\n",
      "Validation Accuracy: 0.9208\n",
      "\n",
      "Testing CNN config: {'embedding_dim': 128, 'num_filters': 100, 'filter_sizes': (2, 3, 4), 'dropout': 0.5, 'lr': 0.0005, 'batch_size': 64}\n"
     ]
    },
    {
     "name": "stderr",
     "output_type": "stream",
     "text": [
      "                                                        "
     ]
    },
    {
     "name": "stdout",
     "output_type": "stream",
     "text": [
      "\n",
      "Epoch 1 — Train Loss: 0.2021\n",
      "\n",
      "Validation Accuracy: 0.5000\n"
     ]
    },
    {
     "name": "stderr",
     "output_type": "stream",
     "text": [
      "                                                        "
     ]
    },
    {
     "name": "stdout",
     "output_type": "stream",
     "text": [
      "\n",
      "Epoch 2 — Train Loss: 0.1225\n",
      "\n",
      "Validation Accuracy: 0.6458\n"
     ]
    },
    {
     "name": "stderr",
     "output_type": "stream",
     "text": [
      "                                                        "
     ]
    },
    {
     "name": "stdout",
     "output_type": "stream",
     "text": [
      "\n",
      "Epoch 3 — Train Loss: 0.0843\n",
      "\n",
      "Validation Accuracy: 0.8208\n"
     ]
    },
    {
     "name": "stderr",
     "output_type": "stream",
     "text": [
      "                                                        "
     ]
    },
    {
     "name": "stdout",
     "output_type": "stream",
     "text": [
      "\n",
      "Epoch 4 — Train Loss: 0.0602\n",
      "\n",
      "Validation Accuracy: 0.8625\n"
     ]
    },
    {
     "name": "stderr",
     "output_type": "stream",
     "text": [
      "                                                        "
     ]
    },
    {
     "name": "stdout",
     "output_type": "stream",
     "text": [
      "\n",
      "Epoch 5 — Train Loss: 0.0488\n",
      "\n",
      "Validation Accuracy: 0.9208\n",
      "\n",
      "Testing CNN config: {'embedding_dim': 128, 'num_filters': 100, 'filter_sizes': (4, 5, 6), 'dropout': 0.3, 'lr': 0.001, 'batch_size': 32}\n"
     ]
    },
    {
     "name": "stderr",
     "output_type": "stream",
     "text": [
      "                                                          "
     ]
    },
    {
     "name": "stdout",
     "output_type": "stream",
     "text": [
      "\n",
      "Epoch 1 — Train Loss: 0.1113\n",
      "\n",
      "Validation Accuracy: 0.8625\n"
     ]
    },
    {
     "name": "stderr",
     "output_type": "stream",
     "text": [
      "                                                          "
     ]
    },
    {
     "name": "stdout",
     "output_type": "stream",
     "text": [
      "\n",
      "Epoch 2 — Train Loss: 0.0290\n",
      "\n",
      "Validation Accuracy: 0.9167\n"
     ]
    },
    {
     "name": "stderr",
     "output_type": "stream",
     "text": [
      "                                                          "
     ]
    },
    {
     "name": "stdout",
     "output_type": "stream",
     "text": [
      "\n",
      "Epoch 3 — Train Loss: 0.0120\n",
      "\n",
      "Validation Accuracy: 0.9083\n"
     ]
    },
    {
     "name": "stderr",
     "output_type": "stream",
     "text": [
      "                                                          "
     ]
    },
    {
     "name": "stdout",
     "output_type": "stream",
     "text": [
      "\n",
      "Epoch 4 — Train Loss: 0.0066\n",
      "\n",
      "Validation Accuracy: 0.8792\n"
     ]
    },
    {
     "name": "stderr",
     "output_type": "stream",
     "text": [
      "                                                          "
     ]
    },
    {
     "name": "stdout",
     "output_type": "stream",
     "text": [
      "\n",
      "Epoch 5 — Train Loss: 0.0045\n",
      "\n",
      "Validation Accuracy: 0.8792\n",
      "\n",
      "Testing CNN config: {'embedding_dim': 128, 'num_filters': 100, 'filter_sizes': (4, 5, 6), 'dropout': 0.3, 'lr': 0.001, 'batch_size': 64}\n"
     ]
    },
    {
     "name": "stderr",
     "output_type": "stream",
     "text": [
      "                                                        "
     ]
    },
    {
     "name": "stdout",
     "output_type": "stream",
     "text": [
      "\n",
      "Epoch 1 — Train Loss: 0.1057\n",
      "\n",
      "Validation Accuracy: 0.8958\n"
     ]
    },
    {
     "name": "stderr",
     "output_type": "stream",
     "text": [
      "                                                        "
     ]
    },
    {
     "name": "stdout",
     "output_type": "stream",
     "text": [
      "\n",
      "Epoch 2 — Train Loss: 0.0306\n",
      "\n",
      "Validation Accuracy: 0.9042\n"
     ]
    },
    {
     "name": "stderr",
     "output_type": "stream",
     "text": [
      "                                                        "
     ]
    },
    {
     "name": "stdout",
     "output_type": "stream",
     "text": [
      "\n",
      "Epoch 3 — Train Loss: 0.0136\n",
      "\n",
      "Validation Accuracy: 0.8875\n"
     ]
    },
    {
     "name": "stderr",
     "output_type": "stream",
     "text": [
      "                                                        "
     ]
    },
    {
     "name": "stdout",
     "output_type": "stream",
     "text": [
      "\n",
      "Epoch 4 — Train Loss: 0.0076\n",
      "\n",
      "Validation Accuracy: 0.8583\n"
     ]
    },
    {
     "name": "stderr",
     "output_type": "stream",
     "text": [
      "                                                        "
     ]
    },
    {
     "name": "stdout",
     "output_type": "stream",
     "text": [
      "\n",
      "Epoch 5 — Train Loss: 0.0053\n",
      "\n",
      "Validation Accuracy: 0.8583\n",
      "\n",
      "Testing CNN config: {'embedding_dim': 128, 'num_filters': 100, 'filter_sizes': (4, 5, 6), 'dropout': 0.3, 'lr': 0.0005, 'batch_size': 32}\n"
     ]
    },
    {
     "name": "stderr",
     "output_type": "stream",
     "text": [
      "                                                          "
     ]
    },
    {
     "name": "stdout",
     "output_type": "stream",
     "text": [
      "\n",
      "Epoch 1 — Train Loss: 0.1460\n",
      "\n",
      "Validation Accuracy: 0.7375\n"
     ]
    },
    {
     "name": "stderr",
     "output_type": "stream",
     "text": [
      "                                                          "
     ]
    },
    {
     "name": "stdout",
     "output_type": "stream",
     "text": [
      "\n",
      "Epoch 2 — Train Loss: 0.0539\n",
      "\n",
      "Validation Accuracy: 0.8875\n"
     ]
    },
    {
     "name": "stderr",
     "output_type": "stream",
     "text": [
      "                                                          "
     ]
    },
    {
     "name": "stdout",
     "output_type": "stream",
     "text": [
      "\n",
      "Epoch 3 — Train Loss: 0.0270\n",
      "\n",
      "Validation Accuracy: 0.9042\n"
     ]
    },
    {
     "name": "stderr",
     "output_type": "stream",
     "text": [
      "                                                          "
     ]
    },
    {
     "name": "stdout",
     "output_type": "stream",
     "text": [
      "\n",
      "Epoch 4 — Train Loss: 0.0136\n",
      "\n",
      "Validation Accuracy: 0.8875\n"
     ]
    },
    {
     "name": "stderr",
     "output_type": "stream",
     "text": [
      "                                                          "
     ]
    },
    {
     "name": "stdout",
     "output_type": "stream",
     "text": [
      "\n",
      "Epoch 5 — Train Loss: 0.0087\n",
      "\n",
      "Validation Accuracy: 0.8833\n",
      "\n",
      "Testing CNN config: {'embedding_dim': 128, 'num_filters': 100, 'filter_sizes': (4, 5, 6), 'dropout': 0.3, 'lr': 0.0005, 'batch_size': 64}\n"
     ]
    },
    {
     "name": "stderr",
     "output_type": "stream",
     "text": [
      "                                                        "
     ]
    },
    {
     "name": "stdout",
     "output_type": "stream",
     "text": [
      "\n",
      "Epoch 1 — Train Loss: 0.2196\n",
      "\n",
      "Validation Accuracy: 0.5000\n"
     ]
    },
    {
     "name": "stderr",
     "output_type": "stream",
     "text": [
      "                                                        "
     ]
    },
    {
     "name": "stdout",
     "output_type": "stream",
     "text": [
      "\n",
      "Epoch 2 — Train Loss: 0.1054\n",
      "\n",
      "Validation Accuracy: 0.7667\n"
     ]
    },
    {
     "name": "stderr",
     "output_type": "stream",
     "text": [
      "                                                        "
     ]
    },
    {
     "name": "stdout",
     "output_type": "stream",
     "text": [
      "\n",
      "Epoch 3 — Train Loss: 0.0655\n",
      "\n",
      "Validation Accuracy: 0.8750\n"
     ]
    },
    {
     "name": "stderr",
     "output_type": "stream",
     "text": [
      "                                                        "
     ]
    },
    {
     "name": "stdout",
     "output_type": "stream",
     "text": [
      "\n",
      "Epoch 4 — Train Loss: 0.0423\n",
      "\n",
      "Validation Accuracy: 0.9042\n"
     ]
    },
    {
     "name": "stderr",
     "output_type": "stream",
     "text": [
      "                                                        "
     ]
    },
    {
     "name": "stdout",
     "output_type": "stream",
     "text": [
      "\n",
      "Epoch 5 — Train Loss: 0.0274\n",
      "\n",
      "Validation Accuracy: 0.9083\n",
      "\n",
      "Testing CNN config: {'embedding_dim': 128, 'num_filters': 100, 'filter_sizes': (4, 5, 6), 'dropout': 0.5, 'lr': 0.001, 'batch_size': 32}\n"
     ]
    },
    {
     "name": "stderr",
     "output_type": "stream",
     "text": [
      "                                                          "
     ]
    },
    {
     "name": "stdout",
     "output_type": "stream",
     "text": [
      "\n",
      "Epoch 1 — Train Loss: 0.1199\n",
      "\n",
      "Validation Accuracy: 0.8792\n"
     ]
    },
    {
     "name": "stderr",
     "output_type": "stream",
     "text": [
      "                                                          "
     ]
    },
    {
     "name": "stdout",
     "output_type": "stream",
     "text": [
      "\n",
      "Epoch 2 — Train Loss: 0.0491\n",
      "\n",
      "Validation Accuracy: 0.9042\n"
     ]
    },
    {
     "name": "stderr",
     "output_type": "stream",
     "text": [
      "                                                          "
     ]
    },
    {
     "name": "stdout",
     "output_type": "stream",
     "text": [
      "\n",
      "Epoch 3 — Train Loss: 0.0250\n",
      "\n",
      "Validation Accuracy: 0.8708\n"
     ]
    },
    {
     "name": "stderr",
     "output_type": "stream",
     "text": [
      "                                                          "
     ]
    },
    {
     "name": "stdout",
     "output_type": "stream",
     "text": [
      "\n",
      "Epoch 4 — Train Loss: 0.0155\n",
      "\n",
      "Validation Accuracy: 0.8708\n"
     ]
    },
    {
     "name": "stderr",
     "output_type": "stream",
     "text": [
      "                                                          "
     ]
    },
    {
     "name": "stdout",
     "output_type": "stream",
     "text": [
      "\n",
      "Epoch 5 — Train Loss: 0.0118\n",
      "\n",
      "Validation Accuracy: 0.8542\n",
      "\n",
      "Testing CNN config: {'embedding_dim': 128, 'num_filters': 100, 'filter_sizes': (4, 5, 6), 'dropout': 0.5, 'lr': 0.001, 'batch_size': 64}\n"
     ]
    },
    {
     "name": "stderr",
     "output_type": "stream",
     "text": [
      "                                                        "
     ]
    },
    {
     "name": "stdout",
     "output_type": "stream",
     "text": [
      "\n",
      "Epoch 1 — Train Loss: 0.1587\n",
      "\n",
      "Validation Accuracy: 0.7833\n"
     ]
    },
    {
     "name": "stderr",
     "output_type": "stream",
     "text": [
      "                                                        "
     ]
    },
    {
     "name": "stdout",
     "output_type": "stream",
     "text": [
      "\n",
      "Epoch 2 — Train Loss: 0.0657\n",
      "\n",
      "Validation Accuracy: 0.8583\n"
     ]
    },
    {
     "name": "stderr",
     "output_type": "stream",
     "text": [
      "                                                        "
     ]
    },
    {
     "name": "stdout",
     "output_type": "stream",
     "text": [
      "\n",
      "Epoch 3 — Train Loss: 0.0362\n",
      "\n",
      "Validation Accuracy: 0.9125\n"
     ]
    },
    {
     "name": "stderr",
     "output_type": "stream",
     "text": [
      "                                                        "
     ]
    },
    {
     "name": "stdout",
     "output_type": "stream",
     "text": [
      "\n",
      "Epoch 4 — Train Loss: 0.0232\n",
      "\n",
      "Validation Accuracy: 0.9167\n"
     ]
    },
    {
     "name": "stderr",
     "output_type": "stream",
     "text": [
      "                                                        "
     ]
    },
    {
     "name": "stdout",
     "output_type": "stream",
     "text": [
      "\n",
      "Epoch 5 — Train Loss: 0.0150\n",
      "\n",
      "Validation Accuracy: 0.9125\n",
      "\n",
      "Testing CNN config: {'embedding_dim': 128, 'num_filters': 100, 'filter_sizes': (4, 5, 6), 'dropout': 0.5, 'lr': 0.0005, 'batch_size': 32}\n"
     ]
    },
    {
     "name": "stderr",
     "output_type": "stream",
     "text": [
      "                                                          "
     ]
    },
    {
     "name": "stdout",
     "output_type": "stream",
     "text": [
      "\n",
      "Epoch 1 — Train Loss: 0.1696\n",
      "\n",
      "Validation Accuracy: 0.6083\n"
     ]
    },
    {
     "name": "stderr",
     "output_type": "stream",
     "text": [
      "                                                          "
     ]
    },
    {
     "name": "stdout",
     "output_type": "stream",
     "text": [
      "\n",
      "Epoch 2 — Train Loss: 0.0815\n",
      "\n",
      "Validation Accuracy: 0.8417\n"
     ]
    },
    {
     "name": "stderr",
     "output_type": "stream",
     "text": [
      "                                                          "
     ]
    },
    {
     "name": "stdout",
     "output_type": "stream",
     "text": [
      "\n",
      "Epoch 3 — Train Loss: 0.0475\n",
      "\n",
      "Validation Accuracy: 0.8750\n"
     ]
    },
    {
     "name": "stderr",
     "output_type": "stream",
     "text": [
      "                                                          "
     ]
    },
    {
     "name": "stdout",
     "output_type": "stream",
     "text": [
      "\n",
      "Epoch 4 — Train Loss: 0.0297\n",
      "\n",
      "Validation Accuracy: 0.8833\n"
     ]
    },
    {
     "name": "stderr",
     "output_type": "stream",
     "text": [
      "                                                          "
     ]
    },
    {
     "name": "stdout",
     "output_type": "stream",
     "text": [
      "\n",
      "Epoch 5 — Train Loss: 0.0196\n",
      "\n",
      "Validation Accuracy: 0.8833\n",
      "\n",
      "Testing CNN config: {'embedding_dim': 128, 'num_filters': 100, 'filter_sizes': (4, 5, 6), 'dropout': 0.5, 'lr': 0.0005, 'batch_size': 64}\n"
     ]
    },
    {
     "name": "stderr",
     "output_type": "stream",
     "text": [
      "                                                        "
     ]
    },
    {
     "name": "stdout",
     "output_type": "stream",
     "text": [
      "\n",
      "Epoch 1 — Train Loss: 0.1888\n",
      "\n",
      "Validation Accuracy: 0.5000\n"
     ]
    },
    {
     "name": "stderr",
     "output_type": "stream",
     "text": [
      "                                                        "
     ]
    },
    {
     "name": "stdout",
     "output_type": "stream",
     "text": [
      "\n",
      "Epoch 2 — Train Loss: 0.1118\n",
      "\n",
      "Validation Accuracy: 0.6792\n"
     ]
    },
    {
     "name": "stderr",
     "output_type": "stream",
     "text": [
      "                                                        "
     ]
    },
    {
     "name": "stdout",
     "output_type": "stream",
     "text": [
      "\n",
      "Epoch 3 — Train Loss: 0.0687\n",
      "\n",
      "Validation Accuracy: 0.8625\n"
     ]
    },
    {
     "name": "stderr",
     "output_type": "stream",
     "text": [
      "                                                        "
     ]
    },
    {
     "name": "stdout",
     "output_type": "stream",
     "text": [
      "\n",
      "Epoch 4 — Train Loss: 0.0475\n",
      "\n",
      "Validation Accuracy: 0.8875\n"
     ]
    },
    {
     "name": "stderr",
     "output_type": "stream",
     "text": [
      "                                                        "
     ]
    },
    {
     "name": "stdout",
     "output_type": "stream",
     "text": [
      "\n",
      "Epoch 5 — Train Loss: 0.0323\n",
      "\n",
      "Validation Accuracy: 0.8958\n",
      "\n",
      "Testing CNN config: {'embedding_dim': 128, 'num_filters': 150, 'filter_sizes': (3, 4, 5), 'dropout': 0.3, 'lr': 0.001, 'batch_size': 32}\n"
     ]
    },
    {
     "name": "stderr",
     "output_type": "stream",
     "text": [
      "                                                          "
     ]
    },
    {
     "name": "stdout",
     "output_type": "stream",
     "text": [
      "\n",
      "Epoch 1 — Train Loss: 0.1057\n",
      "\n",
      "Validation Accuracy: 0.8958\n"
     ]
    },
    {
     "name": "stderr",
     "output_type": "stream",
     "text": [
      "                                                          "
     ]
    },
    {
     "name": "stdout",
     "output_type": "stream",
     "text": [
      "\n",
      "Epoch 2 — Train Loss: 0.0256\n",
      "\n",
      "Validation Accuracy: 0.9125\n"
     ]
    },
    {
     "name": "stderr",
     "output_type": "stream",
     "text": [
      "                                                          "
     ]
    },
    {
     "name": "stdout",
     "output_type": "stream",
     "text": [
      "\n",
      "Epoch 3 — Train Loss: 0.0106\n",
      "\n",
      "Validation Accuracy: 0.8875\n"
     ]
    },
    {
     "name": "stderr",
     "output_type": "stream",
     "text": [
      "                                                          "
     ]
    },
    {
     "name": "stdout",
     "output_type": "stream",
     "text": [
      "\n",
      "Epoch 4 — Train Loss: 0.0063\n",
      "\n",
      "Validation Accuracy: 0.8875\n"
     ]
    },
    {
     "name": "stderr",
     "output_type": "stream",
     "text": [
      "                                                          "
     ]
    },
    {
     "name": "stdout",
     "output_type": "stream",
     "text": [
      "\n",
      "Epoch 5 — Train Loss: 0.0038\n",
      "\n",
      "Validation Accuracy: 0.8833\n",
      "\n",
      "Testing CNN config: {'embedding_dim': 128, 'num_filters': 150, 'filter_sizes': (3, 4, 5), 'dropout': 0.3, 'lr': 0.001, 'batch_size': 64}\n"
     ]
    },
    {
     "name": "stderr",
     "output_type": "stream",
     "text": [
      "                                                        "
     ]
    },
    {
     "name": "stdout",
     "output_type": "stream",
     "text": [
      "\n",
      "Epoch 1 — Train Loss: 0.1177\n",
      "\n",
      "Validation Accuracy: 0.8042\n"
     ]
    },
    {
     "name": "stderr",
     "output_type": "stream",
     "text": [
      "                                                        "
     ]
    },
    {
     "name": "stdout",
     "output_type": "stream",
     "text": [
      "\n",
      "Epoch 2 — Train Loss: 0.0338\n",
      "\n",
      "Validation Accuracy: 0.9250\n"
     ]
    },
    {
     "name": "stderr",
     "output_type": "stream",
     "text": [
      "                                                        "
     ]
    },
    {
     "name": "stdout",
     "output_type": "stream",
     "text": [
      "\n",
      "Epoch 3 — Train Loss: 0.0128\n",
      "\n",
      "Validation Accuracy: 0.9042\n"
     ]
    },
    {
     "name": "stderr",
     "output_type": "stream",
     "text": [
      "                                                        "
     ]
    },
    {
     "name": "stdout",
     "output_type": "stream",
     "text": [
      "\n",
      "Epoch 4 — Train Loss: 0.0074\n",
      "\n",
      "Validation Accuracy: 0.8542\n"
     ]
    },
    {
     "name": "stderr",
     "output_type": "stream",
     "text": [
      "                                                        "
     ]
    },
    {
     "name": "stdout",
     "output_type": "stream",
     "text": [
      "\n",
      "Epoch 5 — Train Loss: 0.0049\n",
      "\n",
      "Validation Accuracy: 0.8750\n",
      "\n",
      "Testing CNN config: {'embedding_dim': 128, 'num_filters': 150, 'filter_sizes': (3, 4, 5), 'dropout': 0.3, 'lr': 0.0005, 'batch_size': 32}\n"
     ]
    },
    {
     "name": "stderr",
     "output_type": "stream",
     "text": [
      "                                                          "
     ]
    },
    {
     "name": "stdout",
     "output_type": "stream",
     "text": [
      "\n",
      "Epoch 1 — Train Loss: 0.1275\n",
      "\n",
      "Validation Accuracy: 0.8250\n"
     ]
    },
    {
     "name": "stderr",
     "output_type": "stream",
     "text": [
      "                                                          "
     ]
    },
    {
     "name": "stdout",
     "output_type": "stream",
     "text": [
      "\n",
      "Epoch 2 — Train Loss: 0.0450\n",
      "\n",
      "Validation Accuracy: 0.9083\n"
     ]
    },
    {
     "name": "stderr",
     "output_type": "stream",
     "text": [
      "                                                          "
     ]
    },
    {
     "name": "stdout",
     "output_type": "stream",
     "text": [
      "\n",
      "Epoch 3 — Train Loss: 0.0198\n",
      "\n",
      "Validation Accuracy: 0.9208\n"
     ]
    },
    {
     "name": "stderr",
     "output_type": "stream",
     "text": [
      "                                                          "
     ]
    },
    {
     "name": "stdout",
     "output_type": "stream",
     "text": [
      "\n",
      "Epoch 4 — Train Loss: 0.0117\n",
      "\n",
      "Validation Accuracy: 0.8875\n"
     ]
    },
    {
     "name": "stderr",
     "output_type": "stream",
     "text": [
      "                                                          "
     ]
    },
    {
     "name": "stdout",
     "output_type": "stream",
     "text": [
      "\n",
      "Epoch 5 — Train Loss: 0.0063\n",
      "\n",
      "Validation Accuracy: 0.8792\n",
      "\n",
      "Testing CNN config: {'embedding_dim': 128, 'num_filters': 150, 'filter_sizes': (3, 4, 5), 'dropout': 0.3, 'lr': 0.0005, 'batch_size': 64}\n"
     ]
    },
    {
     "name": "stderr",
     "output_type": "stream",
     "text": [
      "                                                        "
     ]
    },
    {
     "name": "stdout",
     "output_type": "stream",
     "text": [
      "\n",
      "Epoch 1 — Train Loss: 0.1676\n",
      "\n",
      "Validation Accuracy: 0.6333\n"
     ]
    },
    {
     "name": "stderr",
     "output_type": "stream",
     "text": [
      "                                                        "
     ]
    },
    {
     "name": "stdout",
     "output_type": "stream",
     "text": [
      "\n",
      "Epoch 2 — Train Loss: 0.0772\n",
      "\n",
      "Validation Accuracy: 0.8750\n"
     ]
    },
    {
     "name": "stderr",
     "output_type": "stream",
     "text": [
      "                                                        "
     ]
    },
    {
     "name": "stdout",
     "output_type": "stream",
     "text": [
      "\n",
      "Epoch 3 — Train Loss: 0.0406\n",
      "\n",
      "Validation Accuracy: 0.8958\n"
     ]
    },
    {
     "name": "stderr",
     "output_type": "stream",
     "text": [
      "                                                        "
     ]
    },
    {
     "name": "stdout",
     "output_type": "stream",
     "text": [
      "\n",
      "Epoch 4 — Train Loss: 0.0247\n",
      "\n",
      "Validation Accuracy: 0.9042\n"
     ]
    },
    {
     "name": "stderr",
     "output_type": "stream",
     "text": [
      "                                                        "
     ]
    },
    {
     "name": "stdout",
     "output_type": "stream",
     "text": [
      "\n",
      "Epoch 5 — Train Loss: 0.0170\n",
      "\n",
      "Validation Accuracy: 0.8792\n",
      "\n",
      "Testing CNN config: {'embedding_dim': 128, 'num_filters': 150, 'filter_sizes': (3, 4, 5), 'dropout': 0.5, 'lr': 0.001, 'batch_size': 32}\n"
     ]
    },
    {
     "name": "stderr",
     "output_type": "stream",
     "text": [
      "                                                          "
     ]
    },
    {
     "name": "stdout",
     "output_type": "stream",
     "text": [
      "\n",
      "Epoch 1 — Train Loss: 0.1201\n",
      "\n",
      "Validation Accuracy: 0.8417\n"
     ]
    },
    {
     "name": "stderr",
     "output_type": "stream",
     "text": [
      "                                                          "
     ]
    },
    {
     "name": "stdout",
     "output_type": "stream",
     "text": [
      "\n",
      "Epoch 2 — Train Loss: 0.0411\n",
      "\n",
      "Validation Accuracy: 0.8917\n"
     ]
    },
    {
     "name": "stderr",
     "output_type": "stream",
     "text": [
      "                                                          "
     ]
    },
    {
     "name": "stdout",
     "output_type": "stream",
     "text": [
      "\n",
      "Epoch 3 — Train Loss: 0.0237\n",
      "\n",
      "Validation Accuracy: 0.8833\n"
     ]
    },
    {
     "name": "stderr",
     "output_type": "stream",
     "text": [
      "                                                          "
     ]
    },
    {
     "name": "stdout",
     "output_type": "stream",
     "text": [
      "\n",
      "Epoch 4 — Train Loss: 0.0168\n",
      "\n",
      "Validation Accuracy: 0.9000\n"
     ]
    },
    {
     "name": "stderr",
     "output_type": "stream",
     "text": [
      "                                                          "
     ]
    },
    {
     "name": "stdout",
     "output_type": "stream",
     "text": [
      "\n",
      "Epoch 5 — Train Loss: 0.0108\n",
      "\n",
      "Validation Accuracy: 0.8833\n",
      "\n",
      "Testing CNN config: {'embedding_dim': 128, 'num_filters': 150, 'filter_sizes': (3, 4, 5), 'dropout': 0.5, 'lr': 0.001, 'batch_size': 64}\n"
     ]
    },
    {
     "name": "stderr",
     "output_type": "stream",
     "text": [
      "                                                        "
     ]
    },
    {
     "name": "stdout",
     "output_type": "stream",
     "text": [
      "\n",
      "Epoch 1 — Train Loss: 0.1611\n",
      "\n",
      "Validation Accuracy: 0.6958\n"
     ]
    },
    {
     "name": "stderr",
     "output_type": "stream",
     "text": [
      "                                                        "
     ]
    },
    {
     "name": "stdout",
     "output_type": "stream",
     "text": [
      "\n",
      "Epoch 2 — Train Loss: 0.0596\n",
      "\n",
      "Validation Accuracy: 0.9208\n"
     ]
    },
    {
     "name": "stderr",
     "output_type": "stream",
     "text": [
      "                                                        "
     ]
    },
    {
     "name": "stdout",
     "output_type": "stream",
     "text": [
      "\n",
      "Epoch 3 — Train Loss: 0.0310\n",
      "\n",
      "Validation Accuracy: 0.9167\n"
     ]
    },
    {
     "name": "stderr",
     "output_type": "stream",
     "text": [
      "                                                        "
     ]
    },
    {
     "name": "stdout",
     "output_type": "stream",
     "text": [
      "\n",
      "Epoch 4 — Train Loss: 0.0223\n",
      "\n",
      "Validation Accuracy: 0.9292\n"
     ]
    },
    {
     "name": "stderr",
     "output_type": "stream",
     "text": [
      "                                                        "
     ]
    },
    {
     "name": "stdout",
     "output_type": "stream",
     "text": [
      "\n",
      "Epoch 5 — Train Loss: 0.0123\n",
      "\n",
      "Validation Accuracy: 0.9083\n",
      "\n",
      "Testing CNN config: {'embedding_dim': 128, 'num_filters': 150, 'filter_sizes': (3, 4, 5), 'dropout': 0.5, 'lr': 0.0005, 'batch_size': 32}\n"
     ]
    },
    {
     "name": "stderr",
     "output_type": "stream",
     "text": [
      "                                                          "
     ]
    },
    {
     "name": "stdout",
     "output_type": "stream",
     "text": [
      "\n",
      "Epoch 1 — Train Loss: 0.1431\n",
      "\n",
      "Validation Accuracy: 0.7042\n"
     ]
    },
    {
     "name": "stderr",
     "output_type": "stream",
     "text": [
      "                                                          "
     ]
    },
    {
     "name": "stdout",
     "output_type": "stream",
     "text": [
      "\n",
      "Epoch 2 — Train Loss: 0.0639\n",
      "\n",
      "Validation Accuracy: 0.8917\n"
     ]
    },
    {
     "name": "stderr",
     "output_type": "stream",
     "text": [
      "                                                          "
     ]
    },
    {
     "name": "stdout",
     "output_type": "stream",
     "text": [
      "\n",
      "Epoch 3 — Train Loss: 0.0377\n",
      "\n",
      "Validation Accuracy: 0.9333\n"
     ]
    },
    {
     "name": "stderr",
     "output_type": "stream",
     "text": [
      "                                                          "
     ]
    },
    {
     "name": "stdout",
     "output_type": "stream",
     "text": [
      "\n",
      "Epoch 4 — Train Loss: 0.0239\n",
      "\n",
      "Validation Accuracy: 0.9000\n"
     ]
    },
    {
     "name": "stderr",
     "output_type": "stream",
     "text": [
      "                                                          "
     ]
    },
    {
     "name": "stdout",
     "output_type": "stream",
     "text": [
      "\n",
      "Epoch 5 — Train Loss: 0.0167\n",
      "\n",
      "Validation Accuracy: 0.9250\n",
      "\n",
      "Testing CNN config: {'embedding_dim': 128, 'num_filters': 150, 'filter_sizes': (3, 4, 5), 'dropout': 0.5, 'lr': 0.0005, 'batch_size': 64}\n"
     ]
    },
    {
     "name": "stderr",
     "output_type": "stream",
     "text": [
      "                                                        "
     ]
    },
    {
     "name": "stdout",
     "output_type": "stream",
     "text": [
      "\n",
      "Epoch 1 — Train Loss: 0.1868\n",
      "\n",
      "Validation Accuracy: 0.5083\n"
     ]
    },
    {
     "name": "stderr",
     "output_type": "stream",
     "text": [
      "                                                        "
     ]
    },
    {
     "name": "stdout",
     "output_type": "stream",
     "text": [
      "\n",
      "Epoch 2 — Train Loss: 0.0986\n",
      "\n",
      "Validation Accuracy: 0.7125\n"
     ]
    },
    {
     "name": "stderr",
     "output_type": "stream",
     "text": [
      "                                                        "
     ]
    },
    {
     "name": "stdout",
     "output_type": "stream",
     "text": [
      "\n",
      "Epoch 3 — Train Loss: 0.0606\n",
      "\n",
      "Validation Accuracy: 0.8833\n"
     ]
    },
    {
     "name": "stderr",
     "output_type": "stream",
     "text": [
      "                                                        "
     ]
    },
    {
     "name": "stdout",
     "output_type": "stream",
     "text": [
      "\n",
      "Epoch 4 — Train Loss: 0.0407\n",
      "\n",
      "Validation Accuracy: 0.9250\n"
     ]
    },
    {
     "name": "stderr",
     "output_type": "stream",
     "text": [
      "                                                        "
     ]
    },
    {
     "name": "stdout",
     "output_type": "stream",
     "text": [
      "\n",
      "Epoch 5 — Train Loss: 0.0292\n",
      "\n",
      "Validation Accuracy: 0.9000\n",
      "\n",
      "Testing CNN config: {'embedding_dim': 128, 'num_filters': 150, 'filter_sizes': (2, 3, 4), 'dropout': 0.3, 'lr': 0.001, 'batch_size': 32}\n"
     ]
    },
    {
     "name": "stderr",
     "output_type": "stream",
     "text": [
      "                                                          "
     ]
    },
    {
     "name": "stdout",
     "output_type": "stream",
     "text": [
      "\n",
      "Epoch 1 — Train Loss: 0.1058\n",
      "\n",
      "Validation Accuracy: 0.9000\n"
     ]
    },
    {
     "name": "stderr",
     "output_type": "stream",
     "text": [
      "                                                          "
     ]
    },
    {
     "name": "stdout",
     "output_type": "stream",
     "text": [
      "\n",
      "Epoch 2 — Train Loss: 0.0278\n",
      "\n",
      "Validation Accuracy: 0.9083\n"
     ]
    },
    {
     "name": "stderr",
     "output_type": "stream",
     "text": [
      "                                                          "
     ]
    },
    {
     "name": "stdout",
     "output_type": "stream",
     "text": [
      "\n",
      "Epoch 3 — Train Loss: 0.0109\n",
      "\n",
      "Validation Accuracy: 0.9083\n"
     ]
    },
    {
     "name": "stderr",
     "output_type": "stream",
     "text": [
      "                                                          "
     ]
    },
    {
     "name": "stdout",
     "output_type": "stream",
     "text": [
      "\n",
      "Epoch 4 — Train Loss: 0.0072\n",
      "\n",
      "Validation Accuracy: 0.8958\n"
     ]
    },
    {
     "name": "stderr",
     "output_type": "stream",
     "text": [
      "                                                          "
     ]
    },
    {
     "name": "stdout",
     "output_type": "stream",
     "text": [
      "\n",
      "Epoch 5 — Train Loss: 0.0047\n",
      "\n",
      "Validation Accuracy: 0.9125\n",
      "\n",
      "Testing CNN config: {'embedding_dim': 128, 'num_filters': 150, 'filter_sizes': (2, 3, 4), 'dropout': 0.3, 'lr': 0.001, 'batch_size': 64}\n"
     ]
    },
    {
     "name": "stderr",
     "output_type": "stream",
     "text": [
      "                                                        "
     ]
    },
    {
     "name": "stdout",
     "output_type": "stream",
     "text": [
      "\n",
      "Epoch 1 — Train Loss: 0.1589\n",
      "\n",
      "Validation Accuracy: 0.7500\n"
     ]
    },
    {
     "name": "stderr",
     "output_type": "stream",
     "text": [
      "                                                        "
     ]
    },
    {
     "name": "stdout",
     "output_type": "stream",
     "text": [
      "\n",
      "Epoch 2 — Train Loss: 0.0556\n",
      "\n",
      "Validation Accuracy: 0.8875\n"
     ]
    },
    {
     "name": "stderr",
     "output_type": "stream",
     "text": [
      "                                                        "
     ]
    },
    {
     "name": "stdout",
     "output_type": "stream",
     "text": [
      "\n",
      "Epoch 3 — Train Loss: 0.0257\n",
      "\n",
      "Validation Accuracy: 0.9000\n"
     ]
    },
    {
     "name": "stderr",
     "output_type": "stream",
     "text": [
      "                                                        "
     ]
    },
    {
     "name": "stdout",
     "output_type": "stream",
     "text": [
      "\n",
      "Epoch 4 — Train Loss: 0.0141\n",
      "\n",
      "Validation Accuracy: 0.9000\n"
     ]
    },
    {
     "name": "stderr",
     "output_type": "stream",
     "text": [
      "                                                        "
     ]
    },
    {
     "name": "stdout",
     "output_type": "stream",
     "text": [
      "\n",
      "Epoch 5 — Train Loss: 0.0089\n",
      "\n",
      "Validation Accuracy: 0.9042\n",
      "\n",
      "Testing CNN config: {'embedding_dim': 128, 'num_filters': 150, 'filter_sizes': (2, 3, 4), 'dropout': 0.3, 'lr': 0.0005, 'batch_size': 32}\n"
     ]
    },
    {
     "name": "stderr",
     "output_type": "stream",
     "text": [
      "                                                          "
     ]
    },
    {
     "name": "stdout",
     "output_type": "stream",
     "text": [
      "\n",
      "Epoch 1 — Train Loss: 0.1339\n",
      "\n",
      "Validation Accuracy: 0.8750\n"
     ]
    },
    {
     "name": "stderr",
     "output_type": "stream",
     "text": [
      "                                                          "
     ]
    },
    {
     "name": "stdout",
     "output_type": "stream",
     "text": [
      "\n",
      "Epoch 2 — Train Loss: 0.0528\n",
      "\n",
      "Validation Accuracy: 0.9083\n"
     ]
    },
    {
     "name": "stderr",
     "output_type": "stream",
     "text": [
      "                                                          "
     ]
    },
    {
     "name": "stdout",
     "output_type": "stream",
     "text": [
      "\n",
      "Epoch 3 — Train Loss: 0.0265\n",
      "\n",
      "Validation Accuracy: 0.8958\n"
     ]
    },
    {
     "name": "stderr",
     "output_type": "stream",
     "text": [
      "                                                          "
     ]
    },
    {
     "name": "stdout",
     "output_type": "stream",
     "text": [
      "\n",
      "Epoch 4 — Train Loss: 0.0152\n",
      "\n",
      "Validation Accuracy: 0.9042\n"
     ]
    },
    {
     "name": "stderr",
     "output_type": "stream",
     "text": [
      "                                                          "
     ]
    },
    {
     "name": "stdout",
     "output_type": "stream",
     "text": [
      "\n",
      "Epoch 5 — Train Loss: 0.0096\n",
      "\n",
      "Validation Accuracy: 0.8667\n",
      "\n",
      "Testing CNN config: {'embedding_dim': 128, 'num_filters': 150, 'filter_sizes': (2, 3, 4), 'dropout': 0.3, 'lr': 0.0005, 'batch_size': 64}\n"
     ]
    },
    {
     "name": "stderr",
     "output_type": "stream",
     "text": [
      "                                                        "
     ]
    },
    {
     "name": "stdout",
     "output_type": "stream",
     "text": [
      "\n",
      "Epoch 1 — Train Loss: 0.1757\n",
      "\n",
      "Validation Accuracy: 0.5667\n"
     ]
    },
    {
     "name": "stderr",
     "output_type": "stream",
     "text": [
      "                                                        "
     ]
    },
    {
     "name": "stdout",
     "output_type": "stream",
     "text": [
      "\n",
      "Epoch 2 — Train Loss: 0.0887\n",
      "\n",
      "Validation Accuracy: 0.8583\n"
     ]
    },
    {
     "name": "stderr",
     "output_type": "stream",
     "text": [
      "                                                        "
     ]
    },
    {
     "name": "stdout",
     "output_type": "stream",
     "text": [
      "\n",
      "Epoch 3 — Train Loss: 0.0530\n",
      "\n",
      "Validation Accuracy: 0.8833\n"
     ]
    },
    {
     "name": "stderr",
     "output_type": "stream",
     "text": [
      "                                                        "
     ]
    },
    {
     "name": "stdout",
     "output_type": "stream",
     "text": [
      "\n",
      "Epoch 4 — Train Loss: 0.0332\n",
      "\n",
      "Validation Accuracy: 0.9167\n"
     ]
    },
    {
     "name": "stderr",
     "output_type": "stream",
     "text": [
      "                                                        "
     ]
    },
    {
     "name": "stdout",
     "output_type": "stream",
     "text": [
      "\n",
      "Epoch 5 — Train Loss: 0.0219\n",
      "\n",
      "Validation Accuracy: 0.9125\n",
      "\n",
      "Testing CNN config: {'embedding_dim': 128, 'num_filters': 150, 'filter_sizes': (2, 3, 4), 'dropout': 0.5, 'lr': 0.001, 'batch_size': 32}\n"
     ]
    },
    {
     "name": "stderr",
     "output_type": "stream",
     "text": [
      "                                                          "
     ]
    },
    {
     "name": "stdout",
     "output_type": "stream",
     "text": [
      "\n",
      "Epoch 1 — Train Loss: 0.1156\n",
      "\n",
      "Validation Accuracy: 0.8042\n"
     ]
    },
    {
     "name": "stderr",
     "output_type": "stream",
     "text": [
      "                                                          "
     ]
    },
    {
     "name": "stdout",
     "output_type": "stream",
     "text": [
      "\n",
      "Epoch 2 — Train Loss: 0.0462\n",
      "\n",
      "Validation Accuracy: 0.8958\n"
     ]
    },
    {
     "name": "stderr",
     "output_type": "stream",
     "text": [
      "                                                          "
     ]
    },
    {
     "name": "stdout",
     "output_type": "stream",
     "text": [
      "\n",
      "Epoch 3 — Train Loss: 0.0257\n",
      "\n",
      "Validation Accuracy: 0.9167\n"
     ]
    },
    {
     "name": "stderr",
     "output_type": "stream",
     "text": [
      "                                                          "
     ]
    },
    {
     "name": "stdout",
     "output_type": "stream",
     "text": [
      "\n",
      "Epoch 4 — Train Loss: 0.0246\n",
      "\n",
      "Validation Accuracy: 0.9292\n"
     ]
    },
    {
     "name": "stderr",
     "output_type": "stream",
     "text": [
      "                                                          "
     ]
    },
    {
     "name": "stdout",
     "output_type": "stream",
     "text": [
      "\n",
      "Epoch 5 — Train Loss: 0.0153\n",
      "\n",
      "Validation Accuracy: 0.9042\n",
      "\n",
      "Testing CNN config: {'embedding_dim': 128, 'num_filters': 150, 'filter_sizes': (2, 3, 4), 'dropout': 0.5, 'lr': 0.001, 'batch_size': 64}\n"
     ]
    },
    {
     "name": "stderr",
     "output_type": "stream",
     "text": [
      "                                                        "
     ]
    },
    {
     "name": "stdout",
     "output_type": "stream",
     "text": [
      "\n",
      "Epoch 1 — Train Loss: 0.1459\n",
      "\n",
      "Validation Accuracy: 0.7750\n"
     ]
    },
    {
     "name": "stderr",
     "output_type": "stream",
     "text": [
      "                                                        "
     ]
    },
    {
     "name": "stdout",
     "output_type": "stream",
     "text": [
      "\n",
      "Epoch 2 — Train Loss: 0.0656\n",
      "\n",
      "Validation Accuracy: 0.9167\n"
     ]
    },
    {
     "name": "stderr",
     "output_type": "stream",
     "text": [
      "                                                        "
     ]
    },
    {
     "name": "stdout",
     "output_type": "stream",
     "text": [
      "\n",
      "Epoch 3 — Train Loss: 0.0355\n",
      "\n",
      "Validation Accuracy: 0.9167\n"
     ]
    },
    {
     "name": "stderr",
     "output_type": "stream",
     "text": [
      "                                                        "
     ]
    },
    {
     "name": "stdout",
     "output_type": "stream",
     "text": [
      "\n",
      "Epoch 4 — Train Loss: 0.0220\n",
      "\n",
      "Validation Accuracy: 0.9125\n"
     ]
    },
    {
     "name": "stderr",
     "output_type": "stream",
     "text": [
      "                                                        "
     ]
    },
    {
     "name": "stdout",
     "output_type": "stream",
     "text": [
      "\n",
      "Epoch 5 — Train Loss: 0.0177\n",
      "\n",
      "Validation Accuracy: 0.9333\n",
      "\n",
      "Testing CNN config: {'embedding_dim': 128, 'num_filters': 150, 'filter_sizes': (2, 3, 4), 'dropout': 0.5, 'lr': 0.0005, 'batch_size': 32}\n"
     ]
    },
    {
     "name": "stderr",
     "output_type": "stream",
     "text": [
      "                                                          "
     ]
    },
    {
     "name": "stdout",
     "output_type": "stream",
     "text": [
      "\n",
      "Epoch 1 — Train Loss: 0.1609\n",
      "\n",
      "Validation Accuracy: 0.6583\n"
     ]
    },
    {
     "name": "stderr",
     "output_type": "stream",
     "text": [
      "                                                          "
     ]
    },
    {
     "name": "stdout",
     "output_type": "stream",
     "text": [
      "\n",
      "Epoch 2 — Train Loss: 0.0745\n",
      "\n",
      "Validation Accuracy: 0.9000\n"
     ]
    },
    {
     "name": "stderr",
     "output_type": "stream",
     "text": [
      "                                                          "
     ]
    },
    {
     "name": "stdout",
     "output_type": "stream",
     "text": [
      "\n",
      "Epoch 3 — Train Loss: 0.0483\n",
      "\n",
      "Validation Accuracy: 0.9208\n"
     ]
    },
    {
     "name": "stderr",
     "output_type": "stream",
     "text": [
      "                                                          "
     ]
    },
    {
     "name": "stdout",
     "output_type": "stream",
     "text": [
      "\n",
      "Epoch 4 — Train Loss: 0.0310\n",
      "\n",
      "Validation Accuracy: 0.9250\n"
     ]
    },
    {
     "name": "stderr",
     "output_type": "stream",
     "text": [
      "                                                          "
     ]
    },
    {
     "name": "stdout",
     "output_type": "stream",
     "text": [
      "\n",
      "Epoch 5 — Train Loss: 0.0216\n",
      "\n",
      "Validation Accuracy: 0.9250\n",
      "\n",
      "Testing CNN config: {'embedding_dim': 128, 'num_filters': 150, 'filter_sizes': (2, 3, 4), 'dropout': 0.5, 'lr': 0.0005, 'batch_size': 64}\n"
     ]
    },
    {
     "name": "stderr",
     "output_type": "stream",
     "text": [
      "                                                        "
     ]
    },
    {
     "name": "stdout",
     "output_type": "stream",
     "text": [
      "\n",
      "Epoch 1 — Train Loss: 0.1863\n",
      "\n",
      "Validation Accuracy: 0.5125\n"
     ]
    },
    {
     "name": "stderr",
     "output_type": "stream",
     "text": [
      "                                                        "
     ]
    },
    {
     "name": "stdout",
     "output_type": "stream",
     "text": [
      "\n",
      "Epoch 2 — Train Loss: 0.1054\n",
      "\n",
      "Validation Accuracy: 0.7833\n"
     ]
    },
    {
     "name": "stderr",
     "output_type": "stream",
     "text": [
      "                                                        "
     ]
    },
    {
     "name": "stdout",
     "output_type": "stream",
     "text": [
      "\n",
      "Epoch 3 — Train Loss: 0.0680\n",
      "\n",
      "Validation Accuracy: 0.8750\n"
     ]
    },
    {
     "name": "stderr",
     "output_type": "stream",
     "text": [
      "                                                        "
     ]
    },
    {
     "name": "stdout",
     "output_type": "stream",
     "text": [
      "\n",
      "Epoch 4 — Train Loss: 0.0485\n",
      "\n",
      "Validation Accuracy: 0.9000\n"
     ]
    },
    {
     "name": "stderr",
     "output_type": "stream",
     "text": [
      "                                                        "
     ]
    },
    {
     "name": "stdout",
     "output_type": "stream",
     "text": [
      "\n",
      "Epoch 5 — Train Loss: 0.0349\n",
      "\n",
      "Validation Accuracy: 0.9083\n",
      "\n",
      "Testing CNN config: {'embedding_dim': 128, 'num_filters': 150, 'filter_sizes': (4, 5, 6), 'dropout': 0.3, 'lr': 0.001, 'batch_size': 32}\n"
     ]
    },
    {
     "name": "stderr",
     "output_type": "stream",
     "text": [
      "                                                          "
     ]
    },
    {
     "name": "stdout",
     "output_type": "stream",
     "text": [
      "\n",
      "Epoch 1 — Train Loss: 0.1007\n",
      "\n",
      "Validation Accuracy: 0.8375\n"
     ]
    },
    {
     "name": "stderr",
     "output_type": "stream",
     "text": [
      "                                                          "
     ]
    },
    {
     "name": "stdout",
     "output_type": "stream",
     "text": [
      "\n",
      "Epoch 2 — Train Loss: 0.0220\n",
      "\n",
      "Validation Accuracy: 0.8875\n"
     ]
    },
    {
     "name": "stderr",
     "output_type": "stream",
     "text": [
      "                                                          "
     ]
    },
    {
     "name": "stdout",
     "output_type": "stream",
     "text": [
      "\n",
      "Epoch 3 — Train Loss: 0.0083\n",
      "\n",
      "Validation Accuracy: 0.8667\n"
     ]
    },
    {
     "name": "stderr",
     "output_type": "stream",
     "text": [
      "                                                          "
     ]
    },
    {
     "name": "stdout",
     "output_type": "stream",
     "text": [
      "\n",
      "Epoch 4 — Train Loss: 0.0043\n",
      "\n",
      "Validation Accuracy: 0.8625\n"
     ]
    },
    {
     "name": "stderr",
     "output_type": "stream",
     "text": [
      "                                                          "
     ]
    },
    {
     "name": "stdout",
     "output_type": "stream",
     "text": [
      "\n",
      "Epoch 5 — Train Loss: 0.0024\n",
      "\n",
      "Validation Accuracy: 0.8792\n",
      "\n",
      "Testing CNN config: {'embedding_dim': 128, 'num_filters': 150, 'filter_sizes': (4, 5, 6), 'dropout': 0.3, 'lr': 0.001, 'batch_size': 64}\n"
     ]
    },
    {
     "name": "stderr",
     "output_type": "stream",
     "text": [
      "                                                        "
     ]
    },
    {
     "name": "stdout",
     "output_type": "stream",
     "text": [
      "\n",
      "Epoch 1 — Train Loss: 0.1283\n",
      "\n",
      "Validation Accuracy: 0.8417\n"
     ]
    },
    {
     "name": "stderr",
     "output_type": "stream",
     "text": [
      "                                                        "
     ]
    },
    {
     "name": "stdout",
     "output_type": "stream",
     "text": [
      "\n",
      "Epoch 2 — Train Loss: 0.0353\n",
      "\n",
      "Validation Accuracy: 0.8958\n"
     ]
    },
    {
     "name": "stderr",
     "output_type": "stream",
     "text": [
      "                                                        "
     ]
    },
    {
     "name": "stdout",
     "output_type": "stream",
     "text": [
      "\n",
      "Epoch 3 — Train Loss: 0.0146\n",
      "\n",
      "Validation Accuracy: 0.8958\n"
     ]
    },
    {
     "name": "stderr",
     "output_type": "stream",
     "text": [
      "                                                        "
     ]
    },
    {
     "name": "stdout",
     "output_type": "stream",
     "text": [
      "\n",
      "Epoch 4 — Train Loss: 0.0069\n",
      "\n",
      "Validation Accuracy: 0.8667\n"
     ]
    },
    {
     "name": "stderr",
     "output_type": "stream",
     "text": [
      "                                                        "
     ]
    },
    {
     "name": "stdout",
     "output_type": "stream",
     "text": [
      "\n",
      "Epoch 5 — Train Loss: 0.0039\n",
      "\n",
      "Validation Accuracy: 0.8417\n",
      "\n",
      "Testing CNN config: {'embedding_dim': 128, 'num_filters': 150, 'filter_sizes': (4, 5, 6), 'dropout': 0.3, 'lr': 0.0005, 'batch_size': 32}\n"
     ]
    },
    {
     "name": "stderr",
     "output_type": "stream",
     "text": [
      "                                                          "
     ]
    },
    {
     "name": "stdout",
     "output_type": "stream",
     "text": [
      "\n",
      "Epoch 1 — Train Loss: 0.1169\n",
      "\n",
      "Validation Accuracy: 0.8500\n"
     ]
    },
    {
     "name": "stderr",
     "output_type": "stream",
     "text": [
      "                                                          "
     ]
    },
    {
     "name": "stdout",
     "output_type": "stream",
     "text": [
      "\n",
      "Epoch 2 — Train Loss: 0.0383\n",
      "\n",
      "Validation Accuracy: 0.9042\n"
     ]
    },
    {
     "name": "stderr",
     "output_type": "stream",
     "text": [
      "                                                          "
     ]
    },
    {
     "name": "stdout",
     "output_type": "stream",
     "text": [
      "\n",
      "Epoch 3 — Train Loss: 0.0167\n",
      "\n",
      "Validation Accuracy: 0.9000\n"
     ]
    },
    {
     "name": "stderr",
     "output_type": "stream",
     "text": [
      "                                                          "
     ]
    },
    {
     "name": "stdout",
     "output_type": "stream",
     "text": [
      "\n",
      "Epoch 4 — Train Loss: 0.0076\n",
      "\n",
      "Validation Accuracy: 0.8792\n"
     ]
    },
    {
     "name": "stderr",
     "output_type": "stream",
     "text": [
      "                                                          "
     ]
    },
    {
     "name": "stdout",
     "output_type": "stream",
     "text": [
      "\n",
      "Epoch 5 — Train Loss: 0.0048\n",
      "\n",
      "Validation Accuracy: 0.8542\n",
      "\n",
      "Testing CNN config: {'embedding_dim': 128, 'num_filters': 150, 'filter_sizes': (4, 5, 6), 'dropout': 0.3, 'lr': 0.0005, 'batch_size': 64}\n"
     ]
    },
    {
     "name": "stderr",
     "output_type": "stream",
     "text": [
      "                                                        "
     ]
    },
    {
     "name": "stdout",
     "output_type": "stream",
     "text": [
      "\n",
      "Epoch 1 — Train Loss: 0.1724\n",
      "\n",
      "Validation Accuracy: 0.6083\n"
     ]
    },
    {
     "name": "stderr",
     "output_type": "stream",
     "text": [
      "                                                        "
     ]
    },
    {
     "name": "stdout",
     "output_type": "stream",
     "text": [
      "\n",
      "Epoch 2 — Train Loss: 0.0761\n",
      "\n",
      "Validation Accuracy: 0.8208\n"
     ]
    },
    {
     "name": "stderr",
     "output_type": "stream",
     "text": [
      "                                                        "
     ]
    },
    {
     "name": "stdout",
     "output_type": "stream",
     "text": [
      "\n",
      "Epoch 3 — Train Loss: 0.0376\n",
      "\n",
      "Validation Accuracy: 0.8958\n"
     ]
    },
    {
     "name": "stderr",
     "output_type": "stream",
     "text": [
      "                                                        "
     ]
    },
    {
     "name": "stdout",
     "output_type": "stream",
     "text": [
      "\n",
      "Epoch 4 — Train Loss: 0.0227\n",
      "\n",
      "Validation Accuracy: 0.9083\n"
     ]
    },
    {
     "name": "stderr",
     "output_type": "stream",
     "text": [
      "                                                        "
     ]
    },
    {
     "name": "stdout",
     "output_type": "stream",
     "text": [
      "\n",
      "Epoch 5 — Train Loss: 0.0137\n",
      "\n",
      "Validation Accuracy: 0.8833\n",
      "\n",
      "Testing CNN config: {'embedding_dim': 128, 'num_filters': 150, 'filter_sizes': (4, 5, 6), 'dropout': 0.5, 'lr': 0.001, 'batch_size': 32}\n"
     ]
    },
    {
     "name": "stderr",
     "output_type": "stream",
     "text": [
      "                                                          "
     ]
    },
    {
     "name": "stdout",
     "output_type": "stream",
     "text": [
      "\n",
      "Epoch 1 — Train Loss: 0.1138\n",
      "\n",
      "Validation Accuracy: 0.9000\n"
     ]
    },
    {
     "name": "stderr",
     "output_type": "stream",
     "text": [
      "                                                          "
     ]
    },
    {
     "name": "stdout",
     "output_type": "stream",
     "text": [
      "\n",
      "Epoch 2 — Train Loss: 0.0394\n",
      "\n",
      "Validation Accuracy: 0.9042\n"
     ]
    },
    {
     "name": "stderr",
     "output_type": "stream",
     "text": [
      "                                                          "
     ]
    },
    {
     "name": "stdout",
     "output_type": "stream",
     "text": [
      "\n",
      "Epoch 3 — Train Loss: 0.0180\n",
      "\n",
      "Validation Accuracy: 0.9083\n"
     ]
    },
    {
     "name": "stderr",
     "output_type": "stream",
     "text": [
      "                                                          "
     ]
    },
    {
     "name": "stdout",
     "output_type": "stream",
     "text": [
      "\n",
      "Epoch 4 — Train Loss: 0.0125\n",
      "\n",
      "Validation Accuracy: 0.8792\n"
     ]
    },
    {
     "name": "stderr",
     "output_type": "stream",
     "text": [
      "                                                          "
     ]
    },
    {
     "name": "stdout",
     "output_type": "stream",
     "text": [
      "\n",
      "Epoch 5 — Train Loss: 0.0102\n",
      "\n",
      "Validation Accuracy: 0.8583\n",
      "\n",
      "Testing CNN config: {'embedding_dim': 128, 'num_filters': 150, 'filter_sizes': (4, 5, 6), 'dropout': 0.5, 'lr': 0.001, 'batch_size': 64}\n"
     ]
    },
    {
     "name": "stderr",
     "output_type": "stream",
     "text": [
      "                                                        "
     ]
    },
    {
     "name": "stdout",
     "output_type": "stream",
     "text": [
      "\n",
      "Epoch 1 — Train Loss: 0.1306\n",
      "\n",
      "Validation Accuracy: 0.8458\n"
     ]
    },
    {
     "name": "stderr",
     "output_type": "stream",
     "text": [
      "                                                        "
     ]
    },
    {
     "name": "stdout",
     "output_type": "stream",
     "text": [
      "\n",
      "Epoch 2 — Train Loss: 0.0477\n",
      "\n",
      "Validation Accuracy: 0.8833\n"
     ]
    },
    {
     "name": "stderr",
     "output_type": "stream",
     "text": [
      "                                                        "
     ]
    },
    {
     "name": "stdout",
     "output_type": "stream",
     "text": [
      "\n",
      "Epoch 3 — Train Loss: 0.0254\n",
      "\n",
      "Validation Accuracy: 0.8917\n"
     ]
    },
    {
     "name": "stderr",
     "output_type": "stream",
     "text": [
      "                                                        "
     ]
    },
    {
     "name": "stdout",
     "output_type": "stream",
     "text": [
      "\n",
      "Epoch 4 — Train Loss: 0.0168\n",
      "\n",
      "Validation Accuracy: 0.8667\n"
     ]
    },
    {
     "name": "stderr",
     "output_type": "stream",
     "text": [
      "                                                        "
     ]
    },
    {
     "name": "stdout",
     "output_type": "stream",
     "text": [
      "\n",
      "Epoch 5 — Train Loss: 0.0116\n",
      "\n",
      "Validation Accuracy: 0.8583\n",
      "\n",
      "Testing CNN config: {'embedding_dim': 128, 'num_filters': 150, 'filter_sizes': (4, 5, 6), 'dropout': 0.5, 'lr': 0.0005, 'batch_size': 32}\n"
     ]
    },
    {
     "name": "stderr",
     "output_type": "stream",
     "text": [
      "                                                          "
     ]
    },
    {
     "name": "stdout",
     "output_type": "stream",
     "text": [
      "\n",
      "Epoch 1 — Train Loss: 0.1509\n",
      "\n",
      "Validation Accuracy: 0.7083\n"
     ]
    },
    {
     "name": "stderr",
     "output_type": "stream",
     "text": [
      "                                                          "
     ]
    },
    {
     "name": "stdout",
     "output_type": "stream",
     "text": [
      "\n",
      "Epoch 2 — Train Loss: 0.0637\n",
      "\n",
      "Validation Accuracy: 0.8958\n"
     ]
    },
    {
     "name": "stderr",
     "output_type": "stream",
     "text": [
      "                                                          "
     ]
    },
    {
     "name": "stdout",
     "output_type": "stream",
     "text": [
      "\n",
      "Epoch 3 — Train Loss: 0.0327\n",
      "\n",
      "Validation Accuracy: 0.8958\n"
     ]
    },
    {
     "name": "stderr",
     "output_type": "stream",
     "text": [
      "                                                          "
     ]
    },
    {
     "name": "stdout",
     "output_type": "stream",
     "text": [
      "\n",
      "Epoch 4 — Train Loss: 0.0202\n",
      "\n",
      "Validation Accuracy: 0.8833\n"
     ]
    },
    {
     "name": "stderr",
     "output_type": "stream",
     "text": [
      "                                                          "
     ]
    },
    {
     "name": "stdout",
     "output_type": "stream",
     "text": [
      "\n",
      "Epoch 5 — Train Loss: 0.0138\n",
      "\n",
      "Validation Accuracy: 0.9083\n",
      "\n",
      "Testing CNN config: {'embedding_dim': 128, 'num_filters': 150, 'filter_sizes': (4, 5, 6), 'dropout': 0.5, 'lr': 0.0005, 'batch_size': 64}\n"
     ]
    },
    {
     "name": "stderr",
     "output_type": "stream",
     "text": [
      "                                                        "
     ]
    },
    {
     "name": "stdout",
     "output_type": "stream",
     "text": [
      "\n",
      "Epoch 1 — Train Loss: 0.1716\n",
      "\n",
      "Validation Accuracy: 0.5958\n"
     ]
    },
    {
     "name": "stderr",
     "output_type": "stream",
     "text": [
      "                                                        "
     ]
    },
    {
     "name": "stdout",
     "output_type": "stream",
     "text": [
      "\n",
      "Epoch 2 — Train Loss: 0.0904\n",
      "\n",
      "Validation Accuracy: 0.7917\n"
     ]
    },
    {
     "name": "stderr",
     "output_type": "stream",
     "text": [
      "                                                        "
     ]
    },
    {
     "name": "stdout",
     "output_type": "stream",
     "text": [
      "\n",
      "Epoch 3 — Train Loss: 0.0532\n",
      "\n",
      "Validation Accuracy: 0.8917\n"
     ]
    },
    {
     "name": "stderr",
     "output_type": "stream",
     "text": [
      "                                                        "
     ]
    },
    {
     "name": "stdout",
     "output_type": "stream",
     "text": [
      "\n",
      "Epoch 4 — Train Loss: 0.0338\n",
      "\n",
      "Validation Accuracy: 0.9042\n"
     ]
    },
    {
     "name": "stderr",
     "output_type": "stream",
     "text": [
      "                                                        "
     ]
    },
    {
     "name": "stdout",
     "output_type": "stream",
     "text": [
      "\n",
      "Epoch 5 — Train Loss: 0.0214\n",
      "\n",
      "Validation Accuracy: 0.9042\n",
      "\n",
      "Testing CNN config: {'embedding_dim': 256, 'num_filters': 50, 'filter_sizes': (3, 4, 5), 'dropout': 0.3, 'lr': 0.001, 'batch_size': 32}\n"
     ]
    },
    {
     "name": "stderr",
     "output_type": "stream",
     "text": [
      "                                                          "
     ]
    },
    {
     "name": "stdout",
     "output_type": "stream",
     "text": [
      "\n",
      "Epoch 1 — Train Loss: 0.1185\n",
      "\n",
      "Validation Accuracy: 0.8667\n"
     ]
    },
    {
     "name": "stderr",
     "output_type": "stream",
     "text": [
      "                                                          "
     ]
    },
    {
     "name": "stdout",
     "output_type": "stream",
     "text": [
      "\n",
      "Epoch 2 — Train Loss: 0.0301\n",
      "\n",
      "Validation Accuracy: 0.9500\n"
     ]
    },
    {
     "name": "stderr",
     "output_type": "stream",
     "text": [
      "                                                          "
     ]
    },
    {
     "name": "stdout",
     "output_type": "stream",
     "text": [
      "\n",
      "Epoch 3 — Train Loss: 0.0130\n",
      "\n",
      "Validation Accuracy: 0.9208\n"
     ]
    },
    {
     "name": "stderr",
     "output_type": "stream",
     "text": [
      "                                                          "
     ]
    },
    {
     "name": "stdout",
     "output_type": "stream",
     "text": [
      "\n",
      "Epoch 4 — Train Loss: 0.0082\n",
      "\n",
      "Validation Accuracy: 0.9083\n"
     ]
    },
    {
     "name": "stderr",
     "output_type": "stream",
     "text": [
      "                                                          "
     ]
    },
    {
     "name": "stdout",
     "output_type": "stream",
     "text": [
      "\n",
      "Epoch 5 — Train Loss: 0.0069\n",
      "\n",
      "Validation Accuracy: 0.8875\n",
      "\n",
      "Testing CNN config: {'embedding_dim': 256, 'num_filters': 50, 'filter_sizes': (3, 4, 5), 'dropout': 0.3, 'lr': 0.001, 'batch_size': 64}\n"
     ]
    },
    {
     "name": "stderr",
     "output_type": "stream",
     "text": [
      "                                                        "
     ]
    },
    {
     "name": "stdout",
     "output_type": "stream",
     "text": [
      "\n",
      "Epoch 1 — Train Loss: 0.1433\n",
      "\n",
      "Validation Accuracy: 0.8333\n"
     ]
    },
    {
     "name": "stderr",
     "output_type": "stream",
     "text": [
      "                                                        "
     ]
    },
    {
     "name": "stdout",
     "output_type": "stream",
     "text": [
      "\n",
      "Epoch 2 — Train Loss: 0.0481\n",
      "\n",
      "Validation Accuracy: 0.9167\n"
     ]
    },
    {
     "name": "stderr",
     "output_type": "stream",
     "text": [
      "                                                        "
     ]
    },
    {
     "name": "stdout",
     "output_type": "stream",
     "text": [
      "\n",
      "Epoch 3 — Train Loss: 0.0226\n",
      "\n",
      "Validation Accuracy: 0.9042\n"
     ]
    },
    {
     "name": "stderr",
     "output_type": "stream",
     "text": [
      "                                                        "
     ]
    },
    {
     "name": "stdout",
     "output_type": "stream",
     "text": [
      "\n",
      "Epoch 4 — Train Loss: 0.0133\n",
      "\n",
      "Validation Accuracy: 0.9042\n"
     ]
    },
    {
     "name": "stderr",
     "output_type": "stream",
     "text": [
      "                                                        "
     ]
    },
    {
     "name": "stdout",
     "output_type": "stream",
     "text": [
      "\n",
      "Epoch 5 — Train Loss: 0.0081\n",
      "\n",
      "Validation Accuracy: 0.8750\n",
      "\n",
      "Testing CNN config: {'embedding_dim': 256, 'num_filters': 50, 'filter_sizes': (3, 4, 5), 'dropout': 0.3, 'lr': 0.0005, 'batch_size': 32}\n"
     ]
    },
    {
     "name": "stderr",
     "output_type": "stream",
     "text": [
      "                                                          "
     ]
    },
    {
     "name": "stdout",
     "output_type": "stream",
     "text": [
      "\n",
      "Epoch 1 — Train Loss: 0.1342\n",
      "\n",
      "Validation Accuracy: 0.7875\n"
     ]
    },
    {
     "name": "stderr",
     "output_type": "stream",
     "text": [
      "                                                          "
     ]
    },
    {
     "name": "stdout",
     "output_type": "stream",
     "text": [
      "\n",
      "Epoch 2 — Train Loss: 0.0484\n",
      "\n",
      "Validation Accuracy: 0.9042\n"
     ]
    },
    {
     "name": "stderr",
     "output_type": "stream",
     "text": [
      "                                                          "
     ]
    },
    {
     "name": "stdout",
     "output_type": "stream",
     "text": [
      "\n",
      "Epoch 3 — Train Loss: 0.0241\n",
      "\n",
      "Validation Accuracy: 0.9125\n"
     ]
    },
    {
     "name": "stderr",
     "output_type": "stream",
     "text": [
      "                                                          "
     ]
    },
    {
     "name": "stdout",
     "output_type": "stream",
     "text": [
      "\n",
      "Epoch 4 — Train Loss: 0.0149\n",
      "\n",
      "Validation Accuracy: 0.9083\n"
     ]
    },
    {
     "name": "stderr",
     "output_type": "stream",
     "text": [
      "                                                          "
     ]
    },
    {
     "name": "stdout",
     "output_type": "stream",
     "text": [
      "\n",
      "Epoch 5 — Train Loss: 0.0103\n",
      "\n",
      "Validation Accuracy: 0.8917\n",
      "\n",
      "Testing CNN config: {'embedding_dim': 256, 'num_filters': 50, 'filter_sizes': (3, 4, 5), 'dropout': 0.3, 'lr': 0.0005, 'batch_size': 64}\n"
     ]
    },
    {
     "name": "stderr",
     "output_type": "stream",
     "text": [
      "                                                        "
     ]
    },
    {
     "name": "stdout",
     "output_type": "stream",
     "text": [
      "\n",
      "Epoch 1 — Train Loss: 0.1508\n",
      "\n",
      "Validation Accuracy: 0.7208\n"
     ]
    },
    {
     "name": "stderr",
     "output_type": "stream",
     "text": [
      "                                                        "
     ]
    },
    {
     "name": "stdout",
     "output_type": "stream",
     "text": [
      "\n",
      "Epoch 2 — Train Loss: 0.0700\n",
      "\n",
      "Validation Accuracy: 0.8833\n"
     ]
    },
    {
     "name": "stderr",
     "output_type": "stream",
     "text": [
      "                                                        "
     ]
    },
    {
     "name": "stdout",
     "output_type": "stream",
     "text": [
      "\n",
      "Epoch 3 — Train Loss: 0.0386\n",
      "\n",
      "Validation Accuracy: 0.9125\n"
     ]
    },
    {
     "name": "stderr",
     "output_type": "stream",
     "text": [
      "                                                        "
     ]
    },
    {
     "name": "stdout",
     "output_type": "stream",
     "text": [
      "\n",
      "Epoch 4 — Train Loss: 0.0238\n",
      "\n",
      "Validation Accuracy: 0.9083\n"
     ]
    },
    {
     "name": "stderr",
     "output_type": "stream",
     "text": [
      "                                                        "
     ]
    },
    {
     "name": "stdout",
     "output_type": "stream",
     "text": [
      "\n",
      "Epoch 5 — Train Loss: 0.0159\n",
      "\n",
      "Validation Accuracy: 0.9000\n",
      "\n",
      "Testing CNN config: {'embedding_dim': 256, 'num_filters': 50, 'filter_sizes': (3, 4, 5), 'dropout': 0.5, 'lr': 0.001, 'batch_size': 32}\n"
     ]
    },
    {
     "name": "stderr",
     "output_type": "stream",
     "text": [
      "                                                          "
     ]
    },
    {
     "name": "stdout",
     "output_type": "stream",
     "text": [
      "\n",
      "Epoch 1 — Train Loss: 0.1426\n",
      "\n",
      "Validation Accuracy: 0.8208\n"
     ]
    },
    {
     "name": "stderr",
     "output_type": "stream",
     "text": [
      "                                                          "
     ]
    },
    {
     "name": "stdout",
     "output_type": "stream",
     "text": [
      "\n",
      "Epoch 2 — Train Loss: 0.0569\n",
      "\n",
      "Validation Accuracy: 0.9000\n"
     ]
    },
    {
     "name": "stderr",
     "output_type": "stream",
     "text": [
      "                                                          "
     ]
    },
    {
     "name": "stdout",
     "output_type": "stream",
     "text": [
      "\n",
      "Epoch 3 — Train Loss: 0.0393\n",
      "\n",
      "Validation Accuracy: 0.9167\n"
     ]
    },
    {
     "name": "stderr",
     "output_type": "stream",
     "text": [
      "                                                          "
     ]
    },
    {
     "name": "stdout",
     "output_type": "stream",
     "text": [
      "\n",
      "Epoch 4 — Train Loss: 0.0243\n",
      "\n",
      "Validation Accuracy: 0.9042\n"
     ]
    },
    {
     "name": "stderr",
     "output_type": "stream",
     "text": [
      "                                                          "
     ]
    },
    {
     "name": "stdout",
     "output_type": "stream",
     "text": [
      "\n",
      "Epoch 5 — Train Loss: 0.0185\n",
      "\n",
      "Validation Accuracy: 0.8833\n",
      "\n",
      "Testing CNN config: {'embedding_dim': 256, 'num_filters': 50, 'filter_sizes': (3, 4, 5), 'dropout': 0.5, 'lr': 0.001, 'batch_size': 64}\n"
     ]
    },
    {
     "name": "stderr",
     "output_type": "stream",
     "text": [
      "                                                        "
     ]
    },
    {
     "name": "stdout",
     "output_type": "stream",
     "text": [
      "\n",
      "Epoch 1 — Train Loss: 0.1535\n",
      "\n",
      "Validation Accuracy: 0.7750\n"
     ]
    },
    {
     "name": "stderr",
     "output_type": "stream",
     "text": [
      "                                                        "
     ]
    },
    {
     "name": "stdout",
     "output_type": "stream",
     "text": [
      "\n",
      "Epoch 2 — Train Loss: 0.0677\n",
      "\n",
      "Validation Accuracy: 0.8708\n"
     ]
    },
    {
     "name": "stderr",
     "output_type": "stream",
     "text": [
      "                                                        "
     ]
    },
    {
     "name": "stdout",
     "output_type": "stream",
     "text": [
      "\n",
      "Epoch 3 — Train Loss: 0.0410\n",
      "\n",
      "Validation Accuracy: 0.8917\n"
     ]
    },
    {
     "name": "stderr",
     "output_type": "stream",
     "text": [
      "                                                        "
     ]
    },
    {
     "name": "stdout",
     "output_type": "stream",
     "text": [
      "\n",
      "Epoch 4 — Train Loss: 0.0274\n",
      "\n",
      "Validation Accuracy: 0.9125\n"
     ]
    },
    {
     "name": "stderr",
     "output_type": "stream",
     "text": [
      "                                                        "
     ]
    },
    {
     "name": "stdout",
     "output_type": "stream",
     "text": [
      "\n",
      "Epoch 5 — Train Loss: 0.0188\n",
      "\n",
      "Validation Accuracy: 0.9125\n",
      "\n",
      "Testing CNN config: {'embedding_dim': 256, 'num_filters': 50, 'filter_sizes': (3, 4, 5), 'dropout': 0.5, 'lr': 0.0005, 'batch_size': 32}\n"
     ]
    },
    {
     "name": "stderr",
     "output_type": "stream",
     "text": [
      "                                                          "
     ]
    },
    {
     "name": "stdout",
     "output_type": "stream",
     "text": [
      "\n",
      "Epoch 1 — Train Loss: 0.1516\n",
      "\n",
      "Validation Accuracy: 0.7542\n"
     ]
    },
    {
     "name": "stderr",
     "output_type": "stream",
     "text": [
      "                                                          "
     ]
    },
    {
     "name": "stdout",
     "output_type": "stream",
     "text": [
      "\n",
      "Epoch 2 — Train Loss: 0.0724\n",
      "\n",
      "Validation Accuracy: 0.9042\n"
     ]
    },
    {
     "name": "stderr",
     "output_type": "stream",
     "text": [
      "                                                          "
     ]
    },
    {
     "name": "stdout",
     "output_type": "stream",
     "text": [
      "\n",
      "Epoch 3 — Train Loss: 0.0434\n",
      "\n",
      "Validation Accuracy: 0.9083\n"
     ]
    },
    {
     "name": "stderr",
     "output_type": "stream",
     "text": [
      "                                                          "
     ]
    },
    {
     "name": "stdout",
     "output_type": "stream",
     "text": [
      "\n",
      "Epoch 4 — Train Loss: 0.0334\n",
      "\n",
      "Validation Accuracy: 0.9333\n"
     ]
    },
    {
     "name": "stderr",
     "output_type": "stream",
     "text": [
      "                                                          "
     ]
    },
    {
     "name": "stdout",
     "output_type": "stream",
     "text": [
      "\n",
      "Epoch 5 — Train Loss: 0.0233\n",
      "\n",
      "Validation Accuracy: 0.9083\n",
      "\n",
      "Testing CNN config: {'embedding_dim': 256, 'num_filters': 50, 'filter_sizes': (3, 4, 5), 'dropout': 0.5, 'lr': 0.0005, 'batch_size': 64}\n"
     ]
    },
    {
     "name": "stderr",
     "output_type": "stream",
     "text": [
      "                                                        "
     ]
    },
    {
     "name": "stdout",
     "output_type": "stream",
     "text": [
      "\n",
      "Epoch 1 — Train Loss: 0.1700\n",
      "\n",
      "Validation Accuracy: 0.5625\n"
     ]
    },
    {
     "name": "stderr",
     "output_type": "stream",
     "text": [
      "                                                        "
     ]
    },
    {
     "name": "stdout",
     "output_type": "stream",
     "text": [
      "\n",
      "Epoch 2 — Train Loss: 0.0913\n",
      "\n",
      "Validation Accuracy: 0.8708\n"
     ]
    },
    {
     "name": "stderr",
     "output_type": "stream",
     "text": [
      "                                                        "
     ]
    },
    {
     "name": "stdout",
     "output_type": "stream",
     "text": [
      "\n",
      "Epoch 3 — Train Loss: 0.0598\n",
      "\n",
      "Validation Accuracy: 0.8917\n"
     ]
    },
    {
     "name": "stderr",
     "output_type": "stream",
     "text": [
      "                                                        "
     ]
    },
    {
     "name": "stdout",
     "output_type": "stream",
     "text": [
      "\n",
      "Epoch 4 — Train Loss: 0.0402\n",
      "\n",
      "Validation Accuracy: 0.8958\n"
     ]
    },
    {
     "name": "stderr",
     "output_type": "stream",
     "text": [
      "                                                        "
     ]
    },
    {
     "name": "stdout",
     "output_type": "stream",
     "text": [
      "\n",
      "Epoch 5 — Train Loss: 0.0317\n",
      "\n",
      "Validation Accuracy: 0.8833\n",
      "\n",
      "Testing CNN config: {'embedding_dim': 256, 'num_filters': 50, 'filter_sizes': (2, 3, 4), 'dropout': 0.3, 'lr': 0.001, 'batch_size': 32}\n"
     ]
    },
    {
     "name": "stderr",
     "output_type": "stream",
     "text": [
      "                                                          "
     ]
    },
    {
     "name": "stdout",
     "output_type": "stream",
     "text": [
      "\n",
      "Epoch 1 — Train Loss: 0.1099\n",
      "\n",
      "Validation Accuracy: 0.8875\n"
     ]
    },
    {
     "name": "stderr",
     "output_type": "stream",
     "text": [
      "                                                          "
     ]
    },
    {
     "name": "stdout",
     "output_type": "stream",
     "text": [
      "\n",
      "Epoch 2 — Train Loss: 0.0322\n",
      "\n",
      "Validation Accuracy: 0.9000\n"
     ]
    },
    {
     "name": "stderr",
     "output_type": "stream",
     "text": [
      "                                                          "
     ]
    },
    {
     "name": "stdout",
     "output_type": "stream",
     "text": [
      "\n",
      "Epoch 3 — Train Loss: 0.0191\n",
      "\n",
      "Validation Accuracy: 0.9208\n"
     ]
    },
    {
     "name": "stderr",
     "output_type": "stream",
     "text": [
      "                                                          "
     ]
    },
    {
     "name": "stdout",
     "output_type": "stream",
     "text": [
      "\n",
      "Epoch 4 — Train Loss: 0.0108\n",
      "\n",
      "Validation Accuracy: 0.9167\n"
     ]
    },
    {
     "name": "stderr",
     "output_type": "stream",
     "text": [
      "                                                          "
     ]
    },
    {
     "name": "stdout",
     "output_type": "stream",
     "text": [
      "\n",
      "Epoch 5 — Train Loss: 0.0067\n",
      "\n",
      "Validation Accuracy: 0.9167\n",
      "\n",
      "Testing CNN config: {'embedding_dim': 256, 'num_filters': 50, 'filter_sizes': (2, 3, 4), 'dropout': 0.3, 'lr': 0.001, 'batch_size': 64}\n"
     ]
    },
    {
     "name": "stderr",
     "output_type": "stream",
     "text": [
      "                                                        "
     ]
    },
    {
     "name": "stdout",
     "output_type": "stream",
     "text": [
      "\n",
      "Epoch 1 — Train Loss: 0.1536\n",
      "\n",
      "Validation Accuracy: 0.7875\n"
     ]
    },
    {
     "name": "stderr",
     "output_type": "stream",
     "text": [
      "                                                        "
     ]
    },
    {
     "name": "stdout",
     "output_type": "stream",
     "text": [
      "\n",
      "Epoch 2 — Train Loss: 0.0577\n",
      "\n",
      "Validation Accuracy: 0.9125\n"
     ]
    },
    {
     "name": "stderr",
     "output_type": "stream",
     "text": [
      "                                                        "
     ]
    },
    {
     "name": "stdout",
     "output_type": "stream",
     "text": [
      "\n",
      "Epoch 3 — Train Loss: 0.0302\n",
      "\n",
      "Validation Accuracy: 0.9125\n"
     ]
    },
    {
     "name": "stderr",
     "output_type": "stream",
     "text": [
      "                                                        "
     ]
    },
    {
     "name": "stdout",
     "output_type": "stream",
     "text": [
      "\n",
      "Epoch 4 — Train Loss: 0.0173\n",
      "\n",
      "Validation Accuracy: 0.9125\n"
     ]
    },
    {
     "name": "stderr",
     "output_type": "stream",
     "text": [
      "                                                        "
     ]
    },
    {
     "name": "stdout",
     "output_type": "stream",
     "text": [
      "\n",
      "Epoch 5 — Train Loss: 0.0108\n",
      "\n",
      "Validation Accuracy: 0.8917\n",
      "\n",
      "Testing CNN config: {'embedding_dim': 256, 'num_filters': 50, 'filter_sizes': (2, 3, 4), 'dropout': 0.3, 'lr': 0.0005, 'batch_size': 32}\n"
     ]
    },
    {
     "name": "stderr",
     "output_type": "stream",
     "text": [
      "                                                          "
     ]
    },
    {
     "name": "stdout",
     "output_type": "stream",
     "text": [
      "\n",
      "Epoch 1 — Train Loss: 0.1508\n",
      "\n",
      "Validation Accuracy: 0.7458\n"
     ]
    },
    {
     "name": "stderr",
     "output_type": "stream",
     "text": [
      "                                                          "
     ]
    },
    {
     "name": "stdout",
     "output_type": "stream",
     "text": [
      "\n",
      "Epoch 2 — Train Loss: 0.0633\n",
      "\n",
      "Validation Accuracy: 0.8958\n"
     ]
    },
    {
     "name": "stderr",
     "output_type": "stream",
     "text": [
      "                                                          "
     ]
    },
    {
     "name": "stdout",
     "output_type": "stream",
     "text": [
      "\n",
      "Epoch 3 — Train Loss: 0.0360\n",
      "\n",
      "Validation Accuracy: 0.9125\n"
     ]
    },
    {
     "name": "stderr",
     "output_type": "stream",
     "text": [
      "                                                          "
     ]
    },
    {
     "name": "stdout",
     "output_type": "stream",
     "text": [
      "\n",
      "Epoch 4 — Train Loss: 0.0222\n",
      "\n",
      "Validation Accuracy: 0.9125\n"
     ]
    },
    {
     "name": "stderr",
     "output_type": "stream",
     "text": [
      "                                                          "
     ]
    },
    {
     "name": "stdout",
     "output_type": "stream",
     "text": [
      "\n",
      "Epoch 5 — Train Loss: 0.0139\n",
      "\n",
      "Validation Accuracy: 0.8958\n",
      "\n",
      "Testing CNN config: {'embedding_dim': 256, 'num_filters': 50, 'filter_sizes': (2, 3, 4), 'dropout': 0.3, 'lr': 0.0005, 'batch_size': 64}\n"
     ]
    },
    {
     "name": "stderr",
     "output_type": "stream",
     "text": [
      "                                                        "
     ]
    },
    {
     "name": "stdout",
     "output_type": "stream",
     "text": [
      "\n",
      "Epoch 1 — Train Loss: 0.1613\n",
      "\n",
      "Validation Accuracy: 0.6417\n"
     ]
    },
    {
     "name": "stderr",
     "output_type": "stream",
     "text": [
      "                                                        "
     ]
    },
    {
     "name": "stdout",
     "output_type": "stream",
     "text": [
      "\n",
      "Epoch 2 — Train Loss: 0.0786\n",
      "\n",
      "Validation Accuracy: 0.8292\n"
     ]
    },
    {
     "name": "stderr",
     "output_type": "stream",
     "text": [
      "                                                        "
     ]
    },
    {
     "name": "stdout",
     "output_type": "stream",
     "text": [
      "\n",
      "Epoch 3 — Train Loss: 0.0498\n",
      "\n",
      "Validation Accuracy: 0.9167\n"
     ]
    },
    {
     "name": "stderr",
     "output_type": "stream",
     "text": [
      "                                                        "
     ]
    },
    {
     "name": "stdout",
     "output_type": "stream",
     "text": [
      "\n",
      "Epoch 4 — Train Loss: 0.0313\n",
      "\n",
      "Validation Accuracy: 0.9250\n"
     ]
    },
    {
     "name": "stderr",
     "output_type": "stream",
     "text": [
      "                                                        "
     ]
    },
    {
     "name": "stdout",
     "output_type": "stream",
     "text": [
      "\n",
      "Epoch 5 — Train Loss: 0.0217\n",
      "\n",
      "Validation Accuracy: 0.9167\n",
      "\n",
      "Testing CNN config: {'embedding_dim': 256, 'num_filters': 50, 'filter_sizes': (2, 3, 4), 'dropout': 0.5, 'lr': 0.001, 'batch_size': 32}\n"
     ]
    },
    {
     "name": "stderr",
     "output_type": "stream",
     "text": [
      "                                                          "
     ]
    },
    {
     "name": "stdout",
     "output_type": "stream",
     "text": [
      "\n",
      "Epoch 1 — Train Loss: 0.1171\n",
      "\n",
      "Validation Accuracy: 0.8667\n"
     ]
    },
    {
     "name": "stderr",
     "output_type": "stream",
     "text": [
      "                                                          "
     ]
    },
    {
     "name": "stdout",
     "output_type": "stream",
     "text": [
      "\n",
      "Epoch 2 — Train Loss: 0.0516\n",
      "\n",
      "Validation Accuracy: 0.9250\n"
     ]
    },
    {
     "name": "stderr",
     "output_type": "stream",
     "text": [
      "                                                          "
     ]
    },
    {
     "name": "stdout",
     "output_type": "stream",
     "text": [
      "\n",
      "Epoch 3 — Train Loss: 0.0333\n",
      "\n",
      "Validation Accuracy: 0.9250\n"
     ]
    },
    {
     "name": "stderr",
     "output_type": "stream",
     "text": [
      "                                                          "
     ]
    },
    {
     "name": "stdout",
     "output_type": "stream",
     "text": [
      "\n",
      "Epoch 4 — Train Loss: 0.0217\n",
      "\n",
      "Validation Accuracy: 0.9125\n"
     ]
    },
    {
     "name": "stderr",
     "output_type": "stream",
     "text": [
      "                                                          "
     ]
    },
    {
     "name": "stdout",
     "output_type": "stream",
     "text": [
      "\n",
      "Epoch 5 — Train Loss: 0.0181\n",
      "\n",
      "Validation Accuracy: 0.9292\n",
      "\n",
      "Testing CNN config: {'embedding_dim': 256, 'num_filters': 50, 'filter_sizes': (2, 3, 4), 'dropout': 0.5, 'lr': 0.001, 'batch_size': 64}\n"
     ]
    },
    {
     "name": "stderr",
     "output_type": "stream",
     "text": [
      "                                                        "
     ]
    },
    {
     "name": "stdout",
     "output_type": "stream",
     "text": [
      "\n",
      "Epoch 1 — Train Loss: 0.1881\n",
      "\n",
      "Validation Accuracy: 0.6458\n"
     ]
    },
    {
     "name": "stderr",
     "output_type": "stream",
     "text": [
      "                                                        "
     ]
    },
    {
     "name": "stdout",
     "output_type": "stream",
     "text": [
      "\n",
      "Epoch 2 — Train Loss: 0.0871\n",
      "\n",
      "Validation Accuracy: 0.8333\n"
     ]
    },
    {
     "name": "stderr",
     "output_type": "stream",
     "text": [
      "                                                        "
     ]
    },
    {
     "name": "stdout",
     "output_type": "stream",
     "text": [
      "\n",
      "Epoch 3 — Train Loss: 0.0541\n",
      "\n",
      "Validation Accuracy: 0.9125\n"
     ]
    },
    {
     "name": "stderr",
     "output_type": "stream",
     "text": [
      "                                                        "
     ]
    },
    {
     "name": "stdout",
     "output_type": "stream",
     "text": [
      "\n",
      "Epoch 4 — Train Loss: 0.0367\n",
      "\n",
      "Validation Accuracy: 0.9208\n"
     ]
    },
    {
     "name": "stderr",
     "output_type": "stream",
     "text": [
      "                                                        "
     ]
    },
    {
     "name": "stdout",
     "output_type": "stream",
     "text": [
      "\n",
      "Epoch 5 — Train Loss: 0.0278\n",
      "\n",
      "Validation Accuracy: 0.9250\n",
      "\n",
      "Testing CNN config: {'embedding_dim': 256, 'num_filters': 50, 'filter_sizes': (2, 3, 4), 'dropout': 0.5, 'lr': 0.0005, 'batch_size': 32}\n"
     ]
    },
    {
     "name": "stderr",
     "output_type": "stream",
     "text": [
      "                                                          "
     ]
    },
    {
     "name": "stdout",
     "output_type": "stream",
     "text": [
      "\n",
      "Epoch 1 — Train Loss: 0.1693\n",
      "\n",
      "Validation Accuracy: 0.6167\n"
     ]
    },
    {
     "name": "stderr",
     "output_type": "stream",
     "text": [
      "                                                          "
     ]
    },
    {
     "name": "stdout",
     "output_type": "stream",
     "text": [
      "\n",
      "Epoch 2 — Train Loss: 0.0815\n",
      "\n",
      "Validation Accuracy: 0.8583\n"
     ]
    },
    {
     "name": "stderr",
     "output_type": "stream",
     "text": [
      "                                                          "
     ]
    },
    {
     "name": "stdout",
     "output_type": "stream",
     "text": [
      "\n",
      "Epoch 3 — Train Loss: 0.0549\n",
      "\n",
      "Validation Accuracy: 0.9000\n"
     ]
    },
    {
     "name": "stderr",
     "output_type": "stream",
     "text": [
      "                                                          "
     ]
    },
    {
     "name": "stdout",
     "output_type": "stream",
     "text": [
      "\n",
      "Epoch 4 — Train Loss: 0.0387\n",
      "\n",
      "Validation Accuracy: 0.9167\n"
     ]
    },
    {
     "name": "stderr",
     "output_type": "stream",
     "text": [
      "                                                          "
     ]
    },
    {
     "name": "stdout",
     "output_type": "stream",
     "text": [
      "\n",
      "Epoch 5 — Train Loss: 0.0285\n",
      "\n",
      "Validation Accuracy: 0.9250\n",
      "\n",
      "Testing CNN config: {'embedding_dim': 256, 'num_filters': 50, 'filter_sizes': (2, 3, 4), 'dropout': 0.5, 'lr': 0.0005, 'batch_size': 64}\n"
     ]
    },
    {
     "name": "stderr",
     "output_type": "stream",
     "text": [
      "                                                        "
     ]
    },
    {
     "name": "stdout",
     "output_type": "stream",
     "text": [
      "\n",
      "Epoch 1 — Train Loss: 0.1751\n",
      "\n",
      "Validation Accuracy: 0.5333\n"
     ]
    },
    {
     "name": "stderr",
     "output_type": "stream",
     "text": [
      "                                                        "
     ]
    },
    {
     "name": "stdout",
     "output_type": "stream",
     "text": [
      "\n",
      "Epoch 2 — Train Loss: 0.1043\n",
      "\n",
      "Validation Accuracy: 0.7167\n"
     ]
    },
    {
     "name": "stderr",
     "output_type": "stream",
     "text": [
      "                                                        "
     ]
    },
    {
     "name": "stdout",
     "output_type": "stream",
     "text": [
      "\n",
      "Epoch 3 — Train Loss: 0.0716\n",
      "\n",
      "Validation Accuracy: 0.8875\n"
     ]
    },
    {
     "name": "stderr",
     "output_type": "stream",
     "text": [
      "                                                        "
     ]
    },
    {
     "name": "stdout",
     "output_type": "stream",
     "text": [
      "\n",
      "Epoch 4 — Train Loss: 0.0516\n",
      "\n",
      "Validation Accuracy: 0.9250\n"
     ]
    },
    {
     "name": "stderr",
     "output_type": "stream",
     "text": [
      "                                                        "
     ]
    },
    {
     "name": "stdout",
     "output_type": "stream",
     "text": [
      "\n",
      "Epoch 5 — Train Loss: 0.0383\n",
      "\n",
      "Validation Accuracy: 0.9208\n",
      "\n",
      "Testing CNN config: {'embedding_dim': 256, 'num_filters': 50, 'filter_sizes': (4, 5, 6), 'dropout': 0.3, 'lr': 0.001, 'batch_size': 32}\n"
     ]
    },
    {
     "name": "stderr",
     "output_type": "stream",
     "text": [
      "                                                          "
     ]
    },
    {
     "name": "stdout",
     "output_type": "stream",
     "text": [
      "\n",
      "Epoch 1 — Train Loss: 0.1076\n",
      "\n",
      "Validation Accuracy: 0.8625\n"
     ]
    },
    {
     "name": "stderr",
     "output_type": "stream",
     "text": [
      "                                                          "
     ]
    },
    {
     "name": "stdout",
     "output_type": "stream",
     "text": [
      "\n",
      "Epoch 2 — Train Loss: 0.0276\n",
      "\n",
      "Validation Accuracy: 0.9083\n"
     ]
    },
    {
     "name": "stderr",
     "output_type": "stream",
     "text": [
      "                                                          "
     ]
    },
    {
     "name": "stdout",
     "output_type": "stream",
     "text": [
      "\n",
      "Epoch 3 — Train Loss: 0.0122\n",
      "\n",
      "Validation Accuracy: 0.8625\n"
     ]
    },
    {
     "name": "stderr",
     "output_type": "stream",
     "text": [
      "                                                          "
     ]
    },
    {
     "name": "stdout",
     "output_type": "stream",
     "text": [
      "\n",
      "Epoch 4 — Train Loss: 0.0089\n",
      "\n",
      "Validation Accuracy: 0.8958\n"
     ]
    },
    {
     "name": "stderr",
     "output_type": "stream",
     "text": [
      "                                                          "
     ]
    },
    {
     "name": "stdout",
     "output_type": "stream",
     "text": [
      "\n",
      "Epoch 5 — Train Loss: 0.0056\n",
      "\n",
      "Validation Accuracy: 0.8625\n",
      "\n",
      "Testing CNN config: {'embedding_dim': 256, 'num_filters': 50, 'filter_sizes': (4, 5, 6), 'dropout': 0.3, 'lr': 0.001, 'batch_size': 64}\n"
     ]
    },
    {
     "name": "stderr",
     "output_type": "stream",
     "text": [
      "                                                        "
     ]
    },
    {
     "name": "stdout",
     "output_type": "stream",
     "text": [
      "\n",
      "Epoch 1 — Train Loss: 0.1349\n",
      "\n",
      "Validation Accuracy: 0.8458\n"
     ]
    },
    {
     "name": "stderr",
     "output_type": "stream",
     "text": [
      "                                                        "
     ]
    },
    {
     "name": "stdout",
     "output_type": "stream",
     "text": [
      "\n",
      "Epoch 2 — Train Loss: 0.0412\n",
      "\n",
      "Validation Accuracy: 0.9000\n"
     ]
    },
    {
     "name": "stderr",
     "output_type": "stream",
     "text": [
      "                                                        "
     ]
    },
    {
     "name": "stdout",
     "output_type": "stream",
     "text": [
      "\n",
      "Epoch 3 — Train Loss: 0.0185\n",
      "\n",
      "Validation Accuracy: 0.8958\n"
     ]
    },
    {
     "name": "stderr",
     "output_type": "stream",
     "text": [
      "                                                        "
     ]
    },
    {
     "name": "stdout",
     "output_type": "stream",
     "text": [
      "\n",
      "Epoch 4 — Train Loss: 0.0109\n",
      "\n",
      "Validation Accuracy: 0.8833\n"
     ]
    },
    {
     "name": "stderr",
     "output_type": "stream",
     "text": [
      "                                                        "
     ]
    },
    {
     "name": "stdout",
     "output_type": "stream",
     "text": [
      "\n",
      "Epoch 5 — Train Loss: 0.0071\n",
      "\n",
      "Validation Accuracy: 0.8958\n",
      "\n",
      "Testing CNN config: {'embedding_dim': 256, 'num_filters': 50, 'filter_sizes': (4, 5, 6), 'dropout': 0.3, 'lr': 0.0005, 'batch_size': 32}\n"
     ]
    },
    {
     "name": "stderr",
     "output_type": "stream",
     "text": [
      "                                                          "
     ]
    },
    {
     "name": "stdout",
     "output_type": "stream",
     "text": [
      "\n",
      "Epoch 1 — Train Loss: 0.1227\n",
      "\n",
      "Validation Accuracy: 0.8375\n"
     ]
    },
    {
     "name": "stderr",
     "output_type": "stream",
     "text": [
      "                                                          "
     ]
    },
    {
     "name": "stdout",
     "output_type": "stream",
     "text": [
      "\n",
      "Epoch 2 — Train Loss: 0.0410\n",
      "\n",
      "Validation Accuracy: 0.9042\n"
     ]
    },
    {
     "name": "stderr",
     "output_type": "stream",
     "text": [
      "                                                          "
     ]
    },
    {
     "name": "stdout",
     "output_type": "stream",
     "text": [
      "\n",
      "Epoch 3 — Train Loss: 0.0202\n",
      "\n",
      "Validation Accuracy: 0.9083\n"
     ]
    },
    {
     "name": "stderr",
     "output_type": "stream",
     "text": [
      "                                                          "
     ]
    },
    {
     "name": "stdout",
     "output_type": "stream",
     "text": [
      "\n",
      "Epoch 4 — Train Loss: 0.0114\n",
      "\n",
      "Validation Accuracy: 0.8792\n"
     ]
    },
    {
     "name": "stderr",
     "output_type": "stream",
     "text": [
      "                                                          "
     ]
    },
    {
     "name": "stdout",
     "output_type": "stream",
     "text": [
      "\n",
      "Epoch 5 — Train Loss: 0.0083\n",
      "\n",
      "Validation Accuracy: 0.8917\n",
      "\n",
      "Testing CNN config: {'embedding_dim': 256, 'num_filters': 50, 'filter_sizes': (4, 5, 6), 'dropout': 0.3, 'lr': 0.0005, 'batch_size': 64}\n"
     ]
    },
    {
     "name": "stderr",
     "output_type": "stream",
     "text": [
      "                                                        "
     ]
    },
    {
     "name": "stdout",
     "output_type": "stream",
     "text": [
      "\n",
      "Epoch 1 — Train Loss: 0.1581\n",
      "\n",
      "Validation Accuracy: 0.6167\n"
     ]
    },
    {
     "name": "stderr",
     "output_type": "stream",
     "text": [
      "                                                        "
     ]
    },
    {
     "name": "stdout",
     "output_type": "stream",
     "text": [
      "\n",
      "Epoch 2 — Train Loss: 0.0706\n",
      "\n",
      "Validation Accuracy: 0.8958\n"
     ]
    },
    {
     "name": "stderr",
     "output_type": "stream",
     "text": [
      "                                                        "
     ]
    },
    {
     "name": "stdout",
     "output_type": "stream",
     "text": [
      "\n",
      "Epoch 3 — Train Loss: 0.0356\n",
      "\n",
      "Validation Accuracy: 0.9042\n"
     ]
    },
    {
     "name": "stderr",
     "output_type": "stream",
     "text": [
      "                                                        "
     ]
    },
    {
     "name": "stdout",
     "output_type": "stream",
     "text": [
      "\n",
      "Epoch 4 — Train Loss: 0.0218\n",
      "\n",
      "Validation Accuracy: 0.9083\n"
     ]
    },
    {
     "name": "stderr",
     "output_type": "stream",
     "text": [
      "                                                        "
     ]
    },
    {
     "name": "stdout",
     "output_type": "stream",
     "text": [
      "\n",
      "Epoch 5 — Train Loss: 0.0148\n",
      "\n",
      "Validation Accuracy: 0.8917\n",
      "\n",
      "Testing CNN config: {'embedding_dim': 256, 'num_filters': 50, 'filter_sizes': (4, 5, 6), 'dropout': 0.5, 'lr': 0.001, 'batch_size': 32}\n"
     ]
    },
    {
     "name": "stderr",
     "output_type": "stream",
     "text": [
      "                                                          "
     ]
    },
    {
     "name": "stdout",
     "output_type": "stream",
     "text": [
      "\n",
      "Epoch 1 — Train Loss: 0.1138\n",
      "\n",
      "Validation Accuracy: 0.7958\n"
     ]
    },
    {
     "name": "stderr",
     "output_type": "stream",
     "text": [
      "                                                          "
     ]
    },
    {
     "name": "stdout",
     "output_type": "stream",
     "text": [
      "\n",
      "Epoch 2 — Train Loss: 0.0451\n",
      "\n",
      "Validation Accuracy: 0.9042\n"
     ]
    },
    {
     "name": "stderr",
     "output_type": "stream",
     "text": [
      "                                                          "
     ]
    },
    {
     "name": "stdout",
     "output_type": "stream",
     "text": [
      "\n",
      "Epoch 3 — Train Loss: 0.0259\n",
      "\n",
      "Validation Accuracy: 0.9250\n"
     ]
    },
    {
     "name": "stderr",
     "output_type": "stream",
     "text": [
      "                                                          "
     ]
    },
    {
     "name": "stdout",
     "output_type": "stream",
     "text": [
      "\n",
      "Epoch 4 — Train Loss: 0.0167\n",
      "\n",
      "Validation Accuracy: 0.9167\n"
     ]
    },
    {
     "name": "stderr",
     "output_type": "stream",
     "text": [
      "                                                          "
     ]
    },
    {
     "name": "stdout",
     "output_type": "stream",
     "text": [
      "\n",
      "Epoch 5 — Train Loss: 0.0150\n",
      "\n",
      "Validation Accuracy: 0.9208\n",
      "\n",
      "Testing CNN config: {'embedding_dim': 256, 'num_filters': 50, 'filter_sizes': (4, 5, 6), 'dropout': 0.5, 'lr': 0.001, 'batch_size': 64}\n"
     ]
    },
    {
     "name": "stderr",
     "output_type": "stream",
     "text": [
      "                                                        "
     ]
    },
    {
     "name": "stdout",
     "output_type": "stream",
     "text": [
      "\n",
      "Epoch 1 — Train Loss: 0.1541\n",
      "\n",
      "Validation Accuracy: 0.7500\n"
     ]
    },
    {
     "name": "stderr",
     "output_type": "stream",
     "text": [
      "                                                        "
     ]
    },
    {
     "name": "stdout",
     "output_type": "stream",
     "text": [
      "\n",
      "Epoch 2 — Train Loss: 0.0625\n",
      "\n",
      "Validation Accuracy: 0.9167\n"
     ]
    },
    {
     "name": "stderr",
     "output_type": "stream",
     "text": [
      "                                                        "
     ]
    },
    {
     "name": "stdout",
     "output_type": "stream",
     "text": [
      "\n",
      "Epoch 3 — Train Loss: 0.0329\n",
      "\n",
      "Validation Accuracy: 0.9333\n"
     ]
    },
    {
     "name": "stderr",
     "output_type": "stream",
     "text": [
      "                                                        "
     ]
    },
    {
     "name": "stdout",
     "output_type": "stream",
     "text": [
      "\n",
      "Epoch 4 — Train Loss: 0.0223\n",
      "\n",
      "Validation Accuracy: 0.8917\n"
     ]
    },
    {
     "name": "stderr",
     "output_type": "stream",
     "text": [
      "                                                        "
     ]
    },
    {
     "name": "stdout",
     "output_type": "stream",
     "text": [
      "\n",
      "Epoch 5 — Train Loss: 0.0149\n",
      "\n",
      "Validation Accuracy: 0.9000\n",
      "\n",
      "Testing CNN config: {'embedding_dim': 256, 'num_filters': 50, 'filter_sizes': (4, 5, 6), 'dropout': 0.5, 'lr': 0.0005, 'batch_size': 32}\n"
     ]
    },
    {
     "name": "stderr",
     "output_type": "stream",
     "text": [
      "                                                          "
     ]
    },
    {
     "name": "stdout",
     "output_type": "stream",
     "text": [
      "\n",
      "Epoch 1 — Train Loss: 0.1565\n",
      "\n",
      "Validation Accuracy: 0.6667\n"
     ]
    },
    {
     "name": "stderr",
     "output_type": "stream",
     "text": [
      "                                                          "
     ]
    },
    {
     "name": "stdout",
     "output_type": "stream",
     "text": [
      "\n",
      "Epoch 2 — Train Loss: 0.0689\n",
      "\n",
      "Validation Accuracy: 0.8708\n"
     ]
    },
    {
     "name": "stderr",
     "output_type": "stream",
     "text": [
      "                                                          "
     ]
    },
    {
     "name": "stdout",
     "output_type": "stream",
     "text": [
      "\n",
      "Epoch 3 — Train Loss: 0.0410\n",
      "\n",
      "Validation Accuracy: 0.9000\n"
     ]
    },
    {
     "name": "stderr",
     "output_type": "stream",
     "text": [
      "                                                          "
     ]
    },
    {
     "name": "stdout",
     "output_type": "stream",
     "text": [
      "\n",
      "Epoch 4 — Train Loss: 0.0274\n",
      "\n",
      "Validation Accuracy: 0.9000\n"
     ]
    },
    {
     "name": "stderr",
     "output_type": "stream",
     "text": [
      "                                                          "
     ]
    },
    {
     "name": "stdout",
     "output_type": "stream",
     "text": [
      "\n",
      "Epoch 5 — Train Loss: 0.0190\n",
      "\n",
      "Validation Accuracy: 0.9125\n",
      "\n",
      "Testing CNN config: {'embedding_dim': 256, 'num_filters': 50, 'filter_sizes': (4, 5, 6), 'dropout': 0.5, 'lr': 0.0005, 'batch_size': 64}\n"
     ]
    },
    {
     "name": "stderr",
     "output_type": "stream",
     "text": [
      "                                                        "
     ]
    },
    {
     "name": "stdout",
     "output_type": "stream",
     "text": [
      "\n",
      "Epoch 1 — Train Loss: 0.1499\n",
      "\n",
      "Validation Accuracy: 0.6500\n"
     ]
    },
    {
     "name": "stderr",
     "output_type": "stream",
     "text": [
      "                                                        "
     ]
    },
    {
     "name": "stdout",
     "output_type": "stream",
     "text": [
      "\n",
      "Epoch 2 — Train Loss: 0.0748\n",
      "\n",
      "Validation Accuracy: 0.8708\n"
     ]
    },
    {
     "name": "stderr",
     "output_type": "stream",
     "text": [
      "                                                        "
     ]
    },
    {
     "name": "stdout",
     "output_type": "stream",
     "text": [
      "\n",
      "Epoch 3 — Train Loss: 0.0462\n",
      "\n",
      "Validation Accuracy: 0.9167\n"
     ]
    },
    {
     "name": "stderr",
     "output_type": "stream",
     "text": [
      "                                                        "
     ]
    },
    {
     "name": "stdout",
     "output_type": "stream",
     "text": [
      "\n",
      "Epoch 4 — Train Loss: 0.0327\n",
      "\n",
      "Validation Accuracy: 0.9167\n"
     ]
    },
    {
     "name": "stderr",
     "output_type": "stream",
     "text": [
      "                                                        "
     ]
    },
    {
     "name": "stdout",
     "output_type": "stream",
     "text": [
      "\n",
      "Epoch 5 — Train Loss: 0.0245\n",
      "\n",
      "Validation Accuracy: 0.9125\n",
      "\n",
      "Testing CNN config: {'embedding_dim': 256, 'num_filters': 100, 'filter_sizes': (3, 4, 5), 'dropout': 0.3, 'lr': 0.001, 'batch_size': 32}\n"
     ]
    },
    {
     "name": "stderr",
     "output_type": "stream",
     "text": [
      "                                                          "
     ]
    },
    {
     "name": "stdout",
     "output_type": "stream",
     "text": [
      "\n",
      "Epoch 1 — Train Loss: 0.0939\n",
      "\n",
      "Validation Accuracy: 0.9167\n"
     ]
    },
    {
     "name": "stderr",
     "output_type": "stream",
     "text": [
      "                                                          "
     ]
    },
    {
     "name": "stdout",
     "output_type": "stream",
     "text": [
      "\n",
      "Epoch 2 — Train Loss: 0.0210\n",
      "\n",
      "Validation Accuracy: 0.8833\n"
     ]
    },
    {
     "name": "stderr",
     "output_type": "stream",
     "text": [
      "                                                          "
     ]
    },
    {
     "name": "stdout",
     "output_type": "stream",
     "text": [
      "\n",
      "Epoch 3 — Train Loss: 0.0085\n",
      "\n",
      "Validation Accuracy: 0.9083\n"
     ]
    },
    {
     "name": "stderr",
     "output_type": "stream",
     "text": [
      "                                                          "
     ]
    },
    {
     "name": "stdout",
     "output_type": "stream",
     "text": [
      "\n",
      "Epoch 4 — Train Loss: 0.0039\n",
      "\n",
      "Validation Accuracy: 0.8792\n"
     ]
    },
    {
     "name": "stderr",
     "output_type": "stream",
     "text": [
      "                                                          "
     ]
    },
    {
     "name": "stdout",
     "output_type": "stream",
     "text": [
      "\n",
      "Epoch 5 — Train Loss: 0.0028\n",
      "\n",
      "Validation Accuracy: 0.8792\n",
      "\n",
      "Testing CNN config: {'embedding_dim': 256, 'num_filters': 100, 'filter_sizes': (3, 4, 5), 'dropout': 0.3, 'lr': 0.001, 'batch_size': 64}\n"
     ]
    },
    {
     "name": "stderr",
     "output_type": "stream",
     "text": [
      "                                                        "
     ]
    },
    {
     "name": "stdout",
     "output_type": "stream",
     "text": [
      "\n",
      "Epoch 1 — Train Loss: 0.1026\n",
      "\n",
      "Validation Accuracy: 0.8792\n"
     ]
    },
    {
     "name": "stderr",
     "output_type": "stream",
     "text": [
      "                                                        "
     ]
    },
    {
     "name": "stdout",
     "output_type": "stream",
     "text": [
      "\n",
      "Epoch 2 — Train Loss: 0.0255\n",
      "\n",
      "Validation Accuracy: 0.9125\n"
     ]
    },
    {
     "name": "stderr",
     "output_type": "stream",
     "text": [
      "                                                        "
     ]
    },
    {
     "name": "stdout",
     "output_type": "stream",
     "text": [
      "\n",
      "Epoch 3 — Train Loss: 0.0114\n",
      "\n",
      "Validation Accuracy: 0.8833\n"
     ]
    },
    {
     "name": "stderr",
     "output_type": "stream",
     "text": [
      "                                                        "
     ]
    },
    {
     "name": "stdout",
     "output_type": "stream",
     "text": [
      "\n",
      "Epoch 4 — Train Loss: 0.0051\n",
      "\n",
      "Validation Accuracy: 0.8792\n"
     ]
    },
    {
     "name": "stderr",
     "output_type": "stream",
     "text": [
      "                                                        "
     ]
    },
    {
     "name": "stdout",
     "output_type": "stream",
     "text": [
      "\n",
      "Epoch 5 — Train Loss: 0.0031\n",
      "\n",
      "Validation Accuracy: 0.8708\n",
      "\n",
      "Testing CNN config: {'embedding_dim': 256, 'num_filters': 100, 'filter_sizes': (3, 4, 5), 'dropout': 0.3, 'lr': 0.0005, 'batch_size': 32}\n"
     ]
    },
    {
     "name": "stderr",
     "output_type": "stream",
     "text": [
      "                                                          "
     ]
    },
    {
     "name": "stdout",
     "output_type": "stream",
     "text": [
      "\n",
      "Epoch 1 — Train Loss: 0.1093\n",
      "\n",
      "Validation Accuracy: 0.8875\n"
     ]
    },
    {
     "name": "stderr",
     "output_type": "stream",
     "text": [
      "                                                          "
     ]
    },
    {
     "name": "stdout",
     "output_type": "stream",
     "text": [
      "\n",
      "Epoch 2 — Train Loss: 0.0310\n",
      "\n",
      "Validation Accuracy: 0.8917\n"
     ]
    },
    {
     "name": "stderr",
     "output_type": "stream",
     "text": [
      "                                                          "
     ]
    },
    {
     "name": "stdout",
     "output_type": "stream",
     "text": [
      "\n",
      "Epoch 3 — Train Loss: 0.0136\n",
      "\n",
      "Validation Accuracy: 0.8958\n"
     ]
    },
    {
     "name": "stderr",
     "output_type": "stream",
     "text": [
      "                                                          "
     ]
    },
    {
     "name": "stdout",
     "output_type": "stream",
     "text": [
      "\n",
      "Epoch 4 — Train Loss: 0.0072\n",
      "\n",
      "Validation Accuracy: 0.8917\n"
     ]
    },
    {
     "name": "stderr",
     "output_type": "stream",
     "text": [
      "                                                          "
     ]
    },
    {
     "name": "stdout",
     "output_type": "stream",
     "text": [
      "\n",
      "Epoch 5 — Train Loss: 0.0041\n",
      "\n",
      "Validation Accuracy: 0.8833\n",
      "\n",
      "Testing CNN config: {'embedding_dim': 256, 'num_filters': 100, 'filter_sizes': (3, 4, 5), 'dropout': 0.3, 'lr': 0.0005, 'batch_size': 64}\n"
     ]
    },
    {
     "name": "stderr",
     "output_type": "stream",
     "text": [
      "                                                        "
     ]
    },
    {
     "name": "stdout",
     "output_type": "stream",
     "text": [
      "\n",
      "Epoch 1 — Train Loss: 0.1210\n",
      "\n",
      "Validation Accuracy: 0.7625\n"
     ]
    },
    {
     "name": "stderr",
     "output_type": "stream",
     "text": [
      "                                                        "
     ]
    },
    {
     "name": "stdout",
     "output_type": "stream",
     "text": [
      "\n",
      "Epoch 2 — Train Loss: 0.0410\n",
      "\n",
      "Validation Accuracy: 0.9083\n"
     ]
    },
    {
     "name": "stderr",
     "output_type": "stream",
     "text": [
      "                                                        "
     ]
    },
    {
     "name": "stdout",
     "output_type": "stream",
     "text": [
      "\n",
      "Epoch 3 — Train Loss: 0.0192\n",
      "\n",
      "Validation Accuracy: 0.9083\n"
     ]
    },
    {
     "name": "stderr",
     "output_type": "stream",
     "text": [
      "                                                        "
     ]
    },
    {
     "name": "stdout",
     "output_type": "stream",
     "text": [
      "\n",
      "Epoch 4 — Train Loss: 0.0110\n",
      "\n",
      "Validation Accuracy: 0.8792\n"
     ]
    },
    {
     "name": "stderr",
     "output_type": "stream",
     "text": [
      "                                                        "
     ]
    },
    {
     "name": "stdout",
     "output_type": "stream",
     "text": [
      "\n",
      "Epoch 5 — Train Loss: 0.0076\n",
      "\n",
      "Validation Accuracy: 0.8792\n",
      "\n",
      "Testing CNN config: {'embedding_dim': 256, 'num_filters': 100, 'filter_sizes': (3, 4, 5), 'dropout': 0.5, 'lr': 0.001, 'batch_size': 32}\n"
     ]
    },
    {
     "name": "stderr",
     "output_type": "stream",
     "text": [
      "                                                          "
     ]
    },
    {
     "name": "stdout",
     "output_type": "stream",
     "text": [
      "\n",
      "Epoch 1 — Train Loss: 0.1054\n",
      "\n",
      "Validation Accuracy: 0.9083\n"
     ]
    },
    {
     "name": "stderr",
     "output_type": "stream",
     "text": [
      "                                                          "
     ]
    },
    {
     "name": "stdout",
     "output_type": "stream",
     "text": [
      "\n",
      "Epoch 2 — Train Loss: 0.0369\n",
      "\n",
      "Validation Accuracy: 0.9167\n"
     ]
    },
    {
     "name": "stderr",
     "output_type": "stream",
     "text": [
      "                                                          "
     ]
    },
    {
     "name": "stdout",
     "output_type": "stream",
     "text": [
      "\n",
      "Epoch 3 — Train Loss: 0.0210\n",
      "\n",
      "Validation Accuracy: 0.9167\n"
     ]
    },
    {
     "name": "stderr",
     "output_type": "stream",
     "text": [
      "                                                          "
     ]
    },
    {
     "name": "stdout",
     "output_type": "stream",
     "text": [
      "\n",
      "Epoch 4 — Train Loss: 0.0148\n",
      "\n",
      "Validation Accuracy: 0.9083\n"
     ]
    },
    {
     "name": "stderr",
     "output_type": "stream",
     "text": [
      "                                                          "
     ]
    },
    {
     "name": "stdout",
     "output_type": "stream",
     "text": [
      "\n",
      "Epoch 5 — Train Loss: 0.0146\n",
      "\n",
      "Validation Accuracy: 0.8958\n",
      "\n",
      "Testing CNN config: {'embedding_dim': 256, 'num_filters': 100, 'filter_sizes': (3, 4, 5), 'dropout': 0.5, 'lr': 0.001, 'batch_size': 64}\n"
     ]
    },
    {
     "name": "stderr",
     "output_type": "stream",
     "text": [
      "                                                        "
     ]
    },
    {
     "name": "stdout",
     "output_type": "stream",
     "text": [
      "\n",
      "Epoch 1 — Train Loss: 0.1333\n",
      "\n",
      "Validation Accuracy: 0.8625\n"
     ]
    },
    {
     "name": "stderr",
     "output_type": "stream",
     "text": [
      "                                                        "
     ]
    },
    {
     "name": "stdout",
     "output_type": "stream",
     "text": [
      "\n",
      "Epoch 2 — Train Loss: 0.0442\n",
      "\n",
      "Validation Accuracy: 0.9083\n"
     ]
    },
    {
     "name": "stderr",
     "output_type": "stream",
     "text": [
      "                                                        "
     ]
    },
    {
     "name": "stdout",
     "output_type": "stream",
     "text": [
      "\n",
      "Epoch 3 — Train Loss: 0.0253\n",
      "\n",
      "Validation Accuracy: 0.9042\n"
     ]
    },
    {
     "name": "stderr",
     "output_type": "stream",
     "text": [
      "                                                        "
     ]
    },
    {
     "name": "stdout",
     "output_type": "stream",
     "text": [
      "\n",
      "Epoch 4 — Train Loss: 0.0139\n",
      "\n",
      "Validation Accuracy: 0.8875\n"
     ]
    },
    {
     "name": "stderr",
     "output_type": "stream",
     "text": [
      "                                                        "
     ]
    },
    {
     "name": "stdout",
     "output_type": "stream",
     "text": [
      "\n",
      "Epoch 5 — Train Loss: 0.0109\n",
      "\n",
      "Validation Accuracy: 0.8917\n",
      "\n",
      "Testing CNN config: {'embedding_dim': 256, 'num_filters': 100, 'filter_sizes': (3, 4, 5), 'dropout': 0.5, 'lr': 0.0005, 'batch_size': 32}\n"
     ]
    },
    {
     "name": "stderr",
     "output_type": "stream",
     "text": [
      "                                                          "
     ]
    },
    {
     "name": "stdout",
     "output_type": "stream",
     "text": [
      "\n",
      "Epoch 1 — Train Loss: 0.1497\n",
      "\n",
      "Validation Accuracy: 0.7917\n"
     ]
    },
    {
     "name": "stderr",
     "output_type": "stream",
     "text": [
      "                                                          "
     ]
    },
    {
     "name": "stdout",
     "output_type": "stream",
     "text": [
      "\n",
      "Epoch 2 — Train Loss: 0.0591\n",
      "\n",
      "Validation Accuracy: 0.9000\n"
     ]
    },
    {
     "name": "stderr",
     "output_type": "stream",
     "text": [
      "                                                          "
     ]
    },
    {
     "name": "stdout",
     "output_type": "stream",
     "text": [
      "\n",
      "Epoch 3 — Train Loss: 0.0309\n",
      "\n",
      "Validation Accuracy: 0.9125\n"
     ]
    },
    {
     "name": "stderr",
     "output_type": "stream",
     "text": [
      "                                                          "
     ]
    },
    {
     "name": "stdout",
     "output_type": "stream",
     "text": [
      "\n",
      "Epoch 4 — Train Loss: 0.0187\n",
      "\n",
      "Validation Accuracy: 0.8958\n"
     ]
    },
    {
     "name": "stderr",
     "output_type": "stream",
     "text": [
      "                                                          "
     ]
    },
    {
     "name": "stdout",
     "output_type": "stream",
     "text": [
      "\n",
      "Epoch 5 — Train Loss: 0.0140\n",
      "\n",
      "Validation Accuracy: 0.9000\n",
      "\n",
      "Testing CNN config: {'embedding_dim': 256, 'num_filters': 100, 'filter_sizes': (3, 4, 5), 'dropout': 0.5, 'lr': 0.0005, 'batch_size': 64}\n"
     ]
    },
    {
     "name": "stderr",
     "output_type": "stream",
     "text": [
      "                                                        "
     ]
    },
    {
     "name": "stdout",
     "output_type": "stream",
     "text": [
      "\n",
      "Epoch 1 — Train Loss: 0.1568\n",
      "\n",
      "Validation Accuracy: 0.5708\n"
     ]
    },
    {
     "name": "stderr",
     "output_type": "stream",
     "text": [
      "                                                        "
     ]
    },
    {
     "name": "stdout",
     "output_type": "stream",
     "text": [
      "\n",
      "Epoch 2 — Train Loss: 0.0704\n",
      "\n",
      "Validation Accuracy: 0.8833\n"
     ]
    },
    {
     "name": "stderr",
     "output_type": "stream",
     "text": [
      "                                                        "
     ]
    },
    {
     "name": "stdout",
     "output_type": "stream",
     "text": [
      "\n",
      "Epoch 3 — Train Loss: 0.0421\n",
      "\n",
      "Validation Accuracy: 0.9250\n"
     ]
    },
    {
     "name": "stderr",
     "output_type": "stream",
     "text": [
      "                                                        "
     ]
    },
    {
     "name": "stdout",
     "output_type": "stream",
     "text": [
      "\n",
      "Epoch 4 — Train Loss: 0.0265\n",
      "\n",
      "Validation Accuracy: 0.9125\n"
     ]
    },
    {
     "name": "stderr",
     "output_type": "stream",
     "text": [
      "                                                        "
     ]
    },
    {
     "name": "stdout",
     "output_type": "stream",
     "text": [
      "\n",
      "Epoch 5 — Train Loss: 0.0187\n",
      "\n",
      "Validation Accuracy: 0.9000\n",
      "\n",
      "Testing CNN config: {'embedding_dim': 256, 'num_filters': 100, 'filter_sizes': (2, 3, 4), 'dropout': 0.3, 'lr': 0.001, 'batch_size': 32}\n"
     ]
    },
    {
     "name": "stderr",
     "output_type": "stream",
     "text": [
      "                                                          "
     ]
    },
    {
     "name": "stdout",
     "output_type": "stream",
     "text": [
      "\n",
      "Epoch 1 — Train Loss: 0.0785\n",
      "\n",
      "Validation Accuracy: 0.9042\n"
     ]
    },
    {
     "name": "stderr",
     "output_type": "stream",
     "text": [
      "                                                          "
     ]
    },
    {
     "name": "stdout",
     "output_type": "stream",
     "text": [
      "\n",
      "Epoch 2 — Train Loss: 0.0216\n",
      "\n",
      "Validation Accuracy: 0.8875\n"
     ]
    },
    {
     "name": "stderr",
     "output_type": "stream",
     "text": [
      "                                                          "
     ]
    },
    {
     "name": "stdout",
     "output_type": "stream",
     "text": [
      "\n",
      "Epoch 3 — Train Loss: 0.0098\n",
      "\n",
      "Validation Accuracy: 0.9125\n"
     ]
    },
    {
     "name": "stderr",
     "output_type": "stream",
     "text": [
      "                                                          "
     ]
    },
    {
     "name": "stdout",
     "output_type": "stream",
     "text": [
      "\n",
      "Epoch 4 — Train Loss: 0.0062\n",
      "\n",
      "Validation Accuracy: 0.9125\n"
     ]
    },
    {
     "name": "stderr",
     "output_type": "stream",
     "text": [
      "                                                          "
     ]
    },
    {
     "name": "stdout",
     "output_type": "stream",
     "text": [
      "\n",
      "Epoch 5 — Train Loss: 0.0037\n",
      "\n",
      "Validation Accuracy: 0.9042\n",
      "\n",
      "Testing CNN config: {'embedding_dim': 256, 'num_filters': 100, 'filter_sizes': (2, 3, 4), 'dropout': 0.3, 'lr': 0.001, 'batch_size': 64}\n"
     ]
    },
    {
     "name": "stderr",
     "output_type": "stream",
     "text": [
      "                                                        "
     ]
    },
    {
     "name": "stdout",
     "output_type": "stream",
     "text": [
      "\n",
      "Epoch 1 — Train Loss: 0.1203\n",
      "\n",
      "Validation Accuracy: 0.8750\n"
     ]
    },
    {
     "name": "stderr",
     "output_type": "stream",
     "text": [
      "                                                        "
     ]
    },
    {
     "name": "stdout",
     "output_type": "stream",
     "text": [
      "\n",
      "Epoch 2 — Train Loss: 0.0349\n",
      "\n",
      "Validation Accuracy: 0.9250\n"
     ]
    },
    {
     "name": "stderr",
     "output_type": "stream",
     "text": [
      "                                                        "
     ]
    },
    {
     "name": "stdout",
     "output_type": "stream",
     "text": [
      "\n",
      "Epoch 3 — Train Loss: 0.0154\n",
      "\n",
      "Validation Accuracy: 0.9000\n"
     ]
    },
    {
     "name": "stderr",
     "output_type": "stream",
     "text": [
      "                                                        "
     ]
    },
    {
     "name": "stdout",
     "output_type": "stream",
     "text": [
      "\n",
      "Epoch 4 — Train Loss: 0.0078\n",
      "\n",
      "Validation Accuracy: 0.9208\n"
     ]
    },
    {
     "name": "stderr",
     "output_type": "stream",
     "text": [
      "                                                        "
     ]
    },
    {
     "name": "stdout",
     "output_type": "stream",
     "text": [
      "\n",
      "Epoch 5 — Train Loss: 0.0051\n",
      "\n",
      "Validation Accuracy: 0.9125\n",
      "\n",
      "Testing CNN config: {'embedding_dim': 256, 'num_filters': 100, 'filter_sizes': (2, 3, 4), 'dropout': 0.3, 'lr': 0.0005, 'batch_size': 32}\n"
     ]
    },
    {
     "name": "stderr",
     "output_type": "stream",
     "text": [
      "                                                          "
     ]
    },
    {
     "name": "stdout",
     "output_type": "stream",
     "text": [
      "\n",
      "Epoch 1 — Train Loss: 0.1182\n",
      "\n",
      "Validation Accuracy: 0.7583\n"
     ]
    },
    {
     "name": "stderr",
     "output_type": "stream",
     "text": [
      "                                                          "
     ]
    },
    {
     "name": "stdout",
     "output_type": "stream",
     "text": [
      "\n",
      "Epoch 2 — Train Loss: 0.0380\n",
      "\n",
      "Validation Accuracy: 0.9208\n"
     ]
    },
    {
     "name": "stderr",
     "output_type": "stream",
     "text": [
      "                                                          "
     ]
    },
    {
     "name": "stdout",
     "output_type": "stream",
     "text": [
      "\n",
      "Epoch 3 — Train Loss: 0.0185\n",
      "\n",
      "Validation Accuracy: 0.8917\n"
     ]
    },
    {
     "name": "stderr",
     "output_type": "stream",
     "text": [
      "                                                          "
     ]
    },
    {
     "name": "stdout",
     "output_type": "stream",
     "text": [
      "\n",
      "Epoch 4 — Train Loss: 0.0106\n",
      "\n",
      "Validation Accuracy: 0.9000\n"
     ]
    },
    {
     "name": "stderr",
     "output_type": "stream",
     "text": [
      "                                                          "
     ]
    },
    {
     "name": "stdout",
     "output_type": "stream",
     "text": [
      "\n",
      "Epoch 5 — Train Loss: 0.0066\n",
      "\n",
      "Validation Accuracy: 0.8875\n",
      "\n",
      "Testing CNN config: {'embedding_dim': 256, 'num_filters': 100, 'filter_sizes': (2, 3, 4), 'dropout': 0.3, 'lr': 0.0005, 'batch_size': 64}\n"
     ]
    },
    {
     "name": "stderr",
     "output_type": "stream",
     "text": [
      "                                                        "
     ]
    },
    {
     "name": "stdout",
     "output_type": "stream",
     "text": [
      "\n",
      "Epoch 1 — Train Loss: 0.1284\n",
      "\n",
      "Validation Accuracy: 0.7875\n"
     ]
    },
    {
     "name": "stderr",
     "output_type": "stream",
     "text": [
      "                                                        "
     ]
    },
    {
     "name": "stdout",
     "output_type": "stream",
     "text": [
      "\n",
      "Epoch 2 — Train Loss: 0.0484\n",
      "\n",
      "Validation Accuracy: 0.9167\n"
     ]
    },
    {
     "name": "stderr",
     "output_type": "stream",
     "text": [
      "                                                        "
     ]
    },
    {
     "name": "stdout",
     "output_type": "stream",
     "text": [
      "\n",
      "Epoch 3 — Train Loss: 0.0254\n",
      "\n",
      "Validation Accuracy: 0.9208\n"
     ]
    },
    {
     "name": "stderr",
     "output_type": "stream",
     "text": [
      "                                                        "
     ]
    },
    {
     "name": "stdout",
     "output_type": "stream",
     "text": [
      "\n",
      "Epoch 4 — Train Loss: 0.0156\n",
      "\n",
      "Validation Accuracy: 0.8958\n"
     ]
    },
    {
     "name": "stderr",
     "output_type": "stream",
     "text": [
      "                                                        "
     ]
    },
    {
     "name": "stdout",
     "output_type": "stream",
     "text": [
      "\n",
      "Epoch 5 — Train Loss: 0.0104\n",
      "\n",
      "Validation Accuracy: 0.9167\n",
      "\n",
      "Testing CNN config: {'embedding_dim': 256, 'num_filters': 100, 'filter_sizes': (2, 3, 4), 'dropout': 0.5, 'lr': 0.001, 'batch_size': 32}\n"
     ]
    },
    {
     "name": "stderr",
     "output_type": "stream",
     "text": [
      "                                                          "
     ]
    },
    {
     "name": "stdout",
     "output_type": "stream",
     "text": [
      "\n",
      "Epoch 1 — Train Loss: 0.1109\n",
      "\n",
      "Validation Accuracy: 0.9208\n"
     ]
    },
    {
     "name": "stderr",
     "output_type": "stream",
     "text": [
      "                                                          "
     ]
    },
    {
     "name": "stdout",
     "output_type": "stream",
     "text": [
      "\n",
      "Epoch 2 — Train Loss: 0.0429\n",
      "\n",
      "Validation Accuracy: 0.9208\n"
     ]
    },
    {
     "name": "stderr",
     "output_type": "stream",
     "text": [
      "                                                          "
     ]
    },
    {
     "name": "stdout",
     "output_type": "stream",
     "text": [
      "\n",
      "Epoch 3 — Train Loss: 0.0268\n",
      "\n",
      "Validation Accuracy: 0.9292\n"
     ]
    },
    {
     "name": "stderr",
     "output_type": "stream",
     "text": [
      "                                                          "
     ]
    },
    {
     "name": "stdout",
     "output_type": "stream",
     "text": [
      "\n",
      "Epoch 4 — Train Loss: 0.0168\n",
      "\n",
      "Validation Accuracy: 0.9125\n"
     ]
    },
    {
     "name": "stderr",
     "output_type": "stream",
     "text": [
      "                                                          "
     ]
    },
    {
     "name": "stdout",
     "output_type": "stream",
     "text": [
      "\n",
      "Epoch 5 — Train Loss: 0.0116\n",
      "\n",
      "Validation Accuracy: 0.9250\n",
      "\n",
      "Testing CNN config: {'embedding_dim': 256, 'num_filters': 100, 'filter_sizes': (2, 3, 4), 'dropout': 0.5, 'lr': 0.001, 'batch_size': 64}\n"
     ]
    },
    {
     "name": "stderr",
     "output_type": "stream",
     "text": [
      "                                                        "
     ]
    },
    {
     "name": "stdout",
     "output_type": "stream",
     "text": [
      "\n",
      "Epoch 1 — Train Loss: 0.1263\n",
      "\n",
      "Validation Accuracy: 0.9000\n"
     ]
    },
    {
     "name": "stderr",
     "output_type": "stream",
     "text": [
      "                                                        "
     ]
    },
    {
     "name": "stdout",
     "output_type": "stream",
     "text": [
      "\n",
      "Epoch 2 — Train Loss: 0.0484\n",
      "\n",
      "Validation Accuracy: 0.9083\n"
     ]
    },
    {
     "name": "stderr",
     "output_type": "stream",
     "text": [
      "                                                        "
     ]
    },
    {
     "name": "stdout",
     "output_type": "stream",
     "text": [
      "\n",
      "Epoch 3 — Train Loss: 0.0274\n",
      "\n",
      "Validation Accuracy: 0.9083\n"
     ]
    },
    {
     "name": "stderr",
     "output_type": "stream",
     "text": [
      "                                                        "
     ]
    },
    {
     "name": "stdout",
     "output_type": "stream",
     "text": [
      "\n",
      "Epoch 4 — Train Loss: 0.0174\n",
      "\n",
      "Validation Accuracy: 0.9083\n"
     ]
    },
    {
     "name": "stderr",
     "output_type": "stream",
     "text": [
      "                                                        "
     ]
    },
    {
     "name": "stdout",
     "output_type": "stream",
     "text": [
      "\n",
      "Epoch 5 — Train Loss: 0.0125\n",
      "\n",
      "Validation Accuracy: 0.9042\n",
      "\n",
      "Testing CNN config: {'embedding_dim': 256, 'num_filters': 100, 'filter_sizes': (2, 3, 4), 'dropout': 0.5, 'lr': 0.0005, 'batch_size': 32}\n"
     ]
    },
    {
     "name": "stderr",
     "output_type": "stream",
     "text": [
      "                                                          "
     ]
    },
    {
     "name": "stdout",
     "output_type": "stream",
     "text": [
      "\n",
      "Epoch 1 — Train Loss: 0.1456\n",
      "\n",
      "Validation Accuracy: 0.8375\n"
     ]
    },
    {
     "name": "stderr",
     "output_type": "stream",
     "text": [
      "                                                          "
     ]
    },
    {
     "name": "stdout",
     "output_type": "stream",
     "text": [
      "\n",
      "Epoch 2 — Train Loss: 0.0631\n",
      "\n",
      "Validation Accuracy: 0.9167\n"
     ]
    },
    {
     "name": "stderr",
     "output_type": "stream",
     "text": [
      "                                                          "
     ]
    },
    {
     "name": "stdout",
     "output_type": "stream",
     "text": [
      "\n",
      "Epoch 3 — Train Loss: 0.0353\n",
      "\n",
      "Validation Accuracy: 0.9250\n"
     ]
    },
    {
     "name": "stderr",
     "output_type": "stream",
     "text": [
      "                                                          "
     ]
    },
    {
     "name": "stdout",
     "output_type": "stream",
     "text": [
      "\n",
      "Epoch 4 — Train Loss: 0.0228\n",
      "\n",
      "Validation Accuracy: 0.9250\n"
     ]
    },
    {
     "name": "stderr",
     "output_type": "stream",
     "text": [
      "                                                          "
     ]
    },
    {
     "name": "stdout",
     "output_type": "stream",
     "text": [
      "\n",
      "Epoch 5 — Train Loss: 0.0175\n",
      "\n",
      "Validation Accuracy: 0.9208\n",
      "\n",
      "Testing CNN config: {'embedding_dim': 256, 'num_filters': 100, 'filter_sizes': (2, 3, 4), 'dropout': 0.5, 'lr': 0.0005, 'batch_size': 64}\n"
     ]
    },
    {
     "name": "stderr",
     "output_type": "stream",
     "text": [
      "                                                        "
     ]
    },
    {
     "name": "stdout",
     "output_type": "stream",
     "text": [
      "\n",
      "Epoch 1 — Train Loss: 0.1675\n",
      "\n",
      "Validation Accuracy: 0.6500\n"
     ]
    },
    {
     "name": "stderr",
     "output_type": "stream",
     "text": [
      "                                                        "
     ]
    },
    {
     "name": "stdout",
     "output_type": "stream",
     "text": [
      "\n",
      "Epoch 2 — Train Loss: 0.0828\n",
      "\n",
      "Validation Accuracy: 0.8583\n"
     ]
    },
    {
     "name": "stderr",
     "output_type": "stream",
     "text": [
      "                                                        "
     ]
    },
    {
     "name": "stdout",
     "output_type": "stream",
     "text": [
      "\n",
      "Epoch 3 — Train Loss: 0.0516\n",
      "\n",
      "Validation Accuracy: 0.8833\n"
     ]
    },
    {
     "name": "stderr",
     "output_type": "stream",
     "text": [
      "                                                        "
     ]
    },
    {
     "name": "stdout",
     "output_type": "stream",
     "text": [
      "\n",
      "Epoch 4 — Train Loss: 0.0379\n",
      "\n",
      "Validation Accuracy: 0.9125\n"
     ]
    },
    {
     "name": "stderr",
     "output_type": "stream",
     "text": [
      "                                                        "
     ]
    },
    {
     "name": "stdout",
     "output_type": "stream",
     "text": [
      "\n",
      "Epoch 5 — Train Loss: 0.0247\n",
      "\n",
      "Validation Accuracy: 0.9208\n",
      "\n",
      "Testing CNN config: {'embedding_dim': 256, 'num_filters': 100, 'filter_sizes': (4, 5, 6), 'dropout': 0.3, 'lr': 0.001, 'batch_size': 32}\n"
     ]
    },
    {
     "name": "stderr",
     "output_type": "stream",
     "text": [
      "                                                          "
     ]
    },
    {
     "name": "stdout",
     "output_type": "stream",
     "text": [
      "\n",
      "Epoch 1 — Train Loss: 0.0791\n",
      "\n",
      "Validation Accuracy: 0.8792\n"
     ]
    },
    {
     "name": "stderr",
     "output_type": "stream",
     "text": [
      "                                                          "
     ]
    },
    {
     "name": "stdout",
     "output_type": "stream",
     "text": [
      "\n",
      "Epoch 2 — Train Loss: 0.0180\n",
      "\n",
      "Validation Accuracy: 0.8708\n"
     ]
    },
    {
     "name": "stderr",
     "output_type": "stream",
     "text": [
      "                                                          "
     ]
    },
    {
     "name": "stdout",
     "output_type": "stream",
     "text": [
      "\n",
      "Epoch 3 — Train Loss: 0.0072\n",
      "\n",
      "Validation Accuracy: 0.8750\n"
     ]
    },
    {
     "name": "stderr",
     "output_type": "stream",
     "text": [
      "                                                          "
     ]
    },
    {
     "name": "stdout",
     "output_type": "stream",
     "text": [
      "\n",
      "Epoch 4 — Train Loss: 0.0036\n",
      "\n",
      "Validation Accuracy: 0.8583\n"
     ]
    },
    {
     "name": "stderr",
     "output_type": "stream",
     "text": [
      "                                                          "
     ]
    },
    {
     "name": "stdout",
     "output_type": "stream",
     "text": [
      "\n",
      "Epoch 5 — Train Loss: 0.0029\n",
      "\n",
      "Validation Accuracy: 0.8958\n",
      "\n",
      "Testing CNN config: {'embedding_dim': 256, 'num_filters': 100, 'filter_sizes': (4, 5, 6), 'dropout': 0.3, 'lr': 0.001, 'batch_size': 64}\n"
     ]
    },
    {
     "name": "stderr",
     "output_type": "stream",
     "text": [
      "                                                        "
     ]
    },
    {
     "name": "stdout",
     "output_type": "stream",
     "text": [
      "\n",
      "Epoch 1 — Train Loss: 0.1172\n",
      "\n",
      "Validation Accuracy: 0.8875\n"
     ]
    },
    {
     "name": "stderr",
     "output_type": "stream",
     "text": [
      "                                                        "
     ]
    },
    {
     "name": "stdout",
     "output_type": "stream",
     "text": [
      "\n",
      "Epoch 2 — Train Loss: 0.0267\n",
      "\n",
      "Validation Accuracy: 0.8958\n"
     ]
    },
    {
     "name": "stderr",
     "output_type": "stream",
     "text": [
      "                                                        "
     ]
    },
    {
     "name": "stdout",
     "output_type": "stream",
     "text": [
      "\n",
      "Epoch 3 — Train Loss: 0.0101\n",
      "\n",
      "Validation Accuracy: 0.8792\n"
     ]
    },
    {
     "name": "stderr",
     "output_type": "stream",
     "text": [
      "                                                        "
     ]
    },
    {
     "name": "stdout",
     "output_type": "stream",
     "text": [
      "\n",
      "Epoch 4 — Train Loss: 0.0059\n",
      "\n",
      "Validation Accuracy: 0.8833\n"
     ]
    },
    {
     "name": "stderr",
     "output_type": "stream",
     "text": [
      "                                                        "
     ]
    },
    {
     "name": "stdout",
     "output_type": "stream",
     "text": [
      "\n",
      "Epoch 5 — Train Loss: 0.0039\n",
      "\n",
      "Validation Accuracy: 0.8583\n",
      "\n",
      "Testing CNN config: {'embedding_dim': 256, 'num_filters': 100, 'filter_sizes': (4, 5, 6), 'dropout': 0.3, 'lr': 0.0005, 'batch_size': 32}\n"
     ]
    },
    {
     "name": "stderr",
     "output_type": "stream",
     "text": [
      "                                                          "
     ]
    },
    {
     "name": "stdout",
     "output_type": "stream",
     "text": [
      "\n",
      "Epoch 1 — Train Loss: 0.1049\n",
      "\n",
      "Validation Accuracy: 0.9125\n"
     ]
    },
    {
     "name": "stderr",
     "output_type": "stream",
     "text": [
      "                                                          "
     ]
    },
    {
     "name": "stdout",
     "output_type": "stream",
     "text": [
      "\n",
      "Epoch 2 — Train Loss: 0.0267\n",
      "\n",
      "Validation Accuracy: 0.8958\n"
     ]
    },
    {
     "name": "stderr",
     "output_type": "stream",
     "text": [
      "                                                          "
     ]
    },
    {
     "name": "stdout",
     "output_type": "stream",
     "text": [
      "\n",
      "Epoch 3 — Train Loss: 0.0115\n",
      "\n",
      "Validation Accuracy: 0.9000\n"
     ]
    },
    {
     "name": "stderr",
     "output_type": "stream",
     "text": [
      "                                                          "
     ]
    },
    {
     "name": "stdout",
     "output_type": "stream",
     "text": [
      "\n",
      "Epoch 4 — Train Loss: 0.0054\n",
      "\n",
      "Validation Accuracy: 0.8625\n"
     ]
    },
    {
     "name": "stderr",
     "output_type": "stream",
     "text": [
      "                                                          "
     ]
    },
    {
     "name": "stdout",
     "output_type": "stream",
     "text": [
      "\n",
      "Epoch 5 — Train Loss: 0.0041\n",
      "\n",
      "Validation Accuracy: 0.8583\n",
      "\n",
      "Testing CNN config: {'embedding_dim': 256, 'num_filters': 100, 'filter_sizes': (4, 5, 6), 'dropout': 0.3, 'lr': 0.0005, 'batch_size': 64}\n"
     ]
    },
    {
     "name": "stderr",
     "output_type": "stream",
     "text": [
      "                                                        "
     ]
    },
    {
     "name": "stdout",
     "output_type": "stream",
     "text": [
      "\n",
      "Epoch 1 — Train Loss: 0.1162\n",
      "\n",
      "Validation Accuracy: 0.8625\n"
     ]
    },
    {
     "name": "stderr",
     "output_type": "stream",
     "text": [
      "                                                        "
     ]
    },
    {
     "name": "stdout",
     "output_type": "stream",
     "text": [
      "\n",
      "Epoch 2 — Train Loss: 0.0343\n",
      "\n",
      "Validation Accuracy: 0.9042\n"
     ]
    },
    {
     "name": "stderr",
     "output_type": "stream",
     "text": [
      "                                                        "
     ]
    },
    {
     "name": "stdout",
     "output_type": "stream",
     "text": [
      "\n",
      "Epoch 3 — Train Loss: 0.0164\n",
      "\n",
      "Validation Accuracy: 0.8750\n"
     ]
    },
    {
     "name": "stderr",
     "output_type": "stream",
     "text": [
      "                                                        "
     ]
    },
    {
     "name": "stdout",
     "output_type": "stream",
     "text": [
      "\n",
      "Epoch 4 — Train Loss: 0.0093\n",
      "\n",
      "Validation Accuracy: 0.8625\n"
     ]
    },
    {
     "name": "stderr",
     "output_type": "stream",
     "text": [
      "                                                        "
     ]
    },
    {
     "name": "stdout",
     "output_type": "stream",
     "text": [
      "\n",
      "Epoch 5 — Train Loss: 0.0052\n",
      "\n",
      "Validation Accuracy: 0.8458\n",
      "\n",
      "Testing CNN config: {'embedding_dim': 256, 'num_filters': 100, 'filter_sizes': (4, 5, 6), 'dropout': 0.5, 'lr': 0.001, 'batch_size': 32}\n"
     ]
    },
    {
     "name": "stderr",
     "output_type": "stream",
     "text": [
      "                                                          "
     ]
    },
    {
     "name": "stdout",
     "output_type": "stream",
     "text": [
      "\n",
      "Epoch 1 — Train Loss: 0.1018\n",
      "\n",
      "Validation Accuracy: 0.8750\n"
     ]
    },
    {
     "name": "stderr",
     "output_type": "stream",
     "text": [
      "                                                          "
     ]
    },
    {
     "name": "stdout",
     "output_type": "stream",
     "text": [
      "\n",
      "Epoch 2 — Train Loss: 0.0378\n",
      "\n",
      "Validation Accuracy: 0.8708\n"
     ]
    },
    {
     "name": "stderr",
     "output_type": "stream",
     "text": [
      "                                                          "
     ]
    },
    {
     "name": "stdout",
     "output_type": "stream",
     "text": [
      "\n",
      "Epoch 3 — Train Loss: 0.0199\n",
      "\n",
      "Validation Accuracy: 0.9083\n"
     ]
    },
    {
     "name": "stderr",
     "output_type": "stream",
     "text": [
      "                                                          "
     ]
    },
    {
     "name": "stdout",
     "output_type": "stream",
     "text": [
      "\n",
      "Epoch 4 — Train Loss: 0.0157\n",
      "\n",
      "Validation Accuracy: 0.9042\n"
     ]
    },
    {
     "name": "stderr",
     "output_type": "stream",
     "text": [
      "                                                          "
     ]
    },
    {
     "name": "stdout",
     "output_type": "stream",
     "text": [
      "\n",
      "Epoch 5 — Train Loss: 0.0078\n",
      "\n",
      "Validation Accuracy: 0.9000\n",
      "\n",
      "Testing CNN config: {'embedding_dim': 256, 'num_filters': 100, 'filter_sizes': (4, 5, 6), 'dropout': 0.5, 'lr': 0.001, 'batch_size': 64}\n"
     ]
    },
    {
     "name": "stderr",
     "output_type": "stream",
     "text": [
      "                                                        "
     ]
    },
    {
     "name": "stdout",
     "output_type": "stream",
     "text": [
      "\n",
      "Epoch 1 — Train Loss: 0.1140\n",
      "\n",
      "Validation Accuracy: 0.7625\n"
     ]
    },
    {
     "name": "stderr",
     "output_type": "stream",
     "text": [
      "                                                        "
     ]
    },
    {
     "name": "stdout",
     "output_type": "stream",
     "text": [
      "\n",
      "Epoch 2 — Train Loss: 0.0420\n",
      "\n",
      "Validation Accuracy: 0.8958\n"
     ]
    },
    {
     "name": "stderr",
     "output_type": "stream",
     "text": [
      "                                                        "
     ]
    },
    {
     "name": "stdout",
     "output_type": "stream",
     "text": [
      "\n",
      "Epoch 3 — Train Loss: 0.0221\n",
      "\n",
      "Validation Accuracy: 0.9125\n"
     ]
    },
    {
     "name": "stderr",
     "output_type": "stream",
     "text": [
      "                                                        "
     ]
    },
    {
     "name": "stdout",
     "output_type": "stream",
     "text": [
      "\n",
      "Epoch 4 — Train Loss: 0.0125\n",
      "\n",
      "Validation Accuracy: 0.8917\n"
     ]
    },
    {
     "name": "stderr",
     "output_type": "stream",
     "text": [
      "                                                        "
     ]
    },
    {
     "name": "stdout",
     "output_type": "stream",
     "text": [
      "\n",
      "Epoch 5 — Train Loss: 0.0096\n",
      "\n",
      "Validation Accuracy: 0.8792\n",
      "\n",
      "Testing CNN config: {'embedding_dim': 256, 'num_filters': 100, 'filter_sizes': (4, 5, 6), 'dropout': 0.5, 'lr': 0.0005, 'batch_size': 32}\n"
     ]
    },
    {
     "name": "stderr",
     "output_type": "stream",
     "text": [
      "                                                          "
     ]
    },
    {
     "name": "stdout",
     "output_type": "stream",
     "text": [
      "\n",
      "Epoch 1 — Train Loss: 0.1181\n",
      "\n",
      "Validation Accuracy: 0.8500\n"
     ]
    },
    {
     "name": "stderr",
     "output_type": "stream",
     "text": [
      "                                                          "
     ]
    },
    {
     "name": "stdout",
     "output_type": "stream",
     "text": [
      "\n",
      "Epoch 2 — Train Loss: 0.0420\n",
      "\n",
      "Validation Accuracy: 0.9125\n"
     ]
    },
    {
     "name": "stderr",
     "output_type": "stream",
     "text": [
      "                                                          "
     ]
    },
    {
     "name": "stdout",
     "output_type": "stream",
     "text": [
      "\n",
      "Epoch 3 — Train Loss: 0.0232\n",
      "\n",
      "Validation Accuracy: 0.9167\n"
     ]
    },
    {
     "name": "stderr",
     "output_type": "stream",
     "text": [
      "                                                          "
     ]
    },
    {
     "name": "stdout",
     "output_type": "stream",
     "text": [
      "\n",
      "Epoch 4 — Train Loss: 0.0151\n",
      "\n",
      "Validation Accuracy: 0.8875\n"
     ]
    },
    {
     "name": "stderr",
     "output_type": "stream",
     "text": [
      "                                                          "
     ]
    },
    {
     "name": "stdout",
     "output_type": "stream",
     "text": [
      "\n",
      "Epoch 5 — Train Loss: 0.0095\n",
      "\n",
      "Validation Accuracy: 0.9042\n",
      "\n",
      "Testing CNN config: {'embedding_dim': 256, 'num_filters': 100, 'filter_sizes': (4, 5, 6), 'dropout': 0.5, 'lr': 0.0005, 'batch_size': 64}\n"
     ]
    },
    {
     "name": "stderr",
     "output_type": "stream",
     "text": [
      "                                                        "
     ]
    },
    {
     "name": "stdout",
     "output_type": "stream",
     "text": [
      "\n",
      "Epoch 1 — Train Loss: 0.1714\n",
      "\n",
      "Validation Accuracy: 0.5958\n"
     ]
    },
    {
     "name": "stderr",
     "output_type": "stream",
     "text": [
      "                                                        "
     ]
    },
    {
     "name": "stdout",
     "output_type": "stream",
     "text": [
      "\n",
      "Epoch 2 — Train Loss: 0.0702\n",
      "\n",
      "Validation Accuracy: 0.8875\n"
     ]
    },
    {
     "name": "stderr",
     "output_type": "stream",
     "text": [
      "                                                        "
     ]
    },
    {
     "name": "stdout",
     "output_type": "stream",
     "text": [
      "\n",
      "Epoch 3 — Train Loss: 0.0388\n",
      "\n",
      "Validation Accuracy: 0.9167\n"
     ]
    },
    {
     "name": "stderr",
     "output_type": "stream",
     "text": [
      "                                                        "
     ]
    },
    {
     "name": "stdout",
     "output_type": "stream",
     "text": [
      "\n",
      "Epoch 4 — Train Loss: 0.0248\n",
      "\n",
      "Validation Accuracy: 0.9167\n"
     ]
    },
    {
     "name": "stderr",
     "output_type": "stream",
     "text": [
      "                                                        "
     ]
    },
    {
     "name": "stdout",
     "output_type": "stream",
     "text": [
      "\n",
      "Epoch 5 — Train Loss: 0.0168\n",
      "\n",
      "Validation Accuracy: 0.9167\n",
      "\n",
      "Testing CNN config: {'embedding_dim': 256, 'num_filters': 150, 'filter_sizes': (3, 4, 5), 'dropout': 0.3, 'lr': 0.001, 'batch_size': 32}\n"
     ]
    },
    {
     "name": "stderr",
     "output_type": "stream",
     "text": [
      "                                                          "
     ]
    },
    {
     "name": "stdout",
     "output_type": "stream",
     "text": [
      "\n",
      "Epoch 1 — Train Loss: 0.0735\n",
      "\n",
      "Validation Accuracy: 0.8708\n"
     ]
    },
    {
     "name": "stderr",
     "output_type": "stream",
     "text": [
      "                                                          "
     ]
    },
    {
     "name": "stdout",
     "output_type": "stream",
     "text": [
      "\n",
      "Epoch 2 — Train Loss: 0.0155\n",
      "\n",
      "Validation Accuracy: 0.8542\n"
     ]
    },
    {
     "name": "stderr",
     "output_type": "stream",
     "text": [
      "                                                          "
     ]
    },
    {
     "name": "stdout",
     "output_type": "stream",
     "text": [
      "\n",
      "Epoch 3 — Train Loss: 0.0093\n",
      "\n",
      "Validation Accuracy: 0.8583\n"
     ]
    },
    {
     "name": "stderr",
     "output_type": "stream",
     "text": [
      "                                                          "
     ]
    },
    {
     "name": "stdout",
     "output_type": "stream",
     "text": [
      "\n",
      "Epoch 4 — Train Loss: 0.0037\n",
      "\n",
      "Validation Accuracy: 0.8875\n"
     ]
    },
    {
     "name": "stderr",
     "output_type": "stream",
     "text": [
      "                                                          "
     ]
    },
    {
     "name": "stdout",
     "output_type": "stream",
     "text": [
      "\n",
      "Epoch 5 — Train Loss: 0.0032\n",
      "\n",
      "Validation Accuracy: 0.8792\n",
      "\n",
      "Testing CNN config: {'embedding_dim': 256, 'num_filters': 150, 'filter_sizes': (3, 4, 5), 'dropout': 0.3, 'lr': 0.001, 'batch_size': 64}\n"
     ]
    },
    {
     "name": "stderr",
     "output_type": "stream",
     "text": [
      "                                                        "
     ]
    },
    {
     "name": "stdout",
     "output_type": "stream",
     "text": [
      "\n",
      "Epoch 1 — Train Loss: 0.0963\n",
      "\n",
      "Validation Accuracy: 0.9042\n"
     ]
    },
    {
     "name": "stderr",
     "output_type": "stream",
     "text": [
      "                                                        "
     ]
    },
    {
     "name": "stdout",
     "output_type": "stream",
     "text": [
      "\n",
      "Epoch 2 — Train Loss: 0.0238\n",
      "\n",
      "Validation Accuracy: 0.9125\n"
     ]
    },
    {
     "name": "stderr",
     "output_type": "stream",
     "text": [
      "                                                        "
     ]
    },
    {
     "name": "stdout",
     "output_type": "stream",
     "text": [
      "\n",
      "Epoch 3 — Train Loss: 0.0084\n",
      "\n",
      "Validation Accuracy: 0.8750\n"
     ]
    },
    {
     "name": "stderr",
     "output_type": "stream",
     "text": [
      "                                                        "
     ]
    },
    {
     "name": "stdout",
     "output_type": "stream",
     "text": [
      "\n",
      "Epoch 4 — Train Loss: 0.0043\n",
      "\n",
      "Validation Accuracy: 0.8583\n"
     ]
    },
    {
     "name": "stderr",
     "output_type": "stream",
     "text": [
      "                                                        "
     ]
    },
    {
     "name": "stdout",
     "output_type": "stream",
     "text": [
      "\n",
      "Epoch 5 — Train Loss: 0.0029\n",
      "\n",
      "Validation Accuracy: 0.8583\n",
      "\n",
      "Testing CNN config: {'embedding_dim': 256, 'num_filters': 150, 'filter_sizes': (3, 4, 5), 'dropout': 0.3, 'lr': 0.0005, 'batch_size': 32}\n"
     ]
    },
    {
     "name": "stderr",
     "output_type": "stream",
     "text": [
      "                                                          "
     ]
    },
    {
     "name": "stdout",
     "output_type": "stream",
     "text": [
      "\n",
      "Epoch 1 — Train Loss: 0.1033\n",
      "\n",
      "Validation Accuracy: 0.8833\n"
     ]
    },
    {
     "name": "stderr",
     "output_type": "stream",
     "text": [
      "                                                          "
     ]
    },
    {
     "name": "stdout",
     "output_type": "stream",
     "text": [
      "\n",
      "Epoch 2 — Train Loss: 0.0263\n",
      "\n",
      "Validation Accuracy: 0.8958\n"
     ]
    },
    {
     "name": "stderr",
     "output_type": "stream",
     "text": [
      "                                                          "
     ]
    },
    {
     "name": "stdout",
     "output_type": "stream",
     "text": [
      "\n",
      "Epoch 3 — Train Loss: 0.0103\n",
      "\n",
      "Validation Accuracy: 0.8750\n"
     ]
    },
    {
     "name": "stderr",
     "output_type": "stream",
     "text": [
      "                                                          "
     ]
    },
    {
     "name": "stdout",
     "output_type": "stream",
     "text": [
      "\n",
      "Epoch 4 — Train Loss: 0.0048\n",
      "\n",
      "Validation Accuracy: 0.8458\n"
     ]
    },
    {
     "name": "stderr",
     "output_type": "stream",
     "text": [
      "                                                          "
     ]
    },
    {
     "name": "stdout",
     "output_type": "stream",
     "text": [
      "\n",
      "Epoch 5 — Train Loss: 0.0028\n",
      "\n",
      "Validation Accuracy: 0.8417\n",
      "\n",
      "Testing CNN config: {'embedding_dim': 256, 'num_filters': 150, 'filter_sizes': (3, 4, 5), 'dropout': 0.3, 'lr': 0.0005, 'batch_size': 64}\n"
     ]
    },
    {
     "name": "stderr",
     "output_type": "stream",
     "text": [
      "                                                        "
     ]
    },
    {
     "name": "stdout",
     "output_type": "stream",
     "text": [
      "\n",
      "Epoch 1 — Train Loss: 0.1209\n",
      "\n",
      "Validation Accuracy: 0.8500\n"
     ]
    },
    {
     "name": "stderr",
     "output_type": "stream",
     "text": [
      "                                                        "
     ]
    },
    {
     "name": "stdout",
     "output_type": "stream",
     "text": [
      "\n",
      "Epoch 2 — Train Loss: 0.0394\n",
      "\n",
      "Validation Accuracy: 0.9333\n"
     ]
    },
    {
     "name": "stderr",
     "output_type": "stream",
     "text": [
      "                                                        "
     ]
    },
    {
     "name": "stdout",
     "output_type": "stream",
     "text": [
      "\n",
      "Epoch 3 — Train Loss: 0.0169\n",
      "\n",
      "Validation Accuracy: 0.9083\n"
     ]
    },
    {
     "name": "stderr",
     "output_type": "stream",
     "text": [
      "                                                        "
     ]
    },
    {
     "name": "stdout",
     "output_type": "stream",
     "text": [
      "\n",
      "Epoch 4 — Train Loss: 0.0095\n",
      "\n",
      "Validation Accuracy: 0.8833\n"
     ]
    },
    {
     "name": "stderr",
     "output_type": "stream",
     "text": [
      "                                                        "
     ]
    },
    {
     "name": "stdout",
     "output_type": "stream",
     "text": [
      "\n",
      "Epoch 5 — Train Loss: 0.0056\n",
      "\n",
      "Validation Accuracy: 0.9042\n",
      "\n",
      "Testing CNN config: {'embedding_dim': 256, 'num_filters': 150, 'filter_sizes': (3, 4, 5), 'dropout': 0.5, 'lr': 0.001, 'batch_size': 32}\n"
     ]
    },
    {
     "name": "stderr",
     "output_type": "stream",
     "text": [
      "                                                          "
     ]
    },
    {
     "name": "stdout",
     "output_type": "stream",
     "text": [
      "\n",
      "Epoch 1 — Train Loss: 0.1002\n",
      "\n",
      "Validation Accuracy: 0.8792\n"
     ]
    },
    {
     "name": "stderr",
     "output_type": "stream",
     "text": [
      "                                                          "
     ]
    },
    {
     "name": "stdout",
     "output_type": "stream",
     "text": [
      "\n",
      "Epoch 2 — Train Loss: 0.0328\n",
      "\n",
      "Validation Accuracy: 0.8792\n"
     ]
    },
    {
     "name": "stderr",
     "output_type": "stream",
     "text": [
      "                                                          "
     ]
    },
    {
     "name": "stdout",
     "output_type": "stream",
     "text": [
      "\n",
      "Epoch 3 — Train Loss: 0.0174\n",
      "\n",
      "Validation Accuracy: 0.8917\n"
     ]
    },
    {
     "name": "stderr",
     "output_type": "stream",
     "text": [
      "                                                          "
     ]
    },
    {
     "name": "stdout",
     "output_type": "stream",
     "text": [
      "\n",
      "Epoch 4 — Train Loss: 0.0118\n",
      "\n",
      "Validation Accuracy: 0.9042\n"
     ]
    },
    {
     "name": "stderr",
     "output_type": "stream",
     "text": [
      "                                                          "
     ]
    },
    {
     "name": "stdout",
     "output_type": "stream",
     "text": [
      "\n",
      "Epoch 5 — Train Loss: 0.0110\n",
      "\n",
      "Validation Accuracy: 0.9167\n",
      "\n",
      "Testing CNN config: {'embedding_dim': 256, 'num_filters': 150, 'filter_sizes': (3, 4, 5), 'dropout': 0.5, 'lr': 0.001, 'batch_size': 64}\n"
     ]
    },
    {
     "name": "stderr",
     "output_type": "stream",
     "text": [
      "                                                        "
     ]
    },
    {
     "name": "stdout",
     "output_type": "stream",
     "text": [
      "\n",
      "Epoch 1 — Train Loss: 0.1262\n",
      "\n",
      "Validation Accuracy: 0.9083\n"
     ]
    },
    {
     "name": "stderr",
     "output_type": "stream",
     "text": [
      "                                                        "
     ]
    },
    {
     "name": "stdout",
     "output_type": "stream",
     "text": [
      "\n",
      "Epoch 2 — Train Loss: 0.0382\n",
      "\n",
      "Validation Accuracy: 0.9042\n"
     ]
    },
    {
     "name": "stderr",
     "output_type": "stream",
     "text": [
      "                                                        "
     ]
    },
    {
     "name": "stdout",
     "output_type": "stream",
     "text": [
      "\n",
      "Epoch 3 — Train Loss: 0.0201\n",
      "\n",
      "Validation Accuracy: 0.9083\n"
     ]
    },
    {
     "name": "stderr",
     "output_type": "stream",
     "text": [
      "                                                        "
     ]
    },
    {
     "name": "stdout",
     "output_type": "stream",
     "text": [
      "\n",
      "Epoch 4 — Train Loss: 0.0103\n",
      "\n",
      "Validation Accuracy: 0.8958\n"
     ]
    },
    {
     "name": "stderr",
     "output_type": "stream",
     "text": [
      "                                                        "
     ]
    },
    {
     "name": "stdout",
     "output_type": "stream",
     "text": [
      "\n",
      "Epoch 5 — Train Loss: 0.0070\n",
      "\n",
      "Validation Accuracy: 0.9208\n",
      "\n",
      "Testing CNN config: {'embedding_dim': 256, 'num_filters': 150, 'filter_sizes': (3, 4, 5), 'dropout': 0.5, 'lr': 0.0005, 'batch_size': 32}\n"
     ]
    },
    {
     "name": "stderr",
     "output_type": "stream",
     "text": [
      "                                                          "
     ]
    },
    {
     "name": "stdout",
     "output_type": "stream",
     "text": [
      "\n",
      "Epoch 1 — Train Loss: 0.1150\n",
      "\n",
      "Validation Accuracy: 0.8875\n"
     ]
    },
    {
     "name": "stderr",
     "output_type": "stream",
     "text": [
      "                                                          "
     ]
    },
    {
     "name": "stdout",
     "output_type": "stream",
     "text": [
      "\n",
      "Epoch 2 — Train Loss: 0.0407\n",
      "\n",
      "Validation Accuracy: 0.9042\n"
     ]
    },
    {
     "name": "stderr",
     "output_type": "stream",
     "text": [
      "                                                          "
     ]
    },
    {
     "name": "stdout",
     "output_type": "stream",
     "text": [
      "\n",
      "Epoch 3 — Train Loss: 0.0202\n",
      "\n",
      "Validation Accuracy: 0.8708\n"
     ]
    },
    {
     "name": "stderr",
     "output_type": "stream",
     "text": [
      "                                                          "
     ]
    },
    {
     "name": "stdout",
     "output_type": "stream",
     "text": [
      "\n",
      "Epoch 4 — Train Loss: 0.0122\n",
      "\n",
      "Validation Accuracy: 0.8958\n"
     ]
    },
    {
     "name": "stderr",
     "output_type": "stream",
     "text": [
      "                                                          "
     ]
    },
    {
     "name": "stdout",
     "output_type": "stream",
     "text": [
      "\n",
      "Epoch 5 — Train Loss: 0.0076\n",
      "\n",
      "Validation Accuracy: 0.9292\n",
      "\n",
      "Testing CNN config: {'embedding_dim': 256, 'num_filters': 150, 'filter_sizes': (3, 4, 5), 'dropout': 0.5, 'lr': 0.0005, 'batch_size': 64}\n"
     ]
    },
    {
     "name": "stderr",
     "output_type": "stream",
     "text": [
      "                                                        "
     ]
    },
    {
     "name": "stdout",
     "output_type": "stream",
     "text": [
      "\n",
      "Epoch 1 — Train Loss: 0.1624\n",
      "\n",
      "Validation Accuracy: 0.7083\n"
     ]
    },
    {
     "name": "stderr",
     "output_type": "stream",
     "text": [
      "                                                        "
     ]
    },
    {
     "name": "stdout",
     "output_type": "stream",
     "text": [
      "\n",
      "Epoch 2 — Train Loss: 0.0649\n",
      "\n",
      "Validation Accuracy: 0.8917\n"
     ]
    },
    {
     "name": "stderr",
     "output_type": "stream",
     "text": [
      "                                                        "
     ]
    },
    {
     "name": "stdout",
     "output_type": "stream",
     "text": [
      "\n",
      "Epoch 3 — Train Loss: 0.0382\n",
      "\n",
      "Validation Accuracy: 0.9042\n"
     ]
    },
    {
     "name": "stderr",
     "output_type": "stream",
     "text": [
      "                                                        "
     ]
    },
    {
     "name": "stdout",
     "output_type": "stream",
     "text": [
      "\n",
      "Epoch 4 — Train Loss: 0.0224\n",
      "\n",
      "Validation Accuracy: 0.9167\n"
     ]
    },
    {
     "name": "stderr",
     "output_type": "stream",
     "text": [
      "                                                        "
     ]
    },
    {
     "name": "stdout",
     "output_type": "stream",
     "text": [
      "\n",
      "Epoch 5 — Train Loss: 0.0160\n",
      "\n",
      "Validation Accuracy: 0.8875\n",
      "\n",
      "Testing CNN config: {'embedding_dim': 256, 'num_filters': 150, 'filter_sizes': (2, 3, 4), 'dropout': 0.3, 'lr': 0.001, 'batch_size': 32}\n"
     ]
    },
    {
     "name": "stderr",
     "output_type": "stream",
     "text": [
      "                                                          "
     ]
    },
    {
     "name": "stdout",
     "output_type": "stream",
     "text": [
      "\n",
      "Epoch 1 — Train Loss: 0.0880\n",
      "\n",
      "Validation Accuracy: 0.8958\n"
     ]
    },
    {
     "name": "stderr",
     "output_type": "stream",
     "text": [
      "                                                          "
     ]
    },
    {
     "name": "stdout",
     "output_type": "stream",
     "text": [
      "\n",
      "Epoch 2 — Train Loss: 0.0205\n",
      "\n",
      "Validation Accuracy: 0.9292\n"
     ]
    },
    {
     "name": "stderr",
     "output_type": "stream",
     "text": [
      "                                                          "
     ]
    },
    {
     "name": "stdout",
     "output_type": "stream",
     "text": [
      "\n",
      "Epoch 3 — Train Loss: 0.0094\n",
      "\n",
      "Validation Accuracy: 0.8792\n"
     ]
    },
    {
     "name": "stderr",
     "output_type": "stream",
     "text": [
      "                                                          "
     ]
    },
    {
     "name": "stdout",
     "output_type": "stream",
     "text": [
      "\n",
      "Epoch 4 — Train Loss: 0.0039\n",
      "\n",
      "Validation Accuracy: 0.8833\n"
     ]
    },
    {
     "name": "stderr",
     "output_type": "stream",
     "text": [
      "                                                          "
     ]
    },
    {
     "name": "stdout",
     "output_type": "stream",
     "text": [
      "\n",
      "Epoch 5 — Train Loss: 0.0028\n",
      "\n",
      "Validation Accuracy: 0.9125\n",
      "\n",
      "Testing CNN config: {'embedding_dim': 256, 'num_filters': 150, 'filter_sizes': (2, 3, 4), 'dropout': 0.3, 'lr': 0.001, 'batch_size': 64}\n"
     ]
    },
    {
     "name": "stderr",
     "output_type": "stream",
     "text": [
      "                                                        "
     ]
    },
    {
     "name": "stdout",
     "output_type": "stream",
     "text": [
      "\n",
      "Epoch 1 — Train Loss: 0.1056\n",
      "\n",
      "Validation Accuracy: 0.8958\n"
     ]
    },
    {
     "name": "stderr",
     "output_type": "stream",
     "text": [
      "                                                        "
     ]
    },
    {
     "name": "stdout",
     "output_type": "stream",
     "text": [
      "\n",
      "Epoch 2 — Train Loss: 0.0247\n",
      "\n",
      "Validation Accuracy: 0.9208\n"
     ]
    },
    {
     "name": "stderr",
     "output_type": "stream",
     "text": [
      "                                                        "
     ]
    },
    {
     "name": "stdout",
     "output_type": "stream",
     "text": [
      "\n",
      "Epoch 3 — Train Loss: 0.0102\n",
      "\n",
      "Validation Accuracy: 0.8958\n"
     ]
    },
    {
     "name": "stderr",
     "output_type": "stream",
     "text": [
      "                                                        "
     ]
    },
    {
     "name": "stdout",
     "output_type": "stream",
     "text": [
      "\n",
      "Epoch 4 — Train Loss: 0.0050\n",
      "\n",
      "Validation Accuracy: 0.8833\n"
     ]
    },
    {
     "name": "stderr",
     "output_type": "stream",
     "text": [
      "                                                        "
     ]
    },
    {
     "name": "stdout",
     "output_type": "stream",
     "text": [
      "\n",
      "Epoch 5 — Train Loss: 0.0032\n",
      "\n",
      "Validation Accuracy: 0.8958\n",
      "\n",
      "Testing CNN config: {'embedding_dim': 256, 'num_filters': 150, 'filter_sizes': (2, 3, 4), 'dropout': 0.3, 'lr': 0.0005, 'batch_size': 32}\n"
     ]
    },
    {
     "name": "stderr",
     "output_type": "stream",
     "text": [
      "                                                          "
     ]
    },
    {
     "name": "stdout",
     "output_type": "stream",
     "text": [
      "\n",
      "Epoch 1 — Train Loss: 0.1099\n",
      "\n",
      "Validation Accuracy: 0.8583\n"
     ]
    },
    {
     "name": "stderr",
     "output_type": "stream",
     "text": [
      "                                                          "
     ]
    },
    {
     "name": "stdout",
     "output_type": "stream",
     "text": [
      "\n",
      "Epoch 2 — Train Loss: 0.0304\n",
      "\n",
      "Validation Accuracy: 0.9292\n"
     ]
    },
    {
     "name": "stderr",
     "output_type": "stream",
     "text": [
      "                                                          "
     ]
    },
    {
     "name": "stdout",
     "output_type": "stream",
     "text": [
      "\n",
      "Epoch 3 — Train Loss: 0.0136\n",
      "\n",
      "Validation Accuracy: 0.9250\n"
     ]
    },
    {
     "name": "stderr",
     "output_type": "stream",
     "text": [
      "                                                          "
     ]
    },
    {
     "name": "stdout",
     "output_type": "stream",
     "text": [
      "\n",
      "Epoch 4 — Train Loss: 0.0072\n",
      "\n",
      "Validation Accuracy: 0.8958\n"
     ]
    },
    {
     "name": "stderr",
     "output_type": "stream",
     "text": [
      "                                                          "
     ]
    },
    {
     "name": "stdout",
     "output_type": "stream",
     "text": [
      "\n",
      "Epoch 5 — Train Loss: 0.0043\n",
      "\n",
      "Validation Accuracy: 0.8875\n",
      "\n",
      "Testing CNN config: {'embedding_dim': 256, 'num_filters': 150, 'filter_sizes': (2, 3, 4), 'dropout': 0.3, 'lr': 0.0005, 'batch_size': 64}\n"
     ]
    },
    {
     "name": "stderr",
     "output_type": "stream",
     "text": [
      "                                                        "
     ]
    },
    {
     "name": "stdout",
     "output_type": "stream",
     "text": [
      "\n",
      "Epoch 1 — Train Loss: 0.1494\n",
      "\n",
      "Validation Accuracy: 0.8000\n"
     ]
    },
    {
     "name": "stderr",
     "output_type": "stream",
     "text": [
      "                                                        "
     ]
    },
    {
     "name": "stdout",
     "output_type": "stream",
     "text": [
      "\n",
      "Epoch 2 — Train Loss: 0.0551\n",
      "\n",
      "Validation Accuracy: 0.8958\n"
     ]
    },
    {
     "name": "stderr",
     "output_type": "stream",
     "text": [
      "                                                        "
     ]
    },
    {
     "name": "stdout",
     "output_type": "stream",
     "text": [
      "\n",
      "Epoch 3 — Train Loss: 0.0291\n",
      "\n",
      "Validation Accuracy: 0.9167\n"
     ]
    },
    {
     "name": "stderr",
     "output_type": "stream",
     "text": [
      "                                                        "
     ]
    },
    {
     "name": "stdout",
     "output_type": "stream",
     "text": [
      "\n",
      "Epoch 4 — Train Loss: 0.0173\n",
      "\n",
      "Validation Accuracy: 0.9167\n"
     ]
    },
    {
     "name": "stderr",
     "output_type": "stream",
     "text": [
      "                                                        "
     ]
    },
    {
     "name": "stdout",
     "output_type": "stream",
     "text": [
      "\n",
      "Epoch 5 — Train Loss: 0.0111\n",
      "\n",
      "Validation Accuracy: 0.9000\n",
      "\n",
      "Testing CNN config: {'embedding_dim': 256, 'num_filters': 150, 'filter_sizes': (2, 3, 4), 'dropout': 0.5, 'lr': 0.001, 'batch_size': 32}\n"
     ]
    },
    {
     "name": "stderr",
     "output_type": "stream",
     "text": [
      "                                                          "
     ]
    },
    {
     "name": "stdout",
     "output_type": "stream",
     "text": [
      "\n",
      "Epoch 1 — Train Loss: 0.0995\n",
      "\n",
      "Validation Accuracy: 0.8583\n"
     ]
    },
    {
     "name": "stderr",
     "output_type": "stream",
     "text": [
      "                                                          "
     ]
    },
    {
     "name": "stdout",
     "output_type": "stream",
     "text": [
      "\n",
      "Epoch 2 — Train Loss: 0.0335\n",
      "\n",
      "Validation Accuracy: 0.9000\n"
     ]
    },
    {
     "name": "stderr",
     "output_type": "stream",
     "text": [
      "                                                          "
     ]
    },
    {
     "name": "stdout",
     "output_type": "stream",
     "text": [
      "\n",
      "Epoch 3 — Train Loss: 0.0173\n",
      "\n",
      "Validation Accuracy: 0.9167\n"
     ]
    },
    {
     "name": "stderr",
     "output_type": "stream",
     "text": [
      "                                                          "
     ]
    },
    {
     "name": "stdout",
     "output_type": "stream",
     "text": [
      "\n",
      "Epoch 4 — Train Loss: 0.0161\n",
      "\n",
      "Validation Accuracy: 0.9250\n"
     ]
    },
    {
     "name": "stderr",
     "output_type": "stream",
     "text": [
      "                                                          "
     ]
    },
    {
     "name": "stdout",
     "output_type": "stream",
     "text": [
      "\n",
      "Epoch 5 — Train Loss: 0.0144\n",
      "\n",
      "Validation Accuracy: 0.9292\n",
      "\n",
      "Testing CNN config: {'embedding_dim': 256, 'num_filters': 150, 'filter_sizes': (2, 3, 4), 'dropout': 0.5, 'lr': 0.001, 'batch_size': 64}\n"
     ]
    },
    {
     "name": "stderr",
     "output_type": "stream",
     "text": [
      "                                                        "
     ]
    },
    {
     "name": "stdout",
     "output_type": "stream",
     "text": [
      "\n",
      "Epoch 1 — Train Loss: 0.1335\n",
      "\n",
      "Validation Accuracy: 0.9208\n"
     ]
    },
    {
     "name": "stderr",
     "output_type": "stream",
     "text": [
      "                                                        "
     ]
    },
    {
     "name": "stdout",
     "output_type": "stream",
     "text": [
      "\n",
      "Epoch 2 — Train Loss: 0.0437\n",
      "\n",
      "Validation Accuracy: 0.9208\n"
     ]
    },
    {
     "name": "stderr",
     "output_type": "stream",
     "text": [
      "                                                        "
     ]
    },
    {
     "name": "stdout",
     "output_type": "stream",
     "text": [
      "\n",
      "Epoch 3 — Train Loss: 0.0232\n",
      "\n",
      "Validation Accuracy: 0.9333\n"
     ]
    },
    {
     "name": "stderr",
     "output_type": "stream",
     "text": [
      "                                                        "
     ]
    },
    {
     "name": "stdout",
     "output_type": "stream",
     "text": [
      "\n",
      "Epoch 4 — Train Loss: 0.0152\n",
      "\n",
      "Validation Accuracy: 0.9208\n"
     ]
    },
    {
     "name": "stderr",
     "output_type": "stream",
     "text": [
      "                                                        "
     ]
    },
    {
     "name": "stdout",
     "output_type": "stream",
     "text": [
      "\n",
      "Epoch 5 — Train Loss: 0.0097\n",
      "\n",
      "Validation Accuracy: 0.8833\n",
      "\n",
      "Testing CNN config: {'embedding_dim': 256, 'num_filters': 150, 'filter_sizes': (2, 3, 4), 'dropout': 0.5, 'lr': 0.0005, 'batch_size': 32}\n"
     ]
    },
    {
     "name": "stderr",
     "output_type": "stream",
     "text": [
      "                                                          "
     ]
    },
    {
     "name": "stdout",
     "output_type": "stream",
     "text": [
      "\n",
      "Epoch 1 — Train Loss: 0.1275\n",
      "\n",
      "Validation Accuracy: 0.7542\n"
     ]
    },
    {
     "name": "stderr",
     "output_type": "stream",
     "text": [
      "                                                          "
     ]
    },
    {
     "name": "stdout",
     "output_type": "stream",
     "text": [
      "\n",
      "Epoch 2 — Train Loss: 0.0489\n",
      "\n",
      "Validation Accuracy: 0.9167\n"
     ]
    },
    {
     "name": "stderr",
     "output_type": "stream",
     "text": [
      "                                                          "
     ]
    },
    {
     "name": "stdout",
     "output_type": "stream",
     "text": [
      "\n",
      "Epoch 3 — Train Loss: 0.0256\n",
      "\n",
      "Validation Accuracy: 0.9375\n"
     ]
    },
    {
     "name": "stderr",
     "output_type": "stream",
     "text": [
      "                                                          "
     ]
    },
    {
     "name": "stdout",
     "output_type": "stream",
     "text": [
      "\n",
      "Epoch 4 — Train Loss: 0.0150\n",
      "\n",
      "Validation Accuracy: 0.9250\n"
     ]
    },
    {
     "name": "stderr",
     "output_type": "stream",
     "text": [
      "                                                          "
     ]
    },
    {
     "name": "stdout",
     "output_type": "stream",
     "text": [
      "\n",
      "Epoch 5 — Train Loss: 0.0100\n",
      "\n",
      "Validation Accuracy: 0.9208\n",
      "\n",
      "Testing CNN config: {'embedding_dim': 256, 'num_filters': 150, 'filter_sizes': (2, 3, 4), 'dropout': 0.5, 'lr': 0.0005, 'batch_size': 64}\n"
     ]
    },
    {
     "name": "stderr",
     "output_type": "stream",
     "text": [
      "                                                        "
     ]
    },
    {
     "name": "stdout",
     "output_type": "stream",
     "text": [
      "\n",
      "Epoch 1 — Train Loss: 0.1409\n",
      "\n",
      "Validation Accuracy: 0.8167\n"
     ]
    },
    {
     "name": "stderr",
     "output_type": "stream",
     "text": [
      "                                                        "
     ]
    },
    {
     "name": "stdout",
     "output_type": "stream",
     "text": [
      "\n",
      "Epoch 2 — Train Loss: 0.0618\n",
      "\n",
      "Validation Accuracy: 0.9125\n"
     ]
    },
    {
     "name": "stderr",
     "output_type": "stream",
     "text": [
      "                                                        "
     ]
    },
    {
     "name": "stdout",
     "output_type": "stream",
     "text": [
      "\n",
      "Epoch 3 — Train Loss: 0.0343\n",
      "\n",
      "Validation Accuracy: 0.9208\n"
     ]
    },
    {
     "name": "stderr",
     "output_type": "stream",
     "text": [
      "                                                        "
     ]
    },
    {
     "name": "stdout",
     "output_type": "stream",
     "text": [
      "\n",
      "Epoch 4 — Train Loss: 0.0218\n",
      "\n",
      "Validation Accuracy: 0.9167\n"
     ]
    },
    {
     "name": "stderr",
     "output_type": "stream",
     "text": [
      "                                                        "
     ]
    },
    {
     "name": "stdout",
     "output_type": "stream",
     "text": [
      "\n",
      "Epoch 5 — Train Loss: 0.0166\n",
      "\n",
      "Validation Accuracy: 0.9042\n",
      "\n",
      "Testing CNN config: {'embedding_dim': 256, 'num_filters': 150, 'filter_sizes': (4, 5, 6), 'dropout': 0.3, 'lr': 0.001, 'batch_size': 32}\n"
     ]
    },
    {
     "name": "stderr",
     "output_type": "stream",
     "text": [
      "                                                          "
     ]
    },
    {
     "name": "stdout",
     "output_type": "stream",
     "text": [
      "\n",
      "Epoch 1 — Train Loss: 0.0686\n",
      "\n",
      "Validation Accuracy: 0.9083\n"
     ]
    },
    {
     "name": "stderr",
     "output_type": "stream",
     "text": [
      "                                                          "
     ]
    },
    {
     "name": "stdout",
     "output_type": "stream",
     "text": [
      "\n",
      "Epoch 2 — Train Loss: 0.0165\n",
      "\n",
      "Validation Accuracy: 0.8833\n"
     ]
    },
    {
     "name": "stderr",
     "output_type": "stream",
     "text": [
      "                                                          "
     ]
    },
    {
     "name": "stdout",
     "output_type": "stream",
     "text": [
      "\n",
      "Epoch 3 — Train Loss: 0.0061\n",
      "\n",
      "Validation Accuracy: 0.8667\n"
     ]
    },
    {
     "name": "stderr",
     "output_type": "stream",
     "text": [
      "                                                          "
     ]
    },
    {
     "name": "stdout",
     "output_type": "stream",
     "text": [
      "\n",
      "Epoch 4 — Train Loss: 0.0046\n",
      "\n",
      "Validation Accuracy: 0.9000\n"
     ]
    },
    {
     "name": "stderr",
     "output_type": "stream",
     "text": [
      "                                                          "
     ]
    },
    {
     "name": "stdout",
     "output_type": "stream",
     "text": [
      "\n",
      "Epoch 5 — Train Loss: 0.0034\n",
      "\n",
      "Validation Accuracy: 0.8792\n",
      "\n",
      "Testing CNN config: {'embedding_dim': 256, 'num_filters': 150, 'filter_sizes': (4, 5, 6), 'dropout': 0.3, 'lr': 0.001, 'batch_size': 64}\n"
     ]
    },
    {
     "name": "stderr",
     "output_type": "stream",
     "text": [
      "                                                        "
     ]
    },
    {
     "name": "stdout",
     "output_type": "stream",
     "text": [
      "\n",
      "Epoch 1 — Train Loss: 0.0957\n",
      "\n",
      "Validation Accuracy: 0.8833\n"
     ]
    },
    {
     "name": "stderr",
     "output_type": "stream",
     "text": [
      "                                                        "
     ]
    },
    {
     "name": "stdout",
     "output_type": "stream",
     "text": [
      "\n",
      "Epoch 2 — Train Loss: 0.0177\n",
      "\n",
      "Validation Accuracy: 0.8833\n"
     ]
    },
    {
     "name": "stderr",
     "output_type": "stream",
     "text": [
      "                                                        "
     ]
    },
    {
     "name": "stdout",
     "output_type": "stream",
     "text": [
      "\n",
      "Epoch 3 — Train Loss: 0.0069\n",
      "\n",
      "Validation Accuracy: 0.8750\n"
     ]
    },
    {
     "name": "stderr",
     "output_type": "stream",
     "text": [
      "                                                        "
     ]
    },
    {
     "name": "stdout",
     "output_type": "stream",
     "text": [
      "\n",
      "Epoch 4 — Train Loss: 0.0035\n",
      "\n",
      "Validation Accuracy: 0.8750\n"
     ]
    },
    {
     "name": "stderr",
     "output_type": "stream",
     "text": [
      "                                                        "
     ]
    },
    {
     "name": "stdout",
     "output_type": "stream",
     "text": [
      "\n",
      "Epoch 5 — Train Loss: 0.0020\n",
      "\n",
      "Validation Accuracy: 0.8667\n",
      "\n",
      "Testing CNN config: {'embedding_dim': 256, 'num_filters': 150, 'filter_sizes': (4, 5, 6), 'dropout': 0.3, 'lr': 0.0005, 'batch_size': 32}\n"
     ]
    },
    {
     "name": "stderr",
     "output_type": "stream",
     "text": [
      "                                                          "
     ]
    },
    {
     "name": "stdout",
     "output_type": "stream",
     "text": [
      "\n",
      "Epoch 1 — Train Loss: 0.0908\n",
      "\n",
      "Validation Accuracy: 0.9000\n"
     ]
    },
    {
     "name": "stderr",
     "output_type": "stream",
     "text": [
      "                                                          "
     ]
    },
    {
     "name": "stdout",
     "output_type": "stream",
     "text": [
      "\n",
      "Epoch 2 — Train Loss: 0.0185\n",
      "\n",
      "Validation Accuracy: 0.9000\n"
     ]
    },
    {
     "name": "stderr",
     "output_type": "stream",
     "text": [
      "                                                          "
     ]
    },
    {
     "name": "stdout",
     "output_type": "stream",
     "text": [
      "\n",
      "Epoch 3 — Train Loss: 0.0069\n",
      "\n",
      "Validation Accuracy: 0.8458\n"
     ]
    },
    {
     "name": "stderr",
     "output_type": "stream",
     "text": [
      "                                                          "
     ]
    },
    {
     "name": "stdout",
     "output_type": "stream",
     "text": [
      "\n",
      "Epoch 4 — Train Loss: 0.0030\n",
      "\n",
      "Validation Accuracy: 0.8708\n"
     ]
    },
    {
     "name": "stderr",
     "output_type": "stream",
     "text": [
      "                                                          "
     ]
    },
    {
     "name": "stdout",
     "output_type": "stream",
     "text": [
      "\n",
      "Epoch 5 — Train Loss: 0.0021\n",
      "\n",
      "Validation Accuracy: 0.8542\n",
      "\n",
      "Testing CNN config: {'embedding_dim': 256, 'num_filters': 150, 'filter_sizes': (4, 5, 6), 'dropout': 0.3, 'lr': 0.0005, 'batch_size': 64}\n"
     ]
    },
    {
     "name": "stderr",
     "output_type": "stream",
     "text": [
      "                                                        "
     ]
    },
    {
     "name": "stdout",
     "output_type": "stream",
     "text": [
      "\n",
      "Epoch 1 — Train Loss: 0.1035\n",
      "\n",
      "Validation Accuracy: 0.8875\n"
     ]
    },
    {
     "name": "stderr",
     "output_type": "stream",
     "text": [
      "                                                        "
     ]
    },
    {
     "name": "stdout",
     "output_type": "stream",
     "text": [
      "\n",
      "Epoch 2 — Train Loss: 0.0286\n",
      "\n",
      "Validation Accuracy: 0.8917\n"
     ]
    },
    {
     "name": "stderr",
     "output_type": "stream",
     "text": [
      "                                                        "
     ]
    },
    {
     "name": "stdout",
     "output_type": "stream",
     "text": [
      "\n",
      "Epoch 3 — Train Loss: 0.0125\n",
      "\n",
      "Validation Accuracy: 0.8875\n"
     ]
    },
    {
     "name": "stderr",
     "output_type": "stream",
     "text": [
      "                                                        "
     ]
    },
    {
     "name": "stdout",
     "output_type": "stream",
     "text": [
      "\n",
      "Epoch 4 — Train Loss: 0.0066\n",
      "\n",
      "Validation Accuracy: 0.8625\n"
     ]
    },
    {
     "name": "stderr",
     "output_type": "stream",
     "text": [
      "                                                        "
     ]
    },
    {
     "name": "stdout",
     "output_type": "stream",
     "text": [
      "\n",
      "Epoch 5 — Train Loss: 0.0040\n",
      "\n",
      "Validation Accuracy: 0.8500\n",
      "\n",
      "Testing CNN config: {'embedding_dim': 256, 'num_filters': 150, 'filter_sizes': (4, 5, 6), 'dropout': 0.5, 'lr': 0.001, 'batch_size': 32}\n"
     ]
    },
    {
     "name": "stderr",
     "output_type": "stream",
     "text": [
      "                                                          "
     ]
    },
    {
     "name": "stdout",
     "output_type": "stream",
     "text": [
      "\n",
      "Epoch 1 — Train Loss: 0.0946\n",
      "\n",
      "Validation Accuracy: 0.9042\n"
     ]
    },
    {
     "name": "stderr",
     "output_type": "stream",
     "text": [
      "                                                          "
     ]
    },
    {
     "name": "stdout",
     "output_type": "stream",
     "text": [
      "\n",
      "Epoch 2 — Train Loss: 0.0315\n",
      "\n",
      "Validation Accuracy: 0.8792\n"
     ]
    },
    {
     "name": "stderr",
     "output_type": "stream",
     "text": [
      "                                                          "
     ]
    },
    {
     "name": "stdout",
     "output_type": "stream",
     "text": [
      "\n",
      "Epoch 3 — Train Loss: 0.0186\n",
      "\n",
      "Validation Accuracy: 0.8875\n"
     ]
    },
    {
     "name": "stderr",
     "output_type": "stream",
     "text": [
      "                                                          "
     ]
    },
    {
     "name": "stdout",
     "output_type": "stream",
     "text": [
      "\n",
      "Epoch 4 — Train Loss: 0.0091\n",
      "\n",
      "Validation Accuracy: 0.8708\n"
     ]
    },
    {
     "name": "stderr",
     "output_type": "stream",
     "text": [
      "                                                          "
     ]
    },
    {
     "name": "stdout",
     "output_type": "stream",
     "text": [
      "\n",
      "Epoch 5 — Train Loss: 0.0082\n",
      "\n",
      "Validation Accuracy: 0.9208\n",
      "\n",
      "Testing CNN config: {'embedding_dim': 256, 'num_filters': 150, 'filter_sizes': (4, 5, 6), 'dropout': 0.5, 'lr': 0.001, 'batch_size': 64}\n"
     ]
    },
    {
     "name": "stderr",
     "output_type": "stream",
     "text": [
      "                                                        "
     ]
    },
    {
     "name": "stdout",
     "output_type": "stream",
     "text": [
      "\n",
      "Epoch 1 — Train Loss: 0.1311\n",
      "\n",
      "Validation Accuracy: 0.8167\n"
     ]
    },
    {
     "name": "stderr",
     "output_type": "stream",
     "text": [
      "                                                        "
     ]
    },
    {
     "name": "stdout",
     "output_type": "stream",
     "text": [
      "\n",
      "Epoch 2 — Train Loss: 0.0341\n",
      "\n",
      "Validation Accuracy: 0.9125\n"
     ]
    },
    {
     "name": "stderr",
     "output_type": "stream",
     "text": [
      "                                                        "
     ]
    },
    {
     "name": "stdout",
     "output_type": "stream",
     "text": [
      "\n",
      "Epoch 3 — Train Loss: 0.0181\n",
      "\n",
      "Validation Accuracy: 0.8875\n"
     ]
    },
    {
     "name": "stderr",
     "output_type": "stream",
     "text": [
      "                                                        "
     ]
    },
    {
     "name": "stdout",
     "output_type": "stream",
     "text": [
      "\n",
      "Epoch 4 — Train Loss: 0.0099\n",
      "\n",
      "Validation Accuracy: 0.9042\n"
     ]
    },
    {
     "name": "stderr",
     "output_type": "stream",
     "text": [
      "                                                        "
     ]
    },
    {
     "name": "stdout",
     "output_type": "stream",
     "text": [
      "\n",
      "Epoch 5 — Train Loss: 0.0070\n",
      "\n",
      "Validation Accuracy: 0.9000\n",
      "\n",
      "Testing CNN config: {'embedding_dim': 256, 'num_filters': 150, 'filter_sizes': (4, 5, 6), 'dropout': 0.5, 'lr': 0.0005, 'batch_size': 32}\n"
     ]
    },
    {
     "name": "stderr",
     "output_type": "stream",
     "text": [
      "                                                          "
     ]
    },
    {
     "name": "stdout",
     "output_type": "stream",
     "text": [
      "\n",
      "Epoch 1 — Train Loss: 0.1199\n",
      "\n",
      "Validation Accuracy: 0.8667\n"
     ]
    },
    {
     "name": "stderr",
     "output_type": "stream",
     "text": [
      "                                                          "
     ]
    },
    {
     "name": "stdout",
     "output_type": "stream",
     "text": [
      "\n",
      "Epoch 2 — Train Loss: 0.0371\n",
      "\n",
      "Validation Accuracy: 0.9042\n"
     ]
    },
    {
     "name": "stderr",
     "output_type": "stream",
     "text": [
      "                                                          "
     ]
    },
    {
     "name": "stdout",
     "output_type": "stream",
     "text": [
      "\n",
      "Epoch 3 — Train Loss: 0.0170\n",
      "\n",
      "Validation Accuracy: 0.9000\n"
     ]
    },
    {
     "name": "stderr",
     "output_type": "stream",
     "text": [
      "                                                          "
     ]
    },
    {
     "name": "stdout",
     "output_type": "stream",
     "text": [
      "\n",
      "Epoch 4 — Train Loss: 0.0120\n",
      "\n",
      "Validation Accuracy: 0.9000\n"
     ]
    },
    {
     "name": "stderr",
     "output_type": "stream",
     "text": [
      "                                                          "
     ]
    },
    {
     "name": "stdout",
     "output_type": "stream",
     "text": [
      "\n",
      "Epoch 5 — Train Loss: 0.0086\n",
      "\n",
      "Validation Accuracy: 0.8583\n",
      "\n",
      "Testing CNN config: {'embedding_dim': 256, 'num_filters': 150, 'filter_sizes': (4, 5, 6), 'dropout': 0.5, 'lr': 0.0005, 'batch_size': 64}\n"
     ]
    },
    {
     "name": "stderr",
     "output_type": "stream",
     "text": [
      "                                                        "
     ]
    },
    {
     "name": "stdout",
     "output_type": "stream",
     "text": [
      "\n",
      "Epoch 1 — Train Loss: 0.1628\n",
      "\n",
      "Validation Accuracy: 0.7417\n"
     ]
    },
    {
     "name": "stderr",
     "output_type": "stream",
     "text": [
      "                                                        "
     ]
    },
    {
     "name": "stdout",
     "output_type": "stream",
     "text": [
      "\n",
      "Epoch 2 — Train Loss: 0.0601\n",
      "\n",
      "Validation Accuracy: 0.9000\n"
     ]
    },
    {
     "name": "stderr",
     "output_type": "stream",
     "text": [
      "                                                        "
     ]
    },
    {
     "name": "stdout",
     "output_type": "stream",
     "text": [
      "\n",
      "Epoch 3 — Train Loss: 0.0322\n",
      "\n",
      "Validation Accuracy: 0.9000\n"
     ]
    },
    {
     "name": "stderr",
     "output_type": "stream",
     "text": [
      "                                                        "
     ]
    },
    {
     "name": "stdout",
     "output_type": "stream",
     "text": [
      "\n",
      "Epoch 4 — Train Loss: 0.0187\n",
      "\n",
      "Validation Accuracy: 0.8833\n"
     ]
    },
    {
     "name": "stderr",
     "output_type": "stream",
     "text": [
      "                                                        "
     ]
    },
    {
     "name": "stdout",
     "output_type": "stream",
     "text": [
      "\n",
      "Epoch 5 — Train Loss: 0.0120\n",
      "\n",
      "Validation Accuracy: 0.9000\n"
     ]
    }
   ],
   "source": [
    "cnn_param_grid = {\n",
    "    'embedding_dim': [128, 256],\n",
    "    'num_filters': [50, 100, 150],\n",
    "    'filter_sizes': [\n",
    "        (3, 4, 5),\n",
    "        (2, 3, 4),\n",
    "        (4, 5, 6)\n",
    "    ],\n",
    "    'dropout': [0.3, 0.5],\n",
    "    'lr': [1e-3, 5e-4],\n",
    "    'batch_size':[32,64]\n",
    "}\n",
    "\n",
    "cnn_param_names = list(cnn_param_grid.keys())\n",
    "cnn_param_combinations = list(itertools.product(*cnn_param_grid.values()))\n",
    "cnn_tuning_results = []\n",
    "\n",
    "# Loop over each config\n",
    "for cnn_params in cnn_param_combinations:\n",
    "    config = dict(zip(cnn_param_names, cnn_params))\n",
    "    print(f\"\\nTesting CNN config: {config}\")\n",
    "\n",
    "    # Model\n",
    "    model = CNNTextClassifier(\n",
    "        vocab_size=17120,\n",
    "        embedding_dim=config['embedding_dim'],\n",
    "        num_filters=config['num_filters'],\n",
    "        filter_sizes=config['filter_sizes'],\n",
    "        dropout=config['dropout']\n",
    "    )\n",
    "\n",
    "    # Loader\n",
    "    train_loader = DataLoader(train_dataset, batch_size=config['batch_size'], sampler=train_sampler)\n",
    "\n",
    "    # Train and validate\n",
    "    val_accuracies = train_with_validation(\n",
    "        model, train_loader, val_loader,\n",
    "        val_labels, val_domains,\n",
    "        epochs=5,\n",
    "        lr=config['lr'],\n",
    "        device=device\n",
    "    )\n",
    "\n",
    "    # Store results\n",
    "    cnn_tuning_results.append({\n",
    "        **config,\n",
    "        \"val_accuracy_final\": val_accuracies[-1],\n",
    "        \"val_accuracies\": val_accuracies\n",
    "    })"
   ]
  },
  {
   "cell_type": "code",
   "execution_count": 77,
   "id": "60c96c82-70ee-4927-ac64-39c191a89275",
   "metadata": {
    "scrolled": true
   },
   "outputs": [
    {
     "name": "stdout",
     "output_type": "stream",
     "text": [
      " embedding_dim  num_filters filter_sizes  dropout     lr  batch_size  val_accuracy_peak  epoch_peak  val_accuracy_final\n",
      "           256           50    (3, 4, 5)      0.3 0.0010          32           0.950000           2            0.887500\n",
      "           128           50    (2, 3, 4)      0.5 0.0010          32           0.945833           4            0.933333\n",
      "           128           50    (2, 3, 4)      0.3 0.0005          32           0.937500           4            0.916667\n",
      "           128          100    (3, 4, 5)      0.3 0.0010          32           0.937500           3            0.875000\n",
      "           256          150    (2, 3, 4)      0.5 0.0005          32           0.937500           3            0.920833\n",
      "           256          150    (2, 3, 4)      0.5 0.0010          64           0.933333           3            0.883333\n",
      "           256           50    (4, 5, 6)      0.5 0.0010          64           0.933333           3            0.900000\n",
      "           128          150    (3, 4, 5)      0.5 0.0005          32           0.933333           3            0.925000\n",
      "           128          150    (2, 3, 4)      0.5 0.0010          64           0.933333           5            0.933333\n",
      "           256          150    (3, 4, 5)      0.3 0.0005          64           0.933333           2            0.904167\n",
      "           256           50    (3, 4, 5)      0.5 0.0005          32           0.933333           4            0.908333\n",
      "           256           50    (2, 3, 4)      0.5 0.0010          32           0.929167           5            0.929167\n",
      "           256          150    (2, 3, 4)      0.3 0.0010          32           0.929167           2            0.912500\n",
      "           256          150    (3, 4, 5)      0.5 0.0005          32           0.929167           5            0.929167\n",
      "           128          150    (3, 4, 5)      0.5 0.0010          64           0.929167           4            0.908333\n",
      "           128          150    (2, 3, 4)      0.5 0.0010          32           0.929167           4            0.904167\n",
      "           256          150    (2, 3, 4)      0.3 0.0005          32           0.929167           2            0.887500\n",
      "           256          150    (2, 3, 4)      0.5 0.0010          32           0.929167           5            0.929167\n",
      "           128           50    (3, 4, 5)      0.5 0.0010          32           0.929167           4            0.920833\n",
      "           256          100    (2, 3, 4)      0.5 0.0010          32           0.929167           3            0.925000\n",
      "           256           50    (2, 3, 4)      0.3 0.0005          64           0.925000           4            0.916667\n",
      "           128          100    (3, 4, 5)      0.5 0.0010          32           0.925000           4            0.912500\n",
      "           128          100    (2, 3, 4)      0.3 0.0005          64           0.925000           4            0.920833\n",
      "           128          100    (2, 3, 4)      0.3 0.0005          32           0.925000           3            0.887500\n",
      "           256           50    (4, 5, 6)      0.5 0.0010          32           0.925000           3            0.920833\n",
      "           128          150    (3, 4, 5)      0.5 0.0005          64           0.925000           4            0.900000\n",
      "           256          100    (2, 3, 4)      0.3 0.0010          64           0.925000           2            0.912500\n",
      "           256           50    (2, 3, 4)      0.5 0.0005          64           0.925000           4            0.920833\n",
      "           128          150    (3, 4, 5)      0.3 0.0010          64           0.925000           2            0.875000\n",
      "           128          150    (2, 3, 4)      0.5 0.0005          32           0.925000           4            0.925000\n",
      "           128          100    (3, 4, 5)      0.3 0.0010          64           0.925000           3            0.887500\n",
      "           256          100    (2, 3, 4)      0.5 0.0005          32           0.925000           3            0.920833\n",
      "           128           50    (2, 3, 4)      0.5 0.0005          32           0.925000           5            0.925000\n",
      "           256           50    (2, 3, 4)      0.5 0.0005          32           0.925000           5            0.925000\n",
      "           256           50    (2, 3, 4)      0.5 0.0010          64           0.925000           5            0.925000\n",
      "           256          100    (3, 4, 5)      0.5 0.0005          64           0.925000           3            0.900000\n",
      "           256          150    (2, 3, 4)      0.3 0.0010          64           0.920833           2            0.895833\n",
      "           256          150    (3, 4, 5)      0.5 0.0010          64           0.920833           5            0.920833\n",
      "           128          150    (3, 4, 5)      0.3 0.0005          32           0.920833           3            0.879167\n",
      "           256           50    (2, 3, 4)      0.3 0.0010          32           0.920833           3            0.916667\n",
      "           256          100    (2, 3, 4)      0.3 0.0005          32           0.920833           2            0.887500\n",
      "           256          100    (2, 3, 4)      0.3 0.0005          64           0.920833           3            0.916667\n",
      "           256          100    (2, 3, 4)      0.5 0.0005          64           0.920833           5            0.920833\n",
      "           256          150    (2, 3, 4)      0.5 0.0005          64           0.920833           3            0.904167\n",
      "           128          100    (2, 3, 4)      0.5 0.0005          32           0.920833           5            0.920833\n",
      "           128          100    (3, 4, 5)      0.3 0.0005          32           0.920833           3            0.891667\n",
      "           128           50    (2, 3, 4)      0.3 0.0010          32           0.920833           5            0.920833\n",
      "           128          100    (3, 4, 5)      0.5 0.0010          64           0.920833           4            0.916667\n",
      "           128          100    (2, 3, 4)      0.5 0.0010          64           0.920833           3            0.916667\n",
      "           128           50    (2, 3, 4)      0.5 0.0010          64           0.920833           5            0.920833\n",
      "           128           50    (3, 4, 5)      0.3 0.0005          32           0.920833           3            0.908333\n",
      "           128          100    (2, 3, 4)      0.5 0.0005          64           0.920833           5            0.920833\n",
      "           256          150    (4, 5, 6)      0.5 0.0010          32           0.920833           5            0.920833\n",
      "           128           50    (2, 3, 4)      0.3 0.0010          64           0.916667           3            0.900000\n",
      "           256           50    (3, 4, 5)      0.3 0.0010          64           0.916667           2            0.875000\n",
      "           256          100    (4, 5, 6)      0.5 0.0005          64           0.916667           3            0.916667\n",
      "           128           50    (4, 5, 6)      0.5 0.0005          32           0.916667           5            0.916667\n",
      "           256          150    (3, 4, 5)      0.5 0.0010          32           0.916667           5            0.916667\n",
      "           256           50    (4, 5, 6)      0.5 0.0005          64           0.916667           3            0.912500\n",
      "           128           50    (4, 5, 6)      0.3 0.0010          32           0.916667           2            0.866667\n",
      "           128          100    (3, 4, 5)      0.3 0.0005          64           0.916667           3            0.891667\n",
      "           128          150    (2, 3, 4)      0.3 0.0005          64           0.916667           4            0.912500\n",
      "           256          100    (3, 4, 5)      0.3 0.0010          32           0.916667           1            0.879167\n",
      "           128           50    (3, 4, 5)      0.3 0.0010          64           0.916667           5            0.916667\n",
      "           256          100    (3, 4, 5)      0.5 0.0010          32           0.916667           2            0.895833\n",
      "           256           50    (3, 4, 5)      0.5 0.0010          32           0.916667           3            0.883333\n",
      "           256          150    (2, 3, 4)      0.3 0.0005          64           0.916667           3            0.900000\n",
      "           256          150    (3, 4, 5)      0.5 0.0005          64           0.916667           4            0.887500\n",
      "           128          100    (4, 5, 6)      0.3 0.0010          32           0.916667           2            0.879167\n",
      "           128          100    (4, 5, 6)      0.5 0.0010          64           0.916667           4            0.912500\n",
      "           256          100    (4, 5, 6)      0.5 0.0005          32           0.916667           3            0.904167\n",
      "           256           50    (2, 3, 4)      0.3 0.0005          32           0.912500           3            0.895833\n",
      "           256           50    (3, 4, 5)      0.5 0.0010          64           0.912500           4            0.912500\n",
      "           256           50    (4, 5, 6)      0.5 0.0005          32           0.912500           5            0.912500\n",
      "           128           50    (4, 5, 6)      0.3 0.0005          64           0.912500           5            0.912500\n",
      "           256          100    (3, 4, 5)      0.3 0.0010          64           0.912500           2            0.870833\n",
      "           256          100    (3, 4, 5)      0.5 0.0005          32           0.912500           3            0.900000\n",
      "           256          100    (2, 3, 4)      0.3 0.0010          32           0.912500           3            0.904167\n",
      "           256          150    (4, 5, 6)      0.5 0.0010          64           0.912500           2            0.900000\n",
      "           256           50    (2, 3, 4)      0.3 0.0010          64           0.912500           2            0.891667\n",
      "           128          150    (2, 3, 4)      0.3 0.0010          32           0.912500           5            0.912500\n",
      "           256          100    (4, 5, 6)      0.5 0.0010          64           0.912500           3            0.879167\n",
      "           256           50    (3, 4, 5)      0.3 0.0005          64           0.912500           3            0.900000\n",
      "           128          150    (3, 4, 5)      0.3 0.0010          32           0.912500           2            0.883333\n",
      "           256           50    (3, 4, 5)      0.3 0.0005          32           0.912500           3            0.891667\n",
      "           128          100    (2, 3, 4)      0.5 0.0010          32           0.912500           2            0.904167\n",
      "           128          100    (2, 3, 4)      0.3 0.0010          64           0.912500           2            0.908333\n",
      "           128          100    (2, 3, 4)      0.3 0.0010          32           0.912500           2            0.887500\n",
      "           256          150    (3, 4, 5)      0.3 0.0010          64           0.912500           2            0.858333\n",
      "           256          100    (4, 5, 6)      0.3 0.0005          32           0.912500           1            0.858333\n",
      "           128          100    (3, 4, 5)      0.5 0.0005          32           0.908333           3            0.887500\n",
      "           256          100    (2, 3, 4)      0.5 0.0010          64           0.908333           2            0.904167\n",
      "           128           50    (3, 4, 5)      0.3 0.0005          64           0.908333           4            0.908333\n",
      "           128           50    (3, 4, 5)      0.5 0.0005          64           0.908333           5            0.908333\n",
      "           128          100    (3, 4, 5)      0.5 0.0005          64           0.908333           5            0.908333\n",
      "           256          100    (3, 4, 5)      0.5 0.0010          64           0.908333           2            0.891667\n",
      "           256          100    (3, 4, 5)      0.3 0.0005          64           0.908333           2            0.879167\n",
      "           128          150    (2, 3, 4)      0.3 0.0005          32           0.908333           2            0.866667\n",
      "           128           50    (4, 5, 6)      0.5 0.0010          32           0.908333           3            0.895833\n",
      "           128          150    (2, 3, 4)      0.5 0.0005          64           0.908333           5            0.908333\n",
      "           128          150    (4, 5, 6)      0.3 0.0005          64           0.908333           4            0.883333\n",
      "           128           50    (2, 3, 4)      0.3 0.0005          64           0.908333           5            0.908333\n",
      "           256           50    (4, 5, 6)      0.3 0.0005          64           0.908333           4            0.891667\n",
      "           256           50    (4, 5, 6)      0.3 0.0005          32           0.908333           3            0.891667\n",
      "           256          100    (4, 5, 6)      0.5 0.0010          32           0.908333           3            0.900000\n",
      "           256           50    (4, 5, 6)      0.3 0.0010          32           0.908333           2            0.862500\n",
      "           128          150    (4, 5, 6)      0.5 0.0010          32           0.908333           3            0.858333\n",
      "           128          150    (4, 5, 6)      0.5 0.0005          32           0.908333           5            0.908333\n",
      "           256          150    (4, 5, 6)      0.3 0.0010          32           0.908333           1            0.879167\n",
      "           128          100    (4, 5, 6)      0.3 0.0005          64           0.908333           5            0.908333\n",
      "           256          100    (4, 5, 6)      0.3 0.0005          64           0.904167           2            0.845833\n",
      "           256          150    (4, 5, 6)      0.5 0.0005          32           0.904167           2            0.858333\n",
      "           128           50    (3, 4, 5)      0.3 0.0010          32           0.904167           2            0.900000\n",
      "           128          100    (4, 5, 6)      0.5 0.0010          32           0.904167           2            0.854167\n",
      "           128           50    (3, 4, 5)      0.5 0.0010          64           0.904167           4            0.904167\n",
      "           128          150    (4, 5, 6)      0.5 0.0005          64           0.904167           4            0.904167\n",
      "           128           50    (4, 5, 6)      0.3 0.0010          64           0.904167           4            0.891667\n",
      "           128          150    (4, 5, 6)      0.3 0.0005          32           0.904167           2            0.854167\n",
      "           128           50    (4, 5, 6)      0.5 0.0010          64           0.904167           5            0.904167\n",
      "           128          100    (4, 5, 6)      0.3 0.0010          64           0.904167           2            0.858333\n",
      "           128          150    (2, 3, 4)      0.3 0.0010          64           0.904167           5            0.904167\n",
      "           128          150    (3, 4, 5)      0.3 0.0005          64           0.904167           4            0.879167\n",
      "           128          100    (4, 5, 6)      0.3 0.0005          32           0.904167           3            0.883333\n",
      "           256          150    (4, 5, 6)      0.5 0.0005          64           0.900000           2            0.900000\n",
      "           256           50    (4, 5, 6)      0.3 0.0010          64           0.900000           2            0.895833\n",
      "           128           50    (3, 4, 5)      0.5 0.0005          32           0.900000           5            0.900000\n",
      "           256          150    (4, 5, 6)      0.3 0.0005          32           0.900000           1            0.854167\n",
      "           128           50    (4, 5, 6)      0.3 0.0005          32           0.900000           3            0.883333\n",
      "           128          150    (3, 4, 5)      0.5 0.0010          32           0.900000           4            0.883333\n",
      "           256          100    (4, 5, 6)      0.3 0.0010          64           0.895833           2            0.858333\n",
      "           256          100    (4, 5, 6)      0.3 0.0010          32           0.895833           5            0.895833\n",
      "           128          150    (4, 5, 6)      0.3 0.0010          64           0.895833           2            0.841667\n",
      "           256          150    (3, 4, 5)      0.3 0.0005          32           0.895833           2            0.841667\n",
      "           256           50    (3, 4, 5)      0.5 0.0005          64           0.895833           4            0.883333\n",
      "           256          100    (3, 4, 5)      0.3 0.0005          32           0.895833           3            0.883333\n",
      "           128          100    (4, 5, 6)      0.5 0.0005          64           0.895833           5            0.895833\n",
      "           128          150    (4, 5, 6)      0.5 0.0010          64           0.891667           3            0.858333\n",
      "           256          150    (4, 5, 6)      0.3 0.0005          64           0.891667           2            0.850000\n",
      "           128          150    (4, 5, 6)      0.3 0.0010          32           0.887500           2            0.879167\n",
      "           256          150    (3, 4, 5)      0.3 0.0010          32           0.887500           4            0.879167\n",
      "           128          100    (4, 5, 6)      0.5 0.0005          32           0.883333           4            0.883333\n",
      "           256          150    (4, 5, 6)      0.3 0.0010          64           0.883333           1            0.866667\n",
      "           128           50    (4, 5, 6)      0.5 0.0005          64           0.875000           5            0.875000\n",
      "           128           50    (2, 3, 4)      0.5 0.0005          64           0.870833           5            0.870833\n"
     ]
    }
   ],
   "source": [
    "cnn_tuning_results_df = pd.DataFrame(cnn_tuning_results)\n",
    "\n",
    "cnn_tuning_results_df[\"val_accuracy_peak\"] = cnn_tuning_results_df[\"val_accuracies\"].apply(max)\n",
    "cnn_tuning_results_df[\"epoch_peak\"] = cnn_tuning_results_df[\"val_accuracies\"].apply(lambda x: x.index(max(x)) + 1)\n",
    "\n",
    "cnn_tuning_results_df = cnn_tuning_results_df.sort_values(by=\"val_accuracy_peak\", ascending=False)\n",
    "\n",
    "print(cnn_tuning_results_df[[\n",
    "    \"embedding_dim\", \"num_filters\", \"filter_sizes\", \"dropout\", \"lr\", \"batch_size\",\n",
    "    \"val_accuracy_peak\", \"epoch_peak\", \"val_accuracy_final\"\n",
    "]].to_string(index=False))"
   ]
  },
  {
   "cell_type": "code",
   "execution_count": 80,
   "id": "18392811-33e1-4add-ae4e-58fbb39937bb",
   "metadata": {},
   "outputs": [
    {
     "data": {
      "image/png": "[encoded data removed]",
      "text/plain": [
       "<Figure size 1000x600 with 1 Axes>"
      ]
     },
     "metadata": {},
     "output_type": "display_data"
    }
   ],
   "source": [
    "cnn_top_df = cnn_tuning_results_df.sort_values(by=\"val_accuracy_peak\", ascending=False).head(10)\n",
    "\n",
    "plt.figure(figsize=(10, 6))\n",
    "\n",
    "for i, row in cnn_top_df.iterrows():\n",
    "    accuracies = row[\"val_accuracies\"]\n",
    "    label = (\n",
    "        f\"ed={row['embedding_dim']}, nf={row['num_filters']}, fs={row['filter_sizes']}, do={row['dropout']}, \"\n",
    "        f\"lr={row['lr']}, bs={row['batch_size']} (peak={row['val_accuracy_peak']:.3f})\"\n",
    "    )\n",
    "    plt.plot(range(1, len(accuracies) + 1), accuracies, label=label)\n",
    "\n",
    "plt.xlabel(\"Epoch\")\n",
    "plt.ylabel(\"Validation Accuracy\")\n",
    "plt.title(\"Validation Accuracy Across Epochs (Top Peak CNN Models)\")\n",
    "plt.legend(fontsize=\"small\", loc=\"lower right\")\n",
    "plt.grid(True)\n",
    "plt.tight_layout()\n",
    "plt.savefig(\"cnn_val_accuracy_top5.png\")\n",
    "plt.show()"
   ]
  },
  {
   "cell_type": "markdown",
   "id": "20e52707-5b4a-4161-8c53-0d34a41d549d",
   "metadata": {},
   "source": [
    "# Manual Validation"
   ]
  },
  {
   "cell_type": "markdown",
   "id": "93aa423c-5d8a-45e8-bea7-b4104322921b",
   "metadata": {},
   "source": [
    "Notes: Trying larger filter size space (2,3,4,5), not gaining any additional information"
   ]
  },
  {
   "cell_type": "code",
   "execution_count": 23,
   "id": "350045d9-253a-433c-b6b6-9c1746c24181",
   "metadata": {},
   "outputs": [
    {
     "name": "stderr",
     "output_type": "stream",
     "text": [
      "                                                          "
     ]
    },
    {
     "name": "stdout",
     "output_type": "stream",
     "text": [
      "\n",
      "Epoch 1 — Train Loss: 0.1470\n",
      "\n",
      "Validation Accuracy: 0.6542\n"
     ]
    },
    {
     "name": "stderr",
     "output_type": "stream",
     "text": [
      "                                                          "
     ]
    },
    {
     "name": "stdout",
     "output_type": "stream",
     "text": [
      "\n",
      "Epoch 2 — Train Loss: 0.0744\n",
      "\n",
      "Validation Accuracy: 0.9125\n"
     ]
    },
    {
     "name": "stderr",
     "output_type": "stream",
     "text": [
      "                                                          "
     ]
    },
    {
     "name": "stdout",
     "output_type": "stream",
     "text": [
      "\n",
      "Epoch 3 — Train Loss: 0.0493\n",
      "\n",
      "Validation Accuracy: 0.9167\n"
     ]
    },
    {
     "name": "stderr",
     "output_type": "stream",
     "text": [
      "                                                          "
     ]
    },
    {
     "name": "stdout",
     "output_type": "stream",
     "text": [
      "\n",
      "Epoch 4 — Train Loss: 0.0362\n",
      "\n",
      "Validation Accuracy: 0.9333\n"
     ]
    },
    {
     "name": "stderr",
     "output_type": "stream",
     "text": [
      "                                                          "
     ]
    },
    {
     "name": "stdout",
     "output_type": "stream",
     "text": [
      "\n",
      "Epoch 5 — Train Loss: 0.0283\n",
      "\n",
      "Validation Accuracy: 0.9125\n"
     ]
    },
    {
     "name": "stderr",
     "output_type": "stream",
     "text": [
      "                                                          "
     ]
    },
    {
     "name": "stdout",
     "output_type": "stream",
     "text": [
      "\n",
      "Epoch 6 — Train Loss: 0.0214\n",
      "\n",
      "Validation Accuracy: 0.9042\n"
     ]
    }
   ],
   "source": [
    "cnn_params = {\n",
    "    'embedding_dim': 128,\n",
    "    'num_filters': 50,\n",
    "    'filter_sizes': (2, 3, 4),\n",
    "    'dropout': 0.5,\n",
    "    'lr': 0.001,\n",
    "    'batch_size':32\n",
    "}\n",
    "\n",
    "validation_model = CNNTextClassifier(\n",
    "        vocab_size=17120,\n",
    "        embedding_dim=cnn_params['embedding_dim'],\n",
    "        num_filters=cnn_params['num_filters'],\n",
    "        filter_sizes=cnn_params['filter_sizes'],\n",
    "        dropout=cnn_params['dropout']\n",
    "    )\n",
    "\n",
    "# Loader\n",
    "train_loader = DataLoader(train_dataset, batch_size=cnn_params['batch_size'], sampler=train_sampler)\n",
    "\n",
    "# Train and validate\n",
    "val_accuracies = train_with_validation(\n",
    "    validation_model, train_loader, val_loader,\n",
    "    val_labels, val_domains,\n",
    "    epochs=6,\n",
    "    lr=cnn_params['lr'],\n",
    "    device=device\n",
    ")"
   ]
  },
  {
   "cell_type": "markdown",
   "id": "cee0e9eb-0455-4065-9b21-ecae1bd65f07",
   "metadata": {},
   "source": [
    "# CNN Final Prediction"
   ]
  },
  {
   "cell_type": "code",
   "execution_count": 15,
   "id": "d3adbfdb-41e8-4609-b8ea-c4c5dd2d3c81",
   "metadata": {
    "scrolled": true
   },
   "outputs": [
    {
     "name": "stderr",
     "output_type": "stream",
     "text": [
      "                                                          "
     ]
    },
    {
     "name": "stdout",
     "output_type": "stream",
     "text": [
      "Epoch 1 — Train Loss: 0.1745\n"
     ]
    },
    {
     "name": "stderr",
     "output_type": "stream",
     "text": [
      "                                                          "
     ]
    },
    {
     "name": "stdout",
     "output_type": "stream",
     "text": [
      "Epoch 2 — Train Loss: 0.0889\n"
     ]
    },
    {
     "name": "stderr",
     "output_type": "stream",
     "text": [
      "                                                          "
     ]
    },
    {
     "name": "stdout",
     "output_type": "stream",
     "text": [
      "Epoch 3 — Train Loss: 0.0633\n"
     ]
    },
    {
     "name": "stderr",
     "output_type": "stream",
     "text": [
      "                                                          "
     ]
    },
    {
     "name": "stdout",
     "output_type": "stream",
     "text": [
      "Epoch 4 — Train Loss: 0.0428\n"
     ]
    },
    {
     "name": "stderr",
     "output_type": "stream",
     "text": [
      "                                                             "
     ]
    },
    {
     "name": "stdout",
     "output_type": "stream",
     "text": [
      "Saved submission\n"
     ]
    },
    {
     "name": "stderr",
     "output_type": "stream",
     "text": []
    }
   ],
   "source": [
    "# Training CNN\n",
    "cnn_final_config = {\n",
    "    'embedding_dim': 128,\n",
    "    'num_filters': 50,\n",
    "    'filter_sizes': (2, 3, 4),\n",
    "    'dropout': 0.5,\n",
    "    'lr': 0.001,\n",
    "    'batch_size':32\n",
    "}\n",
    "\n",
    "cnn_final_model = CNNTextClassifier(\n",
    "    vocab_size=17120,\n",
    "    embedding_dim=cnn_final_config['embedding_dim'],\n",
    "    num_filters=cnn_final_config['num_filters'],\n",
    "    filter_sizes=cnn_final_config['filter_sizes'],\n",
    "    dropout=cnn_final_config['dropout']\n",
    ")\n",
    "\n",
    "\n",
    "# Train on full training dataset\n",
    "train_loader_final = DataLoader(train_dataset_final, batch_size=cnn_final_config[\"batch_size\"], sampler=final_sampler)\n",
    "train(cnn_final_model, train_loader_final, epochs=4, lr=cnn_final_config[\"lr\"], device=device)\n",
    "\n",
    "# Predict test set\n",
    "test_preds, test_probs = predict_with_confidence(cnn_final_model, test_loader, device=device)\n",
    "\n",
    "results_df = pd.DataFrame({\n",
    "    \"id\": list(range(len(test_preds))),\n",
    "    \"label\": test_preds,\n",
    "    \"confidence\": test_probs\n",
    "})\n",
    "results_df.to_csv(\"cnn_full_test_predictions_2.csv\", index=False)\n",
    "results_df[[\"id\", \"label\"]].to_csv(\"cnn_submission_2.csv\", index=False)\n",
    "print(\"Saved submission\")"
   ]
  },
  {
   "cell_type": "markdown",
   "id": "0730e8de-f754-48d9-8bc3-d2e311be7b06",
   "metadata": {},
   "source": [
    "# Simple Aggregated Stats MLP Model\n",
    "Should be an effective ensemble for CNN"
   ]
  },
  {
   "cell_type": "code",
   "execution_count": 171,
   "id": "f0d87925-c3c5-49a7-a4b3-e9136329ef6d",
   "metadata": {},
   "outputs": [],
   "source": [
    "from sklearn.feature_extraction.text import TfidfVectorizer\n",
    "from sklearn.decomposition import TruncatedSVD\n",
    "from sklearn.preprocessing import StandardScaler"
   ]
  },
  {
   "cell_type": "code",
   "execution_count": 172,
   "id": "42374f29-df79-4645-beb3-d42c84f1baea",
   "metadata": {},
   "outputs": [],
   "source": [
    "class MLPClassifier(nn.Module):\n",
    "    def __init__(self, input_dim, hidden_dim=256, dropout=0.5):\n",
    "        super().__init__()\n",
    "        self.model = nn.Sequential(\n",
    "            nn.Linear(input_dim, hidden_dim),\n",
    "            nn.ReLU(),\n",
    "            nn.Dropout(dropout),\n",
    "            nn.Linear(hidden_dim, 1)\n",
    "        )\n",
    "\n",
    "    def forward(self, x):\n",
    "        return self.model(x).squeeze()"
   ]
  },
  {
   "cell_type": "code",
   "execution_count": 173,
   "id": "ea85a56c-c06b-416d-831a-36ae542ca64b",
   "metadata": {},
   "outputs": [],
   "source": [
    "# Load domain1\n",
    "d1_texts, d1_labels = load_json_lines(\"data/domain1_train_data.json\")\n",
    "d1_domains = [0] * len(d1_labels)  \n",
    "\n",
    "# Load domain2\n",
    "d2_texts, d2_labels = load_json_lines(\"data/domain2_train_data.json\")\n",
    "d2_domains = [1] * len(d2_labels)  \n",
    "\n",
    "test_texts = load_test_json(\"data/test_data.json\")\n",
    "\n",
    "texts = d1_texts + d2_texts\n",
    "labels = d1_labels + d2_labels\n",
    "domains = d1_domains + d2_domains\n",
    "\n",
    "train_texts, train_labels, train_domains, val_texts, val_labels, val_domains = stratified_train_val_split(\n",
    "    texts, labels, domains, val_size_per_group=60\n",
    ")\n",
    "\n",
    "# For training set\n",
    "train_sampler = create_weighted_sampler(train_domains, train_labels)\n",
    "\n",
    "# For full dataset (e.g., final training)\n",
    "full_sampler = create_weighted_sampler(domains, labels)"
   ]
  },
  {
   "cell_type": "code",
   "execution_count": 185,
   "id": "cf8f6ded-32ee-4fcd-9416-a6fd759012fd",
   "metadata": {},
   "outputs": [
    {
     "name": "stdout",
     "output_type": "stream",
     "text": [
      "Epoch 1 — Train Loss: 0.1281\n",
      "Validation Accuracy: 0.8167\n",
      "Epoch 2 — Train Loss: 0.0677\n",
      "Validation Accuracy: 0.9083\n",
      "Epoch 3 — Train Loss: 0.0461\n",
      "Validation Accuracy: 0.8958\n",
      "Epoch 4 — Train Loss: 0.0349\n",
      "Validation Accuracy: 0.8833\n",
      "Epoch 5 — Train Loss: 0.0261\n",
      "Validation Accuracy: 0.8917\n",
      "Epoch 6 — Train Loss: 0.0219\n",
      "Validation Accuracy: 0.8958\n",
      "Epoch 7 — Train Loss: 0.0159\n",
      "Validation Accuracy: 0.8917\n",
      "Epoch 8 — Train Loss: 0.0189\n",
      "Validation Accuracy: 0.9000\n",
      "Epoch 9 — Train Loss: 0.0132\n",
      "Validation Accuracy: 0.8958\n",
      "Epoch 10 — Train Loss: 0.0109\n",
      "Validation Accuracy: 0.8917\n"
     ]
    }
   ],
   "source": [
    "# ========== Preprocess Training + Validation Sets ==========\n",
    "train_text_strings = tokens_to_text(train_texts)\n",
    "val_text_strings = tokens_to_text(val_texts)\n",
    "\n",
    "tfidf_vectorizer = TfidfVectorizer(max_features=5000)\n",
    "X_train_tfidf = tfidf_vectorizer.fit_transform(train_text_strings).toarray()\n",
    "X_val_tfidf = tfidf_vectorizer.transform(val_text_strings).toarray()\n",
    "\n",
    "svd = TruncatedSVD(n_components=100, random_state=42)\n",
    "X_train_tfidf_reduced = svd.fit_transform(X_train_tfidf)\n",
    "X_val_tfidf_reduced = svd.transform(X_val_tfidf)\n",
    "\n",
    "embedding_layer = nn.Embedding(17120, 128, padding_idx=0)\n",
    "embedding_matrix = embedding_layer.weight.detach().cpu().numpy()\n",
    "\n",
    "train_embed_stats = compute_embed_stats(train_texts, embedding_matrix)\n",
    "val_embed_stats = compute_embed_stats(val_texts, embedding_matrix)\n",
    "\n",
    "X_train_raw = np.hstack([X_train_tfidf_reduced, train_embed_stats])\n",
    "X_val_raw = np.hstack([X_val_tfidf_reduced, val_embed_stats])\n",
    "\n",
    "scaler = StandardScaler()\n",
    "X_train_std = scaler.fit_transform(X_train_raw)\n",
    "X_val_std = scaler.transform(X_val_raw)\n",
    "\n",
    "# ========== Training Setup ==========\n",
    "X_train_tensor = torch.tensor(X_train_std, dtype=torch.float32)\n",
    "y_train = torch.tensor(train_labels, dtype=torch.float32)\n",
    "X_val_tensor = torch.tensor(X_val_std, dtype=torch.float32)\n",
    "y_val = torch.tensor(val_labels, dtype=torch.float32)\n",
    "\n",
    "train_dataset = TensorDataset(X_train_tensor, y_train)\n",
    "val_dataset = TensorDataset(X_val_tensor, y_val)\n",
    "\n",
    "train_sampler = create_weighted_sampler(train_domains, train_labels)\n",
    "train_loader = DataLoader(train_dataset, batch_size=64, sampler=train_sampler)\n",
    "val_loader = DataLoader(val_dataset, batch_size=64, shuffle=False)\n",
    "\n",
    "# ========== MLP Training ==========\n",
    "input_dim = X_train_tensor.shape[1]\n",
    "mlp_model = MLPClassifier(input_dim=input_dim, hidden_dim=256, dropout=0.5).to(device)\n",
    "optimizer = torch.optim.Adam(mlp_model.parameters(), lr=1e-3)\n",
    "pos_weight = torch.tensor([(y_train == 0).sum() / (y_train == 1).sum()], device=device)\n",
    "criterion = nn.BCEWithLogitsLoss(pos_weight=pos_weight)\n",
    "\n",
    "for epoch in range(1, 11):\n",
    "    mlp_model.train()\n",
    "    total_loss = 0\n",
    "    for X_batch, y_batch in train_loader:\n",
    "        X_batch, y_batch = X_batch.to(device), y_batch.to(device)\n",
    "        optimizer.zero_grad()\n",
    "        logits = mlp_model(X_batch)\n",
    "        loss = criterion(logits, y_batch)\n",
    "        loss.backward()\n",
    "        optimizer.step()\n",
    "        total_loss += loss.item()\n",
    "    print(f\"Epoch {epoch} — Train Loss: {total_loss / len(train_loader):.4f}\")\n",
    "\n",
    "    # Validation\n",
    "    mlp_model.eval()\n",
    "    preds, targets = [], []\n",
    "    with torch.no_grad():\n",
    "        for X_batch, y_batch in val_loader:\n",
    "            X_batch = X_batch.to(device)\n",
    "            logits = mlp_model(X_batch)\n",
    "            probs = torch.sigmoid(logits)\n",
    "            preds.extend((probs >= 0.5).int().cpu().numpy())\n",
    "            targets.extend(y_batch.cpu().numpy())\n",
    "    acc = accuracy_score(targets, preds)\n",
    "    print(f\"Validation Accuracy: {acc:.4f}\")"
   ]
  },
  {
   "cell_type": "markdown",
   "id": "2eedbf45-e27e-402f-a8fb-a0361755d2d4",
   "metadata": {},
   "source": [
    "Epoch 6 is about peak"
   ]
  },
  {
   "cell_type": "markdown",
   "id": "62a25dab-d862-4aca-8f7e-559e878f705f",
   "metadata": {},
   "source": [
    "## Training on Full Dataset for Prediction"
   ]
  },
  {
   "cell_type": "code",
   "execution_count": 176,
   "id": "325e2b9f-6493-4521-8ef1-c0a8a9074f0e",
   "metadata": {},
   "outputs": [
    {
     "name": "stdout",
     "output_type": "stream",
     "text": [
      "Epoch 1 — Train Loss: 0.1330\n",
      "Epoch 2 — Train Loss: 0.0698\n",
      "Epoch 3 — Train Loss: 0.0453\n",
      "Epoch 4 — Train Loss: 0.0368\n",
      "Epoch 5 — Train Loss: 0.0287\n",
      "Epoch 6 — Train Loss: 0.0237\n"
     ]
    },
    {
     "name": "stderr",
     "output_type": "stream",
     "text": [
      "Predicting: 100%|██████████| 63/63 [00:00<00:00, 4658.78it/s]"
     ]
    },
    {
     "name": "stdout",
     "output_type": "stream",
     "text": [
      "Saved submission\n"
     ]
    },
    {
     "name": "stderr",
     "output_type": "stream",
     "text": [
      "\n"
     ]
    }
   ],
   "source": [
    "# ========== Preprocess Full Train + Test ==========\n",
    "all_text_strings = tokens_to_text(texts)\n",
    "test_text_strings = tokens_to_text(test_texts)\n",
    "\n",
    "tfidf_vectorizer = TfidfVectorizer(max_features=5000)\n",
    "X_all_tfidf = tfidf_vectorizer.fit_transform(all_text_strings).toarray()\n",
    "X_test_tfidf = tfidf_vectorizer.transform(test_text_strings).toarray()\n",
    "\n",
    "svd = TruncatedSVD(n_components=100, random_state=42)\n",
    "X_all_tfidf_reduced = svd.fit_transform(X_all_tfidf)\n",
    "X_test_tfidf_reduced = svd.transform(X_test_tfidf)\n",
    "\n",
    "embedding_layer = nn.Embedding(17120, 128, padding_idx=0)\n",
    "embedding_matrix = embedding_layer.weight.detach().cpu().numpy()\n",
    "\n",
    "all_embed_stats = compute_embed_stats(texts, embedding_matrix)\n",
    "test_embed_stats = compute_embed_stats(test_texts, embedding_matrix)\n",
    "\n",
    "X_all_raw = np.hstack([X_all_tfidf_reduced, all_embed_stats])\n",
    "X_test_raw = np.hstack([X_test_tfidf_reduced, test_embed_stats])\n",
    "\n",
    "scaler = StandardScaler()\n",
    "X_all_std = scaler.fit_transform(X_all_raw)\n",
    "X_test_std = scaler.transform(X_test_raw)\n",
    "\n",
    "# ========== Final MLP Training ==========\n",
    "X_train_tensor = torch.tensor(X_all_std, dtype=torch.float32)\n",
    "y_train = torch.tensor(labels, dtype=torch.float32)\n",
    "X_test_tensor = torch.tensor(X_test_std, dtype=torch.float32)\n",
    "\n",
    "train_dataset = TensorDataset(X_train_tensor, y_train)\n",
    "train_loader = DataLoader(train_dataset, batch_size=64, sampler=create_weighted_sampler(domains, labels))\n",
    "test_loader = DataLoader(TensorDataset(X_test_tensor), batch_size=64)\n",
    "\n",
    "mlp_model = MLPClassifier(input_dim=X_train_tensor.shape[1], hidden_dim=256, dropout=0.5).to(device)\n",
    "optimizer = torch.optim.Adam(mlp_model.parameters(), lr=1e-3)\n",
    "pos_weight = torch.tensor([(y_train == 0).sum() / (y_train == 1).sum()], device=device)\n",
    "criterion = nn.BCEWithLogitsLoss(pos_weight=pos_weight)\n",
    "\n",
    "for epoch in range(1, 7):\n",
    "    mlp_model.train()\n",
    "    total_loss = 0\n",
    "    for X_batch, y_batch in train_loader:\n",
    "        X_batch, y_batch = X_batch.to(device), y_batch.to(device)\n",
    "        optimizer.zero_grad()\n",
    "        logits = mlp_model(X_batch)\n",
    "        loss = criterion(logits, y_batch)\n",
    "        loss.backward()\n",
    "        optimizer.step()\n",
    "        total_loss += loss.item()\n",
    "    print(f\"Epoch {epoch} — Train Loss: {total_loss / len(train_loader):.4f}\")\n",
    "\n",
    "# ========== Test Prediction ==========\n",
    "mlp_model.eval()\n",
    "test_preds, test_probs = [], []\n",
    "\n",
    "with torch.no_grad():\n",
    "    for (X_batch,) in tqdm(test_loader, desc=\"Predicting\"):\n",
    "        X_batch = X_batch.to(device)\n",
    "        logits = mlp_model(X_batch)\n",
    "        probs = torch.sigmoid(logits)\n",
    "        preds = (probs >= 0.5).int().cpu().numpy()\n",
    "        test_preds.extend(preds)\n",
    "        test_probs.extend(probs.cpu().numpy())\n",
    "\n",
    "results_df = pd.DataFrame({\n",
    "    \"id\": list(range(len(test_preds))),\n",
    "    \"label\": test_preds,\n",
    "    \"confidence\": test_probs\n",
    "})\n",
    "\n",
    "results_df.to_csv(\"mlp_full_test_predictions.csv\", index=False)\n",
    "results_df[[\"id\", \"label\"]].to_csv(\"mlp_submission.csv\", index=False)\n",
    "print(\"Saved submission\")"
   ]
  },
  {
   "cell_type": "markdown",
   "id": "4c1c8cea-9aa3-4207-8870-6222dc865d85",
   "metadata": {},
   "source": [
    "# Ensemble Model Practice"
   ]
  },
  {
   "cell_type": "code",
   "execution_count": 88,
   "id": "f0d2c635-3442-4661-aa40-6e5ac6585ae6",
   "metadata": {},
   "outputs": [
    {
     "name": "stderr",
     "output_type": "stream",
     "text": [
      "                                                          "
     ]
    },
    {
     "name": "stdout",
     "output_type": "stream",
     "text": [
      "Epoch 1 — Train Loss: 0.1843\n"
     ]
    },
    {
     "name": "stderr",
     "output_type": "stream",
     "text": [
      "                                                          "
     ]
    },
    {
     "name": "stdout",
     "output_type": "stream",
     "text": [
      "Epoch 2 — Train Loss: 0.0895\n"
     ]
    },
    {
     "name": "stderr",
     "output_type": "stream",
     "text": [
      "                                                          "
     ]
    },
    {
     "name": "stdout",
     "output_type": "stream",
     "text": [
      "Epoch 3 — Train Loss: 0.0460\n"
     ]
    },
    {
     "name": "stderr",
     "output_type": "stream",
     "text": [
      "                                                          "
     ]
    },
    {
     "name": "stdout",
     "output_type": "stream",
     "text": [
      "Epoch 4 — Train Loss: 0.0207\n"
     ]
    },
    {
     "name": "stderr",
     "output_type": "stream",
     "text": [
      "                                                          "
     ]
    },
    {
     "name": "stdout",
     "output_type": "stream",
     "text": [
      "Epoch 5 — Train Loss: 0.0160\n"
     ]
    },
    {
     "name": "stderr",
     "output_type": "stream",
     "text": [
      "                                                          "
     ]
    },
    {
     "name": "stdout",
     "output_type": "stream",
     "text": [
      "Epoch 1 — Train Loss: 0.1581\n"
     ]
    },
    {
     "name": "stderr",
     "output_type": "stream",
     "text": [
      "                                                          "
     ]
    },
    {
     "name": "stdout",
     "output_type": "stream",
     "text": [
      "Epoch 2 — Train Loss: 0.0818\n"
     ]
    },
    {
     "name": "stderr",
     "output_type": "stream",
     "text": [
      "                                                          "
     ]
    },
    {
     "name": "stdout",
     "output_type": "stream",
     "text": [
      "Epoch 3 — Train Loss: 0.0530\n"
     ]
    },
    {
     "name": "stderr",
     "output_type": "stream",
     "text": [
      "                                                          "
     ]
    },
    {
     "name": "stdout",
     "output_type": "stream",
     "text": [
      "Epoch 4 — Train Loss: 0.0420\n"
     ]
    },
    {
     "name": "stderr",
     "output_type": "stream",
     "text": [
      "                                                             "
     ]
    }
   ],
   "source": [
    "# Training BiLSTM\n",
    "bilstm_final_config = {\n",
    "    \"hidden_dim\": 128,\n",
    "    \"num_layers\": 1,\n",
    "    \"dropout\": 0.5,\n",
    "    \"lr\": 0.0005,\n",
    "    \"batch_size\": 32,\n",
    "    \"epochs\": 5\n",
    "}\n",
    "\n",
    "bilstm_final_model = BiLSTMClassifier(\n",
    "    vocab_size=17120,\n",
    "    hidden_dim=bilstm_final_config[\"hidden_dim\"],\n",
    "    num_layers=bilstm_final_config[\"num_layers\"],\n",
    "    dropout=bilstm_final_config[\"dropout\"]\n",
    ")\n",
    "\n",
    "train_loader = DataLoader(train_dataset, batch_size=bilstm_final_config[\"batch_size\"], sampler=train_sampler)\n",
    "train(bilstm_final_model, train_loader, epochs=bilstm_final_config[\"epochs\"], lr=bilstm_final_config[\"lr\"], device=device)\n",
    "\n",
    "# Training CNN\n",
    "cnn_final_config = {\n",
    "    'embedding_dim': 128,\n",
    "    'num_filters': 50,\n",
    "    'filter_sizes': (2, 3, 4),\n",
    "    'dropout': 0.5,\n",
    "    'lr': 0.001,\n",
    "    'batch_size':32\n",
    "}\n",
    "\n",
    "cnn_final_model = CNNTextClassifier(\n",
    "    vocab_size=17120,\n",
    "    embedding_dim=cnn_final_config['embedding_dim'],\n",
    "    num_filters=cnn_final_config['num_filters'],\n",
    "    filter_sizes=cnn_final_config['filter_sizes'],\n",
    "    dropout=cnn_final_config['dropout']\n",
    ")\n",
    "\n",
    "train_loader_final = DataLoader(train_dataset, batch_size=cnn_final_config[\"batch_size\"], sampler=train_sampler)\n",
    "train(cnn_final_model, train_loader_final, epochs=4, lr=cnn_final_config[\"lr\"], device=device)\n",
    "\n",
    "# Predict on validation set to train simple logistic regression ensemble classifier\n",
    "\n",
    "bilstm_val_preds, bilstm_val_probs = predict_with_confidence(bilstm_final_model, val_loader, device=device)\n",
    "cnn_val_preds, cnn_val_probs = predict_with_confidence(cnn_final_model, val_loader, device=device)\n",
    "\n",
    "X_meta = np.vstack([bilstm_val_probs, cnn_val_probs]).T\n",
    "y_meta = np.array(val_labels)\n",
    "\n",
    "meta_clf = LogisticRegression()\n",
    "meta_clf.fit(X_meta, y_meta)\n",
    "\n",
    "# Predict on test set\n",
    "\n",
    "bilstm_test_preds, bilstm_test_probs = predict_with_confidence(bilstm_final_model, test_loader, device=device)\n",
    "cnn_test_preds, cnn_test_probs = predict_with_confidence(cnn_final_model, test_loader, device=device)\n",
    "\n",
    "X_test_meta = np.vstack([bilstm_test_probs, cnn_test_probs]).T\n",
    "ensemble_preds = meta_clf.predict(X_test_meta)\n",
    "ensemble_results_df = pd.DataFrame({\n",
    "    \"id\": list(range(len(ensemble_preds))),\n",
    "    \"label\": ensemble_preds.astype(int)\n",
    "})\n",
    "ensemble_results_df.to_csv(\"submission_ensemble.csv\", index=False)"
   ]
  }
 ],
 "metadata": {
  "kernelspec": {
   "display_name": "Python 3 (ipykernel)",
   "language": "python",
   "name": "python3"
  },
  "language_info": {
   "codemirror_mode": {
    "name": "ipython",
    "version": 3
   },
   "file_extension": ".py",
   "mimetype": "text/x-python",
   "name": "python",
   "nbconvert_exporter": "python",
   "pygments_lexer": "ipython3",
   "version": "3.9.21"
  }
 },
 "nbformat": 4,
 "nbformat_minor": 5
}
